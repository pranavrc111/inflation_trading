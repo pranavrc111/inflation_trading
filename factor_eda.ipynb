{
 "cells": [
  {
   "cell_type": "code",
   "execution_count": 1,
   "metadata": {},
   "outputs": [],
   "source": [
    "import pandas as pd\n",
    "import numpy as np\n",
    "import matplotlib.pyplot as plt\n",
    "import seaborn as sns\n",
    "import os\n",
    "import sys\n",
    "import warnings\n",
    "from datetime import timedelta\n",
    "from pandas.tseries.offsets import MonthEnd\n",
    "import statsmodels.api as sm\n",
    "\n",
    "import plotly.express as px\n",
    "import plotly.graph_objects as go"
   ]
  },
  {
   "cell_type": "code",
   "execution_count": 2,
   "metadata": {},
   "outputs": [],
   "source": [
    "def get_cpi():\n",
    "    cpi = pd.read_excel('data/CPIAUCSL (1).xls')\n",
    "    #cpi = pd.read_csv(\"T5YIE.csv\")\n",
    "    cpi.columns = [\"date\", 'CPI']\n",
    "    cpi[\"date\"] = pd.to_datetime(cpi[\"date\"]) - timedelta(days=1)\n",
    "    return cpi\n",
    "\n",
    "def get_stocks():\n",
    "    stocks = pd.read_csv(\"data/stocks.csv\")\n",
    "    stocks[\"MthCalDt\"] = pd.to_datetime(stocks[\"MthCalDt\"])\n",
    "    return stocks\n",
    "\n",
    "\n",
    "def merge_cpi_stock(stocks, cpi):\n",
    "    merged = pd.merge(stocks, cpi, how=\"left\", left_on=\"MthCalDt\", right_on=\"date\")\n",
    "    return merged"
   ]
  },
  {
   "cell_type": "code",
   "execution_count": 3,
   "metadata": {},
   "outputs": [],
   "source": [
    "# get factors\n",
    "def get_factors():\n",
    "\n",
    "    ff_factors = pd.read_csv(\"data/ff_factors.csv\")\n",
    "    ff_factor_mom = pd.read_csv(\"data/ff_factor_umd.csv\")\n",
    "    ff_factors.rename({\"Unnamed: 0\": \"date\"}, axis=1, inplace=True)\n",
    "    ff_factor_mom.rename({\"Unnamed: 0\": \"date\", \"Mom\":\"UMD\"}, axis=1, inplace=True)\n",
    "    ff_factor_mom.rename({\"Unnamed: 0\": \"date\", \"Mom   \":\"UMD\"}, axis=1, inplace=True)\n",
    "    ff_factors = ff_factors.merge(ff_factor_mom, how=\"left\", on=\"date\")\n",
    "    \n",
    "    ff_factors[\"date\"] = pd.to_datetime(ff_factors[\"date\"], format=\"%Y%m\")\n",
    "    ff_factors[\"date\"] += MonthEnd(0)\n",
    "\n",
    "\n",
    "    return ff_factors"
   ]
  },
  {
   "cell_type": "code",
   "execution_count": 4,
   "metadata": {},
   "outputs": [],
   "source": [
    "def bin_inflation_regimes(merged):\n",
    "    merged[\"Inflation\"] = pd.cut(merged[\"CPI\"],[-10, 0,1,3,20], labels=[\"deflation\",\"low\", \"mid\", \"high\"])\n",
    "    return merged"
   ]
  },
  {
   "cell_type": "code",
   "execution_count": 5,
   "metadata": {},
   "outputs": [],
   "source": [
    "def get_company(merged, permno):\n",
    "    comp = merged[merged[\"PERMNO\"] == permno][[\"MthCalDt\",\"MthRet\"]]\n",
    "    comp = comp.drop_duplicates(subset=\"MthCalDt\", keep=\"first\")\n",
    "    comp = comp.set_index(\"MthCalDt\")\n",
    "    comp.index = comp.index + MonthEnd(0)\n",
    "\n",
    "    return comp"
   ]
  },
  {
   "cell_type": "code",
   "execution_count": 6,
   "metadata": {},
   "outputs": [],
   "source": [
    "def prep_reg(ff_factors, comp, remove_factors = []):\n",
    "    removed_cols = [\"RF\"] + remove_factors\n",
    "    X = ff_factors[[x for x in ff_factors.columns if not x in removed_cols]].set_index(\"date\")\n",
    "    comp[\"Excess Return\"] = comp[\"MthRet\"] - ff_factors.set_index(\"date\")[\"RF\"]\n",
    "    y = comp['Excess Return']\n",
    "\n",
    "    # get indies that are the same between X and y\n",
    "    indies_X = X.index.intersection(y.index)\n",
    "\n",
    "    indies_y = y.index.intersection(X.index)\n",
    "\n",
    "    indies = indies_X.intersection(indies_y)\n",
    "\n",
    "    # save those rows\n",
    "    X = X.loc[indies]\n",
    "    y = y.loc[indies]\n",
    "    \n",
    "    y = y * 100\n",
    "    \n",
    "    return X, y"
   ]
  },
  {
   "cell_type": "code",
   "execution_count": 7,
   "metadata": {},
   "outputs": [],
   "source": [
    "def run_reg(X, y):\n",
    "    X = sm.add_constant(X)\n",
    "    model = sm.OLS(y, X)\n",
    "    results = model.fit()\n",
    "    results.summary()\n",
    "    return results.params[1:]"
   ]
  },
  {
   "cell_type": "code",
   "execution_count": 8,
   "metadata": {},
   "outputs": [],
   "source": [
    "cpi = get_cpi()"
   ]
  },
  {
   "cell_type": "code",
   "execution_count": 9,
   "metadata": {},
   "outputs": [
    {
     "name": "stderr",
     "output_type": "stream",
     "text": [
      "/var/folders/m6/h9jtrhyn259fytxp6j9xh9v00000gn/T/ipykernel_36952/1925934932.py:9: DtypeWarning: Columns (7) have mixed types. Specify dtype option on import or set low_memory=False.\n",
      "  stocks = pd.read_csv(\"data/stocks.csv\")\n"
     ]
    }
   ],
   "source": [
    "stocks = get_stocks()\n",
    "merged = merge_cpi_stock(stocks, cpi)\n",
    "merged = bin_inflation_regimes(merged)\n",
    "ff_factors = get_factors()\n"
   ]
  },
  {
   "cell_type": "code",
   "execution_count": 10,
   "metadata": {},
   "outputs": [],
   "source": [
    "from tqdm import tqdm"
   ]
  },
  {
   "cell_type": "code",
   "execution_count": 11,
   "metadata": {},
   "outputs": [
    {
     "name": "stderr",
     "output_type": "stream",
     "text": [
      "100%|██████████| 36144/36144 [07:45<00:00, 77.65it/s] \n"
     ]
    }
   ],
   "source": [
    "# for each perno, get the excess return and run a regression\n",
    "# save the betas\n",
    "beta_dict = {}\n",
    "for permno in tqdm(merged[\"PERMNO\"].unique()):\n",
    "    # supress warnings\n",
    "    with warnings.catch_warnings():\n",
    "        warnings.filterwarnings(\"ignore\")\n",
    "        try:\n",
    "            comp = get_company(merged, permno)\n",
    "            if len(comp) < 12:\n",
    "                continue\n",
    "            X, y = prep_reg(ff_factors, comp)\n",
    "            \n",
    "            if (X.shape[0] < 2) or (y.shape[0] < 2):\n",
    "                continue\n",
    "            \n",
    "            beta_dict[permno] = run_reg(X, y).values\n",
    "        except ValueError:\n",
    "            print(\"ValueError for permno: \", permno)\n",
    "            break"
   ]
  },
  {
   "cell_type": "code",
   "execution_count": null,
   "metadata": {},
   "outputs": [],
   "source": []
  },
  {
   "cell_type": "code",
   "execution_count": 12,
   "metadata": {},
   "outputs": [],
   "source": [
    "betas = pd.DataFrame(beta_dict).T\n",
    "betas.columns = X.columns"
   ]
  },
  {
   "cell_type": "code",
   "execution_count": 13,
   "metadata": {},
   "outputs": [],
   "source": [
    "betas.reset_index(inplace=True)"
   ]
  },
  {
   "cell_type": "code",
   "execution_count": 14,
   "metadata": {},
   "outputs": [],
   "source": [
    "betas.rename({\"index\": \"PERMNO\"}, axis=1, inplace=True)"
   ]
  },
  {
   "cell_type": "code",
   "execution_count": 15,
   "metadata": {},
   "outputs": [
    {
     "data": {
      "text/html": [
       "<div>\n",
       "<style scoped>\n",
       "    .dataframe tbody tr th:only-of-type {\n",
       "        vertical-align: middle;\n",
       "    }\n",
       "\n",
       "    .dataframe tbody tr th {\n",
       "        vertical-align: top;\n",
       "    }\n",
       "\n",
       "    .dataframe thead th {\n",
       "        text-align: right;\n",
       "    }\n",
       "</style>\n",
       "<table border=\"1\" class=\"dataframe\">\n",
       "  <thead>\n",
       "    <tr style=\"text-align: right;\">\n",
       "      <th></th>\n",
       "      <th>PERMNO</th>\n",
       "      <th>Mkt-RF</th>\n",
       "      <th>SMB</th>\n",
       "      <th>HML</th>\n",
       "      <th>RMW</th>\n",
       "      <th>CMA</th>\n",
       "      <th>UMD</th>\n",
       "    </tr>\n",
       "  </thead>\n",
       "  <tbody>\n",
       "    <tr>\n",
       "      <th>0</th>\n",
       "      <td>10000</td>\n",
       "      <td>-0.756132</td>\n",
       "      <td>4.886128</td>\n",
       "      <td>2.610467</td>\n",
       "      <td>-4.477707</td>\n",
       "      <td>-6.509955</td>\n",
       "      <td>2.379360</td>\n",
       "    </tr>\n",
       "    <tr>\n",
       "      <th>1</th>\n",
       "      <td>10001</td>\n",
       "      <td>-0.075395</td>\n",
       "      <td>0.755356</td>\n",
       "      <td>0.056853</td>\n",
       "      <td>-0.232516</td>\n",
       "      <td>-0.337785</td>\n",
       "      <td>-0.559832</td>\n",
       "    </tr>\n",
       "    <tr>\n",
       "      <th>2</th>\n",
       "      <td>10002</td>\n",
       "      <td>0.122566</td>\n",
       "      <td>1.525182</td>\n",
       "      <td>1.142493</td>\n",
       "      <td>0.362636</td>\n",
       "      <td>-0.274842</td>\n",
       "      <td>-0.423107</td>\n",
       "    </tr>\n",
       "    <tr>\n",
       "      <th>3</th>\n",
       "      <td>10003</td>\n",
       "      <td>1.495267</td>\n",
       "      <td>5.543331</td>\n",
       "      <td>6.463190</td>\n",
       "      <td>0.181900</td>\n",
       "      <td>-1.655064</td>\n",
       "      <td>-0.263197</td>\n",
       "    </tr>\n",
       "    <tr>\n",
       "      <th>4</th>\n",
       "      <td>10005</td>\n",
       "      <td>1.327231</td>\n",
       "      <td>1.341277</td>\n",
       "      <td>-4.967922</td>\n",
       "      <td>-2.374611</td>\n",
       "      <td>8.207193</td>\n",
       "      <td>-3.695720</td>\n",
       "    </tr>\n",
       "    <tr>\n",
       "      <th>...</th>\n",
       "      <td>...</td>\n",
       "      <td>...</td>\n",
       "      <td>...</td>\n",
       "      <td>...</td>\n",
       "      <td>...</td>\n",
       "      <td>...</td>\n",
       "      <td>...</td>\n",
       "    </tr>\n",
       "    <tr>\n",
       "      <th>33488</th>\n",
       "      <td>93432</td>\n",
       "      <td>-0.589409</td>\n",
       "      <td>-6.024435</td>\n",
       "      <td>-4.946234</td>\n",
       "      <td>-11.587453</td>\n",
       "      <td>2.367807</td>\n",
       "      <td>5.060635</td>\n",
       "    </tr>\n",
       "    <tr>\n",
       "      <th>33489</th>\n",
       "      <td>93433</td>\n",
       "      <td>1.468938</td>\n",
       "      <td>-8.192412</td>\n",
       "      <td>2.555918</td>\n",
       "      <td>-1.553371</td>\n",
       "      <td>-9.722839</td>\n",
       "      <td>-8.709984</td>\n",
       "    </tr>\n",
       "    <tr>\n",
       "      <th>33490</th>\n",
       "      <td>93434</td>\n",
       "      <td>0.510665</td>\n",
       "      <td>0.281969</td>\n",
       "      <td>0.925659</td>\n",
       "      <td>-0.328132</td>\n",
       "      <td>-1.017246</td>\n",
       "      <td>-0.014302</td>\n",
       "    </tr>\n",
       "    <tr>\n",
       "      <th>33491</th>\n",
       "      <td>93435</td>\n",
       "      <td>2.138985</td>\n",
       "      <td>-0.872100</td>\n",
       "      <td>7.780030</td>\n",
       "      <td>-2.168000</td>\n",
       "      <td>-12.013305</td>\n",
       "      <td>0.983280</td>\n",
       "    </tr>\n",
       "    <tr>\n",
       "      <th>33492</th>\n",
       "      <td>93436</td>\n",
       "      <td>1.618719</td>\n",
       "      <td>0.671217</td>\n",
       "      <td>-0.466917</td>\n",
       "      <td>0.088321</td>\n",
       "      <td>-0.293579</td>\n",
       "      <td>0.224282</td>\n",
       "    </tr>\n",
       "  </tbody>\n",
       "</table>\n",
       "<p>33493 rows × 7 columns</p>\n",
       "</div>"
      ],
      "text/plain": [
       "       PERMNO    Mkt-RF       SMB       HML        RMW        CMA       UMD\n",
       "0       10000 -0.756132  4.886128  2.610467  -4.477707  -6.509955  2.379360\n",
       "1       10001 -0.075395  0.755356  0.056853  -0.232516  -0.337785 -0.559832\n",
       "2       10002  0.122566  1.525182  1.142493   0.362636  -0.274842 -0.423107\n",
       "3       10003  1.495267  5.543331  6.463190   0.181900  -1.655064 -0.263197\n",
       "4       10005  1.327231  1.341277 -4.967922  -2.374611   8.207193 -3.695720\n",
       "...       ...       ...       ...       ...        ...        ...       ...\n",
       "33488   93432 -0.589409 -6.024435 -4.946234 -11.587453   2.367807  5.060635\n",
       "33489   93433  1.468938 -8.192412  2.555918  -1.553371  -9.722839 -8.709984\n",
       "33490   93434  0.510665  0.281969  0.925659  -0.328132  -1.017246 -0.014302\n",
       "33491   93435  2.138985 -0.872100  7.780030  -2.168000 -12.013305  0.983280\n",
       "33492   93436  1.618719  0.671217 -0.466917   0.088321  -0.293579  0.224282\n",
       "\n",
       "[33493 rows x 7 columns]"
      ]
     },
     "execution_count": 15,
     "metadata": {},
     "output_type": "execute_result"
    }
   ],
   "source": [
    "betas"
   ]
  },
  {
   "cell_type": "code",
   "execution_count": 16,
   "metadata": {},
   "outputs": [],
   "source": [
    "betas = betas.dropna()"
   ]
  },
  {
   "cell_type": "code",
   "execution_count": 17,
   "metadata": {},
   "outputs": [],
   "source": [
    "merged_factors = pd.merge(merged, betas, how=\"inner\", on=\"PERMNO\")"
   ]
  },
  {
   "cell_type": "code",
   "execution_count": 18,
   "metadata": {},
   "outputs": [
    {
     "data": {
      "text/plain": [
       "PERMNO               0\n",
       "PrimaryExch          0\n",
       "SecurityNm           0\n",
       "Ticker            6067\n",
       "SICCD                0\n",
       "ICBIndustry          0\n",
       "MthCalDt             0\n",
       "MthPrc             212\n",
       "MthRet             241\n",
       "MthVol          247495\n",
       "ShrOut           25372\n",
       "date           1210457\n",
       "CPI            1210457\n",
       "Inflation      1210457\n",
       "Mkt-RF               0\n",
       "SMB                  0\n",
       "HML                  0\n",
       "RMW                  0\n",
       "CMA                  0\n",
       "UMD                  0\n",
       "dtype: int64"
      ]
     },
     "execution_count": 18,
     "metadata": {},
     "output_type": "execute_result"
    }
   ],
   "source": [
    "merged_factors.isna().sum()"
   ]
  },
  {
   "cell_type": "code",
   "execution_count": 19,
   "metadata": {},
   "outputs": [
    {
     "data": {
      "text/plain": [
       "Inflation\n",
       "deflation     30\n",
       "low           40\n",
       "mid          266\n",
       "high         291\n",
       "Name: MthCalDt, dtype: int64"
      ]
     },
     "execution_count": 19,
     "metadata": {},
     "output_type": "execute_result"
    }
   ],
   "source": [
    "merged.groupby(\"Inflation\")[\"MthCalDt\"].nunique()"
   ]
  },
  {
   "cell_type": "code",
   "execution_count": 20,
   "metadata": {},
   "outputs": [],
   "source": [
    "# create 4 dataframes, one for each inflation regime\n",
    "deflated = merged_factors[merged_factors[\"Inflation\"] == \"deflation\"].copy().dropna(subset=[\"MthRet\"])\n",
    "low = merged_factors[merged_factors[\"Inflation\"] == \"low\"].copy().dropna(subset=[\"MthRet\"])\n",
    "mid = merged_factors[merged_factors[\"Inflation\"] == \"mid\"].copy().dropna(subset=[\"MthRet\"])\n",
    "high = merged_factors[merged_factors[\"Inflation\"] == \"high\"].copy().dropna(subset=[\"MthRet\"])"
   ]
  },
  {
   "cell_type": "code",
   "execution_count": null,
   "metadata": {},
   "outputs": [],
   "source": []
  },
  {
   "cell_type": "markdown",
   "metadata": {},
   "source": [
    "{deflation: {mkt-rf: (x, y)} }"
   ]
  },
  {
   "cell_type": "code",
   "execution_count": 21,
   "metadata": {},
   "outputs": [],
   "source": [
    "X_factors = [\"Mkt-RF\",\"SMB\",\"HML\",\"RMW\",\"CMA\",\"UMD\"]\n",
    "y_returns = [\"MthRet\"]\n",
    "\n",
    "regimes_names = [\"deflated\", \"low\", \"mid\", \"high\"]\n",
    "\n",
    "regimes = [deflated, low, mid, high]\n",
    "\n",
    "regime_betas = {}\n",
    "\n",
    "for regime_i in range(len(regimes)):\n",
    "    regime = regimes[regime_i]\n",
    "    regime_name = regimes_names[regime_i]\n",
    "    factor_betas = {}\n",
    "    X = regime[X_factors]\n",
    "    y = regime[y_returns]\n",
    "    \n",
    "    X = sm.add_constant(X)\n",
    "    model = sm.OLS(y, X)\n",
    "    results = model.fit()\n",
    "    results.summary()\n",
    "    \n",
    "    for factor in X_factors:\n",
    "        regime_betas[(regime_name, factor)] = (results.params[factor], results.tvalues[factor])\n",
    "    \n"
   ]
  },
  {
   "cell_type": "code",
   "execution_count": 22,
   "metadata": {},
   "outputs": [],
   "source": [
    "# dict to pandas dataframe multiindex\n",
    "regime_df = pd.DataFrame(regime_betas).T\n",
    "regime_df.columns = [\"beta\", \"t-stat\"]"
   ]
  },
  {
   "cell_type": "code",
   "execution_count": 23,
   "metadata": {},
   "outputs": [
    {
     "data": {
      "text/html": [
       "<div>\n",
       "<style scoped>\n",
       "    .dataframe tbody tr th:only-of-type {\n",
       "        vertical-align: middle;\n",
       "    }\n",
       "\n",
       "    .dataframe tbody tr th {\n",
       "        vertical-align: top;\n",
       "    }\n",
       "\n",
       "    .dataframe thead th {\n",
       "        text-align: right;\n",
       "    }\n",
       "</style>\n",
       "<table border=\"1\" class=\"dataframe\">\n",
       "  <thead>\n",
       "    <tr style=\"text-align: right;\">\n",
       "      <th></th>\n",
       "      <th></th>\n",
       "      <th>beta</th>\n",
       "      <th>t-stat</th>\n",
       "    </tr>\n",
       "  </thead>\n",
       "  <tbody>\n",
       "    <tr>\n",
       "      <th rowspan=\"6\" valign=\"top\">deflated</th>\n",
       "      <th>Mkt-RF</th>\n",
       "      <td>0.027513</td>\n",
       "      <td>25.232717</td>\n",
       "    </tr>\n",
       "    <tr>\n",
       "      <th>SMB</th>\n",
       "      <td>0.013895</td>\n",
       "      <td>17.819043</td>\n",
       "    </tr>\n",
       "    <tr>\n",
       "      <th>HML</th>\n",
       "      <td>0.008972</td>\n",
       "      <td>11.215949</td>\n",
       "    </tr>\n",
       "    <tr>\n",
       "      <th>RMW</th>\n",
       "      <td>-0.014248</td>\n",
       "      <td>-24.432908</td>\n",
       "    </tr>\n",
       "    <tr>\n",
       "      <th>CMA</th>\n",
       "      <td>-0.001330</td>\n",
       "      <td>-2.144096</td>\n",
       "    </tr>\n",
       "    <tr>\n",
       "      <th>UMD</th>\n",
       "      <td>-0.024670</td>\n",
       "      <td>-25.182939</td>\n",
       "    </tr>\n",
       "    <tr>\n",
       "      <th rowspan=\"6\" valign=\"top\">low</th>\n",
       "      <th>Mkt-RF</th>\n",
       "      <td>-0.003758</td>\n",
       "      <td>-5.445915</td>\n",
       "    </tr>\n",
       "    <tr>\n",
       "      <th>SMB</th>\n",
       "      <td>-0.002557</td>\n",
       "      <td>-4.929982</td>\n",
       "    </tr>\n",
       "    <tr>\n",
       "      <th>HML</th>\n",
       "      <td>-0.006227</td>\n",
       "      <td>-11.690011</td>\n",
       "    </tr>\n",
       "    <tr>\n",
       "      <th>RMW</th>\n",
       "      <td>0.002511</td>\n",
       "      <td>6.605378</td>\n",
       "    </tr>\n",
       "    <tr>\n",
       "      <th>CMA</th>\n",
       "      <td>-0.002031</td>\n",
       "      <td>-4.904954</td>\n",
       "    </tr>\n",
       "    <tr>\n",
       "      <th>UMD</th>\n",
       "      <td>0.003260</td>\n",
       "      <td>5.886096</td>\n",
       "    </tr>\n",
       "    <tr>\n",
       "      <th rowspan=\"6\" valign=\"top\">mid</th>\n",
       "      <th>Mkt-RF</th>\n",
       "      <td>0.006310</td>\n",
       "      <td>32.530717</td>\n",
       "    </tr>\n",
       "    <tr>\n",
       "      <th>SMB</th>\n",
       "      <td>0.003149</td>\n",
       "      <td>22.999878</td>\n",
       "    </tr>\n",
       "    <tr>\n",
       "      <th>HML</th>\n",
       "      <td>-0.002200</td>\n",
       "      <td>-17.800633</td>\n",
       "    </tr>\n",
       "    <tr>\n",
       "      <th>RMW</th>\n",
       "      <td>-0.000655</td>\n",
       "      <td>-6.937320</td>\n",
       "    </tr>\n",
       "    <tr>\n",
       "      <th>CMA</th>\n",
       "      <td>-0.002192</td>\n",
       "      <td>-21.051523</td>\n",
       "    </tr>\n",
       "    <tr>\n",
       "      <th>UMD</th>\n",
       "      <td>0.002461</td>\n",
       "      <td>14.340779</td>\n",
       "    </tr>\n",
       "    <tr>\n",
       "      <th rowspan=\"6\" valign=\"top\">high</th>\n",
       "      <th>Mkt-RF</th>\n",
       "      <td>0.001599</td>\n",
       "      <td>7.913601</td>\n",
       "    </tr>\n",
       "    <tr>\n",
       "      <th>SMB</th>\n",
       "      <td>-0.000415</td>\n",
       "      <td>-3.420897</td>\n",
       "    </tr>\n",
       "    <tr>\n",
       "      <th>HML</th>\n",
       "      <td>-0.000853</td>\n",
       "      <td>-7.837741</td>\n",
       "    </tr>\n",
       "    <tr>\n",
       "      <th>RMW</th>\n",
       "      <td>0.000393</td>\n",
       "      <td>4.652132</td>\n",
       "    </tr>\n",
       "    <tr>\n",
       "      <th>CMA</th>\n",
       "      <td>-0.000856</td>\n",
       "      <td>-9.773791</td>\n",
       "    </tr>\n",
       "    <tr>\n",
       "      <th>UMD</th>\n",
       "      <td>0.001297</td>\n",
       "      <td>7.583793</td>\n",
       "    </tr>\n",
       "  </tbody>\n",
       "</table>\n",
       "</div>"
      ],
      "text/plain": [
       "                     beta     t-stat\n",
       "deflated Mkt-RF  0.027513  25.232717\n",
       "         SMB     0.013895  17.819043\n",
       "         HML     0.008972  11.215949\n",
       "         RMW    -0.014248 -24.432908\n",
       "         CMA    -0.001330  -2.144096\n",
       "         UMD    -0.024670 -25.182939\n",
       "low      Mkt-RF -0.003758  -5.445915\n",
       "         SMB    -0.002557  -4.929982\n",
       "         HML    -0.006227 -11.690011\n",
       "         RMW     0.002511   6.605378\n",
       "         CMA    -0.002031  -4.904954\n",
       "         UMD     0.003260   5.886096\n",
       "mid      Mkt-RF  0.006310  32.530717\n",
       "         SMB     0.003149  22.999878\n",
       "         HML    -0.002200 -17.800633\n",
       "         RMW    -0.000655  -6.937320\n",
       "         CMA    -0.002192 -21.051523\n",
       "         UMD     0.002461  14.340779\n",
       "high     Mkt-RF  0.001599   7.913601\n",
       "         SMB    -0.000415  -3.420897\n",
       "         HML    -0.000853  -7.837741\n",
       "         RMW     0.000393   4.652132\n",
       "         CMA    -0.000856  -9.773791\n",
       "         UMD     0.001297   7.583793"
      ]
     },
     "execution_count": 23,
     "metadata": {},
     "output_type": "execute_result"
    }
   ],
   "source": [
    "regime_df"
   ]
  },
  {
   "cell_type": "code",
   "execution_count": 24,
   "metadata": {},
   "outputs": [
    {
     "data": {
      "text/plain": [
       "<AxesSubplot:>"
      ]
     },
     "execution_count": 24,
     "metadata": {},
     "output_type": "execute_result"
    },
    {
     "data": {
      "image/png": "[encoded data removed]",
      "text/plain": [
       "<Figure size 432x288 with 1 Axes>"
      ]
     },
     "metadata": {
      "needs_background": "light"
     },
     "output_type": "display_data"
    }
   ],
   "source": [
    "regime_df.unstack(level=0)['beta'].plot(\n",
    "    kind='bar'\n",
    ")"
   ]
  },
  {
   "cell_type": "code",
   "execution_count": 25,
   "metadata": {},
   "outputs": [
    {
     "data": {
      "text/plain": [
       "MultiIndex([('deflated', 'Mkt-RF'),\n",
       "            ('deflated',    'SMB'),\n",
       "            ('deflated',    'HML'),\n",
       "            ('deflated',    'RMW'),\n",
       "            ('deflated',    'CMA'),\n",
       "            ('deflated',    'UMD'),\n",
       "            (     'low', 'Mkt-RF'),\n",
       "            (     'low',    'SMB'),\n",
       "            (     'low',    'HML'),\n",
       "            (     'low',    'RMW'),\n",
       "            (     'low',    'CMA'),\n",
       "            (     'low',    'UMD'),\n",
       "            (     'mid', 'Mkt-RF'),\n",
       "            (     'mid',    'SMB'),\n",
       "            (     'mid',    'HML'),\n",
       "            (     'mid',    'RMW'),\n",
       "            (     'mid',    'CMA'),\n",
       "            (     'mid',    'UMD'),\n",
       "            (    'high', 'Mkt-RF'),\n",
       "            (    'high',    'SMB'),\n",
       "            (    'high',    'HML'),\n",
       "            (    'high',    'RMW'),\n",
       "            (    'high',    'CMA'),\n",
       "            (    'high',    'UMD')],\n",
       "           )"
      ]
     },
     "execution_count": 25,
     "metadata": {},
     "output_type": "execute_result"
    }
   ],
   "source": [
    "regime_df.index"
   ]
  },
  {
   "cell_type": "code",
   "execution_count": 26,
   "metadata": {},
   "outputs": [],
   "source": [
    "regime_df_non_multi = regime_df.reset_index().rename({\"level_0\": \"regime\", \"level_1\": \"factor\"}, axis=1)"
   ]
  },
  {
   "cell_type": "code",
   "execution_count": 27,
   "metadata": {},
   "outputs": [
    {
     "data": {
      "text/html": [
       "<div>\n",
       "<style scoped>\n",
       "    .dataframe tbody tr th:only-of-type {\n",
       "        vertical-align: middle;\n",
       "    }\n",
       "\n",
       "    .dataframe tbody tr th {\n",
       "        vertical-align: top;\n",
       "    }\n",
       "\n",
       "    .dataframe thead th {\n",
       "        text-align: right;\n",
       "    }\n",
       "</style>\n",
       "<table border=\"1\" class=\"dataframe\">\n",
       "  <thead>\n",
       "    <tr style=\"text-align: right;\">\n",
       "      <th></th>\n",
       "      <th>regime</th>\n",
       "      <th>factor</th>\n",
       "      <th>beta</th>\n",
       "      <th>t-stat</th>\n",
       "    </tr>\n",
       "  </thead>\n",
       "  <tbody>\n",
       "    <tr>\n",
       "      <th>0</th>\n",
       "      <td>deflated</td>\n",
       "      <td>Mkt-RF</td>\n",
       "      <td>0.027513</td>\n",
       "      <td>25.232717</td>\n",
       "    </tr>\n",
       "    <tr>\n",
       "      <th>1</th>\n",
       "      <td>deflated</td>\n",
       "      <td>SMB</td>\n",
       "      <td>0.013895</td>\n",
       "      <td>17.819043</td>\n",
       "    </tr>\n",
       "    <tr>\n",
       "      <th>2</th>\n",
       "      <td>deflated</td>\n",
       "      <td>HML</td>\n",
       "      <td>0.008972</td>\n",
       "      <td>11.215949</td>\n",
       "    </tr>\n",
       "    <tr>\n",
       "      <th>3</th>\n",
       "      <td>deflated</td>\n",
       "      <td>RMW</td>\n",
       "      <td>-0.014248</td>\n",
       "      <td>-24.432908</td>\n",
       "    </tr>\n",
       "    <tr>\n",
       "      <th>4</th>\n",
       "      <td>deflated</td>\n",
       "      <td>CMA</td>\n",
       "      <td>-0.001330</td>\n",
       "      <td>-2.144096</td>\n",
       "    </tr>\n",
       "    <tr>\n",
       "      <th>5</th>\n",
       "      <td>deflated</td>\n",
       "      <td>UMD</td>\n",
       "      <td>-0.024670</td>\n",
       "      <td>-25.182939</td>\n",
       "    </tr>\n",
       "    <tr>\n",
       "      <th>6</th>\n",
       "      <td>low</td>\n",
       "      <td>Mkt-RF</td>\n",
       "      <td>-0.003758</td>\n",
       "      <td>-5.445915</td>\n",
       "    </tr>\n",
       "    <tr>\n",
       "      <th>7</th>\n",
       "      <td>low</td>\n",
       "      <td>SMB</td>\n",
       "      <td>-0.002557</td>\n",
       "      <td>-4.929982</td>\n",
       "    </tr>\n",
       "    <tr>\n",
       "      <th>8</th>\n",
       "      <td>low</td>\n",
       "      <td>HML</td>\n",
       "      <td>-0.006227</td>\n",
       "      <td>-11.690011</td>\n",
       "    </tr>\n",
       "    <tr>\n",
       "      <th>9</th>\n",
       "      <td>low</td>\n",
       "      <td>RMW</td>\n",
       "      <td>0.002511</td>\n",
       "      <td>6.605378</td>\n",
       "    </tr>\n",
       "    <tr>\n",
       "      <th>10</th>\n",
       "      <td>low</td>\n",
       "      <td>CMA</td>\n",
       "      <td>-0.002031</td>\n",
       "      <td>-4.904954</td>\n",
       "    </tr>\n",
       "    <tr>\n",
       "      <th>11</th>\n",
       "      <td>low</td>\n",
       "      <td>UMD</td>\n",
       "      <td>0.003260</td>\n",
       "      <td>5.886096</td>\n",
       "    </tr>\n",
       "    <tr>\n",
       "      <th>12</th>\n",
       "      <td>mid</td>\n",
       "      <td>Mkt-RF</td>\n",
       "      <td>0.006310</td>\n",
       "      <td>32.530717</td>\n",
       "    </tr>\n",
       "    <tr>\n",
       "      <th>13</th>\n",
       "      <td>mid</td>\n",
       "      <td>SMB</td>\n",
       "      <td>0.003149</td>\n",
       "      <td>22.999878</td>\n",
       "    </tr>\n",
       "    <tr>\n",
       "      <th>14</th>\n",
       "      <td>mid</td>\n",
       "      <td>HML</td>\n",
       "      <td>-0.002200</td>\n",
       "      <td>-17.800633</td>\n",
       "    </tr>\n",
       "    <tr>\n",
       "      <th>15</th>\n",
       "      <td>mid</td>\n",
       "      <td>RMW</td>\n",
       "      <td>-0.000655</td>\n",
       "      <td>-6.937320</td>\n",
       "    </tr>\n",
       "    <tr>\n",
       "      <th>16</th>\n",
       "      <td>mid</td>\n",
       "      <td>CMA</td>\n",
       "      <td>-0.002192</td>\n",
       "      <td>-21.051523</td>\n",
       "    </tr>\n",
       "    <tr>\n",
       "      <th>17</th>\n",
       "      <td>mid</td>\n",
       "      <td>UMD</td>\n",
       "      <td>0.002461</td>\n",
       "      <td>14.340779</td>\n",
       "    </tr>\n",
       "    <tr>\n",
       "      <th>18</th>\n",
       "      <td>high</td>\n",
       "      <td>Mkt-RF</td>\n",
       "      <td>0.001599</td>\n",
       "      <td>7.913601</td>\n",
       "    </tr>\n",
       "    <tr>\n",
       "      <th>19</th>\n",
       "      <td>high</td>\n",
       "      <td>SMB</td>\n",
       "      <td>-0.000415</td>\n",
       "      <td>-3.420897</td>\n",
       "    </tr>\n",
       "    <tr>\n",
       "      <th>20</th>\n",
       "      <td>high</td>\n",
       "      <td>HML</td>\n",
       "      <td>-0.000853</td>\n",
       "      <td>-7.837741</td>\n",
       "    </tr>\n",
       "    <tr>\n",
       "      <th>21</th>\n",
       "      <td>high</td>\n",
       "      <td>RMW</td>\n",
       "      <td>0.000393</td>\n",
       "      <td>4.652132</td>\n",
       "    </tr>\n",
       "    <tr>\n",
       "      <th>22</th>\n",
       "      <td>high</td>\n",
       "      <td>CMA</td>\n",
       "      <td>-0.000856</td>\n",
       "      <td>-9.773791</td>\n",
       "    </tr>\n",
       "    <tr>\n",
       "      <th>23</th>\n",
       "      <td>high</td>\n",
       "      <td>UMD</td>\n",
       "      <td>0.001297</td>\n",
       "      <td>7.583793</td>\n",
       "    </tr>\n",
       "  </tbody>\n",
       "</table>\n",
       "</div>"
      ],
      "text/plain": [
       "      regime  factor      beta     t-stat\n",
       "0   deflated  Mkt-RF  0.027513  25.232717\n",
       "1   deflated     SMB  0.013895  17.819043\n",
       "2   deflated     HML  0.008972  11.215949\n",
       "3   deflated     RMW -0.014248 -24.432908\n",
       "4   deflated     CMA -0.001330  -2.144096\n",
       "5   deflated     UMD -0.024670 -25.182939\n",
       "6        low  Mkt-RF -0.003758  -5.445915\n",
       "7        low     SMB -0.002557  -4.929982\n",
       "8        low     HML -0.006227 -11.690011\n",
       "9        low     RMW  0.002511   6.605378\n",
       "10       low     CMA -0.002031  -4.904954\n",
       "11       low     UMD  0.003260   5.886096\n",
       "12       mid  Mkt-RF  0.006310  32.530717\n",
       "13       mid     SMB  0.003149  22.999878\n",
       "14       mid     HML -0.002200 -17.800633\n",
       "15       mid     RMW -0.000655  -6.937320\n",
       "16       mid     CMA -0.002192 -21.051523\n",
       "17       mid     UMD  0.002461  14.340779\n",
       "18      high  Mkt-RF  0.001599   7.913601\n",
       "19      high     SMB -0.000415  -3.420897\n",
       "20      high     HML -0.000853  -7.837741\n",
       "21      high     RMW  0.000393   4.652132\n",
       "22      high     CMA -0.000856  -9.773791\n",
       "23      high     UMD  0.001297   7.583793"
      ]
     },
     "execution_count": 27,
     "metadata": {},
     "output_type": "execute_result"
    }
   ],
   "source": [
    "regime_df_non_multi"
   ]
  },
  {
   "cell_type": "code",
   "execution_count": 28,
   "metadata": {},
   "outputs": [
    {
     "data": {
      "text/plain": [
       "0     0.027513\n",
       "1     0.013895\n",
       "2     0.008972\n",
       "3    -0.014248\n",
       "4    -0.001330\n",
       "5    -0.024670\n",
       "6    -0.003758\n",
       "7    -0.002557\n",
       "8    -0.006227\n",
       "9     0.002511\n",
       "10   -0.002031\n",
       "11    0.003260\n",
       "12    0.006310\n",
       "13    0.003149\n",
       "14   -0.002200\n",
       "15   -0.000655\n",
       "16   -0.002192\n",
       "17    0.002461\n",
       "18    0.001599\n",
       "19   -0.000415\n",
       "20   -0.000853\n",
       "21    0.000393\n",
       "22   -0.000856\n",
       "23    0.001297\n",
       "Name: beta, dtype: float64"
      ]
     },
     "execution_count": 28,
     "metadata": {},
     "output_type": "execute_result"
    }
   ],
   "source": [
    "regime_df_non_multi[\"beta\"]"
   ]
  },
  {
   "cell_type": "code",
   "execution_count": 29,
   "metadata": {},
   "outputs": [
    {
     "data": {
      "text/html": [
       "<div>\n",
       "<style scoped>\n",
       "    .dataframe tbody tr th:only-of-type {\n",
       "        vertical-align: middle;\n",
       "    }\n",
       "\n",
       "    .dataframe tbody tr th {\n",
       "        vertical-align: top;\n",
       "    }\n",
       "\n",
       "    .dataframe thead th {\n",
       "        text-align: right;\n",
       "    }\n",
       "</style>\n",
       "<table border=\"1\" class=\"dataframe\">\n",
       "  <thead>\n",
       "    <tr style=\"text-align: right;\">\n",
       "      <th></th>\n",
       "      <th>regime</th>\n",
       "      <th>factor</th>\n",
       "      <th>beta</th>\n",
       "      <th>t-stat</th>\n",
       "    </tr>\n",
       "  </thead>\n",
       "  <tbody>\n",
       "    <tr>\n",
       "      <th>0</th>\n",
       "      <td>deflated</td>\n",
       "      <td>Mkt-RF</td>\n",
       "      <td>0.027513</td>\n",
       "      <td>25.232717</td>\n",
       "    </tr>\n",
       "    <tr>\n",
       "      <th>1</th>\n",
       "      <td>deflated</td>\n",
       "      <td>SMB</td>\n",
       "      <td>0.013895</td>\n",
       "      <td>17.819043</td>\n",
       "    </tr>\n",
       "    <tr>\n",
       "      <th>2</th>\n",
       "      <td>deflated</td>\n",
       "      <td>HML</td>\n",
       "      <td>0.008972</td>\n",
       "      <td>11.215949</td>\n",
       "    </tr>\n",
       "    <tr>\n",
       "      <th>3</th>\n",
       "      <td>deflated</td>\n",
       "      <td>RMW</td>\n",
       "      <td>-0.014248</td>\n",
       "      <td>-24.432908</td>\n",
       "    </tr>\n",
       "    <tr>\n",
       "      <th>4</th>\n",
       "      <td>deflated</td>\n",
       "      <td>CMA</td>\n",
       "      <td>-0.001330</td>\n",
       "      <td>-2.144096</td>\n",
       "    </tr>\n",
       "    <tr>\n",
       "      <th>5</th>\n",
       "      <td>deflated</td>\n",
       "      <td>UMD</td>\n",
       "      <td>-0.024670</td>\n",
       "      <td>-25.182939</td>\n",
       "    </tr>\n",
       "    <tr>\n",
       "      <th>6</th>\n",
       "      <td>low</td>\n",
       "      <td>Mkt-RF</td>\n",
       "      <td>-0.003758</td>\n",
       "      <td>-5.445915</td>\n",
       "    </tr>\n",
       "    <tr>\n",
       "      <th>7</th>\n",
       "      <td>low</td>\n",
       "      <td>SMB</td>\n",
       "      <td>-0.002557</td>\n",
       "      <td>-4.929982</td>\n",
       "    </tr>\n",
       "    <tr>\n",
       "      <th>8</th>\n",
       "      <td>low</td>\n",
       "      <td>HML</td>\n",
       "      <td>-0.006227</td>\n",
       "      <td>-11.690011</td>\n",
       "    </tr>\n",
       "    <tr>\n",
       "      <th>9</th>\n",
       "      <td>low</td>\n",
       "      <td>RMW</td>\n",
       "      <td>0.002511</td>\n",
       "      <td>6.605378</td>\n",
       "    </tr>\n",
       "    <tr>\n",
       "      <th>10</th>\n",
       "      <td>low</td>\n",
       "      <td>CMA</td>\n",
       "      <td>-0.002031</td>\n",
       "      <td>-4.904954</td>\n",
       "    </tr>\n",
       "    <tr>\n",
       "      <th>11</th>\n",
       "      <td>low</td>\n",
       "      <td>UMD</td>\n",
       "      <td>0.003260</td>\n",
       "      <td>5.886096</td>\n",
       "    </tr>\n",
       "    <tr>\n",
       "      <th>12</th>\n",
       "      <td>mid</td>\n",
       "      <td>Mkt-RF</td>\n",
       "      <td>0.006310</td>\n",
       "      <td>32.530717</td>\n",
       "    </tr>\n",
       "    <tr>\n",
       "      <th>13</th>\n",
       "      <td>mid</td>\n",
       "      <td>SMB</td>\n",
       "      <td>0.003149</td>\n",
       "      <td>22.999878</td>\n",
       "    </tr>\n",
       "    <tr>\n",
       "      <th>14</th>\n",
       "      <td>mid</td>\n",
       "      <td>HML</td>\n",
       "      <td>-0.002200</td>\n",
       "      <td>-17.800633</td>\n",
       "    </tr>\n",
       "    <tr>\n",
       "      <th>15</th>\n",
       "      <td>mid</td>\n",
       "      <td>RMW</td>\n",
       "      <td>-0.000655</td>\n",
       "      <td>-6.937320</td>\n",
       "    </tr>\n",
       "    <tr>\n",
       "      <th>16</th>\n",
       "      <td>mid</td>\n",
       "      <td>CMA</td>\n",
       "      <td>-0.002192</td>\n",
       "      <td>-21.051523</td>\n",
       "    </tr>\n",
       "    <tr>\n",
       "      <th>17</th>\n",
       "      <td>mid</td>\n",
       "      <td>UMD</td>\n",
       "      <td>0.002461</td>\n",
       "      <td>14.340779</td>\n",
       "    </tr>\n",
       "    <tr>\n",
       "      <th>18</th>\n",
       "      <td>high</td>\n",
       "      <td>Mkt-RF</td>\n",
       "      <td>0.001599</td>\n",
       "      <td>7.913601</td>\n",
       "    </tr>\n",
       "    <tr>\n",
       "      <th>19</th>\n",
       "      <td>high</td>\n",
       "      <td>SMB</td>\n",
       "      <td>-0.000415</td>\n",
       "      <td>-3.420897</td>\n",
       "    </tr>\n",
       "    <tr>\n",
       "      <th>20</th>\n",
       "      <td>high</td>\n",
       "      <td>HML</td>\n",
       "      <td>-0.000853</td>\n",
       "      <td>-7.837741</td>\n",
       "    </tr>\n",
       "    <tr>\n",
       "      <th>21</th>\n",
       "      <td>high</td>\n",
       "      <td>RMW</td>\n",
       "      <td>0.000393</td>\n",
       "      <td>4.652132</td>\n",
       "    </tr>\n",
       "    <tr>\n",
       "      <th>22</th>\n",
       "      <td>high</td>\n",
       "      <td>CMA</td>\n",
       "      <td>-0.000856</td>\n",
       "      <td>-9.773791</td>\n",
       "    </tr>\n",
       "    <tr>\n",
       "      <th>23</th>\n",
       "      <td>high</td>\n",
       "      <td>UMD</td>\n",
       "      <td>0.001297</td>\n",
       "      <td>7.583793</td>\n",
       "    </tr>\n",
       "  </tbody>\n",
       "</table>\n",
       "</div>"
      ],
      "text/plain": [
       "      regime  factor      beta     t-stat\n",
       "0   deflated  Mkt-RF  0.027513  25.232717\n",
       "1   deflated     SMB  0.013895  17.819043\n",
       "2   deflated     HML  0.008972  11.215949\n",
       "3   deflated     RMW -0.014248 -24.432908\n",
       "4   deflated     CMA -0.001330  -2.144096\n",
       "5   deflated     UMD -0.024670 -25.182939\n",
       "6        low  Mkt-RF -0.003758  -5.445915\n",
       "7        low     SMB -0.002557  -4.929982\n",
       "8        low     HML -0.006227 -11.690011\n",
       "9        low     RMW  0.002511   6.605378\n",
       "10       low     CMA -0.002031  -4.904954\n",
       "11       low     UMD  0.003260   5.886096\n",
       "12       mid  Mkt-RF  0.006310  32.530717\n",
       "13       mid     SMB  0.003149  22.999878\n",
       "14       mid     HML -0.002200 -17.800633\n",
       "15       mid     RMW -0.000655  -6.937320\n",
       "16       mid     CMA -0.002192 -21.051523\n",
       "17       mid     UMD  0.002461  14.340779\n",
       "18      high  Mkt-RF  0.001599   7.913601\n",
       "19      high     SMB -0.000415  -3.420897\n",
       "20      high     HML -0.000853  -7.837741\n",
       "21      high     RMW  0.000393   4.652132\n",
       "22      high     CMA -0.000856  -9.773791\n",
       "23      high     UMD  0.001297   7.583793"
      ]
     },
     "execution_count": 29,
     "metadata": {},
     "output_type": "execute_result"
    }
   ],
   "source": [
    "regime_df_non_multi"
   ]
  },
  {
   "cell_type": "code",
   "execution_count": 30,
   "metadata": {},
   "outputs": [
    {
     "data": {
      "application/vnd.plotly.v1+json": {
       "config": {
        "plotlyServerURL": "https://plot.ly"
       },
       "data": [
        {
         "alignmentgroup": "True",
         "hovertemplate": "regime=deflated<br>factor=%{x}<br>beta=%{y}<extra></extra>",
         "legendgroup": "deflated",
         "marker": {
          "color": "#636efa",
          "pattern": {
           "shape": ""
          }
         },
         "name": "deflated",
         "offsetgroup": "deflated",
         "orientation": "v",
         "showlegend": true,
         "textposition": "auto",
         "type": "bar",
         "x": [
          "Mkt-RF",
          "SMB",
          "HML",
          "RMW",
          "CMA",
          "UMD"
         ],
         "xaxis": "x",
         "y": [
          0.027513419946149142,
          0.013894901454854162,
          0.008972433639196628,
          -0.014248110240189885,
          -0.0013301805846918785,
          -0.02466966734428206
         ],
         "yaxis": "y"
        },
        {
         "alignmentgroup": "True",
         "hovertemplate": "regime=low<br>factor=%{x}<br>beta=%{y}<extra></extra>",
         "legendgroup": "low",
         "marker": {
          "color": "#EF553B",
          "pattern": {
           "shape": ""
          }
         },
         "name": "low",
         "offsetgroup": "low",
         "orientation": "v",
         "showlegend": true,
         "textposition": "auto",
         "type": "bar",
         "x": [
          "Mkt-RF",
          "SMB",
          "HML",
          "RMW",
          "CMA",
          "UMD"
         ],
         "xaxis": "x",
         "y": [
          -0.003758051938459208,
          -0.002557474120630424,
          -0.006226706554566174,
          0.0025109772011140895,
          -0.0020310183530233817,
          0.0032598801195011296
         ],
         "yaxis": "y"
        },
        {
         "alignmentgroup": "True",
         "hovertemplate": "regime=mid<br>factor=%{x}<br>beta=%{y}<extra></extra>",
         "legendgroup": "mid",
         "marker": {
          "color": "#00cc96",
          "pattern": {
           "shape": ""
          }
         },
         "name": "mid",
         "offsetgroup": "mid",
         "orientation": "v",
         "showlegend": true,
         "textposition": "auto",
         "type": "bar",
         "x": [
          "Mkt-RF",
          "SMB",
          "HML",
          "RMW",
          "CMA",
          "UMD"
         ],
         "xaxis": "x",
         "y": [
          0.0063098556836713995,
          0.0031488719870830925,
          -0.002200234363326632,
          -0.0006548263447860202,
          -0.0021915025891774548,
          0.0024611395902618197
         ],
         "yaxis": "y"
        },
        {
         "alignmentgroup": "True",
         "hovertemplate": "regime=high<br>factor=%{x}<br>beta=%{y}<extra></extra>",
         "legendgroup": "high",
         "marker": {
          "color": "#ab63fa",
          "pattern": {
           "shape": ""
          }
         },
         "name": "high",
         "offsetgroup": "high",
         "orientation": "v",
         "showlegend": true,
         "textposition": "auto",
         "type": "bar",
         "x": [
          "Mkt-RF",
          "SMB",
          "HML",
          "RMW",
          "CMA",
          "UMD"
         ],
         "xaxis": "x",
         "y": [
          0.0015994833120547413,
          -0.0004151422203636021,
          -0.0008525244726565672,
          0.0003930968129209687,
          -0.0008561739776306961,
          0.0012973677699554232
         ],
         "yaxis": "y"
        }
       ],
       "layout": {
        "barmode": "group",
        "legend": {
         "title": {
          "text": "regime"
         },
         "tracegroupgap": 0
        },
        "margin": {
         "t": 60
        },
        "template": {
         "data": {
          "bar": [
           {
            "error_x": {
             "color": "#2a3f5f"
            },
            "error_y": {
             "color": "#2a3f5f"
            },
            "marker": {
             "line": {
              "color": "#E5ECF6",
              "width": 0.5
             },
             "pattern": {
              "fillmode": "overlay",
              "size": 10,
              "solidity": 0.2
             }
            },
            "type": "bar"
           }
          ],
          "barpolar": [
           {
            "marker": {
             "line": {
              "color": "#E5ECF6",
              "width": 0.5
             },
             "pattern": {
              "fillmode": "overlay",
              "size": 10,
              "solidity": 0.2
             }
            },
            "type": "barpolar"
           }
          ],
          "carpet": [
           {
            "aaxis": {
             "endlinecolor": "#2a3f5f",
             "gridcolor": "white",
             "linecolor": "white",
             "minorgridcolor": "white",
             "startlinecolor": "#2a3f5f"
            },
            "baxis": {
             "endlinecolor": "#2a3f5f",
             "gridcolor": "white",
             "linecolor": "white",
             "minorgridcolor": "white",
             "startlinecolor": "#2a3f5f"
            },
            "type": "carpet"
           }
          ],
          "choropleth": [
           {
            "colorbar": {
             "outlinewidth": 0,
             "ticks": ""
            },
            "type": "choropleth"
           }
          ],
          "contour": [
           {
            "colorbar": {
             "outlinewidth": 0,
             "ticks": ""
            },
            "colorscale": [
             [
              0,
              "#0d0887"
             ],
             [
              0.1111111111111111,
              "#46039f"
             ],
             [
              0.2222222222222222,
              "#7201a8"
             ],
             [
              0.3333333333333333,
              "#9c179e"
             ],
             [
              0.4444444444444444,
              "#bd3786"
             ],
             [
              0.5555555555555556,
              "#d8576b"
             ],
             [
              0.6666666666666666,
              "#ed7953"
             ],
             [
              0.7777777777777778,
              "#fb9f3a"
             ],
             [
              0.8888888888888888,
              "#fdca26"
             ],
             [
              1,
              "#f0f921"
             ]
            ],
            "type": "contour"
           }
          ],
          "contourcarpet": [
           {
            "colorbar": {
             "outlinewidth": 0,
             "ticks": ""
            },
            "type": "contourcarpet"
           }
          ],
          "heatmap": [
           {
            "colorbar": {
             "outlinewidth": 0,
             "ticks": ""
            },
            "colorscale": [
             [
              0,
              "#0d0887"
             ],
             [
              0.1111111111111111,
              "#46039f"
             ],
             [
              0.2222222222222222,
              "#7201a8"
             ],
             [
              0.3333333333333333,
              "#9c179e"
             ],
             [
              0.4444444444444444,
              "#bd3786"
             ],
             [
              0.5555555555555556,
              "#d8576b"
             ],
             [
              0.6666666666666666,
              "#ed7953"
             ],
             [
              0.7777777777777778,
              "#fb9f3a"
             ],
             [
              0.8888888888888888,
              "#fdca26"
             ],
             [
              1,
              "#f0f921"
             ]
            ],
            "type": "heatmap"
           }
          ],
          "heatmapgl": [
           {
            "colorbar": {
             "outlinewidth": 0,
             "ticks": ""
            },
            "colorscale": [
             [
              0,
              "#0d0887"
             ],
             [
              0.1111111111111111,
              "#46039f"
             ],
             [
              0.2222222222222222,
              "#7201a8"
             ],
             [
              0.3333333333333333,
              "#9c179e"
             ],
             [
              0.4444444444444444,
              "#bd3786"
             ],
             [
              0.5555555555555556,
              "#d8576b"
             ],
             [
              0.6666666666666666,
              "#ed7953"
             ],
             [
              0.7777777777777778,
              "#fb9f3a"
             ],
             [
              0.8888888888888888,
              "#fdca26"
             ],
             [
              1,
              "#f0f921"
             ]
            ],
            "type": "heatmapgl"
           }
          ],
          "histogram": [
           {
            "marker": {
             "pattern": {
              "fillmode": "overlay",
              "size": 10,
              "solidity": 0.2
             }
            },
            "type": "histogram"
           }
          ],
          "histogram2d": [
           {
            "colorbar": {
             "outlinewidth": 0,
             "ticks": ""
            },
            "colorscale": [
             [
              0,
              "#0d0887"
             ],
             [
              0.1111111111111111,
              "#46039f"
             ],
             [
              0.2222222222222222,
              "#7201a8"
             ],
             [
              0.3333333333333333,
              "#9c179e"
             ],
             [
              0.4444444444444444,
              "#bd3786"
             ],
             [
              0.5555555555555556,
              "#d8576b"
             ],
             [
              0.6666666666666666,
              "#ed7953"
             ],
             [
              0.7777777777777778,
              "#fb9f3a"
             ],
             [
              0.8888888888888888,
              "#fdca26"
             ],
             [
              1,
              "#f0f921"
             ]
            ],
            "type": "histogram2d"
           }
          ],
          "histogram2dcontour": [
           {
            "colorbar": {
             "outlinewidth": 0,
             "ticks": ""
            },
            "colorscale": [
             [
              0,
              "#0d0887"
             ],
             [
              0.1111111111111111,
              "#46039f"
             ],
             [
              0.2222222222222222,
              "#7201a8"
             ],
             [
              0.3333333333333333,
              "#9c179e"
             ],
             [
              0.4444444444444444,
              "#bd3786"
             ],
             [
              0.5555555555555556,
              "#d8576b"
             ],
             [
              0.6666666666666666,
              "#ed7953"
             ],
             [
              0.7777777777777778,
              "#fb9f3a"
             ],
             [
              0.8888888888888888,
              "#fdca26"
             ],
             [
              1,
              "#f0f921"
             ]
            ],
            "type": "histogram2dcontour"
           }
          ],
          "mesh3d": [
           {
            "colorbar": {
             "outlinewidth": 0,
             "ticks": ""
            },
            "type": "mesh3d"
           }
          ],
          "parcoords": [
           {
            "line": {
             "colorbar": {
              "outlinewidth": 0,
              "ticks": ""
             }
            },
            "type": "parcoords"
           }
          ],
          "pie": [
           {
            "automargin": true,
            "type": "pie"
           }
          ],
          "scatter": [
           {
            "marker": {
             "colorbar": {
              "outlinewidth": 0,
              "ticks": ""
             }
            },
            "type": "scatter"
           }
          ],
          "scatter3d": [
           {
            "line": {
             "colorbar": {
              "outlinewidth": 0,
              "ticks": ""
             }
            },
            "marker": {
             "colorbar": {
              "outlinewidth": 0,
              "ticks": ""
             }
            },
            "type": "scatter3d"
           }
          ],
          "scattercarpet": [
           {
            "marker": {
             "colorbar": {
              "outlinewidth": 0,
              "ticks": ""
             }
            },
            "type": "scattercarpet"
           }
          ],
          "scattergeo": [
           {
            "marker": {
             "colorbar": {
              "outlinewidth": 0,
              "ticks": ""
             }
            },
            "type": "scattergeo"
           }
          ],
          "scattergl": [
           {
            "marker": {
             "colorbar": {
              "outlinewidth": 0,
              "ticks": ""
             }
            },
            "type": "scattergl"
           }
          ],
          "scattermapbox": [
           {
            "marker": {
             "colorbar": {
              "outlinewidth": 0,
              "ticks": ""
             }
            },
            "type": "scattermapbox"
           }
          ],
          "scatterpolar": [
           {
            "marker": {
             "colorbar": {
              "outlinewidth": 0,
              "ticks": ""
             }
            },
            "type": "scatterpolar"
           }
          ],
          "scatterpolargl": [
           {
            "marker": {
             "colorbar": {
              "outlinewidth": 0,
              "ticks": ""
             }
            },
            "type": "scatterpolargl"
           }
          ],
          "scatterternary": [
           {
            "marker": {
             "colorbar": {
              "outlinewidth": 0,
              "ticks": ""
             }
            },
            "type": "scatterternary"
           }
          ],
          "surface": [
           {
            "colorbar": {
             "outlinewidth": 0,
             "ticks": ""
            },
            "colorscale": [
             [
              0,
              "#0d0887"
             ],
             [
              0.1111111111111111,
              "#46039f"
             ],
             [
              0.2222222222222222,
              "#7201a8"
             ],
             [
              0.3333333333333333,
              "#9c179e"
             ],
             [
              0.4444444444444444,
              "#bd3786"
             ],
             [
              0.5555555555555556,
              "#d8576b"
             ],
             [
              0.6666666666666666,
              "#ed7953"
             ],
             [
              0.7777777777777778,
              "#fb9f3a"
             ],
             [
              0.8888888888888888,
              "#fdca26"
             ],
             [
              1,
              "#f0f921"
             ]
            ],
            "type": "surface"
           }
          ],
          "table": [
           {
            "cells": {
             "fill": {
              "color": "#EBF0F8"
             },
             "line": {
              "color": "white"
             }
            },
            "header": {
             "fill": {
              "color": "#C8D4E3"
             },
             "line": {
              "color": "white"
             }
            },
            "type": "table"
           }
          ]
         },
         "layout": {
          "annotationdefaults": {
           "arrowcolor": "#2a3f5f",
           "arrowhead": 0,
           "arrowwidth": 1
          },
          "autotypenumbers": "strict",
          "coloraxis": {
           "colorbar": {
            "outlinewidth": 0,
            "ticks": ""
           }
          },
          "colorscale": {
           "diverging": [
            [
             0,
             "#8e0152"
            ],
            [
             0.1,
             "#c51b7d"
            ],
            [
             0.2,
             "#de77ae"
            ],
            [
             0.3,
             "#f1b6da"
            ],
            [
             0.4,
             "#fde0ef"
            ],
            [
             0.5,
             "#f7f7f7"
            ],
            [
             0.6,
             "#e6f5d0"
            ],
            [
             0.7,
             "#b8e186"
            ],
            [
             0.8,
             "#7fbc41"
            ],
            [
             0.9,
             "#4d9221"
            ],
            [
             1,
             "#276419"
            ]
           ],
           "sequential": [
            [
             0,
             "#0d0887"
            ],
            [
             0.1111111111111111,
             "#46039f"
            ],
            [
             0.2222222222222222,
             "#7201a8"
            ],
            [
             0.3333333333333333,
             "#9c179e"
            ],
            [
             0.4444444444444444,
             "#bd3786"
            ],
            [
             0.5555555555555556,
             "#d8576b"
            ],
            [
             0.6666666666666666,
             "#ed7953"
            ],
            [
             0.7777777777777778,
             "#fb9f3a"
            ],
            [
             0.8888888888888888,
             "#fdca26"
            ],
            [
             1,
             "#f0f921"
            ]
           ],
           "sequentialminus": [
            [
             0,
             "#0d0887"
            ],
            [
             0.1111111111111111,
             "#46039f"
            ],
            [
             0.2222222222222222,
             "#7201a8"
            ],
            [
             0.3333333333333333,
             "#9c179e"
            ],
            [
             0.4444444444444444,
             "#bd3786"
            ],
            [
             0.5555555555555556,
             "#d8576b"
            ],
            [
             0.6666666666666666,
             "#ed7953"
            ],
            [
             0.7777777777777778,
             "#fb9f3a"
            ],
            [
             0.8888888888888888,
             "#fdca26"
            ],
            [
             1,
             "#f0f921"
            ]
           ]
          },
          "colorway": [
           "#636efa",
           "#EF553B",
           "#00cc96",
           "#ab63fa",
           "#FFA15A",
           "#19d3f3",
           "#FF6692",
           "#B6E880",
           "#FF97FF",
           "#FECB52"
          ],
          "font": {
           "color": "#2a3f5f"
          },
          "geo": {
           "bgcolor": "white",
           "lakecolor": "white",
           "landcolor": "#E5ECF6",
           "showlakes": true,
           "showland": true,
           "subunitcolor": "white"
          },
          "hoverlabel": {
           "align": "left"
          },
          "hovermode": "closest",
          "mapbox": {
           "style": "light"
          },
          "paper_bgcolor": "white",
          "plot_bgcolor": "#E5ECF6",
          "polar": {
           "angularaxis": {
            "gridcolor": "white",
            "linecolor": "white",
            "ticks": ""
           },
           "bgcolor": "#E5ECF6",
           "radialaxis": {
            "gridcolor": "white",
            "linecolor": "white",
            "ticks": ""
           }
          },
          "scene": {
           "xaxis": {
            "backgroundcolor": "#E5ECF6",
            "gridcolor": "white",
            "gridwidth": 2,
            "linecolor": "white",
            "showbackground": true,
            "ticks": "",
            "zerolinecolor": "white"
           },
           "yaxis": {
            "backgroundcolor": "#E5ECF6",
            "gridcolor": "white",
            "gridwidth": 2,
            "linecolor": "white",
            "showbackground": true,
            "ticks": "",
            "zerolinecolor": "white"
           },
           "zaxis": {
            "backgroundcolor": "#E5ECF6",
            "gridcolor": "white",
            "gridwidth": 2,
            "linecolor": "white",
            "showbackground": true,
            "ticks": "",
            "zerolinecolor": "white"
           }
          },
          "shapedefaults": {
           "line": {
            "color": "#2a3f5f"
           }
          },
          "ternary": {
           "aaxis": {
            "gridcolor": "white",
            "linecolor": "white",
            "ticks": ""
           },
           "baxis": {
            "gridcolor": "white",
            "linecolor": "white",
            "ticks": ""
           },
           "bgcolor": "#E5ECF6",
           "caxis": {
            "gridcolor": "white",
            "linecolor": "white",
            "ticks": ""
           }
          },
          "title": {
           "x": 0.05
          },
          "xaxis": {
           "automargin": true,
           "gridcolor": "white",
           "linecolor": "white",
           "ticks": "",
           "title": {
            "standoff": 15
           },
           "zerolinecolor": "white",
           "zerolinewidth": 2
          },
          "yaxis": {
           "automargin": true,
           "gridcolor": "white",
           "linecolor": "white",
           "ticks": "",
           "title": {
            "standoff": 15
           },
           "zerolinecolor": "white",
           "zerolinewidth": 2
          }
         }
        },
        "xaxis": {
         "anchor": "y",
         "domain": [
          0,
          1
         ],
         "title": {
          "text": "factor"
         }
        },
        "yaxis": {
         "anchor": "x",
         "domain": [
          0,
          1
         ],
         "title": {
          "text": "beta"
         }
        }
       }
      }
     },
     "metadata": {},
     "output_type": "display_data"
    }
   ],
   "source": [
    "# plot the betas using plotly plot grouped by factor and regime\n",
    "# make plot bigger\n",
    "\n",
    "import plotly.express as px\n",
    "\n",
    "fig = px.bar(regime_df_non_multi, x=\"factor\", y=\"beta\", color=\"regime\", barmode=\"group\")\n",
    "fig.show()"
   ]
  },
  {
   "cell_type": "code",
   "execution_count": null,
   "metadata": {},
   "outputs": [],
   "source": [
    "# data cleaning\n",
    "# verfiy results\n",
    "# rerun traditional model with lookahead\n",
    "# bin deflation and low?\n",
    "# long short top and bottom 25% of each factor\n",
    "# run regression on each factor individually"
   ]
  },
  {
   "cell_type": "code",
   "execution_count": null,
   "metadata": {},
   "outputs": [],
   "source": []
  },
  {
   "cell_type": "code",
   "execution_count": 279,
   "metadata": {},
   "outputs": [
    {
     "data": {
      "text/plain": [
       "<AxesSubplot:>"
      ]
     },
     "execution_count": 279,
     "metadata": {},
     "output_type": "execute_result"
    },
    {
     "data": {
      "image/png": "[encoded data removed]",
      "text/plain": [
       "<Figure size 432x288 with 1 Axes>"
      ]
     },
     "metadata": {
      "needs_background": "light"
     },
     "output_type": "display_data"
    }
   ],
   "source": [
    "regime_df.unstack(level=0)['t-stat'].plot(\n",
    "    kind='bar'\n",
    ")"
   ]
  },
  {
   "cell_type": "code",
   "execution_count": null,
   "metadata": {},
   "outputs": [],
   "source": []
  }
 ],
 "metadata": {
  "kernelspec": {
   "display_name": "Python 3.9.12 64-bit ('anaconda3')",
   "language": "python",
   "name": "python3"
  },
  "language_info": {
   "codemirror_mode": {
    "name": "ipython",
    "version": 3
   },
   "file_extension": ".py",
   "mimetype": "text/x-python",
   "name": "python",
   "nbconvert_exporter": "python",
   "pygments_lexer": "ipython3",
   "version": "3.9.12"
  },
  "orig_nbformat": 4,
  "vscode": {
   "interpreter": {
    "hash": "40d3a090f54c6569ab1632332b64b2c03c39dcf918b08424e98f38b5ae0af88f"
   }
  }
 },
 "nbformat": 4,
 "nbformat_minor": 2
}
