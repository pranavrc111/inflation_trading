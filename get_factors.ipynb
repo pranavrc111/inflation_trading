{
 "cells": [
  {
   "cell_type": "code",
   "execution_count": 85,
   "metadata": {},
   "outputs": [],
   "source": [
    "import pandas as pd\n",
    "import numpy as np\n",
    "import matplotlib.pyplot as plt\n",
    "import seaborn as sns\n",
    "import os\n",
    "import sys\n",
    "import warnings\n",
    "from datetime import timedelta\n",
    "from pandas.tseries.offsets import MonthEnd\n",
    "import statsmodels.api as sm\n",
    "#import ordered dicts\n",
    "from collections import OrderedDict\n",
    "import scipy.stats as stats\n",
    "import plotly.express as px\n",
    "import plotly.graph_objects as go\n",
    "from tqdm import tqdm\n",
    "import pickle"
   ]
  },
  {
   "cell_type": "code",
   "execution_count": 2,
   "metadata": {},
   "outputs": [],
   "source": [
    "#We have inflation factor for every company\n",
    "#Pick companies with t-stat > 2 or < -2\n",
    "#If inflation is going up, pick companies with beta > 0\n",
    "#If inflation is going down, pick companies with beta < 0\n",
    "#Sort companies by beta (How much they move with inflation)\n",
    "#Create quartiles of companies based on beta\n",
    "\n",
    "#Looking at date, and inflation prediction flip long/short based on direction of inflation"
   ]
  },
  {
   "cell_type": "code",
   "execution_count": 56,
   "metadata": {},
   "outputs": [],
   "source": [
    "def get_cpi():\n",
    "    cpi = pd.read_excel('data/CPIAUCSL (1).xls')\n",
    "    #cpi = pd.read_csv(\"T5YIE.csv\")\n",
    "    cpi.columns = [\"date\", 'CPI']\n",
    "    cpi[\"date\"] = pd.to_datetime(cpi[\"date\"]) - timedelta(days=1)\n",
    "    return cpi\n",
    "    \n",
    "\n",
    "def get_stocks():\n",
    "    stocks = pd.read_csv(\"data/comp_stocks.csv\")\n",
    "    stocks[\"datadate\"] = pd.to_datetime(stocks[\"datadate\"])\n",
    "    return stocks\n",
    "\n",
    "\n",
    "def merge_cpi_stock(stocks, cpi):\n",
    "    merged = pd.merge(stocks, cpi, how=\"left\", left_on=\"MthCalDt\", right_on=\"date\")\n",
    "    return merged\n",
    "\n",
    "def bin_inflation_regimes(cpi, labels = [\"deflation\",\"low\", \"mid\", \"high\"], bins = [-10, 0,1,3,20], value = \"CPI\", col = \"Inflation\"):\n",
    "    cpi[col] = pd.cut(cpi[value],bins, labels=labels)\n",
    "    return cpi\n",
    "\n",
    "\n",
    "def get_percent_change(cpi):\n",
    "    cpi[\"pct_change\"] = cpi[\"CPI\"].pct_change()\n",
    "    return cpi\n",
    "\n",
    "# get difference in inflation between two months\n",
    "def get_inflation_diff(cpi, col = \"CPI Diff\", value = \"CPI\"):\n",
    "    cpi[col] = cpi[value].diff()\n",
    "    return cpi\n",
    "\n",
    "def get_forecast():\n",
    "    forecast = pd.read_csv(\"data/forecast.csv\")\n",
    "    # string of quarters to months \n",
    "    forecast[\"date\"] = pd.to_datetime(forecast[\"TIME\"])\n",
    "    # sort by date\n",
    "    forecast = forecast.sort_values(by=\"date\")\n",
    "    # get duplicate rows in forecast\n",
    "    forecast[forecast.duplicated(subset=[\"date\"], keep=False)]\n",
    "    # forecast only for USA\n",
    "    forecast = forecast[forecast[\"LOCATION\"] == \"USA\"]\n",
    "\n",
    "    # remove columns that have same value for all rows\n",
    "    forecast = forecast.loc[:, forecast.apply(pd.Series.nunique) != 1]\n",
    "\n",
    "    # remove flag codes columns\n",
    "    forecast = forecast.loc[:, ~forecast.columns.str.contains('^Flag Codes')]\n",
    "    return forecast"
   ]
  },
  {
   "cell_type": "code",
   "execution_count": 57,
   "metadata": {},
   "outputs": [],
   "source": [
    "forecast = get_forecast()"
   ]
  },
  {
   "cell_type": "code",
   "execution_count": 58,
   "metadata": {},
   "outputs": [
    {
     "data": {
      "text/html": [
       "<div>\n",
       "<style scoped>\n",
       "    .dataframe tbody tr th:only-of-type {\n",
       "        vertical-align: middle;\n",
       "    }\n",
       "\n",
       "    .dataframe tbody tr th {\n",
       "        vertical-align: top;\n",
       "    }\n",
       "\n",
       "    .dataframe thead th {\n",
       "        text-align: right;\n",
       "    }\n",
       "</style>\n",
       "<table border=\"1\" class=\"dataframe\">\n",
       "  <thead>\n",
       "    <tr style=\"text-align: right;\">\n",
       "      <th></th>\n",
       "      <th>TIME</th>\n",
       "      <th>Value</th>\n",
       "      <th>date</th>\n",
       "    </tr>\n",
       "  </thead>\n",
       "  <tbody>\n",
       "    <tr>\n",
       "      <th>0</th>\n",
       "      <td>1961-Q1</td>\n",
       "      <td>1.508107</td>\n",
       "      <td>1961-01-01</td>\n",
       "    </tr>\n",
       "    <tr>\n",
       "      <th>1</th>\n",
       "      <td>1961-Q2</td>\n",
       "      <td>0.867899</td>\n",
       "      <td>1961-04-01</td>\n",
       "    </tr>\n",
       "    <tr>\n",
       "      <th>2</th>\n",
       "      <td>1961-Q3</td>\n",
       "      <td>1.205362</td>\n",
       "      <td>1961-07-01</td>\n",
       "    </tr>\n",
       "    <tr>\n",
       "      <th>3</th>\n",
       "      <td>1961-Q4</td>\n",
       "      <td>0.705171</td>\n",
       "      <td>1961-10-01</td>\n",
       "    </tr>\n",
       "    <tr>\n",
       "      <th>4</th>\n",
       "      <td>1962-Q1</td>\n",
       "      <td>0.893655</td>\n",
       "      <td>1962-01-01</td>\n",
       "    </tr>\n",
       "    <tr>\n",
       "      <th>...</th>\n",
       "      <td>...</td>\n",
       "      <td>...</td>\n",
       "      <td>...</td>\n",
       "    </tr>\n",
       "    <tr>\n",
       "      <th>251</th>\n",
       "      <td>2023-Q4</td>\n",
       "      <td>3.063185</td>\n",
       "      <td>2023-10-01</td>\n",
       "    </tr>\n",
       "    <tr>\n",
       "      <th>252</th>\n",
       "      <td>2024-Q1</td>\n",
       "      <td>2.833065</td>\n",
       "      <td>2024-01-01</td>\n",
       "    </tr>\n",
       "    <tr>\n",
       "      <th>253</th>\n",
       "      <td>2024-Q2</td>\n",
       "      <td>2.623820</td>\n",
       "      <td>2024-04-01</td>\n",
       "    </tr>\n",
       "    <tr>\n",
       "      <th>254</th>\n",
       "      <td>2024-Q3</td>\n",
       "      <td>2.475013</td>\n",
       "      <td>2024-07-01</td>\n",
       "    </tr>\n",
       "    <tr>\n",
       "      <th>255</th>\n",
       "      <td>2024-Q4</td>\n",
       "      <td>2.349925</td>\n",
       "      <td>2024-10-01</td>\n",
       "    </tr>\n",
       "  </tbody>\n",
       "</table>\n",
       "<p>256 rows × 3 columns</p>\n",
       "</div>"
      ],
      "text/plain": [
       "        TIME     Value       date\n",
       "0    1961-Q1  1.508107 1961-01-01\n",
       "1    1961-Q2  0.867899 1961-04-01\n",
       "2    1961-Q3  1.205362 1961-07-01\n",
       "3    1961-Q4  0.705171 1961-10-01\n",
       "4    1962-Q1  0.893655 1962-01-01\n",
       "..       ...       ...        ...\n",
       "251  2023-Q4  3.063185 2023-10-01\n",
       "252  2024-Q1  2.833065 2024-01-01\n",
       "253  2024-Q2  2.623820 2024-04-01\n",
       "254  2024-Q3  2.475013 2024-07-01\n",
       "255  2024-Q4  2.349925 2024-10-01\n",
       "\n",
       "[256 rows x 3 columns]"
      ]
     },
     "execution_count": 58,
     "metadata": {},
     "output_type": "execute_result"
    }
   ],
   "source": [
    "forecast"
   ]
  },
  {
   "cell_type": "code",
   "execution_count": 14,
   "metadata": {},
   "outputs": [],
   "source": [
    "cpi = get_cpi()\n",
    "cpi = get_inflation_diff(cpi)"
   ]
  },
  {
   "cell_type": "code",
   "execution_count": 15,
   "metadata": {},
   "outputs": [
    {
     "data": {
      "text/html": [
       "<div>\n",
       "<style scoped>\n",
       "    .dataframe tbody tr th:only-of-type {\n",
       "        vertical-align: middle;\n",
       "    }\n",
       "\n",
       "    .dataframe tbody tr th {\n",
       "        vertical-align: top;\n",
       "    }\n",
       "\n",
       "    .dataframe thead th {\n",
       "        text-align: right;\n",
       "    }\n",
       "</style>\n",
       "<table border=\"1\" class=\"dataframe\">\n",
       "  <thead>\n",
       "    <tr style=\"text-align: right;\">\n",
       "      <th></th>\n",
       "      <th>date</th>\n",
       "      <th>CPI</th>\n",
       "      <th>CPI Diff</th>\n",
       "    </tr>\n",
       "  </thead>\n",
       "  <tbody>\n",
       "    <tr>\n",
       "      <th>1</th>\n",
       "      <td>1948-01-31</td>\n",
       "      <td>9.48196</td>\n",
       "      <td>-0.76013</td>\n",
       "    </tr>\n",
       "    <tr>\n",
       "      <th>2</th>\n",
       "      <td>1948-02-29</td>\n",
       "      <td>6.81818</td>\n",
       "      <td>-2.66378</td>\n",
       "    </tr>\n",
       "    <tr>\n",
       "      <th>3</th>\n",
       "      <td>1948-03-31</td>\n",
       "      <td>8.27273</td>\n",
       "      <td>1.45455</td>\n",
       "    </tr>\n",
       "    <tr>\n",
       "      <th>4</th>\n",
       "      <td>1948-04-30</td>\n",
       "      <td>9.38497</td>\n",
       "      <td>1.11224</td>\n",
       "    </tr>\n",
       "    <tr>\n",
       "      <th>5</th>\n",
       "      <td>1948-05-31</td>\n",
       "      <td>9.37500</td>\n",
       "      <td>-0.00997</td>\n",
       "    </tr>\n",
       "    <tr>\n",
       "      <th>...</th>\n",
       "      <td>...</td>\n",
       "      <td>...</td>\n",
       "      <td>...</td>\n",
       "    </tr>\n",
       "    <tr>\n",
       "      <th>895</th>\n",
       "      <td>2022-07-31</td>\n",
       "      <td>8.22736</td>\n",
       "      <td>-0.18582</td>\n",
       "    </tr>\n",
       "    <tr>\n",
       "      <th>896</th>\n",
       "      <td>2022-08-31</td>\n",
       "      <td>8.21485</td>\n",
       "      <td>-0.01251</td>\n",
       "    </tr>\n",
       "    <tr>\n",
       "      <th>897</th>\n",
       "      <td>2022-09-30</td>\n",
       "      <td>7.76249</td>\n",
       "      <td>-0.45236</td>\n",
       "    </tr>\n",
       "    <tr>\n",
       "      <th>898</th>\n",
       "      <td>2022-10-31</td>\n",
       "      <td>7.13535</td>\n",
       "      <td>-0.62714</td>\n",
       "    </tr>\n",
       "    <tr>\n",
       "      <th>899</th>\n",
       "      <td>2022-11-30</td>\n",
       "      <td>6.44494</td>\n",
       "      <td>-0.69041</td>\n",
       "    </tr>\n",
       "  </tbody>\n",
       "</table>\n",
       "<p>899 rows × 3 columns</p>\n",
       "</div>"
      ],
      "text/plain": [
       "          date      CPI  CPI Diff\n",
       "1   1948-01-31  9.48196  -0.76013\n",
       "2   1948-02-29  6.81818  -2.66378\n",
       "3   1948-03-31  8.27273   1.45455\n",
       "4   1948-04-30  9.38497   1.11224\n",
       "5   1948-05-31  9.37500  -0.00997\n",
       "..         ...      ...       ...\n",
       "895 2022-07-31  8.22736  -0.18582\n",
       "896 2022-08-31  8.21485  -0.01251\n",
       "897 2022-09-30  7.76249  -0.45236\n",
       "898 2022-10-31  7.13535  -0.62714\n",
       "899 2022-11-30  6.44494  -0.69041\n",
       "\n",
       "[899 rows x 3 columns]"
      ]
     },
     "execution_count": 15,
     "metadata": {},
     "output_type": "execute_result"
    }
   ],
   "source": [
    "cpi.dropna()"
   ]
  },
  {
   "cell_type": "code",
   "execution_count": 70,
   "metadata": {},
   "outputs": [
    {
     "name": "stderr",
     "output_type": "stream",
     "text": [
      "/var/folders/m6/h9jtrhyn259fytxp6j9xh9v00000gn/T/ipykernel_80560/3777490750.py:10: DtypeWarning: Columns (1) have mixed types. Specify dtype option on import or set low_memory=False.\n",
      "  stocks = pd.read_csv(\"data/comp_stocks.csv\")\n"
     ]
    }
   ],
   "source": [
    "stocks = get_stocks()\n",
    "# remove stocks with above 500 trt1m\n",
    "stocks = stocks[stocks[\"trt1m\"] < 1000]\n",
    "\n",
    "# remove stocks with below -100 trt1m\n",
    "stocks = stocks[stocks[\"trt1m\"] > -100]\n",
    "# drop na gics\n",
    "stocks = stocks.dropna(subset=[\"ggroup\",\"gind\", \"gsector\", \"gsubind\"])\n",
    "# drop missing trt1m\n",
    "stocks = stocks.dropna(subset=[\"trt1m\"])\n",
    "\n",
    "# # drop stocks that have negative price\n",
    "# stocks = stocks[stocks[\"prccm\"] > 0]\n",
    "\n",
    "# stocks[\"cshoq\"] = stocks.groupby(\"gvkey\")[\"cshoq\"].ffill()\n",
    "\n",
    "# # drop stocks that have negative shares\n",
    "# stocks = stocks[stocks[\"cshoq\"] > 0]\n",
    "\n",
    "# # calculate market cap\n",
    "# stocks[\"market_cap\"] = stocks[\"prccm\"] * stocks[\"cshoq\"]\n",
    "# print(stocks.shape)\n",
    "\n",
    "# stocks[\"market_cap_shifted\"] = stocks.groupby(\"gvkey\")[\"market_cap\"].shift(1) "
   ]
  },
  {
   "cell_type": "code",
   "execution_count": 17,
   "metadata": {},
   "outputs": [
    {
     "data": {
      "text/plain": [
       "(6394616, 22)"
      ]
     },
     "execution_count": 17,
     "metadata": {},
     "output_type": "execute_result"
    }
   ],
   "source": [
    "stocks.shape"
   ]
  },
  {
   "cell_type": "code",
   "execution_count": 18,
   "metadata": {},
   "outputs": [],
   "source": [
    "# get factors\n",
    "def get_factors():\n",
    "\n",
    "    ff_factors = pd.read_csv(\"data/ff_factors.csv\")\n",
    "    ff_factor_mom = pd.read_csv(\"data/ff_factor_umd.csv\")\n",
    "    ff_factors.rename({\"Unnamed: 0\": \"date\"}, axis=1, inplace=True)\n",
    "    ff_factor_mom.rename({\"Unnamed: 0\": \"date\", \"Mom\":\"UMD\"}, axis=1, inplace=True)\n",
    "    ff_factor_mom.rename({\"Unnamed: 0\": \"date\", \"Mom   \":\"UMD\"}, axis=1, inplace=True)\n",
    "    ff_factors = ff_factors.merge(ff_factor_mom, how=\"left\", on=\"date\")\n",
    "    \n",
    "    ff_factors[\"date\"] = pd.to_datetime(ff_factors[\"date\"], format=\"%Y%m\")\n",
    "    ff_factors[\"date\"] += MonthEnd(0)\n",
    "\n",
    "\n",
    "    return ff_factors"
   ]
  },
  {
   "cell_type": "code",
   "execution_count": 90,
   "metadata": {},
   "outputs": [],
   "source": [
    "def get_company(stocks, gvkey, date):\n",
    "    comp = stocks[(stocks[\"gvkey\"] == gvkey) & (stocks[\"datadate\"] <= date)]\n",
    "    comp = comp.drop_duplicates(subset=\"datadate\", keep=\"first\")\n",
    "    comp = comp.set_index(\"datadate\")\n",
    "    comp.index = comp.index + MonthEnd(0)\n",
    "\n",
    "    return comp"
   ]
  },
  {
   "cell_type": "code",
   "execution_count": 104,
   "metadata": {},
   "outputs": [],
   "source": [
    "def prep_reg(factors, comp_data, reg_factors = [\"Mkt-RF\", \"SMB\", \"HML\", \"RMW\", \"CMA\", \"UMD\", \"CPI Diff\"]):\n",
    "    \n",
    "    \n",
    "    # add date to reg_factors\n",
    "    reg_factors = [\"date\"] + reg_factors\n",
    "\n",
    "    X = factors[reg_factors].set_index(\"date\")\n",
    "\n",
    "    comp_data[\"Excess Return\"] = comp_data[\"trt1m\"] - factors.set_index(\"date\")[\"RF\"]\n",
    "    y = comp_data['Excess Return']\n",
    "    \n",
    "\n",
    "    # get indies that are the same between X and y\n",
    "    indies_X = X.index.intersection(y.index)\n",
    "\n",
    "    indies_y = y.index.intersection(X.index)\n",
    "\n",
    "    indies = indies_X.intersection(indies_y)\n",
    "\n",
    "    # save those rows\n",
    "    X = X.loc[indies]\n",
    "    y = y.loc[indies]\n",
    "    \n",
    "    return X, y"
   ]
  },
  {
   "cell_type": "code",
   "execution_count": 83,
   "metadata": {},
   "outputs": [],
   "source": [
    "def run_reg(X, y):\n",
    "    X = sm.add_constant(X)\n",
    "    model = sm.OLS(y, X)\n",
    "    results = model.fit()\n",
    "    return results"
   ]
  },
  {
   "cell_type": "code",
   "execution_count": 22,
   "metadata": {},
   "outputs": [],
   "source": [
    "ff_factors = get_factors()"
   ]
  },
  {
   "cell_type": "code",
   "execution_count": 26,
   "metadata": {},
   "outputs": [],
   "source": [
    "factors = pd.merge(cpi, ff_factors, how=\"inner\", on=\"date\")"
   ]
  },
  {
   "cell_type": "code",
   "execution_count": null,
   "metadata": {},
   "outputs": [],
   "source": []
  },
  {
   "cell_type": "code",
   "execution_count": 71,
   "metadata": {},
   "outputs": [],
   "source": [
    "# stocks between 2005 and 2020\n",
    "stocks = stocks[stocks[\"datadate\"] > \"2004-06-01\"] # six months needed for regression\n",
    "stocks = stocks[stocks[\"datadate\"] < \"2022-01-01\"]"
   ]
  },
  {
   "cell_type": "code",
   "execution_count": 101,
   "metadata": {},
   "outputs": [
    {
     "data": {
      "text/html": [
       "<div>\n",
       "<style scoped>\n",
       "    .dataframe tbody tr th:only-of-type {\n",
       "        vertical-align: middle;\n",
       "    }\n",
       "\n",
       "    .dataframe tbody tr th {\n",
       "        vertical-align: top;\n",
       "    }\n",
       "\n",
       "    .dataframe thead th {\n",
       "        text-align: right;\n",
       "    }\n",
       "</style>\n",
       "<table border=\"1\" class=\"dataframe\">\n",
       "  <thead>\n",
       "    <tr style=\"text-align: right;\">\n",
       "      <th></th>\n",
       "      <th>date</th>\n",
       "      <th>CPI</th>\n",
       "      <th>CPI Diff</th>\n",
       "      <th>Mkt-RF</th>\n",
       "      <th>SMB</th>\n",
       "      <th>HML</th>\n",
       "      <th>RMW</th>\n",
       "      <th>CMA</th>\n",
       "      <th>RF</th>\n",
       "      <th>UMD</th>\n",
       "    </tr>\n",
       "  </thead>\n",
       "  <tbody>\n",
       "    <tr>\n",
       "      <th>0</th>\n",
       "      <td>1963-07-31</td>\n",
       "      <td>1.55218</td>\n",
       "      <td>-0.00308</td>\n",
       "      <td>-0.39</td>\n",
       "      <td>-0.41</td>\n",
       "      <td>-0.97</td>\n",
       "      <td>0.68</td>\n",
       "      <td>-1.18</td>\n",
       "      <td>0.27</td>\n",
       "      <td>0.90</td>\n",
       "    </tr>\n",
       "    <tr>\n",
       "      <th>1</th>\n",
       "      <td>1963-08-31</td>\n",
       "      <td>0.98619</td>\n",
       "      <td>-0.56599</td>\n",
       "      <td>5.07</td>\n",
       "      <td>-0.80</td>\n",
       "      <td>1.80</td>\n",
       "      <td>0.36</td>\n",
       "      <td>-0.35</td>\n",
       "      <td>0.25</td>\n",
       "      <td>1.01</td>\n",
       "    </tr>\n",
       "    <tr>\n",
       "      <th>2</th>\n",
       "      <td>1963-09-30</td>\n",
       "      <td>1.21791</td>\n",
       "      <td>0.23172</td>\n",
       "      <td>-1.57</td>\n",
       "      <td>-0.52</td>\n",
       "      <td>0.13</td>\n",
       "      <td>-0.71</td>\n",
       "      <td>0.29</td>\n",
       "      <td>0.27</td>\n",
       "      <td>0.19</td>\n",
       "    </tr>\n",
       "    <tr>\n",
       "      <th>3</th>\n",
       "      <td>1963-10-31</td>\n",
       "      <td>1.31666</td>\n",
       "      <td>0.09875</td>\n",
       "      <td>2.53</td>\n",
       "      <td>-1.39</td>\n",
       "      <td>-0.10</td>\n",
       "      <td>2.80</td>\n",
       "      <td>-2.01</td>\n",
       "      <td>0.29</td>\n",
       "      <td>3.12</td>\n",
       "    </tr>\n",
       "    <tr>\n",
       "      <th>4</th>\n",
       "      <td>1963-11-30</td>\n",
       "      <td>1.64582</td>\n",
       "      <td>0.32916</td>\n",
       "      <td>-0.85</td>\n",
       "      <td>-0.88</td>\n",
       "      <td>1.75</td>\n",
       "      <td>-0.51</td>\n",
       "      <td>2.24</td>\n",
       "      <td>0.27</td>\n",
       "      <td>-0.74</td>\n",
       "    </tr>\n",
       "    <tr>\n",
       "      <th>...</th>\n",
       "      <td>...</td>\n",
       "      <td>...</td>\n",
       "      <td>...</td>\n",
       "      <td>...</td>\n",
       "      <td>...</td>\n",
       "      <td>...</td>\n",
       "      <td>...</td>\n",
       "      <td>...</td>\n",
       "      <td>...</td>\n",
       "      <td>...</td>\n",
       "    </tr>\n",
       "    <tr>\n",
       "      <th>708</th>\n",
       "      <td>2022-07-31</td>\n",
       "      <td>8.22736</td>\n",
       "      <td>-0.18582</td>\n",
       "      <td>9.57</td>\n",
       "      <td>1.87</td>\n",
       "      <td>-4.10</td>\n",
       "      <td>0.68</td>\n",
       "      <td>-6.94</td>\n",
       "      <td>0.08</td>\n",
       "      <td>-3.96</td>\n",
       "    </tr>\n",
       "    <tr>\n",
       "      <th>709</th>\n",
       "      <td>2022-08-31</td>\n",
       "      <td>8.21485</td>\n",
       "      <td>-0.01251</td>\n",
       "      <td>-3.77</td>\n",
       "      <td>1.51</td>\n",
       "      <td>0.31</td>\n",
       "      <td>-4.80</td>\n",
       "      <td>1.30</td>\n",
       "      <td>0.19</td>\n",
       "      <td>2.10</td>\n",
       "    </tr>\n",
       "    <tr>\n",
       "      <th>710</th>\n",
       "      <td>2022-09-30</td>\n",
       "      <td>7.76249</td>\n",
       "      <td>-0.45236</td>\n",
       "      <td>-9.35</td>\n",
       "      <td>-1.00</td>\n",
       "      <td>0.03</td>\n",
       "      <td>-1.50</td>\n",
       "      <td>-0.85</td>\n",
       "      <td>0.19</td>\n",
       "      <td>3.48</td>\n",
       "    </tr>\n",
       "    <tr>\n",
       "      <th>711</th>\n",
       "      <td>2022-10-31</td>\n",
       "      <td>7.13535</td>\n",
       "      <td>-0.62714</td>\n",
       "      <td>7.83</td>\n",
       "      <td>1.87</td>\n",
       "      <td>8.05</td>\n",
       "      <td>3.07</td>\n",
       "      <td>6.56</td>\n",
       "      <td>0.23</td>\n",
       "      <td>3.89</td>\n",
       "    </tr>\n",
       "    <tr>\n",
       "      <th>712</th>\n",
       "      <td>2022-11-30</td>\n",
       "      <td>6.44494</td>\n",
       "      <td>-0.69041</td>\n",
       "      <td>4.60</td>\n",
       "      <td>-2.68</td>\n",
       "      <td>1.39</td>\n",
       "      <td>6.02</td>\n",
       "      <td>3.11</td>\n",
       "      <td>0.29</td>\n",
       "      <td>-2.01</td>\n",
       "    </tr>\n",
       "  </tbody>\n",
       "</table>\n",
       "<p>713 rows × 10 columns</p>\n",
       "</div>"
      ],
      "text/plain": [
       "          date      CPI  CPI Diff  Mkt-RF   SMB   HML   RMW   CMA    RF   UMD\n",
       "0   1963-07-31  1.55218  -0.00308   -0.39 -0.41 -0.97  0.68 -1.18  0.27  0.90\n",
       "1   1963-08-31  0.98619  -0.56599    5.07 -0.80  1.80  0.36 -0.35  0.25  1.01\n",
       "2   1963-09-30  1.21791   0.23172   -1.57 -0.52  0.13 -0.71  0.29  0.27  0.19\n",
       "3   1963-10-31  1.31666   0.09875    2.53 -1.39 -0.10  2.80 -2.01  0.29  3.12\n",
       "4   1963-11-30  1.64582   0.32916   -0.85 -0.88  1.75 -0.51  2.24  0.27 -0.74\n",
       "..         ...      ...       ...     ...   ...   ...   ...   ...   ...   ...\n",
       "708 2022-07-31  8.22736  -0.18582    9.57  1.87 -4.10  0.68 -6.94  0.08 -3.96\n",
       "709 2022-08-31  8.21485  -0.01251   -3.77  1.51  0.31 -4.80  1.30  0.19  2.10\n",
       "710 2022-09-30  7.76249  -0.45236   -9.35 -1.00  0.03 -1.50 -0.85  0.19  3.48\n",
       "711 2022-10-31  7.13535  -0.62714    7.83  1.87  8.05  3.07  6.56  0.23  3.89\n",
       "712 2022-11-30  6.44494  -0.69041    4.60 -2.68  1.39  6.02  3.11  0.29 -2.01\n",
       "\n",
       "[713 rows x 10 columns]"
      ]
     },
     "execution_count": 101,
     "metadata": {},
     "output_type": "execute_result"
    }
   ],
   "source": [
    "factors"
   ]
  },
  {
   "cell_type": "code",
   "execution_count": 68,
   "metadata": {},
   "outputs": [],
   "source": []
  },
  {
   "cell_type": "code",
   "execution_count": 73,
   "metadata": {},
   "outputs": [],
   "source": [
    "# get dates that have the 3, 6, 9 and 12 month as dates\n",
    "reconst_stock_dates = stocks[stocks[\"datadate\"].dt.month.isin([3,6,9,12])]"
   ]
  },
  {
   "cell_type": "code",
   "execution_count": 80,
   "metadata": {},
   "outputs": [],
   "source": [
    "gvkeys = reconst_stock_dates[\"gvkey\"].unique()"
   ]
  },
  {
   "cell_type": "code",
   "execution_count": 81,
   "metadata": {},
   "outputs": [],
   "source": [
    "dates_gvkeys = list(zip(reconst_stock_dates[\"datadate\"], reconst_stock_dates[\"gvkey\"]))"
   ]
  },
  {
   "cell_type": "code",
   "execution_count": 82,
   "metadata": {},
   "outputs": [
    {
     "data": {
      "text/plain": [
       "1035543"
      ]
     },
     "execution_count": 82,
     "metadata": {},
     "output_type": "execute_result"
    }
   ],
   "source": [
    "len(dates_gvkeys)"
   ]
  },
  {
   "cell_type": "code",
   "execution_count": null,
   "metadata": {},
   "outputs": [],
   "source": []
  },
  {
   "cell_type": "code",
   "execution_count": 145,
   "metadata": {},
   "outputs": [
    {
     "name": "stderr",
     "output_type": "stream",
     "text": [
      "100%|██████████| 1035543/1035543 [4:26:32<00:00, 64.75it/s]    \n"
     ]
    }
   ],
   "source": [
    "# save the betas\n",
    "ff_factors = get_factors()\n",
    "\n",
    "beta_dict = {}\n",
    "t_dict = {}\n",
    "\n",
    "for company in tqdm(dates_gvkeys):\n",
    "\n",
    "    date = company[0]\n",
    "    gvkey = company[1]\n",
    "\n",
    "    # supress warnings\n",
    "    with warnings.catch_warnings():\n",
    "        warnings.filterwarnings(\"ignore\")\n",
    "        try:\n",
    "            company_data = get_company(stocks, gvkey, date)\n",
    "\n",
    "            if len(company_data) < 6:\n",
    "                continue\n",
    "\n",
    "            X, y = prep_reg(factors, company_data)\n",
    "            \n",
    "            \n",
    "            if (X.shape[0] < 2) or (y.shape[0] < 2):\n",
    "                continue\n",
    "                    \n",
    "            reg_results = run_reg(X, y)\n",
    "            \n",
    "            # save betas and t stats\n",
    "            beta_dict[company] = reg_results.params.to_dict()\n",
    "            t_dict[company] = reg_results.tvalues.to_dict()\n",
    "                        \n",
    "\n",
    "            # save dict to a file every 10000 iterations using pickle not json\n",
    "            if len(beta_dict) % 10000 == 0:\n",
    "                with open('beta_dict_w_factors.pickle', 'wb') as f:\n",
    "                # Pickle the 'data' dictionary using the highest protocol available.\n",
    "                    pickle.dump(beta_dict, f, pickle.HIGHEST_PROTOCOL)            \n",
    "                    \n",
    "                   \n",
    "   \n",
    "        except ValueError:\n",
    "            print(\"ValueError for gvkey: \", company)\n",
    "            break\n",
    "    "
   ]
  },
  {
   "cell_type": "code",
   "execution_count": 146,
   "metadata": {},
   "outputs": [],
   "source": [
    "beta_df = pd.DataFrame.from_dict(beta_dict, orient=\"index\")"
   ]
  },
  {
   "cell_type": "code",
   "execution_count": 147,
   "metadata": {},
   "outputs": [
    {
     "data": {
      "text/html": [
       "<div>\n",
       "<style scoped>\n",
       "    .dataframe tbody tr th:only-of-type {\n",
       "        vertical-align: middle;\n",
       "    }\n",
       "\n",
       "    .dataframe tbody tr th {\n",
       "        vertical-align: top;\n",
       "    }\n",
       "\n",
       "    .dataframe thead th {\n",
       "        text-align: right;\n",
       "    }\n",
       "</style>\n",
       "<table border=\"1\" class=\"dataframe\">\n",
       "  <thead>\n",
       "    <tr style=\"text-align: right;\">\n",
       "      <th></th>\n",
       "      <th></th>\n",
       "      <th>const</th>\n",
       "      <th>Mkt-RF</th>\n",
       "      <th>SMB</th>\n",
       "      <th>HML</th>\n",
       "      <th>RMW</th>\n",
       "      <th>CMA</th>\n",
       "      <th>UMD</th>\n",
       "      <th>CPI Diff</th>\n",
       "    </tr>\n",
       "  </thead>\n",
       "  <tbody>\n",
       "    <tr>\n",
       "      <th>2004-12-31</th>\n",
       "      <th>1003</th>\n",
       "      <td>-0.138276</td>\n",
       "      <td>0.010059</td>\n",
       "      <td>0.026984</td>\n",
       "      <td>-0.061919</td>\n",
       "      <td>0.058570</td>\n",
       "      <td>-0.023065</td>\n",
       "      <td>-0.011800</td>\n",
       "      <td>0.047869</td>\n",
       "    </tr>\n",
       "    <tr>\n",
       "      <th>2005-03-31</th>\n",
       "      <th>1003</th>\n",
       "      <td>-0.128774</td>\n",
       "      <td>-0.000035</td>\n",
       "      <td>0.025105</td>\n",
       "      <td>-0.030315</td>\n",
       "      <td>0.033886</td>\n",
       "      <td>-0.007313</td>\n",
       "      <td>-0.011879</td>\n",
       "      <td>0.049594</td>\n",
       "    </tr>\n",
       "    <tr>\n",
       "      <th>2005-06-30</th>\n",
       "      <th>1003</th>\n",
       "      <td>-0.172917</td>\n",
       "      <td>0.015876</td>\n",
       "      <td>-0.003249</td>\n",
       "      <td>-0.014142</td>\n",
       "      <td>0.024544</td>\n",
       "      <td>-0.022686</td>\n",
       "      <td>-0.004496</td>\n",
       "      <td>0.053990</td>\n",
       "    </tr>\n",
       "    <tr>\n",
       "      <th>2005-09-30</th>\n",
       "      <th>1003</th>\n",
       "      <td>-4.404246</td>\n",
       "      <td>-0.161192</td>\n",
       "      <td>3.786756</td>\n",
       "      <td>-0.675228</td>\n",
       "      <td>4.244383</td>\n",
       "      <td>1.366785</td>\n",
       "      <td>-5.363642</td>\n",
       "      <td>24.304606</td>\n",
       "    </tr>\n",
       "    <tr>\n",
       "      <th>2005-12-31</th>\n",
       "      <th>1003</th>\n",
       "      <td>1.710249</td>\n",
       "      <td>50.739537</td>\n",
       "      <td>-37.328633</td>\n",
       "      <td>-35.158119</td>\n",
       "      <td>23.551260</td>\n",
       "      <td>-54.783362</td>\n",
       "      <td>-2.179491</td>\n",
       "      <td>90.876421</td>\n",
       "    </tr>\n",
       "    <tr>\n",
       "      <th>...</th>\n",
       "      <th>...</th>\n",
       "      <td>...</td>\n",
       "      <td>...</td>\n",
       "      <td>...</td>\n",
       "      <td>...</td>\n",
       "      <td>...</td>\n",
       "      <td>...</td>\n",
       "      <td>...</td>\n",
       "      <td>...</td>\n",
       "    </tr>\n",
       "    <tr>\n",
       "      <th>2020-06-30</th>\n",
       "      <th>351371</th>\n",
       "      <td>1.007001</td>\n",
       "      <td>-0.562695</td>\n",
       "      <td>0.472423</td>\n",
       "      <td>-2.891656</td>\n",
       "      <td>1.111710</td>\n",
       "      <td>3.695034</td>\n",
       "      <td>-0.637119</td>\n",
       "      <td>-16.713177</td>\n",
       "    </tr>\n",
       "    <tr>\n",
       "      <th>2020-09-30</th>\n",
       "      <th>351371</th>\n",
       "      <td>-0.076496</td>\n",
       "      <td>-0.352193</td>\n",
       "      <td>0.204517</td>\n",
       "      <td>-3.079972</td>\n",
       "      <td>1.316744</td>\n",
       "      <td>4.450750</td>\n",
       "      <td>-0.796219</td>\n",
       "      <td>-15.295812</td>\n",
       "    </tr>\n",
       "    <tr>\n",
       "      <th>2020-12-31</th>\n",
       "      <th>351371</th>\n",
       "      <td>0.346961</td>\n",
       "      <td>-0.484835</td>\n",
       "      <td>0.366771</td>\n",
       "      <td>-2.896275</td>\n",
       "      <td>1.409507</td>\n",
       "      <td>4.159801</td>\n",
       "      <td>-0.774811</td>\n",
       "      <td>-15.765458</td>\n",
       "    </tr>\n",
       "    <tr>\n",
       "      <th>2021-03-31</th>\n",
       "      <th>351371</th>\n",
       "      <td>1.383455</td>\n",
       "      <td>-0.983350</td>\n",
       "      <td>0.383224</td>\n",
       "      <td>-2.814162</td>\n",
       "      <td>1.866016</td>\n",
       "      <td>3.531918</td>\n",
       "      <td>-1.184866</td>\n",
       "      <td>-7.701344</td>\n",
       "    </tr>\n",
       "    <tr>\n",
       "      <th>2021-06-30</th>\n",
       "      <th>351371</th>\n",
       "      <td>1.068120</td>\n",
       "      <td>-1.039075</td>\n",
       "      <td>0.395615</td>\n",
       "      <td>-2.543761</td>\n",
       "      <td>2.051032</td>\n",
       "      <td>3.252719</td>\n",
       "      <td>-1.168254</td>\n",
       "      <td>-8.874988</td>\n",
       "    </tr>\n",
       "  </tbody>\n",
       "</table>\n",
       "<p>887966 rows × 8 columns</p>\n",
       "</div>"
      ],
      "text/plain": [
       "                      const     Mkt-RF        SMB        HML        RMW  \\\n",
       "2004-12-31 1003   -0.138276   0.010059   0.026984  -0.061919   0.058570   \n",
       "2005-03-31 1003   -0.128774  -0.000035   0.025105  -0.030315   0.033886   \n",
       "2005-06-30 1003   -0.172917   0.015876  -0.003249  -0.014142   0.024544   \n",
       "2005-09-30 1003   -4.404246  -0.161192   3.786756  -0.675228   4.244383   \n",
       "2005-12-31 1003    1.710249  50.739537 -37.328633 -35.158119  23.551260   \n",
       "...                     ...        ...        ...        ...        ...   \n",
       "2020-06-30 351371  1.007001  -0.562695   0.472423  -2.891656   1.111710   \n",
       "2020-09-30 351371 -0.076496  -0.352193   0.204517  -3.079972   1.316744   \n",
       "2020-12-31 351371  0.346961  -0.484835   0.366771  -2.896275   1.409507   \n",
       "2021-03-31 351371  1.383455  -0.983350   0.383224  -2.814162   1.866016   \n",
       "2021-06-30 351371  1.068120  -1.039075   0.395615  -2.543761   2.051032   \n",
       "\n",
       "                         CMA       UMD   CPI Diff  \n",
       "2004-12-31 1003    -0.023065 -0.011800   0.047869  \n",
       "2005-03-31 1003    -0.007313 -0.011879   0.049594  \n",
       "2005-06-30 1003    -0.022686 -0.004496   0.053990  \n",
       "2005-09-30 1003     1.366785 -5.363642  24.304606  \n",
       "2005-12-31 1003   -54.783362 -2.179491  90.876421  \n",
       "...                      ...       ...        ...  \n",
       "2020-06-30 351371   3.695034 -0.637119 -16.713177  \n",
       "2020-09-30 351371   4.450750 -0.796219 -15.295812  \n",
       "2020-12-31 351371   4.159801 -0.774811 -15.765458  \n",
       "2021-03-31 351371   3.531918 -1.184866  -7.701344  \n",
       "2021-06-30 351371   3.252719 -1.168254  -8.874988  \n",
       "\n",
       "[887966 rows x 8 columns]"
      ]
     },
     "execution_count": 147,
     "metadata": {},
     "output_type": "execute_result"
    }
   ],
   "source": [
    "beta_df"
   ]
  },
  {
   "cell_type": "code",
   "execution_count": 148,
   "metadata": {},
   "outputs": [],
   "source": [
    "t_df = pd.DataFrame.from_dict(t_dict, orient=\"index\")"
   ]
  },
  {
   "cell_type": "code",
   "execution_count": 149,
   "metadata": {},
   "outputs": [
    {
     "data": {
      "text/html": [
       "<div>\n",
       "<style scoped>\n",
       "    .dataframe tbody tr th:only-of-type {\n",
       "        vertical-align: middle;\n",
       "    }\n",
       "\n",
       "    .dataframe tbody tr th {\n",
       "        vertical-align: top;\n",
       "    }\n",
       "\n",
       "    .dataframe thead th {\n",
       "        text-align: right;\n",
       "    }\n",
       "</style>\n",
       "<table border=\"1\" class=\"dataframe\">\n",
       "  <thead>\n",
       "    <tr style=\"text-align: right;\">\n",
       "      <th></th>\n",
       "      <th></th>\n",
       "      <th>const</th>\n",
       "      <th>Mkt-RF</th>\n",
       "      <th>SMB</th>\n",
       "      <th>HML</th>\n",
       "      <th>RMW</th>\n",
       "      <th>CMA</th>\n",
       "      <th>UMD</th>\n",
       "      <th>CPI Diff</th>\n",
       "    </tr>\n",
       "  </thead>\n",
       "  <tbody>\n",
       "    <tr>\n",
       "      <th>2004-12-31</th>\n",
       "      <th>1003</th>\n",
       "      <td>-0.000000</td>\n",
       "      <td>0.000000</td>\n",
       "      <td>0.000000</td>\n",
       "      <td>-0.000000</td>\n",
       "      <td>0.000000</td>\n",
       "      <td>-0.000000</td>\n",
       "      <td>-0.000000</td>\n",
       "      <td>0.000000</td>\n",
       "    </tr>\n",
       "    <tr>\n",
       "      <th>2005-03-31</th>\n",
       "      <th>1003</th>\n",
       "      <td>-5.186306</td>\n",
       "      <td>-0.004412</td>\n",
       "      <td>3.084612</td>\n",
       "      <td>-1.407134</td>\n",
       "      <td>3.027088</td>\n",
       "      <td>-0.714596</td>\n",
       "      <td>-1.901116</td>\n",
       "      <td>1.137301</td>\n",
       "    </tr>\n",
       "    <tr>\n",
       "      <th>2005-06-30</th>\n",
       "      <th>1003</th>\n",
       "      <td>-4.505061</td>\n",
       "      <td>0.840367</td>\n",
       "      <td>-0.169640</td>\n",
       "      <td>-0.395787</td>\n",
       "      <td>0.822088</td>\n",
       "      <td>-0.818753</td>\n",
       "      <td>-0.409248</td>\n",
       "      <td>0.808658</td>\n",
       "    </tr>\n",
       "    <tr>\n",
       "      <th>2005-09-30</th>\n",
       "      <th>1003</th>\n",
       "      <td>-0.274062</td>\n",
       "      <td>-0.020287</td>\n",
       "      <td>0.498944</td>\n",
       "      <td>-0.051760</td>\n",
       "      <td>0.418794</td>\n",
       "      <td>0.116777</td>\n",
       "      <td>-1.328682</td>\n",
       "      <td>1.125379</td>\n",
       "    </tr>\n",
       "    <tr>\n",
       "      <th>2005-12-31</th>\n",
       "      <th>1003</th>\n",
       "      <td>0.015951</td>\n",
       "      <td>0.907953</td>\n",
       "      <td>-0.690888</td>\n",
       "      <td>-0.418940</td>\n",
       "      <td>0.352811</td>\n",
       "      <td>-0.714882</td>\n",
       "      <td>-0.073614</td>\n",
       "      <td>0.626448</td>\n",
       "    </tr>\n",
       "    <tr>\n",
       "      <th>...</th>\n",
       "      <th>...</th>\n",
       "      <td>...</td>\n",
       "      <td>...</td>\n",
       "      <td>...</td>\n",
       "      <td>...</td>\n",
       "      <td>...</td>\n",
       "      <td>...</td>\n",
       "      <td>...</td>\n",
       "      <td>...</td>\n",
       "    </tr>\n",
       "    <tr>\n",
       "      <th>2020-06-30</th>\n",
       "      <th>351371</th>\n",
       "      <td>0.301386</td>\n",
       "      <td>-0.517154</td>\n",
       "      <td>0.303431</td>\n",
       "      <td>-2.031784</td>\n",
       "      <td>0.403230</td>\n",
       "      <td>1.576806</td>\n",
       "      <td>-0.491899</td>\n",
       "      <td>-1.257836</td>\n",
       "    </tr>\n",
       "    <tr>\n",
       "      <th>2020-09-30</th>\n",
       "      <th>351371</th>\n",
       "      <td>-0.023036</td>\n",
       "      <td>-0.348261</td>\n",
       "      <td>0.132894</td>\n",
       "      <td>-2.181391</td>\n",
       "      <td>0.517083</td>\n",
       "      <td>1.983909</td>\n",
       "      <td>-0.660186</td>\n",
       "      <td>-1.143765</td>\n",
       "    </tr>\n",
       "    <tr>\n",
       "      <th>2020-12-31</th>\n",
       "      <th>351371</th>\n",
       "      <td>0.111898</td>\n",
       "      <td>-0.526175</td>\n",
       "      <td>0.254703</td>\n",
       "      <td>-2.206601</td>\n",
       "      <td>0.603026</td>\n",
       "      <td>2.001226</td>\n",
       "      <td>-0.694291</td>\n",
       "      <td>-1.226978</td>\n",
       "    </tr>\n",
       "    <tr>\n",
       "      <th>2021-03-31</th>\n",
       "      <th>351371</th>\n",
       "      <td>0.468713</td>\n",
       "      <td>-1.205338</td>\n",
       "      <td>0.280531</td>\n",
       "      <td>-2.233176</td>\n",
       "      <td>0.916113</td>\n",
       "      <td>1.987475</td>\n",
       "      <td>-1.205937</td>\n",
       "      <td>-0.772601</td>\n",
       "    </tr>\n",
       "    <tr>\n",
       "      <th>2021-06-30</th>\n",
       "      <th>351371</th>\n",
       "      <td>0.369991</td>\n",
       "      <td>-1.284180</td>\n",
       "      <td>0.292989</td>\n",
       "      <td>-2.152965</td>\n",
       "      <td>1.042881</td>\n",
       "      <td>1.860541</td>\n",
       "      <td>-1.231838</td>\n",
       "      <td>-0.906659</td>\n",
       "    </tr>\n",
       "  </tbody>\n",
       "</table>\n",
       "<p>887966 rows × 8 columns</p>\n",
       "</div>"
      ],
      "text/plain": [
       "                      const    Mkt-RF       SMB       HML       RMW       CMA  \\\n",
       "2004-12-31 1003   -0.000000  0.000000  0.000000 -0.000000  0.000000 -0.000000   \n",
       "2005-03-31 1003   -5.186306 -0.004412  3.084612 -1.407134  3.027088 -0.714596   \n",
       "2005-06-30 1003   -4.505061  0.840367 -0.169640 -0.395787  0.822088 -0.818753   \n",
       "2005-09-30 1003   -0.274062 -0.020287  0.498944 -0.051760  0.418794  0.116777   \n",
       "2005-12-31 1003    0.015951  0.907953 -0.690888 -0.418940  0.352811 -0.714882   \n",
       "...                     ...       ...       ...       ...       ...       ...   \n",
       "2020-06-30 351371  0.301386 -0.517154  0.303431 -2.031784  0.403230  1.576806   \n",
       "2020-09-30 351371 -0.023036 -0.348261  0.132894 -2.181391  0.517083  1.983909   \n",
       "2020-12-31 351371  0.111898 -0.526175  0.254703 -2.206601  0.603026  2.001226   \n",
       "2021-03-31 351371  0.468713 -1.205338  0.280531 -2.233176  0.916113  1.987475   \n",
       "2021-06-30 351371  0.369991 -1.284180  0.292989 -2.152965  1.042881  1.860541   \n",
       "\n",
       "                        UMD  CPI Diff  \n",
       "2004-12-31 1003   -0.000000  0.000000  \n",
       "2005-03-31 1003   -1.901116  1.137301  \n",
       "2005-06-30 1003   -0.409248  0.808658  \n",
       "2005-09-30 1003   -1.328682  1.125379  \n",
       "2005-12-31 1003   -0.073614  0.626448  \n",
       "...                     ...       ...  \n",
       "2020-06-30 351371 -0.491899 -1.257836  \n",
       "2020-09-30 351371 -0.660186 -1.143765  \n",
       "2020-12-31 351371 -0.694291 -1.226978  \n",
       "2021-03-31 351371 -1.205937 -0.772601  \n",
       "2021-06-30 351371 -1.231838 -0.906659  \n",
       "\n",
       "[887966 rows x 8 columns]"
      ]
     },
     "execution_count": 149,
     "metadata": {},
     "output_type": "execute_result"
    }
   ],
   "source": [
    "t_df"
   ]
  },
  {
   "cell_type": "code",
   "execution_count": 150,
   "metadata": {},
   "outputs": [],
   "source": [
    "# put _t_stat at the end of the t stats\n",
    "t_df.columns = [col + \"_t_stat\" for col in t_df.columns]\n",
    "\n",
    "beta_t_df = pd.merge(beta_df, t_df, how=\"inner\", left_index=True, right_index=True)\n"
   ]
  },
  {
   "cell_type": "code",
   "execution_count": 151,
   "metadata": {},
   "outputs": [
    {
     "data": {
      "text/html": [
       "<div>\n",
       "<style scoped>\n",
       "    .dataframe tbody tr th:only-of-type {\n",
       "        vertical-align: middle;\n",
       "    }\n",
       "\n",
       "    .dataframe tbody tr th {\n",
       "        vertical-align: top;\n",
       "    }\n",
       "\n",
       "    .dataframe thead th {\n",
       "        text-align: right;\n",
       "    }\n",
       "</style>\n",
       "<table border=\"1\" class=\"dataframe\">\n",
       "  <thead>\n",
       "    <tr style=\"text-align: right;\">\n",
       "      <th></th>\n",
       "      <th>date</th>\n",
       "      <th>gvkey</th>\n",
       "      <th>const</th>\n",
       "      <th>Mkt-RF</th>\n",
       "      <th>SMB</th>\n",
       "      <th>HML</th>\n",
       "      <th>RMW</th>\n",
       "      <th>CMA</th>\n",
       "      <th>UMD</th>\n",
       "      <th>CPI Diff</th>\n",
       "      <th>const_t_stat</th>\n",
       "      <th>Mkt-RF_t_stat</th>\n",
       "      <th>SMB_t_stat</th>\n",
       "      <th>HML_t_stat</th>\n",
       "      <th>RMW_t_stat</th>\n",
       "      <th>CMA_t_stat</th>\n",
       "      <th>UMD_t_stat</th>\n",
       "      <th>CPI Diff_t_stat</th>\n",
       "    </tr>\n",
       "  </thead>\n",
       "  <tbody>\n",
       "    <tr>\n",
       "      <th>0</th>\n",
       "      <td>2004-12-31</td>\n",
       "      <td>1003</td>\n",
       "      <td>-0.138276</td>\n",
       "      <td>0.010059</td>\n",
       "      <td>0.026984</td>\n",
       "      <td>-0.061919</td>\n",
       "      <td>0.058570</td>\n",
       "      <td>-0.023065</td>\n",
       "      <td>-0.011800</td>\n",
       "      <td>0.047869</td>\n",
       "      <td>-0.000000</td>\n",
       "      <td>0.000000</td>\n",
       "      <td>0.000000</td>\n",
       "      <td>-0.000000</td>\n",
       "      <td>0.000000</td>\n",
       "      <td>-0.000000</td>\n",
       "      <td>-0.000000</td>\n",
       "      <td>0.000000</td>\n",
       "    </tr>\n",
       "    <tr>\n",
       "      <th>1</th>\n",
       "      <td>2005-03-31</td>\n",
       "      <td>1003</td>\n",
       "      <td>-0.128774</td>\n",
       "      <td>-0.000035</td>\n",
       "      <td>0.025105</td>\n",
       "      <td>-0.030315</td>\n",
       "      <td>0.033886</td>\n",
       "      <td>-0.007313</td>\n",
       "      <td>-0.011879</td>\n",
       "      <td>0.049594</td>\n",
       "      <td>-5.186306</td>\n",
       "      <td>-0.004412</td>\n",
       "      <td>3.084612</td>\n",
       "      <td>-1.407134</td>\n",
       "      <td>3.027088</td>\n",
       "      <td>-0.714596</td>\n",
       "      <td>-1.901116</td>\n",
       "      <td>1.137301</td>\n",
       "    </tr>\n",
       "    <tr>\n",
       "      <th>2</th>\n",
       "      <td>2005-06-30</td>\n",
       "      <td>1003</td>\n",
       "      <td>-0.172917</td>\n",
       "      <td>0.015876</td>\n",
       "      <td>-0.003249</td>\n",
       "      <td>-0.014142</td>\n",
       "      <td>0.024544</td>\n",
       "      <td>-0.022686</td>\n",
       "      <td>-0.004496</td>\n",
       "      <td>0.053990</td>\n",
       "      <td>-4.505061</td>\n",
       "      <td>0.840367</td>\n",
       "      <td>-0.169640</td>\n",
       "      <td>-0.395787</td>\n",
       "      <td>0.822088</td>\n",
       "      <td>-0.818753</td>\n",
       "      <td>-0.409248</td>\n",
       "      <td>0.808658</td>\n",
       "    </tr>\n",
       "    <tr>\n",
       "      <th>3</th>\n",
       "      <td>2005-09-30</td>\n",
       "      <td>1003</td>\n",
       "      <td>-4.404246</td>\n",
       "      <td>-0.161192</td>\n",
       "      <td>3.786756</td>\n",
       "      <td>-0.675228</td>\n",
       "      <td>4.244383</td>\n",
       "      <td>1.366785</td>\n",
       "      <td>-5.363642</td>\n",
       "      <td>24.304606</td>\n",
       "      <td>-0.274062</td>\n",
       "      <td>-0.020287</td>\n",
       "      <td>0.498944</td>\n",
       "      <td>-0.051760</td>\n",
       "      <td>0.418794</td>\n",
       "      <td>0.116777</td>\n",
       "      <td>-1.328682</td>\n",
       "      <td>1.125379</td>\n",
       "    </tr>\n",
       "    <tr>\n",
       "      <th>4</th>\n",
       "      <td>2005-12-31</td>\n",
       "      <td>1003</td>\n",
       "      <td>1.710249</td>\n",
       "      <td>50.739537</td>\n",
       "      <td>-37.328633</td>\n",
       "      <td>-35.158119</td>\n",
       "      <td>23.551260</td>\n",
       "      <td>-54.783362</td>\n",
       "      <td>-2.179491</td>\n",
       "      <td>90.876421</td>\n",
       "      <td>0.015951</td>\n",
       "      <td>0.907953</td>\n",
       "      <td>-0.690888</td>\n",
       "      <td>-0.418940</td>\n",
       "      <td>0.352811</td>\n",
       "      <td>-0.714882</td>\n",
       "      <td>-0.073614</td>\n",
       "      <td>0.626448</td>\n",
       "    </tr>\n",
       "    <tr>\n",
       "      <th>...</th>\n",
       "      <td>...</td>\n",
       "      <td>...</td>\n",
       "      <td>...</td>\n",
       "      <td>...</td>\n",
       "      <td>...</td>\n",
       "      <td>...</td>\n",
       "      <td>...</td>\n",
       "      <td>...</td>\n",
       "      <td>...</td>\n",
       "      <td>...</td>\n",
       "      <td>...</td>\n",
       "      <td>...</td>\n",
       "      <td>...</td>\n",
       "      <td>...</td>\n",
       "      <td>...</td>\n",
       "      <td>...</td>\n",
       "      <td>...</td>\n",
       "      <td>...</td>\n",
       "    </tr>\n",
       "    <tr>\n",
       "      <th>887961</th>\n",
       "      <td>2020-06-30</td>\n",
       "      <td>351371</td>\n",
       "      <td>1.007001</td>\n",
       "      <td>-0.562695</td>\n",
       "      <td>0.472423</td>\n",
       "      <td>-2.891656</td>\n",
       "      <td>1.111710</td>\n",
       "      <td>3.695034</td>\n",
       "      <td>-0.637119</td>\n",
       "      <td>-16.713177</td>\n",
       "      <td>0.301386</td>\n",
       "      <td>-0.517154</td>\n",
       "      <td>0.303431</td>\n",
       "      <td>-2.031784</td>\n",
       "      <td>0.403230</td>\n",
       "      <td>1.576806</td>\n",
       "      <td>-0.491899</td>\n",
       "      <td>-1.257836</td>\n",
       "    </tr>\n",
       "    <tr>\n",
       "      <th>887962</th>\n",
       "      <td>2020-09-30</td>\n",
       "      <td>351371</td>\n",
       "      <td>-0.076496</td>\n",
       "      <td>-0.352193</td>\n",
       "      <td>0.204517</td>\n",
       "      <td>-3.079972</td>\n",
       "      <td>1.316744</td>\n",
       "      <td>4.450750</td>\n",
       "      <td>-0.796219</td>\n",
       "      <td>-15.295812</td>\n",
       "      <td>-0.023036</td>\n",
       "      <td>-0.348261</td>\n",
       "      <td>0.132894</td>\n",
       "      <td>-2.181391</td>\n",
       "      <td>0.517083</td>\n",
       "      <td>1.983909</td>\n",
       "      <td>-0.660186</td>\n",
       "      <td>-1.143765</td>\n",
       "    </tr>\n",
       "    <tr>\n",
       "      <th>887963</th>\n",
       "      <td>2020-12-31</td>\n",
       "      <td>351371</td>\n",
       "      <td>0.346961</td>\n",
       "      <td>-0.484835</td>\n",
       "      <td>0.366771</td>\n",
       "      <td>-2.896275</td>\n",
       "      <td>1.409507</td>\n",
       "      <td>4.159801</td>\n",
       "      <td>-0.774811</td>\n",
       "      <td>-15.765458</td>\n",
       "      <td>0.111898</td>\n",
       "      <td>-0.526175</td>\n",
       "      <td>0.254703</td>\n",
       "      <td>-2.206601</td>\n",
       "      <td>0.603026</td>\n",
       "      <td>2.001226</td>\n",
       "      <td>-0.694291</td>\n",
       "      <td>-1.226978</td>\n",
       "    </tr>\n",
       "    <tr>\n",
       "      <th>887964</th>\n",
       "      <td>2021-03-31</td>\n",
       "      <td>351371</td>\n",
       "      <td>1.383455</td>\n",
       "      <td>-0.983350</td>\n",
       "      <td>0.383224</td>\n",
       "      <td>-2.814162</td>\n",
       "      <td>1.866016</td>\n",
       "      <td>3.531918</td>\n",
       "      <td>-1.184866</td>\n",
       "      <td>-7.701344</td>\n",
       "      <td>0.468713</td>\n",
       "      <td>-1.205338</td>\n",
       "      <td>0.280531</td>\n",
       "      <td>-2.233176</td>\n",
       "      <td>0.916113</td>\n",
       "      <td>1.987475</td>\n",
       "      <td>-1.205937</td>\n",
       "      <td>-0.772601</td>\n",
       "    </tr>\n",
       "    <tr>\n",
       "      <th>887965</th>\n",
       "      <td>2021-06-30</td>\n",
       "      <td>351371</td>\n",
       "      <td>1.068120</td>\n",
       "      <td>-1.039075</td>\n",
       "      <td>0.395615</td>\n",
       "      <td>-2.543761</td>\n",
       "      <td>2.051032</td>\n",
       "      <td>3.252719</td>\n",
       "      <td>-1.168254</td>\n",
       "      <td>-8.874988</td>\n",
       "      <td>0.369991</td>\n",
       "      <td>-1.284180</td>\n",
       "      <td>0.292989</td>\n",
       "      <td>-2.152965</td>\n",
       "      <td>1.042881</td>\n",
       "      <td>1.860541</td>\n",
       "      <td>-1.231838</td>\n",
       "      <td>-0.906659</td>\n",
       "    </tr>\n",
       "  </tbody>\n",
       "</table>\n",
       "<p>887966 rows × 18 columns</p>\n",
       "</div>"
      ],
      "text/plain": [
       "             date   gvkey     const     Mkt-RF        SMB        HML  \\\n",
       "0      2004-12-31    1003 -0.138276   0.010059   0.026984  -0.061919   \n",
       "1      2005-03-31    1003 -0.128774  -0.000035   0.025105  -0.030315   \n",
       "2      2005-06-30    1003 -0.172917   0.015876  -0.003249  -0.014142   \n",
       "3      2005-09-30    1003 -4.404246  -0.161192   3.786756  -0.675228   \n",
       "4      2005-12-31    1003  1.710249  50.739537 -37.328633 -35.158119   \n",
       "...           ...     ...       ...        ...        ...        ...   \n",
       "887961 2020-06-30  351371  1.007001  -0.562695   0.472423  -2.891656   \n",
       "887962 2020-09-30  351371 -0.076496  -0.352193   0.204517  -3.079972   \n",
       "887963 2020-12-31  351371  0.346961  -0.484835   0.366771  -2.896275   \n",
       "887964 2021-03-31  351371  1.383455  -0.983350   0.383224  -2.814162   \n",
       "887965 2021-06-30  351371  1.068120  -1.039075   0.395615  -2.543761   \n",
       "\n",
       "              RMW        CMA       UMD   CPI Diff  const_t_stat  \\\n",
       "0        0.058570  -0.023065 -0.011800   0.047869     -0.000000   \n",
       "1        0.033886  -0.007313 -0.011879   0.049594     -5.186306   \n",
       "2        0.024544  -0.022686 -0.004496   0.053990     -4.505061   \n",
       "3        4.244383   1.366785 -5.363642  24.304606     -0.274062   \n",
       "4       23.551260 -54.783362 -2.179491  90.876421      0.015951   \n",
       "...           ...        ...       ...        ...           ...   \n",
       "887961   1.111710   3.695034 -0.637119 -16.713177      0.301386   \n",
       "887962   1.316744   4.450750 -0.796219 -15.295812     -0.023036   \n",
       "887963   1.409507   4.159801 -0.774811 -15.765458      0.111898   \n",
       "887964   1.866016   3.531918 -1.184866  -7.701344      0.468713   \n",
       "887965   2.051032   3.252719 -1.168254  -8.874988      0.369991   \n",
       "\n",
       "        Mkt-RF_t_stat  SMB_t_stat  HML_t_stat  RMW_t_stat  CMA_t_stat  \\\n",
       "0            0.000000    0.000000   -0.000000    0.000000   -0.000000   \n",
       "1           -0.004412    3.084612   -1.407134    3.027088   -0.714596   \n",
       "2            0.840367   -0.169640   -0.395787    0.822088   -0.818753   \n",
       "3           -0.020287    0.498944   -0.051760    0.418794    0.116777   \n",
       "4            0.907953   -0.690888   -0.418940    0.352811   -0.714882   \n",
       "...               ...         ...         ...         ...         ...   \n",
       "887961      -0.517154    0.303431   -2.031784    0.403230    1.576806   \n",
       "887962      -0.348261    0.132894   -2.181391    0.517083    1.983909   \n",
       "887963      -0.526175    0.254703   -2.206601    0.603026    2.001226   \n",
       "887964      -1.205338    0.280531   -2.233176    0.916113    1.987475   \n",
       "887965      -1.284180    0.292989   -2.152965    1.042881    1.860541   \n",
       "\n",
       "        UMD_t_stat  CPI Diff_t_stat  \n",
       "0        -0.000000         0.000000  \n",
       "1        -1.901116         1.137301  \n",
       "2        -0.409248         0.808658  \n",
       "3        -1.328682         1.125379  \n",
       "4        -0.073614         0.626448  \n",
       "...            ...              ...  \n",
       "887961   -0.491899        -1.257836  \n",
       "887962   -0.660186        -1.143765  \n",
       "887963   -0.694291        -1.226978  \n",
       "887964   -1.205937        -0.772601  \n",
       "887965   -1.231838        -0.906659  \n",
       "\n",
       "[887966 rows x 18 columns]"
      ]
     },
     "execution_count": 151,
     "metadata": {},
     "output_type": "execute_result"
    }
   ],
   "source": [
    "beta_t_df = beta_t_df.reset_index()\n",
    "\n",
    "# rename level_0 to date and level_1 to gvkey\n",
    "beta_t_df.rename({\"level_0\": \"date\", \"level_1\": \"gvkey\"}, axis=1, inplace=True)\n",
    "\n",
    "beta_t_df"
   ]
  },
  {
   "cell_type": "markdown",
   "metadata": {},
   "source": [
    "# Fundamentals"
   ]
  },
  {
   "cell_type": "code",
   "execution_count": 220,
   "metadata": {},
   "outputs": [],
   "source": [
    "funda = pd.read_csv(\"data/funda.csv\")"
   ]
  },
  {
   "cell_type": "code",
   "execution_count": 217,
   "metadata": {},
   "outputs": [
    {
     "data": {
      "text/plain": [
       "\" \\nStandard and Poor's Identifier (GVKEY)\\n\\nCompany Name (CONM)\\n\\nTicker Symbol (TIC)\\n\\nCHQ -- Cash (CHQ)\\n\\nDD1Q -- Long-Term Debt Due in One Year (DD1Q)\\n\\nDLCQ -- Debt in Current Liabilities (DLCQ)\\n\\nDLTTQ -- Long-Term Debt - Total (DLTTQ)\\n\\nIVLTQ -- Total Long-term Investments (IVLTQ)\\n\\nIVSTQ -- Short-Term Investments- Total (IVSTQ)\\n\\nXOPRQ -- Operating Expense- Total (XOPRQ)\\n\\nDLCCHY -- Changes in Current Debt (DLCCHY)\\n\\n\""
      ]
     },
     "execution_count": 217,
     "metadata": {},
     "output_type": "execute_result"
    }
   ],
   "source": [
    "''' \n",
    "Standard and Poor's Identifier (GVKEY)\n",
    "\n",
    "Company Name (CONM)\n",
    "\n",
    "Ticker Symbol (TIC)\n",
    "\n",
    "CHQ -- Cash (CHQ)\n",
    "\n",
    "DD1Q -- Long-Term Debt Due in One Year (DD1Q)\n",
    "\n",
    "DLCQ -- Debt in Current Liabilities (DLCQ)\n",
    "\n",
    "DLTTQ -- Long-Term Debt - Total (DLTTQ)\n",
    "\n",
    "IVLTQ -- Total Long-term Investments (IVLTQ)\n",
    "\n",
    "IVSTQ -- Short-Term Investments- Total (IVSTQ)\n",
    "\n",
    "XOPRQ -- Operating Expense- Total (XOPRQ)\n",
    "\n",
    "DLCCHY -- Changes in Current Debt (DLCCHY)\n",
    "\n",
    "'''"
   ]
  },
  {
   "cell_type": "code",
   "execution_count": 223,
   "metadata": {},
   "outputs": [],
   "source": [
    "funda.rename({  \"chq\":\"Cash\", \n",
    "                \"dd1q\":\"Long-Term Debt Due in One Year\", \n",
    "                \"dlcq\":\"Debt in Current Liabilities\", \n",
    "                \"dlttq\":\"Long-Term Debt - Total\", \n",
    "                \"ivltq\":\"Total Long-term Investments\", \n",
    "                \"ivstq\":\"Short-Term Investments- Total\", \n",
    "                \"xoprq\":\"Operating Expense- Total\", \n",
    "                \"dlcchy\":\"Changes in Current Debt\", \n",
    "                \"mkvaltq\":\"Market Value - Total\",\n",
    "                \"atq\":\"Assets - Total\",\n",
    "                \"revty\" : \"Revenue - Total\",                \n",
    "                }, axis=1, inplace=True)"
   ]
  },
  {
   "cell_type": "code",
   "execution_count": 224,
   "metadata": {},
   "outputs": [
    {
     "data": {
      "text/plain": [
       "Index(['GVKEY', 'datadate', 'fyearq', 'fqtr', 'indfmt', 'consol', 'popsrc',\n",
       "       'datafmt', 'tic', 'conm', 'curcdq', 'datacqtr', 'datafqtr',\n",
       "       'Assets - Total', 'Cash', 'Long-Term Debt Due in One Year',\n",
       "       'Debt in Current Liabilities', 'Long-Term Debt - Total',\n",
       "       'Total Long-term Investments', 'Short-Term Investments- Total',\n",
       "       'Operating Expense- Total', 'Changes in Current Debt',\n",
       "       'Revenue - Total', 'costat', 'Market Value - Total'],\n",
       "      dtype='object')"
      ]
     },
     "execution_count": 224,
     "metadata": {},
     "output_type": "execute_result"
    }
   ],
   "source": [
    "funda.columns"
   ]
  },
  {
   "cell_type": "code",
   "execution_count": 225,
   "metadata": {},
   "outputs": [],
   "source": [
    "# add 3 months to datadate and call that report date\n",
    "funda[\"datadate\"] = pd.to_datetime(funda[\"datadate\"])\n",
    "funda[\"report date\"] = funda[\"datadate\"] + MonthEnd(3)\n"
   ]
  },
  {
   "cell_type": "code",
   "execution_count": 226,
   "metadata": {},
   "outputs": [],
   "source": [
    "funda[\"Long-Term Debt Due in One Year Percent\"] = funda[\"Long-Term Debt Due in One Year\"] / funda[\"Long-Term Debt - Total\"]\n",
    "\n",
    "funda[\"Long-Term Debt Percent\"] = funda[\"Long-Term Debt - Total\"] / (funda[\"Debt in Current Liabilities\"] + funda[\"Long-Term Debt - Total\"])\n",
    "funda[\"Short-Term Debt Percent\"] = funda[\"Debt in Current Liabilities\"] / (funda[\"Debt in Current Liabilities\"] + funda[\"Long-Term Debt - Total\"])\n",
    "\n",
    "funda[\"Cash Percent\"] = funda[\"Cash\"] / (funda[\"Cash\"] + funda[\"Short-Term Investments- Total\"] + funda[\"Total Long-term Investments\"])\n",
    "\n",
    "funda[\"Total Long-term Investments Percent\"] = funda[\"Total Long-term Investments\"] / (funda[\"Short-Term Investments- Total\"] + funda[\"Total Long-term Investments\"])\n",
    "funda[\"Total Short-term Investments Percent\"] = funda[\"Short-Term Investments- Total\"] / (funda[\"Short-Term Investments- Total\"] + funda[\"Total Long-term Investments\"])\n",
    "\n",
    "funda[\"Operating Expense Ratio\"] = funda[\"Operating Expense- Total\"] / funda[\"Revenue - Total\"]"
   ]
  },
  {
   "cell_type": "code",
   "execution_count": 227,
   "metadata": {},
   "outputs": [
    {
     "data": {
      "text/plain": [
       "GVKEY                                           0\n",
       "datadate                                        0\n",
       "fyearq                                          0\n",
       "fqtr                                            0\n",
       "indfmt                                          0\n",
       "consol                                          0\n",
       "popsrc                                          0\n",
       "datafmt                                         0\n",
       "tic                                             1\n",
       "conm                                            0\n",
       "curcdq                                          0\n",
       "datacqtr                                     1653\n",
       "datafqtr                                        0\n",
       "Assets - Total                             186220\n",
       "Cash                                       905940\n",
       "Long-Term Debt Due in One Year            1042002\n",
       "Debt in Current Liabilities                231829\n",
       "Long-Term Debt - Total                     169929\n",
       "Total Long-term Investments                864789\n",
       "Short-Term Investments- Total              919081\n",
       "Operating Expense- Total                   179484\n",
       "Changes in Current Debt                    767048\n",
       "Revenue - Total                            499955\n",
       "costat                                          0\n",
       "Market Value - Total                       890140\n",
       "report date                                     0\n",
       "Long-Term Debt Due in One Year Percent    1072317\n",
       "Long-Term Debt Percent                     357479\n",
       "Short-Term Debt Percent                    357479\n",
       "Cash Percent                               972341\n",
       "Total Long-term Investments Percent       1040185\n",
       "Total Short-term Investments Percent      1040185\n",
       "Operating Expense Ratio                    525374\n",
       "dtype: int64"
      ]
     },
     "execution_count": 227,
     "metadata": {},
     "output_type": "execute_result"
    }
   ],
   "source": [
    "funda.isna().sum()"
   ]
  },
  {
   "cell_type": "code",
   "execution_count": 230,
   "metadata": {},
   "outputs": [],
   "source": [
    "keep = [\"GVKEY\", \"report date\", \"Long-Term Debt Due in One Year Percent\", \"Long-Term Debt Percent\", \"Short-Term Debt Percent\", \"Cash Percent\", \"Total Long-term Investments Percent\", \"Total Short-term Investments Percent\", \"Operating Expense Ratio\"]"
   ]
  },
  {
   "cell_type": "code",
   "execution_count": 231,
   "metadata": {},
   "outputs": [],
   "source": [
    "funda = funda[keep]"
   ]
  },
  {
   "cell_type": "code",
   "execution_count": 232,
   "metadata": {},
   "outputs": [
    {
     "data": {
      "text/html": [
       "<div>\n",
       "<style scoped>\n",
       "    .dataframe tbody tr th:only-of-type {\n",
       "        vertical-align: middle;\n",
       "    }\n",
       "\n",
       "    .dataframe tbody tr th {\n",
       "        vertical-align: top;\n",
       "    }\n",
       "\n",
       "    .dataframe thead th {\n",
       "        text-align: right;\n",
       "    }\n",
       "</style>\n",
       "<table border=\"1\" class=\"dataframe\">\n",
       "  <thead>\n",
       "    <tr style=\"text-align: right;\">\n",
       "      <th></th>\n",
       "      <th>date</th>\n",
       "      <th>gvkey</th>\n",
       "      <th>const</th>\n",
       "      <th>Mkt-RF</th>\n",
       "      <th>SMB</th>\n",
       "      <th>HML</th>\n",
       "      <th>RMW</th>\n",
       "      <th>CMA</th>\n",
       "      <th>UMD</th>\n",
       "      <th>CPI Diff</th>\n",
       "      <th>const_t_stat</th>\n",
       "      <th>Mkt-RF_t_stat</th>\n",
       "      <th>SMB_t_stat</th>\n",
       "      <th>HML_t_stat</th>\n",
       "      <th>RMW_t_stat</th>\n",
       "      <th>CMA_t_stat</th>\n",
       "      <th>UMD_t_stat</th>\n",
       "      <th>CPI Diff_t_stat</th>\n",
       "    </tr>\n",
       "  </thead>\n",
       "  <tbody>\n",
       "    <tr>\n",
       "      <th>0</th>\n",
       "      <td>2004-12-31</td>\n",
       "      <td>1003</td>\n",
       "      <td>-0.138276</td>\n",
       "      <td>0.010059</td>\n",
       "      <td>0.026984</td>\n",
       "      <td>-0.061919</td>\n",
       "      <td>0.058570</td>\n",
       "      <td>-0.023065</td>\n",
       "      <td>-0.011800</td>\n",
       "      <td>0.047869</td>\n",
       "      <td>-0.000000</td>\n",
       "      <td>0.000000</td>\n",
       "      <td>0.000000</td>\n",
       "      <td>-0.000000</td>\n",
       "      <td>0.000000</td>\n",
       "      <td>-0.000000</td>\n",
       "      <td>-0.000000</td>\n",
       "      <td>0.000000</td>\n",
       "    </tr>\n",
       "    <tr>\n",
       "      <th>1</th>\n",
       "      <td>2005-03-31</td>\n",
       "      <td>1003</td>\n",
       "      <td>-0.128774</td>\n",
       "      <td>-0.000035</td>\n",
       "      <td>0.025105</td>\n",
       "      <td>-0.030315</td>\n",
       "      <td>0.033886</td>\n",
       "      <td>-0.007313</td>\n",
       "      <td>-0.011879</td>\n",
       "      <td>0.049594</td>\n",
       "      <td>-5.186306</td>\n",
       "      <td>-0.004412</td>\n",
       "      <td>3.084612</td>\n",
       "      <td>-1.407134</td>\n",
       "      <td>3.027088</td>\n",
       "      <td>-0.714596</td>\n",
       "      <td>-1.901116</td>\n",
       "      <td>1.137301</td>\n",
       "    </tr>\n",
       "    <tr>\n",
       "      <th>2</th>\n",
       "      <td>2005-06-30</td>\n",
       "      <td>1003</td>\n",
       "      <td>-0.172917</td>\n",
       "      <td>0.015876</td>\n",
       "      <td>-0.003249</td>\n",
       "      <td>-0.014142</td>\n",
       "      <td>0.024544</td>\n",
       "      <td>-0.022686</td>\n",
       "      <td>-0.004496</td>\n",
       "      <td>0.053990</td>\n",
       "      <td>-4.505061</td>\n",
       "      <td>0.840367</td>\n",
       "      <td>-0.169640</td>\n",
       "      <td>-0.395787</td>\n",
       "      <td>0.822088</td>\n",
       "      <td>-0.818753</td>\n",
       "      <td>-0.409248</td>\n",
       "      <td>0.808658</td>\n",
       "    </tr>\n",
       "    <tr>\n",
       "      <th>3</th>\n",
       "      <td>2005-09-30</td>\n",
       "      <td>1003</td>\n",
       "      <td>-4.404246</td>\n",
       "      <td>-0.161192</td>\n",
       "      <td>3.786756</td>\n",
       "      <td>-0.675228</td>\n",
       "      <td>4.244383</td>\n",
       "      <td>1.366785</td>\n",
       "      <td>-5.363642</td>\n",
       "      <td>24.304606</td>\n",
       "      <td>-0.274062</td>\n",
       "      <td>-0.020287</td>\n",
       "      <td>0.498944</td>\n",
       "      <td>-0.051760</td>\n",
       "      <td>0.418794</td>\n",
       "      <td>0.116777</td>\n",
       "      <td>-1.328682</td>\n",
       "      <td>1.125379</td>\n",
       "    </tr>\n",
       "    <tr>\n",
       "      <th>4</th>\n",
       "      <td>2005-12-31</td>\n",
       "      <td>1003</td>\n",
       "      <td>1.710249</td>\n",
       "      <td>50.739537</td>\n",
       "      <td>-37.328633</td>\n",
       "      <td>-35.158119</td>\n",
       "      <td>23.551260</td>\n",
       "      <td>-54.783362</td>\n",
       "      <td>-2.179491</td>\n",
       "      <td>90.876421</td>\n",
       "      <td>0.015951</td>\n",
       "      <td>0.907953</td>\n",
       "      <td>-0.690888</td>\n",
       "      <td>-0.418940</td>\n",
       "      <td>0.352811</td>\n",
       "      <td>-0.714882</td>\n",
       "      <td>-0.073614</td>\n",
       "      <td>0.626448</td>\n",
       "    </tr>\n",
       "    <tr>\n",
       "      <th>...</th>\n",
       "      <td>...</td>\n",
       "      <td>...</td>\n",
       "      <td>...</td>\n",
       "      <td>...</td>\n",
       "      <td>...</td>\n",
       "      <td>...</td>\n",
       "      <td>...</td>\n",
       "      <td>...</td>\n",
       "      <td>...</td>\n",
       "      <td>...</td>\n",
       "      <td>...</td>\n",
       "      <td>...</td>\n",
       "      <td>...</td>\n",
       "      <td>...</td>\n",
       "      <td>...</td>\n",
       "      <td>...</td>\n",
       "      <td>...</td>\n",
       "      <td>...</td>\n",
       "    </tr>\n",
       "    <tr>\n",
       "      <th>887961</th>\n",
       "      <td>2020-06-30</td>\n",
       "      <td>351371</td>\n",
       "      <td>1.007001</td>\n",
       "      <td>-0.562695</td>\n",
       "      <td>0.472423</td>\n",
       "      <td>-2.891656</td>\n",
       "      <td>1.111710</td>\n",
       "      <td>3.695034</td>\n",
       "      <td>-0.637119</td>\n",
       "      <td>-16.713177</td>\n",
       "      <td>0.301386</td>\n",
       "      <td>-0.517154</td>\n",
       "      <td>0.303431</td>\n",
       "      <td>-2.031784</td>\n",
       "      <td>0.403230</td>\n",
       "      <td>1.576806</td>\n",
       "      <td>-0.491899</td>\n",
       "      <td>-1.257836</td>\n",
       "    </tr>\n",
       "    <tr>\n",
       "      <th>887962</th>\n",
       "      <td>2020-09-30</td>\n",
       "      <td>351371</td>\n",
       "      <td>-0.076496</td>\n",
       "      <td>-0.352193</td>\n",
       "      <td>0.204517</td>\n",
       "      <td>-3.079972</td>\n",
       "      <td>1.316744</td>\n",
       "      <td>4.450750</td>\n",
       "      <td>-0.796219</td>\n",
       "      <td>-15.295812</td>\n",
       "      <td>-0.023036</td>\n",
       "      <td>-0.348261</td>\n",
       "      <td>0.132894</td>\n",
       "      <td>-2.181391</td>\n",
       "      <td>0.517083</td>\n",
       "      <td>1.983909</td>\n",
       "      <td>-0.660186</td>\n",
       "      <td>-1.143765</td>\n",
       "    </tr>\n",
       "    <tr>\n",
       "      <th>887963</th>\n",
       "      <td>2020-12-31</td>\n",
       "      <td>351371</td>\n",
       "      <td>0.346961</td>\n",
       "      <td>-0.484835</td>\n",
       "      <td>0.366771</td>\n",
       "      <td>-2.896275</td>\n",
       "      <td>1.409507</td>\n",
       "      <td>4.159801</td>\n",
       "      <td>-0.774811</td>\n",
       "      <td>-15.765458</td>\n",
       "      <td>0.111898</td>\n",
       "      <td>-0.526175</td>\n",
       "      <td>0.254703</td>\n",
       "      <td>-2.206601</td>\n",
       "      <td>0.603026</td>\n",
       "      <td>2.001226</td>\n",
       "      <td>-0.694291</td>\n",
       "      <td>-1.226978</td>\n",
       "    </tr>\n",
       "    <tr>\n",
       "      <th>887964</th>\n",
       "      <td>2021-03-31</td>\n",
       "      <td>351371</td>\n",
       "      <td>1.383455</td>\n",
       "      <td>-0.983350</td>\n",
       "      <td>0.383224</td>\n",
       "      <td>-2.814162</td>\n",
       "      <td>1.866016</td>\n",
       "      <td>3.531918</td>\n",
       "      <td>-1.184866</td>\n",
       "      <td>-7.701344</td>\n",
       "      <td>0.468713</td>\n",
       "      <td>-1.205338</td>\n",
       "      <td>0.280531</td>\n",
       "      <td>-2.233176</td>\n",
       "      <td>0.916113</td>\n",
       "      <td>1.987475</td>\n",
       "      <td>-1.205937</td>\n",
       "      <td>-0.772601</td>\n",
       "    </tr>\n",
       "    <tr>\n",
       "      <th>887965</th>\n",
       "      <td>2021-06-30</td>\n",
       "      <td>351371</td>\n",
       "      <td>1.068120</td>\n",
       "      <td>-1.039075</td>\n",
       "      <td>0.395615</td>\n",
       "      <td>-2.543761</td>\n",
       "      <td>2.051032</td>\n",
       "      <td>3.252719</td>\n",
       "      <td>-1.168254</td>\n",
       "      <td>-8.874988</td>\n",
       "      <td>0.369991</td>\n",
       "      <td>-1.284180</td>\n",
       "      <td>0.292989</td>\n",
       "      <td>-2.152965</td>\n",
       "      <td>1.042881</td>\n",
       "      <td>1.860541</td>\n",
       "      <td>-1.231838</td>\n",
       "      <td>-0.906659</td>\n",
       "    </tr>\n",
       "  </tbody>\n",
       "</table>\n",
       "<p>887966 rows × 18 columns</p>\n",
       "</div>"
      ],
      "text/plain": [
       "             date   gvkey     const     Mkt-RF        SMB        HML  \\\n",
       "0      2004-12-31    1003 -0.138276   0.010059   0.026984  -0.061919   \n",
       "1      2005-03-31    1003 -0.128774  -0.000035   0.025105  -0.030315   \n",
       "2      2005-06-30    1003 -0.172917   0.015876  -0.003249  -0.014142   \n",
       "3      2005-09-30    1003 -4.404246  -0.161192   3.786756  -0.675228   \n",
       "4      2005-12-31    1003  1.710249  50.739537 -37.328633 -35.158119   \n",
       "...           ...     ...       ...        ...        ...        ...   \n",
       "887961 2020-06-30  351371  1.007001  -0.562695   0.472423  -2.891656   \n",
       "887962 2020-09-30  351371 -0.076496  -0.352193   0.204517  -3.079972   \n",
       "887963 2020-12-31  351371  0.346961  -0.484835   0.366771  -2.896275   \n",
       "887964 2021-03-31  351371  1.383455  -0.983350   0.383224  -2.814162   \n",
       "887965 2021-06-30  351371  1.068120  -1.039075   0.395615  -2.543761   \n",
       "\n",
       "              RMW        CMA       UMD   CPI Diff  const_t_stat  \\\n",
       "0        0.058570  -0.023065 -0.011800   0.047869     -0.000000   \n",
       "1        0.033886  -0.007313 -0.011879   0.049594     -5.186306   \n",
       "2        0.024544  -0.022686 -0.004496   0.053990     -4.505061   \n",
       "3        4.244383   1.366785 -5.363642  24.304606     -0.274062   \n",
       "4       23.551260 -54.783362 -2.179491  90.876421      0.015951   \n",
       "...           ...        ...       ...        ...           ...   \n",
       "887961   1.111710   3.695034 -0.637119 -16.713177      0.301386   \n",
       "887962   1.316744   4.450750 -0.796219 -15.295812     -0.023036   \n",
       "887963   1.409507   4.159801 -0.774811 -15.765458      0.111898   \n",
       "887964   1.866016   3.531918 -1.184866  -7.701344      0.468713   \n",
       "887965   2.051032   3.252719 -1.168254  -8.874988      0.369991   \n",
       "\n",
       "        Mkt-RF_t_stat  SMB_t_stat  HML_t_stat  RMW_t_stat  CMA_t_stat  \\\n",
       "0            0.000000    0.000000   -0.000000    0.000000   -0.000000   \n",
       "1           -0.004412    3.084612   -1.407134    3.027088   -0.714596   \n",
       "2            0.840367   -0.169640   -0.395787    0.822088   -0.818753   \n",
       "3           -0.020287    0.498944   -0.051760    0.418794    0.116777   \n",
       "4            0.907953   -0.690888   -0.418940    0.352811   -0.714882   \n",
       "...               ...         ...         ...         ...         ...   \n",
       "887961      -0.517154    0.303431   -2.031784    0.403230    1.576806   \n",
       "887962      -0.348261    0.132894   -2.181391    0.517083    1.983909   \n",
       "887963      -0.526175    0.254703   -2.206601    0.603026    2.001226   \n",
       "887964      -1.205338    0.280531   -2.233176    0.916113    1.987475   \n",
       "887965      -1.284180    0.292989   -2.152965    1.042881    1.860541   \n",
       "\n",
       "        UMD_t_stat  CPI Diff_t_stat  \n",
       "0        -0.000000         0.000000  \n",
       "1        -1.901116         1.137301  \n",
       "2        -0.409248         0.808658  \n",
       "3        -1.328682         1.125379  \n",
       "4        -0.073614         0.626448  \n",
       "...            ...              ...  \n",
       "887961   -0.491899        -1.257836  \n",
       "887962   -0.660186        -1.143765  \n",
       "887963   -0.694291        -1.226978  \n",
       "887964   -1.205937        -0.772601  \n",
       "887965   -1.231838        -0.906659  \n",
       "\n",
       "[887966 rows x 18 columns]"
      ]
     },
     "execution_count": 232,
     "metadata": {},
     "output_type": "execute_result"
    }
   ],
   "source": [
    "beta_t_df"
   ]
  },
  {
   "cell_type": "code",
   "execution_count": 233,
   "metadata": {},
   "outputs": [],
   "source": [
    "# merge beta_t_df with funda on gvkey and report date\n",
    "beta_t_funda = pd.merge(beta_t_df, funda, how=\"inner\", left_on=[\"date\", \"gvkey\"], right_on=[\"report date\", \"GVKEY\"])"
   ]
  },
  {
   "cell_type": "code",
   "execution_count": 234,
   "metadata": {},
   "outputs": [
    {
     "data": {
      "text/html": [
       "<div>\n",
       "<style scoped>\n",
       "    .dataframe tbody tr th:only-of-type {\n",
       "        vertical-align: middle;\n",
       "    }\n",
       "\n",
       "    .dataframe tbody tr th {\n",
       "        vertical-align: top;\n",
       "    }\n",
       "\n",
       "    .dataframe thead th {\n",
       "        text-align: right;\n",
       "    }\n",
       "</style>\n",
       "<table border=\"1\" class=\"dataframe\">\n",
       "  <thead>\n",
       "    <tr style=\"text-align: right;\">\n",
       "      <th></th>\n",
       "      <th>date</th>\n",
       "      <th>gvkey</th>\n",
       "      <th>const</th>\n",
       "      <th>Mkt-RF</th>\n",
       "      <th>SMB</th>\n",
       "      <th>HML</th>\n",
       "      <th>RMW</th>\n",
       "      <th>CMA</th>\n",
       "      <th>UMD</th>\n",
       "      <th>CPI Diff</th>\n",
       "      <th>...</th>\n",
       "      <th>CPI Diff_t_stat</th>\n",
       "      <th>GVKEY</th>\n",
       "      <th>report date</th>\n",
       "      <th>Long-Term Debt Due in One Year Percent</th>\n",
       "      <th>Long-Term Debt Percent</th>\n",
       "      <th>Short-Term Debt Percent</th>\n",
       "      <th>Cash Percent</th>\n",
       "      <th>Total Long-term Investments Percent</th>\n",
       "      <th>Total Short-term Investments Percent</th>\n",
       "      <th>Operating Expense Ratio</th>\n",
       "    </tr>\n",
       "  </thead>\n",
       "  <tbody>\n",
       "    <tr>\n",
       "      <th>227</th>\n",
       "      <td>2005-03-31</td>\n",
       "      <td>1075</td>\n",
       "      <td>-4.877035</td>\n",
       "      <td>1.659626</td>\n",
       "      <td>0.846775</td>\n",
       "      <td>5.324797</td>\n",
       "      <td>-0.607216</td>\n",
       "      <td>-0.690056</td>\n",
       "      <td>-2.170726</td>\n",
       "      <td>11.229796</td>\n",
       "      <td>...</td>\n",
       "      <td>4.097631</td>\n",
       "      <td>1075</td>\n",
       "      <td>2005-03-31</td>\n",
       "      <td>NaN</td>\n",
       "      <td>0.789747</td>\n",
       "      <td>0.210253</td>\n",
       "      <td>NaN</td>\n",
       "      <td>NaN</td>\n",
       "      <td>NaN</td>\n",
       "      <td>0.181979</td>\n",
       "    </tr>\n",
       "    <tr>\n",
       "      <th>765</th>\n",
       "      <td>2005-03-31</td>\n",
       "      <td>1161</td>\n",
       "      <td>-14.176924</td>\n",
       "      <td>8.591560</td>\n",
       "      <td>5.612353</td>\n",
       "      <td>10.185375</td>\n",
       "      <td>3.366672</td>\n",
       "      <td>2.989373</td>\n",
       "      <td>-5.962305</td>\n",
       "      <td>53.887539</td>\n",
       "      <td>...</td>\n",
       "      <td>3.012727</td>\n",
       "      <td>1161</td>\n",
       "      <td>2005-03-31</td>\n",
       "      <td>NaN</td>\n",
       "      <td>0.875839</td>\n",
       "      <td>0.124161</td>\n",
       "      <td>NaN</td>\n",
       "      <td>NaN</td>\n",
       "      <td>NaN</td>\n",
       "      <td>0.182326</td>\n",
       "    </tr>\n",
       "    <tr>\n",
       "      <th>883</th>\n",
       "      <td>2005-03-31</td>\n",
       "      <td>1177</td>\n",
       "      <td>-10.514585</td>\n",
       "      <td>5.140738</td>\n",
       "      <td>-2.450534</td>\n",
       "      <td>13.354668</td>\n",
       "      <td>-4.502885</td>\n",
       "      <td>-4.748124</td>\n",
       "      <td>0.077585</td>\n",
       "      <td>3.740382</td>\n",
       "      <td>...</td>\n",
       "      <td>3.242902</td>\n",
       "      <td>1177</td>\n",
       "      <td>2005-03-31</td>\n",
       "      <td>NaN</td>\n",
       "      <td>1.000000</td>\n",
       "      <td>0.000000</td>\n",
       "      <td>NaN</td>\n",
       "      <td>NaN</td>\n",
       "      <td>NaN</td>\n",
       "      <td>0.230319</td>\n",
       "    </tr>\n",
       "    <tr>\n",
       "      <th>939</th>\n",
       "      <td>2005-03-31</td>\n",
       "      <td>1186</td>\n",
       "      <td>-16.754353</td>\n",
       "      <td>6.151968</td>\n",
       "      <td>-0.628416</td>\n",
       "      <td>11.314410</td>\n",
       "      <td>1.681008</td>\n",
       "      <td>-1.241984</td>\n",
       "      <td>-2.786355</td>\n",
       "      <td>41.032344</td>\n",
       "      <td>...</td>\n",
       "      <td>4.309442</td>\n",
       "      <td>1186</td>\n",
       "      <td>2005-03-31</td>\n",
       "      <td>NaN</td>\n",
       "      <td>1.000000</td>\n",
       "      <td>0.000000</td>\n",
       "      <td>NaN</td>\n",
       "      <td>NaN</td>\n",
       "      <td>NaN</td>\n",
       "      <td>0.134375</td>\n",
       "    </tr>\n",
       "    <tr>\n",
       "      <th>940</th>\n",
       "      <td>2005-06-30</td>\n",
       "      <td>1186</td>\n",
       "      <td>-6.106419</td>\n",
       "      <td>3.768420</td>\n",
       "      <td>-2.653889</td>\n",
       "      <td>2.721909</td>\n",
       "      <td>1.663432</td>\n",
       "      <td>-0.333178</td>\n",
       "      <td>0.144453</td>\n",
       "      <td>19.543607</td>\n",
       "      <td>...</td>\n",
       "      <td>3.128059</td>\n",
       "      <td>1186</td>\n",
       "      <td>2005-06-30</td>\n",
       "      <td>NaN</td>\n",
       "      <td>1.000000</td>\n",
       "      <td>0.000000</td>\n",
       "      <td>NaN</td>\n",
       "      <td>NaN</td>\n",
       "      <td>NaN</td>\n",
       "      <td>0.620600</td>\n",
       "    </tr>\n",
       "    <tr>\n",
       "      <th>...</th>\n",
       "      <td>...</td>\n",
       "      <td>...</td>\n",
       "      <td>...</td>\n",
       "      <td>...</td>\n",
       "      <td>...</td>\n",
       "      <td>...</td>\n",
       "      <td>...</td>\n",
       "      <td>...</td>\n",
       "      <td>...</td>\n",
       "      <td>...</td>\n",
       "      <td>...</td>\n",
       "      <td>...</td>\n",
       "      <td>...</td>\n",
       "      <td>...</td>\n",
       "      <td>...</td>\n",
       "      <td>...</td>\n",
       "      <td>...</td>\n",
       "      <td>...</td>\n",
       "      <td>...</td>\n",
       "      <td>...</td>\n",
       "      <td>...</td>\n",
       "    </tr>\n",
       "    <tr>\n",
       "      <th>318198</th>\n",
       "      <td>2021-09-30</td>\n",
       "      <td>325867</td>\n",
       "      <td>-13.903822</td>\n",
       "      <td>1.408790</td>\n",
       "      <td>4.816038</td>\n",
       "      <td>-3.840893</td>\n",
       "      <td>-0.644892</td>\n",
       "      <td>-4.279749</td>\n",
       "      <td>1.979693</td>\n",
       "      <td>26.251782</td>\n",
       "      <td>...</td>\n",
       "      <td>3.574284</td>\n",
       "      <td>325867</td>\n",
       "      <td>2021-09-30</td>\n",
       "      <td>1.592120</td>\n",
       "      <td>0.385785</td>\n",
       "      <td>0.614215</td>\n",
       "      <td>0.983808</td>\n",
       "      <td>1.00000</td>\n",
       "      <td>0.00000</td>\n",
       "      <td>31.953743</td>\n",
       "    </tr>\n",
       "    <tr>\n",
       "      <th>318226</th>\n",
       "      <td>2021-06-30</td>\n",
       "      <td>327451</td>\n",
       "      <td>-1.190008</td>\n",
       "      <td>0.399515</td>\n",
       "      <td>0.100292</td>\n",
       "      <td>0.341832</td>\n",
       "      <td>-2.353779</td>\n",
       "      <td>0.350497</td>\n",
       "      <td>0.529072</td>\n",
       "      <td>23.514010</td>\n",
       "      <td>...</td>\n",
       "      <td>3.089160</td>\n",
       "      <td>327451</td>\n",
       "      <td>2021-06-30</td>\n",
       "      <td>NaN</td>\n",
       "      <td>NaN</td>\n",
       "      <td>NaN</td>\n",
       "      <td>NaN</td>\n",
       "      <td>NaN</td>\n",
       "      <td>NaN</td>\n",
       "      <td>0.695506</td>\n",
       "    </tr>\n",
       "    <tr>\n",
       "      <th>318235</th>\n",
       "      <td>2019-09-30</td>\n",
       "      <td>328032</td>\n",
       "      <td>-6.223484</td>\n",
       "      <td>1.561390</td>\n",
       "      <td>-8.194390</td>\n",
       "      <td>3.658133</td>\n",
       "      <td>-8.776432</td>\n",
       "      <td>-1.763235</td>\n",
       "      <td>-0.203901</td>\n",
       "      <td>29.589727</td>\n",
       "      <td>...</td>\n",
       "      <td>420.734056</td>\n",
       "      <td>328032</td>\n",
       "      <td>2019-09-30</td>\n",
       "      <td>0.243789</td>\n",
       "      <td>0.803995</td>\n",
       "      <td>0.196005</td>\n",
       "      <td>0.605030</td>\n",
       "      <td>0.82828</td>\n",
       "      <td>0.17172</td>\n",
       "      <td>0.325859</td>\n",
       "    </tr>\n",
       "    <tr>\n",
       "      <th>318260</th>\n",
       "      <td>2019-12-31</td>\n",
       "      <td>330227</td>\n",
       "      <td>-11.036212</td>\n",
       "      <td>-5.695396</td>\n",
       "      <td>6.019047</td>\n",
       "      <td>5.048371</td>\n",
       "      <td>26.685688</td>\n",
       "      <td>-17.511926</td>\n",
       "      <td>3.153702</td>\n",
       "      <td>119.517747</td>\n",
       "      <td>...</td>\n",
       "      <td>4.180521</td>\n",
       "      <td>330227</td>\n",
       "      <td>2019-12-31</td>\n",
       "      <td>0.000000</td>\n",
       "      <td>1.000000</td>\n",
       "      <td>0.000000</td>\n",
       "      <td>1.000000</td>\n",
       "      <td>NaN</td>\n",
       "      <td>NaN</td>\n",
       "      <td>0.248241</td>\n",
       "    </tr>\n",
       "    <tr>\n",
       "      <th>318297</th>\n",
       "      <td>2021-09-30</td>\n",
       "      <td>345980</td>\n",
       "      <td>-15.184541</td>\n",
       "      <td>-4.246958</td>\n",
       "      <td>19.011309</td>\n",
       "      <td>-15.657938</td>\n",
       "      <td>12.354971</td>\n",
       "      <td>2.217539</td>\n",
       "      <td>3.642221</td>\n",
       "      <td>50.915506</td>\n",
       "      <td>...</td>\n",
       "      <td>9.736601</td>\n",
       "      <td>345980</td>\n",
       "      <td>2021-09-30</td>\n",
       "      <td>0.451613</td>\n",
       "      <td>0.688889</td>\n",
       "      <td>0.311111</td>\n",
       "      <td>0.893198</td>\n",
       "      <td>0.00000</td>\n",
       "      <td>1.00000</td>\n",
       "      <td>0.532913</td>\n",
       "    </tr>\n",
       "  </tbody>\n",
       "</table>\n",
       "<p>5382 rows × 27 columns</p>\n",
       "</div>"
      ],
      "text/plain": [
       "             date   gvkey      const    Mkt-RF        SMB        HML  \\\n",
       "227    2005-03-31    1075  -4.877035  1.659626   0.846775   5.324797   \n",
       "765    2005-03-31    1161 -14.176924  8.591560   5.612353  10.185375   \n",
       "883    2005-03-31    1177 -10.514585  5.140738  -2.450534  13.354668   \n",
       "939    2005-03-31    1186 -16.754353  6.151968  -0.628416  11.314410   \n",
       "940    2005-06-30    1186  -6.106419  3.768420  -2.653889   2.721909   \n",
       "...           ...     ...        ...       ...        ...        ...   \n",
       "318198 2021-09-30  325867 -13.903822  1.408790   4.816038  -3.840893   \n",
       "318226 2021-06-30  327451  -1.190008  0.399515   0.100292   0.341832   \n",
       "318235 2019-09-30  328032  -6.223484  1.561390  -8.194390   3.658133   \n",
       "318260 2019-12-31  330227 -11.036212 -5.695396   6.019047   5.048371   \n",
       "318297 2021-09-30  345980 -15.184541 -4.246958  19.011309 -15.657938   \n",
       "\n",
       "              RMW        CMA       UMD    CPI Diff  ...  CPI Diff_t_stat  \\\n",
       "227     -0.607216  -0.690056 -2.170726   11.229796  ...         4.097631   \n",
       "765      3.366672   2.989373 -5.962305   53.887539  ...         3.012727   \n",
       "883     -4.502885  -4.748124  0.077585    3.740382  ...         3.242902   \n",
       "939      1.681008  -1.241984 -2.786355   41.032344  ...         4.309442   \n",
       "940      1.663432  -0.333178  0.144453   19.543607  ...         3.128059   \n",
       "...           ...        ...       ...         ...  ...              ...   \n",
       "318198  -0.644892  -4.279749  1.979693   26.251782  ...         3.574284   \n",
       "318226  -2.353779   0.350497  0.529072   23.514010  ...         3.089160   \n",
       "318235  -8.776432  -1.763235 -0.203901   29.589727  ...       420.734056   \n",
       "318260  26.685688 -17.511926  3.153702  119.517747  ...         4.180521   \n",
       "318297  12.354971   2.217539  3.642221   50.915506  ...         9.736601   \n",
       "\n",
       "         GVKEY  report date  Long-Term Debt Due in One Year Percent  \\\n",
       "227       1075   2005-03-31                                     NaN   \n",
       "765       1161   2005-03-31                                     NaN   \n",
       "883       1177   2005-03-31                                     NaN   \n",
       "939       1186   2005-03-31                                     NaN   \n",
       "940       1186   2005-06-30                                     NaN   \n",
       "...        ...          ...                                     ...   \n",
       "318198  325867   2021-09-30                                1.592120   \n",
       "318226  327451   2021-06-30                                     NaN   \n",
       "318235  328032   2019-09-30                                0.243789   \n",
       "318260  330227   2019-12-31                                0.000000   \n",
       "318297  345980   2021-09-30                                0.451613   \n",
       "\n",
       "        Long-Term Debt Percent  Short-Term Debt Percent  Cash Percent  \\\n",
       "227                   0.789747                 0.210253           NaN   \n",
       "765                   0.875839                 0.124161           NaN   \n",
       "883                   1.000000                 0.000000           NaN   \n",
       "939                   1.000000                 0.000000           NaN   \n",
       "940                   1.000000                 0.000000           NaN   \n",
       "...                        ...                      ...           ...   \n",
       "318198                0.385785                 0.614215      0.983808   \n",
       "318226                     NaN                      NaN           NaN   \n",
       "318235                0.803995                 0.196005      0.605030   \n",
       "318260                1.000000                 0.000000      1.000000   \n",
       "318297                0.688889                 0.311111      0.893198   \n",
       "\n",
       "        Total Long-term Investments Percent  \\\n",
       "227                                     NaN   \n",
       "765                                     NaN   \n",
       "883                                     NaN   \n",
       "939                                     NaN   \n",
       "940                                     NaN   \n",
       "...                                     ...   \n",
       "318198                              1.00000   \n",
       "318226                                  NaN   \n",
       "318235                              0.82828   \n",
       "318260                                  NaN   \n",
       "318297                              0.00000   \n",
       "\n",
       "        Total Short-term Investments Percent Operating Expense Ratio  \n",
       "227                                      NaN                0.181979  \n",
       "765                                      NaN                0.182326  \n",
       "883                                      NaN                0.230319  \n",
       "939                                      NaN                0.134375  \n",
       "940                                      NaN                0.620600  \n",
       "...                                      ...                     ...  \n",
       "318198                               0.00000               31.953743  \n",
       "318226                                   NaN                0.695506  \n",
       "318235                               0.17172                0.325859  \n",
       "318260                                   NaN                0.248241  \n",
       "318297                               1.00000                0.532913  \n",
       "\n",
       "[5382 rows x 27 columns]"
      ]
     },
     "execution_count": 234,
     "metadata": {},
     "output_type": "execute_result"
    }
   ],
   "source": [
    "# find sigificant betas for cpi diff\n",
    "beta_t_funda[abs(beta_t_funda[\"CPI Diff_t_stat\"]) > 3]"
   ]
  },
  {
   "cell_type": "code",
   "execution_count": 236,
   "metadata": {},
   "outputs": [
    {
     "data": {
      "text/plain": [
       "date                                           0\n",
       "gvkey                                          0\n",
       "const                                          0\n",
       "Mkt-RF                                         0\n",
       "SMB                                            0\n",
       "HML                                            0\n",
       "RMW                                            0\n",
       "CMA                                            0\n",
       "UMD                                            0\n",
       "CPI Diff                                       0\n",
       "const_t_stat                                   0\n",
       "Mkt-RF_t_stat                                  0\n",
       "SMB_t_stat                                     0\n",
       "HML_t_stat                                     0\n",
       "RMW_t_stat                                     0\n",
       "CMA_t_stat                                     0\n",
       "UMD_t_stat                                     0\n",
       "CPI Diff_t_stat                                0\n",
       "GVKEY                                          0\n",
       "report date                                    0\n",
       "Long-Term Debt Due in One Year Percent    212034\n",
       "Long-Term Debt Percent                     71043\n",
       "Short-Term Debt Percent                    71043\n",
       "Cash Percent                              125489\n",
       "Total Long-term Investments Percent       177582\n",
       "Total Short-term Investments Percent      177582\n",
       "Operating Expense Ratio                    39923\n",
       "dtype: int64"
      ]
     },
     "execution_count": 236,
     "metadata": {},
     "output_type": "execute_result"
    }
   ],
   "source": [
    "beta_t_funda.isna().sum()"
   ]
  },
  {
   "cell_type": "code",
   "execution_count": 247,
   "metadata": {},
   "outputs": [],
   "source": [
    "temp = beta_t_funda.dropna()"
   ]
  },
  {
   "cell_type": "code",
   "execution_count": 248,
   "metadata": {},
   "outputs": [],
   "source": [
    "temp = temp[abs(temp[\"CPI Diff_t_stat\"]) > 2]"
   ]
  },
  {
   "cell_type": "code",
   "execution_count": 249,
   "metadata": {},
   "outputs": [
    {
     "data": {
      "text/plain": [
       "<AxesSubplot:>"
      ]
     },
     "execution_count": 249,
     "metadata": {},
     "output_type": "execute_result"
    },
    {
     "data": {
      "image/png": "[encoded data removed]",
      "text/plain": [
       "<Figure size 432x288 with 1 Axes>"
      ]
     },
     "metadata": {
      "needs_background": "light"
     },
     "output_type": "display_data"
    }
   ],
   "source": [
    "# plot count of significant t stats postive and negative by date\n",
    "temp[\"date\"].value_counts().plot()"
   ]
  },
  {
   "cell_type": "code",
   "execution_count": null,
   "metadata": {},
   "outputs": [],
   "source": []
  },
  {
   "cell_type": "code",
   "execution_count": null,
   "metadata": {},
   "outputs": [],
   "source": []
  },
  {
   "cell_type": "code",
   "execution_count": null,
   "metadata": {},
   "outputs": [],
   "source": []
  },
  {
   "cell_type": "markdown",
   "metadata": {},
   "source": [
    "# Macros"
   ]
  },
  {
   "cell_type": "code",
   "execution_count": 276,
   "metadata": {},
   "outputs": [],
   "source": [
    "# read in GDP\n",
    "gdp = pd.read_csv(\"data/GDP.csv\")\n",
    "\n",
    "unemployment = pd.read_excel(\"data/UNRATE.xls\")\n",
    "\n",
    "corp_profits = pd.read_excel(\"data/CP.xls\")\n",
    "\n",
    "# read in FEDFUND\n",
    "fedfund = pd.read_csv(\"data/FEDFUNDS.csv\")"
   ]
  },
  {
   "cell_type": "code",
   "execution_count": 277,
   "metadata": {},
   "outputs": [],
   "source": [
    "# add 3 months to date and call that report date\n",
    "unemployment[\"observation_date\"] = pd.to_datetime(unemployment[\"observation_date\"])\n",
    "\n",
    "unemployment[\"report date\"] = unemployment[\"observation_date\"] + MonthEnd(3)\n",
    "\n",
    "# drop observation date\n",
    "unemployment.drop(\"observation_date\", axis=1, inplace=True)"
   ]
  },
  {
   "cell_type": "code",
   "execution_count": 278,
   "metadata": {},
   "outputs": [],
   "source": [
    "corp_profits[\"observation_date\"] = pd.to_datetime(corp_profits[\"observation_date\"])\n",
    "\n",
    "corp_profits[\"report date\"] = corp_profits[\"observation_date\"] + MonthEnd(3)\n",
    "corp_profits.drop(\"observation_date\", axis=1, inplace=True)"
   ]
  },
  {
   "cell_type": "code",
   "execution_count": 279,
   "metadata": {},
   "outputs": [],
   "source": [
    "gdp[\"DATE\"] = pd.to_datetime(gdp[\"DATE\"])\n",
    "gdp[\"report date\"] = gdp[\"DATE\"] + MonthEnd(3)\n",
    "gdp.drop(\"DATE\", axis=1, inplace=True)"
   ]
  },
  {
   "cell_type": "code",
   "execution_count": 280,
   "metadata": {},
   "outputs": [],
   "source": [
    "# report date is the end of the month \n",
    "fedfund[\"DATE\"] = pd.to_datetime(fedfund[\"DATE\"])\n",
    "fedfund[\"report date\"] = fedfund[\"DATE\"] + MonthEnd(0)\n",
    "fedfund.drop(\"DATE\", axis=1, inplace=True)"
   ]
  },
  {
   "cell_type": "code",
   "execution_count": 283,
   "metadata": {},
   "outputs": [],
   "source": [
    "# merge corp_profits with unemployment with gdp with fedfund on report date\n",
    "macros = pd.merge(corp_profits, unemployment, how=\"inner\", left_on=\"report date\", right_on=\"report date\")\n",
    "macros = pd.merge(macros, gdp, how=\"inner\", left_on=\"report date\", right_on=\"report date\")\n",
    "macros = pd.merge(macros, fedfund, how=\"inner\", left_on=\"report date\", right_on=\"report date\")"
   ]
  },
  {
   "cell_type": "code",
   "execution_count": 284,
   "metadata": {},
   "outputs": [
    {
     "data": {
      "text/html": [
       "<div>\n",
       "<style scoped>\n",
       "    .dataframe tbody tr th:only-of-type {\n",
       "        vertical-align: middle;\n",
       "    }\n",
       "\n",
       "    .dataframe tbody tr th {\n",
       "        vertical-align: top;\n",
       "    }\n",
       "\n",
       "    .dataframe thead th {\n",
       "        text-align: right;\n",
       "    }\n",
       "</style>\n",
       "<table border=\"1\" class=\"dataframe\">\n",
       "  <thead>\n",
       "    <tr style=\"text-align: right;\">\n",
       "      <th></th>\n",
       "      <th>CP</th>\n",
       "      <th>report date</th>\n",
       "      <th>UNRATE</th>\n",
       "      <th>GDP</th>\n",
       "      <th>FEDFUNDS</th>\n",
       "    </tr>\n",
       "  </thead>\n",
       "  <tbody>\n",
       "    <tr>\n",
       "      <th>0</th>\n",
       "      <td>23.813</td>\n",
       "      <td>1954-09-30</td>\n",
       "      <td>5.966667</td>\n",
       "      <td>390.996</td>\n",
       "      <td>1.07</td>\n",
       "    </tr>\n",
       "    <tr>\n",
       "      <th>1</th>\n",
       "      <td>25.515</td>\n",
       "      <td>1954-12-31</td>\n",
       "      <td>5.333333</td>\n",
       "      <td>399.734</td>\n",
       "      <td>1.28</td>\n",
       "    </tr>\n",
       "    <tr>\n",
       "      <th>2</th>\n",
       "      <td>28.583</td>\n",
       "      <td>1955-03-31</td>\n",
       "      <td>4.733333</td>\n",
       "      <td>413.073</td>\n",
       "      <td>1.35</td>\n",
       "    </tr>\n",
       "    <tr>\n",
       "      <th>3</th>\n",
       "      <td>29.064</td>\n",
       "      <td>1955-06-30</td>\n",
       "      <td>4.400000</td>\n",
       "      <td>421.532</td>\n",
       "      <td>1.64</td>\n",
       "    </tr>\n",
       "    <tr>\n",
       "      <th>4</th>\n",
       "      <td>29.843</td>\n",
       "      <td>1955-09-30</td>\n",
       "      <td>4.100000</td>\n",
       "      <td>430.221</td>\n",
       "      <td>2.18</td>\n",
       "    </tr>\n",
       "    <tr>\n",
       "      <th>...</th>\n",
       "      <td>...</td>\n",
       "      <td>...</td>\n",
       "      <td>...</td>\n",
       "      <td>...</td>\n",
       "      <td>...</td>\n",
       "    </tr>\n",
       "    <tr>\n",
       "      <th>268</th>\n",
       "      <td>2827.118</td>\n",
       "      <td>2021-09-30</td>\n",
       "      <td>5.133333</td>\n",
       "      <td>23550.420</td>\n",
       "      <td>0.08</td>\n",
       "    </tr>\n",
       "    <tr>\n",
       "      <th>269</th>\n",
       "      <td>2760.777</td>\n",
       "      <td>2021-12-31</td>\n",
       "      <td>4.200000</td>\n",
       "      <td>24349.121</td>\n",
       "      <td>0.08</td>\n",
       "    </tr>\n",
       "    <tr>\n",
       "      <th>270</th>\n",
       "      <td>2833.431</td>\n",
       "      <td>2022-03-31</td>\n",
       "      <td>3.800000</td>\n",
       "      <td>24740.480</td>\n",
       "      <td>0.20</td>\n",
       "    </tr>\n",
       "    <tr>\n",
       "      <th>271</th>\n",
       "      <td>3043.114</td>\n",
       "      <td>2022-06-30</td>\n",
       "      <td>3.600000</td>\n",
       "      <td>25248.476</td>\n",
       "      <td>1.21</td>\n",
       "    </tr>\n",
       "    <tr>\n",
       "      <th>272</th>\n",
       "      <td>2890.812</td>\n",
       "      <td>2022-09-30</td>\n",
       "      <td>3.566667</td>\n",
       "      <td>25723.941</td>\n",
       "      <td>2.56</td>\n",
       "    </tr>\n",
       "  </tbody>\n",
       "</table>\n",
       "<p>273 rows × 5 columns</p>\n",
       "</div>"
      ],
      "text/plain": [
       "           CP report date    UNRATE        GDP  FEDFUNDS\n",
       "0      23.813  1954-09-30  5.966667    390.996      1.07\n",
       "1      25.515  1954-12-31  5.333333    399.734      1.28\n",
       "2      28.583  1955-03-31  4.733333    413.073      1.35\n",
       "3      29.064  1955-06-30  4.400000    421.532      1.64\n",
       "4      29.843  1955-09-30  4.100000    430.221      2.18\n",
       "..        ...         ...       ...        ...       ...\n",
       "268  2827.118  2021-09-30  5.133333  23550.420      0.08\n",
       "269  2760.777  2021-12-31  4.200000  24349.121      0.08\n",
       "270  2833.431  2022-03-31  3.800000  24740.480      0.20\n",
       "271  3043.114  2022-06-30  3.600000  25248.476      1.21\n",
       "272  2890.812  2022-09-30  3.566667  25723.941      2.56\n",
       "\n",
       "[273 rows x 5 columns]"
      ]
     },
     "execution_count": 284,
     "metadata": {},
     "output_type": "execute_result"
    }
   ],
   "source": [
    "macros"
   ]
  },
  {
   "cell_type": "code",
   "execution_count": 285,
   "metadata": {},
   "outputs": [
    {
     "data": {
      "text/html": [
       "<div>\n",
       "<style scoped>\n",
       "    .dataframe tbody tr th:only-of-type {\n",
       "        vertical-align: middle;\n",
       "    }\n",
       "\n",
       "    .dataframe tbody tr th {\n",
       "        vertical-align: top;\n",
       "    }\n",
       "\n",
       "    .dataframe thead th {\n",
       "        text-align: right;\n",
       "    }\n",
       "</style>\n",
       "<table border=\"1\" class=\"dataframe\">\n",
       "  <thead>\n",
       "    <tr style=\"text-align: right;\">\n",
       "      <th></th>\n",
       "      <th>date</th>\n",
       "      <th>gvkey</th>\n",
       "      <th>const</th>\n",
       "      <th>Mkt-RF</th>\n",
       "      <th>SMB</th>\n",
       "      <th>HML</th>\n",
       "      <th>RMW</th>\n",
       "      <th>CMA</th>\n",
       "      <th>UMD</th>\n",
       "      <th>CPI Diff</th>\n",
       "      <th>const_t_stat</th>\n",
       "      <th>Mkt-RF_t_stat</th>\n",
       "      <th>SMB_t_stat</th>\n",
       "      <th>HML_t_stat</th>\n",
       "      <th>RMW_t_stat</th>\n",
       "      <th>CMA_t_stat</th>\n",
       "      <th>UMD_t_stat</th>\n",
       "      <th>CPI Diff_t_stat</th>\n",
       "    </tr>\n",
       "  </thead>\n",
       "  <tbody>\n",
       "    <tr>\n",
       "      <th>0</th>\n",
       "      <td>2004-12-31</td>\n",
       "      <td>1003</td>\n",
       "      <td>-0.138276</td>\n",
       "      <td>0.010059</td>\n",
       "      <td>0.026984</td>\n",
       "      <td>-0.061919</td>\n",
       "      <td>0.058570</td>\n",
       "      <td>-0.023065</td>\n",
       "      <td>-0.011800</td>\n",
       "      <td>0.047869</td>\n",
       "      <td>-0.000000</td>\n",
       "      <td>0.000000</td>\n",
       "      <td>0.000000</td>\n",
       "      <td>-0.000000</td>\n",
       "      <td>0.000000</td>\n",
       "      <td>-0.000000</td>\n",
       "      <td>-0.000000</td>\n",
       "      <td>0.000000</td>\n",
       "    </tr>\n",
       "    <tr>\n",
       "      <th>1</th>\n",
       "      <td>2005-03-31</td>\n",
       "      <td>1003</td>\n",
       "      <td>-0.128774</td>\n",
       "      <td>-0.000035</td>\n",
       "      <td>0.025105</td>\n",
       "      <td>-0.030315</td>\n",
       "      <td>0.033886</td>\n",
       "      <td>-0.007313</td>\n",
       "      <td>-0.011879</td>\n",
       "      <td>0.049594</td>\n",
       "      <td>-5.186306</td>\n",
       "      <td>-0.004412</td>\n",
       "      <td>3.084612</td>\n",
       "      <td>-1.407134</td>\n",
       "      <td>3.027088</td>\n",
       "      <td>-0.714596</td>\n",
       "      <td>-1.901116</td>\n",
       "      <td>1.137301</td>\n",
       "    </tr>\n",
       "    <tr>\n",
       "      <th>2</th>\n",
       "      <td>2005-06-30</td>\n",
       "      <td>1003</td>\n",
       "      <td>-0.172917</td>\n",
       "      <td>0.015876</td>\n",
       "      <td>-0.003249</td>\n",
       "      <td>-0.014142</td>\n",
       "      <td>0.024544</td>\n",
       "      <td>-0.022686</td>\n",
       "      <td>-0.004496</td>\n",
       "      <td>0.053990</td>\n",
       "      <td>-4.505061</td>\n",
       "      <td>0.840367</td>\n",
       "      <td>-0.169640</td>\n",
       "      <td>-0.395787</td>\n",
       "      <td>0.822088</td>\n",
       "      <td>-0.818753</td>\n",
       "      <td>-0.409248</td>\n",
       "      <td>0.808658</td>\n",
       "    </tr>\n",
       "    <tr>\n",
       "      <th>3</th>\n",
       "      <td>2005-09-30</td>\n",
       "      <td>1003</td>\n",
       "      <td>-4.404246</td>\n",
       "      <td>-0.161192</td>\n",
       "      <td>3.786756</td>\n",
       "      <td>-0.675228</td>\n",
       "      <td>4.244383</td>\n",
       "      <td>1.366785</td>\n",
       "      <td>-5.363642</td>\n",
       "      <td>24.304606</td>\n",
       "      <td>-0.274062</td>\n",
       "      <td>-0.020287</td>\n",
       "      <td>0.498944</td>\n",
       "      <td>-0.051760</td>\n",
       "      <td>0.418794</td>\n",
       "      <td>0.116777</td>\n",
       "      <td>-1.328682</td>\n",
       "      <td>1.125379</td>\n",
       "    </tr>\n",
       "    <tr>\n",
       "      <th>4</th>\n",
       "      <td>2005-12-31</td>\n",
       "      <td>1003</td>\n",
       "      <td>1.710249</td>\n",
       "      <td>50.739537</td>\n",
       "      <td>-37.328633</td>\n",
       "      <td>-35.158119</td>\n",
       "      <td>23.551260</td>\n",
       "      <td>-54.783362</td>\n",
       "      <td>-2.179491</td>\n",
       "      <td>90.876421</td>\n",
       "      <td>0.015951</td>\n",
       "      <td>0.907953</td>\n",
       "      <td>-0.690888</td>\n",
       "      <td>-0.418940</td>\n",
       "      <td>0.352811</td>\n",
       "      <td>-0.714882</td>\n",
       "      <td>-0.073614</td>\n",
       "      <td>0.626448</td>\n",
       "    </tr>\n",
       "    <tr>\n",
       "      <th>...</th>\n",
       "      <td>...</td>\n",
       "      <td>...</td>\n",
       "      <td>...</td>\n",
       "      <td>...</td>\n",
       "      <td>...</td>\n",
       "      <td>...</td>\n",
       "      <td>...</td>\n",
       "      <td>...</td>\n",
       "      <td>...</td>\n",
       "      <td>...</td>\n",
       "      <td>...</td>\n",
       "      <td>...</td>\n",
       "      <td>...</td>\n",
       "      <td>...</td>\n",
       "      <td>...</td>\n",
       "      <td>...</td>\n",
       "      <td>...</td>\n",
       "      <td>...</td>\n",
       "    </tr>\n",
       "    <tr>\n",
       "      <th>887961</th>\n",
       "      <td>2020-06-30</td>\n",
       "      <td>351371</td>\n",
       "      <td>1.007001</td>\n",
       "      <td>-0.562695</td>\n",
       "      <td>0.472423</td>\n",
       "      <td>-2.891656</td>\n",
       "      <td>1.111710</td>\n",
       "      <td>3.695034</td>\n",
       "      <td>-0.637119</td>\n",
       "      <td>-16.713177</td>\n",
       "      <td>0.301386</td>\n",
       "      <td>-0.517154</td>\n",
       "      <td>0.303431</td>\n",
       "      <td>-2.031784</td>\n",
       "      <td>0.403230</td>\n",
       "      <td>1.576806</td>\n",
       "      <td>-0.491899</td>\n",
       "      <td>-1.257836</td>\n",
       "    </tr>\n",
       "    <tr>\n",
       "      <th>887962</th>\n",
       "      <td>2020-09-30</td>\n",
       "      <td>351371</td>\n",
       "      <td>-0.076496</td>\n",
       "      <td>-0.352193</td>\n",
       "      <td>0.204517</td>\n",
       "      <td>-3.079972</td>\n",
       "      <td>1.316744</td>\n",
       "      <td>4.450750</td>\n",
       "      <td>-0.796219</td>\n",
       "      <td>-15.295812</td>\n",
       "      <td>-0.023036</td>\n",
       "      <td>-0.348261</td>\n",
       "      <td>0.132894</td>\n",
       "      <td>-2.181391</td>\n",
       "      <td>0.517083</td>\n",
       "      <td>1.983909</td>\n",
       "      <td>-0.660186</td>\n",
       "      <td>-1.143765</td>\n",
       "    </tr>\n",
       "    <tr>\n",
       "      <th>887963</th>\n",
       "      <td>2020-12-31</td>\n",
       "      <td>351371</td>\n",
       "      <td>0.346961</td>\n",
       "      <td>-0.484835</td>\n",
       "      <td>0.366771</td>\n",
       "      <td>-2.896275</td>\n",
       "      <td>1.409507</td>\n",
       "      <td>4.159801</td>\n",
       "      <td>-0.774811</td>\n",
       "      <td>-15.765458</td>\n",
       "      <td>0.111898</td>\n",
       "      <td>-0.526175</td>\n",
       "      <td>0.254703</td>\n",
       "      <td>-2.206601</td>\n",
       "      <td>0.603026</td>\n",
       "      <td>2.001226</td>\n",
       "      <td>-0.694291</td>\n",
       "      <td>-1.226978</td>\n",
       "    </tr>\n",
       "    <tr>\n",
       "      <th>887964</th>\n",
       "      <td>2021-03-31</td>\n",
       "      <td>351371</td>\n",
       "      <td>1.383455</td>\n",
       "      <td>-0.983350</td>\n",
       "      <td>0.383224</td>\n",
       "      <td>-2.814162</td>\n",
       "      <td>1.866016</td>\n",
       "      <td>3.531918</td>\n",
       "      <td>-1.184866</td>\n",
       "      <td>-7.701344</td>\n",
       "      <td>0.468713</td>\n",
       "      <td>-1.205338</td>\n",
       "      <td>0.280531</td>\n",
       "      <td>-2.233176</td>\n",
       "      <td>0.916113</td>\n",
       "      <td>1.987475</td>\n",
       "      <td>-1.205937</td>\n",
       "      <td>-0.772601</td>\n",
       "    </tr>\n",
       "    <tr>\n",
       "      <th>887965</th>\n",
       "      <td>2021-06-30</td>\n",
       "      <td>351371</td>\n",
       "      <td>1.068120</td>\n",
       "      <td>-1.039075</td>\n",
       "      <td>0.395615</td>\n",
       "      <td>-2.543761</td>\n",
       "      <td>2.051032</td>\n",
       "      <td>3.252719</td>\n",
       "      <td>-1.168254</td>\n",
       "      <td>-8.874988</td>\n",
       "      <td>0.369991</td>\n",
       "      <td>-1.284180</td>\n",
       "      <td>0.292989</td>\n",
       "      <td>-2.152965</td>\n",
       "      <td>1.042881</td>\n",
       "      <td>1.860541</td>\n",
       "      <td>-1.231838</td>\n",
       "      <td>-0.906659</td>\n",
       "    </tr>\n",
       "  </tbody>\n",
       "</table>\n",
       "<p>887966 rows × 18 columns</p>\n",
       "</div>"
      ],
      "text/plain": [
       "             date   gvkey     const     Mkt-RF        SMB        HML  \\\n",
       "0      2004-12-31    1003 -0.138276   0.010059   0.026984  -0.061919   \n",
       "1      2005-03-31    1003 -0.128774  -0.000035   0.025105  -0.030315   \n",
       "2      2005-06-30    1003 -0.172917   0.015876  -0.003249  -0.014142   \n",
       "3      2005-09-30    1003 -4.404246  -0.161192   3.786756  -0.675228   \n",
       "4      2005-12-31    1003  1.710249  50.739537 -37.328633 -35.158119   \n",
       "...           ...     ...       ...        ...        ...        ...   \n",
       "887961 2020-06-30  351371  1.007001  -0.562695   0.472423  -2.891656   \n",
       "887962 2020-09-30  351371 -0.076496  -0.352193   0.204517  -3.079972   \n",
       "887963 2020-12-31  351371  0.346961  -0.484835   0.366771  -2.896275   \n",
       "887964 2021-03-31  351371  1.383455  -0.983350   0.383224  -2.814162   \n",
       "887965 2021-06-30  351371  1.068120  -1.039075   0.395615  -2.543761   \n",
       "\n",
       "              RMW        CMA       UMD   CPI Diff  const_t_stat  \\\n",
       "0        0.058570  -0.023065 -0.011800   0.047869     -0.000000   \n",
       "1        0.033886  -0.007313 -0.011879   0.049594     -5.186306   \n",
       "2        0.024544  -0.022686 -0.004496   0.053990     -4.505061   \n",
       "3        4.244383   1.366785 -5.363642  24.304606     -0.274062   \n",
       "4       23.551260 -54.783362 -2.179491  90.876421      0.015951   \n",
       "...           ...        ...       ...        ...           ...   \n",
       "887961   1.111710   3.695034 -0.637119 -16.713177      0.301386   \n",
       "887962   1.316744   4.450750 -0.796219 -15.295812     -0.023036   \n",
       "887963   1.409507   4.159801 -0.774811 -15.765458      0.111898   \n",
       "887964   1.866016   3.531918 -1.184866  -7.701344      0.468713   \n",
       "887965   2.051032   3.252719 -1.168254  -8.874988      0.369991   \n",
       "\n",
       "        Mkt-RF_t_stat  SMB_t_stat  HML_t_stat  RMW_t_stat  CMA_t_stat  \\\n",
       "0            0.000000    0.000000   -0.000000    0.000000   -0.000000   \n",
       "1           -0.004412    3.084612   -1.407134    3.027088   -0.714596   \n",
       "2            0.840367   -0.169640   -0.395787    0.822088   -0.818753   \n",
       "3           -0.020287    0.498944   -0.051760    0.418794    0.116777   \n",
       "4            0.907953   -0.690888   -0.418940    0.352811   -0.714882   \n",
       "...               ...         ...         ...         ...         ...   \n",
       "887961      -0.517154    0.303431   -2.031784    0.403230    1.576806   \n",
       "887962      -0.348261    0.132894   -2.181391    0.517083    1.983909   \n",
       "887963      -0.526175    0.254703   -2.206601    0.603026    2.001226   \n",
       "887964      -1.205338    0.280531   -2.233176    0.916113    1.987475   \n",
       "887965      -1.284180    0.292989   -2.152965    1.042881    1.860541   \n",
       "\n",
       "        UMD_t_stat  CPI Diff_t_stat  \n",
       "0        -0.000000         0.000000  \n",
       "1        -1.901116         1.137301  \n",
       "2        -0.409248         0.808658  \n",
       "3        -1.328682         1.125379  \n",
       "4        -0.073614         0.626448  \n",
       "...            ...              ...  \n",
       "887961   -0.491899        -1.257836  \n",
       "887962   -0.660186        -1.143765  \n",
       "887963   -0.694291        -1.226978  \n",
       "887964   -1.205937        -0.772601  \n",
       "887965   -1.231838        -0.906659  \n",
       "\n",
       "[887966 rows x 18 columns]"
      ]
     },
     "execution_count": 285,
     "metadata": {},
     "output_type": "execute_result"
    }
   ],
   "source": [
    "beta_t_df"
   ]
  },
  {
   "cell_type": "code",
   "execution_count": 290,
   "metadata": {},
   "outputs": [
    {
     "data": {
      "text/html": [
       "<div>\n",
       "<style scoped>\n",
       "    .dataframe tbody tr th:only-of-type {\n",
       "        vertical-align: middle;\n",
       "    }\n",
       "\n",
       "    .dataframe tbody tr th {\n",
       "        vertical-align: top;\n",
       "    }\n",
       "\n",
       "    .dataframe thead th {\n",
       "        text-align: right;\n",
       "    }\n",
       "</style>\n",
       "<table border=\"1\" class=\"dataframe\">\n",
       "  <thead>\n",
       "    <tr style=\"text-align: right;\">\n",
       "      <th></th>\n",
       "      <th>gvkey</th>\n",
       "      <th>iid</th>\n",
       "      <th>datadate</th>\n",
       "      <th>tic</th>\n",
       "      <th>cusip</th>\n",
       "      <th>conm</th>\n",
       "      <th>dvrate</th>\n",
       "      <th>cshtrm</th>\n",
       "      <th>prccm</th>\n",
       "      <th>trfm</th>\n",
       "      <th>...</th>\n",
       "      <th>cshom</th>\n",
       "      <th>exchg</th>\n",
       "      <th>cik</th>\n",
       "      <th>ggroup</th>\n",
       "      <th>gind</th>\n",
       "      <th>gsector</th>\n",
       "      <th>gsubind</th>\n",
       "      <th>sic</th>\n",
       "      <th>spcindcd</th>\n",
       "      <th>spcseccd</th>\n",
       "    </tr>\n",
       "  </thead>\n",
       "  <tbody>\n",
       "    <tr>\n",
       "      <th>358</th>\n",
       "      <td>1003</td>\n",
       "      <td>01</td>\n",
       "      <td>2004-06-30</td>\n",
       "      <td>ANTQ</td>\n",
       "      <td>000354100</td>\n",
       "      <td>A.A. IMPORTING CO INC</td>\n",
       "      <td>NaN</td>\n",
       "      <td>NaN</td>\n",
       "      <td>0.04</td>\n",
       "      <td>1.0</td>\n",
       "      <td>...</td>\n",
       "      <td>2683000.0</td>\n",
       "      <td>19.0</td>\n",
       "      <td>730052.0</td>\n",
       "      <td>2550.0</td>\n",
       "      <td>255040.0</td>\n",
       "      <td>25.0</td>\n",
       "      <td>25504040.0</td>\n",
       "      <td>5712.0</td>\n",
       "      <td>449.0</td>\n",
       "      <td>976.0</td>\n",
       "    </tr>\n",
       "    <tr>\n",
       "      <th>359</th>\n",
       "      <td>1003</td>\n",
       "      <td>01</td>\n",
       "      <td>2004-07-31</td>\n",
       "      <td>ANTQ</td>\n",
       "      <td>000354100</td>\n",
       "      <td>A.A. IMPORTING CO INC</td>\n",
       "      <td>NaN</td>\n",
       "      <td>NaN</td>\n",
       "      <td>0.04</td>\n",
       "      <td>1.0</td>\n",
       "      <td>...</td>\n",
       "      <td>2683000.0</td>\n",
       "      <td>19.0</td>\n",
       "      <td>730052.0</td>\n",
       "      <td>2550.0</td>\n",
       "      <td>255040.0</td>\n",
       "      <td>25.0</td>\n",
       "      <td>25504040.0</td>\n",
       "      <td>5712.0</td>\n",
       "      <td>449.0</td>\n",
       "      <td>976.0</td>\n",
       "    </tr>\n",
       "    <tr>\n",
       "      <th>360</th>\n",
       "      <td>1003</td>\n",
       "      <td>01</td>\n",
       "      <td>2004-08-31</td>\n",
       "      <td>ANTQ</td>\n",
       "      <td>000354100</td>\n",
       "      <td>A.A. IMPORTING CO INC</td>\n",
       "      <td>NaN</td>\n",
       "      <td>NaN</td>\n",
       "      <td>0.04</td>\n",
       "      <td>1.0</td>\n",
       "      <td>...</td>\n",
       "      <td>2683000.0</td>\n",
       "      <td>19.0</td>\n",
       "      <td>730052.0</td>\n",
       "      <td>2550.0</td>\n",
       "      <td>255040.0</td>\n",
       "      <td>25.0</td>\n",
       "      <td>25504040.0</td>\n",
       "      <td>5712.0</td>\n",
       "      <td>449.0</td>\n",
       "      <td>976.0</td>\n",
       "    </tr>\n",
       "    <tr>\n",
       "      <th>361</th>\n",
       "      <td>1003</td>\n",
       "      <td>01</td>\n",
       "      <td>2004-09-30</td>\n",
       "      <td>ANTQ</td>\n",
       "      <td>000354100</td>\n",
       "      <td>A.A. IMPORTING CO INC</td>\n",
       "      <td>NaN</td>\n",
       "      <td>NaN</td>\n",
       "      <td>0.04</td>\n",
       "      <td>1.0</td>\n",
       "      <td>...</td>\n",
       "      <td>2683000.0</td>\n",
       "      <td>19.0</td>\n",
       "      <td>730052.0</td>\n",
       "      <td>2550.0</td>\n",
       "      <td>255040.0</td>\n",
       "      <td>25.0</td>\n",
       "      <td>25504040.0</td>\n",
       "      <td>5712.0</td>\n",
       "      <td>449.0</td>\n",
       "      <td>976.0</td>\n",
       "    </tr>\n",
       "    <tr>\n",
       "      <th>362</th>\n",
       "      <td>1003</td>\n",
       "      <td>01</td>\n",
       "      <td>2004-10-31</td>\n",
       "      <td>ANTQ</td>\n",
       "      <td>000354100</td>\n",
       "      <td>A.A. IMPORTING CO INC</td>\n",
       "      <td>NaN</td>\n",
       "      <td>NaN</td>\n",
       "      <td>0.04</td>\n",
       "      <td>1.0</td>\n",
       "      <td>...</td>\n",
       "      <td>2683000.0</td>\n",
       "      <td>19.0</td>\n",
       "      <td>730052.0</td>\n",
       "      <td>2550.0</td>\n",
       "      <td>255040.0</td>\n",
       "      <td>25.0</td>\n",
       "      <td>25504040.0</td>\n",
       "      <td>5712.0</td>\n",
       "      <td>449.0</td>\n",
       "      <td>976.0</td>\n",
       "    </tr>\n",
       "    <tr>\n",
       "      <th>...</th>\n",
       "      <td>...</td>\n",
       "      <td>...</td>\n",
       "      <td>...</td>\n",
       "      <td>...</td>\n",
       "      <td>...</td>\n",
       "      <td>...</td>\n",
       "      <td>...</td>\n",
       "      <td>...</td>\n",
       "      <td>...</td>\n",
       "      <td>...</td>\n",
       "      <td>...</td>\n",
       "      <td>...</td>\n",
       "      <td>...</td>\n",
       "      <td>...</td>\n",
       "      <td>...</td>\n",
       "      <td>...</td>\n",
       "      <td>...</td>\n",
       "      <td>...</td>\n",
       "      <td>...</td>\n",
       "      <td>...</td>\n",
       "      <td>...</td>\n",
       "    </tr>\n",
       "    <tr>\n",
       "      <th>7677700</th>\n",
       "      <td>351371</td>\n",
       "      <td>01C</td>\n",
       "      <td>2021-08-31</td>\n",
       "      <td>ODD.</td>\n",
       "      <td>67578E100</td>\n",
       "      <td>ODD BURGER CORP</td>\n",
       "      <td>NaN</td>\n",
       "      <td>807068.0</td>\n",
       "      <td>1.03</td>\n",
       "      <td>1.0</td>\n",
       "      <td>...</td>\n",
       "      <td>43904000.0</td>\n",
       "      <td>9.0</td>\n",
       "      <td>1949766.0</td>\n",
       "      <td>2530.0</td>\n",
       "      <td>253010.0</td>\n",
       "      <td>25.0</td>\n",
       "      <td>25301040.0</td>\n",
       "      <td>5812.0</td>\n",
       "      <td>NaN</td>\n",
       "      <td>NaN</td>\n",
       "    </tr>\n",
       "    <tr>\n",
       "      <th>7677701</th>\n",
       "      <td>351371</td>\n",
       "      <td>01C</td>\n",
       "      <td>2021-09-30</td>\n",
       "      <td>ODD.</td>\n",
       "      <td>67578E100</td>\n",
       "      <td>ODD BURGER CORP</td>\n",
       "      <td>NaN</td>\n",
       "      <td>469383.0</td>\n",
       "      <td>0.90</td>\n",
       "      <td>1.0</td>\n",
       "      <td>...</td>\n",
       "      <td>82779000.0</td>\n",
       "      <td>9.0</td>\n",
       "      <td>1949766.0</td>\n",
       "      <td>2530.0</td>\n",
       "      <td>253010.0</td>\n",
       "      <td>25.0</td>\n",
       "      <td>25301040.0</td>\n",
       "      <td>5812.0</td>\n",
       "      <td>NaN</td>\n",
       "      <td>NaN</td>\n",
       "    </tr>\n",
       "    <tr>\n",
       "      <th>7677702</th>\n",
       "      <td>351371</td>\n",
       "      <td>01C</td>\n",
       "      <td>2021-10-31</td>\n",
       "      <td>ODD.</td>\n",
       "      <td>67578E100</td>\n",
       "      <td>ODD BURGER CORP</td>\n",
       "      <td>NaN</td>\n",
       "      <td>230899.0</td>\n",
       "      <td>0.93</td>\n",
       "      <td>1.0</td>\n",
       "      <td>...</td>\n",
       "      <td>82779000.0</td>\n",
       "      <td>9.0</td>\n",
       "      <td>1949766.0</td>\n",
       "      <td>2530.0</td>\n",
       "      <td>253010.0</td>\n",
       "      <td>25.0</td>\n",
       "      <td>25301040.0</td>\n",
       "      <td>5812.0</td>\n",
       "      <td>NaN</td>\n",
       "      <td>NaN</td>\n",
       "    </tr>\n",
       "    <tr>\n",
       "      <th>7677703</th>\n",
       "      <td>351371</td>\n",
       "      <td>01C</td>\n",
       "      <td>2021-11-30</td>\n",
       "      <td>ODD.</td>\n",
       "      <td>67578E100</td>\n",
       "      <td>ODD BURGER CORP</td>\n",
       "      <td>NaN</td>\n",
       "      <td>933891.0</td>\n",
       "      <td>0.57</td>\n",
       "      <td>1.0</td>\n",
       "      <td>...</td>\n",
       "      <td>82779000.0</td>\n",
       "      <td>9.0</td>\n",
       "      <td>1949766.0</td>\n",
       "      <td>2530.0</td>\n",
       "      <td>253010.0</td>\n",
       "      <td>25.0</td>\n",
       "      <td>25301040.0</td>\n",
       "      <td>5812.0</td>\n",
       "      <td>NaN</td>\n",
       "      <td>NaN</td>\n",
       "    </tr>\n",
       "    <tr>\n",
       "      <th>7677704</th>\n",
       "      <td>351371</td>\n",
       "      <td>01C</td>\n",
       "      <td>2021-12-31</td>\n",
       "      <td>ODD.</td>\n",
       "      <td>67578E100</td>\n",
       "      <td>ODD BURGER CORP</td>\n",
       "      <td>NaN</td>\n",
       "      <td>352837.0</td>\n",
       "      <td>0.75</td>\n",
       "      <td>1.0</td>\n",
       "      <td>...</td>\n",
       "      <td>82779000.0</td>\n",
       "      <td>9.0</td>\n",
       "      <td>1949766.0</td>\n",
       "      <td>2530.0</td>\n",
       "      <td>253010.0</td>\n",
       "      <td>25.0</td>\n",
       "      <td>25301040.0</td>\n",
       "      <td>5812.0</td>\n",
       "      <td>NaN</td>\n",
       "      <td>NaN</td>\n",
       "    </tr>\n",
       "  </tbody>\n",
       "</table>\n",
       "<p>3076883 rows × 22 columns</p>\n",
       "</div>"
      ],
      "text/plain": [
       "          gvkey  iid   datadate   tic      cusip                   conm  \\\n",
       "358        1003   01 2004-06-30  ANTQ  000354100  A.A. IMPORTING CO INC   \n",
       "359        1003   01 2004-07-31  ANTQ  000354100  A.A. IMPORTING CO INC   \n",
       "360        1003   01 2004-08-31  ANTQ  000354100  A.A. IMPORTING CO INC   \n",
       "361        1003   01 2004-09-30  ANTQ  000354100  A.A. IMPORTING CO INC   \n",
       "362        1003   01 2004-10-31  ANTQ  000354100  A.A. IMPORTING CO INC   \n",
       "...         ...  ...        ...   ...        ...                    ...   \n",
       "7677700  351371  01C 2021-08-31  ODD.  67578E100        ODD BURGER CORP   \n",
       "7677701  351371  01C 2021-09-30  ODD.  67578E100        ODD BURGER CORP   \n",
       "7677702  351371  01C 2021-10-31  ODD.  67578E100        ODD BURGER CORP   \n",
       "7677703  351371  01C 2021-11-30  ODD.  67578E100        ODD BURGER CORP   \n",
       "7677704  351371  01C 2021-12-31  ODD.  67578E100        ODD BURGER CORP   \n",
       "\n",
       "         dvrate    cshtrm  prccm  trfm  ...       cshom  exchg        cik  \\\n",
       "358         NaN       NaN   0.04   1.0  ...   2683000.0   19.0   730052.0   \n",
       "359         NaN       NaN   0.04   1.0  ...   2683000.0   19.0   730052.0   \n",
       "360         NaN       NaN   0.04   1.0  ...   2683000.0   19.0   730052.0   \n",
       "361         NaN       NaN   0.04   1.0  ...   2683000.0   19.0   730052.0   \n",
       "362         NaN       NaN   0.04   1.0  ...   2683000.0   19.0   730052.0   \n",
       "...         ...       ...    ...   ...  ...         ...    ...        ...   \n",
       "7677700     NaN  807068.0   1.03   1.0  ...  43904000.0    9.0  1949766.0   \n",
       "7677701     NaN  469383.0   0.90   1.0  ...  82779000.0    9.0  1949766.0   \n",
       "7677702     NaN  230899.0   0.93   1.0  ...  82779000.0    9.0  1949766.0   \n",
       "7677703     NaN  933891.0   0.57   1.0  ...  82779000.0    9.0  1949766.0   \n",
       "7677704     NaN  352837.0   0.75   1.0  ...  82779000.0    9.0  1949766.0   \n",
       "\n",
       "         ggroup      gind  gsector     gsubind     sic  spcindcd  spcseccd  \n",
       "358      2550.0  255040.0     25.0  25504040.0  5712.0     449.0     976.0  \n",
       "359      2550.0  255040.0     25.0  25504040.0  5712.0     449.0     976.0  \n",
       "360      2550.0  255040.0     25.0  25504040.0  5712.0     449.0     976.0  \n",
       "361      2550.0  255040.0     25.0  25504040.0  5712.0     449.0     976.0  \n",
       "362      2550.0  255040.0     25.0  25504040.0  5712.0     449.0     976.0  \n",
       "...         ...       ...      ...         ...     ...       ...       ...  \n",
       "7677700  2530.0  253010.0     25.0  25301040.0  5812.0       NaN       NaN  \n",
       "7677701  2530.0  253010.0     25.0  25301040.0  5812.0       NaN       NaN  \n",
       "7677702  2530.0  253010.0     25.0  25301040.0  5812.0       NaN       NaN  \n",
       "7677703  2530.0  253010.0     25.0  25301040.0  5812.0       NaN       NaN  \n",
       "7677704  2530.0  253010.0     25.0  25301040.0  5812.0       NaN       NaN  \n",
       "\n",
       "[3076883 rows x 22 columns]"
      ]
     },
     "execution_count": 290,
     "metadata": {},
     "output_type": "execute_result"
    }
   ],
   "source": [
    "stocks"
   ]
  },
  {
   "cell_type": "code",
   "execution_count": 295,
   "metadata": {},
   "outputs": [],
   "source": [
    "beta_t_price = pd.merge(beta_t_df, stocks[[\"gvkey\", \"datadate\", \"prccm\"]], how=\"left\", left_on=[\"gvkey\", \"date\"], right_on=[\"gvkey\", \"datadate\"])"
   ]
  },
  {
   "cell_type": "code",
   "execution_count": 301,
   "metadata": {},
   "outputs": [],
   "source": [
    "# shift price back groupby gvkey\n",
    "beta_t_price[\"next prccm\"] = beta_t_price.groupby(\"gvkey\")[\"prccm\"].shift(1)"
   ]
  },
  {
   "cell_type": "code",
   "execution_count": 302,
   "metadata": {},
   "outputs": [],
   "source": [
    "# drop na in next prccm\n",
    "beta_t_price = beta_t_price.dropna()"
   ]
  },
  {
   "cell_type": "code",
   "execution_count": 304,
   "metadata": {},
   "outputs": [
    {
     "name": "stderr",
     "output_type": "stream",
     "text": [
      "/var/folders/m6/h9jtrhyn259fytxp6j9xh9v00000gn/T/ipykernel_80560/432146452.py:2: SettingWithCopyWarning:\n",
      "\n",
      "\n",
      "A value is trying to be set on a copy of a slice from a DataFrame\n",
      "\n",
      "See the caveats in the documentation: https://pandas.pydata.org/pandas-docs/stable/user_guide/indexing.html#returning-a-view-versus-a-copy\n",
      "\n"
     ]
    }
   ],
   "source": [
    "# drop datadate\n",
    "beta_t_price.drop(\"datadate\", axis=1, inplace=True)"
   ]
  },
  {
   "cell_type": "code",
   "execution_count": 305,
   "metadata": {},
   "outputs": [
    {
     "data": {
      "text/html": [
       "<div>\n",
       "<style scoped>\n",
       "    .dataframe tbody tr th:only-of-type {\n",
       "        vertical-align: middle;\n",
       "    }\n",
       "\n",
       "    .dataframe tbody tr th {\n",
       "        vertical-align: top;\n",
       "    }\n",
       "\n",
       "    .dataframe thead th {\n",
       "        text-align: right;\n",
       "    }\n",
       "</style>\n",
       "<table border=\"1\" class=\"dataframe\">\n",
       "  <thead>\n",
       "    <tr style=\"text-align: right;\">\n",
       "      <th></th>\n",
       "      <th>date</th>\n",
       "      <th>gvkey</th>\n",
       "      <th>const</th>\n",
       "      <th>Mkt-RF</th>\n",
       "      <th>SMB</th>\n",
       "      <th>HML</th>\n",
       "      <th>RMW</th>\n",
       "      <th>CMA</th>\n",
       "      <th>UMD</th>\n",
       "      <th>CPI Diff</th>\n",
       "      <th>const_t_stat</th>\n",
       "      <th>Mkt-RF_t_stat</th>\n",
       "      <th>SMB_t_stat</th>\n",
       "      <th>HML_t_stat</th>\n",
       "      <th>RMW_t_stat</th>\n",
       "      <th>CMA_t_stat</th>\n",
       "      <th>UMD_t_stat</th>\n",
       "      <th>CPI Diff_t_stat</th>\n",
       "      <th>prccm</th>\n",
       "      <th>next prccm</th>\n",
       "    </tr>\n",
       "  </thead>\n",
       "  <tbody>\n",
       "    <tr>\n",
       "      <th>1</th>\n",
       "      <td>2005-03-31</td>\n",
       "      <td>1003</td>\n",
       "      <td>-0.128774</td>\n",
       "      <td>-0.000035</td>\n",
       "      <td>0.025105</td>\n",
       "      <td>-0.030315</td>\n",
       "      <td>0.033886</td>\n",
       "      <td>-0.007313</td>\n",
       "      <td>-0.011879</td>\n",
       "      <td>0.049594</td>\n",
       "      <td>-5.186306</td>\n",
       "      <td>-0.004412</td>\n",
       "      <td>3.084612</td>\n",
       "      <td>-1.407134</td>\n",
       "      <td>3.027088</td>\n",
       "      <td>-0.714596</td>\n",
       "      <td>-1.901116</td>\n",
       "      <td>1.137301</td>\n",
       "      <td>0.040</td>\n",
       "      <td>0.040</td>\n",
       "    </tr>\n",
       "    <tr>\n",
       "      <th>2</th>\n",
       "      <td>2005-06-30</td>\n",
       "      <td>1003</td>\n",
       "      <td>-0.172917</td>\n",
       "      <td>0.015876</td>\n",
       "      <td>-0.003249</td>\n",
       "      <td>-0.014142</td>\n",
       "      <td>0.024544</td>\n",
       "      <td>-0.022686</td>\n",
       "      <td>-0.004496</td>\n",
       "      <td>0.053990</td>\n",
       "      <td>-4.505061</td>\n",
       "      <td>0.840367</td>\n",
       "      <td>-0.169640</td>\n",
       "      <td>-0.395787</td>\n",
       "      <td>0.822088</td>\n",
       "      <td>-0.818753</td>\n",
       "      <td>-0.409248</td>\n",
       "      <td>0.808658</td>\n",
       "      <td>0.040</td>\n",
       "      <td>0.040</td>\n",
       "    </tr>\n",
       "    <tr>\n",
       "      <th>3</th>\n",
       "      <td>2005-09-30</td>\n",
       "      <td>1003</td>\n",
       "      <td>-4.404246</td>\n",
       "      <td>-0.161192</td>\n",
       "      <td>3.786756</td>\n",
       "      <td>-0.675228</td>\n",
       "      <td>4.244383</td>\n",
       "      <td>1.366785</td>\n",
       "      <td>-5.363642</td>\n",
       "      <td>24.304606</td>\n",
       "      <td>-0.274062</td>\n",
       "      <td>-0.020287</td>\n",
       "      <td>0.498944</td>\n",
       "      <td>-0.051760</td>\n",
       "      <td>0.418794</td>\n",
       "      <td>0.116777</td>\n",
       "      <td>-1.328682</td>\n",
       "      <td>1.125379</td>\n",
       "      <td>0.001</td>\n",
       "      <td>0.040</td>\n",
       "    </tr>\n",
       "    <tr>\n",
       "      <th>4</th>\n",
       "      <td>2005-12-31</td>\n",
       "      <td>1003</td>\n",
       "      <td>1.710249</td>\n",
       "      <td>50.739537</td>\n",
       "      <td>-37.328633</td>\n",
       "      <td>-35.158119</td>\n",
       "      <td>23.551260</td>\n",
       "      <td>-54.783362</td>\n",
       "      <td>-2.179491</td>\n",
       "      <td>90.876421</td>\n",
       "      <td>0.015951</td>\n",
       "      <td>0.907953</td>\n",
       "      <td>-0.690888</td>\n",
       "      <td>-0.418940</td>\n",
       "      <td>0.352811</td>\n",
       "      <td>-0.714882</td>\n",
       "      <td>-0.073614</td>\n",
       "      <td>0.626448</td>\n",
       "      <td>0.350</td>\n",
       "      <td>0.001</td>\n",
       "    </tr>\n",
       "    <tr>\n",
       "      <th>5</th>\n",
       "      <td>2006-03-31</td>\n",
       "      <td>1003</td>\n",
       "      <td>21.065379</td>\n",
       "      <td>40.909397</td>\n",
       "      <td>-26.008365</td>\n",
       "      <td>-44.697992</td>\n",
       "      <td>25.587204</td>\n",
       "      <td>-48.377747</td>\n",
       "      <td>-3.801966</td>\n",
       "      <td>80.330236</td>\n",
       "      <td>0.321860</td>\n",
       "      <td>1.093956</td>\n",
       "      <td>-0.797480</td>\n",
       "      <td>-0.693875</td>\n",
       "      <td>0.457281</td>\n",
       "      <td>-0.872084</td>\n",
       "      <td>-0.148382</td>\n",
       "      <td>0.722303</td>\n",
       "      <td>0.030</td>\n",
       "      <td>0.350</td>\n",
       "    </tr>\n",
       "    <tr>\n",
       "      <th>...</th>\n",
       "      <td>...</td>\n",
       "      <td>...</td>\n",
       "      <td>...</td>\n",
       "      <td>...</td>\n",
       "      <td>...</td>\n",
       "      <td>...</td>\n",
       "      <td>...</td>\n",
       "      <td>...</td>\n",
       "      <td>...</td>\n",
       "      <td>...</td>\n",
       "      <td>...</td>\n",
       "      <td>...</td>\n",
       "      <td>...</td>\n",
       "      <td>...</td>\n",
       "      <td>...</td>\n",
       "      <td>...</td>\n",
       "      <td>...</td>\n",
       "      <td>...</td>\n",
       "      <td>...</td>\n",
       "      <td>...</td>\n",
       "    </tr>\n",
       "    <tr>\n",
       "      <th>985582</th>\n",
       "      <td>2020-06-30</td>\n",
       "      <td>351371</td>\n",
       "      <td>1.007001</td>\n",
       "      <td>-0.562695</td>\n",
       "      <td>0.472423</td>\n",
       "      <td>-2.891656</td>\n",
       "      <td>1.111710</td>\n",
       "      <td>3.695034</td>\n",
       "      <td>-0.637119</td>\n",
       "      <td>-16.713177</td>\n",
       "      <td>0.301386</td>\n",
       "      <td>-0.517154</td>\n",
       "      <td>0.303431</td>\n",
       "      <td>-2.031784</td>\n",
       "      <td>0.403230</td>\n",
       "      <td>1.576806</td>\n",
       "      <td>-0.491899</td>\n",
       "      <td>-1.257836</td>\n",
       "      <td>0.095</td>\n",
       "      <td>0.095</td>\n",
       "    </tr>\n",
       "    <tr>\n",
       "      <th>985583</th>\n",
       "      <td>2020-09-30</td>\n",
       "      <td>351371</td>\n",
       "      <td>-0.076496</td>\n",
       "      <td>-0.352193</td>\n",
       "      <td>0.204517</td>\n",
       "      <td>-3.079972</td>\n",
       "      <td>1.316744</td>\n",
       "      <td>4.450750</td>\n",
       "      <td>-0.796219</td>\n",
       "      <td>-15.295812</td>\n",
       "      <td>-0.023036</td>\n",
       "      <td>-0.348261</td>\n",
       "      <td>0.132894</td>\n",
       "      <td>-2.181391</td>\n",
       "      <td>0.517083</td>\n",
       "      <td>1.983909</td>\n",
       "      <td>-0.660186</td>\n",
       "      <td>-1.143765</td>\n",
       "      <td>0.055</td>\n",
       "      <td>0.095</td>\n",
       "    </tr>\n",
       "    <tr>\n",
       "      <th>985584</th>\n",
       "      <td>2020-12-31</td>\n",
       "      <td>351371</td>\n",
       "      <td>0.346961</td>\n",
       "      <td>-0.484835</td>\n",
       "      <td>0.366771</td>\n",
       "      <td>-2.896275</td>\n",
       "      <td>1.409507</td>\n",
       "      <td>4.159801</td>\n",
       "      <td>-0.774811</td>\n",
       "      <td>-15.765458</td>\n",
       "      <td>0.111898</td>\n",
       "      <td>-0.526175</td>\n",
       "      <td>0.254703</td>\n",
       "      <td>-2.206601</td>\n",
       "      <td>0.603026</td>\n",
       "      <td>2.001226</td>\n",
       "      <td>-0.694291</td>\n",
       "      <td>-1.226978</td>\n",
       "      <td>0.055</td>\n",
       "      <td>0.055</td>\n",
       "    </tr>\n",
       "    <tr>\n",
       "      <th>985585</th>\n",
       "      <td>2021-03-31</td>\n",
       "      <td>351371</td>\n",
       "      <td>1.383455</td>\n",
       "      <td>-0.983350</td>\n",
       "      <td>0.383224</td>\n",
       "      <td>-2.814162</td>\n",
       "      <td>1.866016</td>\n",
       "      <td>3.531918</td>\n",
       "      <td>-1.184866</td>\n",
       "      <td>-7.701344</td>\n",
       "      <td>0.468713</td>\n",
       "      <td>-1.205338</td>\n",
       "      <td>0.280531</td>\n",
       "      <td>-2.233176</td>\n",
       "      <td>0.916113</td>\n",
       "      <td>1.987475</td>\n",
       "      <td>-1.205937</td>\n",
       "      <td>-0.772601</td>\n",
       "      <td>0.055</td>\n",
       "      <td>0.055</td>\n",
       "    </tr>\n",
       "    <tr>\n",
       "      <th>985586</th>\n",
       "      <td>2021-06-30</td>\n",
       "      <td>351371</td>\n",
       "      <td>1.068120</td>\n",
       "      <td>-1.039075</td>\n",
       "      <td>0.395615</td>\n",
       "      <td>-2.543761</td>\n",
       "      <td>2.051032</td>\n",
       "      <td>3.252719</td>\n",
       "      <td>-1.168254</td>\n",
       "      <td>-8.874988</td>\n",
       "      <td>0.369991</td>\n",
       "      <td>-1.284180</td>\n",
       "      <td>0.292989</td>\n",
       "      <td>-2.152965</td>\n",
       "      <td>1.042881</td>\n",
       "      <td>1.860541</td>\n",
       "      <td>-1.231838</td>\n",
       "      <td>-0.906659</td>\n",
       "      <td>1.060</td>\n",
       "      <td>0.055</td>\n",
       "    </tr>\n",
       "  </tbody>\n",
       "</table>\n",
       "<p>950971 rows × 20 columns</p>\n",
       "</div>"
      ],
      "text/plain": [
       "             date   gvkey      const     Mkt-RF        SMB        HML  \\\n",
       "1      2005-03-31    1003  -0.128774  -0.000035   0.025105  -0.030315   \n",
       "2      2005-06-30    1003  -0.172917   0.015876  -0.003249  -0.014142   \n",
       "3      2005-09-30    1003  -4.404246  -0.161192   3.786756  -0.675228   \n",
       "4      2005-12-31    1003   1.710249  50.739537 -37.328633 -35.158119   \n",
       "5      2006-03-31    1003  21.065379  40.909397 -26.008365 -44.697992   \n",
       "...           ...     ...        ...        ...        ...        ...   \n",
       "985582 2020-06-30  351371   1.007001  -0.562695   0.472423  -2.891656   \n",
       "985583 2020-09-30  351371  -0.076496  -0.352193   0.204517  -3.079972   \n",
       "985584 2020-12-31  351371   0.346961  -0.484835   0.366771  -2.896275   \n",
       "985585 2021-03-31  351371   1.383455  -0.983350   0.383224  -2.814162   \n",
       "985586 2021-06-30  351371   1.068120  -1.039075   0.395615  -2.543761   \n",
       "\n",
       "              RMW        CMA       UMD   CPI Diff  const_t_stat  \\\n",
       "1        0.033886  -0.007313 -0.011879   0.049594     -5.186306   \n",
       "2        0.024544  -0.022686 -0.004496   0.053990     -4.505061   \n",
       "3        4.244383   1.366785 -5.363642  24.304606     -0.274062   \n",
       "4       23.551260 -54.783362 -2.179491  90.876421      0.015951   \n",
       "5       25.587204 -48.377747 -3.801966  80.330236      0.321860   \n",
       "...           ...        ...       ...        ...           ...   \n",
       "985582   1.111710   3.695034 -0.637119 -16.713177      0.301386   \n",
       "985583   1.316744   4.450750 -0.796219 -15.295812     -0.023036   \n",
       "985584   1.409507   4.159801 -0.774811 -15.765458      0.111898   \n",
       "985585   1.866016   3.531918 -1.184866  -7.701344      0.468713   \n",
       "985586   2.051032   3.252719 -1.168254  -8.874988      0.369991   \n",
       "\n",
       "        Mkt-RF_t_stat  SMB_t_stat  HML_t_stat  RMW_t_stat  CMA_t_stat  \\\n",
       "1           -0.004412    3.084612   -1.407134    3.027088   -0.714596   \n",
       "2            0.840367   -0.169640   -0.395787    0.822088   -0.818753   \n",
       "3           -0.020287    0.498944   -0.051760    0.418794    0.116777   \n",
       "4            0.907953   -0.690888   -0.418940    0.352811   -0.714882   \n",
       "5            1.093956   -0.797480   -0.693875    0.457281   -0.872084   \n",
       "...               ...         ...         ...         ...         ...   \n",
       "985582      -0.517154    0.303431   -2.031784    0.403230    1.576806   \n",
       "985583      -0.348261    0.132894   -2.181391    0.517083    1.983909   \n",
       "985584      -0.526175    0.254703   -2.206601    0.603026    2.001226   \n",
       "985585      -1.205338    0.280531   -2.233176    0.916113    1.987475   \n",
       "985586      -1.284180    0.292989   -2.152965    1.042881    1.860541   \n",
       "\n",
       "        UMD_t_stat  CPI Diff_t_stat  prccm  next prccm  \n",
       "1        -1.901116         1.137301  0.040       0.040  \n",
       "2        -0.409248         0.808658  0.040       0.040  \n",
       "3        -1.328682         1.125379  0.001       0.040  \n",
       "4        -0.073614         0.626448  0.350       0.001  \n",
       "5        -0.148382         0.722303  0.030       0.350  \n",
       "...            ...              ...    ...         ...  \n",
       "985582   -0.491899        -1.257836  0.095       0.095  \n",
       "985583   -0.660186        -1.143765  0.055       0.095  \n",
       "985584   -0.694291        -1.226978  0.055       0.055  \n",
       "985585   -1.205937        -0.772601  0.055       0.055  \n",
       "985586   -1.231838        -0.906659  1.060       0.055  \n",
       "\n",
       "[950971 rows x 20 columns]"
      ]
     },
     "execution_count": 305,
     "metadata": {},
     "output_type": "execute_result"
    }
   ],
   "source": [
    "beta_t_price"
   ]
  },
  {
   "cell_type": "code",
   "execution_count": 317,
   "metadata": {},
   "outputs": [],
   "source": [
    "# merge beta_t_price with macros on report date\n",
    "beta_t_price_macros = pd.merge(beta_t_price, macros, how=\"inner\", left_on=\"date\", right_on=\"report date\")"
   ]
  },
  {
   "cell_type": "code",
   "execution_count": 318,
   "metadata": {},
   "outputs": [
    {
     "data": {
      "text/html": [
       "<div>\n",
       "<style scoped>\n",
       "    .dataframe tbody tr th:only-of-type {\n",
       "        vertical-align: middle;\n",
       "    }\n",
       "\n",
       "    .dataframe tbody tr th {\n",
       "        vertical-align: top;\n",
       "    }\n",
       "\n",
       "    .dataframe thead th {\n",
       "        text-align: right;\n",
       "    }\n",
       "</style>\n",
       "<table border=\"1\" class=\"dataframe\">\n",
       "  <thead>\n",
       "    <tr style=\"text-align: right;\">\n",
       "      <th></th>\n",
       "      <th>date</th>\n",
       "      <th>gvkey</th>\n",
       "      <th>const</th>\n",
       "      <th>Mkt-RF</th>\n",
       "      <th>SMB</th>\n",
       "      <th>HML</th>\n",
       "      <th>RMW</th>\n",
       "      <th>CMA</th>\n",
       "      <th>UMD</th>\n",
       "      <th>CPI Diff</th>\n",
       "      <th>...</th>\n",
       "      <th>CMA_t_stat</th>\n",
       "      <th>UMD_t_stat</th>\n",
       "      <th>CPI Diff_t_stat</th>\n",
       "      <th>prccm</th>\n",
       "      <th>next prccm</th>\n",
       "      <th>CP</th>\n",
       "      <th>report date</th>\n",
       "      <th>UNRATE</th>\n",
       "      <th>GDP</th>\n",
       "      <th>FEDFUNDS</th>\n",
       "    </tr>\n",
       "  </thead>\n",
       "  <tbody>\n",
       "    <tr>\n",
       "      <th>0</th>\n",
       "      <td>2005-03-31</td>\n",
       "      <td>1003</td>\n",
       "      <td>-0.128774</td>\n",
       "      <td>-0.000035</td>\n",
       "      <td>0.025105</td>\n",
       "      <td>-0.030315</td>\n",
       "      <td>0.033886</td>\n",
       "      <td>-0.007313</td>\n",
       "      <td>-0.011879</td>\n",
       "      <td>0.049594</td>\n",
       "      <td>...</td>\n",
       "      <td>-0.714596</td>\n",
       "      <td>-1.901116</td>\n",
       "      <td>1.137301</td>\n",
       "      <td>0.04</td>\n",
       "      <td>0.040</td>\n",
       "      <td>1228.657</td>\n",
       "      <td>2005-03-31</td>\n",
       "      <td>5.300000</td>\n",
       "      <td>12767.286</td>\n",
       "      <td>2.63</td>\n",
       "    </tr>\n",
       "    <tr>\n",
       "      <th>1</th>\n",
       "      <td>2005-03-31</td>\n",
       "      <td>1004</td>\n",
       "      <td>0.721737</td>\n",
       "      <td>-3.261517</td>\n",
       "      <td>5.726404</td>\n",
       "      <td>10.231179</td>\n",
       "      <td>-7.571965</td>\n",
       "      <td>1.297026</td>\n",
       "      <td>-1.548879</td>\n",
       "      <td>-2.338341</td>\n",
       "      <td>...</td>\n",
       "      <td>0.184114</td>\n",
       "      <td>-0.360099</td>\n",
       "      <td>-0.077898</td>\n",
       "      <td>13.60</td>\n",
       "      <td>13.620</td>\n",
       "      <td>1228.657</td>\n",
       "      <td>2005-03-31</td>\n",
       "      <td>5.300000</td>\n",
       "      <td>12767.286</td>\n",
       "      <td>2.63</td>\n",
       "    </tr>\n",
       "    <tr>\n",
       "      <th>2</th>\n",
       "      <td>2005-03-31</td>\n",
       "      <td>1013</td>\n",
       "      <td>16.719567</td>\n",
       "      <td>-1.673071</td>\n",
       "      <td>6.454995</td>\n",
       "      <td>-18.550517</td>\n",
       "      <td>10.437823</td>\n",
       "      <td>10.332925</td>\n",
       "      <td>-0.964580</td>\n",
       "      <td>-7.275049</td>\n",
       "      <td>...</td>\n",
       "      <td>1.755372</td>\n",
       "      <td>-0.268380</td>\n",
       "      <td>-0.290043</td>\n",
       "      <td>1.99</td>\n",
       "      <td>2.680</td>\n",
       "      <td>1228.657</td>\n",
       "      <td>2005-03-31</td>\n",
       "      <td>5.300000</td>\n",
       "      <td>12767.286</td>\n",
       "      <td>2.63</td>\n",
       "    </tr>\n",
       "    <tr>\n",
       "      <th>3</th>\n",
       "      <td>2005-03-31</td>\n",
       "      <td>1019</td>\n",
       "      <td>0.202188</td>\n",
       "      <td>0.155977</td>\n",
       "      <td>0.280230</td>\n",
       "      <td>1.016503</td>\n",
       "      <td>-0.276007</td>\n",
       "      <td>-0.725512</td>\n",
       "      <td>0.007871</td>\n",
       "      <td>-0.065477</td>\n",
       "      <td>...</td>\n",
       "      <td>-1.014043</td>\n",
       "      <td>0.018017</td>\n",
       "      <td>-0.021478</td>\n",
       "      <td>336.00</td>\n",
       "      <td>322.000</td>\n",
       "      <td>1228.657</td>\n",
       "      <td>2005-03-31</td>\n",
       "      <td>5.300000</td>\n",
       "      <td>12767.286</td>\n",
       "      <td>2.63</td>\n",
       "    </tr>\n",
       "    <tr>\n",
       "      <th>4</th>\n",
       "      <td>2005-03-31</td>\n",
       "      <td>1021</td>\n",
       "      <td>-1.699816</td>\n",
       "      <td>7.723289</td>\n",
       "      <td>-4.591634</td>\n",
       "      <td>-11.856072</td>\n",
       "      <td>16.501051</td>\n",
       "      <td>7.725220</td>\n",
       "      <td>4.177618</td>\n",
       "      <td>7.676217</td>\n",
       "      <td>...</td>\n",
       "      <td>1.115248</td>\n",
       "      <td>0.987769</td>\n",
       "      <td>0.260069</td>\n",
       "      <td>1.49</td>\n",
       "      <td>1.280</td>\n",
       "      <td>1228.657</td>\n",
       "      <td>2005-03-31</td>\n",
       "      <td>5.300000</td>\n",
       "      <td>12767.286</td>\n",
       "      <td>2.63</td>\n",
       "    </tr>\n",
       "    <tr>\n",
       "      <th>...</th>\n",
       "      <td>...</td>\n",
       "      <td>...</td>\n",
       "      <td>...</td>\n",
       "      <td>...</td>\n",
       "      <td>...</td>\n",
       "      <td>...</td>\n",
       "      <td>...</td>\n",
       "      <td>...</td>\n",
       "      <td>...</td>\n",
       "      <td>...</td>\n",
       "      <td>...</td>\n",
       "      <td>...</td>\n",
       "      <td>...</td>\n",
       "      <td>...</td>\n",
       "      <td>...</td>\n",
       "      <td>...</td>\n",
       "      <td>...</td>\n",
       "      <td>...</td>\n",
       "      <td>...</td>\n",
       "      <td>...</td>\n",
       "      <td>...</td>\n",
       "    </tr>\n",
       "    <tr>\n",
       "      <th>950966</th>\n",
       "      <td>2004-12-31</td>\n",
       "      <td>266263</td>\n",
       "      <td>0.457662</td>\n",
       "      <td>1.606903</td>\n",
       "      <td>-1.654449</td>\n",
       "      <td>-1.073372</td>\n",
       "      <td>-0.124326</td>\n",
       "      <td>-1.944701</td>\n",
       "      <td>0.616727</td>\n",
       "      <td>-10.814450</td>\n",
       "      <td>...</td>\n",
       "      <td>-0.000000</td>\n",
       "      <td>0.000000</td>\n",
       "      <td>-0.000000</td>\n",
       "      <td>10.90</td>\n",
       "      <td>61.760</td>\n",
       "      <td>1010.647</td>\n",
       "      <td>2004-12-31</td>\n",
       "      <td>5.433333</td>\n",
       "      <td>12527.214</td>\n",
       "      <td>2.16</td>\n",
       "    </tr>\n",
       "    <tr>\n",
       "      <th>950967</th>\n",
       "      <td>2004-12-31</td>\n",
       "      <td>266304</td>\n",
       "      <td>69.801204</td>\n",
       "      <td>-31.962492</td>\n",
       "      <td>-21.360342</td>\n",
       "      <td>34.329732</td>\n",
       "      <td>-49.959611</td>\n",
       "      <td>41.804625</td>\n",
       "      <td>25.844546</td>\n",
       "      <td>-54.309454</td>\n",
       "      <td>...</td>\n",
       "      <td>0.000000</td>\n",
       "      <td>0.000000</td>\n",
       "      <td>-0.000000</td>\n",
       "      <td>0.26</td>\n",
       "      <td>0.115</td>\n",
       "      <td>1010.647</td>\n",
       "      <td>2004-12-31</td>\n",
       "      <td>5.433333</td>\n",
       "      <td>12527.214</td>\n",
       "      <td>2.16</td>\n",
       "    </tr>\n",
       "    <tr>\n",
       "      <th>950968</th>\n",
       "      <td>2004-12-31</td>\n",
       "      <td>266305</td>\n",
       "      <td>4.884429</td>\n",
       "      <td>-2.069733</td>\n",
       "      <td>0.698436</td>\n",
       "      <td>2.600555</td>\n",
       "      <td>-3.887468</td>\n",
       "      <td>0.849362</td>\n",
       "      <td>1.294839</td>\n",
       "      <td>11.553286</td>\n",
       "      <td>...</td>\n",
       "      <td>0.000000</td>\n",
       "      <td>0.000000</td>\n",
       "      <td>0.000000</td>\n",
       "      <td>5.65</td>\n",
       "      <td>14.990</td>\n",
       "      <td>1010.647</td>\n",
       "      <td>2004-12-31</td>\n",
       "      <td>5.433333</td>\n",
       "      <td>12527.214</td>\n",
       "      <td>2.16</td>\n",
       "    </tr>\n",
       "    <tr>\n",
       "      <th>950969</th>\n",
       "      <td>2004-12-31</td>\n",
       "      <td>270989</td>\n",
       "      <td>-0.177299</td>\n",
       "      <td>1.508578</td>\n",
       "      <td>0.385526</td>\n",
       "      <td>-4.079815</td>\n",
       "      <td>2.039313</td>\n",
       "      <td>-2.618828</td>\n",
       "      <td>-0.619923</td>\n",
       "      <td>-3.651183</td>\n",
       "      <td>...</td>\n",
       "      <td>-0.000000</td>\n",
       "      <td>-0.000000</td>\n",
       "      <td>-0.000000</td>\n",
       "      <td>6.95</td>\n",
       "      <td>5.250</td>\n",
       "      <td>1010.647</td>\n",
       "      <td>2004-12-31</td>\n",
       "      <td>5.433333</td>\n",
       "      <td>12527.214</td>\n",
       "      <td>2.16</td>\n",
       "    </tr>\n",
       "    <tr>\n",
       "      <th>950970</th>\n",
       "      <td>2004-12-31</td>\n",
       "      <td>274075</td>\n",
       "      <td>78.148944</td>\n",
       "      <td>-15.199109</td>\n",
       "      <td>-17.058488</td>\n",
       "      <td>-30.399310</td>\n",
       "      <td>-21.247628</td>\n",
       "      <td>-29.419567</td>\n",
       "      <td>33.899507</td>\n",
       "      <td>-95.507216</td>\n",
       "      <td>...</td>\n",
       "      <td>-0.000000</td>\n",
       "      <td>0.000000</td>\n",
       "      <td>-0.000000</td>\n",
       "      <td>0.96</td>\n",
       "      <td>0.710</td>\n",
       "      <td>1010.647</td>\n",
       "      <td>2004-12-31</td>\n",
       "      <td>5.433333</td>\n",
       "      <td>12527.214</td>\n",
       "      <td>2.16</td>\n",
       "    </tr>\n",
       "  </tbody>\n",
       "</table>\n",
       "<p>950971 rows × 25 columns</p>\n",
       "</div>"
      ],
      "text/plain": [
       "             date   gvkey      const     Mkt-RF        SMB        HML  \\\n",
       "0      2005-03-31    1003  -0.128774  -0.000035   0.025105  -0.030315   \n",
       "1      2005-03-31    1004   0.721737  -3.261517   5.726404  10.231179   \n",
       "2      2005-03-31    1013  16.719567  -1.673071   6.454995 -18.550517   \n",
       "3      2005-03-31    1019   0.202188   0.155977   0.280230   1.016503   \n",
       "4      2005-03-31    1021  -1.699816   7.723289  -4.591634 -11.856072   \n",
       "...           ...     ...        ...        ...        ...        ...   \n",
       "950966 2004-12-31  266263   0.457662   1.606903  -1.654449  -1.073372   \n",
       "950967 2004-12-31  266304  69.801204 -31.962492 -21.360342  34.329732   \n",
       "950968 2004-12-31  266305   4.884429  -2.069733   0.698436   2.600555   \n",
       "950969 2004-12-31  270989  -0.177299   1.508578   0.385526  -4.079815   \n",
       "950970 2004-12-31  274075  78.148944 -15.199109 -17.058488 -30.399310   \n",
       "\n",
       "              RMW        CMA        UMD   CPI Diff  ...  CMA_t_stat  \\\n",
       "0        0.033886  -0.007313  -0.011879   0.049594  ...   -0.714596   \n",
       "1       -7.571965   1.297026  -1.548879  -2.338341  ...    0.184114   \n",
       "2       10.437823  10.332925  -0.964580  -7.275049  ...    1.755372   \n",
       "3       -0.276007  -0.725512   0.007871  -0.065477  ...   -1.014043   \n",
       "4       16.501051   7.725220   4.177618   7.676217  ...    1.115248   \n",
       "...           ...        ...        ...        ...  ...         ...   \n",
       "950966  -0.124326  -1.944701   0.616727 -10.814450  ...   -0.000000   \n",
       "950967 -49.959611  41.804625  25.844546 -54.309454  ...    0.000000   \n",
       "950968  -3.887468   0.849362   1.294839  11.553286  ...    0.000000   \n",
       "950969   2.039313  -2.618828  -0.619923  -3.651183  ...   -0.000000   \n",
       "950970 -21.247628 -29.419567  33.899507 -95.507216  ...   -0.000000   \n",
       "\n",
       "        UMD_t_stat  CPI Diff_t_stat   prccm  next prccm        CP  \\\n",
       "0        -1.901116         1.137301    0.04       0.040  1228.657   \n",
       "1        -0.360099        -0.077898   13.60      13.620  1228.657   \n",
       "2        -0.268380        -0.290043    1.99       2.680  1228.657   \n",
       "3         0.018017        -0.021478  336.00     322.000  1228.657   \n",
       "4         0.987769         0.260069    1.49       1.280  1228.657   \n",
       "...            ...              ...     ...         ...       ...   \n",
       "950966    0.000000        -0.000000   10.90      61.760  1010.647   \n",
       "950967    0.000000        -0.000000    0.26       0.115  1010.647   \n",
       "950968    0.000000         0.000000    5.65      14.990  1010.647   \n",
       "950969   -0.000000        -0.000000    6.95       5.250  1010.647   \n",
       "950970    0.000000        -0.000000    0.96       0.710  1010.647   \n",
       "\n",
       "        report date    UNRATE        GDP  FEDFUNDS  \n",
       "0        2005-03-31  5.300000  12767.286      2.63  \n",
       "1        2005-03-31  5.300000  12767.286      2.63  \n",
       "2        2005-03-31  5.300000  12767.286      2.63  \n",
       "3        2005-03-31  5.300000  12767.286      2.63  \n",
       "4        2005-03-31  5.300000  12767.286      2.63  \n",
       "...             ...       ...        ...       ...  \n",
       "950966   2004-12-31  5.433333  12527.214      2.16  \n",
       "950967   2004-12-31  5.433333  12527.214      2.16  \n",
       "950968   2004-12-31  5.433333  12527.214      2.16  \n",
       "950969   2004-12-31  5.433333  12527.214      2.16  \n",
       "950970   2004-12-31  5.433333  12527.214      2.16  \n",
       "\n",
       "[950971 rows x 25 columns]"
      ]
     },
     "execution_count": 318,
     "metadata": {},
     "output_type": "execute_result"
    }
   ],
   "source": [
    "beta_t_price_macros"
   ]
  },
  {
   "cell_type": "code",
   "execution_count": 319,
   "metadata": {},
   "outputs": [],
   "source": [
    "# target is if next price is greater than current price as one\n",
    "beta_t_price_macros[\"target\"] = beta_t_price_macros[\"next prccm\"] > beta_t_price_macros[\"prccm\"]\n",
    "\n",
    "# true false to one and zero\n",
    "beta_t_price_macros[\"target\"] = beta_t_price_macros[\"target\"].astype(int)"
   ]
  },
  {
   "cell_type": "code",
   "execution_count": 320,
   "metadata": {},
   "outputs": [
    {
     "data": {
      "text/html": [
       "<div>\n",
       "<style scoped>\n",
       "    .dataframe tbody tr th:only-of-type {\n",
       "        vertical-align: middle;\n",
       "    }\n",
       "\n",
       "    .dataframe tbody tr th {\n",
       "        vertical-align: top;\n",
       "    }\n",
       "\n",
       "    .dataframe thead th {\n",
       "        text-align: right;\n",
       "    }\n",
       "</style>\n",
       "<table border=\"1\" class=\"dataframe\">\n",
       "  <thead>\n",
       "    <tr style=\"text-align: right;\">\n",
       "      <th></th>\n",
       "      <th>date</th>\n",
       "      <th>gvkey</th>\n",
       "      <th>const</th>\n",
       "      <th>Mkt-RF</th>\n",
       "      <th>SMB</th>\n",
       "      <th>HML</th>\n",
       "      <th>RMW</th>\n",
       "      <th>CMA</th>\n",
       "      <th>UMD</th>\n",
       "      <th>CPI Diff</th>\n",
       "      <th>...</th>\n",
       "      <th>UMD_t_stat</th>\n",
       "      <th>CPI Diff_t_stat</th>\n",
       "      <th>prccm</th>\n",
       "      <th>next prccm</th>\n",
       "      <th>CP</th>\n",
       "      <th>report date</th>\n",
       "      <th>UNRATE</th>\n",
       "      <th>GDP</th>\n",
       "      <th>FEDFUNDS</th>\n",
       "      <th>target</th>\n",
       "    </tr>\n",
       "  </thead>\n",
       "  <tbody>\n",
       "    <tr>\n",
       "      <th>0</th>\n",
       "      <td>2005-03-31</td>\n",
       "      <td>1003</td>\n",
       "      <td>-0.128774</td>\n",
       "      <td>-0.000035</td>\n",
       "      <td>0.025105</td>\n",
       "      <td>-0.030315</td>\n",
       "      <td>0.033886</td>\n",
       "      <td>-0.007313</td>\n",
       "      <td>-0.011879</td>\n",
       "      <td>0.049594</td>\n",
       "      <td>...</td>\n",
       "      <td>-1.901116</td>\n",
       "      <td>1.137301</td>\n",
       "      <td>0.04</td>\n",
       "      <td>0.040</td>\n",
       "      <td>1228.657</td>\n",
       "      <td>2005-03-31</td>\n",
       "      <td>5.300000</td>\n",
       "      <td>12767.286</td>\n",
       "      <td>2.63</td>\n",
       "      <td>0</td>\n",
       "    </tr>\n",
       "    <tr>\n",
       "      <th>1</th>\n",
       "      <td>2005-03-31</td>\n",
       "      <td>1004</td>\n",
       "      <td>0.721737</td>\n",
       "      <td>-3.261517</td>\n",
       "      <td>5.726404</td>\n",
       "      <td>10.231179</td>\n",
       "      <td>-7.571965</td>\n",
       "      <td>1.297026</td>\n",
       "      <td>-1.548879</td>\n",
       "      <td>-2.338341</td>\n",
       "      <td>...</td>\n",
       "      <td>-0.360099</td>\n",
       "      <td>-0.077898</td>\n",
       "      <td>13.60</td>\n",
       "      <td>13.620</td>\n",
       "      <td>1228.657</td>\n",
       "      <td>2005-03-31</td>\n",
       "      <td>5.300000</td>\n",
       "      <td>12767.286</td>\n",
       "      <td>2.63</td>\n",
       "      <td>1</td>\n",
       "    </tr>\n",
       "    <tr>\n",
       "      <th>2</th>\n",
       "      <td>2005-03-31</td>\n",
       "      <td>1013</td>\n",
       "      <td>16.719567</td>\n",
       "      <td>-1.673071</td>\n",
       "      <td>6.454995</td>\n",
       "      <td>-18.550517</td>\n",
       "      <td>10.437823</td>\n",
       "      <td>10.332925</td>\n",
       "      <td>-0.964580</td>\n",
       "      <td>-7.275049</td>\n",
       "      <td>...</td>\n",
       "      <td>-0.268380</td>\n",
       "      <td>-0.290043</td>\n",
       "      <td>1.99</td>\n",
       "      <td>2.680</td>\n",
       "      <td>1228.657</td>\n",
       "      <td>2005-03-31</td>\n",
       "      <td>5.300000</td>\n",
       "      <td>12767.286</td>\n",
       "      <td>2.63</td>\n",
       "      <td>1</td>\n",
       "    </tr>\n",
       "    <tr>\n",
       "      <th>3</th>\n",
       "      <td>2005-03-31</td>\n",
       "      <td>1019</td>\n",
       "      <td>0.202188</td>\n",
       "      <td>0.155977</td>\n",
       "      <td>0.280230</td>\n",
       "      <td>1.016503</td>\n",
       "      <td>-0.276007</td>\n",
       "      <td>-0.725512</td>\n",
       "      <td>0.007871</td>\n",
       "      <td>-0.065477</td>\n",
       "      <td>...</td>\n",
       "      <td>0.018017</td>\n",
       "      <td>-0.021478</td>\n",
       "      <td>336.00</td>\n",
       "      <td>322.000</td>\n",
       "      <td>1228.657</td>\n",
       "      <td>2005-03-31</td>\n",
       "      <td>5.300000</td>\n",
       "      <td>12767.286</td>\n",
       "      <td>2.63</td>\n",
       "      <td>0</td>\n",
       "    </tr>\n",
       "    <tr>\n",
       "      <th>4</th>\n",
       "      <td>2005-03-31</td>\n",
       "      <td>1021</td>\n",
       "      <td>-1.699816</td>\n",
       "      <td>7.723289</td>\n",
       "      <td>-4.591634</td>\n",
       "      <td>-11.856072</td>\n",
       "      <td>16.501051</td>\n",
       "      <td>7.725220</td>\n",
       "      <td>4.177618</td>\n",
       "      <td>7.676217</td>\n",
       "      <td>...</td>\n",
       "      <td>0.987769</td>\n",
       "      <td>0.260069</td>\n",
       "      <td>1.49</td>\n",
       "      <td>1.280</td>\n",
       "      <td>1228.657</td>\n",
       "      <td>2005-03-31</td>\n",
       "      <td>5.300000</td>\n",
       "      <td>12767.286</td>\n",
       "      <td>2.63</td>\n",
       "      <td>0</td>\n",
       "    </tr>\n",
       "    <tr>\n",
       "      <th>...</th>\n",
       "      <td>...</td>\n",
       "      <td>...</td>\n",
       "      <td>...</td>\n",
       "      <td>...</td>\n",
       "      <td>...</td>\n",
       "      <td>...</td>\n",
       "      <td>...</td>\n",
       "      <td>...</td>\n",
       "      <td>...</td>\n",
       "      <td>...</td>\n",
       "      <td>...</td>\n",
       "      <td>...</td>\n",
       "      <td>...</td>\n",
       "      <td>...</td>\n",
       "      <td>...</td>\n",
       "      <td>...</td>\n",
       "      <td>...</td>\n",
       "      <td>...</td>\n",
       "      <td>...</td>\n",
       "      <td>...</td>\n",
       "      <td>...</td>\n",
       "    </tr>\n",
       "    <tr>\n",
       "      <th>950966</th>\n",
       "      <td>2004-12-31</td>\n",
       "      <td>266263</td>\n",
       "      <td>0.457662</td>\n",
       "      <td>1.606903</td>\n",
       "      <td>-1.654449</td>\n",
       "      <td>-1.073372</td>\n",
       "      <td>-0.124326</td>\n",
       "      <td>-1.944701</td>\n",
       "      <td>0.616727</td>\n",
       "      <td>-10.814450</td>\n",
       "      <td>...</td>\n",
       "      <td>0.000000</td>\n",
       "      <td>-0.000000</td>\n",
       "      <td>10.90</td>\n",
       "      <td>61.760</td>\n",
       "      <td>1010.647</td>\n",
       "      <td>2004-12-31</td>\n",
       "      <td>5.433333</td>\n",
       "      <td>12527.214</td>\n",
       "      <td>2.16</td>\n",
       "      <td>1</td>\n",
       "    </tr>\n",
       "    <tr>\n",
       "      <th>950967</th>\n",
       "      <td>2004-12-31</td>\n",
       "      <td>266304</td>\n",
       "      <td>69.801204</td>\n",
       "      <td>-31.962492</td>\n",
       "      <td>-21.360342</td>\n",
       "      <td>34.329732</td>\n",
       "      <td>-49.959611</td>\n",
       "      <td>41.804625</td>\n",
       "      <td>25.844546</td>\n",
       "      <td>-54.309454</td>\n",
       "      <td>...</td>\n",
       "      <td>0.000000</td>\n",
       "      <td>-0.000000</td>\n",
       "      <td>0.26</td>\n",
       "      <td>0.115</td>\n",
       "      <td>1010.647</td>\n",
       "      <td>2004-12-31</td>\n",
       "      <td>5.433333</td>\n",
       "      <td>12527.214</td>\n",
       "      <td>2.16</td>\n",
       "      <td>0</td>\n",
       "    </tr>\n",
       "    <tr>\n",
       "      <th>950968</th>\n",
       "      <td>2004-12-31</td>\n",
       "      <td>266305</td>\n",
       "      <td>4.884429</td>\n",
       "      <td>-2.069733</td>\n",
       "      <td>0.698436</td>\n",
       "      <td>2.600555</td>\n",
       "      <td>-3.887468</td>\n",
       "      <td>0.849362</td>\n",
       "      <td>1.294839</td>\n",
       "      <td>11.553286</td>\n",
       "      <td>...</td>\n",
       "      <td>0.000000</td>\n",
       "      <td>0.000000</td>\n",
       "      <td>5.65</td>\n",
       "      <td>14.990</td>\n",
       "      <td>1010.647</td>\n",
       "      <td>2004-12-31</td>\n",
       "      <td>5.433333</td>\n",
       "      <td>12527.214</td>\n",
       "      <td>2.16</td>\n",
       "      <td>1</td>\n",
       "    </tr>\n",
       "    <tr>\n",
       "      <th>950969</th>\n",
       "      <td>2004-12-31</td>\n",
       "      <td>270989</td>\n",
       "      <td>-0.177299</td>\n",
       "      <td>1.508578</td>\n",
       "      <td>0.385526</td>\n",
       "      <td>-4.079815</td>\n",
       "      <td>2.039313</td>\n",
       "      <td>-2.618828</td>\n",
       "      <td>-0.619923</td>\n",
       "      <td>-3.651183</td>\n",
       "      <td>...</td>\n",
       "      <td>-0.000000</td>\n",
       "      <td>-0.000000</td>\n",
       "      <td>6.95</td>\n",
       "      <td>5.250</td>\n",
       "      <td>1010.647</td>\n",
       "      <td>2004-12-31</td>\n",
       "      <td>5.433333</td>\n",
       "      <td>12527.214</td>\n",
       "      <td>2.16</td>\n",
       "      <td>0</td>\n",
       "    </tr>\n",
       "    <tr>\n",
       "      <th>950970</th>\n",
       "      <td>2004-12-31</td>\n",
       "      <td>274075</td>\n",
       "      <td>78.148944</td>\n",
       "      <td>-15.199109</td>\n",
       "      <td>-17.058488</td>\n",
       "      <td>-30.399310</td>\n",
       "      <td>-21.247628</td>\n",
       "      <td>-29.419567</td>\n",
       "      <td>33.899507</td>\n",
       "      <td>-95.507216</td>\n",
       "      <td>...</td>\n",
       "      <td>0.000000</td>\n",
       "      <td>-0.000000</td>\n",
       "      <td>0.96</td>\n",
       "      <td>0.710</td>\n",
       "      <td>1010.647</td>\n",
       "      <td>2004-12-31</td>\n",
       "      <td>5.433333</td>\n",
       "      <td>12527.214</td>\n",
       "      <td>2.16</td>\n",
       "      <td>0</td>\n",
       "    </tr>\n",
       "  </tbody>\n",
       "</table>\n",
       "<p>950971 rows × 26 columns</p>\n",
       "</div>"
      ],
      "text/plain": [
       "             date   gvkey      const     Mkt-RF        SMB        HML  \\\n",
       "0      2005-03-31    1003  -0.128774  -0.000035   0.025105  -0.030315   \n",
       "1      2005-03-31    1004   0.721737  -3.261517   5.726404  10.231179   \n",
       "2      2005-03-31    1013  16.719567  -1.673071   6.454995 -18.550517   \n",
       "3      2005-03-31    1019   0.202188   0.155977   0.280230   1.016503   \n",
       "4      2005-03-31    1021  -1.699816   7.723289  -4.591634 -11.856072   \n",
       "...           ...     ...        ...        ...        ...        ...   \n",
       "950966 2004-12-31  266263   0.457662   1.606903  -1.654449  -1.073372   \n",
       "950967 2004-12-31  266304  69.801204 -31.962492 -21.360342  34.329732   \n",
       "950968 2004-12-31  266305   4.884429  -2.069733   0.698436   2.600555   \n",
       "950969 2004-12-31  270989  -0.177299   1.508578   0.385526  -4.079815   \n",
       "950970 2004-12-31  274075  78.148944 -15.199109 -17.058488 -30.399310   \n",
       "\n",
       "              RMW        CMA        UMD   CPI Diff  ...  UMD_t_stat  \\\n",
       "0        0.033886  -0.007313  -0.011879   0.049594  ...   -1.901116   \n",
       "1       -7.571965   1.297026  -1.548879  -2.338341  ...   -0.360099   \n",
       "2       10.437823  10.332925  -0.964580  -7.275049  ...   -0.268380   \n",
       "3       -0.276007  -0.725512   0.007871  -0.065477  ...    0.018017   \n",
       "4       16.501051   7.725220   4.177618   7.676217  ...    0.987769   \n",
       "...           ...        ...        ...        ...  ...         ...   \n",
       "950966  -0.124326  -1.944701   0.616727 -10.814450  ...    0.000000   \n",
       "950967 -49.959611  41.804625  25.844546 -54.309454  ...    0.000000   \n",
       "950968  -3.887468   0.849362   1.294839  11.553286  ...    0.000000   \n",
       "950969   2.039313  -2.618828  -0.619923  -3.651183  ...   -0.000000   \n",
       "950970 -21.247628 -29.419567  33.899507 -95.507216  ...    0.000000   \n",
       "\n",
       "        CPI Diff_t_stat   prccm  next prccm        CP  report date    UNRATE  \\\n",
       "0              1.137301    0.04       0.040  1228.657   2005-03-31  5.300000   \n",
       "1             -0.077898   13.60      13.620  1228.657   2005-03-31  5.300000   \n",
       "2             -0.290043    1.99       2.680  1228.657   2005-03-31  5.300000   \n",
       "3             -0.021478  336.00     322.000  1228.657   2005-03-31  5.300000   \n",
       "4              0.260069    1.49       1.280  1228.657   2005-03-31  5.300000   \n",
       "...                 ...     ...         ...       ...          ...       ...   \n",
       "950966        -0.000000   10.90      61.760  1010.647   2004-12-31  5.433333   \n",
       "950967        -0.000000    0.26       0.115  1010.647   2004-12-31  5.433333   \n",
       "950968         0.000000    5.65      14.990  1010.647   2004-12-31  5.433333   \n",
       "950969        -0.000000    6.95       5.250  1010.647   2004-12-31  5.433333   \n",
       "950970        -0.000000    0.96       0.710  1010.647   2004-12-31  5.433333   \n",
       "\n",
       "              GDP  FEDFUNDS  target  \n",
       "0       12767.286      2.63       0  \n",
       "1       12767.286      2.63       1  \n",
       "2       12767.286      2.63       1  \n",
       "3       12767.286      2.63       0  \n",
       "4       12767.286      2.63       0  \n",
       "...           ...       ...     ...  \n",
       "950966  12527.214      2.16       1  \n",
       "950967  12527.214      2.16       0  \n",
       "950968  12527.214      2.16       1  \n",
       "950969  12527.214      2.16       0  \n",
       "950970  12527.214      2.16       0  \n",
       "\n",
       "[950971 rows x 26 columns]"
      ]
     },
     "execution_count": 320,
     "metadata": {},
     "output_type": "execute_result"
    }
   ],
   "source": [
    "beta_t_price_macros"
   ]
  },
  {
   "cell_type": "code",
   "execution_count": 321,
   "metadata": {},
   "outputs": [
    {
     "data": {
      "text/plain": [
       "0    503627\n",
       "1    447344\n",
       "Name: target, dtype: int64"
      ]
     },
     "execution_count": 321,
     "metadata": {},
     "output_type": "execute_result"
    }
   ],
   "source": [
    "# get value counts of target\n",
    "beta_t_price_macros[\"target\"].value_counts()"
   ]
  },
  {
   "cell_type": "code",
   "execution_count": 322,
   "metadata": {},
   "outputs": [
    {
     "data": {
      "text/plain": [
       "Index(['date', 'gvkey', 'const', 'Mkt-RF', 'SMB', 'HML', 'RMW', 'CMA', 'UMD',\n",
       "       'CPI Diff', 'const_t_stat', 'Mkt-RF_t_stat', 'SMB_t_stat', 'HML_t_stat',\n",
       "       'RMW_t_stat', 'CMA_t_stat', 'UMD_t_stat', 'CPI Diff_t_stat', 'prccm',\n",
       "       'next prccm', 'CP', 'report date', 'UNRATE', 'GDP', 'FEDFUNDS',\n",
       "       'target'],\n",
       "      dtype='object')"
      ]
     },
     "execution_count": 322,
     "metadata": {},
     "output_type": "execute_result"
    }
   ],
   "source": [
    "beta_t_price_macros.columns"
   ]
  },
  {
   "cell_type": "code",
   "execution_count": 323,
   "metadata": {},
   "outputs": [],
   "source": [
    "# drop any columns \n",
    "beta_t_price_macros.drop([\"gvkey\",\"prccm\", \"next prccm\", \"const\", \"report date\", \"const_t_stat\"], axis=1, inplace=True)"
   ]
  },
  {
   "cell_type": "code",
   "execution_count": 324,
   "metadata": {},
   "outputs": [
    {
     "data": {
      "text/html": [
       "<div>\n",
       "<style scoped>\n",
       "    .dataframe tbody tr th:only-of-type {\n",
       "        vertical-align: middle;\n",
       "    }\n",
       "\n",
       "    .dataframe tbody tr th {\n",
       "        vertical-align: top;\n",
       "    }\n",
       "\n",
       "    .dataframe thead th {\n",
       "        text-align: right;\n",
       "    }\n",
       "</style>\n",
       "<table border=\"1\" class=\"dataframe\">\n",
       "  <thead>\n",
       "    <tr style=\"text-align: right;\">\n",
       "      <th></th>\n",
       "      <th>date</th>\n",
       "      <th>Mkt-RF</th>\n",
       "      <th>SMB</th>\n",
       "      <th>HML</th>\n",
       "      <th>RMW</th>\n",
       "      <th>CMA</th>\n",
       "      <th>UMD</th>\n",
       "      <th>CPI Diff</th>\n",
       "      <th>Mkt-RF_t_stat</th>\n",
       "      <th>SMB_t_stat</th>\n",
       "      <th>HML_t_stat</th>\n",
       "      <th>RMW_t_stat</th>\n",
       "      <th>CMA_t_stat</th>\n",
       "      <th>UMD_t_stat</th>\n",
       "      <th>CPI Diff_t_stat</th>\n",
       "      <th>CP</th>\n",
       "      <th>UNRATE</th>\n",
       "      <th>GDP</th>\n",
       "      <th>FEDFUNDS</th>\n",
       "      <th>target</th>\n",
       "    </tr>\n",
       "  </thead>\n",
       "  <tbody>\n",
       "    <tr>\n",
       "      <th>0</th>\n",
       "      <td>2005-03-31</td>\n",
       "      <td>-0.000035</td>\n",
       "      <td>0.025105</td>\n",
       "      <td>-0.030315</td>\n",
       "      <td>0.033886</td>\n",
       "      <td>-0.007313</td>\n",
       "      <td>-0.011879</td>\n",
       "      <td>0.049594</td>\n",
       "      <td>-0.004412</td>\n",
       "      <td>3.084612</td>\n",
       "      <td>-1.407134</td>\n",
       "      <td>3.027088</td>\n",
       "      <td>-0.714596</td>\n",
       "      <td>-1.901116</td>\n",
       "      <td>1.137301</td>\n",
       "      <td>1228.657</td>\n",
       "      <td>5.300000</td>\n",
       "      <td>12767.286</td>\n",
       "      <td>2.63</td>\n",
       "      <td>0</td>\n",
       "    </tr>\n",
       "    <tr>\n",
       "      <th>1</th>\n",
       "      <td>2005-03-31</td>\n",
       "      <td>-3.261517</td>\n",
       "      <td>5.726404</td>\n",
       "      <td>10.231179</td>\n",
       "      <td>-7.571965</td>\n",
       "      <td>1.297026</td>\n",
       "      <td>-1.548879</td>\n",
       "      <td>-2.338341</td>\n",
       "      <td>-0.601345</td>\n",
       "      <td>1.022093</td>\n",
       "      <td>0.689883</td>\n",
       "      <td>-0.982619</td>\n",
       "      <td>0.184114</td>\n",
       "      <td>-0.360099</td>\n",
       "      <td>-0.077898</td>\n",
       "      <td>1228.657</td>\n",
       "      <td>5.300000</td>\n",
       "      <td>12767.286</td>\n",
       "      <td>2.63</td>\n",
       "      <td>1</td>\n",
       "    </tr>\n",
       "    <tr>\n",
       "      <th>2</th>\n",
       "      <td>2005-03-31</td>\n",
       "      <td>-1.673071</td>\n",
       "      <td>6.454995</td>\n",
       "      <td>-18.550517</td>\n",
       "      <td>10.437823</td>\n",
       "      <td>10.332925</td>\n",
       "      <td>-0.964580</td>\n",
       "      <td>-7.275049</td>\n",
       "      <td>-0.369170</td>\n",
       "      <td>1.378834</td>\n",
       "      <td>-1.496971</td>\n",
       "      <td>1.621042</td>\n",
       "      <td>1.755372</td>\n",
       "      <td>-0.268380</td>\n",
       "      <td>-0.290043</td>\n",
       "      <td>1228.657</td>\n",
       "      <td>5.300000</td>\n",
       "      <td>12767.286</td>\n",
       "      <td>2.63</td>\n",
       "      <td>1</td>\n",
       "    </tr>\n",
       "    <tr>\n",
       "      <th>3</th>\n",
       "      <td>2005-03-31</td>\n",
       "      <td>0.155977</td>\n",
       "      <td>0.280230</td>\n",
       "      <td>1.016503</td>\n",
       "      <td>-0.276007</td>\n",
       "      <td>-0.725512</td>\n",
       "      <td>0.007871</td>\n",
       "      <td>-0.065477</td>\n",
       "      <td>0.283164</td>\n",
       "      <td>0.492490</td>\n",
       "      <td>0.674888</td>\n",
       "      <td>-0.352672</td>\n",
       "      <td>-1.014043</td>\n",
       "      <td>0.018017</td>\n",
       "      <td>-0.021478</td>\n",
       "      <td>1228.657</td>\n",
       "      <td>5.300000</td>\n",
       "      <td>12767.286</td>\n",
       "      <td>2.63</td>\n",
       "      <td>0</td>\n",
       "    </tr>\n",
       "    <tr>\n",
       "      <th>4</th>\n",
       "      <td>2005-03-31</td>\n",
       "      <td>7.723289</td>\n",
       "      <td>-4.591634</td>\n",
       "      <td>-11.856072</td>\n",
       "      <td>16.501051</td>\n",
       "      <td>7.725220</td>\n",
       "      <td>4.177618</td>\n",
       "      <td>7.676217</td>\n",
       "      <td>1.448201</td>\n",
       "      <td>-0.833485</td>\n",
       "      <td>-0.813042</td>\n",
       "      <td>2.177763</td>\n",
       "      <td>1.115248</td>\n",
       "      <td>0.987769</td>\n",
       "      <td>0.260069</td>\n",
       "      <td>1228.657</td>\n",
       "      <td>5.300000</td>\n",
       "      <td>12767.286</td>\n",
       "      <td>2.63</td>\n",
       "      <td>0</td>\n",
       "    </tr>\n",
       "    <tr>\n",
       "      <th>...</th>\n",
       "      <td>...</td>\n",
       "      <td>...</td>\n",
       "      <td>...</td>\n",
       "      <td>...</td>\n",
       "      <td>...</td>\n",
       "      <td>...</td>\n",
       "      <td>...</td>\n",
       "      <td>...</td>\n",
       "      <td>...</td>\n",
       "      <td>...</td>\n",
       "      <td>...</td>\n",
       "      <td>...</td>\n",
       "      <td>...</td>\n",
       "      <td>...</td>\n",
       "      <td>...</td>\n",
       "      <td>...</td>\n",
       "      <td>...</td>\n",
       "      <td>...</td>\n",
       "      <td>...</td>\n",
       "      <td>...</td>\n",
       "    </tr>\n",
       "    <tr>\n",
       "      <th>950966</th>\n",
       "      <td>2004-12-31</td>\n",
       "      <td>1.606903</td>\n",
       "      <td>-1.654449</td>\n",
       "      <td>-1.073372</td>\n",
       "      <td>-0.124326</td>\n",
       "      <td>-1.944701</td>\n",
       "      <td>0.616727</td>\n",
       "      <td>-10.814450</td>\n",
       "      <td>0.000000</td>\n",
       "      <td>-0.000000</td>\n",
       "      <td>-0.000000</td>\n",
       "      <td>-0.000000</td>\n",
       "      <td>-0.000000</td>\n",
       "      <td>0.000000</td>\n",
       "      <td>-0.000000</td>\n",
       "      <td>1010.647</td>\n",
       "      <td>5.433333</td>\n",
       "      <td>12527.214</td>\n",
       "      <td>2.16</td>\n",
       "      <td>1</td>\n",
       "    </tr>\n",
       "    <tr>\n",
       "      <th>950967</th>\n",
       "      <td>2004-12-31</td>\n",
       "      <td>-31.962492</td>\n",
       "      <td>-21.360342</td>\n",
       "      <td>34.329732</td>\n",
       "      <td>-49.959611</td>\n",
       "      <td>41.804625</td>\n",
       "      <td>25.844546</td>\n",
       "      <td>-54.309454</td>\n",
       "      <td>-0.000000</td>\n",
       "      <td>-0.000000</td>\n",
       "      <td>0.000000</td>\n",
       "      <td>-0.000000</td>\n",
       "      <td>0.000000</td>\n",
       "      <td>0.000000</td>\n",
       "      <td>-0.000000</td>\n",
       "      <td>1010.647</td>\n",
       "      <td>5.433333</td>\n",
       "      <td>12527.214</td>\n",
       "      <td>2.16</td>\n",
       "      <td>0</td>\n",
       "    </tr>\n",
       "    <tr>\n",
       "      <th>950968</th>\n",
       "      <td>2004-12-31</td>\n",
       "      <td>-2.069733</td>\n",
       "      <td>0.698436</td>\n",
       "      <td>2.600555</td>\n",
       "      <td>-3.887468</td>\n",
       "      <td>0.849362</td>\n",
       "      <td>1.294839</td>\n",
       "      <td>11.553286</td>\n",
       "      <td>-0.000000</td>\n",
       "      <td>0.000000</td>\n",
       "      <td>0.000000</td>\n",
       "      <td>-0.000000</td>\n",
       "      <td>0.000000</td>\n",
       "      <td>0.000000</td>\n",
       "      <td>0.000000</td>\n",
       "      <td>1010.647</td>\n",
       "      <td>5.433333</td>\n",
       "      <td>12527.214</td>\n",
       "      <td>2.16</td>\n",
       "      <td>1</td>\n",
       "    </tr>\n",
       "    <tr>\n",
       "      <th>950969</th>\n",
       "      <td>2004-12-31</td>\n",
       "      <td>1.508578</td>\n",
       "      <td>0.385526</td>\n",
       "      <td>-4.079815</td>\n",
       "      <td>2.039313</td>\n",
       "      <td>-2.618828</td>\n",
       "      <td>-0.619923</td>\n",
       "      <td>-3.651183</td>\n",
       "      <td>0.000000</td>\n",
       "      <td>0.000000</td>\n",
       "      <td>-0.000000</td>\n",
       "      <td>0.000000</td>\n",
       "      <td>-0.000000</td>\n",
       "      <td>-0.000000</td>\n",
       "      <td>-0.000000</td>\n",
       "      <td>1010.647</td>\n",
       "      <td>5.433333</td>\n",
       "      <td>12527.214</td>\n",
       "      <td>2.16</td>\n",
       "      <td>0</td>\n",
       "    </tr>\n",
       "    <tr>\n",
       "      <th>950970</th>\n",
       "      <td>2004-12-31</td>\n",
       "      <td>-15.199109</td>\n",
       "      <td>-17.058488</td>\n",
       "      <td>-30.399310</td>\n",
       "      <td>-21.247628</td>\n",
       "      <td>-29.419567</td>\n",
       "      <td>33.899507</td>\n",
       "      <td>-95.507216</td>\n",
       "      <td>-0.000000</td>\n",
       "      <td>-0.000000</td>\n",
       "      <td>-0.000000</td>\n",
       "      <td>-0.000000</td>\n",
       "      <td>-0.000000</td>\n",
       "      <td>0.000000</td>\n",
       "      <td>-0.000000</td>\n",
       "      <td>1010.647</td>\n",
       "      <td>5.433333</td>\n",
       "      <td>12527.214</td>\n",
       "      <td>2.16</td>\n",
       "      <td>0</td>\n",
       "    </tr>\n",
       "  </tbody>\n",
       "</table>\n",
       "<p>950971 rows × 20 columns</p>\n",
       "</div>"
      ],
      "text/plain": [
       "             date     Mkt-RF        SMB        HML        RMW        CMA  \\\n",
       "0      2005-03-31  -0.000035   0.025105  -0.030315   0.033886  -0.007313   \n",
       "1      2005-03-31  -3.261517   5.726404  10.231179  -7.571965   1.297026   \n",
       "2      2005-03-31  -1.673071   6.454995 -18.550517  10.437823  10.332925   \n",
       "3      2005-03-31   0.155977   0.280230   1.016503  -0.276007  -0.725512   \n",
       "4      2005-03-31   7.723289  -4.591634 -11.856072  16.501051   7.725220   \n",
       "...           ...        ...        ...        ...        ...        ...   \n",
       "950966 2004-12-31   1.606903  -1.654449  -1.073372  -0.124326  -1.944701   \n",
       "950967 2004-12-31 -31.962492 -21.360342  34.329732 -49.959611  41.804625   \n",
       "950968 2004-12-31  -2.069733   0.698436   2.600555  -3.887468   0.849362   \n",
       "950969 2004-12-31   1.508578   0.385526  -4.079815   2.039313  -2.618828   \n",
       "950970 2004-12-31 -15.199109 -17.058488 -30.399310 -21.247628 -29.419567   \n",
       "\n",
       "              UMD   CPI Diff  Mkt-RF_t_stat  SMB_t_stat  HML_t_stat  \\\n",
       "0       -0.011879   0.049594      -0.004412    3.084612   -1.407134   \n",
       "1       -1.548879  -2.338341      -0.601345    1.022093    0.689883   \n",
       "2       -0.964580  -7.275049      -0.369170    1.378834   -1.496971   \n",
       "3        0.007871  -0.065477       0.283164    0.492490    0.674888   \n",
       "4        4.177618   7.676217       1.448201   -0.833485   -0.813042   \n",
       "...           ...        ...            ...         ...         ...   \n",
       "950966   0.616727 -10.814450       0.000000   -0.000000   -0.000000   \n",
       "950967  25.844546 -54.309454      -0.000000   -0.000000    0.000000   \n",
       "950968   1.294839  11.553286      -0.000000    0.000000    0.000000   \n",
       "950969  -0.619923  -3.651183       0.000000    0.000000   -0.000000   \n",
       "950970  33.899507 -95.507216      -0.000000   -0.000000   -0.000000   \n",
       "\n",
       "        RMW_t_stat  CMA_t_stat  UMD_t_stat  CPI Diff_t_stat        CP  \\\n",
       "0         3.027088   -0.714596   -1.901116         1.137301  1228.657   \n",
       "1        -0.982619    0.184114   -0.360099        -0.077898  1228.657   \n",
       "2         1.621042    1.755372   -0.268380        -0.290043  1228.657   \n",
       "3        -0.352672   -1.014043    0.018017        -0.021478  1228.657   \n",
       "4         2.177763    1.115248    0.987769         0.260069  1228.657   \n",
       "...            ...         ...         ...              ...       ...   \n",
       "950966   -0.000000   -0.000000    0.000000        -0.000000  1010.647   \n",
       "950967   -0.000000    0.000000    0.000000        -0.000000  1010.647   \n",
       "950968   -0.000000    0.000000    0.000000         0.000000  1010.647   \n",
       "950969    0.000000   -0.000000   -0.000000        -0.000000  1010.647   \n",
       "950970   -0.000000   -0.000000    0.000000        -0.000000  1010.647   \n",
       "\n",
       "          UNRATE        GDP  FEDFUNDS  target  \n",
       "0       5.300000  12767.286      2.63       0  \n",
       "1       5.300000  12767.286      2.63       1  \n",
       "2       5.300000  12767.286      2.63       1  \n",
       "3       5.300000  12767.286      2.63       0  \n",
       "4       5.300000  12767.286      2.63       0  \n",
       "...          ...        ...       ...     ...  \n",
       "950966  5.433333  12527.214      2.16       1  \n",
       "950967  5.433333  12527.214      2.16       0  \n",
       "950968  5.433333  12527.214      2.16       1  \n",
       "950969  5.433333  12527.214      2.16       0  \n",
       "950970  5.433333  12527.214      2.16       0  \n",
       "\n",
       "[950971 rows x 20 columns]"
      ]
     },
     "execution_count": 324,
     "metadata": {},
     "output_type": "execute_result"
    }
   ],
   "source": [
    "beta_t_price_macros\n"
   ]
  },
  {
   "cell_type": "code",
   "execution_count": 331,
   "metadata": {},
   "outputs": [],
   "source": [
    "# date minus one\n",
    "forecast[\"date\"] = forecast[\"date\"] - MonthEnd(1)"
   ]
  },
  {
   "cell_type": "code",
   "execution_count": 333,
   "metadata": {},
   "outputs": [],
   "source": [
    "# prediction date is 3 months ago\n",
    "forecast[\"prediction date\"] = forecast[\"date\"] - MonthEnd(3)"
   ]
  },
  {
   "cell_type": "code",
   "execution_count": 337,
   "metadata": {},
   "outputs": [],
   "source": [
    "forecast.rename({\"Value\": \"Forecast Inflation\"}, axis=1, inplace=True)"
   ]
  },
  {
   "cell_type": "code",
   "execution_count": 338,
   "metadata": {},
   "outputs": [
    {
     "data": {
      "text/html": [
       "<div>\n",
       "<style scoped>\n",
       "    .dataframe tbody tr th:only-of-type {\n",
       "        vertical-align: middle;\n",
       "    }\n",
       "\n",
       "    .dataframe tbody tr th {\n",
       "        vertical-align: top;\n",
       "    }\n",
       "\n",
       "    .dataframe thead th {\n",
       "        text-align: right;\n",
       "    }\n",
       "</style>\n",
       "<table border=\"1\" class=\"dataframe\">\n",
       "  <thead>\n",
       "    <tr style=\"text-align: right;\">\n",
       "      <th></th>\n",
       "      <th>TIME</th>\n",
       "      <th>Forecast Inflation</th>\n",
       "      <th>date</th>\n",
       "      <th>prediction date</th>\n",
       "    </tr>\n",
       "  </thead>\n",
       "  <tbody>\n",
       "    <tr>\n",
       "      <th>0</th>\n",
       "      <td>1961-Q1</td>\n",
       "      <td>1.508107</td>\n",
       "      <td>1960-12-31</td>\n",
       "      <td>1960-09-30</td>\n",
       "    </tr>\n",
       "    <tr>\n",
       "      <th>1</th>\n",
       "      <td>1961-Q2</td>\n",
       "      <td>0.867899</td>\n",
       "      <td>1961-03-31</td>\n",
       "      <td>1960-12-31</td>\n",
       "    </tr>\n",
       "    <tr>\n",
       "      <th>2</th>\n",
       "      <td>1961-Q3</td>\n",
       "      <td>1.205362</td>\n",
       "      <td>1961-06-30</td>\n",
       "      <td>1961-03-31</td>\n",
       "    </tr>\n",
       "    <tr>\n",
       "      <th>3</th>\n",
       "      <td>1961-Q4</td>\n",
       "      <td>0.705171</td>\n",
       "      <td>1961-09-30</td>\n",
       "      <td>1961-06-30</td>\n",
       "    </tr>\n",
       "    <tr>\n",
       "      <th>4</th>\n",
       "      <td>1962-Q1</td>\n",
       "      <td>0.893655</td>\n",
       "      <td>1961-12-31</td>\n",
       "      <td>1961-09-30</td>\n",
       "    </tr>\n",
       "    <tr>\n",
       "      <th>...</th>\n",
       "      <td>...</td>\n",
       "      <td>...</td>\n",
       "      <td>...</td>\n",
       "      <td>...</td>\n",
       "    </tr>\n",
       "    <tr>\n",
       "      <th>251</th>\n",
       "      <td>2023-Q4</td>\n",
       "      <td>3.063185</td>\n",
       "      <td>2023-09-30</td>\n",
       "      <td>2023-06-30</td>\n",
       "    </tr>\n",
       "    <tr>\n",
       "      <th>252</th>\n",
       "      <td>2024-Q1</td>\n",
       "      <td>2.833065</td>\n",
       "      <td>2023-12-31</td>\n",
       "      <td>2023-09-30</td>\n",
       "    </tr>\n",
       "    <tr>\n",
       "      <th>253</th>\n",
       "      <td>2024-Q2</td>\n",
       "      <td>2.623820</td>\n",
       "      <td>2024-03-31</td>\n",
       "      <td>2023-12-31</td>\n",
       "    </tr>\n",
       "    <tr>\n",
       "      <th>254</th>\n",
       "      <td>2024-Q3</td>\n",
       "      <td>2.475013</td>\n",
       "      <td>2024-06-30</td>\n",
       "      <td>2024-03-31</td>\n",
       "    </tr>\n",
       "    <tr>\n",
       "      <th>255</th>\n",
       "      <td>2024-Q4</td>\n",
       "      <td>2.349925</td>\n",
       "      <td>2024-09-30</td>\n",
       "      <td>2024-06-30</td>\n",
       "    </tr>\n",
       "  </tbody>\n",
       "</table>\n",
       "<p>256 rows × 4 columns</p>\n",
       "</div>"
      ],
      "text/plain": [
       "        TIME  Forecast Inflation       date prediction date\n",
       "0    1961-Q1            1.508107 1960-12-31      1960-09-30\n",
       "1    1961-Q2            0.867899 1961-03-31      1960-12-31\n",
       "2    1961-Q3            1.205362 1961-06-30      1961-03-31\n",
       "3    1961-Q4            0.705171 1961-09-30      1961-06-30\n",
       "4    1962-Q1            0.893655 1961-12-31      1961-09-30\n",
       "..       ...                 ...        ...             ...\n",
       "251  2023-Q4            3.063185 2023-09-30      2023-06-30\n",
       "252  2024-Q1            2.833065 2023-12-31      2023-09-30\n",
       "253  2024-Q2            2.623820 2024-03-31      2023-12-31\n",
       "254  2024-Q3            2.475013 2024-06-30      2024-03-31\n",
       "255  2024-Q4            2.349925 2024-09-30      2024-06-30\n",
       "\n",
       "[256 rows x 4 columns]"
      ]
     },
     "execution_count": 338,
     "metadata": {},
     "output_type": "execute_result"
    }
   ],
   "source": [
    "forecast"
   ]
  },
  {
   "cell_type": "code",
   "execution_count": 340,
   "metadata": {},
   "outputs": [],
   "source": [
    "# merge forecast with beta_t_price_macros on date\n",
    "beta_t_price_macros_forecast = pd.merge(forecast[[\"Forecast Inflation\", \"prediction date\"]], beta_t_price_macros, how=\"inner\", left_on=\"prediction date\", right_on=\"date\")"
   ]
  },
  {
   "cell_type": "code",
   "execution_count": 351,
   "metadata": {},
   "outputs": [
    {
     "data": {
      "text/html": [
       "<div>\n",
       "<style scoped>\n",
       "    .dataframe tbody tr th:only-of-type {\n",
       "        vertical-align: middle;\n",
       "    }\n",
       "\n",
       "    .dataframe tbody tr th {\n",
       "        vertical-align: top;\n",
       "    }\n",
       "\n",
       "    .dataframe thead th {\n",
       "        text-align: right;\n",
       "    }\n",
       "</style>\n",
       "<table border=\"1\" class=\"dataframe\">\n",
       "  <thead>\n",
       "    <tr style=\"text-align: right;\">\n",
       "      <th></th>\n",
       "      <th>date</th>\n",
       "      <th>CPI</th>\n",
       "      <th>CPI Diff</th>\n",
       "    </tr>\n",
       "  </thead>\n",
       "  <tbody>\n",
       "    <tr>\n",
       "      <th>0</th>\n",
       "      <td>1947-12-31</td>\n",
       "      <td>10.24209</td>\n",
       "      <td>NaN</td>\n",
       "    </tr>\n",
       "    <tr>\n",
       "      <th>1</th>\n",
       "      <td>1948-01-31</td>\n",
       "      <td>9.48196</td>\n",
       "      <td>-0.76013</td>\n",
       "    </tr>\n",
       "    <tr>\n",
       "      <th>2</th>\n",
       "      <td>1948-02-29</td>\n",
       "      <td>6.81818</td>\n",
       "      <td>-2.66378</td>\n",
       "    </tr>\n",
       "    <tr>\n",
       "      <th>3</th>\n",
       "      <td>1948-03-31</td>\n",
       "      <td>8.27273</td>\n",
       "      <td>1.45455</td>\n",
       "    </tr>\n",
       "    <tr>\n",
       "      <th>4</th>\n",
       "      <td>1948-04-30</td>\n",
       "      <td>9.38497</td>\n",
       "      <td>1.11224</td>\n",
       "    </tr>\n",
       "    <tr>\n",
       "      <th>...</th>\n",
       "      <td>...</td>\n",
       "      <td>...</td>\n",
       "      <td>...</td>\n",
       "    </tr>\n",
       "    <tr>\n",
       "      <th>895</th>\n",
       "      <td>2022-07-31</td>\n",
       "      <td>8.22736</td>\n",
       "      <td>-0.18582</td>\n",
       "    </tr>\n",
       "    <tr>\n",
       "      <th>896</th>\n",
       "      <td>2022-08-31</td>\n",
       "      <td>8.21485</td>\n",
       "      <td>-0.01251</td>\n",
       "    </tr>\n",
       "    <tr>\n",
       "      <th>897</th>\n",
       "      <td>2022-09-30</td>\n",
       "      <td>7.76249</td>\n",
       "      <td>-0.45236</td>\n",
       "    </tr>\n",
       "    <tr>\n",
       "      <th>898</th>\n",
       "      <td>2022-10-31</td>\n",
       "      <td>7.13535</td>\n",
       "      <td>-0.62714</td>\n",
       "    </tr>\n",
       "    <tr>\n",
       "      <th>899</th>\n",
       "      <td>2022-11-30</td>\n",
       "      <td>6.44494</td>\n",
       "      <td>-0.69041</td>\n",
       "    </tr>\n",
       "  </tbody>\n",
       "</table>\n",
       "<p>900 rows × 3 columns</p>\n",
       "</div>"
      ],
      "text/plain": [
       "          date       CPI  CPI Diff\n",
       "0   1947-12-31  10.24209       NaN\n",
       "1   1948-01-31   9.48196  -0.76013\n",
       "2   1948-02-29   6.81818  -2.66378\n",
       "3   1948-03-31   8.27273   1.45455\n",
       "4   1948-04-30   9.38497   1.11224\n",
       "..         ...       ...       ...\n",
       "895 2022-07-31   8.22736  -0.18582\n",
       "896 2022-08-31   8.21485  -0.01251\n",
       "897 2022-09-30   7.76249  -0.45236\n",
       "898 2022-10-31   7.13535  -0.62714\n",
       "899 2022-11-30   6.44494  -0.69041\n",
       "\n",
       "[900 rows x 3 columns]"
      ]
     },
     "execution_count": 351,
     "metadata": {},
     "output_type": "execute_result"
    }
   ],
   "source": [
    "cpi"
   ]
  },
  {
   "cell_type": "code",
   "execution_count": null,
   "metadata": {},
   "outputs": [],
   "source": [
    "beta_t_price_macros_forecast = pd.merge(forecast[[\"Forecast Inflation\", \"prediction date\"]], beta_t_price_macros, how=\"inner\", left_on=\"prediction date\", right_on=\"date\")"
   ]
  },
  {
   "cell_type": "code",
   "execution_count": 341,
   "metadata": {},
   "outputs": [],
   "source": [
    "# drop prediction date\n",
    "beta_t_price_macros_forecast.drop(\"prediction date\", axis=1, inplace=True)"
   ]
  },
  {
   "cell_type": "code",
   "execution_count": 352,
   "metadata": {},
   "outputs": [],
   "source": [
    "# merge with cpi on date\n",
    "beta_t_price_macros_forecast_cpi = pd.merge(beta_t_price_macros_forecast, cpi[[\"date\", \"CPI\"]], how=\"inner\", left_on=\"date\", right_on=\"date\")"
   ]
  },
  {
   "cell_type": "code",
   "execution_count": 354,
   "metadata": {},
   "outputs": [],
   "source": [
    "beta_t_price_macros_forecast_cpi[\"Predicted Next CPI Diff\"] = beta_t_price_macros_forecast_cpi[\"Forecast Inflation\"] - beta_t_price_macros_forecast_cpi[\"CPI\"]"
   ]
  },
  {
   "cell_type": "code",
   "execution_count": 356,
   "metadata": {},
   "outputs": [],
   "source": [
    "# drop forecast inflation and cpi\n",
    "beta_t_price_macros_forecast_cpi.drop([\"Forecast Inflation\", \"CPI\"], axis=1, inplace=True)"
   ]
  },
  {
   "cell_type": "code",
   "execution_count": 357,
   "metadata": {},
   "outputs": [],
   "source": [
    "# train test split on date\n",
    "train = beta_t_price_macros_forecast_cpi[beta_t_price_macros_forecast_cpi[\"date\"] < \"2018-01-01\"]\n",
    "test = beta_t_price_macros_forecast_cpi[beta_t_price_macros_forecast_cpi[\"date\"] >= \"2018-01-01\"]"
   ]
  },
  {
   "cell_type": "code",
   "execution_count": 358,
   "metadata": {},
   "outputs": [
    {
     "name": "stderr",
     "output_type": "stream",
     "text": [
      "/var/folders/m6/h9jtrhyn259fytxp6j9xh9v00000gn/T/ipykernel_80560/3598176358.py:2: SettingWithCopyWarning:\n",
      "\n",
      "\n",
      "A value is trying to be set on a copy of a slice from a DataFrame\n",
      "\n",
      "See the caveats in the documentation: https://pandas.pydata.org/pandas-docs/stable/user_guide/indexing.html#returning-a-view-versus-a-copy\n",
      "\n",
      "/var/folders/m6/h9jtrhyn259fytxp6j9xh9v00000gn/T/ipykernel_80560/3598176358.py:3: SettingWithCopyWarning:\n",
      "\n",
      "\n",
      "A value is trying to be set on a copy of a slice from a DataFrame\n",
      "\n",
      "See the caveats in the documentation: https://pandas.pydata.org/pandas-docs/stable/user_guide/indexing.html#returning-a-view-versus-a-copy\n",
      "\n"
     ]
    }
   ],
   "source": [
    "# drop date\n",
    "train.drop(\"date\", axis=1, inplace=True)\n",
    "test.drop(\"date\", axis=1, inplace=True)"
   ]
  },
  {
   "cell_type": "code",
   "execution_count": 363,
   "metadata": {},
   "outputs": [],
   "source": [
    "X_train = train.drop(\"target\", axis=1)\n",
    "X_test = test.drop(\"target\", axis=1)\n",
    "\n",
    "y_train = train[\"target\"]\n",
    "y_test = test[\"target\"]\n"
   ]
  },
  {
   "cell_type": "code",
   "execution_count": 364,
   "metadata": {},
   "outputs": [
    {
     "data": {
      "text/html": [
       "<div>\n",
       "<style scoped>\n",
       "    .dataframe tbody tr th:only-of-type {\n",
       "        vertical-align: middle;\n",
       "    }\n",
       "\n",
       "    .dataframe tbody tr th {\n",
       "        vertical-align: top;\n",
       "    }\n",
       "\n",
       "    .dataframe thead th {\n",
       "        text-align: right;\n",
       "    }\n",
       "</style>\n",
       "<table border=\"1\" class=\"dataframe\">\n",
       "  <thead>\n",
       "    <tr style=\"text-align: right;\">\n",
       "      <th></th>\n",
       "      <th>Mkt-RF</th>\n",
       "      <th>SMB</th>\n",
       "      <th>HML</th>\n",
       "      <th>RMW</th>\n",
       "      <th>CMA</th>\n",
       "      <th>UMD</th>\n",
       "      <th>CPI Diff</th>\n",
       "      <th>Mkt-RF_t_stat</th>\n",
       "      <th>SMB_t_stat</th>\n",
       "      <th>HML_t_stat</th>\n",
       "      <th>RMW_t_stat</th>\n",
       "      <th>CMA_t_stat</th>\n",
       "      <th>UMD_t_stat</th>\n",
       "      <th>CPI Diff_t_stat</th>\n",
       "      <th>CP</th>\n",
       "      <th>UNRATE</th>\n",
       "      <th>GDP</th>\n",
       "      <th>FEDFUNDS</th>\n",
       "      <th>Predicted Next CPI Diff</th>\n",
       "    </tr>\n",
       "  </thead>\n",
       "  <tbody>\n",
       "    <tr>\n",
       "      <th>0</th>\n",
       "      <td>-1.926694</td>\n",
       "      <td>3.139536</td>\n",
       "      <td>-6.635232</td>\n",
       "      <td>3.708540</td>\n",
       "      <td>4.114595</td>\n",
       "      <td>1.539939</td>\n",
       "      <td>-9.513541</td>\n",
       "      <td>-0.000000</td>\n",
       "      <td>0.000000</td>\n",
       "      <td>-0.000000</td>\n",
       "      <td>0.000000</td>\n",
       "      <td>0.000000</td>\n",
       "      <td>0.000000</td>\n",
       "      <td>-0.000000</td>\n",
       "      <td>1010.647</td>\n",
       "      <td>5.433333</td>\n",
       "      <td>12527.214</td>\n",
       "      <td>2.16</td>\n",
       "      <td>0.078071</td>\n",
       "    </tr>\n",
       "    <tr>\n",
       "      <th>1</th>\n",
       "      <td>-5.389968</td>\n",
       "      <td>-7.632829</td>\n",
       "      <td>15.671825</td>\n",
       "      <td>-15.621369</td>\n",
       "      <td>11.329795</td>\n",
       "      <td>7.153614</td>\n",
       "      <td>-19.165295</td>\n",
       "      <td>-0.000000</td>\n",
       "      <td>-0.000000</td>\n",
       "      <td>0.000000</td>\n",
       "      <td>-0.000000</td>\n",
       "      <td>0.000000</td>\n",
       "      <td>0.000000</td>\n",
       "      <td>-0.000000</td>\n",
       "      <td>1010.647</td>\n",
       "      <td>5.433333</td>\n",
       "      <td>12527.214</td>\n",
       "      <td>2.16</td>\n",
       "      <td>0.078071</td>\n",
       "    </tr>\n",
       "    <tr>\n",
       "      <th>2</th>\n",
       "      <td>2.590749</td>\n",
       "      <td>1.479024</td>\n",
       "      <td>-0.587178</td>\n",
       "      <td>2.187723</td>\n",
       "      <td>-3.630193</td>\n",
       "      <td>-1.416851</td>\n",
       "      <td>7.127115</td>\n",
       "      <td>0.000000</td>\n",
       "      <td>0.000000</td>\n",
       "      <td>-0.000000</td>\n",
       "      <td>0.000000</td>\n",
       "      <td>-0.000000</td>\n",
       "      <td>-0.000000</td>\n",
       "      <td>0.000000</td>\n",
       "      <td>1010.647</td>\n",
       "      <td>5.433333</td>\n",
       "      <td>12527.214</td>\n",
       "      <td>2.16</td>\n",
       "      <td>0.078071</td>\n",
       "    </tr>\n",
       "    <tr>\n",
       "      <th>3</th>\n",
       "      <td>-11.295197</td>\n",
       "      <td>5.996558</td>\n",
       "      <td>-18.231506</td>\n",
       "      <td>0.884764</td>\n",
       "      <td>15.483108</td>\n",
       "      <td>-1.971293</td>\n",
       "      <td>-1.550684</td>\n",
       "      <td>-0.000000</td>\n",
       "      <td>0.000000</td>\n",
       "      <td>-0.000000</td>\n",
       "      <td>0.000000</td>\n",
       "      <td>0.000000</td>\n",
       "      <td>-0.000000</td>\n",
       "      <td>-0.000000</td>\n",
       "      <td>1010.647</td>\n",
       "      <td>5.433333</td>\n",
       "      <td>12527.214</td>\n",
       "      <td>2.16</td>\n",
       "      <td>0.078071</td>\n",
       "    </tr>\n",
       "    <tr>\n",
       "      <th>4</th>\n",
       "      <td>6.004312</td>\n",
       "      <td>-2.615900</td>\n",
       "      <td>12.782955</td>\n",
       "      <td>-3.493451</td>\n",
       "      <td>-5.250629</td>\n",
       "      <td>0.019998</td>\n",
       "      <td>5.226545</td>\n",
       "      <td>0.000000</td>\n",
       "      <td>-0.000000</td>\n",
       "      <td>0.000000</td>\n",
       "      <td>-0.000000</td>\n",
       "      <td>-0.000000</td>\n",
       "      <td>0.000000</td>\n",
       "      <td>0.000000</td>\n",
       "      <td>1010.647</td>\n",
       "      <td>5.433333</td>\n",
       "      <td>12527.214</td>\n",
       "      <td>2.16</td>\n",
       "      <td>0.078071</td>\n",
       "    </tr>\n",
       "    <tr>\n",
       "      <th>...</th>\n",
       "      <td>...</td>\n",
       "      <td>...</td>\n",
       "      <td>...</td>\n",
       "      <td>...</td>\n",
       "      <td>...</td>\n",
       "      <td>...</td>\n",
       "      <td>...</td>\n",
       "      <td>...</td>\n",
       "      <td>...</td>\n",
       "      <td>...</td>\n",
       "      <td>...</td>\n",
       "      <td>...</td>\n",
       "      <td>...</td>\n",
       "      <td>...</td>\n",
       "      <td>...</td>\n",
       "      <td>...</td>\n",
       "      <td>...</td>\n",
       "      <td>...</td>\n",
       "      <td>...</td>\n",
       "    </tr>\n",
       "    <tr>\n",
       "      <th>742132</th>\n",
       "      <td>0.356980</td>\n",
       "      <td>3.092662</td>\n",
       "      <td>-8.654602</td>\n",
       "      <td>-0.067372</td>\n",
       "      <td>8.505668</td>\n",
       "      <td>1.169472</td>\n",
       "      <td>-4.798417</td>\n",
       "      <td>0.105574</td>\n",
       "      <td>1.660033</td>\n",
       "      <td>-2.803574</td>\n",
       "      <td>-0.047112</td>\n",
       "      <td>3.206547</td>\n",
       "      <td>0.531598</td>\n",
       "      <td>-0.256253</td>\n",
       "      <td>1779.136</td>\n",
       "      <td>4.166667</td>\n",
       "      <td>19894.750</td>\n",
       "      <td>1.30</td>\n",
       "      <td>0.536293</td>\n",
       "    </tr>\n",
       "    <tr>\n",
       "      <th>742133</th>\n",
       "      <td>9.027255</td>\n",
       "      <td>-1.252299</td>\n",
       "      <td>-0.390821</td>\n",
       "      <td>1.737895</td>\n",
       "      <td>-1.692733</td>\n",
       "      <td>-3.097279</td>\n",
       "      <td>0.356748</td>\n",
       "      <td>0.000000</td>\n",
       "      <td>-0.000000</td>\n",
       "      <td>-0.000000</td>\n",
       "      <td>0.000000</td>\n",
       "      <td>-0.000000</td>\n",
       "      <td>-0.000000</td>\n",
       "      <td>0.000000</td>\n",
       "      <td>1779.136</td>\n",
       "      <td>4.166667</td>\n",
       "      <td>19894.750</td>\n",
       "      <td>1.30</td>\n",
       "      <td>0.536293</td>\n",
       "    </tr>\n",
       "    <tr>\n",
       "      <th>742134</th>\n",
       "      <td>-5.266977</td>\n",
       "      <td>11.009658</td>\n",
       "      <td>0.521269</td>\n",
       "      <td>4.967657</td>\n",
       "      <td>-12.536572</td>\n",
       "      <td>0.065047</td>\n",
       "      <td>18.064914</td>\n",
       "      <td>-1.324366</td>\n",
       "      <td>1.782772</td>\n",
       "      <td>0.081926</td>\n",
       "      <td>0.564007</td>\n",
       "      <td>-1.185448</td>\n",
       "      <td>0.021801</td>\n",
       "      <td>0.623734</td>\n",
       "      <td>1779.136</td>\n",
       "      <td>4.166667</td>\n",
       "      <td>19894.750</td>\n",
       "      <td>1.30</td>\n",
       "      <td>0.536293</td>\n",
       "    </tr>\n",
       "    <tr>\n",
       "      <th>742135</th>\n",
       "      <td>-3.073957</td>\n",
       "      <td>-0.091338</td>\n",
       "      <td>-0.781209</td>\n",
       "      <td>-5.751924</td>\n",
       "      <td>-4.834263</td>\n",
       "      <td>-2.784668</td>\n",
       "      <td>-9.427790</td>\n",
       "      <td>-1.826614</td>\n",
       "      <td>-0.036357</td>\n",
       "      <td>-0.245197</td>\n",
       "      <td>-1.550925</td>\n",
       "      <td>-1.052583</td>\n",
       "      <td>-1.593810</td>\n",
       "      <td>-0.547652</td>\n",
       "      <td>1779.136</td>\n",
       "      <td>4.166667</td>\n",
       "      <td>19894.750</td>\n",
       "      <td>1.30</td>\n",
       "      <td>0.536293</td>\n",
       "    </tr>\n",
       "    <tr>\n",
       "      <th>742136</th>\n",
       "      <td>-0.492002</td>\n",
       "      <td>-0.379048</td>\n",
       "      <td>-2.912814</td>\n",
       "      <td>3.745473</td>\n",
       "      <td>6.918006</td>\n",
       "      <td>3.038846</td>\n",
       "      <td>-6.071708</td>\n",
       "      <td>-0.120932</td>\n",
       "      <td>-0.125523</td>\n",
       "      <td>-1.163790</td>\n",
       "      <td>0.889061</td>\n",
       "      <td>1.527221</td>\n",
       "      <td>1.140388</td>\n",
       "      <td>-0.257478</td>\n",
       "      <td>1779.136</td>\n",
       "      <td>4.166667</td>\n",
       "      <td>19894.750</td>\n",
       "      <td>1.30</td>\n",
       "      <td>0.536293</td>\n",
       "    </tr>\n",
       "  </tbody>\n",
       "</table>\n",
       "<p>742137 rows × 19 columns</p>\n",
       "</div>"
      ],
      "text/plain": [
       "           Mkt-RF        SMB        HML        RMW        CMA       UMD  \\\n",
       "0       -1.926694   3.139536  -6.635232   3.708540   4.114595  1.539939   \n",
       "1       -5.389968  -7.632829  15.671825 -15.621369  11.329795  7.153614   \n",
       "2        2.590749   1.479024  -0.587178   2.187723  -3.630193 -1.416851   \n",
       "3      -11.295197   5.996558 -18.231506   0.884764  15.483108 -1.971293   \n",
       "4        6.004312  -2.615900  12.782955  -3.493451  -5.250629  0.019998   \n",
       "...           ...        ...        ...        ...        ...       ...   \n",
       "742132   0.356980   3.092662  -8.654602  -0.067372   8.505668  1.169472   \n",
       "742133   9.027255  -1.252299  -0.390821   1.737895  -1.692733 -3.097279   \n",
       "742134  -5.266977  11.009658   0.521269   4.967657 -12.536572  0.065047   \n",
       "742135  -3.073957  -0.091338  -0.781209  -5.751924  -4.834263 -2.784668   \n",
       "742136  -0.492002  -0.379048  -2.912814   3.745473   6.918006  3.038846   \n",
       "\n",
       "         CPI Diff  Mkt-RF_t_stat  SMB_t_stat  HML_t_stat  RMW_t_stat  \\\n",
       "0       -9.513541      -0.000000    0.000000   -0.000000    0.000000   \n",
       "1      -19.165295      -0.000000   -0.000000    0.000000   -0.000000   \n",
       "2        7.127115       0.000000    0.000000   -0.000000    0.000000   \n",
       "3       -1.550684      -0.000000    0.000000   -0.000000    0.000000   \n",
       "4        5.226545       0.000000   -0.000000    0.000000   -0.000000   \n",
       "...           ...            ...         ...         ...         ...   \n",
       "742132  -4.798417       0.105574    1.660033   -2.803574   -0.047112   \n",
       "742133   0.356748       0.000000   -0.000000   -0.000000    0.000000   \n",
       "742134  18.064914      -1.324366    1.782772    0.081926    0.564007   \n",
       "742135  -9.427790      -1.826614   -0.036357   -0.245197   -1.550925   \n",
       "742136  -6.071708      -0.120932   -0.125523   -1.163790    0.889061   \n",
       "\n",
       "        CMA_t_stat  UMD_t_stat  CPI Diff_t_stat        CP    UNRATE  \\\n",
       "0         0.000000    0.000000        -0.000000  1010.647  5.433333   \n",
       "1         0.000000    0.000000        -0.000000  1010.647  5.433333   \n",
       "2        -0.000000   -0.000000         0.000000  1010.647  5.433333   \n",
       "3         0.000000   -0.000000        -0.000000  1010.647  5.433333   \n",
       "4        -0.000000    0.000000         0.000000  1010.647  5.433333   \n",
       "...            ...         ...              ...       ...       ...   \n",
       "742132    3.206547    0.531598        -0.256253  1779.136  4.166667   \n",
       "742133   -0.000000   -0.000000         0.000000  1779.136  4.166667   \n",
       "742134   -1.185448    0.021801         0.623734  1779.136  4.166667   \n",
       "742135   -1.052583   -1.593810        -0.547652  1779.136  4.166667   \n",
       "742136    1.527221    1.140388        -0.257478  1779.136  4.166667   \n",
       "\n",
       "              GDP  FEDFUNDS  Predicted Next CPI Diff  \n",
       "0       12527.214      2.16                 0.078071  \n",
       "1       12527.214      2.16                 0.078071  \n",
       "2       12527.214      2.16                 0.078071  \n",
       "3       12527.214      2.16                 0.078071  \n",
       "4       12527.214      2.16                 0.078071  \n",
       "...           ...       ...                      ...  \n",
       "742132  19894.750      1.30                 0.536293  \n",
       "742133  19894.750      1.30                 0.536293  \n",
       "742134  19894.750      1.30                 0.536293  \n",
       "742135  19894.750      1.30                 0.536293  \n",
       "742136  19894.750      1.30                 0.536293  \n",
       "\n",
       "[742137 rows x 19 columns]"
      ]
     },
     "execution_count": 364,
     "metadata": {},
     "output_type": "execute_result"
    }
   ],
   "source": [
    "X_train"
   ]
  },
  {
   "cell_type": "code",
   "execution_count": 365,
   "metadata": {},
   "outputs": [],
   "source": [
    "# import decision tree classifier\n",
    "from sklearn.tree import DecisionTreeClassifier"
   ]
  },
  {
   "cell_type": "code",
   "execution_count": 366,
   "metadata": {},
   "outputs": [
    {
     "data": {
      "text/html": [
       "<style>#sk-container-id-1 {color: black;background-color: white;}#sk-container-id-1 pre{padding: 0;}#sk-container-id-1 div.sk-toggleable {background-color: white;}#sk-container-id-1 label.sk-toggleable__label {cursor: pointer;display: block;width: 100%;margin-bottom: 0;padding: 0.3em;box-sizing: border-box;text-align: center;}#sk-container-id-1 label.sk-toggleable__label-arrow:before {content: \"▸\";float: left;margin-right: 0.25em;color: #696969;}#sk-container-id-1 label.sk-toggleable__label-arrow:hover:before {color: black;}#sk-container-id-1 div.sk-estimator:hover label.sk-toggleable__label-arrow:before {color: black;}#sk-container-id-1 div.sk-toggleable__content {max-height: 0;max-width: 0;overflow: hidden;text-align: left;background-color: #f0f8ff;}#sk-container-id-1 div.sk-toggleable__content pre {margin: 0.2em;color: black;border-radius: 0.25em;background-color: #f0f8ff;}#sk-container-id-1 input.sk-toggleable__control:checked~div.sk-toggleable__content {max-height: 200px;max-width: 100%;overflow: auto;}#sk-container-id-1 input.sk-toggleable__control:checked~label.sk-toggleable__label-arrow:before {content: \"▾\";}#sk-container-id-1 div.sk-estimator input.sk-toggleable__control:checked~label.sk-toggleable__label {background-color: #d4ebff;}#sk-container-id-1 div.sk-label input.sk-toggleable__control:checked~label.sk-toggleable__label {background-color: #d4ebff;}#sk-container-id-1 input.sk-hidden--visually {border: 0;clip: rect(1px 1px 1px 1px);clip: rect(1px, 1px, 1px, 1px);height: 1px;margin: -1px;overflow: hidden;padding: 0;position: absolute;width: 1px;}#sk-container-id-1 div.sk-estimator {font-family: monospace;background-color: #f0f8ff;border: 1px dotted black;border-radius: 0.25em;box-sizing: border-box;margin-bottom: 0.5em;}#sk-container-id-1 div.sk-estimator:hover {background-color: #d4ebff;}#sk-container-id-1 div.sk-parallel-item::after {content: \"\";width: 100%;border-bottom: 1px solid gray;flex-grow: 1;}#sk-container-id-1 div.sk-label:hover label.sk-toggleable__label {background-color: #d4ebff;}#sk-container-id-1 div.sk-serial::before {content: \"\";position: absolute;border-left: 1px solid gray;box-sizing: border-box;top: 0;bottom: 0;left: 50%;z-index: 0;}#sk-container-id-1 div.sk-serial {display: flex;flex-direction: column;align-items: center;background-color: white;padding-right: 0.2em;padding-left: 0.2em;position: relative;}#sk-container-id-1 div.sk-item {position: relative;z-index: 1;}#sk-container-id-1 div.sk-parallel {display: flex;align-items: stretch;justify-content: center;background-color: white;position: relative;}#sk-container-id-1 div.sk-item::before, #sk-container-id-1 div.sk-parallel-item::before {content: \"\";position: absolute;border-left: 1px solid gray;box-sizing: border-box;top: 0;bottom: 0;left: 50%;z-index: -1;}#sk-container-id-1 div.sk-parallel-item {display: flex;flex-direction: column;z-index: 1;position: relative;background-color: white;}#sk-container-id-1 div.sk-parallel-item:first-child::after {align-self: flex-end;width: 50%;}#sk-container-id-1 div.sk-parallel-item:last-child::after {align-self: flex-start;width: 50%;}#sk-container-id-1 div.sk-parallel-item:only-child::after {width: 0;}#sk-container-id-1 div.sk-dashed-wrapped {border: 1px dashed gray;margin: 0 0.4em 0.5em 0.4em;box-sizing: border-box;padding-bottom: 0.4em;background-color: white;}#sk-container-id-1 div.sk-label label {font-family: monospace;font-weight: bold;display: inline-block;line-height: 1.2em;}#sk-container-id-1 div.sk-label-container {text-align: center;}#sk-container-id-1 div.sk-container {/* jupyter's `normalize.less` sets `[hidden] { display: none; }` but bootstrap.min.css set `[hidden] { display: none !important; }` so we also need the `!important` here to be able to override the default hidden behavior on the sphinx rendered scikit-learn.org. See: https://github.com/scikit-learn/scikit-learn/issues/21755 */display: inline-block !important;position: relative;}#sk-container-id-1 div.sk-text-repr-fallback {display: none;}</style><div id=\"sk-container-id-1\" class=\"sk-top-container\"><div class=\"sk-text-repr-fallback\"><pre>DecisionTreeClassifier()</pre><b>In a Jupyter environment, please rerun this cell to show the HTML representation or trust the notebook. <br />On GitHub, the HTML representation is unable to render, please try loading this page with nbviewer.org.</b></div><div class=\"sk-container\" hidden><div class=\"sk-item\"><div class=\"sk-estimator sk-toggleable\"><input class=\"sk-toggleable__control sk-hidden--visually\" id=\"sk-estimator-id-1\" type=\"checkbox\" checked><label for=\"sk-estimator-id-1\" class=\"sk-toggleable__label sk-toggleable__label-arrow\">DecisionTreeClassifier</label><div class=\"sk-toggleable__content\"><pre>DecisionTreeClassifier()</pre></div></div></div></div></div>"
      ],
      "text/plain": [
       "DecisionTreeClassifier()"
      ]
     },
     "execution_count": 366,
     "metadata": {},
     "output_type": "execute_result"
    }
   ],
   "source": [
    "# fit decision tree classifier\n",
    "dt = DecisionTreeClassifier()\n",
    "dt.fit(X_train, y_train)"
   ]
  },
  {
   "cell_type": "code",
   "execution_count": 367,
   "metadata": {},
   "outputs": [],
   "source": [
    "# predict on test\n",
    "y_pred = dt.predict(X_test)"
   ]
  },
  {
   "cell_type": "code",
   "execution_count": 368,
   "metadata": {},
   "outputs": [
    {
     "data": {
      "text/plain": [
       "0.5195466255494795"
      ]
     },
     "execution_count": 368,
     "metadata": {},
     "output_type": "execute_result"
    }
   ],
   "source": [
    "# import accuracy score\n",
    "from sklearn.metrics import accuracy_score\n",
    "\n",
    "# accuracy score\n",
    "accuracy_score(y_test, y_pred)"
   ]
  },
  {
   "cell_type": "code",
   "execution_count": 369,
   "metadata": {},
   "outputs": [
    {
     "data": {
      "text/plain": [
       "array([[74091, 39790],\n",
       "       [60545, 34408]])"
      ]
     },
     "execution_count": 369,
     "metadata": {},
     "output_type": "execute_result"
    }
   ],
   "source": [
    "# import confusion matrix\n",
    "from sklearn.metrics import confusion_matrix\n",
    "\n",
    "# confusion matrix\n",
    "confusion_matrix(y_test, y_pred)"
   ]
  },
  {
   "cell_type": "code",
   "execution_count": 370,
   "metadata": {},
   "outputs": [
    {
     "name": "stdout",
     "output_type": "stream",
     "text": [
      "              precision    recall  f1-score   support\n",
      "\n",
      "           0       0.55      0.65      0.60    113881\n",
      "           1       0.46      0.36      0.41     94953\n",
      "\n",
      "    accuracy                           0.52    208834\n",
      "   macro avg       0.51      0.51      0.50    208834\n",
      "weighted avg       0.51      0.52      0.51    208834\n",
      "\n"
     ]
    }
   ],
   "source": [
    "# import classification report\n",
    "from sklearn.metrics import classification_report\n",
    "\n",
    "# classification report\n",
    "print(classification_report(y_test, y_pred))"
   ]
  },
  {
   "cell_type": "code",
   "execution_count": 375,
   "metadata": {},
   "outputs": [
    {
     "data": {
      "text/html": [
       "<div>\n",
       "<style scoped>\n",
       "    .dataframe tbody tr th:only-of-type {\n",
       "        vertical-align: middle;\n",
       "    }\n",
       "\n",
       "    .dataframe tbody tr th {\n",
       "        vertical-align: top;\n",
       "    }\n",
       "\n",
       "    .dataframe thead th {\n",
       "        text-align: right;\n",
       "    }\n",
       "</style>\n",
       "<table border=\"1\" class=\"dataframe\">\n",
       "  <thead>\n",
       "    <tr style=\"text-align: right;\">\n",
       "      <th></th>\n",
       "      <th>feature</th>\n",
       "      <th>importance</th>\n",
       "    </tr>\n",
       "  </thead>\n",
       "  <tbody>\n",
       "    <tr>\n",
       "      <th>7</th>\n",
       "      <td>Mkt-RF_t_stat</td>\n",
       "      <td>0.079142</td>\n",
       "    </tr>\n",
       "    <tr>\n",
       "      <th>9</th>\n",
       "      <td>HML_t_stat</td>\n",
       "      <td>0.069155</td>\n",
       "    </tr>\n",
       "    <tr>\n",
       "      <th>10</th>\n",
       "      <td>RMW_t_stat</td>\n",
       "      <td>0.067344</td>\n",
       "    </tr>\n",
       "    <tr>\n",
       "      <th>12</th>\n",
       "      <td>UMD_t_stat</td>\n",
       "      <td>0.067132</td>\n",
       "    </tr>\n",
       "    <tr>\n",
       "      <th>8</th>\n",
       "      <td>SMB_t_stat</td>\n",
       "      <td>0.067121</td>\n",
       "    </tr>\n",
       "    <tr>\n",
       "      <th>13</th>\n",
       "      <td>CPI Diff_t_stat</td>\n",
       "      <td>0.066411</td>\n",
       "    </tr>\n",
       "    <tr>\n",
       "      <th>11</th>\n",
       "      <td>CMA_t_stat</td>\n",
       "      <td>0.066077</td>\n",
       "    </tr>\n",
       "    <tr>\n",
       "      <th>2</th>\n",
       "      <td>HML</td>\n",
       "      <td>0.064885</td>\n",
       "    </tr>\n",
       "    <tr>\n",
       "      <th>0</th>\n",
       "      <td>Mkt-RF</td>\n",
       "      <td>0.063117</td>\n",
       "    </tr>\n",
       "    <tr>\n",
       "      <th>6</th>\n",
       "      <td>CPI Diff</td>\n",
       "      <td>0.062196</td>\n",
       "    </tr>\n",
       "    <tr>\n",
       "      <th>1</th>\n",
       "      <td>SMB</td>\n",
       "      <td>0.062124</td>\n",
       "    </tr>\n",
       "    <tr>\n",
       "      <th>4</th>\n",
       "      <td>CMA</td>\n",
       "      <td>0.061566</td>\n",
       "    </tr>\n",
       "    <tr>\n",
       "      <th>5</th>\n",
       "      <td>UMD</td>\n",
       "      <td>0.061201</td>\n",
       "    </tr>\n",
       "    <tr>\n",
       "      <th>3</th>\n",
       "      <td>RMW</td>\n",
       "      <td>0.060381</td>\n",
       "    </tr>\n",
       "    <tr>\n",
       "      <th>14</th>\n",
       "      <td>CP</td>\n",
       "      <td>0.025999</td>\n",
       "    </tr>\n",
       "    <tr>\n",
       "      <th>16</th>\n",
       "      <td>GDP</td>\n",
       "      <td>0.020661</td>\n",
       "    </tr>\n",
       "    <tr>\n",
       "      <th>18</th>\n",
       "      <td>Predicted Next CPI Diff</td>\n",
       "      <td>0.017518</td>\n",
       "    </tr>\n",
       "    <tr>\n",
       "      <th>15</th>\n",
       "      <td>UNRATE</td>\n",
       "      <td>0.012086</td>\n",
       "    </tr>\n",
       "    <tr>\n",
       "      <th>17</th>\n",
       "      <td>FEDFUNDS</td>\n",
       "      <td>0.005884</td>\n",
       "    </tr>\n",
       "  </tbody>\n",
       "</table>\n",
       "</div>"
      ],
      "text/plain": [
       "                    feature  importance\n",
       "7             Mkt-RF_t_stat    0.079142\n",
       "9                HML_t_stat    0.069155\n",
       "10               RMW_t_stat    0.067344\n",
       "12               UMD_t_stat    0.067132\n",
       "8                SMB_t_stat    0.067121\n",
       "13          CPI Diff_t_stat    0.066411\n",
       "11               CMA_t_stat    0.066077\n",
       "2                       HML    0.064885\n",
       "0                    Mkt-RF    0.063117\n",
       "6                  CPI Diff    0.062196\n",
       "1                       SMB    0.062124\n",
       "4                       CMA    0.061566\n",
       "5                       UMD    0.061201\n",
       "3                       RMW    0.060381\n",
       "14                       CP    0.025999\n",
       "16                      GDP    0.020661\n",
       "18  Predicted Next CPI Diff    0.017518\n",
       "15                   UNRATE    0.012086\n",
       "17                 FEDFUNDS    0.005884"
      ]
     },
     "execution_count": 375,
     "metadata": {},
     "output_type": "execute_result"
    }
   ],
   "source": [
    "# get feature importance readable\n",
    "feature_importance = pd.DataFrame({\"feature\": X_train.columns, \"importance\": dt.feature_importances_})\n",
    "feature_importance.sort_values(\"importance\", ascending=False)"
   ]
  },
  {
   "cell_type": "code",
   "execution_count": 378,
   "metadata": {},
   "outputs": [
    {
     "data": {
      "text/plain": [
       "0    503627\n",
       "1    447344\n",
       "Name: target, dtype: int64"
      ]
     },
     "execution_count": 378,
     "metadata": {},
     "output_type": "execute_result"
    }
   ],
   "source": [
    "beta_t_price_macros_forecast_cpi[\"target\"].value_counts()"
   ]
  },
  {
   "cell_type": "code",
   "execution_count": 379,
   "metadata": {},
   "outputs": [
    {
     "name": "stdout",
     "output_type": "stream",
     "text": [
      "0    0.545318\n",
      "1    0.454682\n",
      "Name: target, dtype: float64\n",
      "0    0.525167\n",
      "1    0.474833\n",
      "Name: target, dtype: float64\n"
     ]
    }
   ],
   "source": [
    "# get value counts of y test and y train as percentages\n",
    "print(y_test.value_counts(normalize=True))\n",
    "print(y_train.value_counts(normalize=True))"
   ]
  },
  {
   "cell_type": "code",
   "execution_count": 171,
   "metadata": {},
   "outputs": [],
   "source": [
    "# read in FEDFUND\n",
    "fedfund = pd.read_csv(\"data/FEDFUNDS.csv\")\n",
    "\n",
    "# read in GDPNOW.csv\n",
    "gdpnow = pd.read_csv(\"data/GDPNOW.csv\")\n",
    "\n",
    "# read in macroecomonic_Data.xlsx\n",
    "macro = pd.read_excel(\"data/macroeconomic_Data.xlsx\")"
   ]
  },
  {
   "cell_type": "code",
   "execution_count": 173,
   "metadata": {},
   "outputs": [],
   "source": [
    "# substract date by one day\n",
    "fedfund[\"DATE\"] = pd.to_datetime(fedfund[\"DATE\"]) - pd.Timedelta(days=1)"
   ]
  },
  {
   "cell_type": "code",
   "execution_count": 178,
   "metadata": {},
   "outputs": [
    {
     "data": {
      "text/html": [
       "<div>\n",
       "<style scoped>\n",
       "    .dataframe tbody tr th:only-of-type {\n",
       "        vertical-align: middle;\n",
       "    }\n",
       "\n",
       "    .dataframe tbody tr th {\n",
       "        vertical-align: top;\n",
       "    }\n",
       "\n",
       "    .dataframe thead th {\n",
       "        text-align: right;\n",
       "    }\n",
       "</style>\n",
       "<table border=\"1\" class=\"dataframe\">\n",
       "  <thead>\n",
       "    <tr style=\"text-align: right;\">\n",
       "      <th></th>\n",
       "      <th>Date</th>\n",
       "      <th>Total Assets</th>\n",
       "    </tr>\n",
       "  </thead>\n",
       "  <tbody>\n",
       "    <tr>\n",
       "      <th>0</th>\n",
       "      <td>2007-08-01</td>\n",
       "      <td>870261</td>\n",
       "    </tr>\n",
       "    <tr>\n",
       "      <th>1</th>\n",
       "      <td>2007-08-08</td>\n",
       "      <td>865453</td>\n",
       "    </tr>\n",
       "    <tr>\n",
       "      <th>2</th>\n",
       "      <td>2007-08-15</td>\n",
       "      <td>864931</td>\n",
       "    </tr>\n",
       "    <tr>\n",
       "      <th>3</th>\n",
       "      <td>2007-08-22</td>\n",
       "      <td>862775</td>\n",
       "    </tr>\n",
       "    <tr>\n",
       "      <th>4</th>\n",
       "      <td>2007-08-29</td>\n",
       "      <td>872873</td>\n",
       "    </tr>\n",
       "    <tr>\n",
       "      <th>...</th>\n",
       "      <td>...</td>\n",
       "      <td>...</td>\n",
       "    </tr>\n",
       "    <tr>\n",
       "      <th>807</th>\n",
       "      <td>2023-01-18</td>\n",
       "      <td>8489039</td>\n",
       "    </tr>\n",
       "    <tr>\n",
       "      <th>808</th>\n",
       "      <td>2023-01-25</td>\n",
       "      <td>8470557</td>\n",
       "    </tr>\n",
       "    <tr>\n",
       "      <th>809</th>\n",
       "      <td>2023-02-01</td>\n",
       "      <td>8433610</td>\n",
       "    </tr>\n",
       "    <tr>\n",
       "      <th>810</th>\n",
       "      <td>2023-02-08</td>\n",
       "      <td>8435369</td>\n",
       "    </tr>\n",
       "    <tr>\n",
       "      <th>811</th>\n",
       "      <td>2023-02-15</td>\n",
       "      <td>8384767</td>\n",
       "    </tr>\n",
       "  </tbody>\n",
       "</table>\n",
       "<p>812 rows × 2 columns</p>\n",
       "</div>"
      ],
      "text/plain": [
       "          Date  Total Assets\n",
       "0   2007-08-01        870261\n",
       "1   2007-08-08        865453\n",
       "2   2007-08-15        864931\n",
       "3   2007-08-22        862775\n",
       "4   2007-08-29        872873\n",
       "..         ...           ...\n",
       "807 2023-01-18       8489039\n",
       "808 2023-01-25       8470557\n",
       "809 2023-02-01       8433610\n",
       "810 2023-02-08       8435369\n",
       "811 2023-02-15       8384767\n",
       "\n",
       "[812 rows x 2 columns]"
      ]
     },
     "execution_count": 178,
     "metadata": {},
     "output_type": "execute_result"
    }
   ],
   "source": [
    "macro"
   ]
  },
  {
   "cell_type": "code",
   "execution_count": null,
   "metadata": {},
   "outputs": [],
   "source": []
  },
  {
   "cell_type": "code",
   "execution_count": 166,
   "metadata": {},
   "outputs": [],
   "source": [
    "# get all records that have a CPI diff t stat that is significant\n",
    "sig = beta_t_df[beta_t_df[\"CPI Diff_t_stat\"].abs() > 3]\n",
    "sig = sig.sort_values(by=\"date\", ascending=False)"
   ]
  },
  {
   "cell_type": "code",
   "execution_count": 167,
   "metadata": {},
   "outputs": [
    {
     "data": {
      "text/plain": [
       "<AxesSubplot:>"
      ]
     },
     "execution_count": 167,
     "metadata": {},
     "output_type": "execute_result"
    },
    {
     "data": {
      "image/png": "[encoded data removed]",
      "text/plain": [
       "<Figure size 432x288 with 1 Axes>"
      ]
     },
     "metadata": {
      "needs_background": "light"
     },
     "output_type": "display_data"
    }
   ],
   "source": [
    "# plot count of significant t stats postive and negative by date\n",
    "sig[\"date\"].value_counts().plot()"
   ]
  },
  {
   "cell_type": "code",
   "execution_count": 170,
   "metadata": {},
   "outputs": [
    {
     "data": {
      "text/plain": [
       "167.0"
      ]
     },
     "execution_count": 170,
     "metadata": {},
     "output_type": "execute_result"
    }
   ],
   "source": [
    "# avg count of significant t stats per date\n",
    "sig[\"date\"].value_counts().median()"
   ]
  },
  {
   "cell_type": "code",
   "execution_count": null,
   "metadata": {},
   "outputs": [],
   "source": []
  },
  {
   "cell_type": "code",
   "execution_count": null,
   "metadata": {},
   "outputs": [],
   "source": []
  },
  {
   "cell_type": "code",
   "execution_count": null,
   "metadata": {},
   "outputs": [],
   "source": []
  },
  {
   "cell_type": "code",
   "execution_count": null,
   "metadata": {},
   "outputs": [],
   "source": []
  },
  {
   "cell_type": "code",
   "execution_count": null,
   "metadata": {},
   "outputs": [],
   "source": [
    "# load pickle file\n",
    "with open('beta_dict_final.pickle', 'rb') as f:\n",
    "    # The protocol version used is detected automatically, so we do not\n",
    "    # have to specify it.\n",
    "    beta_dict = pickle.load(f)"
   ]
  },
  {
   "cell_type": "code",
   "execution_count": 114,
   "metadata": {},
   "outputs": [],
   "source": [
    "beta_df = pd.DataFrame.from_dict(beta_dict, orient=\"index\")\n",
    "beta_df = beta_df.reset_index()\n",
    "# beta_df.columns = [\"date\", \"gvkey\", \"beta\", \"t-stat\"]\n",
    "# beta_df[\"date\"] = pd.to_datetime(beta_df[\"date\"])\n",
    "# beta_df[\"gvkey\"] = beta_df[\"gvkey\"].astype(int)"
   ]
  },
  {
   "cell_type": "code",
   "execution_count": 115,
   "metadata": {},
   "outputs": [
    {
     "data": {
      "text/html": [
       "<div>\n",
       "<style scoped>\n",
       "    .dataframe tbody tr th:only-of-type {\n",
       "        vertical-align: middle;\n",
       "    }\n",
       "\n",
       "    .dataframe tbody tr th {\n",
       "        vertical-align: top;\n",
       "    }\n",
       "\n",
       "    .dataframe thead th {\n",
       "        text-align: right;\n",
       "    }\n",
       "</style>\n",
       "<table border=\"1\" class=\"dataframe\">\n",
       "  <thead>\n",
       "    <tr style=\"text-align: right;\">\n",
       "      <th></th>\n",
       "      <th>level_0</th>\n",
       "      <th>level_1</th>\n",
       "      <th>const</th>\n",
       "      <th>Mkt-RF</th>\n",
       "      <th>SMB</th>\n",
       "      <th>HML</th>\n",
       "      <th>RMW</th>\n",
       "      <th>CMA</th>\n",
       "      <th>UMD</th>\n",
       "      <th>CPI Diff</th>\n",
       "    </tr>\n",
       "  </thead>\n",
       "  <tbody>\n",
       "    <tr>\n",
       "      <th>0</th>\n",
       "      <td>2004-12-31</td>\n",
       "      <td>1003</td>\n",
       "      <td>-0.138276</td>\n",
       "      <td>0.010059</td>\n",
       "      <td>0.026984</td>\n",
       "      <td>-0.061919</td>\n",
       "      <td>0.05857</td>\n",
       "      <td>-0.023065</td>\n",
       "      <td>-0.0118</td>\n",
       "      <td>0.047869</td>\n",
       "    </tr>\n",
       "  </tbody>\n",
       "</table>\n",
       "</div>"
      ],
      "text/plain": [
       "     level_0  level_1     const    Mkt-RF       SMB       HML      RMW  \\\n",
       "0 2004-12-31     1003 -0.138276  0.010059  0.026984 -0.061919  0.05857   \n",
       "\n",
       "        CMA     UMD  CPI Diff  \n",
       "0 -0.023065 -0.0118  0.047869  "
      ]
     },
     "execution_count": 115,
     "metadata": {},
     "output_type": "execute_result"
    }
   ],
   "source": [
    "beta_df"
   ]
  },
  {
   "cell_type": "code",
   "execution_count": null,
   "metadata": {},
   "outputs": [],
   "source": [
    "# create results dataframe\n",
    "results = pd.DataFrame(columns=[\"t_stat\",\"mean\", \"std\", \"sharpe\"])\n",
    "t_stats = [j/100 for j in range(100, 525, 25)]\n",
    "\n",
    "for t in t_stats:\n",
    "    sig_stocks = beta_df[(beta_df[\"t-stat\"] > t) | (beta_df[\"t-stat\"] < -t)]\n",
    "    # for each month get the count of stocks that are significant groupby date and count\n",
    "    sig_stocks_count = sig_stocks.groupby(\"date\").count().reset_index()\n",
    "    # plot the count of significant stocks using plotly\n",
    "    \n",
    "    #merge sig_stocs with cpi and shift dates forward 1\n",
    "    sig_stocks = sig_stocks.merge(cpi, how=\"left\", on=\"date\")\n",
    "    sig_stocks[\"shifted_date\"] = sig_stocks[\"date\"] + MonthEnd(1)\n",
    "    # sig_stocks = sig_stocks.drop(\"date\", axis=1)\n",
    "    sig_stocks\n",
    "    #shift diff column back 1\n",
    "    sig_stocks[\"pred_diff\"] = sig_stocks.groupby(\"gvkey\")[\"diff\"].shift(-1)\n",
    "    #shift diff of diff column back 1\n",
    "    sig_stocks[\"pred_diff of diff\"] = sig_stocks.groupby(\"gvkey\")[\"diff_of_diff\"].shift(-1)\n",
    "    sig_stocks\n",
    "    #Given a month, return the long and short stocks for next period\n",
    "    def long_short(sig_stocks,date):\n",
    "        sig_stocks= sig_stocks[sig_stocks[\"date\"]==date]\n",
    "        #get direction of month\n",
    "        direction=sig_stocks[\"pred_diff\"].mean()\n",
    "        #get only ones that are significant\n",
    "        if direction < 0:\n",
    "            long_stocks=sig_stocks[sig_stocks[\"beta\"]<0]\n",
    "            short_stocks=sig_stocks[sig_stocks[\"beta\"]>0]\n",
    "        else:\n",
    "            long_stocks=sig_stocks[sig_stocks[\"beta\"]>0]\n",
    "            short_stocks=sig_stocks[sig_stocks[\"beta\"]<0]\n",
    "        return long_stocks,short_stocks\n",
    "        #split into long and short\n",
    "    #loop through dates and get long and short stocks\n",
    "    #make dictionary of long and short stocks\n",
    "    long_dict={}\n",
    "    short_dict={}\n",
    "    for date in sig_stocks[\"date\"].unique():\n",
    "        long_stocks,short_stocks=long_short(sig_stocks,date)\n",
    "        long_dict[date]=list(long_stocks.gvkey)\n",
    "        short_dict[date]=list(short_stocks.gvkey)\n",
    "\n",
    "\n",
    "    sig_stocks = sig_stocks.merge(stocks, how=\"left\", left_on=[\"date\", \"gvkey\"], right_on=[\"datadate\", \"gvkey\"])\n",
    "    #for each date get the return of each stock in the next month\n",
    "    diff_dict={}\n",
    "    for date in sig_stocks[\"date\"].unique():\n",
    "        #get the next month\n",
    "        #if there is no next month, skip\n",
    "        if date not in long_dict.keys():\n",
    "            continue\n",
    "        next_month=date+MonthEnd(1)\n",
    "        #get the stocks that are long and short\n",
    "        long_stocks=long_dict[date]\n",
    "        short_stocks=short_dict[date]\n",
    "        #get the returns of the stocks\n",
    "        long_returns=stocks[(stocks[\"datadate\"]==next_month) & (stocks[\"gvkey\"].isin(long_stocks))][\"trt1m\"]\n",
    "        short_returns=stocks[(stocks[\"datadate\"]==next_month) & (stocks[\"gvkey\"].isin(short_stocks))][\"trt1m\"]\n",
    "        #get the mean of the returns\n",
    "        long_mean=long_returns.mean()\n",
    "        short_mean=short_returns.mean()\n",
    "        #get the difference\n",
    "        diff=long_mean-short_mean\n",
    "        #create a dictionary of dates and differences\n",
    "        diff_dict[date]=diff\n",
    "        # #get the t-stat\n",
    "        # t_stat=diff/np.sqrt((long_returns.var()/len(long_returns))+(short_returns.var()/len(short_returns)))\n",
    "        # #get the p-value\n",
    "        # p_value=1-stats.t.cdf(t_stat,len(long_returns)+len(short_returns)-2)\n",
    "        # print(\"Date: \",date)\n",
    "        # print(\"Long Mean: \",long_mean)\n",
    "        # print(\"Short Mean: \",short_mean)\n",
    "        # print(\"Difference: \",diff)\n",
    "        # print(\"t-stat: \",t_stat)\n",
    "        # print(\"p-value: \",p_value)\n",
    "        # print(\"\")\n",
    "    #drop keys with nan values\n",
    "    diff_dict={k: v for k, v in diff_dict.items() if not np.isnan(v)}\n",
    "    #sort by date\n",
    "    diff_dict=OrderedDict(sorted(diff_dict.items()))\n",
    "    #convert to dataframe\n",
    "    diff_df=pd.DataFrame.from_dict(diff_dict,orient=\"index\")\n",
    "    diff_df.columns=[\"diff\"]\n",
    "    diff_df\n",
    "    diff_df[\"diff\"].mean()\n",
    "    ff_factors = get_factors()\n",
    "    excess_returns = diff_df[\"diff\"] - ff_factors.set_index(\"date\")[\"RF\"]\n",
    "    excess_returns = excess_returns.dropna()\n",
    "    # calculate sharpe ratio\n",
    "    sharpe_ratio = excess_returns.mean() / excess_returns.std()\n",
    "    excess_returns.mean()\n",
    "    excess_returns.std()\n",
    "    sharpe_ratio\n",
    "\n",
    "    # add to new row\n",
    "    results.loc[len(results)] = [t, excess_returns.mean(), excess_returns.std(), sharpe_ratio]\n"
   ]
  },
  {
   "cell_type": "code",
   "execution_count": null,
   "metadata": {},
   "outputs": [
    {
     "data": {
      "text/html": [
       "<div>\n",
       "<style scoped>\n",
       "    .dataframe tbody tr th:only-of-type {\n",
       "        vertical-align: middle;\n",
       "    }\n",
       "\n",
       "    .dataframe tbody tr th {\n",
       "        vertical-align: top;\n",
       "    }\n",
       "\n",
       "    .dataframe thead th {\n",
       "        text-align: right;\n",
       "    }\n",
       "</style>\n",
       "<table border=\"1\" class=\"dataframe\">\n",
       "  <thead>\n",
       "    <tr style=\"text-align: right;\">\n",
       "      <th></th>\n",
       "      <th>t_stat</th>\n",
       "      <th>mean</th>\n",
       "      <th>std</th>\n",
       "      <th>sharpe</th>\n",
       "    </tr>\n",
       "  </thead>\n",
       "  <tbody>\n",
       "    <tr>\n",
       "      <th>0</th>\n",
       "      <td>1.00</td>\n",
       "      <td>-0.541703</td>\n",
       "      <td>4.136965</td>\n",
       "      <td>-0.130942</td>\n",
       "    </tr>\n",
       "    <tr>\n",
       "      <th>1</th>\n",
       "      <td>1.25</td>\n",
       "      <td>-0.545083</td>\n",
       "      <td>4.892785</td>\n",
       "      <td>-0.111406</td>\n",
       "    </tr>\n",
       "    <tr>\n",
       "      <th>2</th>\n",
       "      <td>1.50</td>\n",
       "      <td>-0.449041</td>\n",
       "      <td>5.785440</td>\n",
       "      <td>-0.077616</td>\n",
       "    </tr>\n",
       "    <tr>\n",
       "      <th>3</th>\n",
       "      <td>1.75</td>\n",
       "      <td>-0.680365</td>\n",
       "      <td>6.617465</td>\n",
       "      <td>-0.102813</td>\n",
       "    </tr>\n",
       "    <tr>\n",
       "      <th>4</th>\n",
       "      <td>2.00</td>\n",
       "      <td>-0.297868</td>\n",
       "      <td>8.033366</td>\n",
       "      <td>-0.037079</td>\n",
       "    </tr>\n",
       "    <tr>\n",
       "      <th>5</th>\n",
       "      <td>2.25</td>\n",
       "      <td>-0.084090</td>\n",
       "      <td>9.445890</td>\n",
       "      <td>-0.008902</td>\n",
       "    </tr>\n",
       "    <tr>\n",
       "      <th>6</th>\n",
       "      <td>2.50</td>\n",
       "      <td>-0.022394</td>\n",
       "      <td>11.128876</td>\n",
       "      <td>-0.002012</td>\n",
       "    </tr>\n",
       "    <tr>\n",
       "      <th>7</th>\n",
       "      <td>2.75</td>\n",
       "      <td>0.014696</td>\n",
       "      <td>14.325818</td>\n",
       "      <td>0.001026</td>\n",
       "    </tr>\n",
       "    <tr>\n",
       "      <th>8</th>\n",
       "      <td>3.00</td>\n",
       "      <td>0.984147</td>\n",
       "      <td>19.155775</td>\n",
       "      <td>0.051376</td>\n",
       "    </tr>\n",
       "    <tr>\n",
       "      <th>9</th>\n",
       "      <td>3.25</td>\n",
       "      <td>0.889586</td>\n",
       "      <td>17.186555</td>\n",
       "      <td>0.051761</td>\n",
       "    </tr>\n",
       "    <tr>\n",
       "      <th>10</th>\n",
       "      <td>3.50</td>\n",
       "      <td>1.308359</td>\n",
       "      <td>21.581316</td>\n",
       "      <td>0.060625</td>\n",
       "    </tr>\n",
       "    <tr>\n",
       "      <th>11</th>\n",
       "      <td>3.75</td>\n",
       "      <td>1.232808</td>\n",
       "      <td>23.110041</td>\n",
       "      <td>0.053345</td>\n",
       "    </tr>\n",
       "    <tr>\n",
       "      <th>12</th>\n",
       "      <td>4.00</td>\n",
       "      <td>1.454112</td>\n",
       "      <td>26.491265</td>\n",
       "      <td>0.054890</td>\n",
       "    </tr>\n",
       "    <tr>\n",
       "      <th>13</th>\n",
       "      <td>4.25</td>\n",
       "      <td>1.833442</td>\n",
       "      <td>27.284289</td>\n",
       "      <td>0.067198</td>\n",
       "    </tr>\n",
       "    <tr>\n",
       "      <th>14</th>\n",
       "      <td>4.50</td>\n",
       "      <td>-3.604500</td>\n",
       "      <td>25.143226</td>\n",
       "      <td>-0.143359</td>\n",
       "    </tr>\n",
       "    <tr>\n",
       "      <th>15</th>\n",
       "      <td>4.75</td>\n",
       "      <td>-1.820558</td>\n",
       "      <td>21.392471</td>\n",
       "      <td>-0.085103</td>\n",
       "    </tr>\n",
       "    <tr>\n",
       "      <th>16</th>\n",
       "      <td>5.00</td>\n",
       "      <td>-4.418359</td>\n",
       "      <td>24.159041</td>\n",
       "      <td>-0.182886</td>\n",
       "    </tr>\n",
       "  </tbody>\n",
       "</table>\n",
       "</div>"
      ],
      "text/plain": [
       "    t_stat      mean        std    sharpe\n",
       "0     1.00 -0.541703   4.136965 -0.130942\n",
       "1     1.25 -0.545083   4.892785 -0.111406\n",
       "2     1.50 -0.449041   5.785440 -0.077616\n",
       "3     1.75 -0.680365   6.617465 -0.102813\n",
       "4     2.00 -0.297868   8.033366 -0.037079\n",
       "5     2.25 -0.084090   9.445890 -0.008902\n",
       "6     2.50 -0.022394  11.128876 -0.002012\n",
       "7     2.75  0.014696  14.325818  0.001026\n",
       "8     3.00  0.984147  19.155775  0.051376\n",
       "9     3.25  0.889586  17.186555  0.051761\n",
       "10    3.50  1.308359  21.581316  0.060625\n",
       "11    3.75  1.232808  23.110041  0.053345\n",
       "12    4.00  1.454112  26.491265  0.054890\n",
       "13    4.25  1.833442  27.284289  0.067198\n",
       "14    4.50 -3.604500  25.143226 -0.143359\n",
       "15    4.75 -1.820558  21.392471 -0.085103\n",
       "16    5.00 -4.418359  24.159041 -0.182886"
      ]
     },
     "metadata": {},
     "output_type": "display_data"
    }
   ],
   "source": [
    "results"
   ]
  },
  {
   "cell_type": "code",
   "execution_count": null,
   "metadata": {},
   "outputs": [],
   "source": [
    "results[\"t_stat\"] = t_stats"
   ]
  },
  {
   "cell_type": "code",
   "execution_count": null,
   "metadata": {},
   "outputs": [
    {
     "ename": "KeyError",
     "evalue": "\"['date'] not found in axis\"",
     "output_type": "error",
     "traceback": [
      "\u001b[0;31m---------------------------------------------------------------------------\u001b[0m\n",
      "\u001b[0;31mKeyError\u001b[0m                                  Traceback (most recent call last)\n",
      "\u001b[1;32m/Users/rudra/Library/CloudStorage/OneDrive-Personal/Documents/Analytical_Finance_ML/inflation_trading/inflation_factor.ipynb Cell 32\u001b[0m in \u001b[0;36m<cell line: 1>\u001b[0;34m()\u001b[0m\n",
      "\u001b[0;32m----> <a href='vscode-notebook-cell:/Users/rudra/Library/CloudStorage/OneDrive-Personal/Documents/Analytical_Finance_ML/inflation_trading/inflation_factor.ipynb#Y421sZmlsZQ%3D%3D?line=0'>1</a>\u001b[0m results\u001b[39m.\u001b[39;49mdrop(\u001b[39m\"\u001b[39;49m\u001b[39mdate\u001b[39;49m\u001b[39m\"\u001b[39;49m, axis\u001b[39m=\u001b[39;49m\u001b[39m1\u001b[39;49m, inplace\u001b[39m=\u001b[39;49m\u001b[39mTrue\u001b[39;49;00m)\n",
      "\n",
      "File \u001b[0;32m/opt/anaconda3/lib/python3.9/site-packages/pandas/util/_decorators.py:331\u001b[0m, in \u001b[0;36mdeprecate_nonkeyword_arguments.<locals>.decorate.<locals>.wrapper\u001b[0;34m(*args, **kwargs)\u001b[0m\n",
      "\u001b[1;32m    325\u001b[0m \u001b[39mif\u001b[39;00m \u001b[39mlen\u001b[39m(args) \u001b[39m>\u001b[39m num_allow_args:\n",
      "\u001b[1;32m    326\u001b[0m     warnings\u001b[39m.\u001b[39mwarn(\n",
      "\u001b[1;32m    327\u001b[0m         msg\u001b[39m.\u001b[39mformat(arguments\u001b[39m=\u001b[39m_format_argument_list(allow_args)),\n",
      "\u001b[1;32m    328\u001b[0m         \u001b[39mFutureWarning\u001b[39;00m,\n",
      "\u001b[1;32m    329\u001b[0m         stacklevel\u001b[39m=\u001b[39mfind_stack_level(),\n",
      "\u001b[1;32m    330\u001b[0m     )\n",
      "\u001b[0;32m--> 331\u001b[0m \u001b[39mreturn\u001b[39;00m func(\u001b[39m*\u001b[39;49margs, \u001b[39m*\u001b[39;49m\u001b[39m*\u001b[39;49mkwargs)\n",
      "\n",
      "File \u001b[0;32m/opt/anaconda3/lib/python3.9/site-packages/pandas/core/frame.py:5399\u001b[0m, in \u001b[0;36mDataFrame.drop\u001b[0;34m(self, labels, axis, index, columns, level, inplace, errors)\u001b[0m\n",
      "\u001b[1;32m   5251\u001b[0m \u001b[39m@deprecate_nonkeyword_arguments\u001b[39m(version\u001b[39m=\u001b[39m\u001b[39mNone\u001b[39;00m, allowed_args\u001b[39m=\u001b[39m[\u001b[39m\"\u001b[39m\u001b[39mself\u001b[39m\u001b[39m\"\u001b[39m, \u001b[39m\"\u001b[39m\u001b[39mlabels\u001b[39m\u001b[39m\"\u001b[39m])\n",
      "\u001b[1;32m   5252\u001b[0m \u001b[39mdef\u001b[39;00m \u001b[39mdrop\u001b[39m(  \u001b[39m# type: ignore[override]\u001b[39;00m\n",
      "\u001b[1;32m   5253\u001b[0m     \u001b[39mself\u001b[39m,\n",
      "\u001b[0;32m   (...)\u001b[0m\n",
      "\u001b[1;32m   5260\u001b[0m     errors: IgnoreRaise \u001b[39m=\u001b[39m \u001b[39m\"\u001b[39m\u001b[39mraise\u001b[39m\u001b[39m\"\u001b[39m,\n",
      "\u001b[1;32m   5261\u001b[0m ) \u001b[39m-\u001b[39m\u001b[39m>\u001b[39m DataFrame \u001b[39m|\u001b[39m \u001b[39mNone\u001b[39;00m:\n",
      "\u001b[1;32m   5262\u001b[0m     \u001b[39m\"\"\"\u001b[39;00m\n",
      "\u001b[1;32m   5263\u001b[0m \u001b[39m    Drop specified labels from rows or columns.\u001b[39;00m\n",
      "\u001b[1;32m   5264\u001b[0m \n",
      "\u001b[0;32m   (...)\u001b[0m\n",
      "\u001b[1;32m   5397\u001b[0m \u001b[39m            weight  1.0     0.8\u001b[39;00m\n",
      "\u001b[1;32m   5398\u001b[0m \u001b[39m    \"\"\"\u001b[39;00m\n",
      "\u001b[0;32m-> 5399\u001b[0m     \u001b[39mreturn\u001b[39;00m \u001b[39msuper\u001b[39;49m()\u001b[39m.\u001b[39;49mdrop(\n",
      "\u001b[1;32m   5400\u001b[0m         labels\u001b[39m=\u001b[39;49mlabels,\n",
      "\u001b[1;32m   5401\u001b[0m         axis\u001b[39m=\u001b[39;49maxis,\n",
      "\u001b[1;32m   5402\u001b[0m         index\u001b[39m=\u001b[39;49mindex,\n",
      "\u001b[1;32m   5403\u001b[0m         columns\u001b[39m=\u001b[39;49mcolumns,\n",
      "\u001b[1;32m   5404\u001b[0m         level\u001b[39m=\u001b[39;49mlevel,\n",
      "\u001b[1;32m   5405\u001b[0m         inplace\u001b[39m=\u001b[39;49minplace,\n",
      "\u001b[1;32m   5406\u001b[0m         errors\u001b[39m=\u001b[39;49merrors,\n",
      "\u001b[1;32m   5407\u001b[0m     )\n",
      "\n",
      "File \u001b[0;32m/opt/anaconda3/lib/python3.9/site-packages/pandas/util/_decorators.py:331\u001b[0m, in \u001b[0;36mdeprecate_nonkeyword_arguments.<locals>.decorate.<locals>.wrapper\u001b[0;34m(*args, **kwargs)\u001b[0m\n",
      "\u001b[1;32m    325\u001b[0m \u001b[39mif\u001b[39;00m \u001b[39mlen\u001b[39m(args) \u001b[39m>\u001b[39m num_allow_args:\n",
      "\u001b[1;32m    326\u001b[0m     warnings\u001b[39m.\u001b[39mwarn(\n",
      "\u001b[1;32m    327\u001b[0m         msg\u001b[39m.\u001b[39mformat(arguments\u001b[39m=\u001b[39m_format_argument_list(allow_args)),\n",
      "\u001b[1;32m    328\u001b[0m         \u001b[39mFutureWarning\u001b[39;00m,\n",
      "\u001b[1;32m    329\u001b[0m         stacklevel\u001b[39m=\u001b[39mfind_stack_level(),\n",
      "\u001b[1;32m    330\u001b[0m     )\n",
      "\u001b[0;32m--> 331\u001b[0m \u001b[39mreturn\u001b[39;00m func(\u001b[39m*\u001b[39;49margs, \u001b[39m*\u001b[39;49m\u001b[39m*\u001b[39;49mkwargs)\n",
      "\n",
      "File \u001b[0;32m/opt/anaconda3/lib/python3.9/site-packages/pandas/core/generic.py:4505\u001b[0m, in \u001b[0;36mNDFrame.drop\u001b[0;34m(self, labels, axis, index, columns, level, inplace, errors)\u001b[0m\n",
      "\u001b[1;32m   4503\u001b[0m \u001b[39mfor\u001b[39;00m axis, labels \u001b[39min\u001b[39;00m axes\u001b[39m.\u001b[39mitems():\n",
      "\u001b[1;32m   4504\u001b[0m     \u001b[39mif\u001b[39;00m labels \u001b[39mis\u001b[39;00m \u001b[39mnot\u001b[39;00m \u001b[39mNone\u001b[39;00m:\n",
      "\u001b[0;32m-> 4505\u001b[0m         obj \u001b[39m=\u001b[39m obj\u001b[39m.\u001b[39;49m_drop_axis(labels, axis, level\u001b[39m=\u001b[39;49mlevel, errors\u001b[39m=\u001b[39;49merrors)\n",
      "\u001b[1;32m   4507\u001b[0m \u001b[39mif\u001b[39;00m inplace:\n",
      "\u001b[1;32m   4508\u001b[0m     \u001b[39mself\u001b[39m\u001b[39m.\u001b[39m_update_inplace(obj)\n",
      "\n",
      "File \u001b[0;32m/opt/anaconda3/lib/python3.9/site-packages/pandas/core/generic.py:4546\u001b[0m, in \u001b[0;36mNDFrame._drop_axis\u001b[0;34m(self, labels, axis, level, errors, only_slice)\u001b[0m\n",
      "\u001b[1;32m   4544\u001b[0m         new_axis \u001b[39m=\u001b[39m axis\u001b[39m.\u001b[39mdrop(labels, level\u001b[39m=\u001b[39mlevel, errors\u001b[39m=\u001b[39merrors)\n",
      "\u001b[1;32m   4545\u001b[0m     \u001b[39melse\u001b[39;00m:\n",
      "\u001b[0;32m-> 4546\u001b[0m         new_axis \u001b[39m=\u001b[39m axis\u001b[39m.\u001b[39;49mdrop(labels, errors\u001b[39m=\u001b[39;49merrors)\n",
      "\u001b[1;32m   4547\u001b[0m     indexer \u001b[39m=\u001b[39m axis\u001b[39m.\u001b[39mget_indexer(new_axis)\n",
      "\u001b[1;32m   4549\u001b[0m \u001b[39m# Case for non-unique axis\u001b[39;00m\n",
      "\u001b[1;32m   4550\u001b[0m \u001b[39melse\u001b[39;00m:\n",
      "\n",
      "File \u001b[0;32m/opt/anaconda3/lib/python3.9/site-packages/pandas/core/indexes/base.py:6934\u001b[0m, in \u001b[0;36mIndex.drop\u001b[0;34m(self, labels, errors)\u001b[0m\n",
      "\u001b[1;32m   6932\u001b[0m \u001b[39mif\u001b[39;00m mask\u001b[39m.\u001b[39many():\n",
      "\u001b[1;32m   6933\u001b[0m     \u001b[39mif\u001b[39;00m errors \u001b[39m!=\u001b[39m \u001b[39m\"\u001b[39m\u001b[39mignore\u001b[39m\u001b[39m\"\u001b[39m:\n",
      "\u001b[0;32m-> 6934\u001b[0m         \u001b[39mraise\u001b[39;00m \u001b[39mKeyError\u001b[39;00m(\u001b[39mf\u001b[39m\u001b[39m\"\u001b[39m\u001b[39m{\u001b[39;00m\u001b[39mlist\u001b[39m(labels[mask])\u001b[39m}\u001b[39;00m\u001b[39m not found in axis\u001b[39m\u001b[39m\"\u001b[39m)\n",
      "\u001b[1;32m   6935\u001b[0m     indexer \u001b[39m=\u001b[39m indexer[\u001b[39m~\u001b[39mmask]\n",
      "\u001b[1;32m   6936\u001b[0m \u001b[39mreturn\u001b[39;00m \u001b[39mself\u001b[39m\u001b[39m.\u001b[39mdelete(indexer)\n",
      "\n",
      "\u001b[0;31mKeyError\u001b[0m: \"['date'] not found in axis\""
     ]
    }
   ],
   "source": [
    "results.drop(\"date\", axis=1, inplace=True)"
   ]
  },
  {
   "cell_type": "code",
   "execution_count": null,
   "metadata": {},
   "outputs": [],
   "source": [
    "results = results[[\"t_stat\", \"sharpe\", \"mean\", \"std\"]]"
   ]
  },
  {
   "cell_type": "code",
   "execution_count": null,
   "metadata": {},
   "outputs": [
    {
     "data": {
      "application/vnd.plotly.v1+json": {
       "config": {
        "plotlyServerURL": "https://plot.ly"
       },
       "data": [
        {
         "mode": "lines+markers",
         "name": "Mean",
         "type": "scatter",
         "x": [
          1,
          1.25,
          1.5,
          1.75,
          2,
          2.25,
          2.5,
          2.75,
          3,
          3.25,
          3.5,
          3.75,
          4,
          4.25,
          4.5,
          4.75,
          5
         ],
         "y": [
          -0.5417033602771782,
          -0.5450832883292038,
          -0.44904057725993407,
          -0.6803646045123851,
          -0.29786827110726566,
          -0.08408989751411121,
          -0.022394416583641368,
          0.014695804521038042,
          0.984146694709448,
          0.8895857776794586,
          1.3083593970967686,
          1.2328081895477336,
          1.4541119777771934,
          1.833442369469197,
          -3.6044996008934684,
          -1.8205582949681303,
          -4.418358867531556
         ]
        },
        {
         "mode": "lines+markers",
         "name": "Std",
         "type": "scatter",
         "x": [
          1,
          1.25,
          1.5,
          1.75,
          2,
          2.25,
          2.5,
          2.75,
          3,
          3.25,
          3.5,
          3.75,
          4,
          4.25,
          4.5,
          4.75,
          5
         ],
         "y": [
          4.136964759694344,
          4.892784744535304,
          5.785440122852997,
          6.61746517644933,
          8.033366479780677,
          9.445889528219315,
          11.128875767697373,
          14.325817743134502,
          19.1557749839556,
          17.18655549623571,
          21.581316405006625,
          23.110040701689037,
          26.49126531597928,
          27.284289065522422,
          25.143226124661048,
          21.39247131129116,
          24.159040896309925
         ]
        }
       ],
       "layout": {
        "template": {
         "data": {
          "bar": [
           {
            "error_x": {
             "color": "#2a3f5f"
            },
            "error_y": {
             "color": "#2a3f5f"
            },
            "marker": {
             "line": {
              "color": "#E5ECF6",
              "width": 0.5
             },
             "pattern": {
              "fillmode": "overlay",
              "size": 10,
              "solidity": 0.2
             }
            },
            "type": "bar"
           }
          ],
          "barpolar": [
           {
            "marker": {
             "line": {
              "color": "#E5ECF6",
              "width": 0.5
             },
             "pattern": {
              "fillmode": "overlay",
              "size": 10,
              "solidity": 0.2
             }
            },
            "type": "barpolar"
           }
          ],
          "carpet": [
           {
            "aaxis": {
             "endlinecolor": "#2a3f5f",
             "gridcolor": "white",
             "linecolor": "white",
             "minorgridcolor": "white",
             "startlinecolor": "#2a3f5f"
            },
            "baxis": {
             "endlinecolor": "#2a3f5f",
             "gridcolor": "white",
             "linecolor": "white",
             "minorgridcolor": "white",
             "startlinecolor": "#2a3f5f"
            },
            "type": "carpet"
           }
          ],
          "choropleth": [
           {
            "colorbar": {
             "outlinewidth": 0,
             "ticks": ""
            },
            "type": "choropleth"
           }
          ],
          "contour": [
           {
            "colorbar": {
             "outlinewidth": 0,
             "ticks": ""
            },
            "colorscale": [
             [
              0,
              "#0d0887"
             ],
             [
              0.1111111111111111,
              "#46039f"
             ],
             [
              0.2222222222222222,
              "#7201a8"
             ],
             [
              0.3333333333333333,
              "#9c179e"
             ],
             [
              0.4444444444444444,
              "#bd3786"
             ],
             [
              0.5555555555555556,
              "#d8576b"
             ],
             [
              0.6666666666666666,
              "#ed7953"
             ],
             [
              0.7777777777777778,
              "#fb9f3a"
             ],
             [
              0.8888888888888888,
              "#fdca26"
             ],
             [
              1,
              "#f0f921"
             ]
            ],
            "type": "contour"
           }
          ],
          "contourcarpet": [
           {
            "colorbar": {
             "outlinewidth": 0,
             "ticks": ""
            },
            "type": "contourcarpet"
           }
          ],
          "heatmap": [
           {
            "colorbar": {
             "outlinewidth": 0,
             "ticks": ""
            },
            "colorscale": [
             [
              0,
              "#0d0887"
             ],
             [
              0.1111111111111111,
              "#46039f"
             ],
             [
              0.2222222222222222,
              "#7201a8"
             ],
             [
              0.3333333333333333,
              "#9c179e"
             ],
             [
              0.4444444444444444,
              "#bd3786"
             ],
             [
              0.5555555555555556,
              "#d8576b"
             ],
             [
              0.6666666666666666,
              "#ed7953"
             ],
             [
              0.7777777777777778,
              "#fb9f3a"
             ],
             [
              0.8888888888888888,
              "#fdca26"
             ],
             [
              1,
              "#f0f921"
             ]
            ],
            "type": "heatmap"
           }
          ],
          "heatmapgl": [
           {
            "colorbar": {
             "outlinewidth": 0,
             "ticks": ""
            },
            "colorscale": [
             [
              0,
              "#0d0887"
             ],
             [
              0.1111111111111111,
              "#46039f"
             ],
             [
              0.2222222222222222,
              "#7201a8"
             ],
             [
              0.3333333333333333,
              "#9c179e"
             ],
             [
              0.4444444444444444,
              "#bd3786"
             ],
             [
              0.5555555555555556,
              "#d8576b"
             ],
             [
              0.6666666666666666,
              "#ed7953"
             ],
             [
              0.7777777777777778,
              "#fb9f3a"
             ],
             [
              0.8888888888888888,
              "#fdca26"
             ],
             [
              1,
              "#f0f921"
             ]
            ],
            "type": "heatmapgl"
           }
          ],
          "histogram": [
           {
            "marker": {
             "pattern": {
              "fillmode": "overlay",
              "size": 10,
              "solidity": 0.2
             }
            },
            "type": "histogram"
           }
          ],
          "histogram2d": [
           {
            "colorbar": {
             "outlinewidth": 0,
             "ticks": ""
            },
            "colorscale": [
             [
              0,
              "#0d0887"
             ],
             [
              0.1111111111111111,
              "#46039f"
             ],
             [
              0.2222222222222222,
              "#7201a8"
             ],
             [
              0.3333333333333333,
              "#9c179e"
             ],
             [
              0.4444444444444444,
              "#bd3786"
             ],
             [
              0.5555555555555556,
              "#d8576b"
             ],
             [
              0.6666666666666666,
              "#ed7953"
             ],
             [
              0.7777777777777778,
              "#fb9f3a"
             ],
             [
              0.8888888888888888,
              "#fdca26"
             ],
             [
              1,
              "#f0f921"
             ]
            ],
            "type": "histogram2d"
           }
          ],
          "histogram2dcontour": [
           {
            "colorbar": {
             "outlinewidth": 0,
             "ticks": ""
            },
            "colorscale": [
             [
              0,
              "#0d0887"
             ],
             [
              0.1111111111111111,
              "#46039f"
             ],
             [
              0.2222222222222222,
              "#7201a8"
             ],
             [
              0.3333333333333333,
              "#9c179e"
             ],
             [
              0.4444444444444444,
              "#bd3786"
             ],
             [
              0.5555555555555556,
              "#d8576b"
             ],
             [
              0.6666666666666666,
              "#ed7953"
             ],
             [
              0.7777777777777778,
              "#fb9f3a"
             ],
             [
              0.8888888888888888,
              "#fdca26"
             ],
             [
              1,
              "#f0f921"
             ]
            ],
            "type": "histogram2dcontour"
           }
          ],
          "mesh3d": [
           {
            "colorbar": {
             "outlinewidth": 0,
             "ticks": ""
            },
            "type": "mesh3d"
           }
          ],
          "parcoords": [
           {
            "line": {
             "colorbar": {
              "outlinewidth": 0,
              "ticks": ""
             }
            },
            "type": "parcoords"
           }
          ],
          "pie": [
           {
            "automargin": true,
            "type": "pie"
           }
          ],
          "scatter": [
           {
            "marker": {
             "colorbar": {
              "outlinewidth": 0,
              "ticks": ""
             }
            },
            "type": "scatter"
           }
          ],
          "scatter3d": [
           {
            "line": {
             "colorbar": {
              "outlinewidth": 0,
              "ticks": ""
             }
            },
            "marker": {
             "colorbar": {
              "outlinewidth": 0,
              "ticks": ""
             }
            },
            "type": "scatter3d"
           }
          ],
          "scattercarpet": [
           {
            "marker": {
             "colorbar": {
              "outlinewidth": 0,
              "ticks": ""
             }
            },
            "type": "scattercarpet"
           }
          ],
          "scattergeo": [
           {
            "marker": {
             "colorbar": {
              "outlinewidth": 0,
              "ticks": ""
             }
            },
            "type": "scattergeo"
           }
          ],
          "scattergl": [
           {
            "marker": {
             "colorbar": {
              "outlinewidth": 0,
              "ticks": ""
             }
            },
            "type": "scattergl"
           }
          ],
          "scattermapbox": [
           {
            "marker": {
             "colorbar": {
              "outlinewidth": 0,
              "ticks": ""
             }
            },
            "type": "scattermapbox"
           }
          ],
          "scatterpolar": [
           {
            "marker": {
             "colorbar": {
              "outlinewidth": 0,
              "ticks": ""
             }
            },
            "type": "scatterpolar"
           }
          ],
          "scatterpolargl": [
           {
            "marker": {
             "colorbar": {
              "outlinewidth": 0,
              "ticks": ""
             }
            },
            "type": "scatterpolargl"
           }
          ],
          "scatterternary": [
           {
            "marker": {
             "colorbar": {
              "outlinewidth": 0,
              "ticks": ""
             }
            },
            "type": "scatterternary"
           }
          ],
          "surface": [
           {
            "colorbar": {
             "outlinewidth": 0,
             "ticks": ""
            },
            "colorscale": [
             [
              0,
              "#0d0887"
             ],
             [
              0.1111111111111111,
              "#46039f"
             ],
             [
              0.2222222222222222,
              "#7201a8"
             ],
             [
              0.3333333333333333,
              "#9c179e"
             ],
             [
              0.4444444444444444,
              "#bd3786"
             ],
             [
              0.5555555555555556,
              "#d8576b"
             ],
             [
              0.6666666666666666,
              "#ed7953"
             ],
             [
              0.7777777777777778,
              "#fb9f3a"
             ],
             [
              0.8888888888888888,
              "#fdca26"
             ],
             [
              1,
              "#f0f921"
             ]
            ],
            "type": "surface"
           }
          ],
          "table": [
           {
            "cells": {
             "fill": {
              "color": "#EBF0F8"
             },
             "line": {
              "color": "white"
             }
            },
            "header": {
             "fill": {
              "color": "#C8D4E3"
             },
             "line": {
              "color": "white"
             }
            },
            "type": "table"
           }
          ]
         },
         "layout": {
          "annotationdefaults": {
           "arrowcolor": "#2a3f5f",
           "arrowhead": 0,
           "arrowwidth": 1
          },
          "autotypenumbers": "strict",
          "coloraxis": {
           "colorbar": {
            "outlinewidth": 0,
            "ticks": ""
           }
          },
          "colorscale": {
           "diverging": [
            [
             0,
             "#8e0152"
            ],
            [
             0.1,
             "#c51b7d"
            ],
            [
             0.2,
             "#de77ae"
            ],
            [
             0.3,
             "#f1b6da"
            ],
            [
             0.4,
             "#fde0ef"
            ],
            [
             0.5,
             "#f7f7f7"
            ],
            [
             0.6,
             "#e6f5d0"
            ],
            [
             0.7,
             "#b8e186"
            ],
            [
             0.8,
             "#7fbc41"
            ],
            [
             0.9,
             "#4d9221"
            ],
            [
             1,
             "#276419"
            ]
           ],
           "sequential": [
            [
             0,
             "#0d0887"
            ],
            [
             0.1111111111111111,
             "#46039f"
            ],
            [
             0.2222222222222222,
             "#7201a8"
            ],
            [
             0.3333333333333333,
             "#9c179e"
            ],
            [
             0.4444444444444444,
             "#bd3786"
            ],
            [
             0.5555555555555556,
             "#d8576b"
            ],
            [
             0.6666666666666666,
             "#ed7953"
            ],
            [
             0.7777777777777778,
             "#fb9f3a"
            ],
            [
             0.8888888888888888,
             "#fdca26"
            ],
            [
             1,
             "#f0f921"
            ]
           ],
           "sequentialminus": [
            [
             0,
             "#0d0887"
            ],
            [
             0.1111111111111111,
             "#46039f"
            ],
            [
             0.2222222222222222,
             "#7201a8"
            ],
            [
             0.3333333333333333,
             "#9c179e"
            ],
            [
             0.4444444444444444,
             "#bd3786"
            ],
            [
             0.5555555555555556,
             "#d8576b"
            ],
            [
             0.6666666666666666,
             "#ed7953"
            ],
            [
             0.7777777777777778,
             "#fb9f3a"
            ],
            [
             0.8888888888888888,
             "#fdca26"
            ],
            [
             1,
             "#f0f921"
            ]
           ]
          },
          "colorway": [
           "#636efa",
           "#EF553B",
           "#00cc96",
           "#ab63fa",
           "#FFA15A",
           "#19d3f3",
           "#FF6692",
           "#B6E880",
           "#FF97FF",
           "#FECB52"
          ],
          "font": {
           "color": "#2a3f5f"
          },
          "geo": {
           "bgcolor": "white",
           "lakecolor": "white",
           "landcolor": "#E5ECF6",
           "showlakes": true,
           "showland": true,
           "subunitcolor": "white"
          },
          "hoverlabel": {
           "align": "left"
          },
          "hovermode": "closest",
          "mapbox": {
           "style": "light"
          },
          "paper_bgcolor": "white",
          "plot_bgcolor": "#E5ECF6",
          "polar": {
           "angularaxis": {
            "gridcolor": "white",
            "linecolor": "white",
            "ticks": ""
           },
           "bgcolor": "#E5ECF6",
           "radialaxis": {
            "gridcolor": "white",
            "linecolor": "white",
            "ticks": ""
           }
          },
          "scene": {
           "xaxis": {
            "backgroundcolor": "#E5ECF6",
            "gridcolor": "white",
            "gridwidth": 2,
            "linecolor": "white",
            "showbackground": true,
            "ticks": "",
            "zerolinecolor": "white"
           },
           "yaxis": {
            "backgroundcolor": "#E5ECF6",
            "gridcolor": "white",
            "gridwidth": 2,
            "linecolor": "white",
            "showbackground": true,
            "ticks": "",
            "zerolinecolor": "white"
           },
           "zaxis": {
            "backgroundcolor": "#E5ECF6",
            "gridcolor": "white",
            "gridwidth": 2,
            "linecolor": "white",
            "showbackground": true,
            "ticks": "",
            "zerolinecolor": "white"
           }
          },
          "shapedefaults": {
           "line": {
            "color": "#2a3f5f"
           }
          },
          "ternary": {
           "aaxis": {
            "gridcolor": "white",
            "linecolor": "white",
            "ticks": ""
           },
           "baxis": {
            "gridcolor": "white",
            "linecolor": "white",
            "ticks": ""
           },
           "bgcolor": "#E5ECF6",
           "caxis": {
            "gridcolor": "white",
            "linecolor": "white",
            "ticks": ""
           }
          },
          "title": {
           "x": 0.05
          },
          "xaxis": {
           "automargin": true,
           "gridcolor": "white",
           "linecolor": "white",
           "ticks": "",
           "title": {
            "standoff": 15
           },
           "zerolinecolor": "white",
           "zerolinewidth": 2
          },
          "yaxis": {
           "automargin": true,
           "gridcolor": "white",
           "linecolor": "white",
           "ticks": "",
           "title": {
            "standoff": 15
           },
           "zerolinecolor": "white",
           "zerolinewidth": 2
          }
         }
        },
        "title": {
         "text": "Results"
        },
        "xaxis": {
         "title": {
          "text": "t-stat"
         }
        },
        "yaxis": {
         "title": {
          "text": "Value"
         }
        }
       }
      }
     },
     "metadata": {},
     "output_type": "display_data"
    }
   ],
   "source": [
    "# plot the results, sharpe, mean, std\n",
    "fig = go.Figure()\n",
    "#fig.add_trace(go.Scatter(x=results[\"t_stat\"], y=results[\"sharpe\"], mode=\"lines+markers\", name=\"Sharpe Ratio\"))\n",
    "fig.add_trace(go.Scatter(x=results[\"t_stat\"], y=results[\"mean\"], mode=\"lines+markers\", name=\"Mean\"))\n",
    "fig.add_trace(go.Scatter(x=results[\"t_stat\"], y=results[\"std\"], mode=\"lines+markers\", name=\"Std\"))\n",
    "\n",
    "fig.update_layout(title=\"Results\", xaxis_title=\"t-stat\", yaxis_title=\"Value\")\n",
    "\n",
    "fig.show()\n"
   ]
  },
  {
   "cell_type": "code",
   "execution_count": null,
   "metadata": {},
   "outputs": [
    {
     "data": {
      "application/vnd.plotly.v1+json": {
       "config": {
        "plotlyServerURL": "https://plot.ly"
       },
       "data": [
        {
         "mode": "lines+markers",
         "name": "Sharpe Ratio",
         "type": "scatter",
         "x": [
          1,
          1.25,
          1.5,
          1.75,
          2,
          2.25,
          2.5,
          2.75,
          3,
          3.25,
          3.5,
          3.75,
          4,
          4.25,
          4.5,
          4.75,
          5
         ],
         "y": [
          -0.13094222255768057,
          -0.11140553218450927,
          -0.07761562953286551,
          -0.10281347712016851,
          -0.03707888490547215,
          -0.0089022740804765,
          -0.002012280220491211,
          0.0010258265730122703,
          0.05137597907334707,
          0.05176056236948121,
          0.060624633481266406,
          0.05334513276982813,
          0.05489024251703398,
          0.06719773291751303,
          -0.1433586757332661,
          -0.08510275734282376,
          -0.18288635242164852
         ]
        }
       ],
       "layout": {
        "template": {
         "data": {
          "bar": [
           {
            "error_x": {
             "color": "#2a3f5f"
            },
            "error_y": {
             "color": "#2a3f5f"
            },
            "marker": {
             "line": {
              "color": "#E5ECF6",
              "width": 0.5
             },
             "pattern": {
              "fillmode": "overlay",
              "size": 10,
              "solidity": 0.2
             }
            },
            "type": "bar"
           }
          ],
          "barpolar": [
           {
            "marker": {
             "line": {
              "color": "#E5ECF6",
              "width": 0.5
             },
             "pattern": {
              "fillmode": "overlay",
              "size": 10,
              "solidity": 0.2
             }
            },
            "type": "barpolar"
           }
          ],
          "carpet": [
           {
            "aaxis": {
             "endlinecolor": "#2a3f5f",
             "gridcolor": "white",
             "linecolor": "white",
             "minorgridcolor": "white",
             "startlinecolor": "#2a3f5f"
            },
            "baxis": {
             "endlinecolor": "#2a3f5f",
             "gridcolor": "white",
             "linecolor": "white",
             "minorgridcolor": "white",
             "startlinecolor": "#2a3f5f"
            },
            "type": "carpet"
           }
          ],
          "choropleth": [
           {
            "colorbar": {
             "outlinewidth": 0,
             "ticks": ""
            },
            "type": "choropleth"
           }
          ],
          "contour": [
           {
            "colorbar": {
             "outlinewidth": 0,
             "ticks": ""
            },
            "colorscale": [
             [
              0,
              "#0d0887"
             ],
             [
              0.1111111111111111,
              "#46039f"
             ],
             [
              0.2222222222222222,
              "#7201a8"
             ],
             [
              0.3333333333333333,
              "#9c179e"
             ],
             [
              0.4444444444444444,
              "#bd3786"
             ],
             [
              0.5555555555555556,
              "#d8576b"
             ],
             [
              0.6666666666666666,
              "#ed7953"
             ],
             [
              0.7777777777777778,
              "#fb9f3a"
             ],
             [
              0.8888888888888888,
              "#fdca26"
             ],
             [
              1,
              "#f0f921"
             ]
            ],
            "type": "contour"
           }
          ],
          "contourcarpet": [
           {
            "colorbar": {
             "outlinewidth": 0,
             "ticks": ""
            },
            "type": "contourcarpet"
           }
          ],
          "heatmap": [
           {
            "colorbar": {
             "outlinewidth": 0,
             "ticks": ""
            },
            "colorscale": [
             [
              0,
              "#0d0887"
             ],
             [
              0.1111111111111111,
              "#46039f"
             ],
             [
              0.2222222222222222,
              "#7201a8"
             ],
             [
              0.3333333333333333,
              "#9c179e"
             ],
             [
              0.4444444444444444,
              "#bd3786"
             ],
             [
              0.5555555555555556,
              "#d8576b"
             ],
             [
              0.6666666666666666,
              "#ed7953"
             ],
             [
              0.7777777777777778,
              "#fb9f3a"
             ],
             [
              0.8888888888888888,
              "#fdca26"
             ],
             [
              1,
              "#f0f921"
             ]
            ],
            "type": "heatmap"
           }
          ],
          "heatmapgl": [
           {
            "colorbar": {
             "outlinewidth": 0,
             "ticks": ""
            },
            "colorscale": [
             [
              0,
              "#0d0887"
             ],
             [
              0.1111111111111111,
              "#46039f"
             ],
             [
              0.2222222222222222,
              "#7201a8"
             ],
             [
              0.3333333333333333,
              "#9c179e"
             ],
             [
              0.4444444444444444,
              "#bd3786"
             ],
             [
              0.5555555555555556,
              "#d8576b"
             ],
             [
              0.6666666666666666,
              "#ed7953"
             ],
             [
              0.7777777777777778,
              "#fb9f3a"
             ],
             [
              0.8888888888888888,
              "#fdca26"
             ],
             [
              1,
              "#f0f921"
             ]
            ],
            "type": "heatmapgl"
           }
          ],
          "histogram": [
           {
            "marker": {
             "pattern": {
              "fillmode": "overlay",
              "size": 10,
              "solidity": 0.2
             }
            },
            "type": "histogram"
           }
          ],
          "histogram2d": [
           {
            "colorbar": {
             "outlinewidth": 0,
             "ticks": ""
            },
            "colorscale": [
             [
              0,
              "#0d0887"
             ],
             [
              0.1111111111111111,
              "#46039f"
             ],
             [
              0.2222222222222222,
              "#7201a8"
             ],
             [
              0.3333333333333333,
              "#9c179e"
             ],
             [
              0.4444444444444444,
              "#bd3786"
             ],
             [
              0.5555555555555556,
              "#d8576b"
             ],
             [
              0.6666666666666666,
              "#ed7953"
             ],
             [
              0.7777777777777778,
              "#fb9f3a"
             ],
             [
              0.8888888888888888,
              "#fdca26"
             ],
             [
              1,
              "#f0f921"
             ]
            ],
            "type": "histogram2d"
           }
          ],
          "histogram2dcontour": [
           {
            "colorbar": {
             "outlinewidth": 0,
             "ticks": ""
            },
            "colorscale": [
             [
              0,
              "#0d0887"
             ],
             [
              0.1111111111111111,
              "#46039f"
             ],
             [
              0.2222222222222222,
              "#7201a8"
             ],
             [
              0.3333333333333333,
              "#9c179e"
             ],
             [
              0.4444444444444444,
              "#bd3786"
             ],
             [
              0.5555555555555556,
              "#d8576b"
             ],
             [
              0.6666666666666666,
              "#ed7953"
             ],
             [
              0.7777777777777778,
              "#fb9f3a"
             ],
             [
              0.8888888888888888,
              "#fdca26"
             ],
             [
              1,
              "#f0f921"
             ]
            ],
            "type": "histogram2dcontour"
           }
          ],
          "mesh3d": [
           {
            "colorbar": {
             "outlinewidth": 0,
             "ticks": ""
            },
            "type": "mesh3d"
           }
          ],
          "parcoords": [
           {
            "line": {
             "colorbar": {
              "outlinewidth": 0,
              "ticks": ""
             }
            },
            "type": "parcoords"
           }
          ],
          "pie": [
           {
            "automargin": true,
            "type": "pie"
           }
          ],
          "scatter": [
           {
            "marker": {
             "colorbar": {
              "outlinewidth": 0,
              "ticks": ""
             }
            },
            "type": "scatter"
           }
          ],
          "scatter3d": [
           {
            "line": {
             "colorbar": {
              "outlinewidth": 0,
              "ticks": ""
             }
            },
            "marker": {
             "colorbar": {
              "outlinewidth": 0,
              "ticks": ""
             }
            },
            "type": "scatter3d"
           }
          ],
          "scattercarpet": [
           {
            "marker": {
             "colorbar": {
              "outlinewidth": 0,
              "ticks": ""
             }
            },
            "type": "scattercarpet"
           }
          ],
          "scattergeo": [
           {
            "marker": {
             "colorbar": {
              "outlinewidth": 0,
              "ticks": ""
             }
            },
            "type": "scattergeo"
           }
          ],
          "scattergl": [
           {
            "marker": {
             "colorbar": {
              "outlinewidth": 0,
              "ticks": ""
             }
            },
            "type": "scattergl"
           }
          ],
          "scattermapbox": [
           {
            "marker": {
             "colorbar": {
              "outlinewidth": 0,
              "ticks": ""
             }
            },
            "type": "scattermapbox"
           }
          ],
          "scatterpolar": [
           {
            "marker": {
             "colorbar": {
              "outlinewidth": 0,
              "ticks": ""
             }
            },
            "type": "scatterpolar"
           }
          ],
          "scatterpolargl": [
           {
            "marker": {
             "colorbar": {
              "outlinewidth": 0,
              "ticks": ""
             }
            },
            "type": "scatterpolargl"
           }
          ],
          "scatterternary": [
           {
            "marker": {
             "colorbar": {
              "outlinewidth": 0,
              "ticks": ""
             }
            },
            "type": "scatterternary"
           }
          ],
          "surface": [
           {
            "colorbar": {
             "outlinewidth": 0,
             "ticks": ""
            },
            "colorscale": [
             [
              0,
              "#0d0887"
             ],
             [
              0.1111111111111111,
              "#46039f"
             ],
             [
              0.2222222222222222,
              "#7201a8"
             ],
             [
              0.3333333333333333,
              "#9c179e"
             ],
             [
              0.4444444444444444,
              "#bd3786"
             ],
             [
              0.5555555555555556,
              "#d8576b"
             ],
             [
              0.6666666666666666,
              "#ed7953"
             ],
             [
              0.7777777777777778,
              "#fb9f3a"
             ],
             [
              0.8888888888888888,
              "#fdca26"
             ],
             [
              1,
              "#f0f921"
             ]
            ],
            "type": "surface"
           }
          ],
          "table": [
           {
            "cells": {
             "fill": {
              "color": "#EBF0F8"
             },
             "line": {
              "color": "white"
             }
            },
            "header": {
             "fill": {
              "color": "#C8D4E3"
             },
             "line": {
              "color": "white"
             }
            },
            "type": "table"
           }
          ]
         },
         "layout": {
          "annotationdefaults": {
           "arrowcolor": "#2a3f5f",
           "arrowhead": 0,
           "arrowwidth": 1
          },
          "autotypenumbers": "strict",
          "coloraxis": {
           "colorbar": {
            "outlinewidth": 0,
            "ticks": ""
           }
          },
          "colorscale": {
           "diverging": [
            [
             0,
             "#8e0152"
            ],
            [
             0.1,
             "#c51b7d"
            ],
            [
             0.2,
             "#de77ae"
            ],
            [
             0.3,
             "#f1b6da"
            ],
            [
             0.4,
             "#fde0ef"
            ],
            [
             0.5,
             "#f7f7f7"
            ],
            [
             0.6,
             "#e6f5d0"
            ],
            [
             0.7,
             "#b8e186"
            ],
            [
             0.8,
             "#7fbc41"
            ],
            [
             0.9,
             "#4d9221"
            ],
            [
             1,
             "#276419"
            ]
           ],
           "sequential": [
            [
             0,
             "#0d0887"
            ],
            [
             0.1111111111111111,
             "#46039f"
            ],
            [
             0.2222222222222222,
             "#7201a8"
            ],
            [
             0.3333333333333333,
             "#9c179e"
            ],
            [
             0.4444444444444444,
             "#bd3786"
            ],
            [
             0.5555555555555556,
             "#d8576b"
            ],
            [
             0.6666666666666666,
             "#ed7953"
            ],
            [
             0.7777777777777778,
             "#fb9f3a"
            ],
            [
             0.8888888888888888,
             "#fdca26"
            ],
            [
             1,
             "#f0f921"
            ]
           ],
           "sequentialminus": [
            [
             0,
             "#0d0887"
            ],
            [
             0.1111111111111111,
             "#46039f"
            ],
            [
             0.2222222222222222,
             "#7201a8"
            ],
            [
             0.3333333333333333,
             "#9c179e"
            ],
            [
             0.4444444444444444,
             "#bd3786"
            ],
            [
             0.5555555555555556,
             "#d8576b"
            ],
            [
             0.6666666666666666,
             "#ed7953"
            ],
            [
             0.7777777777777778,
             "#fb9f3a"
            ],
            [
             0.8888888888888888,
             "#fdca26"
            ],
            [
             1,
             "#f0f921"
            ]
           ]
          },
          "colorway": [
           "#636efa",
           "#EF553B",
           "#00cc96",
           "#ab63fa",
           "#FFA15A",
           "#19d3f3",
           "#FF6692",
           "#B6E880",
           "#FF97FF",
           "#FECB52"
          ],
          "font": {
           "color": "#2a3f5f"
          },
          "geo": {
           "bgcolor": "white",
           "lakecolor": "white",
           "landcolor": "#E5ECF6",
           "showlakes": true,
           "showland": true,
           "subunitcolor": "white"
          },
          "hoverlabel": {
           "align": "left"
          },
          "hovermode": "closest",
          "mapbox": {
           "style": "light"
          },
          "paper_bgcolor": "white",
          "plot_bgcolor": "#E5ECF6",
          "polar": {
           "angularaxis": {
            "gridcolor": "white",
            "linecolor": "white",
            "ticks": ""
           },
           "bgcolor": "#E5ECF6",
           "radialaxis": {
            "gridcolor": "white",
            "linecolor": "white",
            "ticks": ""
           }
          },
          "scene": {
           "xaxis": {
            "backgroundcolor": "#E5ECF6",
            "gridcolor": "white",
            "gridwidth": 2,
            "linecolor": "white",
            "showbackground": true,
            "ticks": "",
            "zerolinecolor": "white"
           },
           "yaxis": {
            "backgroundcolor": "#E5ECF6",
            "gridcolor": "white",
            "gridwidth": 2,
            "linecolor": "white",
            "showbackground": true,
            "ticks": "",
            "zerolinecolor": "white"
           },
           "zaxis": {
            "backgroundcolor": "#E5ECF6",
            "gridcolor": "white",
            "gridwidth": 2,
            "linecolor": "white",
            "showbackground": true,
            "ticks": "",
            "zerolinecolor": "white"
           }
          },
          "shapedefaults": {
           "line": {
            "color": "#2a3f5f"
           }
          },
          "ternary": {
           "aaxis": {
            "gridcolor": "white",
            "linecolor": "white",
            "ticks": ""
           },
           "baxis": {
            "gridcolor": "white",
            "linecolor": "white",
            "ticks": ""
           },
           "bgcolor": "#E5ECF6",
           "caxis": {
            "gridcolor": "white",
            "linecolor": "white",
            "ticks": ""
           }
          },
          "title": {
           "x": 0.05
          },
          "xaxis": {
           "automargin": true,
           "gridcolor": "white",
           "linecolor": "white",
           "ticks": "",
           "title": {
            "standoff": 15
           },
           "zerolinecolor": "white",
           "zerolinewidth": 2
          },
          "yaxis": {
           "automargin": true,
           "gridcolor": "white",
           "linecolor": "white",
           "ticks": "",
           "title": {
            "standoff": 15
           },
           "zerolinecolor": "white",
           "zerolinewidth": 2
          }
         }
        },
        "title": {
         "text": "Sharpe Ratio"
        },
        "xaxis": {
         "title": {
          "text": "t-stat"
         }
        },
        "yaxis": {
         "title": {
          "text": "Sharpe Ratio"
         }
        }
       }
      }
     },
     "metadata": {},
     "output_type": "display_data"
    }
   ],
   "source": [
    "fig = go.Figure()\n",
    "fig.add_trace(go.Scatter(x=results[\"t_stat\"], y=results[\"sharpe\"], mode=\"lines+markers\", name=\"Sharpe Ratio\"))\n",
    "# add title\n",
    "fig.update_layout(title=\"Sharpe Ratio\", xaxis_title=\"t-stat\", yaxis_title=\"Sharpe Ratio\")\n",
    "fig.show()"
   ]
  },
  {
   "cell_type": "code",
   "execution_count": null,
   "metadata": {},
   "outputs": [
    {
     "data": {
      "text/html": [
       "<div>\n",
       "<style scoped>\n",
       "    .dataframe tbody tr th:only-of-type {\n",
       "        vertical-align: middle;\n",
       "    }\n",
       "\n",
       "    .dataframe tbody tr th {\n",
       "        vertical-align: top;\n",
       "    }\n",
       "\n",
       "    .dataframe thead th {\n",
       "        text-align: right;\n",
       "    }\n",
       "</style>\n",
       "<table border=\"1\" class=\"dataframe\">\n",
       "  <thead>\n",
       "    <tr style=\"text-align: right;\">\n",
       "      <th></th>\n",
       "      <th>t_stat</th>\n",
       "      <th>sharpe</th>\n",
       "      <th>mean</th>\n",
       "      <th>std</th>\n",
       "    </tr>\n",
       "  </thead>\n",
       "  <tbody>\n",
       "    <tr>\n",
       "      <th>0</th>\n",
       "      <td>1.00</td>\n",
       "      <td>-0.131</td>\n",
       "      <td>-0.542</td>\n",
       "      <td>4.137</td>\n",
       "    </tr>\n",
       "    <tr>\n",
       "      <th>1</th>\n",
       "      <td>1.25</td>\n",
       "      <td>-0.111</td>\n",
       "      <td>-0.545</td>\n",
       "      <td>4.893</td>\n",
       "    </tr>\n",
       "    <tr>\n",
       "      <th>2</th>\n",
       "      <td>1.50</td>\n",
       "      <td>-0.078</td>\n",
       "      <td>-0.449</td>\n",
       "      <td>5.785</td>\n",
       "    </tr>\n",
       "    <tr>\n",
       "      <th>3</th>\n",
       "      <td>1.75</td>\n",
       "      <td>-0.103</td>\n",
       "      <td>-0.680</td>\n",
       "      <td>6.617</td>\n",
       "    </tr>\n",
       "    <tr>\n",
       "      <th>4</th>\n",
       "      <td>2.00</td>\n",
       "      <td>-0.037</td>\n",
       "      <td>-0.298</td>\n",
       "      <td>8.033</td>\n",
       "    </tr>\n",
       "    <tr>\n",
       "      <th>5</th>\n",
       "      <td>2.25</td>\n",
       "      <td>-0.009</td>\n",
       "      <td>-0.084</td>\n",
       "      <td>9.446</td>\n",
       "    </tr>\n",
       "    <tr>\n",
       "      <th>6</th>\n",
       "      <td>2.50</td>\n",
       "      <td>-0.002</td>\n",
       "      <td>-0.022</td>\n",
       "      <td>11.129</td>\n",
       "    </tr>\n",
       "    <tr>\n",
       "      <th>7</th>\n",
       "      <td>2.75</td>\n",
       "      <td>0.001</td>\n",
       "      <td>0.015</td>\n",
       "      <td>14.326</td>\n",
       "    </tr>\n",
       "    <tr>\n",
       "      <th>8</th>\n",
       "      <td>3.00</td>\n",
       "      <td>0.051</td>\n",
       "      <td>0.984</td>\n",
       "      <td>19.156</td>\n",
       "    </tr>\n",
       "    <tr>\n",
       "      <th>9</th>\n",
       "      <td>3.25</td>\n",
       "      <td>0.052</td>\n",
       "      <td>0.890</td>\n",
       "      <td>17.187</td>\n",
       "    </tr>\n",
       "    <tr>\n",
       "      <th>10</th>\n",
       "      <td>3.50</td>\n",
       "      <td>0.061</td>\n",
       "      <td>1.308</td>\n",
       "      <td>21.581</td>\n",
       "    </tr>\n",
       "    <tr>\n",
       "      <th>11</th>\n",
       "      <td>3.75</td>\n",
       "      <td>0.053</td>\n",
       "      <td>1.233</td>\n",
       "      <td>23.110</td>\n",
       "    </tr>\n",
       "    <tr>\n",
       "      <th>12</th>\n",
       "      <td>4.00</td>\n",
       "      <td>0.055</td>\n",
       "      <td>1.454</td>\n",
       "      <td>26.491</td>\n",
       "    </tr>\n",
       "    <tr>\n",
       "      <th>13</th>\n",
       "      <td>4.25</td>\n",
       "      <td>0.067</td>\n",
       "      <td>1.833</td>\n",
       "      <td>27.284</td>\n",
       "    </tr>\n",
       "    <tr>\n",
       "      <th>14</th>\n",
       "      <td>4.50</td>\n",
       "      <td>-0.143</td>\n",
       "      <td>-3.604</td>\n",
       "      <td>25.143</td>\n",
       "    </tr>\n",
       "    <tr>\n",
       "      <th>15</th>\n",
       "      <td>4.75</td>\n",
       "      <td>-0.085</td>\n",
       "      <td>-1.821</td>\n",
       "      <td>21.392</td>\n",
       "    </tr>\n",
       "    <tr>\n",
       "      <th>16</th>\n",
       "      <td>5.00</td>\n",
       "      <td>-0.183</td>\n",
       "      <td>-4.418</td>\n",
       "      <td>24.159</td>\n",
       "    </tr>\n",
       "  </tbody>\n",
       "</table>\n",
       "</div>"
      ],
      "text/plain": [
       "    t_stat  sharpe   mean     std\n",
       "0     1.00  -0.131 -0.542   4.137\n",
       "1     1.25  -0.111 -0.545   4.893\n",
       "2     1.50  -0.078 -0.449   5.785\n",
       "3     1.75  -0.103 -0.680   6.617\n",
       "4     2.00  -0.037 -0.298   8.033\n",
       "5     2.25  -0.009 -0.084   9.446\n",
       "6     2.50  -0.002 -0.022  11.129\n",
       "7     2.75   0.001  0.015  14.326\n",
       "8     3.00   0.051  0.984  19.156\n",
       "9     3.25   0.052  0.890  17.187\n",
       "10    3.50   0.061  1.308  21.581\n",
       "11    3.75   0.053  1.233  23.110\n",
       "12    4.00   0.055  1.454  26.491\n",
       "13    4.25   0.067  1.833  27.284\n",
       "14    4.50  -0.143 -3.604  25.143\n",
       "15    4.75  -0.085 -1.821  21.392\n",
       "16    5.00  -0.183 -4.418  24.159"
      ]
     },
     "metadata": {},
     "output_type": "display_data"
    }
   ],
   "source": [
    "round(results[[\"t_stat\", \"sharpe\", \"mean\", \"std\"]], 3)"
   ]
  },
  {
   "cell_type": "code",
   "execution_count": null,
   "metadata": {},
   "outputs": [],
   "source": []
  },
  {
   "cell_type": "code",
   "execution_count": null,
   "metadata": {},
   "outputs": [],
   "source": [
    "sig_stocks = beta_df[(beta_df[\"t-stat\"] > 4) | (beta_df[\"t-stat\"] < -4)]"
   ]
  },
  {
   "cell_type": "code",
   "execution_count": null,
   "metadata": {},
   "outputs": [],
   "source": [
    "# for each month get the count of stocks that are significant groupby date and count\n",
    "sig_stocks_count = sig_stocks.groupby(\"date\").count().reset_index()"
   ]
  },
  {
   "cell_type": "code",
   "execution_count": null,
   "metadata": {},
   "outputs": [
    {
     "data": {
      "application/vnd.plotly.v1+json": {
       "config": {
        "plotlyServerURL": "https://plot.ly"
       },
       "data": [
        {
         "hovertemplate": "date=%{x}<br>gvkey=%{y}<extra></extra>",
         "legendgroup": "",
         "line": {
          "color": "#636efa",
          "dash": "solid"
         },
         "marker": {
          "symbol": "circle"
         },
         "mode": "lines",
         "name": "",
         "orientation": "v",
         "showlegend": false,
         "type": "scatter",
         "x": [
          "2004-11-30T00:00:00",
          "2004-12-31T00:00:00",
          "2005-01-31T00:00:00",
          "2005-02-28T00:00:00",
          "2005-03-31T00:00:00",
          "2005-04-30T00:00:00",
          "2005-05-31T00:00:00",
          "2005-06-30T00:00:00",
          "2005-07-31T00:00:00",
          "2005-08-31T00:00:00",
          "2005-09-30T00:00:00",
          "2005-10-31T00:00:00",
          "2005-11-30T00:00:00",
          "2005-12-31T00:00:00",
          "2006-01-31T00:00:00",
          "2006-02-28T00:00:00",
          "2006-03-31T00:00:00",
          "2006-04-30T00:00:00",
          "2006-05-31T00:00:00",
          "2006-06-30T00:00:00",
          "2006-07-31T00:00:00",
          "2006-08-31T00:00:00",
          "2006-09-30T00:00:00",
          "2006-10-31T00:00:00",
          "2006-11-30T00:00:00",
          "2006-12-31T00:00:00",
          "2007-01-31T00:00:00",
          "2007-02-28T00:00:00",
          "2007-03-31T00:00:00",
          "2007-04-30T00:00:00",
          "2007-05-31T00:00:00",
          "2007-06-30T00:00:00",
          "2007-07-31T00:00:00",
          "2007-08-31T00:00:00",
          "2007-09-30T00:00:00",
          "2007-10-31T00:00:00",
          "2007-11-30T00:00:00",
          "2007-12-31T00:00:00",
          "2008-01-31T00:00:00",
          "2008-02-29T00:00:00",
          "2008-03-31T00:00:00",
          "2008-04-30T00:00:00",
          "2008-05-31T00:00:00",
          "2008-06-30T00:00:00",
          "2008-07-31T00:00:00",
          "2008-08-31T00:00:00",
          "2008-09-30T00:00:00",
          "2008-10-31T00:00:00",
          "2008-11-30T00:00:00",
          "2008-12-31T00:00:00",
          "2009-01-31T00:00:00",
          "2009-02-28T00:00:00",
          "2009-03-31T00:00:00",
          "2009-04-30T00:00:00",
          "2009-05-31T00:00:00",
          "2009-06-30T00:00:00",
          "2009-07-31T00:00:00",
          "2009-08-31T00:00:00",
          "2009-09-30T00:00:00",
          "2009-10-31T00:00:00",
          "2009-11-30T00:00:00",
          "2009-12-31T00:00:00",
          "2010-01-31T00:00:00",
          "2010-02-28T00:00:00",
          "2010-03-31T00:00:00",
          "2010-04-30T00:00:00",
          "2010-05-31T00:00:00",
          "2010-06-30T00:00:00",
          "2010-07-31T00:00:00",
          "2010-08-31T00:00:00",
          "2010-09-30T00:00:00",
          "2010-10-31T00:00:00",
          "2010-11-30T00:00:00",
          "2010-12-31T00:00:00",
          "2011-01-31T00:00:00",
          "2011-02-28T00:00:00",
          "2011-03-31T00:00:00",
          "2011-04-30T00:00:00",
          "2011-05-31T00:00:00",
          "2011-06-30T00:00:00",
          "2011-07-31T00:00:00",
          "2011-08-31T00:00:00",
          "2011-09-30T00:00:00",
          "2011-10-31T00:00:00",
          "2011-11-30T00:00:00",
          "2011-12-31T00:00:00",
          "2012-01-31T00:00:00",
          "2012-02-29T00:00:00",
          "2012-03-31T00:00:00",
          "2012-04-30T00:00:00",
          "2012-05-31T00:00:00",
          "2012-06-30T00:00:00",
          "2012-07-31T00:00:00",
          "2012-08-31T00:00:00",
          "2012-09-30T00:00:00",
          "2012-10-31T00:00:00",
          "2012-11-30T00:00:00",
          "2012-12-31T00:00:00",
          "2013-01-31T00:00:00",
          "2013-02-28T00:00:00",
          "2013-03-31T00:00:00",
          "2013-04-30T00:00:00",
          "2013-05-31T00:00:00",
          "2013-06-30T00:00:00",
          "2013-07-31T00:00:00",
          "2013-08-31T00:00:00",
          "2013-09-30T00:00:00",
          "2013-10-31T00:00:00",
          "2013-11-30T00:00:00",
          "2013-12-31T00:00:00",
          "2014-01-31T00:00:00",
          "2014-02-28T00:00:00",
          "2014-03-31T00:00:00",
          "2014-04-30T00:00:00",
          "2014-05-31T00:00:00",
          "2014-06-30T00:00:00",
          "2014-07-31T00:00:00",
          "2014-08-31T00:00:00",
          "2014-09-30T00:00:00",
          "2014-10-31T00:00:00",
          "2014-11-30T00:00:00",
          "2014-12-31T00:00:00",
          "2015-01-31T00:00:00",
          "2015-02-28T00:00:00",
          "2015-03-31T00:00:00",
          "2015-04-30T00:00:00",
          "2015-05-31T00:00:00",
          "2015-06-30T00:00:00",
          "2015-07-31T00:00:00",
          "2015-08-31T00:00:00",
          "2015-09-30T00:00:00",
          "2015-10-31T00:00:00",
          "2015-11-30T00:00:00",
          "2015-12-31T00:00:00",
          "2016-01-31T00:00:00",
          "2016-02-29T00:00:00",
          "2016-03-31T00:00:00",
          "2016-04-30T00:00:00",
          "2016-05-31T00:00:00",
          "2016-06-30T00:00:00",
          "2016-07-31T00:00:00",
          "2016-08-31T00:00:00",
          "2016-09-30T00:00:00",
          "2016-10-31T00:00:00",
          "2016-11-30T00:00:00",
          "2016-12-31T00:00:00",
          "2017-01-31T00:00:00",
          "2017-02-28T00:00:00",
          "2017-03-31T00:00:00",
          "2017-04-30T00:00:00",
          "2017-05-31T00:00:00",
          "2017-06-30T00:00:00",
          "2017-07-31T00:00:00",
          "2017-08-31T00:00:00",
          "2017-09-30T00:00:00",
          "2017-10-31T00:00:00",
          "2017-11-30T00:00:00",
          "2017-12-31T00:00:00",
          "2018-01-31T00:00:00",
          "2018-02-28T00:00:00",
          "2018-03-31T00:00:00",
          "2018-04-30T00:00:00",
          "2018-05-31T00:00:00",
          "2018-06-30T00:00:00",
          "2018-07-31T00:00:00",
          "2018-08-31T00:00:00",
          "2018-09-30T00:00:00",
          "2018-10-31T00:00:00",
          "2018-11-30T00:00:00",
          "2018-12-31T00:00:00",
          "2019-01-31T00:00:00",
          "2019-02-28T00:00:00",
          "2019-03-31T00:00:00",
          "2019-04-30T00:00:00",
          "2019-05-31T00:00:00",
          "2019-06-30T00:00:00",
          "2019-07-31T00:00:00",
          "2019-08-31T00:00:00",
          "2019-09-30T00:00:00",
          "2019-10-31T00:00:00",
          "2019-11-30T00:00:00",
          "2019-12-31T00:00:00"
         ],
         "xaxis": "x",
         "y": [
          152,
          71,
          49,
          43,
          36,
          26,
          19,
          8,
          12,
          23,
          15,
          25,
          25,
          16,
          14,
          17,
          14,
          14,
          11,
          12,
          12,
          47,
          22,
          27,
          25,
          22,
          28,
          32,
          29,
          29,
          32,
          27,
          27,
          25,
          23,
          22,
          22,
          23,
          26,
          28,
          34,
          31,
          30,
          24,
          24,
          29,
          27,
          355,
          396,
          325,
          284,
          284,
          259,
          164,
          122,
          126,
          137,
          138,
          163,
          103,
          94,
          91,
          92,
          95,
          96,
          105,
          119,
          120,
          120,
          114,
          116,
          118,
          121,
          125,
          125,
          131,
          135,
          135,
          138,
          133,
          128,
          122,
          134,
          116,
          120,
          119,
          115,
          113,
          115,
          119,
          118,
          115,
          120,
          120,
          126,
          124,
          128,
          133,
          140,
          145,
          144,
          140,
          140,
          132,
          126,
          127,
          130,
          136,
          131,
          134,
          137,
          149,
          144,
          144,
          142,
          144,
          150,
          154,
          157,
          166,
          161,
          184,
          180,
          174,
          177,
          181,
          180,
          182,
          177,
          171,
          170,
          172,
          167,
          134,
          135,
          130,
          140,
          135,
          131,
          129,
          132,
          131,
          135,
          136,
          135,
          141,
          139,
          139,
          143,
          144,
          142,
          145,
          144,
          140,
          139,
          140,
          139,
          142,
          143,
          139,
          141,
          141,
          142,
          143,
          143,
          148,
          150,
          159,
          160,
          180,
          170,
          174,
          171,
          172,
          174,
          175,
          177,
          175,
          176,
          172,
          174,
          176
         ],
         "yaxis": "y"
        }
       ],
       "layout": {
        "legend": {
         "tracegroupgap": 0
        },
        "margin": {
         "t": 60
        },
        "template": {
         "data": {
          "bar": [
           {
            "error_x": {
             "color": "#2a3f5f"
            },
            "error_y": {
             "color": "#2a3f5f"
            },
            "marker": {
             "line": {
              "color": "#E5ECF6",
              "width": 0.5
             },
             "pattern": {
              "fillmode": "overlay",
              "size": 10,
              "solidity": 0.2
             }
            },
            "type": "bar"
           }
          ],
          "barpolar": [
           {
            "marker": {
             "line": {
              "color": "#E5ECF6",
              "width": 0.5
             },
             "pattern": {
              "fillmode": "overlay",
              "size": 10,
              "solidity": 0.2
             }
            },
            "type": "barpolar"
           }
          ],
          "carpet": [
           {
            "aaxis": {
             "endlinecolor": "#2a3f5f",
             "gridcolor": "white",
             "linecolor": "white",
             "minorgridcolor": "white",
             "startlinecolor": "#2a3f5f"
            },
            "baxis": {
             "endlinecolor": "#2a3f5f",
             "gridcolor": "white",
             "linecolor": "white",
             "minorgridcolor": "white",
             "startlinecolor": "#2a3f5f"
            },
            "type": "carpet"
           }
          ],
          "choropleth": [
           {
            "colorbar": {
             "outlinewidth": 0,
             "ticks": ""
            },
            "type": "choropleth"
           }
          ],
          "contour": [
           {
            "colorbar": {
             "outlinewidth": 0,
             "ticks": ""
            },
            "colorscale": [
             [
              0,
              "#0d0887"
             ],
             [
              0.1111111111111111,
              "#46039f"
             ],
             [
              0.2222222222222222,
              "#7201a8"
             ],
             [
              0.3333333333333333,
              "#9c179e"
             ],
             [
              0.4444444444444444,
              "#bd3786"
             ],
             [
              0.5555555555555556,
              "#d8576b"
             ],
             [
              0.6666666666666666,
              "#ed7953"
             ],
             [
              0.7777777777777778,
              "#fb9f3a"
             ],
             [
              0.8888888888888888,
              "#fdca26"
             ],
             [
              1,
              "#f0f921"
             ]
            ],
            "type": "contour"
           }
          ],
          "contourcarpet": [
           {
            "colorbar": {
             "outlinewidth": 0,
             "ticks": ""
            },
            "type": "contourcarpet"
           }
          ],
          "heatmap": [
           {
            "colorbar": {
             "outlinewidth": 0,
             "ticks": ""
            },
            "colorscale": [
             [
              0,
              "#0d0887"
             ],
             [
              0.1111111111111111,
              "#46039f"
             ],
             [
              0.2222222222222222,
              "#7201a8"
             ],
             [
              0.3333333333333333,
              "#9c179e"
             ],
             [
              0.4444444444444444,
              "#bd3786"
             ],
             [
              0.5555555555555556,
              "#d8576b"
             ],
             [
              0.6666666666666666,
              "#ed7953"
             ],
             [
              0.7777777777777778,
              "#fb9f3a"
             ],
             [
              0.8888888888888888,
              "#fdca26"
             ],
             [
              1,
              "#f0f921"
             ]
            ],
            "type": "heatmap"
           }
          ],
          "heatmapgl": [
           {
            "colorbar": {
             "outlinewidth": 0,
             "ticks": ""
            },
            "colorscale": [
             [
              0,
              "#0d0887"
             ],
             [
              0.1111111111111111,
              "#46039f"
             ],
             [
              0.2222222222222222,
              "#7201a8"
             ],
             [
              0.3333333333333333,
              "#9c179e"
             ],
             [
              0.4444444444444444,
              "#bd3786"
             ],
             [
              0.5555555555555556,
              "#d8576b"
             ],
             [
              0.6666666666666666,
              "#ed7953"
             ],
             [
              0.7777777777777778,
              "#fb9f3a"
             ],
             [
              0.8888888888888888,
              "#fdca26"
             ],
             [
              1,
              "#f0f921"
             ]
            ],
            "type": "heatmapgl"
           }
          ],
          "histogram": [
           {
            "marker": {
             "pattern": {
              "fillmode": "overlay",
              "size": 10,
              "solidity": 0.2
             }
            },
            "type": "histogram"
           }
          ],
          "histogram2d": [
           {
            "colorbar": {
             "outlinewidth": 0,
             "ticks": ""
            },
            "colorscale": [
             [
              0,
              "#0d0887"
             ],
             [
              0.1111111111111111,
              "#46039f"
             ],
             [
              0.2222222222222222,
              "#7201a8"
             ],
             [
              0.3333333333333333,
              "#9c179e"
             ],
             [
              0.4444444444444444,
              "#bd3786"
             ],
             [
              0.5555555555555556,
              "#d8576b"
             ],
             [
              0.6666666666666666,
              "#ed7953"
             ],
             [
              0.7777777777777778,
              "#fb9f3a"
             ],
             [
              0.8888888888888888,
              "#fdca26"
             ],
             [
              1,
              "#f0f921"
             ]
            ],
            "type": "histogram2d"
           }
          ],
          "histogram2dcontour": [
           {
            "colorbar": {
             "outlinewidth": 0,
             "ticks": ""
            },
            "colorscale": [
             [
              0,
              "#0d0887"
             ],
             [
              0.1111111111111111,
              "#46039f"
             ],
             [
              0.2222222222222222,
              "#7201a8"
             ],
             [
              0.3333333333333333,
              "#9c179e"
             ],
             [
              0.4444444444444444,
              "#bd3786"
             ],
             [
              0.5555555555555556,
              "#d8576b"
             ],
             [
              0.6666666666666666,
              "#ed7953"
             ],
             [
              0.7777777777777778,
              "#fb9f3a"
             ],
             [
              0.8888888888888888,
              "#fdca26"
             ],
             [
              1,
              "#f0f921"
             ]
            ],
            "type": "histogram2dcontour"
           }
          ],
          "mesh3d": [
           {
            "colorbar": {
             "outlinewidth": 0,
             "ticks": ""
            },
            "type": "mesh3d"
           }
          ],
          "parcoords": [
           {
            "line": {
             "colorbar": {
              "outlinewidth": 0,
              "ticks": ""
             }
            },
            "type": "parcoords"
           }
          ],
          "pie": [
           {
            "automargin": true,
            "type": "pie"
           }
          ],
          "scatter": [
           {
            "marker": {
             "colorbar": {
              "outlinewidth": 0,
              "ticks": ""
             }
            },
            "type": "scatter"
           }
          ],
          "scatter3d": [
           {
            "line": {
             "colorbar": {
              "outlinewidth": 0,
              "ticks": ""
             }
            },
            "marker": {
             "colorbar": {
              "outlinewidth": 0,
              "ticks": ""
             }
            },
            "type": "scatter3d"
           }
          ],
          "scattercarpet": [
           {
            "marker": {
             "colorbar": {
              "outlinewidth": 0,
              "ticks": ""
             }
            },
            "type": "scattercarpet"
           }
          ],
          "scattergeo": [
           {
            "marker": {
             "colorbar": {
              "outlinewidth": 0,
              "ticks": ""
             }
            },
            "type": "scattergeo"
           }
          ],
          "scattergl": [
           {
            "marker": {
             "colorbar": {
              "outlinewidth": 0,
              "ticks": ""
             }
            },
            "type": "scattergl"
           }
          ],
          "scattermapbox": [
           {
            "marker": {
             "colorbar": {
              "outlinewidth": 0,
              "ticks": ""
             }
            },
            "type": "scattermapbox"
           }
          ],
          "scatterpolar": [
           {
            "marker": {
             "colorbar": {
              "outlinewidth": 0,
              "ticks": ""
             }
            },
            "type": "scatterpolar"
           }
          ],
          "scatterpolargl": [
           {
            "marker": {
             "colorbar": {
              "outlinewidth": 0,
              "ticks": ""
             }
            },
            "type": "scatterpolargl"
           }
          ],
          "scatterternary": [
           {
            "marker": {
             "colorbar": {
              "outlinewidth": 0,
              "ticks": ""
             }
            },
            "type": "scatterternary"
           }
          ],
          "surface": [
           {
            "colorbar": {
             "outlinewidth": 0,
             "ticks": ""
            },
            "colorscale": [
             [
              0,
              "#0d0887"
             ],
             [
              0.1111111111111111,
              "#46039f"
             ],
             [
              0.2222222222222222,
              "#7201a8"
             ],
             [
              0.3333333333333333,
              "#9c179e"
             ],
             [
              0.4444444444444444,
              "#bd3786"
             ],
             [
              0.5555555555555556,
              "#d8576b"
             ],
             [
              0.6666666666666666,
              "#ed7953"
             ],
             [
              0.7777777777777778,
              "#fb9f3a"
             ],
             [
              0.8888888888888888,
              "#fdca26"
             ],
             [
              1,
              "#f0f921"
             ]
            ],
            "type": "surface"
           }
          ],
          "table": [
           {
            "cells": {
             "fill": {
              "color": "#EBF0F8"
             },
             "line": {
              "color": "white"
             }
            },
            "header": {
             "fill": {
              "color": "#C8D4E3"
             },
             "line": {
              "color": "white"
             }
            },
            "type": "table"
           }
          ]
         },
         "layout": {
          "annotationdefaults": {
           "arrowcolor": "#2a3f5f",
           "arrowhead": 0,
           "arrowwidth": 1
          },
          "autotypenumbers": "strict",
          "coloraxis": {
           "colorbar": {
            "outlinewidth": 0,
            "ticks": ""
           }
          },
          "colorscale": {
           "diverging": [
            [
             0,
             "#8e0152"
            ],
            [
             0.1,
             "#c51b7d"
            ],
            [
             0.2,
             "#de77ae"
            ],
            [
             0.3,
             "#f1b6da"
            ],
            [
             0.4,
             "#fde0ef"
            ],
            [
             0.5,
             "#f7f7f7"
            ],
            [
             0.6,
             "#e6f5d0"
            ],
            [
             0.7,
             "#b8e186"
            ],
            [
             0.8,
             "#7fbc41"
            ],
            [
             0.9,
             "#4d9221"
            ],
            [
             1,
             "#276419"
            ]
           ],
           "sequential": [
            [
             0,
             "#0d0887"
            ],
            [
             0.1111111111111111,
             "#46039f"
            ],
            [
             0.2222222222222222,
             "#7201a8"
            ],
            [
             0.3333333333333333,
             "#9c179e"
            ],
            [
             0.4444444444444444,
             "#bd3786"
            ],
            [
             0.5555555555555556,
             "#d8576b"
            ],
            [
             0.6666666666666666,
             "#ed7953"
            ],
            [
             0.7777777777777778,
             "#fb9f3a"
            ],
            [
             0.8888888888888888,
             "#fdca26"
            ],
            [
             1,
             "#f0f921"
            ]
           ],
           "sequentialminus": [
            [
             0,
             "#0d0887"
            ],
            [
             0.1111111111111111,
             "#46039f"
            ],
            [
             0.2222222222222222,
             "#7201a8"
            ],
            [
             0.3333333333333333,
             "#9c179e"
            ],
            [
             0.4444444444444444,
             "#bd3786"
            ],
            [
             0.5555555555555556,
             "#d8576b"
            ],
            [
             0.6666666666666666,
             "#ed7953"
            ],
            [
             0.7777777777777778,
             "#fb9f3a"
            ],
            [
             0.8888888888888888,
             "#fdca26"
            ],
            [
             1,
             "#f0f921"
            ]
           ]
          },
          "colorway": [
           "#636efa",
           "#EF553B",
           "#00cc96",
           "#ab63fa",
           "#FFA15A",
           "#19d3f3",
           "#FF6692",
           "#B6E880",
           "#FF97FF",
           "#FECB52"
          ],
          "font": {
           "color": "#2a3f5f"
          },
          "geo": {
           "bgcolor": "white",
           "lakecolor": "white",
           "landcolor": "#E5ECF6",
           "showlakes": true,
           "showland": true,
           "subunitcolor": "white"
          },
          "hoverlabel": {
           "align": "left"
          },
          "hovermode": "closest",
          "mapbox": {
           "style": "light"
          },
          "paper_bgcolor": "white",
          "plot_bgcolor": "#E5ECF6",
          "polar": {
           "angularaxis": {
            "gridcolor": "white",
            "linecolor": "white",
            "ticks": ""
           },
           "bgcolor": "#E5ECF6",
           "radialaxis": {
            "gridcolor": "white",
            "linecolor": "white",
            "ticks": ""
           }
          },
          "scene": {
           "xaxis": {
            "backgroundcolor": "#E5ECF6",
            "gridcolor": "white",
            "gridwidth": 2,
            "linecolor": "white",
            "showbackground": true,
            "ticks": "",
            "zerolinecolor": "white"
           },
           "yaxis": {
            "backgroundcolor": "#E5ECF6",
            "gridcolor": "white",
            "gridwidth": 2,
            "linecolor": "white",
            "showbackground": true,
            "ticks": "",
            "zerolinecolor": "white"
           },
           "zaxis": {
            "backgroundcolor": "#E5ECF6",
            "gridcolor": "white",
            "gridwidth": 2,
            "linecolor": "white",
            "showbackground": true,
            "ticks": "",
            "zerolinecolor": "white"
           }
          },
          "shapedefaults": {
           "line": {
            "color": "#2a3f5f"
           }
          },
          "ternary": {
           "aaxis": {
            "gridcolor": "white",
            "linecolor": "white",
            "ticks": ""
           },
           "baxis": {
            "gridcolor": "white",
            "linecolor": "white",
            "ticks": ""
           },
           "bgcolor": "#E5ECF6",
           "caxis": {
            "gridcolor": "white",
            "linecolor": "white",
            "ticks": ""
           }
          },
          "title": {
           "x": 0.05
          },
          "xaxis": {
           "automargin": true,
           "gridcolor": "white",
           "linecolor": "white",
           "ticks": "",
           "title": {
            "standoff": 15
           },
           "zerolinecolor": "white",
           "zerolinewidth": 2
          },
          "yaxis": {
           "automargin": true,
           "gridcolor": "white",
           "linecolor": "white",
           "ticks": "",
           "title": {
            "standoff": 15
           },
           "zerolinecolor": "white",
           "zerolinewidth": 2
          }
         }
        },
        "xaxis": {
         "anchor": "y",
         "domain": [
          0,
          1
         ],
         "title": {
          "text": "date"
         }
        },
        "yaxis": {
         "anchor": "x",
         "domain": [
          0,
          1
         ],
         "title": {
          "text": "gvkey"
         }
        }
       }
      }
     },
     "metadata": {},
     "output_type": "display_data"
    }
   ],
   "source": [
    "# plot the count of significant stocks using plotly\n",
    "fig = px.line(sig_stocks_count, x=\"date\", y=\"gvkey\")\n",
    "fig.show()"
   ]
  },
  {
   "cell_type": "code",
   "execution_count": null,
   "metadata": {},
   "outputs": [
    {
     "data": {
      "text/html": [
       "<div>\n",
       "<style scoped>\n",
       "    .dataframe tbody tr th:only-of-type {\n",
       "        vertical-align: middle;\n",
       "    }\n",
       "\n",
       "    .dataframe tbody tr th {\n",
       "        vertical-align: top;\n",
       "    }\n",
       "\n",
       "    .dataframe thead th {\n",
       "        text-align: right;\n",
       "    }\n",
       "</style>\n",
       "<table border=\"1\" class=\"dataframe\">\n",
       "  <thead>\n",
       "    <tr style=\"text-align: right;\">\n",
       "      <th></th>\n",
       "      <th>date</th>\n",
       "      <th>gvkey</th>\n",
       "      <th>beta</th>\n",
       "      <th>t-stat</th>\n",
       "      <th>CPI</th>\n",
       "      <th>diff</th>\n",
       "      <th>diff_of_diff</th>\n",
       "      <th>shifted_date</th>\n",
       "    </tr>\n",
       "  </thead>\n",
       "  <tbody>\n",
       "    <tr>\n",
       "      <th>0</th>\n",
       "      <td>2008-11-30</td>\n",
       "      <td>1166</td>\n",
       "      <td>9.128890</td>\n",
       "      <td>4.114896</td>\n",
       "      <td>-0.02223</td>\n",
       "      <td>-1.12215</td>\n",
       "      <td>1.50899</td>\n",
       "      <td>2008-12-31</td>\n",
       "    </tr>\n",
       "    <tr>\n",
       "      <th>1</th>\n",
       "      <td>2008-12-31</td>\n",
       "      <td>1166</td>\n",
       "      <td>9.123891</td>\n",
       "      <td>4.147361</td>\n",
       "      <td>-0.11359</td>\n",
       "      <td>-0.09136</td>\n",
       "      <td>1.03079</td>\n",
       "      <td>2009-01-31</td>\n",
       "    </tr>\n",
       "    <tr>\n",
       "      <th>2</th>\n",
       "      <td>2009-01-31</td>\n",
       "      <td>1166</td>\n",
       "      <td>8.997934</td>\n",
       "      <td>4.040090</td>\n",
       "      <td>0.00846</td>\n",
       "      <td>0.12205</td>\n",
       "      <td>0.21341</td>\n",
       "      <td>2009-02-28</td>\n",
       "    </tr>\n",
       "    <tr>\n",
       "      <th>3</th>\n",
       "      <td>2009-02-28</td>\n",
       "      <td>1166</td>\n",
       "      <td>9.069703</td>\n",
       "      <td>4.117109</td>\n",
       "      <td>-0.44648</td>\n",
       "      <td>-0.45494</td>\n",
       "      <td>-0.57699</td>\n",
       "      <td>2009-03-31</td>\n",
       "    </tr>\n",
       "    <tr>\n",
       "      <th>4</th>\n",
       "      <td>2008-10-31</td>\n",
       "      <td>1186</td>\n",
       "      <td>11.252240</td>\n",
       "      <td>4.670806</td>\n",
       "      <td>1.09992</td>\n",
       "      <td>-2.63114</td>\n",
       "      <td>-1.40888</td>\n",
       "      <td>2008-11-30</td>\n",
       "    </tr>\n",
       "    <tr>\n",
       "      <th>...</th>\n",
       "      <td>...</td>\n",
       "      <td>...</td>\n",
       "      <td>...</td>\n",
       "      <td>...</td>\n",
       "      <td>...</td>\n",
       "      <td>...</td>\n",
       "      <td>...</td>\n",
       "      <td>...</td>\n",
       "    </tr>\n",
       "    <tr>\n",
       "      <th>21391</th>\n",
       "      <td>2019-08-31</td>\n",
       "      <td>287622</td>\n",
       "      <td>52.698782</td>\n",
       "      <td>5.858985</td>\n",
       "      <td>1.71662</td>\n",
       "      <td>-0.03016</td>\n",
       "      <td>0.00282</td>\n",
       "      <td>2019-09-30</td>\n",
       "    </tr>\n",
       "    <tr>\n",
       "      <th>21392</th>\n",
       "      <td>2019-09-30</td>\n",
       "      <td>287622</td>\n",
       "      <td>58.460261</td>\n",
       "      <td>4.374261</td>\n",
       "      <td>1.76918</td>\n",
       "      <td>0.05256</td>\n",
       "      <td>0.08272</td>\n",
       "      <td>2019-10-31</td>\n",
       "    </tr>\n",
       "    <tr>\n",
       "      <th>21393</th>\n",
       "      <td>2016-03-31</td>\n",
       "      <td>318434</td>\n",
       "      <td>26.428691</td>\n",
       "      <td>5.390246</td>\n",
       "      <td>1.17263</td>\n",
       "      <td>0.28101</td>\n",
       "      <td>0.23667</td>\n",
       "      <td>2016-04-30</td>\n",
       "    </tr>\n",
       "    <tr>\n",
       "      <th>21394</th>\n",
       "      <td>2016-04-30</td>\n",
       "      <td>318434</td>\n",
       "      <td>23.551366</td>\n",
       "      <td>4.167943</td>\n",
       "      <td>1.07848</td>\n",
       "      <td>-0.09415</td>\n",
       "      <td>-0.37516</td>\n",
       "      <td>2016-05-31</td>\n",
       "    </tr>\n",
       "    <tr>\n",
       "      <th>21395</th>\n",
       "      <td>2016-06-30</td>\n",
       "      <td>318434</td>\n",
       "      <td>25.520655</td>\n",
       "      <td>4.497965</td>\n",
       "      <td>0.86836</td>\n",
       "      <td>-0.21093</td>\n",
       "      <td>-0.21174</td>\n",
       "      <td>2016-07-31</td>\n",
       "    </tr>\n",
       "  </tbody>\n",
       "</table>\n",
       "<p>21396 rows × 8 columns</p>\n",
       "</div>"
      ],
      "text/plain": [
       "            date   gvkey       beta    t-stat      CPI     diff  diff_of_diff  \\\n",
       "0     2008-11-30    1166   9.128890  4.114896 -0.02223 -1.12215       1.50899   \n",
       "1     2008-12-31    1166   9.123891  4.147361 -0.11359 -0.09136       1.03079   \n",
       "2     2009-01-31    1166   8.997934  4.040090  0.00846  0.12205       0.21341   \n",
       "3     2009-02-28    1166   9.069703  4.117109 -0.44648 -0.45494      -0.57699   \n",
       "4     2008-10-31    1186  11.252240  4.670806  1.09992 -2.63114      -1.40888   \n",
       "...          ...     ...        ...       ...      ...      ...           ...   \n",
       "21391 2019-08-31  287622  52.698782  5.858985  1.71662 -0.03016       0.00282   \n",
       "21392 2019-09-30  287622  58.460261  4.374261  1.76918  0.05256       0.08272   \n",
       "21393 2016-03-31  318434  26.428691  5.390246  1.17263  0.28101       0.23667   \n",
       "21394 2016-04-30  318434  23.551366  4.167943  1.07848 -0.09415      -0.37516   \n",
       "21395 2016-06-30  318434  25.520655  4.497965  0.86836 -0.21093      -0.21174   \n",
       "\n",
       "      shifted_date  \n",
       "0       2008-12-31  \n",
       "1       2009-01-31  \n",
       "2       2009-02-28  \n",
       "3       2009-03-31  \n",
       "4       2008-11-30  \n",
       "...            ...  \n",
       "21391   2019-09-30  \n",
       "21392   2019-10-31  \n",
       "21393   2016-04-30  \n",
       "21394   2016-05-31  \n",
       "21395   2016-07-31  \n",
       "\n",
       "[21396 rows x 8 columns]"
      ]
     },
     "metadata": {},
     "output_type": "display_data"
    }
   ],
   "source": [
    "#merge sig_stocs with cpi and shift dates forward 1\n",
    "sig_stocks = sig_stocks.merge(cpi, how=\"left\", on=\"date\")\n",
    "sig_stocks[\"shifted_date\"] = sig_stocks[\"date\"] + MonthEnd(1)\n",
    "# sig_stocks = sig_stocks.drop(\"date\", axis=1)\n",
    "sig_stocks"
   ]
  },
  {
   "cell_type": "code",
   "execution_count": null,
   "metadata": {},
   "outputs": [
    {
     "data": {
      "text/html": [
       "<div>\n",
       "<style scoped>\n",
       "    .dataframe tbody tr th:only-of-type {\n",
       "        vertical-align: middle;\n",
       "    }\n",
       "\n",
       "    .dataframe tbody tr th {\n",
       "        vertical-align: top;\n",
       "    }\n",
       "\n",
       "    .dataframe thead th {\n",
       "        text-align: right;\n",
       "    }\n",
       "</style>\n",
       "<table border=\"1\" class=\"dataframe\">\n",
       "  <thead>\n",
       "    <tr style=\"text-align: right;\">\n",
       "      <th></th>\n",
       "      <th>date</th>\n",
       "      <th>gvkey</th>\n",
       "      <th>beta</th>\n",
       "      <th>t-stat</th>\n",
       "      <th>CPI</th>\n",
       "      <th>diff</th>\n",
       "      <th>diff_of_diff</th>\n",
       "      <th>shifted_date</th>\n",
       "      <th>pred_diff</th>\n",
       "      <th>pred_diff of diff</th>\n",
       "    </tr>\n",
       "  </thead>\n",
       "  <tbody>\n",
       "    <tr>\n",
       "      <th>0</th>\n",
       "      <td>2008-11-30</td>\n",
       "      <td>1166</td>\n",
       "      <td>9.128890</td>\n",
       "      <td>4.114896</td>\n",
       "      <td>-0.02223</td>\n",
       "      <td>-1.12215</td>\n",
       "      <td>1.50899</td>\n",
       "      <td>2008-12-31</td>\n",
       "      <td>-0.09136</td>\n",
       "      <td>1.03079</td>\n",
       "    </tr>\n",
       "    <tr>\n",
       "      <th>1</th>\n",
       "      <td>2008-12-31</td>\n",
       "      <td>1166</td>\n",
       "      <td>9.123891</td>\n",
       "      <td>4.147361</td>\n",
       "      <td>-0.11359</td>\n",
       "      <td>-0.09136</td>\n",
       "      <td>1.03079</td>\n",
       "      <td>2009-01-31</td>\n",
       "      <td>0.12205</td>\n",
       "      <td>0.21341</td>\n",
       "    </tr>\n",
       "    <tr>\n",
       "      <th>2</th>\n",
       "      <td>2009-01-31</td>\n",
       "      <td>1166</td>\n",
       "      <td>8.997934</td>\n",
       "      <td>4.040090</td>\n",
       "      <td>0.00846</td>\n",
       "      <td>0.12205</td>\n",
       "      <td>0.21341</td>\n",
       "      <td>2009-02-28</td>\n",
       "      <td>-0.45494</td>\n",
       "      <td>-0.57699</td>\n",
       "    </tr>\n",
       "    <tr>\n",
       "      <th>3</th>\n",
       "      <td>2009-02-28</td>\n",
       "      <td>1166</td>\n",
       "      <td>9.069703</td>\n",
       "      <td>4.117109</td>\n",
       "      <td>-0.44648</td>\n",
       "      <td>-0.45494</td>\n",
       "      <td>-0.57699</td>\n",
       "      <td>2009-03-31</td>\n",
       "      <td>NaN</td>\n",
       "      <td>NaN</td>\n",
       "    </tr>\n",
       "    <tr>\n",
       "      <th>4</th>\n",
       "      <td>2008-10-31</td>\n",
       "      <td>1186</td>\n",
       "      <td>11.252240</td>\n",
       "      <td>4.670806</td>\n",
       "      <td>1.09992</td>\n",
       "      <td>-2.63114</td>\n",
       "      <td>-1.40888</td>\n",
       "      <td>2008-11-30</td>\n",
       "      <td>NaN</td>\n",
       "      <td>NaN</td>\n",
       "    </tr>\n",
       "    <tr>\n",
       "      <th>...</th>\n",
       "      <td>...</td>\n",
       "      <td>...</td>\n",
       "      <td>...</td>\n",
       "      <td>...</td>\n",
       "      <td>...</td>\n",
       "      <td>...</td>\n",
       "      <td>...</td>\n",
       "      <td>...</td>\n",
       "      <td>...</td>\n",
       "      <td>...</td>\n",
       "    </tr>\n",
       "    <tr>\n",
       "      <th>21391</th>\n",
       "      <td>2019-08-31</td>\n",
       "      <td>287622</td>\n",
       "      <td>52.698782</td>\n",
       "      <td>5.858985</td>\n",
       "      <td>1.71662</td>\n",
       "      <td>-0.03016</td>\n",
       "      <td>0.00282</td>\n",
       "      <td>2019-09-30</td>\n",
       "      <td>0.05256</td>\n",
       "      <td>0.08272</td>\n",
       "    </tr>\n",
       "    <tr>\n",
       "      <th>21392</th>\n",
       "      <td>2019-09-30</td>\n",
       "      <td>287622</td>\n",
       "      <td>58.460261</td>\n",
       "      <td>4.374261</td>\n",
       "      <td>1.76918</td>\n",
       "      <td>0.05256</td>\n",
       "      <td>0.08272</td>\n",
       "      <td>2019-10-31</td>\n",
       "      <td>NaN</td>\n",
       "      <td>NaN</td>\n",
       "    </tr>\n",
       "    <tr>\n",
       "      <th>21393</th>\n",
       "      <td>2016-03-31</td>\n",
       "      <td>318434</td>\n",
       "      <td>26.428691</td>\n",
       "      <td>5.390246</td>\n",
       "      <td>1.17263</td>\n",
       "      <td>0.28101</td>\n",
       "      <td>0.23667</td>\n",
       "      <td>2016-04-30</td>\n",
       "      <td>-0.09415</td>\n",
       "      <td>-0.37516</td>\n",
       "    </tr>\n",
       "    <tr>\n",
       "      <th>21394</th>\n",
       "      <td>2016-04-30</td>\n",
       "      <td>318434</td>\n",
       "      <td>23.551366</td>\n",
       "      <td>4.167943</td>\n",
       "      <td>1.07848</td>\n",
       "      <td>-0.09415</td>\n",
       "      <td>-0.37516</td>\n",
       "      <td>2016-05-31</td>\n",
       "      <td>-0.21093</td>\n",
       "      <td>-0.21174</td>\n",
       "    </tr>\n",
       "    <tr>\n",
       "      <th>21395</th>\n",
       "      <td>2016-06-30</td>\n",
       "      <td>318434</td>\n",
       "      <td>25.520655</td>\n",
       "      <td>4.497965</td>\n",
       "      <td>0.86836</td>\n",
       "      <td>-0.21093</td>\n",
       "      <td>-0.21174</td>\n",
       "      <td>2016-07-31</td>\n",
       "      <td>NaN</td>\n",
       "      <td>NaN</td>\n",
       "    </tr>\n",
       "  </tbody>\n",
       "</table>\n",
       "<p>21396 rows × 10 columns</p>\n",
       "</div>"
      ],
      "text/plain": [
       "            date   gvkey       beta    t-stat      CPI     diff  diff_of_diff  \\\n",
       "0     2008-11-30    1166   9.128890  4.114896 -0.02223 -1.12215       1.50899   \n",
       "1     2008-12-31    1166   9.123891  4.147361 -0.11359 -0.09136       1.03079   \n",
       "2     2009-01-31    1166   8.997934  4.040090  0.00846  0.12205       0.21341   \n",
       "3     2009-02-28    1166   9.069703  4.117109 -0.44648 -0.45494      -0.57699   \n",
       "4     2008-10-31    1186  11.252240  4.670806  1.09992 -2.63114      -1.40888   \n",
       "...          ...     ...        ...       ...      ...      ...           ...   \n",
       "21391 2019-08-31  287622  52.698782  5.858985  1.71662 -0.03016       0.00282   \n",
       "21392 2019-09-30  287622  58.460261  4.374261  1.76918  0.05256       0.08272   \n",
       "21393 2016-03-31  318434  26.428691  5.390246  1.17263  0.28101       0.23667   \n",
       "21394 2016-04-30  318434  23.551366  4.167943  1.07848 -0.09415      -0.37516   \n",
       "21395 2016-06-30  318434  25.520655  4.497965  0.86836 -0.21093      -0.21174   \n",
       "\n",
       "      shifted_date  pred_diff  pred_diff of diff  \n",
       "0       2008-12-31   -0.09136            1.03079  \n",
       "1       2009-01-31    0.12205            0.21341  \n",
       "2       2009-02-28   -0.45494           -0.57699  \n",
       "3       2009-03-31        NaN                NaN  \n",
       "4       2008-11-30        NaN                NaN  \n",
       "...            ...        ...                ...  \n",
       "21391   2019-09-30    0.05256            0.08272  \n",
       "21392   2019-10-31        NaN                NaN  \n",
       "21393   2016-04-30   -0.09415           -0.37516  \n",
       "21394   2016-05-31   -0.21093           -0.21174  \n",
       "21395   2016-07-31        NaN                NaN  \n",
       "\n",
       "[21396 rows x 10 columns]"
      ]
     },
     "metadata": {},
     "output_type": "display_data"
    }
   ],
   "source": [
    "#shift diff column back 1\n",
    "sig_stocks[\"pred_diff\"] = sig_stocks.groupby(\"gvkey\")[\"diff\"].shift(-1)\n",
    "#shift diff of diff column back 1\n",
    "sig_stocks[\"pred_diff of diff\"] = sig_stocks.groupby(\"gvkey\")[\"diff_of_diff\"].shift(-1)\n",
    "sig_stocks"
   ]
  },
  {
   "cell_type": "code",
   "execution_count": null,
   "metadata": {},
   "outputs": [],
   "source": [
    "#Given a month, return the long and short stocks for next period\n",
    "def long_short(sig_stocks,date):\n",
    "    sig_stocks= sig_stocks[sig_stocks[\"date\"]==date]\n",
    "    #get direction of month\n",
    "    direction=sig_stocks[\"pred_diff\"].mean()\n",
    "    #get only ones that are significant\n",
    "    if direction < 0:\n",
    "        long_stocks=sig_stocks[sig_stocks[\"beta\"]<0]\n",
    "        short_stocks=sig_stocks[sig_stocks[\"beta\"]>0]\n",
    "    else:\n",
    "        long_stocks=sig_stocks[sig_stocks[\"beta\"]>0]\n",
    "        short_stocks=sig_stocks[sig_stocks[\"beta\"]<0]\n",
    "    return long_stocks,short_stocks\n",
    "    #split into long and short"
   ]
  },
  {
   "cell_type": "code",
   "execution_count": null,
   "metadata": {},
   "outputs": [],
   "source": [
    "#loop through dates and get long and short stocks\n",
    "#make dictionary of long and short stocks\n",
    "long_dict={}\n",
    "short_dict={}\n",
    "for date in sig_stocks[\"date\"].unique():\n",
    "    long_stocks,short_stocks=long_short(sig_stocks,date)\n",
    "    long_dict[date]=list(long_stocks.gvkey)\n",
    "    short_dict[date]=list(short_stocks.gvkey)\n"
   ]
  },
  {
   "cell_type": "code",
   "execution_count": null,
   "metadata": {},
   "outputs": [
    {
     "data": {
      "text/plain": [
       "'\\nindex vs gvkey\\nsig stocks only and not entire stock market...unknown if significant last year\\nsig_stocks and sig_t should be the same\\n\\n'"
      ]
     },
     "metadata": {},
     "output_type": "display_data"
    }
   ],
   "source": [
    "'''\n",
    "index vs gvkey\n",
    "sig stocks only and not entire stock market...unknown if significant last year\n",
    "sig_stocks and sig_t should be the same\n",
    "\n",
    "'''"
   ]
  },
  {
   "cell_type": "code",
   "execution_count": null,
   "metadata": {},
   "outputs": [],
   "source": [
    "sig_stocks = sig_stocks.merge(stocks, how=\"left\", left_on=[\"date\", \"gvkey\"], right_on=[\"datadate\", \"gvkey\"])"
   ]
  },
  {
   "cell_type": "code",
   "execution_count": null,
   "metadata": {},
   "outputs": [],
   "source": [
    "#for each date get the return of each stock in the next month\n",
    "diff_dict={}\n",
    "for date in sig_stocks[\"date\"].unique():\n",
    "    #get the next month\n",
    "    #if there is no next month, skip\n",
    "    if date not in long_dict.keys():\n",
    "        continue\n",
    "    next_month=date+MonthEnd(1)\n",
    "    #get the stocks that are long and short\n",
    "    long_stocks=long_dict[date]\n",
    "    short_stocks=short_dict[date]\n",
    "    #get the returns of the stocks\n",
    "    long_returns=stocks[(stocks[\"datadate\"]==next_month) & (stocks[\"gvkey\"].isin(long_stocks))][\"trt1m\"]\n",
    "    short_returns=stocks[(stocks[\"datadate\"]==next_month) & (stocks[\"gvkey\"].isin(short_stocks))][\"trt1m\"]\n",
    "    #get the mean of the returns\n",
    "    long_mean=long_returns.mean()\n",
    "    short_mean=short_returns.mean()\n",
    "    #get the difference\n",
    "    diff=long_mean-short_mean\n",
    "    #create a dictionary of dates and differences\n",
    "    diff_dict[date]=diff\n",
    "    # #get the t-stat\n",
    "    # t_stat=diff/np.sqrt((long_returns.var()/len(long_returns))+(short_returns.var()/len(short_returns)))\n",
    "    # #get the p-value\n",
    "    # p_value=1-stats.t.cdf(t_stat,len(long_returns)+len(short_returns)-2)\n",
    "    # print(\"Date: \",date)\n",
    "    # print(\"Long Mean: \",long_mean)\n",
    "    # print(\"Short Mean: \",short_mean)\n",
    "    # print(\"Difference: \",diff)\n",
    "    # print(\"t-stat: \",t_stat)\n",
    "    # print(\"p-value: \",p_value)\n",
    "    # print(\"\")"
   ]
  },
  {
   "cell_type": "code",
   "execution_count": null,
   "metadata": {},
   "outputs": [
    {
     "data": {
      "text/html": [
       "<div>\n",
       "<style scoped>\n",
       "    .dataframe tbody tr th:only-of-type {\n",
       "        vertical-align: middle;\n",
       "    }\n",
       "\n",
       "    .dataframe tbody tr th {\n",
       "        vertical-align: top;\n",
       "    }\n",
       "\n",
       "    .dataframe thead th {\n",
       "        text-align: right;\n",
       "    }\n",
       "</style>\n",
       "<table border=\"1\" class=\"dataframe\">\n",
       "  <thead>\n",
       "    <tr style=\"text-align: right;\">\n",
       "      <th></th>\n",
       "      <th>diff</th>\n",
       "    </tr>\n",
       "  </thead>\n",
       "  <tbody>\n",
       "    <tr>\n",
       "      <th>2004-11-30</th>\n",
       "      <td>0.705597</td>\n",
       "    </tr>\n",
       "    <tr>\n",
       "      <th>2004-12-31</th>\n",
       "      <td>11.717035</td>\n",
       "    </tr>\n",
       "    <tr>\n",
       "      <th>2005-01-31</th>\n",
       "      <td>4.924956</td>\n",
       "    </tr>\n",
       "    <tr>\n",
       "      <th>2005-02-28</th>\n",
       "      <td>50.623050</td>\n",
       "    </tr>\n",
       "    <tr>\n",
       "      <th>2005-03-31</th>\n",
       "      <td>-0.628743</td>\n",
       "    </tr>\n",
       "    <tr>\n",
       "      <th>...</th>\n",
       "      <td>...</td>\n",
       "    </tr>\n",
       "    <tr>\n",
       "      <th>2019-07-31</th>\n",
       "      <td>-3.611662</td>\n",
       "    </tr>\n",
       "    <tr>\n",
       "      <th>2019-08-31</th>\n",
       "      <td>10.878370</td>\n",
       "    </tr>\n",
       "    <tr>\n",
       "      <th>2019-09-30</th>\n",
       "      <td>22.243458</td>\n",
       "    </tr>\n",
       "    <tr>\n",
       "      <th>2019-10-31</th>\n",
       "      <td>0.140807</td>\n",
       "    </tr>\n",
       "    <tr>\n",
       "      <th>2019-11-30</th>\n",
       "      <td>7.649763</td>\n",
       "    </tr>\n",
       "  </tbody>\n",
       "</table>\n",
       "<p>179 rows × 1 columns</p>\n",
       "</div>"
      ],
      "text/plain": [
       "                 diff\n",
       "2004-11-30   0.705597\n",
       "2004-12-31  11.717035\n",
       "2005-01-31   4.924956\n",
       "2005-02-28  50.623050\n",
       "2005-03-31  -0.628743\n",
       "...               ...\n",
       "2019-07-31  -3.611662\n",
       "2019-08-31  10.878370\n",
       "2019-09-30  22.243458\n",
       "2019-10-31   0.140807\n",
       "2019-11-30   7.649763\n",
       "\n",
       "[179 rows x 1 columns]"
      ]
     },
     "metadata": {},
     "output_type": "display_data"
    }
   ],
   "source": [
    "#drop keys with nan values\n",
    "diff_dict={k: v for k, v in diff_dict.items() if not np.isnan(v)}\n",
    "#sort by date\n",
    "diff_dict=OrderedDict(sorted(diff_dict.items()))\n",
    "#convert to dataframe\n",
    "diff_df=pd.DataFrame.from_dict(diff_dict,orient=\"index\")\n",
    "diff_df.columns=[\"diff\"]\n",
    "diff_df"
   ]
  },
  {
   "cell_type": "code",
   "execution_count": null,
   "metadata": {},
   "outputs": [
    {
     "data": {
      "text/plain": [
       "1.558134324145908"
      ]
     },
     "metadata": {},
     "output_type": "display_data"
    }
   ],
   "source": [
    "diff_df[\"diff\"].mean()"
   ]
  },
  {
   "cell_type": "code",
   "execution_count": null,
   "metadata": {},
   "outputs": [],
   "source": [
    "ff_factors = get_factors()"
   ]
  },
  {
   "cell_type": "code",
   "execution_count": null,
   "metadata": {},
   "outputs": [],
   "source": [
    "excess_returns = diff_df[\"diff\"] - ff_factors.set_index(\"date\")[\"RF\"]"
   ]
  },
  {
   "cell_type": "code",
   "execution_count": null,
   "metadata": {},
   "outputs": [],
   "source": [
    "excess_returns = excess_returns.dropna()"
   ]
  },
  {
   "cell_type": "code",
   "execution_count": null,
   "metadata": {},
   "outputs": [],
   "source": [
    "# calculate sharpe ratio\n",
    "sharpe_ratio = excess_returns.mean() / excess_returns.std()"
   ]
  },
  {
   "cell_type": "code",
   "execution_count": null,
   "metadata": {},
   "outputs": [
    {
     "data": {
      "text/plain": [
       "1.4541119777771934"
      ]
     },
     "metadata": {},
     "output_type": "display_data"
    }
   ],
   "source": [
    "excess_returns.mean()"
   ]
  },
  {
   "cell_type": "code",
   "execution_count": null,
   "metadata": {},
   "outputs": [
    {
     "data": {
      "text/plain": [
       "26.49126531597928"
      ]
     },
     "metadata": {},
     "output_type": "display_data"
    }
   ],
   "source": [
    "excess_returns.std()"
   ]
  },
  {
   "cell_type": "code",
   "execution_count": null,
   "metadata": {},
   "outputs": [
    {
     "data": {
      "text/plain": [
       "0.05489024251703398"
      ]
     },
     "metadata": {},
     "output_type": "display_data"
    }
   ],
   "source": [
    "sharpe_ratio"
   ]
  },
  {
   "cell_type": "code",
   "execution_count": null,
   "metadata": {},
   "outputs": [
    {
     "data": {
      "application/vnd.plotly.v1+json": {
       "config": {
        "plotlyServerURL": "https://plot.ly"
       },
       "data": [
        {
         "alignmentgroup": "True",
         "bingroup": "x",
         "hovertemplate": "diff=%{x}<br>count=%{y}<extra></extra>",
         "legendgroup": "",
         "marker": {
          "color": "#636efa",
          "pattern": {
           "shape": ""
          }
         },
         "name": "",
         "nbinsx": 100,
         "offsetgroup": "",
         "orientation": "v",
         "showlegend": false,
         "type": "histogram",
         "x": [
          -2.391716090629801,
          0.18166666666666675,
          9.45119333333333,
          61.0515362745098,
          -2.3647116161616153,
          -7.196299999999999,
          -4.610583333333334,
          -17.025333333333332,
          -24.88070666666667,
          -14.446766666666669,
          61.858011764705886,
          -4.0655090909090905,
          8.44839,
          -14.521466666666667,
          -0.14398000000000027,
          -8.44361,
          -21.56435652173913,
          15.6101,
          -6.205285714285713,
          -4.194563636363638,
          -17.767044444444444,
          -2.2567699999999995,
          -6.5656,
          -31.836632142857148,
          -5.689314285714286,
          -8.246483333333334,
          1.1890583333333336,
          7.735238333333334,
          2.8987000000000003,
          13.723326190476191,
          -4.1751875,
          9.383872857142858,
          23.122105555555553,
          141.68141944444443,
          -14.290808333333334,
          3.433863736263736,
          -61.38637777777777,
          18.980894871794874,
          67.39763428571429,
          -4.689172222222223,
          13.365456410256412,
          -23.402324671052632,
          -53.27522165884194,
          -162.99500224913493,
          63.619187698412695,
          67.50677212598424,
          44.197415625,
          -20.108447002398076,
          7.049722222222223,
          11.878771844660193,
          34.02527333333334,
          1.9768715811965798,
          -1.2679805164319249,
          7.013331300813009,
          -9.69408717948718,
          0.6555338028169014,
          11.59476282051282,
          7.456957894736844,
          -11.263168421052631,
          15.540748780487803,
          2.7879105442176875,
          -9.322074226804125,
          15.299209574468087,
          25.83758172043011,
          -7.476816326530612,
          -7.430762626262627,
          6.714307524271846,
          -4.508165370370372,
          13.769848427672956,
          -5.841850892857144,
          -0.5799348777348777,
          -31.90052434782609,
          -4.180433709273183,
          17.91699181818182,
          16.040935238095244,
          10.817678231292515,
          -14.57255909090909,
          0.20128333333333326,
          -28.48322314814815,
          -8.213375675675676,
          46.731254716981134,
          73.30897889908258,
          -26.851568195718652,
          336.05502155172417,
          -8.881409166666668,
          102.66644959999999,
          -0.8515826771653552,
          -10.697504724409448,
          -25.113090370370372,
          25.479104929577467,
          7.498571088435374,
          -12.04265064102564,
          -29.831728709677417,
          -7.9044817567567565,
          -4.04901724137931,
          -3.745238518518518,
          -0.8192421052631582,
          10.753222556390977,
          22.719329078014184,
          -11.202782575757576,
          -0.22157647058823532,
          -11.876124305555553,
          11.50768,
          19.52598526490066,
          -13.561554362416107,
          6.720796357615895,
          -10.408112080536911,
          5.323730434782608,
          -8.061402469135803,
          5.011643636363637,
          5.453468571428572,
          -2.2167394736842105,
          0.06308541666666745,
          7.204879782608694,
          5.478901111111111,
          26.113377419354837,
          -10.640610638297872,
          3.4943950819672134,
          -10.997020555555554,
          -1.434115300084529,
          -1.067406627906978,
          7.778463353413653,
          14.029175703463201,
          -25.089600396825396,
          -18.941495348837208,
          3.7767896296296293,
          15.164454545454547,
          -10.896870743405275,
          7.0096125925925925,
          -7.018326666666667,
          4.446623484848485,
          -2.5116830882352943,
          2.2770377777777773,
          -1.262686666666667,
          6.922614074074074,
          -0.23260220588235248,
          4.756461428571428,
          1.750896402877698,
          3.290833095238095,
          3.726818794326241,
          2.8896475524475522,
          7.161700694444445,
          3.826842361111111,
          -2.933361538461538,
          -7.388306428571429,
          20.61095,
          -9.385560952380953,
          3.8901271428571436,
          16.79926524822695,
          -0.08761689497716763,
          20.791414761904765,
          -0.36875071428571626,
          0.9773304964539008,
          15.227907342657343,
          -1.1081166666666666,
          1.9548678321678319,
          15.87051081081081,
          10.351488356164383,
          8.183268867924529,
          10.515483018867926,
          -19.28818846153846,
          -3.715487861271676,
          2.129925568181818,
          -4.190327906976744,
          3.3916517045454544,
          4.574448314606741,
          0.9789520231213871,
          -10.413160795454546,
          15.742645714285715,
          33.034224011299436,
          0.875978698224852,
          7.4662647398843935
         ],
         "xaxis": "x",
         "yaxis": "y"
        }
       ],
       "layout": {
        "barmode": "relative",
        "legend": {
         "tracegroupgap": 0
        },
        "template": {
         "data": {
          "bar": [
           {
            "error_x": {
             "color": "#2a3f5f"
            },
            "error_y": {
             "color": "#2a3f5f"
            },
            "marker": {
             "line": {
              "color": "#E5ECF6",
              "width": 0.5
             },
             "pattern": {
              "fillmode": "overlay",
              "size": 10,
              "solidity": 0.2
             }
            },
            "type": "bar"
           }
          ],
          "barpolar": [
           {
            "marker": {
             "line": {
              "color": "#E5ECF6",
              "width": 0.5
             },
             "pattern": {
              "fillmode": "overlay",
              "size": 10,
              "solidity": 0.2
             }
            },
            "type": "barpolar"
           }
          ],
          "carpet": [
           {
            "aaxis": {
             "endlinecolor": "#2a3f5f",
             "gridcolor": "white",
             "linecolor": "white",
             "minorgridcolor": "white",
             "startlinecolor": "#2a3f5f"
            },
            "baxis": {
             "endlinecolor": "#2a3f5f",
             "gridcolor": "white",
             "linecolor": "white",
             "minorgridcolor": "white",
             "startlinecolor": "#2a3f5f"
            },
            "type": "carpet"
           }
          ],
          "choropleth": [
           {
            "colorbar": {
             "outlinewidth": 0,
             "ticks": ""
            },
            "type": "choropleth"
           }
          ],
          "contour": [
           {
            "colorbar": {
             "outlinewidth": 0,
             "ticks": ""
            },
            "colorscale": [
             [
              0,
              "#0d0887"
             ],
             [
              0.1111111111111111,
              "#46039f"
             ],
             [
              0.2222222222222222,
              "#7201a8"
             ],
             [
              0.3333333333333333,
              "#9c179e"
             ],
             [
              0.4444444444444444,
              "#bd3786"
             ],
             [
              0.5555555555555556,
              "#d8576b"
             ],
             [
              0.6666666666666666,
              "#ed7953"
             ],
             [
              0.7777777777777778,
              "#fb9f3a"
             ],
             [
              0.8888888888888888,
              "#fdca26"
             ],
             [
              1,
              "#f0f921"
             ]
            ],
            "type": "contour"
           }
          ],
          "contourcarpet": [
           {
            "colorbar": {
             "outlinewidth": 0,
             "ticks": ""
            },
            "type": "contourcarpet"
           }
          ],
          "heatmap": [
           {
            "colorbar": {
             "outlinewidth": 0,
             "ticks": ""
            },
            "colorscale": [
             [
              0,
              "#0d0887"
             ],
             [
              0.1111111111111111,
              "#46039f"
             ],
             [
              0.2222222222222222,
              "#7201a8"
             ],
             [
              0.3333333333333333,
              "#9c179e"
             ],
             [
              0.4444444444444444,
              "#bd3786"
             ],
             [
              0.5555555555555556,
              "#d8576b"
             ],
             [
              0.6666666666666666,
              "#ed7953"
             ],
             [
              0.7777777777777778,
              "#fb9f3a"
             ],
             [
              0.8888888888888888,
              "#fdca26"
             ],
             [
              1,
              "#f0f921"
             ]
            ],
            "type": "heatmap"
           }
          ],
          "heatmapgl": [
           {
            "colorbar": {
             "outlinewidth": 0,
             "ticks": ""
            },
            "colorscale": [
             [
              0,
              "#0d0887"
             ],
             [
              0.1111111111111111,
              "#46039f"
             ],
             [
              0.2222222222222222,
              "#7201a8"
             ],
             [
              0.3333333333333333,
              "#9c179e"
             ],
             [
              0.4444444444444444,
              "#bd3786"
             ],
             [
              0.5555555555555556,
              "#d8576b"
             ],
             [
              0.6666666666666666,
              "#ed7953"
             ],
             [
              0.7777777777777778,
              "#fb9f3a"
             ],
             [
              0.8888888888888888,
              "#fdca26"
             ],
             [
              1,
              "#f0f921"
             ]
            ],
            "type": "heatmapgl"
           }
          ],
          "histogram": [
           {
            "marker": {
             "pattern": {
              "fillmode": "overlay",
              "size": 10,
              "solidity": 0.2
             }
            },
            "type": "histogram"
           }
          ],
          "histogram2d": [
           {
            "colorbar": {
             "outlinewidth": 0,
             "ticks": ""
            },
            "colorscale": [
             [
              0,
              "#0d0887"
             ],
             [
              0.1111111111111111,
              "#46039f"
             ],
             [
              0.2222222222222222,
              "#7201a8"
             ],
             [
              0.3333333333333333,
              "#9c179e"
             ],
             [
              0.4444444444444444,
              "#bd3786"
             ],
             [
              0.5555555555555556,
              "#d8576b"
             ],
             [
              0.6666666666666666,
              "#ed7953"
             ],
             [
              0.7777777777777778,
              "#fb9f3a"
             ],
             [
              0.8888888888888888,
              "#fdca26"
             ],
             [
              1,
              "#f0f921"
             ]
            ],
            "type": "histogram2d"
           }
          ],
          "histogram2dcontour": [
           {
            "colorbar": {
             "outlinewidth": 0,
             "ticks": ""
            },
            "colorscale": [
             [
              0,
              "#0d0887"
             ],
             [
              0.1111111111111111,
              "#46039f"
             ],
             [
              0.2222222222222222,
              "#7201a8"
             ],
             [
              0.3333333333333333,
              "#9c179e"
             ],
             [
              0.4444444444444444,
              "#bd3786"
             ],
             [
              0.5555555555555556,
              "#d8576b"
             ],
             [
              0.6666666666666666,
              "#ed7953"
             ],
             [
              0.7777777777777778,
              "#fb9f3a"
             ],
             [
              0.8888888888888888,
              "#fdca26"
             ],
             [
              1,
              "#f0f921"
             ]
            ],
            "type": "histogram2dcontour"
           }
          ],
          "mesh3d": [
           {
            "colorbar": {
             "outlinewidth": 0,
             "ticks": ""
            },
            "type": "mesh3d"
           }
          ],
          "parcoords": [
           {
            "line": {
             "colorbar": {
              "outlinewidth": 0,
              "ticks": ""
             }
            },
            "type": "parcoords"
           }
          ],
          "pie": [
           {
            "automargin": true,
            "type": "pie"
           }
          ],
          "scatter": [
           {
            "marker": {
             "colorbar": {
              "outlinewidth": 0,
              "ticks": ""
             }
            },
            "type": "scatter"
           }
          ],
          "scatter3d": [
           {
            "line": {
             "colorbar": {
              "outlinewidth": 0,
              "ticks": ""
             }
            },
            "marker": {
             "colorbar": {
              "outlinewidth": 0,
              "ticks": ""
             }
            },
            "type": "scatter3d"
           }
          ],
          "scattercarpet": [
           {
            "marker": {
             "colorbar": {
              "outlinewidth": 0,
              "ticks": ""
             }
            },
            "type": "scattercarpet"
           }
          ],
          "scattergeo": [
           {
            "marker": {
             "colorbar": {
              "outlinewidth": 0,
              "ticks": ""
             }
            },
            "type": "scattergeo"
           }
          ],
          "scattergl": [
           {
            "marker": {
             "colorbar": {
              "outlinewidth": 0,
              "ticks": ""
             }
            },
            "type": "scattergl"
           }
          ],
          "scattermapbox": [
           {
            "marker": {
             "colorbar": {
              "outlinewidth": 0,
              "ticks": ""
             }
            },
            "type": "scattermapbox"
           }
          ],
          "scatterpolar": [
           {
            "marker": {
             "colorbar": {
              "outlinewidth": 0,
              "ticks": ""
             }
            },
            "type": "scatterpolar"
           }
          ],
          "scatterpolargl": [
           {
            "marker": {
             "colorbar": {
              "outlinewidth": 0,
              "ticks": ""
             }
            },
            "type": "scatterpolargl"
           }
          ],
          "scatterternary": [
           {
            "marker": {
             "colorbar": {
              "outlinewidth": 0,
              "ticks": ""
             }
            },
            "type": "scatterternary"
           }
          ],
          "surface": [
           {
            "colorbar": {
             "outlinewidth": 0,
             "ticks": ""
            },
            "colorscale": [
             [
              0,
              "#0d0887"
             ],
             [
              0.1111111111111111,
              "#46039f"
             ],
             [
              0.2222222222222222,
              "#7201a8"
             ],
             [
              0.3333333333333333,
              "#9c179e"
             ],
             [
              0.4444444444444444,
              "#bd3786"
             ],
             [
              0.5555555555555556,
              "#d8576b"
             ],
             [
              0.6666666666666666,
              "#ed7953"
             ],
             [
              0.7777777777777778,
              "#fb9f3a"
             ],
             [
              0.8888888888888888,
              "#fdca26"
             ],
             [
              1,
              "#f0f921"
             ]
            ],
            "type": "surface"
           }
          ],
          "table": [
           {
            "cells": {
             "fill": {
              "color": "#EBF0F8"
             },
             "line": {
              "color": "white"
             }
            },
            "header": {
             "fill": {
              "color": "#C8D4E3"
             },
             "line": {
              "color": "white"
             }
            },
            "type": "table"
           }
          ]
         },
         "layout": {
          "annotationdefaults": {
           "arrowcolor": "#2a3f5f",
           "arrowhead": 0,
           "arrowwidth": 1
          },
          "autotypenumbers": "strict",
          "coloraxis": {
           "colorbar": {
            "outlinewidth": 0,
            "ticks": ""
           }
          },
          "colorscale": {
           "diverging": [
            [
             0,
             "#8e0152"
            ],
            [
             0.1,
             "#c51b7d"
            ],
            [
             0.2,
             "#de77ae"
            ],
            [
             0.3,
             "#f1b6da"
            ],
            [
             0.4,
             "#fde0ef"
            ],
            [
             0.5,
             "#f7f7f7"
            ],
            [
             0.6,
             "#e6f5d0"
            ],
            [
             0.7,
             "#b8e186"
            ],
            [
             0.8,
             "#7fbc41"
            ],
            [
             0.9,
             "#4d9221"
            ],
            [
             1,
             "#276419"
            ]
           ],
           "sequential": [
            [
             0,
             "#0d0887"
            ],
            [
             0.1111111111111111,
             "#46039f"
            ],
            [
             0.2222222222222222,
             "#7201a8"
            ],
            [
             0.3333333333333333,
             "#9c179e"
            ],
            [
             0.4444444444444444,
             "#bd3786"
            ],
            [
             0.5555555555555556,
             "#d8576b"
            ],
            [
             0.6666666666666666,
             "#ed7953"
            ],
            [
             0.7777777777777778,
             "#fb9f3a"
            ],
            [
             0.8888888888888888,
             "#fdca26"
            ],
            [
             1,
             "#f0f921"
            ]
           ],
           "sequentialminus": [
            [
             0,
             "#0d0887"
            ],
            [
             0.1111111111111111,
             "#46039f"
            ],
            [
             0.2222222222222222,
             "#7201a8"
            ],
            [
             0.3333333333333333,
             "#9c179e"
            ],
            [
             0.4444444444444444,
             "#bd3786"
            ],
            [
             0.5555555555555556,
             "#d8576b"
            ],
            [
             0.6666666666666666,
             "#ed7953"
            ],
            [
             0.7777777777777778,
             "#fb9f3a"
            ],
            [
             0.8888888888888888,
             "#fdca26"
            ],
            [
             1,
             "#f0f921"
            ]
           ]
          },
          "colorway": [
           "#636efa",
           "#EF553B",
           "#00cc96",
           "#ab63fa",
           "#FFA15A",
           "#19d3f3",
           "#FF6692",
           "#B6E880",
           "#FF97FF",
           "#FECB52"
          ],
          "font": {
           "color": "#2a3f5f"
          },
          "geo": {
           "bgcolor": "white",
           "lakecolor": "white",
           "landcolor": "#E5ECF6",
           "showlakes": true,
           "showland": true,
           "subunitcolor": "white"
          },
          "hoverlabel": {
           "align": "left"
          },
          "hovermode": "closest",
          "mapbox": {
           "style": "light"
          },
          "paper_bgcolor": "white",
          "plot_bgcolor": "#E5ECF6",
          "polar": {
           "angularaxis": {
            "gridcolor": "white",
            "linecolor": "white",
            "ticks": ""
           },
           "bgcolor": "#E5ECF6",
           "radialaxis": {
            "gridcolor": "white",
            "linecolor": "white",
            "ticks": ""
           }
          },
          "scene": {
           "xaxis": {
            "backgroundcolor": "#E5ECF6",
            "gridcolor": "white",
            "gridwidth": 2,
            "linecolor": "white",
            "showbackground": true,
            "ticks": "",
            "zerolinecolor": "white"
           },
           "yaxis": {
            "backgroundcolor": "#E5ECF6",
            "gridcolor": "white",
            "gridwidth": 2,
            "linecolor": "white",
            "showbackground": true,
            "ticks": "",
            "zerolinecolor": "white"
           },
           "zaxis": {
            "backgroundcolor": "#E5ECF6",
            "gridcolor": "white",
            "gridwidth": 2,
            "linecolor": "white",
            "showbackground": true,
            "ticks": "",
            "zerolinecolor": "white"
           }
          },
          "shapedefaults": {
           "line": {
            "color": "#2a3f5f"
           }
          },
          "ternary": {
           "aaxis": {
            "gridcolor": "white",
            "linecolor": "white",
            "ticks": ""
           },
           "baxis": {
            "gridcolor": "white",
            "linecolor": "white",
            "ticks": ""
           },
           "bgcolor": "#E5ECF6",
           "caxis": {
            "gridcolor": "white",
            "linecolor": "white",
            "ticks": ""
           }
          },
          "title": {
           "x": 0.05
          },
          "xaxis": {
           "automargin": true,
           "gridcolor": "white",
           "linecolor": "white",
           "ticks": "",
           "title": {
            "standoff": 15
           },
           "zerolinecolor": "white",
           "zerolinewidth": 2
          },
          "yaxis": {
           "automargin": true,
           "gridcolor": "white",
           "linecolor": "white",
           "ticks": "",
           "title": {
            "standoff": 15
           },
           "zerolinecolor": "white",
           "zerolinewidth": 2
          }
         }
        },
        "title": {
         "text": "Difference Distribution"
        },
        "xaxis": {
         "anchor": "y",
         "domain": [
          0,
          1
         ],
         "title": {
          "text": "diff"
         }
        },
        "yaxis": {
         "anchor": "x",
         "domain": [
          0,
          1
         ],
         "title": {
          "text": "count"
         }
        }
       }
      }
     },
     "metadata": {},
     "output_type": "display_data"
    }
   ],
   "source": [
    "#Histogram of differences\n",
    "fig = px.histogram(diff_df, x=\"diff\", nbins=100, title=\"Difference Distribution\")\n",
    "fig.show()\n"
   ]
  },
  {
   "cell_type": "code",
   "execution_count": null,
   "metadata": {},
   "outputs": [],
   "source": []
  },
  {
   "cell_type": "code",
   "execution_count": null,
   "metadata": {},
   "outputs": [],
   "source": []
  },
  {
   "cell_type": "code",
   "execution_count": null,
   "metadata": {},
   "outputs": [],
   "source": []
  },
  {
   "cell_type": "code",
   "execution_count": null,
   "metadata": {},
   "outputs": [
    {
     "data": {
      "text/html": [
       "<div>\n",
       "<style scoped>\n",
       "    .dataframe tbody tr th:only-of-type {\n",
       "        vertical-align: middle;\n",
       "    }\n",
       "\n",
       "    .dataframe tbody tr th {\n",
       "        vertical-align: top;\n",
       "    }\n",
       "\n",
       "    .dataframe thead th {\n",
       "        text-align: right;\n",
       "    }\n",
       "</style>\n",
       "<table border=\"1\" class=\"dataframe\">\n",
       "  <thead>\n",
       "    <tr style=\"text-align: right;\">\n",
       "      <th></th>\n",
       "      <th>date</th>\n",
       "      <th>gvkey</th>\n",
       "      <th>beta</th>\n",
       "      <th>t-stat</th>\n",
       "      <th>CPI</th>\n",
       "      <th>diff</th>\n",
       "      <th>diff_of_diff</th>\n",
       "      <th>shifted_date</th>\n",
       "    </tr>\n",
       "  </thead>\n",
       "  <tbody>\n",
       "    <tr>\n",
       "      <th>0</th>\n",
       "      <td>2005-06-30</td>\n",
       "      <td>1009</td>\n",
       "      <td>-80.726283</td>\n",
       "      <td>-2.218897</td>\n",
       "      <td>3.06716</td>\n",
       "      <td>0.52613</td>\n",
       "      <td>0.85439</td>\n",
       "      <td>2005-07-31</td>\n",
       "    </tr>\n",
       "    <tr>\n",
       "      <th>1</th>\n",
       "      <td>2005-08-31</td>\n",
       "      <td>1009</td>\n",
       "      <td>-67.091382</td>\n",
       "      <td>-2.585226</td>\n",
       "      <td>4.74183</td>\n",
       "      <td>1.09490</td>\n",
       "      <td>0.51513</td>\n",
       "      <td>2005-09-30</td>\n",
       "    </tr>\n",
       "    <tr>\n",
       "      <th>2</th>\n",
       "      <td>2005-09-30</td>\n",
       "      <td>1009</td>\n",
       "      <td>-69.886995</td>\n",
       "      <td>-2.946334</td>\n",
       "      <td>4.35010</td>\n",
       "      <td>-0.39173</td>\n",
       "      <td>-1.48663</td>\n",
       "      <td>2005-10-31</td>\n",
       "    </tr>\n",
       "    <tr>\n",
       "      <th>3</th>\n",
       "      <td>2005-11-30</td>\n",
       "      <td>1009</td>\n",
       "      <td>-68.970612</td>\n",
       "      <td>-2.773012</td>\n",
       "      <td>3.33855</td>\n",
       "      <td>0.00000</td>\n",
       "      <td>1.01155</td>\n",
       "      <td>2005-12-31</td>\n",
       "    </tr>\n",
       "    <tr>\n",
       "      <th>4</th>\n",
       "      <td>2006-02-28</td>\n",
       "      <td>1009</td>\n",
       "      <td>-53.971757</td>\n",
       "      <td>-2.121254</td>\n",
       "      <td>3.41792</td>\n",
       "      <td>-0.22033</td>\n",
       "      <td>0.16021</td>\n",
       "      <td>2006-03-31</td>\n",
       "    </tr>\n",
       "    <tr>\n",
       "      <th>...</th>\n",
       "      <td>...</td>\n",
       "      <td>...</td>\n",
       "      <td>...</td>\n",
       "      <td>...</td>\n",
       "      <td>...</td>\n",
       "      <td>...</td>\n",
       "      <td>...</td>\n",
       "      <td>...</td>\n",
       "    </tr>\n",
       "    <tr>\n",
       "      <th>369622</th>\n",
       "      <td>2017-06-30</td>\n",
       "      <td>351371</td>\n",
       "      <td>-43.139448</td>\n",
       "      <td>-2.299032</td>\n",
       "      <td>1.72511</td>\n",
       "      <td>0.08454</td>\n",
       "      <td>0.30031</td>\n",
       "      <td>2017-07-31</td>\n",
       "    </tr>\n",
       "    <tr>\n",
       "      <th>369623</th>\n",
       "      <td>2017-07-31</td>\n",
       "      <td>351371</td>\n",
       "      <td>-43.319004</td>\n",
       "      <td>-2.434378</td>\n",
       "      <td>1.92812</td>\n",
       "      <td>0.20301</td>\n",
       "      <td>0.11847</td>\n",
       "      <td>2017-08-31</td>\n",
       "    </tr>\n",
       "    <tr>\n",
       "      <th>369624</th>\n",
       "      <td>2017-08-31</td>\n",
       "      <td>351371</td>\n",
       "      <td>-42.764813</td>\n",
       "      <td>-2.535639</td>\n",
       "      <td>2.18057</td>\n",
       "      <td>0.25245</td>\n",
       "      <td>0.04944</td>\n",
       "      <td>2017-09-30</td>\n",
       "    </tr>\n",
       "    <tr>\n",
       "      <th>369625</th>\n",
       "      <td>2018-10-31</td>\n",
       "      <td>351371</td>\n",
       "      <td>-34.040645</td>\n",
       "      <td>-2.168523</td>\n",
       "      <td>2.14733</td>\n",
       "      <td>-0.34470</td>\n",
       "      <td>-0.50467</td>\n",
       "      <td>2018-11-30</td>\n",
       "    </tr>\n",
       "    <tr>\n",
       "      <th>369626</th>\n",
       "      <td>2018-11-30</td>\n",
       "      <td>351371</td>\n",
       "      <td>-33.035438</td>\n",
       "      <td>-2.160999</td>\n",
       "      <td>2.00238</td>\n",
       "      <td>-0.14495</td>\n",
       "      <td>0.19975</td>\n",
       "      <td>2018-12-31</td>\n",
       "    </tr>\n",
       "  </tbody>\n",
       "</table>\n",
       "<p>369627 rows × 8 columns</p>\n",
       "</div>"
      ],
      "text/plain": [
       "             date   gvkey       beta    t-stat      CPI     diff  \\\n",
       "0      2005-06-30    1009 -80.726283 -2.218897  3.06716  0.52613   \n",
       "1      2005-08-31    1009 -67.091382 -2.585226  4.74183  1.09490   \n",
       "2      2005-09-30    1009 -69.886995 -2.946334  4.35010 -0.39173   \n",
       "3      2005-11-30    1009 -68.970612 -2.773012  3.33855  0.00000   \n",
       "4      2006-02-28    1009 -53.971757 -2.121254  3.41792 -0.22033   \n",
       "...           ...     ...        ...       ...      ...      ...   \n",
       "369622 2017-06-30  351371 -43.139448 -2.299032  1.72511  0.08454   \n",
       "369623 2017-07-31  351371 -43.319004 -2.434378  1.92812  0.20301   \n",
       "369624 2017-08-31  351371 -42.764813 -2.535639  2.18057  0.25245   \n",
       "369625 2018-10-31  351371 -34.040645 -2.168523  2.14733 -0.34470   \n",
       "369626 2018-11-30  351371 -33.035438 -2.160999  2.00238 -0.14495   \n",
       "\n",
       "        diff_of_diff shifted_date  \n",
       "0            0.85439   2005-07-31  \n",
       "1            0.51513   2005-09-30  \n",
       "2           -1.48663   2005-10-31  \n",
       "3            1.01155   2005-12-31  \n",
       "4            0.16021   2006-03-31  \n",
       "...              ...          ...  \n",
       "369622       0.30031   2017-07-31  \n",
       "369623       0.11847   2017-08-31  \n",
       "369624       0.04944   2017-09-30  \n",
       "369625      -0.50467   2018-11-30  \n",
       "369626       0.19975   2018-12-31  \n",
       "\n",
       "[369627 rows x 8 columns]"
      ]
     },
     "metadata": {},
     "output_type": "display_data"
    }
   ],
   "source": []
  },
  {
   "cell_type": "code",
   "execution_count": null,
   "metadata": {},
   "outputs": [
    {
     "data": {
      "text/html": [
       "<div>\n",
       "<style scoped>\n",
       "    .dataframe tbody tr th:only-of-type {\n",
       "        vertical-align: middle;\n",
       "    }\n",
       "\n",
       "    .dataframe tbody tr th {\n",
       "        vertical-align: top;\n",
       "    }\n",
       "\n",
       "    .dataframe thead th {\n",
       "        text-align: right;\n",
       "    }\n",
       "</style>\n",
       "<table border=\"1\" class=\"dataframe\">\n",
       "  <thead>\n",
       "    <tr style=\"text-align: right;\">\n",
       "      <th></th>\n",
       "      <th>date</th>\n",
       "      <th>gvkey</th>\n",
       "      <th>beta</th>\n",
       "      <th>t-stat</th>\n",
       "      <th>CPI</th>\n",
       "      <th>diff</th>\n",
       "      <th>diff_of_diff</th>\n",
       "      <th>shifted_date</th>\n",
       "      <th>pred_diff</th>\n",
       "      <th>pred_diff of diff</th>\n",
       "    </tr>\n",
       "  </thead>\n",
       "  <tbody>\n",
       "    <tr>\n",
       "      <th>0</th>\n",
       "      <td>2005-06-30</td>\n",
       "      <td>1009</td>\n",
       "      <td>-80.726283</td>\n",
       "      <td>-2.218897</td>\n",
       "      <td>3.06716</td>\n",
       "      <td>0.52613</td>\n",
       "      <td>0.85439</td>\n",
       "      <td>2005-07-31</td>\n",
       "      <td>1.09490</td>\n",
       "      <td>0.51513</td>\n",
       "    </tr>\n",
       "    <tr>\n",
       "      <th>1</th>\n",
       "      <td>2005-08-31</td>\n",
       "      <td>1009</td>\n",
       "      <td>-67.091382</td>\n",
       "      <td>-2.585226</td>\n",
       "      <td>4.74183</td>\n",
       "      <td>1.09490</td>\n",
       "      <td>0.51513</td>\n",
       "      <td>2005-09-30</td>\n",
       "      <td>-0.39173</td>\n",
       "      <td>-1.48663</td>\n",
       "    </tr>\n",
       "    <tr>\n",
       "      <th>2</th>\n",
       "      <td>2005-09-30</td>\n",
       "      <td>1009</td>\n",
       "      <td>-69.886995</td>\n",
       "      <td>-2.946334</td>\n",
       "      <td>4.35010</td>\n",
       "      <td>-0.39173</td>\n",
       "      <td>-1.48663</td>\n",
       "      <td>2005-10-31</td>\n",
       "      <td>0.00000</td>\n",
       "      <td>1.01155</td>\n",
       "    </tr>\n",
       "    <tr>\n",
       "      <th>3</th>\n",
       "      <td>2005-11-30</td>\n",
       "      <td>1009</td>\n",
       "      <td>-68.970612</td>\n",
       "      <td>-2.773012</td>\n",
       "      <td>3.33855</td>\n",
       "      <td>0.00000</td>\n",
       "      <td>1.01155</td>\n",
       "      <td>2005-12-31</td>\n",
       "      <td>-0.22033</td>\n",
       "      <td>0.16021</td>\n",
       "    </tr>\n",
       "    <tr>\n",
       "      <th>4</th>\n",
       "      <td>2006-02-28</td>\n",
       "      <td>1009</td>\n",
       "      <td>-53.971757</td>\n",
       "      <td>-2.121254</td>\n",
       "      <td>3.41792</td>\n",
       "      <td>-0.22033</td>\n",
       "      <td>0.16021</td>\n",
       "      <td>2006-03-31</td>\n",
       "      <td>0.19592</td>\n",
       "      <td>0.41625</td>\n",
       "    </tr>\n",
       "    <tr>\n",
       "      <th>...</th>\n",
       "      <td>...</td>\n",
       "      <td>...</td>\n",
       "      <td>...</td>\n",
       "      <td>...</td>\n",
       "      <td>...</td>\n",
       "      <td>...</td>\n",
       "      <td>...</td>\n",
       "      <td>...</td>\n",
       "      <td>...</td>\n",
       "      <td>...</td>\n",
       "    </tr>\n",
       "    <tr>\n",
       "      <th>369622</th>\n",
       "      <td>2017-06-30</td>\n",
       "      <td>351371</td>\n",
       "      <td>-43.139448</td>\n",
       "      <td>-2.299032</td>\n",
       "      <td>1.72511</td>\n",
       "      <td>0.08454</td>\n",
       "      <td>0.30031</td>\n",
       "      <td>2017-07-31</td>\n",
       "      <td>0.20301</td>\n",
       "      <td>0.11847</td>\n",
       "    </tr>\n",
       "    <tr>\n",
       "      <th>369623</th>\n",
       "      <td>2017-07-31</td>\n",
       "      <td>351371</td>\n",
       "      <td>-43.319004</td>\n",
       "      <td>-2.434378</td>\n",
       "      <td>1.92812</td>\n",
       "      <td>0.20301</td>\n",
       "      <td>0.11847</td>\n",
       "      <td>2017-08-31</td>\n",
       "      <td>0.25245</td>\n",
       "      <td>0.04944</td>\n",
       "    </tr>\n",
       "    <tr>\n",
       "      <th>369624</th>\n",
       "      <td>2017-08-31</td>\n",
       "      <td>351371</td>\n",
       "      <td>-42.764813</td>\n",
       "      <td>-2.535639</td>\n",
       "      <td>2.18057</td>\n",
       "      <td>0.25245</td>\n",
       "      <td>0.04944</td>\n",
       "      <td>2017-09-30</td>\n",
       "      <td>-0.34470</td>\n",
       "      <td>-0.50467</td>\n",
       "    </tr>\n",
       "    <tr>\n",
       "      <th>369625</th>\n",
       "      <td>2018-10-31</td>\n",
       "      <td>351371</td>\n",
       "      <td>-34.040645</td>\n",
       "      <td>-2.168523</td>\n",
       "      <td>2.14733</td>\n",
       "      <td>-0.34470</td>\n",
       "      <td>-0.50467</td>\n",
       "      <td>2018-11-30</td>\n",
       "      <td>-0.14495</td>\n",
       "      <td>0.19975</td>\n",
       "    </tr>\n",
       "    <tr>\n",
       "      <th>369626</th>\n",
       "      <td>2018-11-30</td>\n",
       "      <td>351371</td>\n",
       "      <td>-33.035438</td>\n",
       "      <td>-2.160999</td>\n",
       "      <td>2.00238</td>\n",
       "      <td>-0.14495</td>\n",
       "      <td>0.19975</td>\n",
       "      <td>2018-12-31</td>\n",
       "      <td>NaN</td>\n",
       "      <td>NaN</td>\n",
       "    </tr>\n",
       "  </tbody>\n",
       "</table>\n",
       "<p>369627 rows × 10 columns</p>\n",
       "</div>"
      ],
      "text/plain": [
       "             date   gvkey       beta    t-stat      CPI     diff  \\\n",
       "0      2005-06-30    1009 -80.726283 -2.218897  3.06716  0.52613   \n",
       "1      2005-08-31    1009 -67.091382 -2.585226  4.74183  1.09490   \n",
       "2      2005-09-30    1009 -69.886995 -2.946334  4.35010 -0.39173   \n",
       "3      2005-11-30    1009 -68.970612 -2.773012  3.33855  0.00000   \n",
       "4      2006-02-28    1009 -53.971757 -2.121254  3.41792 -0.22033   \n",
       "...           ...     ...        ...       ...      ...      ...   \n",
       "369622 2017-06-30  351371 -43.139448 -2.299032  1.72511  0.08454   \n",
       "369623 2017-07-31  351371 -43.319004 -2.434378  1.92812  0.20301   \n",
       "369624 2017-08-31  351371 -42.764813 -2.535639  2.18057  0.25245   \n",
       "369625 2018-10-31  351371 -34.040645 -2.168523  2.14733 -0.34470   \n",
       "369626 2018-11-30  351371 -33.035438 -2.160999  2.00238 -0.14495   \n",
       "\n",
       "        diff_of_diff shifted_date  pred_diff  pred_diff of diff  \n",
       "0            0.85439   2005-07-31    1.09490            0.51513  \n",
       "1            0.51513   2005-09-30   -0.39173           -1.48663  \n",
       "2           -1.48663   2005-10-31    0.00000            1.01155  \n",
       "3            1.01155   2005-12-31   -0.22033            0.16021  \n",
       "4            0.16021   2006-03-31    0.19592            0.41625  \n",
       "...              ...          ...        ...                ...  \n",
       "369622       0.30031   2017-07-31    0.20301            0.11847  \n",
       "369623       0.11847   2017-08-31    0.25245            0.04944  \n",
       "369624       0.04944   2017-09-30   -0.34470           -0.50467  \n",
       "369625      -0.50467   2018-11-30   -0.14495            0.19975  \n",
       "369626       0.19975   2018-12-31        NaN                NaN  \n",
       "\n",
       "[369627 rows x 10 columns]"
      ]
     },
     "metadata": {},
     "output_type": "display_data"
    }
   ],
   "source": []
  },
  {
   "cell_type": "code",
   "execution_count": null,
   "metadata": {},
   "outputs": [],
   "source": [
    "sig_stocks = sig_stocks.sort_values(\"date\")"
   ]
  },
  {
   "cell_type": "markdown",
   "metadata": {},
   "source": [
    "# port const"
   ]
  },
  {
   "cell_type": "code",
   "execution_count": null,
   "metadata": {},
   "outputs": [],
   "source": [
    "#Given a month, return the long and short stocks for next period\n",
    "def long_short(sig_stocks,date):\n",
    "    sig_stocks= sig_stocks[sig_stocks[\"date\"]==date]\n",
    "    \n",
    "    #get direction of month...all the same\n",
    "    direction=sig_stocks[\"pred_diff\"].mean()\n",
    "\n",
    "    #get only ones that are significant\n",
    "    if direction < 0:\n",
    "        long_stocks=sig_stocks[sig_stocks[\"beta\"]<0]\n",
    "        # long_stocks[\"bin\"]=pd.qcut(long_stocks[\"beta\"], 4, labels=[\"L\", \"1\", \"2\", \"H\"])\n",
    "\n",
    "        short_stocks=sig_stocks[sig_stocks[\"beta\"]>0]\n",
    "        #short_stocks[\"bin\"]=pd.qcut(short_stocks[\"beta\"], 4, labels=[\"L\", \"1\", \"2\", \"H\"])\n",
    "\n",
    "        # long_stocks = long_stocks[long_stocks[\"bin\"] == \"L\"]\n",
    "        #short_stocks = short_stocks[short_stocks[\"bin\"] == \"H\"]\n",
    "\n",
    "    else:\n",
    "        long_stocks=sig_stocks[sig_stocks[\"beta\"]>0]\n",
    "        #long_stocks[\"bin\"]=pd.qcut(long_stocks[\"beta\"], 4, labels=[\"L\", \"1\", \"2\", \"H\"])\n",
    "\n",
    "        short_stocks=sig_stocks[sig_stocks[\"beta\"]<0]\n",
    "        # short_stocks[\"bin\"]=pd.qcut(short_stocks[\"beta\"], 4, labels=[\"L\", \"1\", \"2\", \"H\"])\n",
    "\n",
    "        #long_stocks = long_stocks[long_stocks[\"bin\"] == \"H\"]\n",
    "        # short_stocks = short_stocks[short_stocks[\"bin\"] == \"L\"]\n",
    "        \n",
    "    return long_stocks,short_stocks\n",
    "    #split into long and short"
   ]
  },
  {
   "cell_type": "code",
   "execution_count": null,
   "metadata": {},
   "outputs": [],
   "source": [
    "#loop through dates and get long and short stocks\n",
    "#make dictionary of long and short stocks\n",
    "long_dict={}\n",
    "short_dict={}\n",
    "\n",
    "long_short_dict={}\n",
    "\n",
    "for date in sig_stocks[\"date\"].unique():\n",
    "    long_stocks,short_stocks=long_short(sig_stocks,date)\n",
    "    long_short_dict[date] = {}\n",
    "    long_short_dict[date][\"long\"]=list(long_stocks.gvkey)\n",
    "    long_short_dict[date][\"short\"]=list(short_stocks.gvkey)\n",
    "\n",
    "    long_dict[date] = list(long_stocks.gvkey)\n",
    "    short_dict[date] = list(short_stocks.gvkey)\n",
    "\n"
   ]
  },
  {
   "cell_type": "code",
   "execution_count": null,
   "metadata": {},
   "outputs": [],
   "source": [
    "# combine \n",
    "portfolio = pd.DataFrame.from_dict(long_short_dict).T\n",
    "portfolio.reset_index(inplace=True)\n",
    "portfolio.columns = [\"date\", \"long\", \"short\"]"
   ]
  },
  {
   "cell_type": "code",
   "execution_count": null,
   "metadata": {},
   "outputs": [
    {
     "data": {
      "text/html": [
       "<div>\n",
       "<style scoped>\n",
       "    .dataframe tbody tr th:only-of-type {\n",
       "        vertical-align: middle;\n",
       "    }\n",
       "\n",
       "    .dataframe tbody tr th {\n",
       "        vertical-align: top;\n",
       "    }\n",
       "\n",
       "    .dataframe thead th {\n",
       "        text-align: right;\n",
       "    }\n",
       "</style>\n",
       "<table border=\"1\" class=\"dataframe\">\n",
       "  <thead>\n",
       "    <tr style=\"text-align: right;\">\n",
       "      <th></th>\n",
       "      <th>date</th>\n",
       "      <th>long</th>\n",
       "      <th>short</th>\n",
       "    </tr>\n",
       "  </thead>\n",
       "  <tbody>\n",
       "    <tr>\n",
       "      <th>0</th>\n",
       "      <td>2004-11-30</td>\n",
       "      <td>[8, 13, 14, 16, 37, 43, 44, 47, 51, 53, 57, 66...</td>\n",
       "      <td>[0, 1, 2, 3, 4, 5, 6, 7, 9, 10, 11, 12, 15, 17...</td>\n",
       "    </tr>\n",
       "    <tr>\n",
       "      <th>1</th>\n",
       "      <td>2004-12-31</td>\n",
       "      <td>[1285, 1286, 1289, 1290, 1292, 1293, 1294, 129...</td>\n",
       "      <td>[1287, 1288, 1291, 1296, 1308, 1309, 1310, 131...</td>\n",
       "    </tr>\n",
       "    <tr>\n",
       "      <th>2</th>\n",
       "      <td>2005-01-31</td>\n",
       "      <td>[2327, 2328, 2329, 2330, 2332, 2334, 2338, 233...</td>\n",
       "      <td>[2331, 2333, 2335, 2336, 2337, 2340, 2341, 234...</td>\n",
       "    </tr>\n",
       "    <tr>\n",
       "      <th>3</th>\n",
       "      <td>2005-02-28</td>\n",
       "      <td>[3273, 3274, 3278, 3279, 3281, 3282, 3284, 328...</td>\n",
       "      <td>[3275, 3276, 3277, 3280, 3283, 3285, 3286, 328...</td>\n",
       "    </tr>\n",
       "    <tr>\n",
       "      <th>4</th>\n",
       "      <td>2005-03-31</td>\n",
       "      <td>[4220, 4222, 4223, 4224, 4225, 4227, 4228, 422...</td>\n",
       "      <td>[4218, 4219, 4221, 4226, 4230, 4231, 4232, 423...</td>\n",
       "    </tr>\n",
       "    <tr>\n",
       "      <th>...</th>\n",
       "      <td>...</td>\n",
       "      <td>...</td>\n",
       "      <td>...</td>\n",
       "    </tr>\n",
       "    <tr>\n",
       "      <th>177</th>\n",
       "      <td>2019-08-31</td>\n",
       "      <td>[423710, 423711, 423712, 423713, 423715, 42371...</td>\n",
       "      <td>[423714, 423761, 423770, 423779, 423791, 42380...</td>\n",
       "    </tr>\n",
       "    <tr>\n",
       "      <th>178</th>\n",
       "      <td>2019-09-30</td>\n",
       "      <td>[426602, 426603, 426604, 426605, 426606, 42660...</td>\n",
       "      <td>[426692, 426693, 426948, 426979, 426987, 42717...</td>\n",
       "    </tr>\n",
       "    <tr>\n",
       "      <th>179</th>\n",
       "      <td>2019-10-31</td>\n",
       "      <td>[429489, 429490, 429491, 429492, 429493, 42949...</td>\n",
       "      <td>[429539, 429597, 429680, 429714, 429823, 42984...</td>\n",
       "    </tr>\n",
       "    <tr>\n",
       "      <th>180</th>\n",
       "      <td>2019-11-30</td>\n",
       "      <td>[432330, 432331, 432332, 432333, 432334, 43233...</td>\n",
       "      <td>[432501, 432520, 432521, 432581, 432670, 43269...</td>\n",
       "    </tr>\n",
       "    <tr>\n",
       "      <th>181</th>\n",
       "      <td>2019-12-31</td>\n",
       "      <td>[435207, 435210, 435260, 435450, 435478, 43548...</td>\n",
       "      <td>[435172, 435173, 435174, 435175, 435176, 43517...</td>\n",
       "    </tr>\n",
       "  </tbody>\n",
       "</table>\n",
       "<p>182 rows × 3 columns</p>\n",
       "</div>"
      ],
      "text/plain": [
       "          date                                               long  \\\n",
       "0   2004-11-30  [8, 13, 14, 16, 37, 43, 44, 47, 51, 53, 57, 66...   \n",
       "1   2004-12-31  [1285, 1286, 1289, 1290, 1292, 1293, 1294, 129...   \n",
       "2   2005-01-31  [2327, 2328, 2329, 2330, 2332, 2334, 2338, 233...   \n",
       "3   2005-02-28  [3273, 3274, 3278, 3279, 3281, 3282, 3284, 328...   \n",
       "4   2005-03-31  [4220, 4222, 4223, 4224, 4225, 4227, 4228, 422...   \n",
       "..         ...                                                ...   \n",
       "177 2019-08-31  [423710, 423711, 423712, 423713, 423715, 42371...   \n",
       "178 2019-09-30  [426602, 426603, 426604, 426605, 426606, 42660...   \n",
       "179 2019-10-31  [429489, 429490, 429491, 429492, 429493, 42949...   \n",
       "180 2019-11-30  [432330, 432331, 432332, 432333, 432334, 43233...   \n",
       "181 2019-12-31  [435207, 435210, 435260, 435450, 435478, 43548...   \n",
       "\n",
       "                                                 short  \n",
       "0    [0, 1, 2, 3, 4, 5, 6, 7, 9, 10, 11, 12, 15, 17...  \n",
       "1    [1287, 1288, 1291, 1296, 1308, 1309, 1310, 131...  \n",
       "2    [2331, 2333, 2335, 2336, 2337, 2340, 2341, 234...  \n",
       "3    [3275, 3276, 3277, 3280, 3283, 3285, 3286, 328...  \n",
       "4    [4218, 4219, 4221, 4226, 4230, 4231, 4232, 423...  \n",
       "..                                                 ...  \n",
       "177  [423714, 423761, 423770, 423779, 423791, 42380...  \n",
       "178  [426692, 426693, 426948, 426979, 426987, 42717...  \n",
       "179  [429539, 429597, 429680, 429714, 429823, 42984...  \n",
       "180  [432501, 432520, 432521, 432581, 432670, 43269...  \n",
       "181  [435172, 435173, 435174, 435175, 435176, 43517...  \n",
       "\n",
       "[182 rows x 3 columns]"
      ]
     },
     "metadata": {},
     "output_type": "display_data"
    }
   ],
   "source": [
    "portfolio"
   ]
  },
  {
   "cell_type": "code",
   "execution_count": null,
   "metadata": {},
   "outputs": [],
   "source": [
    "# get size of long from each row\n",
    "long_size = []\n",
    "short_size = []\n",
    "for i in range(len(portfolio)): \n",
    "    long_size.append(len(portfolio[\"long\"][i]))\n",
    "    short_size.append(len(portfolio[\"short\"][i]))"
   ]
  },
  {
   "cell_type": "code",
   "execution_count": null,
   "metadata": {},
   "outputs": [
    {
     "data": {
      "application/vnd.plotly.v1+json": {
       "config": {
        "plotlyServerURL": "https://plot.ly"
       },
       "data": [
        {
         "name": "long",
         "type": "scatter",
         "x": [
          "2004-11-30T00:00:00",
          "2004-12-31T00:00:00",
          "2005-01-31T00:00:00",
          "2005-02-28T00:00:00",
          "2005-03-31T00:00:00",
          "2005-04-30T00:00:00",
          "2005-05-31T00:00:00",
          "2005-06-30T00:00:00",
          "2005-07-31T00:00:00",
          "2005-08-31T00:00:00",
          "2005-09-30T00:00:00",
          "2005-10-31T00:00:00",
          "2005-11-30T00:00:00",
          "2005-12-31T00:00:00",
          "2006-01-31T00:00:00",
          "2006-02-28T00:00:00",
          "2006-03-31T00:00:00",
          "2006-04-30T00:00:00",
          "2006-05-31T00:00:00",
          "2006-06-30T00:00:00",
          "2006-07-31T00:00:00",
          "2006-08-31T00:00:00",
          "2006-09-30T00:00:00",
          "2006-10-31T00:00:00",
          "2006-11-30T00:00:00",
          "2006-12-31T00:00:00",
          "2007-01-31T00:00:00",
          "2007-02-28T00:00:00",
          "2007-03-31T00:00:00",
          "2007-04-30T00:00:00",
          "2007-05-31T00:00:00",
          "2007-06-30T00:00:00",
          "2007-07-31T00:00:00",
          "2007-08-31T00:00:00",
          "2007-09-30T00:00:00",
          "2007-10-31T00:00:00",
          "2007-11-30T00:00:00",
          "2007-12-31T00:00:00",
          "2008-01-31T00:00:00",
          "2008-02-29T00:00:00",
          "2008-03-31T00:00:00",
          "2008-04-30T00:00:00",
          "2008-05-31T00:00:00",
          "2008-06-30T00:00:00",
          "2008-07-31T00:00:00",
          "2008-08-31T00:00:00",
          "2008-09-30T00:00:00",
          "2008-10-31T00:00:00",
          "2008-11-30T00:00:00",
          "2008-12-31T00:00:00",
          "2009-01-31T00:00:00",
          "2009-02-28T00:00:00",
          "2009-03-31T00:00:00",
          "2009-04-30T00:00:00",
          "2009-05-31T00:00:00",
          "2009-06-30T00:00:00",
          "2009-07-31T00:00:00",
          "2009-08-31T00:00:00",
          "2009-09-30T00:00:00",
          "2009-10-31T00:00:00",
          "2009-11-30T00:00:00",
          "2009-12-31T00:00:00",
          "2010-01-31T00:00:00",
          "2010-02-28T00:00:00",
          "2010-03-31T00:00:00",
          "2010-04-30T00:00:00",
          "2010-05-31T00:00:00",
          "2010-06-30T00:00:00",
          "2010-07-31T00:00:00",
          "2010-08-31T00:00:00",
          "2010-09-30T00:00:00",
          "2010-10-31T00:00:00",
          "2010-11-30T00:00:00",
          "2010-12-31T00:00:00",
          "2011-01-31T00:00:00",
          "2011-02-28T00:00:00",
          "2011-03-31T00:00:00",
          "2011-04-30T00:00:00",
          "2011-05-31T00:00:00",
          "2011-06-30T00:00:00",
          "2011-07-31T00:00:00",
          "2011-08-31T00:00:00",
          "2011-09-30T00:00:00",
          "2011-10-31T00:00:00",
          "2011-11-30T00:00:00",
          "2011-12-31T00:00:00",
          "2012-01-31T00:00:00",
          "2012-02-29T00:00:00",
          "2012-03-31T00:00:00",
          "2012-04-30T00:00:00",
          "2012-05-31T00:00:00",
          "2012-06-30T00:00:00",
          "2012-07-31T00:00:00",
          "2012-08-31T00:00:00",
          "2012-09-30T00:00:00",
          "2012-10-31T00:00:00",
          "2012-11-30T00:00:00",
          "2012-12-31T00:00:00",
          "2013-01-31T00:00:00",
          "2013-02-28T00:00:00",
          "2013-03-31T00:00:00",
          "2013-04-30T00:00:00",
          "2013-05-31T00:00:00",
          "2013-06-30T00:00:00",
          "2013-07-31T00:00:00",
          "2013-08-31T00:00:00",
          "2013-09-30T00:00:00",
          "2013-10-31T00:00:00",
          "2013-11-30T00:00:00",
          "2013-12-31T00:00:00",
          "2014-01-31T00:00:00",
          "2014-02-28T00:00:00",
          "2014-03-31T00:00:00",
          "2014-04-30T00:00:00",
          "2014-05-31T00:00:00",
          "2014-06-30T00:00:00",
          "2014-07-31T00:00:00",
          "2014-08-31T00:00:00",
          "2014-09-30T00:00:00",
          "2014-10-31T00:00:00",
          "2014-11-30T00:00:00",
          "2014-12-31T00:00:00",
          "2015-01-31T00:00:00",
          "2015-02-28T00:00:00",
          "2015-03-31T00:00:00",
          "2015-04-30T00:00:00",
          "2015-05-31T00:00:00",
          "2015-06-30T00:00:00",
          "2015-07-31T00:00:00",
          "2015-08-31T00:00:00",
          "2015-09-30T00:00:00",
          "2015-10-31T00:00:00",
          "2015-11-30T00:00:00",
          "2015-12-31T00:00:00",
          "2016-01-31T00:00:00",
          "2016-02-29T00:00:00",
          "2016-03-31T00:00:00",
          "2016-04-30T00:00:00",
          "2016-05-31T00:00:00",
          "2016-06-30T00:00:00",
          "2016-07-31T00:00:00",
          "2016-08-31T00:00:00",
          "2016-09-30T00:00:00",
          "2016-10-31T00:00:00",
          "2016-11-30T00:00:00",
          "2016-12-31T00:00:00",
          "2017-01-31T00:00:00",
          "2017-02-28T00:00:00",
          "2017-03-31T00:00:00",
          "2017-04-30T00:00:00",
          "2017-05-31T00:00:00",
          "2017-06-30T00:00:00",
          "2017-07-31T00:00:00",
          "2017-08-31T00:00:00",
          "2017-09-30T00:00:00",
          "2017-10-31T00:00:00",
          "2017-11-30T00:00:00",
          "2017-12-31T00:00:00",
          "2018-01-31T00:00:00",
          "2018-02-28T00:00:00",
          "2018-03-31T00:00:00",
          "2018-04-30T00:00:00",
          "2018-05-31T00:00:00",
          "2018-06-30T00:00:00",
          "2018-07-31T00:00:00",
          "2018-08-31T00:00:00",
          "2018-09-30T00:00:00",
          "2018-10-31T00:00:00",
          "2018-11-30T00:00:00",
          "2018-12-31T00:00:00",
          "2019-01-31T00:00:00",
          "2019-02-28T00:00:00",
          "2019-03-31T00:00:00",
          "2019-04-30T00:00:00",
          "2019-05-31T00:00:00",
          "2019-06-30T00:00:00",
          "2019-07-31T00:00:00",
          "2019-08-31T00:00:00",
          "2019-09-30T00:00:00",
          "2019-10-31T00:00:00",
          "2019-11-30T00:00:00",
          "2019-12-31T00:00:00"
         ],
         "y": [
          310,
          690,
          570,
          562,
          406,
          275,
          636,
          640,
          669,
          308,
          231,
          215,
          838,
          212,
          212,
          639,
          633,
          640,
          226,
          218,
          207,
          424,
          548,
          568,
          364,
          557,
          539,
          337,
          544,
          331,
          337,
          328,
          683,
          491,
          522,
          314,
          589,
          281,
          265,
          262,
          594,
          597,
          696,
          283,
          270,
          260,
          237,
          217,
          172,
          3857,
          153,
          147,
          142,
          137,
          134,
          2693,
          2776,
          2775,
          3012,
          2450,
          116,
          121,
          2373,
          108,
          112,
          108,
          2575,
          99,
          98,
          2476,
          99,
          2517,
          2523,
          2595,
          2586,
          2625,
          2589,
          2577,
          2588,
          2589,
          2564,
          101,
          102,
          101,
          100,
          105,
          111,
          105,
          100,
          95,
          105,
          2960,
          2981,
          3006,
          106,
          93,
          92,
          3110,
          88,
          89,
          3152,
          3118,
          3073,
          100,
          96,
          97,
          2902,
          2925,
          2903,
          110,
          2847,
          2899,
          2840,
          126,
          127,
          128,
          107,
          108,
          115,
          108,
          99,
          3087,
          3005,
          102,
          2989,
          3002,
          2991,
          2969,
          122,
          2955,
          2871,
          2907,
          2859,
          128,
          2757,
          2728,
          101,
          2749,
          107,
          2725,
          2750,
          2715,
          87,
          2701,
          2704,
          2708,
          87,
          98,
          93,
          88,
          2712,
          2716,
          2716,
          91,
          2645,
          96,
          2631,
          2632,
          2639,
          2619,
          2613,
          2609,
          2603,
          111,
          98,
          2608,
          97,
          78,
          73,
          59,
          2809,
          2849,
          58,
          59,
          2836,
          58,
          56,
          2833,
          2829,
          2784,
          2788,
          57
         ]
        },
        {
         "name": "short",
         "type": "scatter",
         "x": [
          "2004-11-30T00:00:00",
          "2004-12-31T00:00:00",
          "2005-01-31T00:00:00",
          "2005-02-28T00:00:00",
          "2005-03-31T00:00:00",
          "2005-04-30T00:00:00",
          "2005-05-31T00:00:00",
          "2005-06-30T00:00:00",
          "2005-07-31T00:00:00",
          "2005-08-31T00:00:00",
          "2005-09-30T00:00:00",
          "2005-10-31T00:00:00",
          "2005-11-30T00:00:00",
          "2005-12-31T00:00:00",
          "2006-01-31T00:00:00",
          "2006-02-28T00:00:00",
          "2006-03-31T00:00:00",
          "2006-04-30T00:00:00",
          "2006-05-31T00:00:00",
          "2006-06-30T00:00:00",
          "2006-07-31T00:00:00",
          "2006-08-31T00:00:00",
          "2006-09-30T00:00:00",
          "2006-10-31T00:00:00",
          "2006-11-30T00:00:00",
          "2006-12-31T00:00:00",
          "2007-01-31T00:00:00",
          "2007-02-28T00:00:00",
          "2007-03-31T00:00:00",
          "2007-04-30T00:00:00",
          "2007-05-31T00:00:00",
          "2007-06-30T00:00:00",
          "2007-07-31T00:00:00",
          "2007-08-31T00:00:00",
          "2007-09-30T00:00:00",
          "2007-10-31T00:00:00",
          "2007-11-30T00:00:00",
          "2007-12-31T00:00:00",
          "2008-01-31T00:00:00",
          "2008-02-29T00:00:00",
          "2008-03-31T00:00:00",
          "2008-04-30T00:00:00",
          "2008-05-31T00:00:00",
          "2008-06-30T00:00:00",
          "2008-07-31T00:00:00",
          "2008-08-31T00:00:00",
          "2008-09-30T00:00:00",
          "2008-10-31T00:00:00",
          "2008-11-30T00:00:00",
          "2008-12-31T00:00:00",
          "2009-01-31T00:00:00",
          "2009-02-28T00:00:00",
          "2009-03-31T00:00:00",
          "2009-04-30T00:00:00",
          "2009-05-31T00:00:00",
          "2009-06-30T00:00:00",
          "2009-07-31T00:00:00",
          "2009-08-31T00:00:00",
          "2009-09-30T00:00:00",
          "2009-10-31T00:00:00",
          "2009-11-30T00:00:00",
          "2009-12-31T00:00:00",
          "2010-01-31T00:00:00",
          "2010-02-28T00:00:00",
          "2010-03-31T00:00:00",
          "2010-04-30T00:00:00",
          "2010-05-31T00:00:00",
          "2010-06-30T00:00:00",
          "2010-07-31T00:00:00",
          "2010-08-31T00:00:00",
          "2010-09-30T00:00:00",
          "2010-10-31T00:00:00",
          "2010-11-30T00:00:00",
          "2010-12-31T00:00:00",
          "2011-01-31T00:00:00",
          "2011-02-28T00:00:00",
          "2011-03-31T00:00:00",
          "2011-04-30T00:00:00",
          "2011-05-31T00:00:00",
          "2011-06-30T00:00:00",
          "2011-07-31T00:00:00",
          "2011-08-31T00:00:00",
          "2011-09-30T00:00:00",
          "2011-10-31T00:00:00",
          "2011-11-30T00:00:00",
          "2011-12-31T00:00:00",
          "2012-01-31T00:00:00",
          "2012-02-29T00:00:00",
          "2012-03-31T00:00:00",
          "2012-04-30T00:00:00",
          "2012-05-31T00:00:00",
          "2012-06-30T00:00:00",
          "2012-07-31T00:00:00",
          "2012-08-31T00:00:00",
          "2012-09-30T00:00:00",
          "2012-10-31T00:00:00",
          "2012-11-30T00:00:00",
          "2012-12-31T00:00:00",
          "2013-01-31T00:00:00",
          "2013-02-28T00:00:00",
          "2013-03-31T00:00:00",
          "2013-04-30T00:00:00",
          "2013-05-31T00:00:00",
          "2013-06-30T00:00:00",
          "2013-07-31T00:00:00",
          "2013-08-31T00:00:00",
          "2013-09-30T00:00:00",
          "2013-10-31T00:00:00",
          "2013-11-30T00:00:00",
          "2013-12-31T00:00:00",
          "2014-01-31T00:00:00",
          "2014-02-28T00:00:00",
          "2014-03-31T00:00:00",
          "2014-04-30T00:00:00",
          "2014-05-31T00:00:00",
          "2014-06-30T00:00:00",
          "2014-07-31T00:00:00",
          "2014-08-31T00:00:00",
          "2014-09-30T00:00:00",
          "2014-10-31T00:00:00",
          "2014-11-30T00:00:00",
          "2014-12-31T00:00:00",
          "2015-01-31T00:00:00",
          "2015-02-28T00:00:00",
          "2015-03-31T00:00:00",
          "2015-04-30T00:00:00",
          "2015-05-31T00:00:00",
          "2015-06-30T00:00:00",
          "2015-07-31T00:00:00",
          "2015-08-31T00:00:00",
          "2015-09-30T00:00:00",
          "2015-10-31T00:00:00",
          "2015-11-30T00:00:00",
          "2015-12-31T00:00:00",
          "2016-01-31T00:00:00",
          "2016-02-29T00:00:00",
          "2016-03-31T00:00:00",
          "2016-04-30T00:00:00",
          "2016-05-31T00:00:00",
          "2016-06-30T00:00:00",
          "2016-07-31T00:00:00",
          "2016-08-31T00:00:00",
          "2016-09-30T00:00:00",
          "2016-10-31T00:00:00",
          "2016-11-30T00:00:00",
          "2016-12-31T00:00:00",
          "2017-01-31T00:00:00",
          "2017-02-28T00:00:00",
          "2017-03-31T00:00:00",
          "2017-04-30T00:00:00",
          "2017-05-31T00:00:00",
          "2017-06-30T00:00:00",
          "2017-07-31T00:00:00",
          "2017-08-31T00:00:00",
          "2017-09-30T00:00:00",
          "2017-10-31T00:00:00",
          "2017-11-30T00:00:00",
          "2017-12-31T00:00:00",
          "2018-01-31T00:00:00",
          "2018-02-28T00:00:00",
          "2018-03-31T00:00:00",
          "2018-04-30T00:00:00",
          "2018-05-31T00:00:00",
          "2018-06-30T00:00:00",
          "2018-07-31T00:00:00",
          "2018-08-31T00:00:00",
          "2018-09-30T00:00:00",
          "2018-10-31T00:00:00",
          "2018-11-30T00:00:00",
          "2018-12-31T00:00:00",
          "2019-01-31T00:00:00",
          "2019-02-28T00:00:00",
          "2019-03-31T00:00:00",
          "2019-04-30T00:00:00",
          "2019-05-31T00:00:00",
          "2019-06-30T00:00:00",
          "2019-07-31T00:00:00",
          "2019-08-31T00:00:00",
          "2019-09-30T00:00:00",
          "2019-10-31T00:00:00",
          "2019-11-30T00:00:00",
          "2019-12-31T00:00:00"
         ],
         "y": [
          975,
          352,
          376,
          383,
          491,
          669,
          257,
          234,
          191,
          667,
          604,
          852,
          196,
          793,
          634,
          205,
          202,
          206,
          594,
          613,
          648,
          501,
          373,
          371,
          531,
          345,
          336,
          528,
          336,
          561,
          577,
          619,
          301,
          338,
          332,
          517,
          276,
          588,
          601,
          590,
          262,
          261,
          248,
          582,
          607,
          637,
          1201,
          3682,
          4055,
          159,
          3664,
          3727,
          3539,
          2976,
          2789,
          151,
          122,
          122,
          111,
          119,
          2437,
          2384,
          116,
          2386,
          2362,
          2353,
          94,
          2517,
          2481,
          96,
          2501,
          103,
          111,
          106,
          108,
          116,
          124,
          131,
          124,
          107,
          107,
          2576,
          2754,
          2664,
          2969,
          2983,
          2933,
          2870,
          2885,
          2951,
          2982,
          98,
          104,
          106,
          3056,
          3113,
          3112,
          96,
          3152,
          3222,
          93,
          97,
          98,
          3005,
          2943,
          2933,
          100,
          103,
          101,
          2889,
          121,
          109,
          111,
          2833,
          2827,
          2810,
          2844,
          2828,
          2855,
          2886,
          2901,
          115,
          117,
          3000,
          106,
          118,
          120,
          124,
          2939,
          115,
          124,
          107,
          108,
          2682,
          119,
          114,
          2782,
          105,
          2731,
          106,
          100,
          93,
          2715,
          86,
          88,
          94,
          2743,
          2708,
          2711,
          2700,
          88,
          89,
          89,
          2694,
          90,
          2636,
          99,
          107,
          109,
          115,
          116,
          113,
          113,
          2588,
          2592,
          91,
          2590,
          2676,
          2674,
          2869,
          60,
          58,
          2822,
          2810,
          60,
          2842,
          2849,
          59,
          58,
          57,
          54,
          2824
         ]
        },
        {
         "name": "CPI",
         "type": "scatter",
         "x": [
          "1947-12-31T00:00:00",
          "1948-01-31T00:00:00",
          "1948-02-29T00:00:00",
          "1948-03-31T00:00:00",
          "1948-04-30T00:00:00",
          "1948-05-31T00:00:00",
          "1948-06-30T00:00:00",
          "1948-07-31T00:00:00",
          "1948-08-31T00:00:00",
          "1948-09-30T00:00:00",
          "1948-10-31T00:00:00",
          "1948-11-30T00:00:00",
          "1948-12-31T00:00:00",
          "1949-01-31T00:00:00",
          "1949-02-28T00:00:00",
          "1949-03-31T00:00:00",
          "1949-04-30T00:00:00",
          "1949-05-31T00:00:00",
          "1949-06-30T00:00:00",
          "1949-07-31T00:00:00",
          "1949-08-31T00:00:00",
          "1949-09-30T00:00:00",
          "1949-10-31T00:00:00",
          "1949-11-30T00:00:00",
          "1949-12-31T00:00:00",
          "1950-01-31T00:00:00",
          "1950-02-28T00:00:00",
          "1950-03-31T00:00:00",
          "1950-04-30T00:00:00",
          "1950-05-31T00:00:00",
          "1950-06-30T00:00:00",
          "1950-07-31T00:00:00",
          "1950-08-31T00:00:00",
          "1950-09-30T00:00:00",
          "1950-10-31T00:00:00",
          "1950-11-30T00:00:00",
          "1950-12-31T00:00:00",
          "1951-01-31T00:00:00",
          "1951-02-28T00:00:00",
          "1951-03-31T00:00:00",
          "1951-04-30T00:00:00",
          "1951-05-31T00:00:00",
          "1951-06-30T00:00:00",
          "1951-07-31T00:00:00",
          "1951-08-31T00:00:00",
          "1951-09-30T00:00:00",
          "1951-10-31T00:00:00",
          "1951-11-30T00:00:00",
          "1951-12-31T00:00:00",
          "1952-01-31T00:00:00",
          "1952-02-29T00:00:00",
          "1952-03-31T00:00:00",
          "1952-04-30T00:00:00",
          "1952-05-31T00:00:00",
          "1952-06-30T00:00:00",
          "1952-07-31T00:00:00",
          "1952-08-31T00:00:00",
          "1952-09-30T00:00:00",
          "1952-10-31T00:00:00",
          "1952-11-30T00:00:00",
          "1952-12-31T00:00:00",
          "1953-01-31T00:00:00",
          "1953-02-28T00:00:00",
          "1953-03-31T00:00:00",
          "1953-04-30T00:00:00",
          "1953-05-31T00:00:00",
          "1953-06-30T00:00:00",
          "1953-07-31T00:00:00",
          "1953-08-31T00:00:00",
          "1953-09-30T00:00:00",
          "1953-10-31T00:00:00",
          "1953-11-30T00:00:00",
          "1953-12-31T00:00:00",
          "1954-01-31T00:00:00",
          "1954-02-28T00:00:00",
          "1954-03-31T00:00:00",
          "1954-04-30T00:00:00",
          "1954-05-31T00:00:00",
          "1954-06-30T00:00:00",
          "1954-07-31T00:00:00",
          "1954-08-31T00:00:00",
          "1954-09-30T00:00:00",
          "1954-10-31T00:00:00",
          "1954-11-30T00:00:00",
          "1954-12-31T00:00:00",
          "1955-01-31T00:00:00",
          "1955-02-28T00:00:00",
          "1955-03-31T00:00:00",
          "1955-04-30T00:00:00",
          "1955-05-31T00:00:00",
          "1955-06-30T00:00:00",
          "1955-07-31T00:00:00",
          "1955-08-31T00:00:00",
          "1955-09-30T00:00:00",
          "1955-10-31T00:00:00",
          "1955-11-30T00:00:00",
          "1955-12-31T00:00:00",
          "1956-01-31T00:00:00",
          "1956-02-29T00:00:00",
          "1956-03-31T00:00:00",
          "1956-04-30T00:00:00",
          "1956-05-31T00:00:00",
          "1956-06-30T00:00:00",
          "1956-07-31T00:00:00",
          "1956-08-31T00:00:00",
          "1956-09-30T00:00:00",
          "1956-10-31T00:00:00",
          "1956-11-30T00:00:00",
          "1956-12-31T00:00:00",
          "1957-01-31T00:00:00",
          "1957-02-28T00:00:00",
          "1957-03-31T00:00:00",
          "1957-04-30T00:00:00",
          "1957-05-31T00:00:00",
          "1957-06-30T00:00:00",
          "1957-07-31T00:00:00",
          "1957-08-31T00:00:00",
          "1957-09-30T00:00:00",
          "1957-10-31T00:00:00",
          "1957-11-30T00:00:00",
          "1957-12-31T00:00:00",
          "1958-01-31T00:00:00",
          "1958-02-28T00:00:00",
          "1958-03-31T00:00:00",
          "1958-04-30T00:00:00",
          "1958-05-31T00:00:00",
          "1958-06-30T00:00:00",
          "1958-07-31T00:00:00",
          "1958-08-31T00:00:00",
          "1958-09-30T00:00:00",
          "1958-10-31T00:00:00",
          "1958-11-30T00:00:00",
          "1958-12-31T00:00:00",
          "1959-01-31T00:00:00",
          "1959-02-28T00:00:00",
          "1959-03-31T00:00:00",
          "1959-04-30T00:00:00",
          "1959-05-31T00:00:00",
          "1959-06-30T00:00:00",
          "1959-07-31T00:00:00",
          "1959-08-31T00:00:00",
          "1959-09-30T00:00:00",
          "1959-10-31T00:00:00",
          "1959-11-30T00:00:00",
          "1959-12-31T00:00:00",
          "1960-01-31T00:00:00",
          "1960-02-29T00:00:00",
          "1960-03-31T00:00:00",
          "1960-04-30T00:00:00",
          "1960-05-31T00:00:00",
          "1960-06-30T00:00:00",
          "1960-07-31T00:00:00",
          "1960-08-31T00:00:00",
          "1960-09-30T00:00:00",
          "1960-10-31T00:00:00",
          "1960-11-30T00:00:00",
          "1960-12-31T00:00:00",
          "1961-01-31T00:00:00",
          "1961-02-28T00:00:00",
          "1961-03-31T00:00:00",
          "1961-04-30T00:00:00",
          "1961-05-31T00:00:00",
          "1961-06-30T00:00:00",
          "1961-07-31T00:00:00",
          "1961-08-31T00:00:00",
          "1961-09-30T00:00:00",
          "1961-10-31T00:00:00",
          "1961-11-30T00:00:00",
          "1961-12-31T00:00:00",
          "1962-01-31T00:00:00",
          "1962-02-28T00:00:00",
          "1962-03-31T00:00:00",
          "1962-04-30T00:00:00",
          "1962-05-31T00:00:00",
          "1962-06-30T00:00:00",
          "1962-07-31T00:00:00",
          "1962-08-31T00:00:00",
          "1962-09-30T00:00:00",
          "1962-10-31T00:00:00",
          "1962-11-30T00:00:00",
          "1962-12-31T00:00:00",
          "1963-01-31T00:00:00",
          "1963-02-28T00:00:00",
          "1963-03-31T00:00:00",
          "1963-04-30T00:00:00",
          "1963-05-31T00:00:00",
          "1963-06-30T00:00:00",
          "1963-07-31T00:00:00",
          "1963-08-31T00:00:00",
          "1963-09-30T00:00:00",
          "1963-10-31T00:00:00",
          "1963-11-30T00:00:00",
          "1963-12-31T00:00:00",
          "1964-01-31T00:00:00",
          "1964-02-29T00:00:00",
          "1964-03-31T00:00:00",
          "1964-04-30T00:00:00",
          "1964-05-31T00:00:00",
          "1964-06-30T00:00:00",
          "1964-07-31T00:00:00",
          "1964-08-31T00:00:00",
          "1964-09-30T00:00:00",
          "1964-10-31T00:00:00",
          "1964-11-30T00:00:00",
          "1964-12-31T00:00:00",
          "1965-01-31T00:00:00",
          "1965-02-28T00:00:00",
          "1965-03-31T00:00:00",
          "1965-04-30T00:00:00",
          "1965-05-31T00:00:00",
          "1965-06-30T00:00:00",
          "1965-07-31T00:00:00",
          "1965-08-31T00:00:00",
          "1965-09-30T00:00:00",
          "1965-10-31T00:00:00",
          "1965-11-30T00:00:00",
          "1965-12-31T00:00:00",
          "1966-01-31T00:00:00",
          "1966-02-28T00:00:00",
          "1966-03-31T00:00:00",
          "1966-04-30T00:00:00",
          "1966-05-31T00:00:00",
          "1966-06-30T00:00:00",
          "1966-07-31T00:00:00",
          "1966-08-31T00:00:00",
          "1966-09-30T00:00:00",
          "1966-10-31T00:00:00",
          "1966-11-30T00:00:00",
          "1966-12-31T00:00:00",
          "1967-01-31T00:00:00",
          "1967-02-28T00:00:00",
          "1967-03-31T00:00:00",
          "1967-04-30T00:00:00",
          "1967-05-31T00:00:00",
          "1967-06-30T00:00:00",
          "1967-07-31T00:00:00",
          "1967-08-31T00:00:00",
          "1967-09-30T00:00:00",
          "1967-10-31T00:00:00",
          "1967-11-30T00:00:00",
          "1967-12-31T00:00:00",
          "1968-01-31T00:00:00",
          "1968-02-29T00:00:00",
          "1968-03-31T00:00:00",
          "1968-04-30T00:00:00",
          "1968-05-31T00:00:00",
          "1968-06-30T00:00:00",
          "1968-07-31T00:00:00",
          "1968-08-31T00:00:00",
          "1968-09-30T00:00:00",
          "1968-10-31T00:00:00",
          "1968-11-30T00:00:00",
          "1968-12-31T00:00:00",
          "1969-01-31T00:00:00",
          "1969-02-28T00:00:00",
          "1969-03-31T00:00:00",
          "1969-04-30T00:00:00",
          "1969-05-31T00:00:00",
          "1969-06-30T00:00:00",
          "1969-07-31T00:00:00",
          "1969-08-31T00:00:00",
          "1969-09-30T00:00:00",
          "1969-10-31T00:00:00",
          "1969-11-30T00:00:00",
          "1969-12-31T00:00:00",
          "1970-01-31T00:00:00",
          "1970-02-28T00:00:00",
          "1970-03-31T00:00:00",
          "1970-04-30T00:00:00",
          "1970-05-31T00:00:00",
          "1970-06-30T00:00:00",
          "1970-07-31T00:00:00",
          "1970-08-31T00:00:00",
          "1970-09-30T00:00:00",
          "1970-10-31T00:00:00",
          "1970-11-30T00:00:00",
          "1970-12-31T00:00:00",
          "1971-01-31T00:00:00",
          "1971-02-28T00:00:00",
          "1971-03-31T00:00:00",
          "1971-04-30T00:00:00",
          "1971-05-31T00:00:00",
          "1971-06-30T00:00:00",
          "1971-07-31T00:00:00",
          "1971-08-31T00:00:00",
          "1971-09-30T00:00:00",
          "1971-10-31T00:00:00",
          "1971-11-30T00:00:00",
          "1971-12-31T00:00:00",
          "1972-01-31T00:00:00",
          "1972-02-29T00:00:00",
          "1972-03-31T00:00:00",
          "1972-04-30T00:00:00",
          "1972-05-31T00:00:00",
          "1972-06-30T00:00:00",
          "1972-07-31T00:00:00",
          "1972-08-31T00:00:00",
          "1972-09-30T00:00:00",
          "1972-10-31T00:00:00",
          "1972-11-30T00:00:00",
          "1972-12-31T00:00:00",
          "1973-01-31T00:00:00",
          "1973-02-28T00:00:00",
          "1973-03-31T00:00:00",
          "1973-04-30T00:00:00",
          "1973-05-31T00:00:00",
          "1973-06-30T00:00:00",
          "1973-07-31T00:00:00",
          "1973-08-31T00:00:00",
          "1973-09-30T00:00:00",
          "1973-10-31T00:00:00",
          "1973-11-30T00:00:00",
          "1973-12-31T00:00:00",
          "1974-01-31T00:00:00",
          "1974-02-28T00:00:00",
          "1974-03-31T00:00:00",
          "1974-04-30T00:00:00",
          "1974-05-31T00:00:00",
          "1974-06-30T00:00:00",
          "1974-07-31T00:00:00",
          "1974-08-31T00:00:00",
          "1974-09-30T00:00:00",
          "1974-10-31T00:00:00",
          "1974-11-30T00:00:00",
          "1974-12-31T00:00:00",
          "1975-01-31T00:00:00",
          "1975-02-28T00:00:00",
          "1975-03-31T00:00:00",
          "1975-04-30T00:00:00",
          "1975-05-31T00:00:00",
          "1975-06-30T00:00:00",
          "1975-07-31T00:00:00",
          "1975-08-31T00:00:00",
          "1975-09-30T00:00:00",
          "1975-10-31T00:00:00",
          "1975-11-30T00:00:00",
          "1975-12-31T00:00:00",
          "1976-01-31T00:00:00",
          "1976-02-29T00:00:00",
          "1976-03-31T00:00:00",
          "1976-04-30T00:00:00",
          "1976-05-31T00:00:00",
          "1976-06-30T00:00:00",
          "1976-07-31T00:00:00",
          "1976-08-31T00:00:00",
          "1976-09-30T00:00:00",
          "1976-10-31T00:00:00",
          "1976-11-30T00:00:00",
          "1976-12-31T00:00:00",
          "1977-01-31T00:00:00",
          "1977-02-28T00:00:00",
          "1977-03-31T00:00:00",
          "1977-04-30T00:00:00",
          "1977-05-31T00:00:00",
          "1977-06-30T00:00:00",
          "1977-07-31T00:00:00",
          "1977-08-31T00:00:00",
          "1977-09-30T00:00:00",
          "1977-10-31T00:00:00",
          "1977-11-30T00:00:00",
          "1977-12-31T00:00:00",
          "1978-01-31T00:00:00",
          "1978-02-28T00:00:00",
          "1978-03-31T00:00:00",
          "1978-04-30T00:00:00",
          "1978-05-31T00:00:00",
          "1978-06-30T00:00:00",
          "1978-07-31T00:00:00",
          "1978-08-31T00:00:00",
          "1978-09-30T00:00:00",
          "1978-10-31T00:00:00",
          "1978-11-30T00:00:00",
          "1978-12-31T00:00:00",
          "1979-01-31T00:00:00",
          "1979-02-28T00:00:00",
          "1979-03-31T00:00:00",
          "1979-04-30T00:00:00",
          "1979-05-31T00:00:00",
          "1979-06-30T00:00:00",
          "1979-07-31T00:00:00",
          "1979-08-31T00:00:00",
          "1979-09-30T00:00:00",
          "1979-10-31T00:00:00",
          "1979-11-30T00:00:00",
          "1979-12-31T00:00:00",
          "1980-01-31T00:00:00",
          "1980-02-29T00:00:00",
          "1980-03-31T00:00:00",
          "1980-04-30T00:00:00",
          "1980-05-31T00:00:00",
          "1980-06-30T00:00:00",
          "1980-07-31T00:00:00",
          "1980-08-31T00:00:00",
          "1980-09-30T00:00:00",
          "1980-10-31T00:00:00",
          "1980-11-30T00:00:00",
          "1980-12-31T00:00:00",
          "1981-01-31T00:00:00",
          "1981-02-28T00:00:00",
          "1981-03-31T00:00:00",
          "1981-04-30T00:00:00",
          "1981-05-31T00:00:00",
          "1981-06-30T00:00:00",
          "1981-07-31T00:00:00",
          "1981-08-31T00:00:00",
          "1981-09-30T00:00:00",
          "1981-10-31T00:00:00",
          "1981-11-30T00:00:00",
          "1981-12-31T00:00:00",
          "1982-01-31T00:00:00",
          "1982-02-28T00:00:00",
          "1982-03-31T00:00:00",
          "1982-04-30T00:00:00",
          "1982-05-31T00:00:00",
          "1982-06-30T00:00:00",
          "1982-07-31T00:00:00",
          "1982-08-31T00:00:00",
          "1982-09-30T00:00:00",
          "1982-10-31T00:00:00",
          "1982-11-30T00:00:00",
          "1982-12-31T00:00:00",
          "1983-01-31T00:00:00",
          "1983-02-28T00:00:00",
          "1983-03-31T00:00:00",
          "1983-04-30T00:00:00",
          "1983-05-31T00:00:00",
          "1983-06-30T00:00:00",
          "1983-07-31T00:00:00",
          "1983-08-31T00:00:00",
          "1983-09-30T00:00:00",
          "1983-10-31T00:00:00",
          "1983-11-30T00:00:00",
          "1983-12-31T00:00:00",
          "1984-01-31T00:00:00",
          "1984-02-29T00:00:00",
          "1984-03-31T00:00:00",
          "1984-04-30T00:00:00",
          "1984-05-31T00:00:00",
          "1984-06-30T00:00:00",
          "1984-07-31T00:00:00",
          "1984-08-31T00:00:00",
          "1984-09-30T00:00:00",
          "1984-10-31T00:00:00",
          "1984-11-30T00:00:00",
          "1984-12-31T00:00:00",
          "1985-01-31T00:00:00",
          "1985-02-28T00:00:00",
          "1985-03-31T00:00:00",
          "1985-04-30T00:00:00",
          "1985-05-31T00:00:00",
          "1985-06-30T00:00:00",
          "1985-07-31T00:00:00",
          "1985-08-31T00:00:00",
          "1985-09-30T00:00:00",
          "1985-10-31T00:00:00",
          "1985-11-30T00:00:00",
          "1985-12-31T00:00:00",
          "1986-01-31T00:00:00",
          "1986-02-28T00:00:00",
          "1986-03-31T00:00:00",
          "1986-04-30T00:00:00",
          "1986-05-31T00:00:00",
          "1986-06-30T00:00:00",
          "1986-07-31T00:00:00",
          "1986-08-31T00:00:00",
          "1986-09-30T00:00:00",
          "1986-10-31T00:00:00",
          "1986-11-30T00:00:00",
          "1986-12-31T00:00:00",
          "1987-01-31T00:00:00",
          "1987-02-28T00:00:00",
          "1987-03-31T00:00:00",
          "1987-04-30T00:00:00",
          "1987-05-31T00:00:00",
          "1987-06-30T00:00:00",
          "1987-07-31T00:00:00",
          "1987-08-31T00:00:00",
          "1987-09-30T00:00:00",
          "1987-10-31T00:00:00",
          "1987-11-30T00:00:00",
          "1987-12-31T00:00:00",
          "1988-01-31T00:00:00",
          "1988-02-29T00:00:00",
          "1988-03-31T00:00:00",
          "1988-04-30T00:00:00",
          "1988-05-31T00:00:00",
          "1988-06-30T00:00:00",
          "1988-07-31T00:00:00",
          "1988-08-31T00:00:00",
          "1988-09-30T00:00:00",
          "1988-10-31T00:00:00",
          "1988-11-30T00:00:00",
          "1988-12-31T00:00:00",
          "1989-01-31T00:00:00",
          "1989-02-28T00:00:00",
          "1989-03-31T00:00:00",
          "1989-04-30T00:00:00",
          "1989-05-31T00:00:00",
          "1989-06-30T00:00:00",
          "1989-07-31T00:00:00",
          "1989-08-31T00:00:00",
          "1989-09-30T00:00:00",
          "1989-10-31T00:00:00",
          "1989-11-30T00:00:00",
          "1989-12-31T00:00:00",
          "1990-01-31T00:00:00",
          "1990-02-28T00:00:00",
          "1990-03-31T00:00:00",
          "1990-04-30T00:00:00",
          "1990-05-31T00:00:00",
          "1990-06-30T00:00:00",
          "1990-07-31T00:00:00",
          "1990-08-31T00:00:00",
          "1990-09-30T00:00:00",
          "1990-10-31T00:00:00",
          "1990-11-30T00:00:00",
          "1990-12-31T00:00:00",
          "1991-01-31T00:00:00",
          "1991-02-28T00:00:00",
          "1991-03-31T00:00:00",
          "1991-04-30T00:00:00",
          "1991-05-31T00:00:00",
          "1991-06-30T00:00:00",
          "1991-07-31T00:00:00",
          "1991-08-31T00:00:00",
          "1991-09-30T00:00:00",
          "1991-10-31T00:00:00",
          "1991-11-30T00:00:00",
          "1991-12-31T00:00:00",
          "1992-01-31T00:00:00",
          "1992-02-29T00:00:00",
          "1992-03-31T00:00:00",
          "1992-04-30T00:00:00",
          "1992-05-31T00:00:00",
          "1992-06-30T00:00:00",
          "1992-07-31T00:00:00",
          "1992-08-31T00:00:00",
          "1992-09-30T00:00:00",
          "1992-10-31T00:00:00",
          "1992-11-30T00:00:00",
          "1992-12-31T00:00:00",
          "1993-01-31T00:00:00",
          "1993-02-28T00:00:00",
          "1993-03-31T00:00:00",
          "1993-04-30T00:00:00",
          "1993-05-31T00:00:00",
          "1993-06-30T00:00:00",
          "1993-07-31T00:00:00",
          "1993-08-31T00:00:00",
          "1993-09-30T00:00:00",
          "1993-10-31T00:00:00",
          "1993-11-30T00:00:00",
          "1993-12-31T00:00:00",
          "1994-01-31T00:00:00",
          "1994-02-28T00:00:00",
          "1994-03-31T00:00:00",
          "1994-04-30T00:00:00",
          "1994-05-31T00:00:00",
          "1994-06-30T00:00:00",
          "1994-07-31T00:00:00",
          "1994-08-31T00:00:00",
          "1994-09-30T00:00:00",
          "1994-10-31T00:00:00",
          "1994-11-30T00:00:00",
          "1994-12-31T00:00:00",
          "1995-01-31T00:00:00",
          "1995-02-28T00:00:00",
          "1995-03-31T00:00:00",
          "1995-04-30T00:00:00",
          "1995-05-31T00:00:00",
          "1995-06-30T00:00:00",
          "1995-07-31T00:00:00",
          "1995-08-31T00:00:00",
          "1995-09-30T00:00:00",
          "1995-10-31T00:00:00",
          "1995-11-30T00:00:00",
          "1995-12-31T00:00:00",
          "1996-01-31T00:00:00",
          "1996-02-29T00:00:00",
          "1996-03-31T00:00:00",
          "1996-04-30T00:00:00",
          "1996-05-31T00:00:00",
          "1996-06-30T00:00:00",
          "1996-07-31T00:00:00",
          "1996-08-31T00:00:00",
          "1996-09-30T00:00:00",
          "1996-10-31T00:00:00",
          "1996-11-30T00:00:00",
          "1996-12-31T00:00:00",
          "1997-01-31T00:00:00",
          "1997-02-28T00:00:00",
          "1997-03-31T00:00:00",
          "1997-04-30T00:00:00",
          "1997-05-31T00:00:00",
          "1997-06-30T00:00:00",
          "1997-07-31T00:00:00",
          "1997-08-31T00:00:00",
          "1997-09-30T00:00:00",
          "1997-10-31T00:00:00",
          "1997-11-30T00:00:00",
          "1997-12-31T00:00:00",
          "1998-01-31T00:00:00",
          "1998-02-28T00:00:00",
          "1998-03-31T00:00:00",
          "1998-04-30T00:00:00",
          "1998-05-31T00:00:00",
          "1998-06-30T00:00:00",
          "1998-07-31T00:00:00",
          "1998-08-31T00:00:00",
          "1998-09-30T00:00:00",
          "1998-10-31T00:00:00",
          "1998-11-30T00:00:00",
          "1998-12-31T00:00:00",
          "1999-01-31T00:00:00",
          "1999-02-28T00:00:00",
          "1999-03-31T00:00:00",
          "1999-04-30T00:00:00",
          "1999-05-31T00:00:00",
          "1999-06-30T00:00:00",
          "1999-07-31T00:00:00",
          "1999-08-31T00:00:00",
          "1999-09-30T00:00:00",
          "1999-10-31T00:00:00",
          "1999-11-30T00:00:00",
          "1999-12-31T00:00:00",
          "2000-01-31T00:00:00",
          "2000-02-29T00:00:00",
          "2000-03-31T00:00:00",
          "2000-04-30T00:00:00",
          "2000-05-31T00:00:00",
          "2000-06-30T00:00:00",
          "2000-07-31T00:00:00",
          "2000-08-31T00:00:00",
          "2000-09-30T00:00:00",
          "2000-10-31T00:00:00",
          "2000-11-30T00:00:00",
          "2000-12-31T00:00:00",
          "2001-01-31T00:00:00",
          "2001-02-28T00:00:00",
          "2001-03-31T00:00:00",
          "2001-04-30T00:00:00",
          "2001-05-31T00:00:00",
          "2001-06-30T00:00:00",
          "2001-07-31T00:00:00",
          "2001-08-31T00:00:00",
          "2001-09-30T00:00:00",
          "2001-10-31T00:00:00",
          "2001-11-30T00:00:00",
          "2001-12-31T00:00:00",
          "2002-01-31T00:00:00",
          "2002-02-28T00:00:00",
          "2002-03-31T00:00:00",
          "2002-04-30T00:00:00",
          "2002-05-31T00:00:00",
          "2002-06-30T00:00:00",
          "2002-07-31T00:00:00",
          "2002-08-31T00:00:00",
          "2002-09-30T00:00:00",
          "2002-10-31T00:00:00",
          "2002-11-30T00:00:00",
          "2002-12-31T00:00:00",
          "2003-01-31T00:00:00",
          "2003-02-28T00:00:00",
          "2003-03-31T00:00:00",
          "2003-04-30T00:00:00",
          "2003-05-31T00:00:00",
          "2003-06-30T00:00:00",
          "2003-07-31T00:00:00",
          "2003-08-31T00:00:00",
          "2003-09-30T00:00:00",
          "2003-10-31T00:00:00",
          "2003-11-30T00:00:00",
          "2003-12-31T00:00:00",
          "2004-01-31T00:00:00",
          "2004-02-29T00:00:00",
          "2004-03-31T00:00:00",
          "2004-04-30T00:00:00",
          "2004-05-31T00:00:00",
          "2004-06-30T00:00:00",
          "2004-07-31T00:00:00",
          "2004-08-31T00:00:00",
          "2004-09-30T00:00:00",
          "2004-10-31T00:00:00",
          "2004-11-30T00:00:00",
          "2004-12-31T00:00:00",
          "2005-01-31T00:00:00",
          "2005-02-28T00:00:00",
          "2005-03-31T00:00:00",
          "2005-04-30T00:00:00",
          "2005-05-31T00:00:00",
          "2005-06-30T00:00:00",
          "2005-07-31T00:00:00",
          "2005-08-31T00:00:00",
          "2005-09-30T00:00:00",
          "2005-10-31T00:00:00",
          "2005-11-30T00:00:00",
          "2005-12-31T00:00:00",
          "2006-01-31T00:00:00",
          "2006-02-28T00:00:00",
          "2006-03-31T00:00:00",
          "2006-04-30T00:00:00",
          "2006-05-31T00:00:00",
          "2006-06-30T00:00:00",
          "2006-07-31T00:00:00",
          "2006-08-31T00:00:00",
          "2006-09-30T00:00:00",
          "2006-10-31T00:00:00",
          "2006-11-30T00:00:00",
          "2006-12-31T00:00:00",
          "2007-01-31T00:00:00",
          "2007-02-28T00:00:00",
          "2007-03-31T00:00:00",
          "2007-04-30T00:00:00",
          "2007-05-31T00:00:00",
          "2007-06-30T00:00:00",
          "2007-07-31T00:00:00",
          "2007-08-31T00:00:00",
          "2007-09-30T00:00:00",
          "2007-10-31T00:00:00",
          "2007-11-30T00:00:00",
          "2007-12-31T00:00:00",
          "2008-01-31T00:00:00",
          "2008-02-29T00:00:00",
          "2008-03-31T00:00:00",
          "2008-04-30T00:00:00",
          "2008-05-31T00:00:00",
          "2008-06-30T00:00:00",
          "2008-07-31T00:00:00",
          "2008-08-31T00:00:00",
          "2008-09-30T00:00:00",
          "2008-10-31T00:00:00",
          "2008-11-30T00:00:00",
          "2008-12-31T00:00:00",
          "2009-01-31T00:00:00",
          "2009-02-28T00:00:00",
          "2009-03-31T00:00:00",
          "2009-04-30T00:00:00",
          "2009-05-31T00:00:00",
          "2009-06-30T00:00:00",
          "2009-07-31T00:00:00",
          "2009-08-31T00:00:00",
          "2009-09-30T00:00:00",
          "2009-10-31T00:00:00",
          "2009-11-30T00:00:00",
          "2009-12-31T00:00:00",
          "2010-01-31T00:00:00",
          "2010-02-28T00:00:00",
          "2010-03-31T00:00:00",
          "2010-04-30T00:00:00",
          "2010-05-31T00:00:00",
          "2010-06-30T00:00:00",
          "2010-07-31T00:00:00",
          "2010-08-31T00:00:00",
          "2010-09-30T00:00:00",
          "2010-10-31T00:00:00",
          "2010-11-30T00:00:00",
          "2010-12-31T00:00:00",
          "2011-01-31T00:00:00",
          "2011-02-28T00:00:00",
          "2011-03-31T00:00:00",
          "2011-04-30T00:00:00",
          "2011-05-31T00:00:00",
          "2011-06-30T00:00:00",
          "2011-07-31T00:00:00",
          "2011-08-31T00:00:00",
          "2011-09-30T00:00:00",
          "2011-10-31T00:00:00",
          "2011-11-30T00:00:00",
          "2011-12-31T00:00:00",
          "2012-01-31T00:00:00",
          "2012-02-29T00:00:00",
          "2012-03-31T00:00:00",
          "2012-04-30T00:00:00",
          "2012-05-31T00:00:00",
          "2012-06-30T00:00:00",
          "2012-07-31T00:00:00",
          "2012-08-31T00:00:00",
          "2012-09-30T00:00:00",
          "2012-10-31T00:00:00",
          "2012-11-30T00:00:00",
          "2012-12-31T00:00:00",
          "2013-01-31T00:00:00",
          "2013-02-28T00:00:00",
          "2013-03-31T00:00:00",
          "2013-04-30T00:00:00",
          "2013-05-31T00:00:00",
          "2013-06-30T00:00:00",
          "2013-07-31T00:00:00",
          "2013-08-31T00:00:00",
          "2013-09-30T00:00:00",
          "2013-10-31T00:00:00",
          "2013-11-30T00:00:00",
          "2013-12-31T00:00:00",
          "2014-01-31T00:00:00",
          "2014-02-28T00:00:00",
          "2014-03-31T00:00:00",
          "2014-04-30T00:00:00",
          "2014-05-31T00:00:00",
          "2014-06-30T00:00:00",
          "2014-07-31T00:00:00",
          "2014-08-31T00:00:00",
          "2014-09-30T00:00:00",
          "2014-10-31T00:00:00",
          "2014-11-30T00:00:00",
          "2014-12-31T00:00:00",
          "2015-01-31T00:00:00",
          "2015-02-28T00:00:00",
          "2015-03-31T00:00:00",
          "2015-04-30T00:00:00",
          "2015-05-31T00:00:00",
          "2015-06-30T00:00:00",
          "2015-07-31T00:00:00",
          "2015-08-31T00:00:00",
          "2015-09-30T00:00:00",
          "2015-10-31T00:00:00",
          "2015-11-30T00:00:00",
          "2015-12-31T00:00:00",
          "2016-01-31T00:00:00",
          "2016-02-29T00:00:00",
          "2016-03-31T00:00:00",
          "2016-04-30T00:00:00",
          "2016-05-31T00:00:00",
          "2016-06-30T00:00:00",
          "2016-07-31T00:00:00",
          "2016-08-31T00:00:00",
          "2016-09-30T00:00:00",
          "2016-10-31T00:00:00",
          "2016-11-30T00:00:00",
          "2016-12-31T00:00:00",
          "2017-01-31T00:00:00",
          "2017-02-28T00:00:00",
          "2017-03-31T00:00:00",
          "2017-04-30T00:00:00",
          "2017-05-31T00:00:00",
          "2017-06-30T00:00:00",
          "2017-07-31T00:00:00",
          "2017-08-31T00:00:00",
          "2017-09-30T00:00:00",
          "2017-10-31T00:00:00",
          "2017-11-30T00:00:00",
          "2017-12-31T00:00:00",
          "2018-01-31T00:00:00",
          "2018-02-28T00:00:00",
          "2018-03-31T00:00:00",
          "2018-04-30T00:00:00",
          "2018-05-31T00:00:00",
          "2018-06-30T00:00:00",
          "2018-07-31T00:00:00",
          "2018-08-31T00:00:00",
          "2018-09-30T00:00:00",
          "2018-10-31T00:00:00",
          "2018-11-30T00:00:00",
          "2018-12-31T00:00:00",
          "2019-01-31T00:00:00",
          "2019-02-28T00:00:00",
          "2019-03-31T00:00:00",
          "2019-04-30T00:00:00",
          "2019-05-31T00:00:00",
          "2019-06-30T00:00:00",
          "2019-07-31T00:00:00",
          "2019-08-31T00:00:00",
          "2019-09-30T00:00:00",
          "2019-10-31T00:00:00",
          "2019-11-30T00:00:00",
          "2019-12-31T00:00:00",
          "2020-01-31T00:00:00",
          "2020-02-29T00:00:00",
          "2020-03-31T00:00:00",
          "2020-04-30T00:00:00",
          "2020-05-31T00:00:00",
          "2020-06-30T00:00:00",
          "2020-07-31T00:00:00",
          "2020-08-31T00:00:00",
          "2020-09-30T00:00:00",
          "2020-10-31T00:00:00",
          "2020-11-30T00:00:00",
          "2020-12-31T00:00:00",
          "2021-01-31T00:00:00",
          "2021-02-28T00:00:00",
          "2021-03-31T00:00:00",
          "2021-04-30T00:00:00",
          "2021-05-31T00:00:00",
          "2021-06-30T00:00:00",
          "2021-07-31T00:00:00",
          "2021-08-31T00:00:00",
          "2021-09-30T00:00:00",
          "2021-10-31T00:00:00",
          "2021-11-30T00:00:00",
          "2021-12-31T00:00:00",
          "2022-01-31T00:00:00",
          "2022-02-28T00:00:00",
          "2022-03-31T00:00:00",
          "2022-04-30T00:00:00",
          "2022-05-31T00:00:00",
          "2022-06-30T00:00:00",
          "2022-07-31T00:00:00",
          "2022-08-31T00:00:00",
          "2022-09-30T00:00:00",
          "2022-10-31T00:00:00",
          "2022-11-30T00:00:00"
         ],
         "y": [
          10.24209,
          9.48196,
          6.81818,
          8.27273,
          9.38497,
          9.375,
          9.76158,
          9.0625,
          6.65499,
          6.11087,
          4.77016,
          2.73387,
          1.39358,
          1.01394,
          1.74468,
          0.41982,
          -0.41649,
          -0.95238,
          -2.86885,
          -2.98813,
          -2.50411,
          -2.63266,
          -1.90397,
          -1.82952,
          -2.08247,
          -1.25471,
          -1.12923,
          -1.12876,
          -0.58553,
          -0.16722,
          1.56118,
          2.1097,
          2.48421,
          3.50655,
          3.79747,
          5.80263,
          7.95406,
          9.4028,
          9.47547,
          9.59831,
          9.3395,
          8.58459,
          7.64437,
          6.8595,
          6.9433,
          6.77551,
          6.99187,
          5.96477,
          4.21592,
          2.24545,
          1.97063,
          2.08333,
          1.84686,
          2.31392,
          2.97183,
          3.20959,
          2.30503,
          2.02599,
          1.40578,
          0.90669,
          0.71834,
          0.68156,
          0.90944,
          0.86924,
          0.86891,
          0.90464,
          0.41229,
          0.59948,
          0.97634,
          0.97415,
          0.59948,
          0.59903,
          1.12613,
          1.50432,
          1.12655,
          0.63694,
          0.86142,
          0.63504,
          0.26129,
          0,
          -0.29751,
          -0.85343,
          -0.26071,
          -0.37216,
          -0.63103,
          -0.62986,
          -0.51987,
          -0.26061,
          -0.59413,
          -0.85375,
          -0.3723,
          -0.48417,
          0.1492,
          0.37425,
          0.37341,
          0.37355,
          0.22413,
          0.14914,
          0.37327,
          0.52258,
          0.97124,
          1.64732,
          1.98057,
          2.20808,
          1.8622,
          2.57271,
          2.34375,
          2.82843,
          3.13082,
          3.49963,
          3.60729,
          3.71333,
          3.58861,
          3.53591,
          3.29791,
          3.55181,
          3.54662,
          2.94438,
          3.27154,
          3.04017,
          3.5056,
          3.23741,
          3.62527,
          3.61618,
          3.35714,
          2.84596,
          2.48315,
          2.3338,
          2.08333,
          2.08333,
          1.90074,
          1.75623,
          1.2919,
          1.0453,
          0.34638,
          0.13822,
          0.34554,
          0.6918,
          0.89997,
          0.8293,
          1.17606,
          1.52196,
          1.38169,
          1.51881,
          1.24095,
          1.41379,
          1.51881,
          1.93237,
          1.82507,
          1.71762,
          1.37221,
          1.47361,
          1.23077,
          1.36286,
          1.46508,
          1.36008,
          1.60027,
          1.46209,
          1.46209,
          0.91401,
          0.91309,
          0.77676,
          1.25212,
          1.11449,
          1.24958,
          0.77311,
          0.67159,
          0.67092,
          0.67024,
          0.90483,
          1.1059,
          1.34183,
          1.34048,
          1.23995,
          1.00267,
          1.1356,
          1.46765,
          1.33422,
          1.33422,
          1.23292,
          1.33156,
          1.22883,
          1.12695,
          0.89374,
          0.89286,
          1.32406,
          1.55526,
          1.55218,
          0.98619,
          1.21791,
          1.31666,
          1.64582,
          1.64258,
          1.41076,
          1.40937,
          1.54199,
          1.54048,
          1.30676,
          1.07527,
          0.97561,
          1.17188,
          1.20325,
          1.39701,
          1.19819,
          1.0989,
          1.19702,
          1.19586,
          1.38934,
          1.61394,
          1.93486,
          1.80529,
          1.61031,
          1.73745,
          1.70308,
          1.73021,
          1.92,
          1.91816,
          2.55754,
          2.77866,
          2.86807,
          2.76366,
          2.43594,
          2.75491,
          3.48653,
          3.57369,
          3.79147,
          3.55906,
          3.3595,
          3.1995,
          2.86783,
          2.54817,
          2.54027,
          2.31839,
          2.84126,
          2.92758,
          2.60337,
          2.59542,
          2.58752,
          3.10219,
          3.28068,
          3.64742,
          3.63636,
          3.93939,
          3.92749,
          4.22961,
          4.2042,
          4.49102,
          4.47761,
          4.46429,
          4.74777,
          4.42478,
          4.70588,
          4.69208,
          4.67836,
          5.24781,
          5.52326,
          5.50725,
          5.4755,
          5.44413,
          5.42857,
          5.69801,
          5.66572,
          5.9322,
          5.89888,
          6.16246,
          6.42458,
          6.09418,
          6.06061,
          6.04396,
          6.01093,
          5.70652,
          5.69106,
          5.66038,
          5.63003,
          5.6,
          5.57029,
          5.27704,
          4.72441,
          4.43864,
          4.15584,
          4.40415,
          4.38144,
          4.37018,
          4.35897,
          4.08163,
          3.80711,
          3.53535,
          3.26633,
          3.25815,
          3.7594,
          3.5,
          3.49127,
          3.22581,
          2.96296,
          2.95567,
          2.9484,
          3.18627,
          3.17848,
          3.41463,
          3.40633,
          3.64078,
          3.86473,
          4.83092,
          5.3012,
          5.52885,
          5.9952,
          5.74163,
          7.39857,
          7.36342,
          8.05687,
          8.25472,
          8.94118,
          9.60187,
          10,
          10.13825,
          10.06865,
          10.70615,
          10.85973,
          11.53846,
          10.88889,
          11.9469,
          11.84211,
          12.20044,
          12.09503,
          11.75214,
          11.20507,
          10.46025,
          10.18711,
          9.25926,
          9.18367,
          9.53347,
          8.61723,
          7.90514,
          7.64706,
          7.37864,
          7.12909,
          6.69216,
          6.27376,
          6.06061,
          5.84906,
          6.21469,
          5.98131,
          5.55556,
          5.71956,
          5.49451,
          5.46448,
          5.06329,
          5.03597,
          5.19713,
          6.08229,
          6.42857,
          6.95187,
          6.73759,
          6.70194,
          6.66667,
          6.63176,
          6.42361,
          6.39033,
          6.71256,
          6.67808,
          6.81431,
          6.23946,
          6.37584,
          6.5,
          7.14286,
          7.43802,
          7.73026,
          7.85597,
          8.48287,
          8.92857,
          8.87097,
          8.98876,
          9.2504,
          9.84127,
          10.25237,
          10.48513,
          10.69767,
          11.07692,
          11.45038,
          11.83612,
          11.8797,
          12.07154,
          12.59259,
          13.25479,
          13.86861,
          14.16185,
          14.59227,
          14.58924,
          14.42577,
          14.26593,
          13.15068,
          12.89009,
          12.76882,
          12.63298,
          12.63158,
          12.35371,
          11.79487,
          11.39241,
          10.61174,
          10.13597,
          9.79192,
          9.69697,
          10.77482,
          10.81731,
          10.96544,
          10.27155,
          9.57944,
          8.91204,
          8.25688,
          7.61364,
          6.88488,
          6.62177,
          6.91193,
          7.18232,
          6.55738,
          5.96529,
          4.94092,
          5.03212,
          4.47761,
          3.82572,
          3.70763,
          3.48469,
          3.59029,
          4,
          3.44108,
          2.47423,
          2.35897,
          2.4565,
          2.76356,
          2.75229,
          3.16327,
          3.7871,
          4.29009,
          4.69388,
          4.89297,
          4.55466,
          4.33468,
          4.32596,
          4.30862,
          4.2957,
          4.28287,
          4.26587,
          4.1543,
          4.04339,
          3.52595,
          3.60624,
          3.79009,
          3.5818,
          3.57488,
          3.66442,
          3.45821,
          3.35249,
          3.24737,
          3.23501,
          3.51377,
          3.79147,
          3.97351,
          3.19849,
          2.15356,
          1.58879,
          1.6791,
          1.76744,
          1.67131,
          1.57553,
          1.75763,
          1.56682,
          1.2844,
          1.18721,
          1.36488,
          1.91431,
          2.84143,
          3.67985,
          3.66972,
          3.74771,
          3.92694,
          4.28832,
          4.27273,
          4.35572,
          4.52899,
          4.33213,
          4.12926,
          3.9356,
          3.83244,
          3.9929,
          3.9823,
          3.96476,
          4.13005,
          4.11199,
          4.18483,
          4.26087,
          4.2461,
          4.41176,
          4.48276,
          4.64716,
          4.8927,
          5.03413,
          5.2766,
          5.16949,
          5.06329,
          4.62185,
          4.43515,
          4.58716,
          4.65503,
          4.6396,
          5.19802,
          5.26316,
          5.23732,
          4.71162,
          4.3654,
          4.67365,
          4.81928,
          5.70281,
          6.16987,
          6.37959,
          6.19539,
          6.25495,
          5.64706,
          5.3125,
          4.82115,
          4.80993,
          5.03486,
          4.69592,
          4.36782,
          3.79939,
          3.39623,
          2.84858,
          3.06657,
          2.98063,
          2.67261,
          2.81899,
          3.18991,
          3.18283,
          3.0236,
          3.01471,
          3.15712,
          3.07467,
          2.9927,
          3.27988,
          3.12046,
          2.96671,
          3.2538,
          3.24675,
          3.01941,
          3.15638,
          3.22119,
          2.99786,
          2.84698,
          2.84091,
          2.764,
          2.75229,
          2.74455,
          2.81096,
          2.45098,
          2.51572,
          2.65178,
          2.36439,
          2.28849,
          2.4948,
          2.69896,
          2.90055,
          2.96552,
          2.60989,
          2.60274,
          2.5974,
          2.87081,
          2.86299,
          2.78722,
          3.125,
          3.11864,
          3.0426,
          2.83019,
          2.61745,
          2.54521,
          2.74431,
          2.60347,
          2.53165,
          2.7907,
          2.71703,
          2.84392,
          2.83267,
          2.82709,
          2.82152,
          2.88336,
          2.8123,
          3.00457,
          3.06189,
          3.25309,
          3.37882,
          3.03814,
          3.03226,
          2.76527,
          2.43434,
          2.23785,
          2.23357,
          2.16561,
          2.29008,
          2.2194,
          2.08597,
          1.89036,
          1.69705,
          1.63112,
          1.4402,
          1.37672,
          1.4384,
          1.68856,
          1.62297,
          1.74564,
          1.61692,
          1.4268,
          1.48607,
          1.48423,
          1.60692,
          1.66667,
          1.66667,
          1.7284,
          2.28113,
          2.09102,
          1.9656,
          2.14461,
          2.26438,
          2.62997,
          2.56254,
          2.62035,
          2.6764,
          2.79296,
          3.21797,
          3.76214,
          3.01386,
          3.13253,
          3.73494,
          3.59928,
          3.35129,
          3.4565,
          3.45033,
          3.44418,
          3.43602,
          3.7212,
          3.52941,
          2.98246,
          3.21826,
          3.56308,
          3.19396,
          2.72148,
          2.72148,
          2.59217,
          2.12766,
          1.89437,
          1.60367,
          1.1959,
          1.13636,
          1.36286,
          1.64399,
          1.24083,
          1.06922,
          1.46561,
          1.74746,
          1.516,
          2.02703,
          2.25352,
          2.48027,
          2.75746,
          3.14607,
          3.02521,
          2.17513,
          1.89415,
          1.94878,
          2.05556,
          2.21607,
          2.37832,
          2.04194,
          1.92837,
          2.0352,
          2.02629,
          1.68845,
          1.74008,
          2.29258,
          2.89776,
          3.16767,
          2.93958,
          2.54743,
          2.53917,
          3.19091,
          3.62162,
          3.34232,
          2.84487,
          3.05303,
          3.20684,
          3.36179,
          2.86929,
          2.54103,
          3.06716,
          3.64693,
          4.74183,
          4.3501,
          3.33855,
          3.33855,
          4.01879,
          3.63825,
          3.41792,
          3.61384,
          3.97727,
          4.18172,
          4.10467,
          3.92657,
          2.01207,
          1.40633,
          1.9687,
          2.52398,
          2.07577,
          2.42026,
          2.7982,
          2.59292,
          2.70989,
          2.69277,
          2.31789,
          1.89745,
          2.83383,
          3.6107,
          4.37327,
          4.10881,
          4.2947,
          4.14296,
          3.9749,
          3.90376,
          4.08841,
          4.93597,
          5.49751,
          5.30802,
          4.95332,
          3.73106,
          1.09992,
          -0.02223,
          -0.11359,
          0.00846,
          -0.44648,
          -0.57632,
          -1.01576,
          -1.22917,
          -1.95876,
          -1.48384,
          -1.37794,
          -0.22397,
          1.91459,
          2.81412,
          2.62111,
          2.15134,
          2.28617,
          2.20677,
          2.00355,
          1.12156,
          1.34078,
          1.15018,
          1.11831,
          1.1667,
          1.08454,
          1.43779,
          1.70078,
          2.1249,
          2.61924,
          3.07723,
          3.45897,
          3.50232,
          3.57988,
          3.755,
          3.81262,
          3.52227,
          3.45143,
          3.06207,
          3.00877,
          2.89818,
          2.58288,
          2.27316,
          1.73794,
          1.65387,
          1.41751,
          1.68593,
          1.94972,
          2.15568,
          1.79602,
          1.7595,
          1.68406,
          2.01814,
          1.51875,
          1.13881,
          1.39039,
          1.71579,
          1.88547,
          1.53881,
          1.09473,
          0.8768,
          1.23287,
          1.51284,
          1.55776,
          1.12047,
          1.61269,
          2.01513,
          2.16695,
          2.05898,
          1.97424,
          1.7151,
          1.68405,
          1.60954,
          1.23152,
          0.65312,
          -0.22993,
          -0.08703,
          -0.02203,
          -0.10403,
          0.03503,
          0.17957,
          0.22569,
          0.2413,
          0.00884,
          0.12762,
          0.43632,
          0.63872,
          1.2375,
          0.84728,
          0.89162,
          1.17263,
          1.07848,
          1.07929,
          0.86836,
          1.05532,
          1.54864,
          1.68592,
          1.68433,
          2.0508,
          2.51039,
          2.81036,
          2.4412,
          2.17622,
          1.85634,
          1.64057,
          1.72511,
          1.92812,
          2.18057,
          2.02076,
          2.17249,
          2.12993,
          2.15132,
          2.26347,
          2.33095,
          2.471,
          2.78192,
          2.80755,
          2.85412,
          2.64292,
          2.33206,
          2.49203,
          2.14733,
          2.00238,
          1.55068,
          1.52006,
          1.85314,
          1.99179,
          1.79352,
          1.64968,
          1.77976,
          1.74678,
          1.71662,
          1.76918,
          2.0622,
          2.31399,
          2.50042,
          2.33932,
          1.54287,
          0.3452,
          0.22641,
          0.71602,
          1.01414,
          1.30907,
          1.37148,
          1.18253,
          1.16756,
          1.32204,
          1.39478,
          1.69336,
          2.63052,
          4.13055,
          4.91503,
          5.28161,
          5.22151,
          5.18829,
          5.38363,
          6.23775,
          6.86239,
          7.19446,
          7.59528,
          7.95485,
          8.51522,
          8.22777,
          8.50233,
          8.93299,
          8.41318,
          8.22736,
          8.21485,
          7.76249,
          7.13535,
          6.44494
         ],
         "yaxis": "y2"
        }
       ],
       "layout": {
        "template": {
         "data": {
          "bar": [
           {
            "error_x": {
             "color": "#2a3f5f"
            },
            "error_y": {
             "color": "#2a3f5f"
            },
            "marker": {
             "line": {
              "color": "#E5ECF6",
              "width": 0.5
             },
             "pattern": {
              "fillmode": "overlay",
              "size": 10,
              "solidity": 0.2
             }
            },
            "type": "bar"
           }
          ],
          "barpolar": [
           {
            "marker": {
             "line": {
              "color": "#E5ECF6",
              "width": 0.5
             },
             "pattern": {
              "fillmode": "overlay",
              "size": 10,
              "solidity": 0.2
             }
            },
            "type": "barpolar"
           }
          ],
          "carpet": [
           {
            "aaxis": {
             "endlinecolor": "#2a3f5f",
             "gridcolor": "white",
             "linecolor": "white",
             "minorgridcolor": "white",
             "startlinecolor": "#2a3f5f"
            },
            "baxis": {
             "endlinecolor": "#2a3f5f",
             "gridcolor": "white",
             "linecolor": "white",
             "minorgridcolor": "white",
             "startlinecolor": "#2a3f5f"
            },
            "type": "carpet"
           }
          ],
          "choropleth": [
           {
            "colorbar": {
             "outlinewidth": 0,
             "ticks": ""
            },
            "type": "choropleth"
           }
          ],
          "contour": [
           {
            "colorbar": {
             "outlinewidth": 0,
             "ticks": ""
            },
            "colorscale": [
             [
              0,
              "#0d0887"
             ],
             [
              0.1111111111111111,
              "#46039f"
             ],
             [
              0.2222222222222222,
              "#7201a8"
             ],
             [
              0.3333333333333333,
              "#9c179e"
             ],
             [
              0.4444444444444444,
              "#bd3786"
             ],
             [
              0.5555555555555556,
              "#d8576b"
             ],
             [
              0.6666666666666666,
              "#ed7953"
             ],
             [
              0.7777777777777778,
              "#fb9f3a"
             ],
             [
              0.8888888888888888,
              "#fdca26"
             ],
             [
              1,
              "#f0f921"
             ]
            ],
            "type": "contour"
           }
          ],
          "contourcarpet": [
           {
            "colorbar": {
             "outlinewidth": 0,
             "ticks": ""
            },
            "type": "contourcarpet"
           }
          ],
          "heatmap": [
           {
            "colorbar": {
             "outlinewidth": 0,
             "ticks": ""
            },
            "colorscale": [
             [
              0,
              "#0d0887"
             ],
             [
              0.1111111111111111,
              "#46039f"
             ],
             [
              0.2222222222222222,
              "#7201a8"
             ],
             [
              0.3333333333333333,
              "#9c179e"
             ],
             [
              0.4444444444444444,
              "#bd3786"
             ],
             [
              0.5555555555555556,
              "#d8576b"
             ],
             [
              0.6666666666666666,
              "#ed7953"
             ],
             [
              0.7777777777777778,
              "#fb9f3a"
             ],
             [
              0.8888888888888888,
              "#fdca26"
             ],
             [
              1,
              "#f0f921"
             ]
            ],
            "type": "heatmap"
           }
          ],
          "heatmapgl": [
           {
            "colorbar": {
             "outlinewidth": 0,
             "ticks": ""
            },
            "colorscale": [
             [
              0,
              "#0d0887"
             ],
             [
              0.1111111111111111,
              "#46039f"
             ],
             [
              0.2222222222222222,
              "#7201a8"
             ],
             [
              0.3333333333333333,
              "#9c179e"
             ],
             [
              0.4444444444444444,
              "#bd3786"
             ],
             [
              0.5555555555555556,
              "#d8576b"
             ],
             [
              0.6666666666666666,
              "#ed7953"
             ],
             [
              0.7777777777777778,
              "#fb9f3a"
             ],
             [
              0.8888888888888888,
              "#fdca26"
             ],
             [
              1,
              "#f0f921"
             ]
            ],
            "type": "heatmapgl"
           }
          ],
          "histogram": [
           {
            "marker": {
             "pattern": {
              "fillmode": "overlay",
              "size": 10,
              "solidity": 0.2
             }
            },
            "type": "histogram"
           }
          ],
          "histogram2d": [
           {
            "colorbar": {
             "outlinewidth": 0,
             "ticks": ""
            },
            "colorscale": [
             [
              0,
              "#0d0887"
             ],
             [
              0.1111111111111111,
              "#46039f"
             ],
             [
              0.2222222222222222,
              "#7201a8"
             ],
             [
              0.3333333333333333,
              "#9c179e"
             ],
             [
              0.4444444444444444,
              "#bd3786"
             ],
             [
              0.5555555555555556,
              "#d8576b"
             ],
             [
              0.6666666666666666,
              "#ed7953"
             ],
             [
              0.7777777777777778,
              "#fb9f3a"
             ],
             [
              0.8888888888888888,
              "#fdca26"
             ],
             [
              1,
              "#f0f921"
             ]
            ],
            "type": "histogram2d"
           }
          ],
          "histogram2dcontour": [
           {
            "colorbar": {
             "outlinewidth": 0,
             "ticks": ""
            },
            "colorscale": [
             [
              0,
              "#0d0887"
             ],
             [
              0.1111111111111111,
              "#46039f"
             ],
             [
              0.2222222222222222,
              "#7201a8"
             ],
             [
              0.3333333333333333,
              "#9c179e"
             ],
             [
              0.4444444444444444,
              "#bd3786"
             ],
             [
              0.5555555555555556,
              "#d8576b"
             ],
             [
              0.6666666666666666,
              "#ed7953"
             ],
             [
              0.7777777777777778,
              "#fb9f3a"
             ],
             [
              0.8888888888888888,
              "#fdca26"
             ],
             [
              1,
              "#f0f921"
             ]
            ],
            "type": "histogram2dcontour"
           }
          ],
          "mesh3d": [
           {
            "colorbar": {
             "outlinewidth": 0,
             "ticks": ""
            },
            "type": "mesh3d"
           }
          ],
          "parcoords": [
           {
            "line": {
             "colorbar": {
              "outlinewidth": 0,
              "ticks": ""
             }
            },
            "type": "parcoords"
           }
          ],
          "pie": [
           {
            "automargin": true,
            "type": "pie"
           }
          ],
          "scatter": [
           {
            "marker": {
             "colorbar": {
              "outlinewidth": 0,
              "ticks": ""
             }
            },
            "type": "scatter"
           }
          ],
          "scatter3d": [
           {
            "line": {
             "colorbar": {
              "outlinewidth": 0,
              "ticks": ""
             }
            },
            "marker": {
             "colorbar": {
              "outlinewidth": 0,
              "ticks": ""
             }
            },
            "type": "scatter3d"
           }
          ],
          "scattercarpet": [
           {
            "marker": {
             "colorbar": {
              "outlinewidth": 0,
              "ticks": ""
             }
            },
            "type": "scattercarpet"
           }
          ],
          "scattergeo": [
           {
            "marker": {
             "colorbar": {
              "outlinewidth": 0,
              "ticks": ""
             }
            },
            "type": "scattergeo"
           }
          ],
          "scattergl": [
           {
            "marker": {
             "colorbar": {
              "outlinewidth": 0,
              "ticks": ""
             }
            },
            "type": "scattergl"
           }
          ],
          "scattermapbox": [
           {
            "marker": {
             "colorbar": {
              "outlinewidth": 0,
              "ticks": ""
             }
            },
            "type": "scattermapbox"
           }
          ],
          "scatterpolar": [
           {
            "marker": {
             "colorbar": {
              "outlinewidth": 0,
              "ticks": ""
             }
            },
            "type": "scatterpolar"
           }
          ],
          "scatterpolargl": [
           {
            "marker": {
             "colorbar": {
              "outlinewidth": 0,
              "ticks": ""
             }
            },
            "type": "scatterpolargl"
           }
          ],
          "scatterternary": [
           {
            "marker": {
             "colorbar": {
              "outlinewidth": 0,
              "ticks": ""
             }
            },
            "type": "scatterternary"
           }
          ],
          "surface": [
           {
            "colorbar": {
             "outlinewidth": 0,
             "ticks": ""
            },
            "colorscale": [
             [
              0,
              "#0d0887"
             ],
             [
              0.1111111111111111,
              "#46039f"
             ],
             [
              0.2222222222222222,
              "#7201a8"
             ],
             [
              0.3333333333333333,
              "#9c179e"
             ],
             [
              0.4444444444444444,
              "#bd3786"
             ],
             [
              0.5555555555555556,
              "#d8576b"
             ],
             [
              0.6666666666666666,
              "#ed7953"
             ],
             [
              0.7777777777777778,
              "#fb9f3a"
             ],
             [
              0.8888888888888888,
              "#fdca26"
             ],
             [
              1,
              "#f0f921"
             ]
            ],
            "type": "surface"
           }
          ],
          "table": [
           {
            "cells": {
             "fill": {
              "color": "#EBF0F8"
             },
             "line": {
              "color": "white"
             }
            },
            "header": {
             "fill": {
              "color": "#C8D4E3"
             },
             "line": {
              "color": "white"
             }
            },
            "type": "table"
           }
          ]
         },
         "layout": {
          "annotationdefaults": {
           "arrowcolor": "#2a3f5f",
           "arrowhead": 0,
           "arrowwidth": 1
          },
          "autotypenumbers": "strict",
          "coloraxis": {
           "colorbar": {
            "outlinewidth": 0,
            "ticks": ""
           }
          },
          "colorscale": {
           "diverging": [
            [
             0,
             "#8e0152"
            ],
            [
             0.1,
             "#c51b7d"
            ],
            [
             0.2,
             "#de77ae"
            ],
            [
             0.3,
             "#f1b6da"
            ],
            [
             0.4,
             "#fde0ef"
            ],
            [
             0.5,
             "#f7f7f7"
            ],
            [
             0.6,
             "#e6f5d0"
            ],
            [
             0.7,
             "#b8e186"
            ],
            [
             0.8,
             "#7fbc41"
            ],
            [
             0.9,
             "#4d9221"
            ],
            [
             1,
             "#276419"
            ]
           ],
           "sequential": [
            [
             0,
             "#0d0887"
            ],
            [
             0.1111111111111111,
             "#46039f"
            ],
            [
             0.2222222222222222,
             "#7201a8"
            ],
            [
             0.3333333333333333,
             "#9c179e"
            ],
            [
             0.4444444444444444,
             "#bd3786"
            ],
            [
             0.5555555555555556,
             "#d8576b"
            ],
            [
             0.6666666666666666,
             "#ed7953"
            ],
            [
             0.7777777777777778,
             "#fb9f3a"
            ],
            [
             0.8888888888888888,
             "#fdca26"
            ],
            [
             1,
             "#f0f921"
            ]
           ],
           "sequentialminus": [
            [
             0,
             "#0d0887"
            ],
            [
             0.1111111111111111,
             "#46039f"
            ],
            [
             0.2222222222222222,
             "#7201a8"
            ],
            [
             0.3333333333333333,
             "#9c179e"
            ],
            [
             0.4444444444444444,
             "#bd3786"
            ],
            [
             0.5555555555555556,
             "#d8576b"
            ],
            [
             0.6666666666666666,
             "#ed7953"
            ],
            [
             0.7777777777777778,
             "#fb9f3a"
            ],
            [
             0.8888888888888888,
             "#fdca26"
            ],
            [
             1,
             "#f0f921"
            ]
           ]
          },
          "colorway": [
           "#636efa",
           "#EF553B",
           "#00cc96",
           "#ab63fa",
           "#FFA15A",
           "#19d3f3",
           "#FF6692",
           "#B6E880",
           "#FF97FF",
           "#FECB52"
          ],
          "font": {
           "color": "#2a3f5f"
          },
          "geo": {
           "bgcolor": "white",
           "lakecolor": "white",
           "landcolor": "#E5ECF6",
           "showlakes": true,
           "showland": true,
           "subunitcolor": "white"
          },
          "hoverlabel": {
           "align": "left"
          },
          "hovermode": "closest",
          "mapbox": {
           "style": "light"
          },
          "paper_bgcolor": "white",
          "plot_bgcolor": "#E5ECF6",
          "polar": {
           "angularaxis": {
            "gridcolor": "white",
            "linecolor": "white",
            "ticks": ""
           },
           "bgcolor": "#E5ECF6",
           "radialaxis": {
            "gridcolor": "white",
            "linecolor": "white",
            "ticks": ""
           }
          },
          "scene": {
           "xaxis": {
            "backgroundcolor": "#E5ECF6",
            "gridcolor": "white",
            "gridwidth": 2,
            "linecolor": "white",
            "showbackground": true,
            "ticks": "",
            "zerolinecolor": "white"
           },
           "yaxis": {
            "backgroundcolor": "#E5ECF6",
            "gridcolor": "white",
            "gridwidth": 2,
            "linecolor": "white",
            "showbackground": true,
            "ticks": "",
            "zerolinecolor": "white"
           },
           "zaxis": {
            "backgroundcolor": "#E5ECF6",
            "gridcolor": "white",
            "gridwidth": 2,
            "linecolor": "white",
            "showbackground": true,
            "ticks": "",
            "zerolinecolor": "white"
           }
          },
          "shapedefaults": {
           "line": {
            "color": "#2a3f5f"
           }
          },
          "ternary": {
           "aaxis": {
            "gridcolor": "white",
            "linecolor": "white",
            "ticks": ""
           },
           "baxis": {
            "gridcolor": "white",
            "linecolor": "white",
            "ticks": ""
           },
           "bgcolor": "#E5ECF6",
           "caxis": {
            "gridcolor": "white",
            "linecolor": "white",
            "ticks": ""
           }
          },
          "title": {
           "x": 0.05
          },
          "xaxis": {
           "automargin": true,
           "gridcolor": "white",
           "linecolor": "white",
           "ticks": "",
           "title": {
            "standoff": 15
           },
           "zerolinecolor": "white",
           "zerolinewidth": 2
          },
          "yaxis": {
           "automargin": true,
           "gridcolor": "white",
           "linecolor": "white",
           "ticks": "",
           "title": {
            "standoff": 15
           },
           "zerolinecolor": "white",
           "zerolinewidth": 2
          }
         }
        },
        "title": {
         "text": "Size of Long and Short"
        },
        "xaxis": {
         "title": {
          "text": "Date"
         }
        },
        "yaxis": {
         "title": {
          "text": "Size of Long and Short"
         }
        },
        "yaxis2": {
         "overlaying": "y",
         "side": "right",
         "title": {
          "text": "CPI"
         }
        }
       }
      }
     },
     "metadata": {},
     "output_type": "display_data"
    }
   ],
   "source": [
    "fig = go.Figure()\n",
    "fig.add_trace(go.Scatter(x=portfolio[\"date\"], y=long_size, name=\"long\"))\n",
    "fig.add_trace(go.Scatter(x=portfolio[\"date\"], y=short_size, name=\"short\"))\n",
    "fig.update_layout(title=\"Size of Long and Short\", xaxis_title=\"Date\", yaxis_title=\"Size of Long and Short\")\n",
    "\n",
    "# plot cpi\n",
    "fig.add_trace(go.Scatter(x=cpi[\"date\"], y=cpi[\"CPI\"], name=\"CPI\", yaxis=\"y2\"))\n",
    "fig.update_layout(yaxis2=dict(overlaying=\"y\", side=\"right\", title=\"CPI\"))\n",
    "\n",
    "fig.show()"
   ]
  },
  {
   "cell_type": "code",
   "execution_count": null,
   "metadata": {},
   "outputs": [],
   "source": [
    "sig_stocks = sig_stocks.merge(stocks[[\"datadate\", \"gvkey\", \"trt1m\"]], how=\"left\", left_on=[\"gvkey\", \"date\"], right_on=[\"gvkey\", \"datadate\"])"
   ]
  },
  {
   "cell_type": "code",
   "execution_count": null,
   "metadata": {},
   "outputs": [],
   "source": []
  },
  {
   "cell_type": "code",
   "execution_count": null,
   "metadata": {},
   "outputs": [],
   "source": []
  },
  {
   "cell_type": "code",
   "execution_count": null,
   "metadata": {},
   "outputs": [
    {
     "data": {
      "text/html": [
       "<div>\n",
       "<style scoped>\n",
       "    .dataframe tbody tr th:only-of-type {\n",
       "        vertical-align: middle;\n",
       "    }\n",
       "\n",
       "    .dataframe tbody tr th {\n",
       "        vertical-align: top;\n",
       "    }\n",
       "\n",
       "    .dataframe thead th {\n",
       "        text-align: right;\n",
       "    }\n",
       "</style>\n",
       "<table border=\"1\" class=\"dataframe\">\n",
       "  <thead>\n",
       "    <tr style=\"text-align: right;\">\n",
       "      <th></th>\n",
       "      <th>date</th>\n",
       "      <th>long</th>\n",
       "      <th>short</th>\n",
       "    </tr>\n",
       "  </thead>\n",
       "  <tbody>\n",
       "    <tr>\n",
       "      <th>0</th>\n",
       "      <td>2004-11-30</td>\n",
       "      <td>[21519, 28111, 28109, 23218, 112622, 19159, 85...</td>\n",
       "      <td>[124438, 151908, 143664, 112544, 124320, 12435...</td>\n",
       "    </tr>\n",
       "    <tr>\n",
       "      <th>1</th>\n",
       "      <td>2004-12-31</td>\n",
       "      <td>[12550, 121662, 105478, 65809, 65809, 105570, ...</td>\n",
       "      <td>[24943, 24943, 205874, 3138, 29944, 10013, 285...</td>\n",
       "    </tr>\n",
       "    <tr>\n",
       "      <th>2</th>\n",
       "      <td>2005-01-31</td>\n",
       "      <td>[16454, 152808, 108172, 62521, 155032, 62206, ...</td>\n",
       "      <td>[30598, 205942, 106903, 26065, 110386, 205874,...</td>\n",
       "    </tr>\n",
       "    <tr>\n",
       "      <th>3</th>\n",
       "      <td>2005-02-28</td>\n",
       "      <td>[142380, 143625, 148240, 21311, 140190, 2204, ...</td>\n",
       "      <td>[63896, 63896, 62592, 64017, 21320, 62597, 157...</td>\n",
       "    </tr>\n",
       "    <tr>\n",
       "      <th>4</th>\n",
       "      <td>2005-03-31</td>\n",
       "      <td>[5330, 108365, 157235, 17286, 17197, 11708, 31...</td>\n",
       "      <td>[160926, 63826, 25364, 107541, 105478, 105488,...</td>\n",
       "    </tr>\n",
       "    <tr>\n",
       "      <th>...</th>\n",
       "      <td>...</td>\n",
       "      <td>...</td>\n",
       "      <td>...</td>\n",
       "    </tr>\n",
       "    <tr>\n",
       "      <th>177</th>\n",
       "      <td>2019-08-31</td>\n",
       "      <td>[186126, 183278, 183278, 160341, 285660, 19627...</td>\n",
       "      <td>[61090, 147564, 171114, 147891, 31668, 194855,...</td>\n",
       "    </tr>\n",
       "    <tr>\n",
       "      <th>178</th>\n",
       "      <td>2019-09-30</td>\n",
       "      <td>[184113, 19359, 19359, 175474, 175474, 107616,...</td>\n",
       "      <td>[186173, 186173, 177166, 184142, 180390, 31453...</td>\n",
       "    </tr>\n",
       "    <tr>\n",
       "      <th>179</th>\n",
       "      <td>2019-10-31</td>\n",
       "      <td>[30571, 32698, 180874, 180874, 177487, 18874, ...</td>\n",
       "      <td>[31848, 147891, 276613, 66597, 16705, 26045, 1...</td>\n",
       "    </tr>\n",
       "    <tr>\n",
       "      <th>180</th>\n",
       "      <td>2019-11-30</td>\n",
       "      <td>[111667, 32870, 5284, 5284, 31628, 26881, 2688...</td>\n",
       "      <td>[66042, 184747, 184747, 33858, 33852, 21765, 6...</td>\n",
       "    </tr>\n",
       "    <tr>\n",
       "      <th>181</th>\n",
       "      <td>2019-12-31</td>\n",
       "      <td>[187659, 32255, 108456, 121375, 33134, 177392,...</td>\n",
       "      <td>[175982, 105982, 145061, 317264, 33240, 34135,...</td>\n",
       "    </tr>\n",
       "  </tbody>\n",
       "</table>\n",
       "<p>182 rows × 3 columns</p>\n",
       "</div>"
      ],
      "text/plain": [
       "          date                                               long  \\\n",
       "0   2004-11-30  [21519, 28111, 28109, 23218, 112622, 19159, 85...   \n",
       "1   2004-12-31  [12550, 121662, 105478, 65809, 65809, 105570, ...   \n",
       "2   2005-01-31  [16454, 152808, 108172, 62521, 155032, 62206, ...   \n",
       "3   2005-02-28  [142380, 143625, 148240, 21311, 140190, 2204, ...   \n",
       "4   2005-03-31  [5330, 108365, 157235, 17286, 17197, 11708, 31...   \n",
       "..         ...                                                ...   \n",
       "177 2019-08-31  [186126, 183278, 183278, 160341, 285660, 19627...   \n",
       "178 2019-09-30  [184113, 19359, 19359, 175474, 175474, 107616,...   \n",
       "179 2019-10-31  [30571, 32698, 180874, 180874, 177487, 18874, ...   \n",
       "180 2019-11-30  [111667, 32870, 5284, 5284, 31628, 26881, 2688...   \n",
       "181 2019-12-31  [187659, 32255, 108456, 121375, 33134, 177392,...   \n",
       "\n",
       "                                                 short  \n",
       "0    [124438, 151908, 143664, 112544, 124320, 12435...  \n",
       "1    [24943, 24943, 205874, 3138, 29944, 10013, 285...  \n",
       "2    [30598, 205942, 106903, 26065, 110386, 205874,...  \n",
       "3    [63896, 63896, 62592, 64017, 21320, 62597, 157...  \n",
       "4    [160926, 63826, 25364, 107541, 105478, 105488,...  \n",
       "..                                                 ...  \n",
       "177  [61090, 147564, 171114, 147891, 31668, 194855,...  \n",
       "178  [186173, 186173, 177166, 184142, 180390, 31453...  \n",
       "179  [31848, 147891, 276613, 66597, 16705, 26045, 1...  \n",
       "180  [66042, 184747, 184747, 33858, 33852, 21765, 6...  \n",
       "181  [175982, 105982, 145061, 317264, 33240, 34135,...  \n",
       "\n",
       "[182 rows x 3 columns]"
      ]
     },
     "metadata": {},
     "output_type": "display_data"
    }
   ],
   "source": [
    "portfolio"
   ]
  },
  {
   "cell_type": "code",
   "execution_count": null,
   "metadata": {},
   "outputs": [],
   "source": [
    "returns_dict={}\n",
    "for date in portfolio[\"date\"]:\n",
    "    next_month=date+MonthEnd(1)\n",
    "    # get all stocks we want to long\n",
    "    long_stocks = portfolio[(portfolio[\"date\"] == date)][\"long\"].values[0]\n",
    "    short_stocks = portfolio[(portfolio[\"date\"] == date)][\"short\"].values[0]\n",
    "    long_returns=stocks[(stocks[\"datadate\"]==next_month) & (stocks[\"gvkey\"].isin(long_stocks))][\"trt1m\"]\n",
    "    short_returns=stocks[(stocks[\"datadate\"]==next_month) & (stocks[\"gvkey\"].isin(short_stocks))][\"trt1m\"]\n",
    "\n",
    "    long_mean=long_returns.mean()\n",
    "    short_mean=short_returns.mean()\n",
    "\n",
    "    long_short_return=long_mean-short_mean\n",
    "\n",
    "    returns_dict[date]=long_short_return"
   ]
  },
  {
   "cell_type": "code",
   "execution_count": null,
   "metadata": {},
   "outputs": [],
   "source": [
    "#for each date get the return of each stock in the next month\n",
    "returns_dict={}\n",
    "for date in sig_stocks[\"date\"].sort_values().unique():\n",
    "    #get the next month\n",
    "    #if there is no next month, skip\n",
    "    # if date not in long_dict.keys():\n",
    "    #     continue\n",
    "    next_month=date+MonthEnd(1)\n",
    "    #get the stocks that are long and short\n",
    "    long_stocks=long_dict[date]\n",
    "    short_stocks=short_dict[date]\n",
    "    #get the returns of the stocks\n",
    "    long_returns=stocks[(stocks[\"datadate\"]==next_month) & (stocks[\"gvkey\"].isin(long_stocks))][\"trt1m\"]\n",
    "    short_returns=stocks[(stocks[\"datadate\"]==next_month) & (stocks[\"gvkey\"].isin(short_stocks))][\"trt1m\"]\n",
    "    # break\n",
    "    #get the mean of the returns\n",
    "    long_mean=long_returns.mean()\n",
    "    short_mean=short_returns.mean()\n",
    "    #get the difference\n",
    "    long_short_return=long_mean-short_mean\n",
    "    #create a dictionary of dates and differences\n",
    "    returns_dict[date]=long_short_return\n",
    "    # #get the t-stat\n",
    "    # t_stat=diff/np.sqrt((long_returns.var()/len(long_returns))+(short_returns.var()/len(short_returns)))\n",
    "    # #get the p-value\n",
    "    # p_value=1-stats.t.cdf(t_stat,len(long_returns)+len(short_returns)-2)\n",
    "    # print(\"Date: \",date)\n",
    "    # print(\"Long Mean: \",long_mean)\n",
    "    # print(\"Short Mean: \",short_mean)\n",
    "    # print(\"Difference: \",diff)\n",
    "    # print(\"t-stat: \",t_stat)\n",
    "    # print(\"p-value: \",p_value)\n",
    "    # print(\"\")"
   ]
  },
  {
   "cell_type": "code",
   "execution_count": null,
   "metadata": {},
   "outputs": [],
   "source": []
  },
  {
   "cell_type": "code",
   "execution_count": null,
   "metadata": {},
   "outputs": [
    {
     "data": {
      "text/html": [
       "<div>\n",
       "<style scoped>\n",
       "    .dataframe tbody tr th:only-of-type {\n",
       "        vertical-align: middle;\n",
       "    }\n",
       "\n",
       "    .dataframe tbody tr th {\n",
       "        vertical-align: top;\n",
       "    }\n",
       "\n",
       "    .dataframe thead th {\n",
       "        text-align: right;\n",
       "    }\n",
       "</style>\n",
       "<table border=\"1\" class=\"dataframe\">\n",
       "  <thead>\n",
       "    <tr style=\"text-align: right;\">\n",
       "      <th></th>\n",
       "      <th>return</th>\n",
       "    </tr>\n",
       "  </thead>\n",
       "  <tbody>\n",
       "    <tr>\n",
       "      <th>2004-11-30</th>\n",
       "      <td>3.773637</td>\n",
       "    </tr>\n",
       "    <tr>\n",
       "      <th>2004-12-31</th>\n",
       "      <td>1.891985</td>\n",
       "    </tr>\n",
       "    <tr>\n",
       "      <th>2005-01-31</th>\n",
       "      <td>-3.497916</td>\n",
       "    </tr>\n",
       "    <tr>\n",
       "      <th>2005-02-28</th>\n",
       "      <td>-3.386312</td>\n",
       "    </tr>\n",
       "    <tr>\n",
       "      <th>2005-03-31</th>\n",
       "      <td>1.054663</td>\n",
       "    </tr>\n",
       "    <tr>\n",
       "      <th>...</th>\n",
       "      <td>...</td>\n",
       "    </tr>\n",
       "    <tr>\n",
       "      <th>2019-07-31</th>\n",
       "      <td>9.748178</td>\n",
       "    </tr>\n",
       "    <tr>\n",
       "      <th>2019-08-31</th>\n",
       "      <td>-12.306143</td>\n",
       "    </tr>\n",
       "    <tr>\n",
       "      <th>2019-09-30</th>\n",
       "      <td>-14.330279</td>\n",
       "    </tr>\n",
       "    <tr>\n",
       "      <th>2019-10-31</th>\n",
       "      <td>4.249741</td>\n",
       "    </tr>\n",
       "    <tr>\n",
       "      <th>2019-11-30</th>\n",
       "      <td>3.688215</td>\n",
       "    </tr>\n",
       "  </tbody>\n",
       "</table>\n",
       "<p>181 rows × 1 columns</p>\n",
       "</div>"
      ],
      "text/plain": [
       "               return\n",
       "2004-11-30   3.773637\n",
       "2004-12-31   1.891985\n",
       "2005-01-31  -3.497916\n",
       "2005-02-28  -3.386312\n",
       "2005-03-31   1.054663\n",
       "...               ...\n",
       "2019-07-31   9.748178\n",
       "2019-08-31 -12.306143\n",
       "2019-09-30 -14.330279\n",
       "2019-10-31   4.249741\n",
       "2019-11-30   3.688215\n",
       "\n",
       "[181 rows x 1 columns]"
      ]
     },
     "metadata": {},
     "output_type": "display_data"
    }
   ],
   "source": [
    "#drop keys with nan values\n",
    "returns_dict={k: v for k, v in returns_dict.items() if not np.isnan(v)}\n",
    "#sort by date\n",
    "returns_dict=OrderedDict(sorted(returns_dict.items()))\n",
    "#convert to dataframe\n",
    "returns_dict=pd.DataFrame.from_dict(returns_dict,orient=\"index\")\n",
    "returns_dict.columns=[\"return\"]\n",
    "returns_dict"
   ]
  },
  {
   "cell_type": "code",
   "execution_count": null,
   "metadata": {},
   "outputs": [
    {
     "data": {
      "application/vnd.plotly.v1+json": {
       "config": {
        "plotlyServerURL": "https://plot.ly"
       },
       "data": [
        {
         "hovertemplate": "index=%{x}<br>return=%{y}<extra></extra>",
         "legendgroup": "",
         "line": {
          "color": "#636efa",
          "dash": "solid"
         },
         "marker": {
          "symbol": "circle"
         },
         "mode": "lines",
         "name": "",
         "orientation": "v",
         "showlegend": false,
         "type": "scatter",
         "x": [
          "2004-11-30T00:00:00",
          "2004-12-31T00:00:00",
          "2005-01-31T00:00:00",
          "2005-02-28T00:00:00",
          "2005-03-31T00:00:00",
          "2005-04-30T00:00:00",
          "2005-05-31T00:00:00",
          "2005-06-30T00:00:00",
          "2005-07-31T00:00:00",
          "2005-08-31T00:00:00",
          "2005-09-30T00:00:00",
          "2005-10-31T00:00:00",
          "2005-11-30T00:00:00",
          "2005-12-31T00:00:00",
          "2006-01-31T00:00:00",
          "2006-02-28T00:00:00",
          "2006-03-31T00:00:00",
          "2006-04-30T00:00:00",
          "2006-05-31T00:00:00",
          "2006-06-30T00:00:00",
          "2006-07-31T00:00:00",
          "2006-08-31T00:00:00",
          "2006-09-30T00:00:00",
          "2006-10-31T00:00:00",
          "2006-11-30T00:00:00",
          "2006-12-31T00:00:00",
          "2007-01-31T00:00:00",
          "2007-02-28T00:00:00",
          "2007-03-31T00:00:00",
          "2007-04-30T00:00:00",
          "2007-05-31T00:00:00",
          "2007-06-30T00:00:00",
          "2007-07-31T00:00:00",
          "2007-08-31T00:00:00",
          "2007-09-30T00:00:00",
          "2007-10-31T00:00:00",
          "2007-11-30T00:00:00",
          "2007-12-31T00:00:00",
          "2008-01-31T00:00:00",
          "2008-02-29T00:00:00",
          "2008-03-31T00:00:00",
          "2008-04-30T00:00:00",
          "2008-05-31T00:00:00",
          "2008-06-30T00:00:00",
          "2008-07-31T00:00:00",
          "2008-08-31T00:00:00",
          "2008-09-30T00:00:00",
          "2008-10-31T00:00:00",
          "2008-11-30T00:00:00",
          "2008-12-31T00:00:00",
          "2009-01-31T00:00:00",
          "2009-02-28T00:00:00",
          "2009-03-31T00:00:00",
          "2009-04-30T00:00:00",
          "2009-05-31T00:00:00",
          "2009-06-30T00:00:00",
          "2009-07-31T00:00:00",
          "2009-08-31T00:00:00",
          "2009-09-30T00:00:00",
          "2009-10-31T00:00:00",
          "2009-11-30T00:00:00",
          "2009-12-31T00:00:00",
          "2010-01-31T00:00:00",
          "2010-02-28T00:00:00",
          "2010-03-31T00:00:00",
          "2010-04-30T00:00:00",
          "2010-05-31T00:00:00",
          "2010-06-30T00:00:00",
          "2010-07-31T00:00:00",
          "2010-08-31T00:00:00",
          "2010-09-30T00:00:00",
          "2010-10-31T00:00:00",
          "2010-11-30T00:00:00",
          "2010-12-31T00:00:00",
          "2011-01-31T00:00:00",
          "2011-02-28T00:00:00",
          "2011-03-31T00:00:00",
          "2011-04-30T00:00:00",
          "2011-05-31T00:00:00",
          "2011-06-30T00:00:00",
          "2011-07-31T00:00:00",
          "2011-08-31T00:00:00",
          "2011-09-30T00:00:00",
          "2011-10-31T00:00:00",
          "2011-11-30T00:00:00",
          "2011-12-31T00:00:00",
          "2012-01-31T00:00:00",
          "2012-02-29T00:00:00",
          "2012-03-31T00:00:00",
          "2012-04-30T00:00:00",
          "2012-05-31T00:00:00",
          "2012-06-30T00:00:00",
          "2012-07-31T00:00:00",
          "2012-08-31T00:00:00",
          "2012-09-30T00:00:00",
          "2012-10-31T00:00:00",
          "2012-11-30T00:00:00",
          "2012-12-31T00:00:00",
          "2013-01-31T00:00:00",
          "2013-02-28T00:00:00",
          "2013-03-31T00:00:00",
          "2013-04-30T00:00:00",
          "2013-05-31T00:00:00",
          "2013-06-30T00:00:00",
          "2013-07-31T00:00:00",
          "2013-08-31T00:00:00",
          "2013-09-30T00:00:00",
          "2013-10-31T00:00:00",
          "2013-11-30T00:00:00",
          "2013-12-31T00:00:00",
          "2014-01-31T00:00:00",
          "2014-02-28T00:00:00",
          "2014-03-31T00:00:00",
          "2014-04-30T00:00:00",
          "2014-05-31T00:00:00",
          "2014-06-30T00:00:00",
          "2014-07-31T00:00:00",
          "2014-08-31T00:00:00",
          "2014-09-30T00:00:00",
          "2014-10-31T00:00:00",
          "2014-11-30T00:00:00",
          "2014-12-31T00:00:00",
          "2015-01-31T00:00:00",
          "2015-02-28T00:00:00",
          "2015-03-31T00:00:00",
          "2015-04-30T00:00:00",
          "2015-05-31T00:00:00",
          "2015-06-30T00:00:00",
          "2015-07-31T00:00:00",
          "2015-08-31T00:00:00",
          "2015-09-30T00:00:00",
          "2015-10-31T00:00:00",
          "2015-11-30T00:00:00",
          "2015-12-31T00:00:00",
          "2016-01-31T00:00:00",
          "2016-02-29T00:00:00",
          "2016-03-31T00:00:00",
          "2016-04-30T00:00:00",
          "2016-05-31T00:00:00",
          "2016-06-30T00:00:00",
          "2016-07-31T00:00:00",
          "2016-08-31T00:00:00",
          "2016-09-30T00:00:00",
          "2016-10-31T00:00:00",
          "2016-11-30T00:00:00",
          "2016-12-31T00:00:00",
          "2017-01-31T00:00:00",
          "2017-02-28T00:00:00",
          "2017-03-31T00:00:00",
          "2017-04-30T00:00:00",
          "2017-05-31T00:00:00",
          "2017-06-30T00:00:00",
          "2017-07-31T00:00:00",
          "2017-08-31T00:00:00",
          "2017-09-30T00:00:00",
          "2017-10-31T00:00:00",
          "2017-11-30T00:00:00",
          "2017-12-31T00:00:00",
          "2018-01-31T00:00:00",
          "2018-02-28T00:00:00",
          "2018-03-31T00:00:00",
          "2018-04-30T00:00:00",
          "2018-05-31T00:00:00",
          "2018-06-30T00:00:00",
          "2018-07-31T00:00:00",
          "2018-08-31T00:00:00",
          "2018-09-30T00:00:00",
          "2018-10-31T00:00:00",
          "2018-11-30T00:00:00",
          "2018-12-31T00:00:00",
          "2019-01-31T00:00:00",
          "2019-02-28T00:00:00",
          "2019-03-31T00:00:00",
          "2019-04-30T00:00:00",
          "2019-05-31T00:00:00",
          "2019-06-30T00:00:00",
          "2019-07-31T00:00:00",
          "2019-08-31T00:00:00",
          "2019-09-30T00:00:00",
          "2019-10-31T00:00:00",
          "2019-11-30T00:00:00"
         ],
         "xaxis": "x",
         "y": [
          3.7736367469109187,
          1.8919845032991205,
          -3.4979157801418435,
          -3.3863116656345587,
          1.0546631796786232,
          -2.2042447354750507,
          1.2595613375796177,
          1.066539900030211,
          -4.718235540464062,
          -6.387784163310502,
          2.842296233758547,
          2.463825355450239,
          4.607693941097121,
          2.61797077937152,
          8.30648056739604,
          5.699045198412698,
          -2.2061230771080282,
          -6.993212777387724,
          -2.1980787659538628,
          6.097197213884399,
          -0.703333381793951,
          -9.291696029360766,
          -0.8174353260869562,
          -6.9189090325703555,
          2.8016126291965695,
          -6.448241516363383,
          -6.974364743160007,
          -1.229142624490357,
          -2.3765976346852895,
          5.440811863337142,
          3.190665235506487,
          3.717487626200133,
          -4.174677201064295,
          -3.788970678433535,
          2.803323378640776,
          -0.23838649431775494,
          -0.34231936306369404,
          2.8043334829841484,
          9.550890618729099,
          5.93199988043045,
          -1.5302162755972697,
          -7.229466361113116,
          -6.872403623188406,
          9.720475574299183,
          10.912644028573554,
          5.047340434552201,
          10.702643830067384,
          0.25624093194637076,
          -14.231964220099547,
          -13.557687528347678,
          6.191832757275874,
          -3.205484407824832,
          -2.034711087953127,
          7.567308149871572,
          12.451339545479893,
          -5.851996185716307,
          -18.463633366386937,
          -5.144028077803203,
          -14.327398328338333,
          -4.151596228005555,
          9.67553833862112,
          9.566887365022346,
          4.327793126593033,
          14.96586873604767,
          7.3537588627851,
          6.776819830326166,
          -4.214559540120735,
          -8.946421265838692,
          9.588824608962009,
          -16.651382816780085,
          -0.8892900424214636,
          -3.998252709661013,
          -4.5639069628452,
          -28.93423594097299,
          2.6254034582708288,
          -2.2694205391260436,
          -0.7006288364376005,
          -13.705303178034773,
          -3.61379689350079,
          -0.7030339014202173,
          2.2166544412735725,
          10.923399428269008,
          -0.26404040808080786,
          0.7306729273340591,
          -0.5922117373737386,
          4.2786407131318605,
          10.128552100494755,
          18.029956449763556,
          4.1597665171000955,
          9.202965794524774,
          5.64705191867715,
          4.821499135553078,
          -21.753361066666663,
          1.830599276268647,
          -1.1177904456794165,
          0.7756903894800959,
          24.8625768941833,
          -3.8930147776243684,
          14.89683061014263,
          -0.3568446201711173,
          -4.8088934762815265,
          -0.3697136394777414,
          -3.7043494332249804,
          2.851330814804391,
          5.221730204022151,
          2.675620097203276,
          -2.5917310784262595,
          -8.6398843449936,
          -10.80111165814034,
          1.4728136781142434,
          0.5379297843924071,
          -7.449928906157935,
          -4.455098477525146,
          0.10232880658075527,
          3.3636249829418654,
          4.140209347038295,
          -1.1803121814991058,
          -3.9189987850908246,
          3.33552390374739,
          -1.586003268415656,
          3.789439673944307,
          -13.218201911215816,
          0.32593714601997625,
          -3.679680731930842,
          -0.3369458243115382,
          -1.9140349136425825,
          3.250327616603147,
          -1.652116922013656,
          7.004061481988143,
          -1.0525447499629026,
          -1.1049501480243888,
          -5.72088369857747,
          -6.537376609324357,
          2.569730299117838,
          3.6018929025115636,
          3.440506394255147,
          -3.559676533766549,
          1.6113080207835644,
          4.829899822355066,
          -17.83055120919223,
          0.2784195684416484,
          -9.20510409326693,
          25.6671834925352,
          4.182031016109046,
          4.800100480382261,
          -7.500552367724015,
          16.137943407952545,
          6.090603496844274,
          5.437818927843339,
          0.5988696823577017,
          0.7670244970143972,
          -7.602789443379779,
          -9.956483625832755,
          2.7744241892380206,
          -2.2436139719809423,
          5.108188438101543,
          -4.0615325097367165,
          -1.436123390364866,
          -0.7712587011669196,
          1.4490899938254207,
          -5.793223338189764,
          -3.241641027506314,
          -3.0028165621789364,
          -2.007943057594579,
          -1.3994655324017131,
          -3.247109569892473,
          12.462612158954688,
          2.5930483807945057,
          -3.2353123285516547,
          10.170606416113714,
          -5.323868160919541,
          -36.52604775697633,
          11.222012245139874,
          -5.294798691835795,
          1.806754928832785,
          -2.9080297559250092,
          9.748178362734999,
          -12.30614302495625,
          -14.33027854726884,
          4.249740947920954,
          3.6882145099288817
         ],
         "yaxis": "y"
        }
       ],
       "layout": {
        "legend": {
         "tracegroupgap": 0
        },
        "margin": {
         "t": 60
        },
        "template": {
         "data": {
          "bar": [
           {
            "error_x": {
             "color": "#2a3f5f"
            },
            "error_y": {
             "color": "#2a3f5f"
            },
            "marker": {
             "line": {
              "color": "#E5ECF6",
              "width": 0.5
             },
             "pattern": {
              "fillmode": "overlay",
              "size": 10,
              "solidity": 0.2
             }
            },
            "type": "bar"
           }
          ],
          "barpolar": [
           {
            "marker": {
             "line": {
              "color": "#E5ECF6",
              "width": 0.5
             },
             "pattern": {
              "fillmode": "overlay",
              "size": 10,
              "solidity": 0.2
             }
            },
            "type": "barpolar"
           }
          ],
          "carpet": [
           {
            "aaxis": {
             "endlinecolor": "#2a3f5f",
             "gridcolor": "white",
             "linecolor": "white",
             "minorgridcolor": "white",
             "startlinecolor": "#2a3f5f"
            },
            "baxis": {
             "endlinecolor": "#2a3f5f",
             "gridcolor": "white",
             "linecolor": "white",
             "minorgridcolor": "white",
             "startlinecolor": "#2a3f5f"
            },
            "type": "carpet"
           }
          ],
          "choropleth": [
           {
            "colorbar": {
             "outlinewidth": 0,
             "ticks": ""
            },
            "type": "choropleth"
           }
          ],
          "contour": [
           {
            "colorbar": {
             "outlinewidth": 0,
             "ticks": ""
            },
            "colorscale": [
             [
              0,
              "#0d0887"
             ],
             [
              0.1111111111111111,
              "#46039f"
             ],
             [
              0.2222222222222222,
              "#7201a8"
             ],
             [
              0.3333333333333333,
              "#9c179e"
             ],
             [
              0.4444444444444444,
              "#bd3786"
             ],
             [
              0.5555555555555556,
              "#d8576b"
             ],
             [
              0.6666666666666666,
              "#ed7953"
             ],
             [
              0.7777777777777778,
              "#fb9f3a"
             ],
             [
              0.8888888888888888,
              "#fdca26"
             ],
             [
              1,
              "#f0f921"
             ]
            ],
            "type": "contour"
           }
          ],
          "contourcarpet": [
           {
            "colorbar": {
             "outlinewidth": 0,
             "ticks": ""
            },
            "type": "contourcarpet"
           }
          ],
          "heatmap": [
           {
            "colorbar": {
             "outlinewidth": 0,
             "ticks": ""
            },
            "colorscale": [
             [
              0,
              "#0d0887"
             ],
             [
              0.1111111111111111,
              "#46039f"
             ],
             [
              0.2222222222222222,
              "#7201a8"
             ],
             [
              0.3333333333333333,
              "#9c179e"
             ],
             [
              0.4444444444444444,
              "#bd3786"
             ],
             [
              0.5555555555555556,
              "#d8576b"
             ],
             [
              0.6666666666666666,
              "#ed7953"
             ],
             [
              0.7777777777777778,
              "#fb9f3a"
             ],
             [
              0.8888888888888888,
              "#fdca26"
             ],
             [
              1,
              "#f0f921"
             ]
            ],
            "type": "heatmap"
           }
          ],
          "heatmapgl": [
           {
            "colorbar": {
             "outlinewidth": 0,
             "ticks": ""
            },
            "colorscale": [
             [
              0,
              "#0d0887"
             ],
             [
              0.1111111111111111,
              "#46039f"
             ],
             [
              0.2222222222222222,
              "#7201a8"
             ],
             [
              0.3333333333333333,
              "#9c179e"
             ],
             [
              0.4444444444444444,
              "#bd3786"
             ],
             [
              0.5555555555555556,
              "#d8576b"
             ],
             [
              0.6666666666666666,
              "#ed7953"
             ],
             [
              0.7777777777777778,
              "#fb9f3a"
             ],
             [
              0.8888888888888888,
              "#fdca26"
             ],
             [
              1,
              "#f0f921"
             ]
            ],
            "type": "heatmapgl"
           }
          ],
          "histogram": [
           {
            "marker": {
             "pattern": {
              "fillmode": "overlay",
              "size": 10,
              "solidity": 0.2
             }
            },
            "type": "histogram"
           }
          ],
          "histogram2d": [
           {
            "colorbar": {
             "outlinewidth": 0,
             "ticks": ""
            },
            "colorscale": [
             [
              0,
              "#0d0887"
             ],
             [
              0.1111111111111111,
              "#46039f"
             ],
             [
              0.2222222222222222,
              "#7201a8"
             ],
             [
              0.3333333333333333,
              "#9c179e"
             ],
             [
              0.4444444444444444,
              "#bd3786"
             ],
             [
              0.5555555555555556,
              "#d8576b"
             ],
             [
              0.6666666666666666,
              "#ed7953"
             ],
             [
              0.7777777777777778,
              "#fb9f3a"
             ],
             [
              0.8888888888888888,
              "#fdca26"
             ],
             [
              1,
              "#f0f921"
             ]
            ],
            "type": "histogram2d"
           }
          ],
          "histogram2dcontour": [
           {
            "colorbar": {
             "outlinewidth": 0,
             "ticks": ""
            },
            "colorscale": [
             [
              0,
              "#0d0887"
             ],
             [
              0.1111111111111111,
              "#46039f"
             ],
             [
              0.2222222222222222,
              "#7201a8"
             ],
             [
              0.3333333333333333,
              "#9c179e"
             ],
             [
              0.4444444444444444,
              "#bd3786"
             ],
             [
              0.5555555555555556,
              "#d8576b"
             ],
             [
              0.6666666666666666,
              "#ed7953"
             ],
             [
              0.7777777777777778,
              "#fb9f3a"
             ],
             [
              0.8888888888888888,
              "#fdca26"
             ],
             [
              1,
              "#f0f921"
             ]
            ],
            "type": "histogram2dcontour"
           }
          ],
          "mesh3d": [
           {
            "colorbar": {
             "outlinewidth": 0,
             "ticks": ""
            },
            "type": "mesh3d"
           }
          ],
          "parcoords": [
           {
            "line": {
             "colorbar": {
              "outlinewidth": 0,
              "ticks": ""
             }
            },
            "type": "parcoords"
           }
          ],
          "pie": [
           {
            "automargin": true,
            "type": "pie"
           }
          ],
          "scatter": [
           {
            "marker": {
             "colorbar": {
              "outlinewidth": 0,
              "ticks": ""
             }
            },
            "type": "scatter"
           }
          ],
          "scatter3d": [
           {
            "line": {
             "colorbar": {
              "outlinewidth": 0,
              "ticks": ""
             }
            },
            "marker": {
             "colorbar": {
              "outlinewidth": 0,
              "ticks": ""
             }
            },
            "type": "scatter3d"
           }
          ],
          "scattercarpet": [
           {
            "marker": {
             "colorbar": {
              "outlinewidth": 0,
              "ticks": ""
             }
            },
            "type": "scattercarpet"
           }
          ],
          "scattergeo": [
           {
            "marker": {
             "colorbar": {
              "outlinewidth": 0,
              "ticks": ""
             }
            },
            "type": "scattergeo"
           }
          ],
          "scattergl": [
           {
            "marker": {
             "colorbar": {
              "outlinewidth": 0,
              "ticks": ""
             }
            },
            "type": "scattergl"
           }
          ],
          "scattermapbox": [
           {
            "marker": {
             "colorbar": {
              "outlinewidth": 0,
              "ticks": ""
             }
            },
            "type": "scattermapbox"
           }
          ],
          "scatterpolar": [
           {
            "marker": {
             "colorbar": {
              "outlinewidth": 0,
              "ticks": ""
             }
            },
            "type": "scatterpolar"
           }
          ],
          "scatterpolargl": [
           {
            "marker": {
             "colorbar": {
              "outlinewidth": 0,
              "ticks": ""
             }
            },
            "type": "scatterpolargl"
           }
          ],
          "scatterternary": [
           {
            "marker": {
             "colorbar": {
              "outlinewidth": 0,
              "ticks": ""
             }
            },
            "type": "scatterternary"
           }
          ],
          "surface": [
           {
            "colorbar": {
             "outlinewidth": 0,
             "ticks": ""
            },
            "colorscale": [
             [
              0,
              "#0d0887"
             ],
             [
              0.1111111111111111,
              "#46039f"
             ],
             [
              0.2222222222222222,
              "#7201a8"
             ],
             [
              0.3333333333333333,
              "#9c179e"
             ],
             [
              0.4444444444444444,
              "#bd3786"
             ],
             [
              0.5555555555555556,
              "#d8576b"
             ],
             [
              0.6666666666666666,
              "#ed7953"
             ],
             [
              0.7777777777777778,
              "#fb9f3a"
             ],
             [
              0.8888888888888888,
              "#fdca26"
             ],
             [
              1,
              "#f0f921"
             ]
            ],
            "type": "surface"
           }
          ],
          "table": [
           {
            "cells": {
             "fill": {
              "color": "#EBF0F8"
             },
             "line": {
              "color": "white"
             }
            },
            "header": {
             "fill": {
              "color": "#C8D4E3"
             },
             "line": {
              "color": "white"
             }
            },
            "type": "table"
           }
          ]
         },
         "layout": {
          "annotationdefaults": {
           "arrowcolor": "#2a3f5f",
           "arrowhead": 0,
           "arrowwidth": 1
          },
          "autotypenumbers": "strict",
          "coloraxis": {
           "colorbar": {
            "outlinewidth": 0,
            "ticks": ""
           }
          },
          "colorscale": {
           "diverging": [
            [
             0,
             "#8e0152"
            ],
            [
             0.1,
             "#c51b7d"
            ],
            [
             0.2,
             "#de77ae"
            ],
            [
             0.3,
             "#f1b6da"
            ],
            [
             0.4,
             "#fde0ef"
            ],
            [
             0.5,
             "#f7f7f7"
            ],
            [
             0.6,
             "#e6f5d0"
            ],
            [
             0.7,
             "#b8e186"
            ],
            [
             0.8,
             "#7fbc41"
            ],
            [
             0.9,
             "#4d9221"
            ],
            [
             1,
             "#276419"
            ]
           ],
           "sequential": [
            [
             0,
             "#0d0887"
            ],
            [
             0.1111111111111111,
             "#46039f"
            ],
            [
             0.2222222222222222,
             "#7201a8"
            ],
            [
             0.3333333333333333,
             "#9c179e"
            ],
            [
             0.4444444444444444,
             "#bd3786"
            ],
            [
             0.5555555555555556,
             "#d8576b"
            ],
            [
             0.6666666666666666,
             "#ed7953"
            ],
            [
             0.7777777777777778,
             "#fb9f3a"
            ],
            [
             0.8888888888888888,
             "#fdca26"
            ],
            [
             1,
             "#f0f921"
            ]
           ],
           "sequentialminus": [
            [
             0,
             "#0d0887"
            ],
            [
             0.1111111111111111,
             "#46039f"
            ],
            [
             0.2222222222222222,
             "#7201a8"
            ],
            [
             0.3333333333333333,
             "#9c179e"
            ],
            [
             0.4444444444444444,
             "#bd3786"
            ],
            [
             0.5555555555555556,
             "#d8576b"
            ],
            [
             0.6666666666666666,
             "#ed7953"
            ],
            [
             0.7777777777777778,
             "#fb9f3a"
            ],
            [
             0.8888888888888888,
             "#fdca26"
            ],
            [
             1,
             "#f0f921"
            ]
           ]
          },
          "colorway": [
           "#636efa",
           "#EF553B",
           "#00cc96",
           "#ab63fa",
           "#FFA15A",
           "#19d3f3",
           "#FF6692",
           "#B6E880",
           "#FF97FF",
           "#FECB52"
          ],
          "font": {
           "color": "#2a3f5f"
          },
          "geo": {
           "bgcolor": "white",
           "lakecolor": "white",
           "landcolor": "#E5ECF6",
           "showlakes": true,
           "showland": true,
           "subunitcolor": "white"
          },
          "hoverlabel": {
           "align": "left"
          },
          "hovermode": "closest",
          "mapbox": {
           "style": "light"
          },
          "paper_bgcolor": "white",
          "plot_bgcolor": "#E5ECF6",
          "polar": {
           "angularaxis": {
            "gridcolor": "white",
            "linecolor": "white",
            "ticks": ""
           },
           "bgcolor": "#E5ECF6",
           "radialaxis": {
            "gridcolor": "white",
            "linecolor": "white",
            "ticks": ""
           }
          },
          "scene": {
           "xaxis": {
            "backgroundcolor": "#E5ECF6",
            "gridcolor": "white",
            "gridwidth": 2,
            "linecolor": "white",
            "showbackground": true,
            "ticks": "",
            "zerolinecolor": "white"
           },
           "yaxis": {
            "backgroundcolor": "#E5ECF6",
            "gridcolor": "white",
            "gridwidth": 2,
            "linecolor": "white",
            "showbackground": true,
            "ticks": "",
            "zerolinecolor": "white"
           },
           "zaxis": {
            "backgroundcolor": "#E5ECF6",
            "gridcolor": "white",
            "gridwidth": 2,
            "linecolor": "white",
            "showbackground": true,
            "ticks": "",
            "zerolinecolor": "white"
           }
          },
          "shapedefaults": {
           "line": {
            "color": "#2a3f5f"
           }
          },
          "ternary": {
           "aaxis": {
            "gridcolor": "white",
            "linecolor": "white",
            "ticks": ""
           },
           "baxis": {
            "gridcolor": "white",
            "linecolor": "white",
            "ticks": ""
           },
           "bgcolor": "#E5ECF6",
           "caxis": {
            "gridcolor": "white",
            "linecolor": "white",
            "ticks": ""
           }
          },
          "title": {
           "x": 0.05
          },
          "xaxis": {
           "automargin": true,
           "gridcolor": "white",
           "linecolor": "white",
           "ticks": "",
           "title": {
            "standoff": 15
           },
           "zerolinecolor": "white",
           "zerolinewidth": 2
          },
          "yaxis": {
           "automargin": true,
           "gridcolor": "white",
           "linecolor": "white",
           "ticks": "",
           "title": {
            "standoff": 15
           },
           "zerolinecolor": "white",
           "zerolinewidth": 2
          }
         }
        },
        "xaxis": {
         "anchor": "y",
         "domain": [
          0,
          1
         ],
         "title": {
          "text": "index"
         }
        },
        "yaxis": {
         "anchor": "x",
         "domain": [
          0,
          1
         ],
         "title": {
          "text": "return"
         }
        }
       }
      }
     },
     "metadata": {},
     "output_type": "display_data"
    }
   ],
   "source": [
    "# plot months\n",
    "fig = px.line(returns_dict, x=returns_dict.index, y=\"return\")\n",
    "fig.show()\n"
   ]
  },
  {
   "cell_type": "code",
   "execution_count": null,
   "metadata": {},
   "outputs": [
    {
     "data": {
      "text/plain": [
       "-0.19147243037882578"
      ]
     },
     "metadata": {},
     "output_type": "display_data"
    }
   ],
   "source": [
    "returns_dict[\"return\"].mean()"
   ]
  },
  {
   "cell_type": "code",
   "execution_count": null,
   "metadata": {},
   "outputs": [
    {
     "data": {
      "application/vnd.plotly.v1+json": {
       "config": {
        "plotlyServerURL": "https://plot.ly"
       },
       "data": [
        {
         "alignmentgroup": "True",
         "bingroup": "x",
         "hovertemplate": "return=%{x}<br>count=%{y}<extra></extra>",
         "legendgroup": "",
         "marker": {
          "color": "#636efa",
          "pattern": {
           "shape": ""
          }
         },
         "name": "",
         "nbinsx": 100,
         "offsetgroup": "",
         "orientation": "v",
         "showlegend": false,
         "type": "histogram",
         "x": [
          3.7736367469109187,
          1.8919845032991205,
          -3.4979157801418435,
          -3.3863116656345587,
          1.0546631796786232,
          -2.2042447354750507,
          1.2595613375796177,
          1.066539900030211,
          -4.718235540464062,
          -6.387784163310502,
          2.842296233758547,
          2.463825355450239,
          4.607693941097121,
          2.61797077937152,
          8.30648056739604,
          5.699045198412698,
          -2.2061230771080282,
          -6.993212777387724,
          -2.1980787659538628,
          6.097197213884399,
          -0.703333381793951,
          -9.291696029360766,
          -0.8174353260869562,
          -6.9189090325703555,
          2.8016126291965695,
          -6.448241516363383,
          -6.974364743160007,
          -1.229142624490357,
          -2.3765976346852895,
          5.440811863337142,
          3.190665235506487,
          3.717487626200133,
          -4.174677201064295,
          -3.788970678433535,
          2.803323378640776,
          -0.23838649431775494,
          -0.34231936306369404,
          2.8043334829841484,
          9.550890618729099,
          5.93199988043045,
          -1.5302162755972697,
          -7.229466361113116,
          -6.872403623188406,
          9.720475574299183,
          10.912644028573554,
          5.047340434552201,
          10.702643830067384,
          0.25624093194637076,
          -14.231964220099547,
          -13.557687528347678,
          6.191832757275874,
          -3.205484407824832,
          -2.034711087953127,
          7.567308149871572,
          12.451339545479893,
          -5.851996185716307,
          -18.463633366386937,
          -5.144028077803203,
          -14.327398328338333,
          -4.151596228005555,
          9.67553833862112,
          9.566887365022346,
          4.327793126593033,
          14.96586873604767,
          7.3537588627851,
          6.776819830326166,
          -4.214559540120735,
          -8.946421265838692,
          9.588824608962009,
          -16.651382816780085,
          -0.8892900424214636,
          -3.998252709661013,
          -4.5639069628452,
          -28.93423594097299,
          2.6254034582708288,
          -2.2694205391260436,
          -0.7006288364376005,
          -13.705303178034773,
          -3.61379689350079,
          -0.7030339014202173,
          2.2166544412735725,
          10.923399428269008,
          -0.26404040808080786,
          0.7306729273340591,
          -0.5922117373737386,
          4.2786407131318605,
          10.128552100494755,
          18.029956449763556,
          4.1597665171000955,
          9.202965794524774,
          5.64705191867715,
          4.821499135553078,
          -21.753361066666663,
          1.830599276268647,
          -1.1177904456794165,
          0.7756903894800959,
          24.8625768941833,
          -3.8930147776243684,
          14.89683061014263,
          -0.3568446201711173,
          -4.8088934762815265,
          -0.3697136394777414,
          -3.7043494332249804,
          2.851330814804391,
          5.221730204022151,
          2.675620097203276,
          -2.5917310784262595,
          -8.6398843449936,
          -10.80111165814034,
          1.4728136781142434,
          0.5379297843924071,
          -7.449928906157935,
          -4.455098477525146,
          0.10232880658075527,
          3.3636249829418654,
          4.140209347038295,
          -1.1803121814991058,
          -3.9189987850908246,
          3.33552390374739,
          -1.586003268415656,
          3.789439673944307,
          -13.218201911215816,
          0.32593714601997625,
          -3.679680731930842,
          -0.3369458243115382,
          -1.9140349136425825,
          3.250327616603147,
          -1.652116922013656,
          7.004061481988143,
          -1.0525447499629026,
          -1.1049501480243888,
          -5.72088369857747,
          -6.537376609324357,
          2.569730299117838,
          3.6018929025115636,
          3.440506394255147,
          -3.559676533766549,
          1.6113080207835644,
          4.829899822355066,
          -17.83055120919223,
          0.2784195684416484,
          -9.20510409326693,
          25.6671834925352,
          4.182031016109046,
          4.800100480382261,
          -7.500552367724015,
          16.137943407952545,
          6.090603496844274,
          5.437818927843339,
          0.5988696823577017,
          0.7670244970143972,
          -7.602789443379779,
          -9.956483625832755,
          2.7744241892380206,
          -2.2436139719809423,
          5.108188438101543,
          -4.0615325097367165,
          -1.436123390364866,
          -0.7712587011669196,
          1.4490899938254207,
          -5.793223338189764,
          -3.241641027506314,
          -3.0028165621789364,
          -2.007943057594579,
          -1.3994655324017131,
          -3.247109569892473,
          12.462612158954688,
          2.5930483807945057,
          -3.2353123285516547,
          10.170606416113714,
          -5.323868160919541,
          -36.52604775697633,
          11.222012245139874,
          -5.294798691835795,
          1.806754928832785,
          -2.9080297559250092,
          9.748178362734999,
          -12.30614302495625,
          -14.33027854726884,
          4.249740947920954,
          3.6882145099288817
         ],
         "xaxis": "x",
         "yaxis": "y"
        }
       ],
       "layout": {
        "barmode": "relative",
        "legend": {
         "tracegroupgap": 0
        },
        "template": {
         "data": {
          "bar": [
           {
            "error_x": {
             "color": "#2a3f5f"
            },
            "error_y": {
             "color": "#2a3f5f"
            },
            "marker": {
             "line": {
              "color": "#E5ECF6",
              "width": 0.5
             },
             "pattern": {
              "fillmode": "overlay",
              "size": 10,
              "solidity": 0.2
             }
            },
            "type": "bar"
           }
          ],
          "barpolar": [
           {
            "marker": {
             "line": {
              "color": "#E5ECF6",
              "width": 0.5
             },
             "pattern": {
              "fillmode": "overlay",
              "size": 10,
              "solidity": 0.2
             }
            },
            "type": "barpolar"
           }
          ],
          "carpet": [
           {
            "aaxis": {
             "endlinecolor": "#2a3f5f",
             "gridcolor": "white",
             "linecolor": "white",
             "minorgridcolor": "white",
             "startlinecolor": "#2a3f5f"
            },
            "baxis": {
             "endlinecolor": "#2a3f5f",
             "gridcolor": "white",
             "linecolor": "white",
             "minorgridcolor": "white",
             "startlinecolor": "#2a3f5f"
            },
            "type": "carpet"
           }
          ],
          "choropleth": [
           {
            "colorbar": {
             "outlinewidth": 0,
             "ticks": ""
            },
            "type": "choropleth"
           }
          ],
          "contour": [
           {
            "colorbar": {
             "outlinewidth": 0,
             "ticks": ""
            },
            "colorscale": [
             [
              0,
              "#0d0887"
             ],
             [
              0.1111111111111111,
              "#46039f"
             ],
             [
              0.2222222222222222,
              "#7201a8"
             ],
             [
              0.3333333333333333,
              "#9c179e"
             ],
             [
              0.4444444444444444,
              "#bd3786"
             ],
             [
              0.5555555555555556,
              "#d8576b"
             ],
             [
              0.6666666666666666,
              "#ed7953"
             ],
             [
              0.7777777777777778,
              "#fb9f3a"
             ],
             [
              0.8888888888888888,
              "#fdca26"
             ],
             [
              1,
              "#f0f921"
             ]
            ],
            "type": "contour"
           }
          ],
          "contourcarpet": [
           {
            "colorbar": {
             "outlinewidth": 0,
             "ticks": ""
            },
            "type": "contourcarpet"
           }
          ],
          "heatmap": [
           {
            "colorbar": {
             "outlinewidth": 0,
             "ticks": ""
            },
            "colorscale": [
             [
              0,
              "#0d0887"
             ],
             [
              0.1111111111111111,
              "#46039f"
             ],
             [
              0.2222222222222222,
              "#7201a8"
             ],
             [
              0.3333333333333333,
              "#9c179e"
             ],
             [
              0.4444444444444444,
              "#bd3786"
             ],
             [
              0.5555555555555556,
              "#d8576b"
             ],
             [
              0.6666666666666666,
              "#ed7953"
             ],
             [
              0.7777777777777778,
              "#fb9f3a"
             ],
             [
              0.8888888888888888,
              "#fdca26"
             ],
             [
              1,
              "#f0f921"
             ]
            ],
            "type": "heatmap"
           }
          ],
          "heatmapgl": [
           {
            "colorbar": {
             "outlinewidth": 0,
             "ticks": ""
            },
            "colorscale": [
             [
              0,
              "#0d0887"
             ],
             [
              0.1111111111111111,
              "#46039f"
             ],
             [
              0.2222222222222222,
              "#7201a8"
             ],
             [
              0.3333333333333333,
              "#9c179e"
             ],
             [
              0.4444444444444444,
              "#bd3786"
             ],
             [
              0.5555555555555556,
              "#d8576b"
             ],
             [
              0.6666666666666666,
              "#ed7953"
             ],
             [
              0.7777777777777778,
              "#fb9f3a"
             ],
             [
              0.8888888888888888,
              "#fdca26"
             ],
             [
              1,
              "#f0f921"
             ]
            ],
            "type": "heatmapgl"
           }
          ],
          "histogram": [
           {
            "marker": {
             "pattern": {
              "fillmode": "overlay",
              "size": 10,
              "solidity": 0.2
             }
            },
            "type": "histogram"
           }
          ],
          "histogram2d": [
           {
            "colorbar": {
             "outlinewidth": 0,
             "ticks": ""
            },
            "colorscale": [
             [
              0,
              "#0d0887"
             ],
             [
              0.1111111111111111,
              "#46039f"
             ],
             [
              0.2222222222222222,
              "#7201a8"
             ],
             [
              0.3333333333333333,
              "#9c179e"
             ],
             [
              0.4444444444444444,
              "#bd3786"
             ],
             [
              0.5555555555555556,
              "#d8576b"
             ],
             [
              0.6666666666666666,
              "#ed7953"
             ],
             [
              0.7777777777777778,
              "#fb9f3a"
             ],
             [
              0.8888888888888888,
              "#fdca26"
             ],
             [
              1,
              "#f0f921"
             ]
            ],
            "type": "histogram2d"
           }
          ],
          "histogram2dcontour": [
           {
            "colorbar": {
             "outlinewidth": 0,
             "ticks": ""
            },
            "colorscale": [
             [
              0,
              "#0d0887"
             ],
             [
              0.1111111111111111,
              "#46039f"
             ],
             [
              0.2222222222222222,
              "#7201a8"
             ],
             [
              0.3333333333333333,
              "#9c179e"
             ],
             [
              0.4444444444444444,
              "#bd3786"
             ],
             [
              0.5555555555555556,
              "#d8576b"
             ],
             [
              0.6666666666666666,
              "#ed7953"
             ],
             [
              0.7777777777777778,
              "#fb9f3a"
             ],
             [
              0.8888888888888888,
              "#fdca26"
             ],
             [
              1,
              "#f0f921"
             ]
            ],
            "type": "histogram2dcontour"
           }
          ],
          "mesh3d": [
           {
            "colorbar": {
             "outlinewidth": 0,
             "ticks": ""
            },
            "type": "mesh3d"
           }
          ],
          "parcoords": [
           {
            "line": {
             "colorbar": {
              "outlinewidth": 0,
              "ticks": ""
             }
            },
            "type": "parcoords"
           }
          ],
          "pie": [
           {
            "automargin": true,
            "type": "pie"
           }
          ],
          "scatter": [
           {
            "marker": {
             "colorbar": {
              "outlinewidth": 0,
              "ticks": ""
             }
            },
            "type": "scatter"
           }
          ],
          "scatter3d": [
           {
            "line": {
             "colorbar": {
              "outlinewidth": 0,
              "ticks": ""
             }
            },
            "marker": {
             "colorbar": {
              "outlinewidth": 0,
              "ticks": ""
             }
            },
            "type": "scatter3d"
           }
          ],
          "scattercarpet": [
           {
            "marker": {
             "colorbar": {
              "outlinewidth": 0,
              "ticks": ""
             }
            },
            "type": "scattercarpet"
           }
          ],
          "scattergeo": [
           {
            "marker": {
             "colorbar": {
              "outlinewidth": 0,
              "ticks": ""
             }
            },
            "type": "scattergeo"
           }
          ],
          "scattergl": [
           {
            "marker": {
             "colorbar": {
              "outlinewidth": 0,
              "ticks": ""
             }
            },
            "type": "scattergl"
           }
          ],
          "scattermapbox": [
           {
            "marker": {
             "colorbar": {
              "outlinewidth": 0,
              "ticks": ""
             }
            },
            "type": "scattermapbox"
           }
          ],
          "scatterpolar": [
           {
            "marker": {
             "colorbar": {
              "outlinewidth": 0,
              "ticks": ""
             }
            },
            "type": "scatterpolar"
           }
          ],
          "scatterpolargl": [
           {
            "marker": {
             "colorbar": {
              "outlinewidth": 0,
              "ticks": ""
             }
            },
            "type": "scatterpolargl"
           }
          ],
          "scatterternary": [
           {
            "marker": {
             "colorbar": {
              "outlinewidth": 0,
              "ticks": ""
             }
            },
            "type": "scatterternary"
           }
          ],
          "surface": [
           {
            "colorbar": {
             "outlinewidth": 0,
             "ticks": ""
            },
            "colorscale": [
             [
              0,
              "#0d0887"
             ],
             [
              0.1111111111111111,
              "#46039f"
             ],
             [
              0.2222222222222222,
              "#7201a8"
             ],
             [
              0.3333333333333333,
              "#9c179e"
             ],
             [
              0.4444444444444444,
              "#bd3786"
             ],
             [
              0.5555555555555556,
              "#d8576b"
             ],
             [
              0.6666666666666666,
              "#ed7953"
             ],
             [
              0.7777777777777778,
              "#fb9f3a"
             ],
             [
              0.8888888888888888,
              "#fdca26"
             ],
             [
              1,
              "#f0f921"
             ]
            ],
            "type": "surface"
           }
          ],
          "table": [
           {
            "cells": {
             "fill": {
              "color": "#EBF0F8"
             },
             "line": {
              "color": "white"
             }
            },
            "header": {
             "fill": {
              "color": "#C8D4E3"
             },
             "line": {
              "color": "white"
             }
            },
            "type": "table"
           }
          ]
         },
         "layout": {
          "annotationdefaults": {
           "arrowcolor": "#2a3f5f",
           "arrowhead": 0,
           "arrowwidth": 1
          },
          "autotypenumbers": "strict",
          "coloraxis": {
           "colorbar": {
            "outlinewidth": 0,
            "ticks": ""
           }
          },
          "colorscale": {
           "diverging": [
            [
             0,
             "#8e0152"
            ],
            [
             0.1,
             "#c51b7d"
            ],
            [
             0.2,
             "#de77ae"
            ],
            [
             0.3,
             "#f1b6da"
            ],
            [
             0.4,
             "#fde0ef"
            ],
            [
             0.5,
             "#f7f7f7"
            ],
            [
             0.6,
             "#e6f5d0"
            ],
            [
             0.7,
             "#b8e186"
            ],
            [
             0.8,
             "#7fbc41"
            ],
            [
             0.9,
             "#4d9221"
            ],
            [
             1,
             "#276419"
            ]
           ],
           "sequential": [
            [
             0,
             "#0d0887"
            ],
            [
             0.1111111111111111,
             "#46039f"
            ],
            [
             0.2222222222222222,
             "#7201a8"
            ],
            [
             0.3333333333333333,
             "#9c179e"
            ],
            [
             0.4444444444444444,
             "#bd3786"
            ],
            [
             0.5555555555555556,
             "#d8576b"
            ],
            [
             0.6666666666666666,
             "#ed7953"
            ],
            [
             0.7777777777777778,
             "#fb9f3a"
            ],
            [
             0.8888888888888888,
             "#fdca26"
            ],
            [
             1,
             "#f0f921"
            ]
           ],
           "sequentialminus": [
            [
             0,
             "#0d0887"
            ],
            [
             0.1111111111111111,
             "#46039f"
            ],
            [
             0.2222222222222222,
             "#7201a8"
            ],
            [
             0.3333333333333333,
             "#9c179e"
            ],
            [
             0.4444444444444444,
             "#bd3786"
            ],
            [
             0.5555555555555556,
             "#d8576b"
            ],
            [
             0.6666666666666666,
             "#ed7953"
            ],
            [
             0.7777777777777778,
             "#fb9f3a"
            ],
            [
             0.8888888888888888,
             "#fdca26"
            ],
            [
             1,
             "#f0f921"
            ]
           ]
          },
          "colorway": [
           "#636efa",
           "#EF553B",
           "#00cc96",
           "#ab63fa",
           "#FFA15A",
           "#19d3f3",
           "#FF6692",
           "#B6E880",
           "#FF97FF",
           "#FECB52"
          ],
          "font": {
           "color": "#2a3f5f"
          },
          "geo": {
           "bgcolor": "white",
           "lakecolor": "white",
           "landcolor": "#E5ECF6",
           "showlakes": true,
           "showland": true,
           "subunitcolor": "white"
          },
          "hoverlabel": {
           "align": "left"
          },
          "hovermode": "closest",
          "mapbox": {
           "style": "light"
          },
          "paper_bgcolor": "white",
          "plot_bgcolor": "#E5ECF6",
          "polar": {
           "angularaxis": {
            "gridcolor": "white",
            "linecolor": "white",
            "ticks": ""
           },
           "bgcolor": "#E5ECF6",
           "radialaxis": {
            "gridcolor": "white",
            "linecolor": "white",
            "ticks": ""
           }
          },
          "scene": {
           "xaxis": {
            "backgroundcolor": "#E5ECF6",
            "gridcolor": "white",
            "gridwidth": 2,
            "linecolor": "white",
            "showbackground": true,
            "ticks": "",
            "zerolinecolor": "white"
           },
           "yaxis": {
            "backgroundcolor": "#E5ECF6",
            "gridcolor": "white",
            "gridwidth": 2,
            "linecolor": "white",
            "showbackground": true,
            "ticks": "",
            "zerolinecolor": "white"
           },
           "zaxis": {
            "backgroundcolor": "#E5ECF6",
            "gridcolor": "white",
            "gridwidth": 2,
            "linecolor": "white",
            "showbackground": true,
            "ticks": "",
            "zerolinecolor": "white"
           }
          },
          "shapedefaults": {
           "line": {
            "color": "#2a3f5f"
           }
          },
          "ternary": {
           "aaxis": {
            "gridcolor": "white",
            "linecolor": "white",
            "ticks": ""
           },
           "baxis": {
            "gridcolor": "white",
            "linecolor": "white",
            "ticks": ""
           },
           "bgcolor": "#E5ECF6",
           "caxis": {
            "gridcolor": "white",
            "linecolor": "white",
            "ticks": ""
           }
          },
          "title": {
           "x": 0.05
          },
          "xaxis": {
           "automargin": true,
           "gridcolor": "white",
           "linecolor": "white",
           "ticks": "",
           "title": {
            "standoff": 15
           },
           "zerolinecolor": "white",
           "zerolinewidth": 2
          },
          "yaxis": {
           "automargin": true,
           "gridcolor": "white",
           "linecolor": "white",
           "ticks": "",
           "title": {
            "standoff": 15
           },
           "zerolinecolor": "white",
           "zerolinewidth": 2
          }
         }
        },
        "title": {
         "text": "Long Short Distribution"
        },
        "xaxis": {
         "anchor": "y",
         "domain": [
          0,
          1
         ],
         "title": {
          "text": "return"
         }
        },
        "yaxis": {
         "anchor": "x",
         "domain": [
          0,
          1
         ],
         "title": {
          "text": "count"
         }
        }
       }
      }
     },
     "metadata": {},
     "output_type": "display_data"
    }
   ],
   "source": [
    "#Histogram of long-short returns\n",
    "fig = px.histogram(returns_dict, x=\"return\", nbins=100, title=\"Long Short Distribution\")\n",
    "fig.show()\n"
   ]
  }
 ],
 "metadata": {
  "kernelspec": {
   "display_name": "Python 3.9.12 64-bit ('anaconda3')",
   "language": "python",
   "name": "python3"
  },
  "language_info": {
   "codemirror_mode": {
    "name": "ipython",
    "version": 3
   },
   "file_extension": ".py",
   "mimetype": "text/x-python",
   "name": "python",
   "nbconvert_exporter": "python",
   "pygments_lexer": "ipython3",
   "version": "3.9.12"
  },
  "orig_nbformat": 4,
  "vscode": {
   "interpreter": {
    "hash": "40d3a090f54c6569ab1632332b64b2c03c39dcf918b08424e98f38b5ae0af88f"
   }
  }
 },
 "nbformat": 4,
 "nbformat_minor": 2
}
