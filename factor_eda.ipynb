{
 "cells": [
  {
   "cell_type": "code",
   "execution_count": 274,
   "metadata": {},
   "outputs": [],
   "source": [
    "import pandas as pd\n",
    "import numpy as np\n",
    "import matplotlib.pyplot as plt\n",
    "import seaborn as sns\n",
    "import os\n",
    "import sys\n",
    "import warnings\n",
    "from datetime import timedelta\n",
    "from pandas.tseries.offsets import MonthEnd\n",
    "import statsmodels.api as sm\n",
    "\n",
    "import plotly.express as px\n",
    "import plotly.graph_objects as go"
   ]
  },
  {
   "cell_type": "code",
   "execution_count": 320,
   "metadata": {},
   "outputs": [],
   "source": [
    "def get_cpi():\n",
    "    cpi = pd.read_excel('data/CPIAUCSL (1).xls')\n",
    "    #cpi = pd.read_csv(\"T5YIE.csv\")\n",
    "    cpi.columns = [\"date\", 'CPI']\n",
    "    cpi[\"date\"] = pd.to_datetime(cpi[\"date\"]) - timedelta(days=1)\n",
    "    return cpi\n",
    "\n",
    "def get_stocks():\n",
    "    stocks = pd.read_csv(\"data/stocks.csv\")\n",
    "    stocks[\"MthCalDt\"] = pd.to_datetime(stocks[\"MthCalDt\"])\n",
    "    return stocks\n",
    "\n",
    "\n",
    "def merge_cpi_stock(stocks, cpi):\n",
    "    merged = pd.merge(stocks, cpi, how=\"left\", left_on=\"MthCalDt\", right_on=\"date\")\n",
    "    return merged"
   ]
  },
  {
   "cell_type": "code",
   "execution_count": 321,
   "metadata": {},
   "outputs": [],
   "source": [
    "# get factors\n",
    "def get_factors():\n",
    "\n",
    "    ff_factors = pd.read_csv(\"data/ff_factors.csv\")\n",
    "    ff_factor_mom = pd.read_csv(\"data/ff_factor_umd.csv\")\n",
    "    ff_factors.rename({\"Unnamed: 0\": \"date\"}, axis=1, inplace=True)\n",
    "    ff_factor_mom.rename({\"Unnamed: 0\": \"date\", \"Mom\":\"UMD\"}, axis=1, inplace=True)\n",
    "    ff_factor_mom.rename({\"Unnamed: 0\": \"date\", \"Mom   \":\"UMD\"}, axis=1, inplace=True)\n",
    "    ff_factors = ff_factors.merge(ff_factor_mom, how=\"left\", on=\"date\")\n",
    "    \n",
    "    ff_factors[\"date\"] = pd.to_datetime(ff_factors[\"date\"], format=\"%Y%m\")\n",
    "    ff_factors[\"date\"] += MonthEnd(0)\n",
    "\n",
    "\n",
    "    return ff_factors"
   ]
  },
  {
   "cell_type": "code",
   "execution_count": 322,
   "metadata": {},
   "outputs": [],
   "source": [
    "def bin_inflation_regimes(merged):\n",
    "    merged[\"Inflation\"] = pd.cut(merged[\"CPI\"],[-1, 0,.2,.4,5], labels=[\"deflation\",\"low\", \"mid\", \"high\"])\n",
    "    return merged"
   ]
  },
  {
   "cell_type": "code",
   "execution_count": 323,
   "metadata": {},
   "outputs": [],
   "source": [
    "def get_company(merged, permno):\n",
    "    comp = merged[merged[\"PERMNO\"] == permno][[\"MthCalDt\",\"MthRet\"]]\n",
    "    comp = comp.drop_duplicates(subset=\"MthCalDt\", keep=\"first\")\n",
    "    comp = comp.set_index(\"MthCalDt\")\n",
    "    comp.index = comp.index + MonthEnd(0)\n",
    "\n",
    "    return comp"
   ]
  },
  {
   "cell_type": "code",
   "execution_count": 324,
   "metadata": {},
   "outputs": [],
   "source": [
    "def prep_reg(ff_factors, comp, remove_factors = []):\n",
    "    removed_cols = [\"RF\"] + remove_factors\n",
    "    X = ff_factors[[x for x in ff_factors.columns if not x in removed_cols]].set_index(\"date\")\n",
    "    comp[\"Excess Return\"] = comp[\"MthRet\"] - ff_factors.set_index(\"date\")[\"RF\"]\n",
    "    y = comp['Excess Return']\n",
    "\n",
    "    # get indies that are the same between X and y\n",
    "    indies_X = X.index.intersection(y.index)\n",
    "\n",
    "    indies_y = y.index.intersection(X.index)\n",
    "\n",
    "    indies = indies_X.intersection(indies_y)\n",
    "\n",
    "    # save those rows\n",
    "    X = X.loc[indies]\n",
    "    y = y.loc[indies]\n",
    "    \n",
    "    y = y * 100\n",
    "    \n",
    "    return X, y"
   ]
  },
  {
   "cell_type": "code",
   "execution_count": 325,
   "metadata": {},
   "outputs": [],
   "source": [
    "def run_reg(X, y):\n",
    "    X = sm.add_constant(X)\n",
    "    model = sm.OLS(y, X)\n",
    "    results = model.fit()\n",
    "    results.summary()\n",
    "    return results.params[1:]"
   ]
  },
  {
   "cell_type": "code",
   "execution_count": 312,
   "metadata": {},
   "outputs": [
    {
     "data": {
      "text/html": [
       "<div>\n",
       "<style scoped>\n",
       "    .dataframe tbody tr th:only-of-type {\n",
       "        vertical-align: middle;\n",
       "    }\n",
       "\n",
       "    .dataframe tbody tr th {\n",
       "        vertical-align: top;\n",
       "    }\n",
       "\n",
       "    .dataframe thead th {\n",
       "        text-align: right;\n",
       "    }\n",
       "</style>\n",
       "<table border=\"1\" class=\"dataframe\">\n",
       "  <thead>\n",
       "    <tr style=\"text-align: right;\">\n",
       "      <th></th>\n",
       "      <th>date</th>\n",
       "      <th>CPI_Percent_Change</th>\n",
       "    </tr>\n",
       "  </thead>\n",
       "  <tbody>\n",
       "    <tr>\n",
       "      <th>900</th>\n",
       "      <td>2022-01-31</td>\n",
       "      <td>0.79771</td>\n",
       "    </tr>\n",
       "    <tr>\n",
       "      <th>901</th>\n",
       "      <td>2022-02-28</td>\n",
       "      <td>1.24075</td>\n",
       "    </tr>\n",
       "    <tr>\n",
       "      <th>902</th>\n",
       "      <td>2022-03-31</td>\n",
       "      <td>0.33193</td>\n",
       "    </tr>\n",
       "    <tr>\n",
       "      <th>903</th>\n",
       "      <td>2022-04-30</td>\n",
       "      <td>0.97380</td>\n",
       "    </tr>\n",
       "    <tr>\n",
       "      <th>904</th>\n",
       "      <td>2022-05-31</td>\n",
       "      <td>1.32224</td>\n",
       "    </tr>\n",
       "    <tr>\n",
       "      <th>905</th>\n",
       "      <td>2022-06-30</td>\n",
       "      <td>-0.01930</td>\n",
       "    </tr>\n",
       "    <tr>\n",
       "      <th>906</th>\n",
       "      <td>2022-07-31</td>\n",
       "      <td>0.11820</td>\n",
       "    </tr>\n",
       "    <tr>\n",
       "      <th>907</th>\n",
       "      <td>2022-08-31</td>\n",
       "      <td>0.38597</td>\n",
       "    </tr>\n",
       "    <tr>\n",
       "      <th>908</th>\n",
       "      <td>2022-09-30</td>\n",
       "      <td>0.43840</td>\n",
       "    </tr>\n",
       "    <tr>\n",
       "      <th>909</th>\n",
       "      <td>2022-10-31</td>\n",
       "      <td>0.09629</td>\n",
       "    </tr>\n",
       "    <tr>\n",
       "      <th>910</th>\n",
       "      <td>2022-11-30</td>\n",
       "      <td>-0.07944</td>\n",
       "    </tr>\n",
       "  </tbody>\n",
       "</table>\n",
       "</div>"
      ],
      "text/plain": [
       "          date  CPI_Percent_Change\n",
       "900 2022-01-31             0.79771\n",
       "901 2022-02-28             1.24075\n",
       "902 2022-03-31             0.33193\n",
       "903 2022-04-30             0.97380\n",
       "904 2022-05-31             1.32224\n",
       "905 2022-06-30            -0.01930\n",
       "906 2022-07-31             0.11820\n",
       "907 2022-08-31             0.38597\n",
       "908 2022-09-30             0.43840\n",
       "909 2022-10-31             0.09629\n",
       "910 2022-11-30            -0.07944"
      ]
     },
     "execution_count": 312,
     "metadata": {},
     "output_type": "execute_result"
    }
   ],
   "source": [
    "# get only 2022 data for cpi\n",
    "cpi[cpi[\"date\"] > \"2021-12-31\"]"
   ]
  },
  {
   "cell_type": "code",
   "execution_count": 313,
   "metadata": {},
   "outputs": [
    {
     "name": "stderr",
     "output_type": "stream",
     "text": [
      "/var/folders/m6/h9jtrhyn259fytxp6j9xh9v00000gn/T/ipykernel_35431/3555157619.py:9: DtypeWarning:\n",
      "\n",
      "Columns (7) have mixed types. Specify dtype option on import or set low_memory=False.\n",
      "\n"
     ]
    }
   ],
   "source": [
    "cpi = get_cpi()\n",
    "stocks = get_stocks()\n",
    "merged = merge_cpi_stock(stocks, cpi)\n",
    "merged = bin_inflation_regimes(merged)\n",
    "ff_factors = get_factors()\n"
   ]
  },
  {
   "cell_type": "code",
   "execution_count": 314,
   "metadata": {},
   "outputs": [
    {
     "data": {
      "text/html": [
       "<div>\n",
       "<style scoped>\n",
       "    .dataframe tbody tr th:only-of-type {\n",
       "        vertical-align: middle;\n",
       "    }\n",
       "\n",
       "    .dataframe tbody tr th {\n",
       "        vertical-align: top;\n",
       "    }\n",
       "\n",
       "    .dataframe thead th {\n",
       "        text-align: right;\n",
       "    }\n",
       "</style>\n",
       "<table border=\"1\" class=\"dataframe\">\n",
       "  <thead>\n",
       "    <tr style=\"text-align: right;\">\n",
       "      <th></th>\n",
       "      <th>date</th>\n",
       "      <th>CPI_Percent_Change</th>\n",
       "    </tr>\n",
       "  </thead>\n",
       "  <tbody>\n",
       "    <tr>\n",
       "      <th>0</th>\n",
       "      <td>1947-01-31</td>\n",
       "      <td>0.65177</td>\n",
       "    </tr>\n",
       "    <tr>\n",
       "      <th>1</th>\n",
       "      <td>1947-02-28</td>\n",
       "      <td>1.75763</td>\n",
       "    </tr>\n",
       "    <tr>\n",
       "      <th>2</th>\n",
       "      <td>1947-03-31</td>\n",
       "      <td>0.00000</td>\n",
       "    </tr>\n",
       "    <tr>\n",
       "      <th>3</th>\n",
       "      <td>1947-04-30</td>\n",
       "      <td>-0.22727</td>\n",
       "    </tr>\n",
       "    <tr>\n",
       "      <th>4</th>\n",
       "      <td>1947-05-31</td>\n",
       "      <td>0.59226</td>\n",
       "    </tr>\n",
       "    <tr>\n",
       "      <th>...</th>\n",
       "      <td>...</td>\n",
       "      <td>...</td>\n",
       "    </tr>\n",
       "    <tr>\n",
       "      <th>906</th>\n",
       "      <td>2022-07-31</td>\n",
       "      <td>0.11820</td>\n",
       "    </tr>\n",
       "    <tr>\n",
       "      <th>907</th>\n",
       "      <td>2022-08-31</td>\n",
       "      <td>0.38597</td>\n",
       "    </tr>\n",
       "    <tr>\n",
       "      <th>908</th>\n",
       "      <td>2022-09-30</td>\n",
       "      <td>0.43840</td>\n",
       "    </tr>\n",
       "    <tr>\n",
       "      <th>909</th>\n",
       "      <td>2022-10-31</td>\n",
       "      <td>0.09629</td>\n",
       "    </tr>\n",
       "    <tr>\n",
       "      <th>910</th>\n",
       "      <td>2022-11-30</td>\n",
       "      <td>-0.07944</td>\n",
       "    </tr>\n",
       "  </tbody>\n",
       "</table>\n",
       "<p>911 rows × 2 columns</p>\n",
       "</div>"
      ],
      "text/plain": [
       "          date  CPI_Percent_Change\n",
       "0   1947-01-31             0.65177\n",
       "1   1947-02-28             1.75763\n",
       "2   1947-03-31             0.00000\n",
       "3   1947-04-30            -0.22727\n",
       "4   1947-05-31             0.59226\n",
       "..         ...                 ...\n",
       "906 2022-07-31             0.11820\n",
       "907 2022-08-31             0.38597\n",
       "908 2022-09-30             0.43840\n",
       "909 2022-10-31             0.09629\n",
       "910 2022-11-30            -0.07944\n",
       "\n",
       "[911 rows x 2 columns]"
      ]
     },
     "execution_count": 314,
     "metadata": {},
     "output_type": "execute_result"
    }
   ],
   "source": [
    "cpi"
   ]
  },
  {
   "cell_type": "code",
   "execution_count": 169,
   "metadata": {},
   "outputs": [],
   "source": [
    "from tqdm import tqdm"
   ]
  },
  {
   "cell_type": "code",
   "execution_count": 185,
   "metadata": {},
   "outputs": [
    {
     "name": "stderr",
     "output_type": "stream",
     "text": [
      "100%|██████████| 36144/36144 [08:00<00:00, 75.20it/s] \n"
     ]
    }
   ],
   "source": [
    "# for each perno, get the excess return and run a regression\n",
    "# save the betas\n",
    "beta_dict = {}\n",
    "for permno in tqdm(merged[\"PERMNO\"].unique()):\n",
    "    # supress warnings\n",
    "    with warnings.catch_warnings():\n",
    "        warnings.filterwarnings(\"ignore\")\n",
    "        try:\n",
    "            comp = get_company(merged, permno)\n",
    "            if len(comp) < 12:\n",
    "                continue\n",
    "            X, y = prep_reg(ff_factors, comp)\n",
    "            \n",
    "            if (X.shape[0] < 2) or (y.shape[0] < 2):\n",
    "                continue\n",
    "            \n",
    "            beta_dict[permno] = run_reg(X, y).values\n",
    "        except ValueError:\n",
    "            print(\"ValueError for permno: \", permno)\n",
    "            break"
   ]
  },
  {
   "cell_type": "code",
   "execution_count": null,
   "metadata": {},
   "outputs": [],
   "source": []
  },
  {
   "cell_type": "code",
   "execution_count": 186,
   "metadata": {},
   "outputs": [],
   "source": [
    "betas = pd.DataFrame(beta_dict).T\n",
    "betas.columns = X.columns"
   ]
  },
  {
   "cell_type": "code",
   "execution_count": 188,
   "metadata": {},
   "outputs": [],
   "source": [
    "betas.reset_index(inplace=True)"
   ]
  },
  {
   "cell_type": "code",
   "execution_count": 190,
   "metadata": {},
   "outputs": [],
   "source": [
    "betas.rename({\"index\": \"PERMNO\"}, axis=1, inplace=True)"
   ]
  },
  {
   "cell_type": "code",
   "execution_count": 191,
   "metadata": {},
   "outputs": [
    {
     "data": {
      "text/html": [
       "<div>\n",
       "<style scoped>\n",
       "    .dataframe tbody tr th:only-of-type {\n",
       "        vertical-align: middle;\n",
       "    }\n",
       "\n",
       "    .dataframe tbody tr th {\n",
       "        vertical-align: top;\n",
       "    }\n",
       "\n",
       "    .dataframe thead th {\n",
       "        text-align: right;\n",
       "    }\n",
       "</style>\n",
       "<table border=\"1\" class=\"dataframe\">\n",
       "  <thead>\n",
       "    <tr style=\"text-align: right;\">\n",
       "      <th></th>\n",
       "      <th>PERMNO</th>\n",
       "      <th>Mkt-RF</th>\n",
       "      <th>SMB</th>\n",
       "      <th>HML</th>\n",
       "      <th>RMW</th>\n",
       "      <th>CMA</th>\n",
       "      <th>UMD</th>\n",
       "    </tr>\n",
       "  </thead>\n",
       "  <tbody>\n",
       "    <tr>\n",
       "      <th>0</th>\n",
       "      <td>10000</td>\n",
       "      <td>-0.756132</td>\n",
       "      <td>4.886128</td>\n",
       "      <td>2.610467</td>\n",
       "      <td>-4.477707</td>\n",
       "      <td>-6.509955</td>\n",
       "      <td>2.379360</td>\n",
       "    </tr>\n",
       "    <tr>\n",
       "      <th>1</th>\n",
       "      <td>10001</td>\n",
       "      <td>-0.075395</td>\n",
       "      <td>0.755356</td>\n",
       "      <td>0.056853</td>\n",
       "      <td>-0.232516</td>\n",
       "      <td>-0.337785</td>\n",
       "      <td>-0.559832</td>\n",
       "    </tr>\n",
       "    <tr>\n",
       "      <th>2</th>\n",
       "      <td>10002</td>\n",
       "      <td>0.122566</td>\n",
       "      <td>1.525182</td>\n",
       "      <td>1.142493</td>\n",
       "      <td>0.362636</td>\n",
       "      <td>-0.274842</td>\n",
       "      <td>-0.423107</td>\n",
       "    </tr>\n",
       "    <tr>\n",
       "      <th>3</th>\n",
       "      <td>10003</td>\n",
       "      <td>1.495267</td>\n",
       "      <td>5.543331</td>\n",
       "      <td>6.463190</td>\n",
       "      <td>0.181900</td>\n",
       "      <td>-1.655064</td>\n",
       "      <td>-0.263197</td>\n",
       "    </tr>\n",
       "    <tr>\n",
       "      <th>4</th>\n",
       "      <td>10005</td>\n",
       "      <td>1.327231</td>\n",
       "      <td>1.341277</td>\n",
       "      <td>-4.967922</td>\n",
       "      <td>-2.374611</td>\n",
       "      <td>8.207193</td>\n",
       "      <td>-3.695720</td>\n",
       "    </tr>\n",
       "    <tr>\n",
       "      <th>...</th>\n",
       "      <td>...</td>\n",
       "      <td>...</td>\n",
       "      <td>...</td>\n",
       "      <td>...</td>\n",
       "      <td>...</td>\n",
       "      <td>...</td>\n",
       "      <td>...</td>\n",
       "    </tr>\n",
       "    <tr>\n",
       "      <th>33488</th>\n",
       "      <td>93432</td>\n",
       "      <td>-0.589409</td>\n",
       "      <td>-6.024435</td>\n",
       "      <td>-4.946234</td>\n",
       "      <td>-11.587453</td>\n",
       "      <td>2.367807</td>\n",
       "      <td>5.060635</td>\n",
       "    </tr>\n",
       "    <tr>\n",
       "      <th>33489</th>\n",
       "      <td>93433</td>\n",
       "      <td>1.468938</td>\n",
       "      <td>-8.192412</td>\n",
       "      <td>2.555918</td>\n",
       "      <td>-1.553371</td>\n",
       "      <td>-9.722839</td>\n",
       "      <td>-8.709984</td>\n",
       "    </tr>\n",
       "    <tr>\n",
       "      <th>33490</th>\n",
       "      <td>93434</td>\n",
       "      <td>0.510665</td>\n",
       "      <td>0.281969</td>\n",
       "      <td>0.925659</td>\n",
       "      <td>-0.328132</td>\n",
       "      <td>-1.017246</td>\n",
       "      <td>-0.014302</td>\n",
       "    </tr>\n",
       "    <tr>\n",
       "      <th>33491</th>\n",
       "      <td>93435</td>\n",
       "      <td>2.138985</td>\n",
       "      <td>-0.872100</td>\n",
       "      <td>7.780030</td>\n",
       "      <td>-2.168000</td>\n",
       "      <td>-12.013305</td>\n",
       "      <td>0.983280</td>\n",
       "    </tr>\n",
       "    <tr>\n",
       "      <th>33492</th>\n",
       "      <td>93436</td>\n",
       "      <td>1.618719</td>\n",
       "      <td>0.671217</td>\n",
       "      <td>-0.466917</td>\n",
       "      <td>0.088321</td>\n",
       "      <td>-0.293579</td>\n",
       "      <td>0.224282</td>\n",
       "    </tr>\n",
       "  </tbody>\n",
       "</table>\n",
       "<p>33493 rows × 7 columns</p>\n",
       "</div>"
      ],
      "text/plain": [
       "       PERMNO    Mkt-RF       SMB       HML        RMW        CMA       UMD\n",
       "0       10000 -0.756132  4.886128  2.610467  -4.477707  -6.509955  2.379360\n",
       "1       10001 -0.075395  0.755356  0.056853  -0.232516  -0.337785 -0.559832\n",
       "2       10002  0.122566  1.525182  1.142493   0.362636  -0.274842 -0.423107\n",
       "3       10003  1.495267  5.543331  6.463190   0.181900  -1.655064 -0.263197\n",
       "4       10005  1.327231  1.341277 -4.967922  -2.374611   8.207193 -3.695720\n",
       "...       ...       ...       ...       ...        ...        ...       ...\n",
       "33488   93432 -0.589409 -6.024435 -4.946234 -11.587453   2.367807  5.060635\n",
       "33489   93433  1.468938 -8.192412  2.555918  -1.553371  -9.722839 -8.709984\n",
       "33490   93434  0.510665  0.281969  0.925659  -0.328132  -1.017246 -0.014302\n",
       "33491   93435  2.138985 -0.872100  7.780030  -2.168000 -12.013305  0.983280\n",
       "33492   93436  1.618719  0.671217 -0.466917   0.088321  -0.293579  0.224282\n",
       "\n",
       "[33493 rows x 7 columns]"
      ]
     },
     "execution_count": 191,
     "metadata": {},
     "output_type": "execute_result"
    }
   ],
   "source": [
    "betas"
   ]
  },
  {
   "cell_type": "code",
   "execution_count": 218,
   "metadata": {},
   "outputs": [],
   "source": [
    "betas = betas.dropna()"
   ]
  },
  {
   "cell_type": "code",
   "execution_count": 219,
   "metadata": {},
   "outputs": [],
   "source": [
    "merged_factors = pd.merge(merged, betas, how=\"inner\", on=\"PERMNO\")"
   ]
  },
  {
   "cell_type": "code",
   "execution_count": 222,
   "metadata": {},
   "outputs": [
    {
     "data": {
      "text/plain": [
       "PERMNO                      0\n",
       "PrimaryExch                 0\n",
       "SecurityNm                  0\n",
       "Ticker                   6067\n",
       "SICCD                       0\n",
       "ICBIndustry                 0\n",
       "MthCalDt                    0\n",
       "MthPrc                    212\n",
       "MthRet                    241\n",
       "MthVol                 247495\n",
       "ShrOut                  25372\n",
       "date                  1204826\n",
       "CPI_Percent_Change    1204826\n",
       "Inflation             1211016\n",
       "Mkt-RF                      0\n",
       "SMB                         0\n",
       "HML                         0\n",
       "RMW                         0\n",
       "CMA                         0\n",
       "UMD                         0\n",
       "dtype: int64"
      ]
     },
     "execution_count": 222,
     "metadata": {},
     "output_type": "execute_result"
    }
   ],
   "source": [
    "merged_factors.isna().sum()"
   ]
  },
  {
   "cell_type": "code",
   "execution_count": 308,
   "metadata": {},
   "outputs": [
    {
     "data": {
      "text/plain": [
       "Inflation\n",
       "deflation     99\n",
       "low          163\n",
       "mid          187\n",
       "high         185\n",
       "Name: MthCalDt, dtype: int64"
      ]
     },
     "execution_count": 308,
     "metadata": {},
     "output_type": "execute_result"
    }
   ],
   "source": [
    "merged.groupby(\"Inflation\")[\"MthCalDt\"].nunique()"
   ]
  },
  {
   "cell_type": "code",
   "execution_count": 231,
   "metadata": {},
   "outputs": [],
   "source": [
    "# create 4 dataframes, one for each inflation regime\n",
    "deflated = merged_factors[merged_factors[\"Inflation\"] == \"deflation\"].copy().dropna(subset=[\"MthRet\"])\n",
    "low = merged_factors[merged_factors[\"Inflation\"] == \"low\"].copy().dropna(subset=[\"MthRet\"])\n",
    "mid = merged_factors[merged_factors[\"Inflation\"] == \"mid\"].copy().dropna(subset=[\"MthRet\"])\n",
    "high = merged_factors[merged_factors[\"Inflation\"] == \"high\"].copy().dropna(subset=[\"MthRet\"])"
   ]
  },
  {
   "cell_type": "code",
   "execution_count": null,
   "metadata": {},
   "outputs": [],
   "source": []
  },
  {
   "cell_type": "markdown",
   "metadata": {},
   "source": [
    "{deflation: {mkt-rf: (x, y)} }"
   ]
  },
  {
   "cell_type": "code",
   "execution_count": 266,
   "metadata": {},
   "outputs": [],
   "source": [
    "X_factors = [\"Mkt-RF\",\"SMB\",\"HML\",\"RMW\",\"CMA\",\"UMD\"]\n",
    "y_returns = [\"MthRet\"]\n",
    "\n",
    "regimes_names = [\"deflated\", \"low\", \"mid\", \"high\"]\n",
    "\n",
    "regimes = [deflated, low, mid, high]\n",
    "\n",
    "regime_betas = {}\n",
    "\n",
    "for regime_i in range(len(regimes)):\n",
    "    regime = regimes[regime_i]\n",
    "    regime_name = regimes_names[regime_i]\n",
    "    factor_betas = {}\n",
    "    X = regime[X_factors]\n",
    "    y = regime[y_returns]\n",
    "    \n",
    "    X = sm.add_constant(X)\n",
    "    model = sm.OLS(y, X)\n",
    "    results = model.fit()\n",
    "    results.summary()\n",
    "    \n",
    "    for factor in X_factors:\n",
    "        regime_betas[(regime_name, factor)] = (results.params[factor], results.tvalues[factor])\n",
    "    \n"
   ]
  },
  {
   "cell_type": "code",
   "execution_count": 269,
   "metadata": {},
   "outputs": [],
   "source": [
    "# dict to pandas dataframe multiindex\n",
    "regime_df = pd.DataFrame(regime_betas).T\n",
    "regime_df.columns = [\"beta\", \"t-stat\"]"
   ]
  },
  {
   "cell_type": "code",
   "execution_count": 278,
   "metadata": {},
   "outputs": [
    {
     "data": {
      "text/html": [
       "<div>\n",
       "<style scoped>\n",
       "    .dataframe tbody tr th:only-of-type {\n",
       "        vertical-align: middle;\n",
       "    }\n",
       "\n",
       "    .dataframe tbody tr th {\n",
       "        vertical-align: top;\n",
       "    }\n",
       "\n",
       "    .dataframe thead th {\n",
       "        text-align: right;\n",
       "    }\n",
       "</style>\n",
       "<table border=\"1\" class=\"dataframe\">\n",
       "  <thead>\n",
       "    <tr style=\"text-align: right;\">\n",
       "      <th></th>\n",
       "      <th></th>\n",
       "      <th>beta</th>\n",
       "      <th>t-stat</th>\n",
       "    </tr>\n",
       "  </thead>\n",
       "  <tbody>\n",
       "    <tr>\n",
       "      <th rowspan=\"6\" valign=\"top\">deflated</th>\n",
       "      <th>Mkt-RF</th>\n",
       "      <td>0.003302</td>\n",
       "      <td>8.844073</td>\n",
       "    </tr>\n",
       "    <tr>\n",
       "      <th>SMB</th>\n",
       "      <td>0.004676</td>\n",
       "      <td>17.985950</td>\n",
       "    </tr>\n",
       "    <tr>\n",
       "      <th>HML</th>\n",
       "      <td>0.001550</td>\n",
       "      <td>6.469171</td>\n",
       "    </tr>\n",
       "    <tr>\n",
       "      <th>RMW</th>\n",
       "      <td>-0.001068</td>\n",
       "      <td>-5.618243</td>\n",
       "    </tr>\n",
       "    <tr>\n",
       "      <th>CMA</th>\n",
       "      <td>0.001689</td>\n",
       "      <td>8.323133</td>\n",
       "    </tr>\n",
       "    <tr>\n",
       "      <th>UMD</th>\n",
       "      <td>0.000394</td>\n",
       "      <td>1.209929</td>\n",
       "    </tr>\n",
       "    <tr>\n",
       "      <th rowspan=\"6\" valign=\"top\">low</th>\n",
       "      <th>Mkt-RF</th>\n",
       "      <td>0.004143</td>\n",
       "      <td>16.485013</td>\n",
       "    </tr>\n",
       "    <tr>\n",
       "      <th>SMB</th>\n",
       "      <td>0.000666</td>\n",
       "      <td>3.924659</td>\n",
       "    </tr>\n",
       "    <tr>\n",
       "      <th>HML</th>\n",
       "      <td>-0.000922</td>\n",
       "      <td>-5.990428</td>\n",
       "    </tr>\n",
       "    <tr>\n",
       "      <th>RMW</th>\n",
       "      <td>0.000512</td>\n",
       "      <td>4.432580</td>\n",
       "    </tr>\n",
       "    <tr>\n",
       "      <th>CMA</th>\n",
       "      <td>-0.002402</td>\n",
       "      <td>-18.728996</td>\n",
       "    </tr>\n",
       "    <tr>\n",
       "      <th>UMD</th>\n",
       "      <td>0.001789</td>\n",
       "      <td>8.365550</td>\n",
       "    </tr>\n",
       "    <tr>\n",
       "      <th rowspan=\"6\" valign=\"top\">mid</th>\n",
       "      <th>Mkt-RF</th>\n",
       "      <td>0.005817</td>\n",
       "      <td>22.937428</td>\n",
       "    </tr>\n",
       "    <tr>\n",
       "      <th>SMB</th>\n",
       "      <td>-0.000317</td>\n",
       "      <td>-1.944513</td>\n",
       "    </tr>\n",
       "    <tr>\n",
       "      <th>HML</th>\n",
       "      <td>-0.003178</td>\n",
       "      <td>-22.224008</td>\n",
       "    </tr>\n",
       "    <tr>\n",
       "      <th>RMW</th>\n",
       "      <td>0.000825</td>\n",
       "      <td>7.458045</td>\n",
       "    </tr>\n",
       "    <tr>\n",
       "      <th>CMA</th>\n",
       "      <td>-0.004117</td>\n",
       "      <td>-34.559373</td>\n",
       "    </tr>\n",
       "    <tr>\n",
       "      <th>UMD</th>\n",
       "      <td>-0.001936</td>\n",
       "      <td>-8.875877</td>\n",
       "    </tr>\n",
       "    <tr>\n",
       "      <th rowspan=\"6\" valign=\"top\">high</th>\n",
       "      <th>Mkt-RF</th>\n",
       "      <td>0.002344</td>\n",
       "      <td>9.365042</td>\n",
       "    </tr>\n",
       "    <tr>\n",
       "      <th>SMB</th>\n",
       "      <td>0.001524</td>\n",
       "      <td>9.723448</td>\n",
       "    </tr>\n",
       "    <tr>\n",
       "      <th>HML</th>\n",
       "      <td>-0.002030</td>\n",
       "      <td>-14.016178</td>\n",
       "    </tr>\n",
       "    <tr>\n",
       "      <th>RMW</th>\n",
       "      <td>-0.000856</td>\n",
       "      <td>-7.472756</td>\n",
       "    </tr>\n",
       "    <tr>\n",
       "      <th>CMA</th>\n",
       "      <td>0.000564</td>\n",
       "      <td>4.974764</td>\n",
       "    </tr>\n",
       "    <tr>\n",
       "      <th>UMD</th>\n",
       "      <td>0.002841</td>\n",
       "      <td>13.154169</td>\n",
       "    </tr>\n",
       "  </tbody>\n",
       "</table>\n",
       "</div>"
      ],
      "text/plain": [
       "                     beta     t-stat\n",
       "deflated Mkt-RF  0.003302   8.844073\n",
       "         SMB     0.004676  17.985950\n",
       "         HML     0.001550   6.469171\n",
       "         RMW    -0.001068  -5.618243\n",
       "         CMA     0.001689   8.323133\n",
       "         UMD     0.000394   1.209929\n",
       "low      Mkt-RF  0.004143  16.485013\n",
       "         SMB     0.000666   3.924659\n",
       "         HML    -0.000922  -5.990428\n",
       "         RMW     0.000512   4.432580\n",
       "         CMA    -0.002402 -18.728996\n",
       "         UMD     0.001789   8.365550\n",
       "mid      Mkt-RF  0.005817  22.937428\n",
       "         SMB    -0.000317  -1.944513\n",
       "         HML    -0.003178 -22.224008\n",
       "         RMW     0.000825   7.458045\n",
       "         CMA    -0.004117 -34.559373\n",
       "         UMD    -0.001936  -8.875877\n",
       "high     Mkt-RF  0.002344   9.365042\n",
       "         SMB     0.001524   9.723448\n",
       "         HML    -0.002030 -14.016178\n",
       "         RMW    -0.000856  -7.472756\n",
       "         CMA     0.000564   4.974764\n",
       "         UMD     0.002841  13.154169"
      ]
     },
     "execution_count": 278,
     "metadata": {},
     "output_type": "execute_result"
    }
   ],
   "source": [
    "regime_df"
   ]
  },
  {
   "cell_type": "code",
   "execution_count": 277,
   "metadata": {},
   "outputs": [
    {
     "data": {
      "text/plain": [
       "<AxesSubplot:>"
      ]
     },
     "execution_count": 277,
     "metadata": {},
     "output_type": "execute_result"
    },
    {
     "data": {
      "image/png": "[encoded data removed]",
      "text/plain": [
       "<Figure size 432x288 with 1 Axes>"
      ]
     },
     "metadata": {
      "needs_background": "light"
     },
     "output_type": "display_data"
    }
   ],
   "source": [
    "regime_df.unstack(level=0)['beta'].plot(\n",
    "    kind='bar'\n",
    ")"
   ]
  },
  {
   "cell_type": "code",
   "execution_count": 280,
   "metadata": {},
   "outputs": [
    {
     "data": {
      "text/plain": [
       "MultiIndex([('deflated', 'Mkt-RF'),\n",
       "            ('deflated',    'SMB'),\n",
       "            ('deflated',    'HML'),\n",
       "            ('deflated',    'RMW'),\n",
       "            ('deflated',    'CMA'),\n",
       "            ('deflated',    'UMD'),\n",
       "            (     'low', 'Mkt-RF'),\n",
       "            (     'low',    'SMB'),\n",
       "            (     'low',    'HML'),\n",
       "            (     'low',    'RMW'),\n",
       "            (     'low',    'CMA'),\n",
       "            (     'low',    'UMD'),\n",
       "            (     'mid', 'Mkt-RF'),\n",
       "            (     'mid',    'SMB'),\n",
       "            (     'mid',    'HML'),\n",
       "            (     'mid',    'RMW'),\n",
       "            (     'mid',    'CMA'),\n",
       "            (     'mid',    'UMD'),\n",
       "            (    'high', 'Mkt-RF'),\n",
       "            (    'high',    'SMB'),\n",
       "            (    'high',    'HML'),\n",
       "            (    'high',    'RMW'),\n",
       "            (    'high',    'CMA'),\n",
       "            (    'high',    'UMD')],\n",
       "           )"
      ]
     },
     "execution_count": 280,
     "metadata": {},
     "output_type": "execute_result"
    }
   ],
   "source": [
    "regime_df.index"
   ]
  },
  {
   "cell_type": "code",
   "execution_count": 293,
   "metadata": {},
   "outputs": [],
   "source": [
    "regime_df_non_multi = regime_df.reset_index().rename({\"level_0\": \"regime\", \"level_1\": \"factor\"}, axis=1)"
   ]
  },
  {
   "cell_type": "code",
   "execution_count": 294,
   "metadata": {},
   "outputs": [
    {
     "data": {
      "text/html": [
       "<div>\n",
       "<style scoped>\n",
       "    .dataframe tbody tr th:only-of-type {\n",
       "        vertical-align: middle;\n",
       "    }\n",
       "\n",
       "    .dataframe tbody tr th {\n",
       "        vertical-align: top;\n",
       "    }\n",
       "\n",
       "    .dataframe thead th {\n",
       "        text-align: right;\n",
       "    }\n",
       "</style>\n",
       "<table border=\"1\" class=\"dataframe\">\n",
       "  <thead>\n",
       "    <tr style=\"text-align: right;\">\n",
       "      <th></th>\n",
       "      <th>regime</th>\n",
       "      <th>factor</th>\n",
       "      <th>beta</th>\n",
       "      <th>t-stat</th>\n",
       "    </tr>\n",
       "  </thead>\n",
       "  <tbody>\n",
       "    <tr>\n",
       "      <th>0</th>\n",
       "      <td>deflated</td>\n",
       "      <td>Mkt-RF</td>\n",
       "      <td>0.003302</td>\n",
       "      <td>8.844073</td>\n",
       "    </tr>\n",
       "    <tr>\n",
       "      <th>1</th>\n",
       "      <td>deflated</td>\n",
       "      <td>SMB</td>\n",
       "      <td>0.004676</td>\n",
       "      <td>17.985950</td>\n",
       "    </tr>\n",
       "    <tr>\n",
       "      <th>2</th>\n",
       "      <td>deflated</td>\n",
       "      <td>HML</td>\n",
       "      <td>0.001550</td>\n",
       "      <td>6.469171</td>\n",
       "    </tr>\n",
       "    <tr>\n",
       "      <th>3</th>\n",
       "      <td>deflated</td>\n",
       "      <td>RMW</td>\n",
       "      <td>-0.001068</td>\n",
       "      <td>-5.618243</td>\n",
       "    </tr>\n",
       "    <tr>\n",
       "      <th>4</th>\n",
       "      <td>deflated</td>\n",
       "      <td>CMA</td>\n",
       "      <td>0.001689</td>\n",
       "      <td>8.323133</td>\n",
       "    </tr>\n",
       "    <tr>\n",
       "      <th>5</th>\n",
       "      <td>deflated</td>\n",
       "      <td>UMD</td>\n",
       "      <td>0.000394</td>\n",
       "      <td>1.209929</td>\n",
       "    </tr>\n",
       "    <tr>\n",
       "      <th>6</th>\n",
       "      <td>low</td>\n",
       "      <td>Mkt-RF</td>\n",
       "      <td>0.004143</td>\n",
       "      <td>16.485013</td>\n",
       "    </tr>\n",
       "    <tr>\n",
       "      <th>7</th>\n",
       "      <td>low</td>\n",
       "      <td>SMB</td>\n",
       "      <td>0.000666</td>\n",
       "      <td>3.924659</td>\n",
       "    </tr>\n",
       "    <tr>\n",
       "      <th>8</th>\n",
       "      <td>low</td>\n",
       "      <td>HML</td>\n",
       "      <td>-0.000922</td>\n",
       "      <td>-5.990428</td>\n",
       "    </tr>\n",
       "    <tr>\n",
       "      <th>9</th>\n",
       "      <td>low</td>\n",
       "      <td>RMW</td>\n",
       "      <td>0.000512</td>\n",
       "      <td>4.432580</td>\n",
       "    </tr>\n",
       "    <tr>\n",
       "      <th>10</th>\n",
       "      <td>low</td>\n",
       "      <td>CMA</td>\n",
       "      <td>-0.002402</td>\n",
       "      <td>-18.728996</td>\n",
       "    </tr>\n",
       "    <tr>\n",
       "      <th>11</th>\n",
       "      <td>low</td>\n",
       "      <td>UMD</td>\n",
       "      <td>0.001789</td>\n",
       "      <td>8.365550</td>\n",
       "    </tr>\n",
       "    <tr>\n",
       "      <th>12</th>\n",
       "      <td>mid</td>\n",
       "      <td>Mkt-RF</td>\n",
       "      <td>0.005817</td>\n",
       "      <td>22.937428</td>\n",
       "    </tr>\n",
       "    <tr>\n",
       "      <th>13</th>\n",
       "      <td>mid</td>\n",
       "      <td>SMB</td>\n",
       "      <td>-0.000317</td>\n",
       "      <td>-1.944513</td>\n",
       "    </tr>\n",
       "    <tr>\n",
       "      <th>14</th>\n",
       "      <td>mid</td>\n",
       "      <td>HML</td>\n",
       "      <td>-0.003178</td>\n",
       "      <td>-22.224008</td>\n",
       "    </tr>\n",
       "    <tr>\n",
       "      <th>15</th>\n",
       "      <td>mid</td>\n",
       "      <td>RMW</td>\n",
       "      <td>0.000825</td>\n",
       "      <td>7.458045</td>\n",
       "    </tr>\n",
       "    <tr>\n",
       "      <th>16</th>\n",
       "      <td>mid</td>\n",
       "      <td>CMA</td>\n",
       "      <td>-0.004117</td>\n",
       "      <td>-34.559373</td>\n",
       "    </tr>\n",
       "    <tr>\n",
       "      <th>17</th>\n",
       "      <td>mid</td>\n",
       "      <td>UMD</td>\n",
       "      <td>-0.001936</td>\n",
       "      <td>-8.875877</td>\n",
       "    </tr>\n",
       "    <tr>\n",
       "      <th>18</th>\n",
       "      <td>high</td>\n",
       "      <td>Mkt-RF</td>\n",
       "      <td>0.002344</td>\n",
       "      <td>9.365042</td>\n",
       "    </tr>\n",
       "    <tr>\n",
       "      <th>19</th>\n",
       "      <td>high</td>\n",
       "      <td>SMB</td>\n",
       "      <td>0.001524</td>\n",
       "      <td>9.723448</td>\n",
       "    </tr>\n",
       "    <tr>\n",
       "      <th>20</th>\n",
       "      <td>high</td>\n",
       "      <td>HML</td>\n",
       "      <td>-0.002030</td>\n",
       "      <td>-14.016178</td>\n",
       "    </tr>\n",
       "    <tr>\n",
       "      <th>21</th>\n",
       "      <td>high</td>\n",
       "      <td>RMW</td>\n",
       "      <td>-0.000856</td>\n",
       "      <td>-7.472756</td>\n",
       "    </tr>\n",
       "    <tr>\n",
       "      <th>22</th>\n",
       "      <td>high</td>\n",
       "      <td>CMA</td>\n",
       "      <td>0.000564</td>\n",
       "      <td>4.974764</td>\n",
       "    </tr>\n",
       "    <tr>\n",
       "      <th>23</th>\n",
       "      <td>high</td>\n",
       "      <td>UMD</td>\n",
       "      <td>0.002841</td>\n",
       "      <td>13.154169</td>\n",
       "    </tr>\n",
       "  </tbody>\n",
       "</table>\n",
       "</div>"
      ],
      "text/plain": [
       "      regime  factor      beta     t-stat\n",
       "0   deflated  Mkt-RF  0.003302   8.844073\n",
       "1   deflated     SMB  0.004676  17.985950\n",
       "2   deflated     HML  0.001550   6.469171\n",
       "3   deflated     RMW -0.001068  -5.618243\n",
       "4   deflated     CMA  0.001689   8.323133\n",
       "5   deflated     UMD  0.000394   1.209929\n",
       "6        low  Mkt-RF  0.004143  16.485013\n",
       "7        low     SMB  0.000666   3.924659\n",
       "8        low     HML -0.000922  -5.990428\n",
       "9        low     RMW  0.000512   4.432580\n",
       "10       low     CMA -0.002402 -18.728996\n",
       "11       low     UMD  0.001789   8.365550\n",
       "12       mid  Mkt-RF  0.005817  22.937428\n",
       "13       mid     SMB -0.000317  -1.944513\n",
       "14       mid     HML -0.003178 -22.224008\n",
       "15       mid     RMW  0.000825   7.458045\n",
       "16       mid     CMA -0.004117 -34.559373\n",
       "17       mid     UMD -0.001936  -8.875877\n",
       "18      high  Mkt-RF  0.002344   9.365042\n",
       "19      high     SMB  0.001524   9.723448\n",
       "20      high     HML -0.002030 -14.016178\n",
       "21      high     RMW -0.000856  -7.472756\n",
       "22      high     CMA  0.000564   4.974764\n",
       "23      high     UMD  0.002841  13.154169"
      ]
     },
     "execution_count": 294,
     "metadata": {},
     "output_type": "execute_result"
    }
   ],
   "source": [
    "regime_df_non_multi"
   ]
  },
  {
   "cell_type": "code",
   "execution_count": 297,
   "metadata": {},
   "outputs": [
    {
     "data": {
      "text/plain": [
       "0     0.003302\n",
       "1     0.004676\n",
       "2     0.001550\n",
       "3    -0.001068\n",
       "4     0.001689\n",
       "5     0.000394\n",
       "6     0.004143\n",
       "7     0.000666\n",
       "8    -0.000922\n",
       "9     0.000512\n",
       "10   -0.002402\n",
       "11    0.001789\n",
       "12    0.005817\n",
       "13   -0.000317\n",
       "14   -0.003178\n",
       "15    0.000825\n",
       "16   -0.004117\n",
       "17   -0.001936\n",
       "18    0.002344\n",
       "19    0.001524\n",
       "20   -0.002030\n",
       "21   -0.000856\n",
       "22    0.000564\n",
       "23    0.002841\n",
       "Name: beta, dtype: float64"
      ]
     },
     "execution_count": 297,
     "metadata": {},
     "output_type": "execute_result"
    }
   ],
   "source": [
    "regime_df_non_multi[\"beta\"]"
   ]
  },
  {
   "cell_type": "code",
   "execution_count": 298,
   "metadata": {},
   "outputs": [
    {
     "data": {
      "text/html": [
       "<div>\n",
       "<style scoped>\n",
       "    .dataframe tbody tr th:only-of-type {\n",
       "        vertical-align: middle;\n",
       "    }\n",
       "\n",
       "    .dataframe tbody tr th {\n",
       "        vertical-align: top;\n",
       "    }\n",
       "\n",
       "    .dataframe thead th {\n",
       "        text-align: right;\n",
       "    }\n",
       "</style>\n",
       "<table border=\"1\" class=\"dataframe\">\n",
       "  <thead>\n",
       "    <tr style=\"text-align: right;\">\n",
       "      <th></th>\n",
       "      <th>regime</th>\n",
       "      <th>factor</th>\n",
       "      <th>beta</th>\n",
       "      <th>t-stat</th>\n",
       "    </tr>\n",
       "  </thead>\n",
       "  <tbody>\n",
       "    <tr>\n",
       "      <th>0</th>\n",
       "      <td>deflated</td>\n",
       "      <td>Mkt-RF</td>\n",
       "      <td>0.003302</td>\n",
       "      <td>8.844073</td>\n",
       "    </tr>\n",
       "    <tr>\n",
       "      <th>1</th>\n",
       "      <td>deflated</td>\n",
       "      <td>SMB</td>\n",
       "      <td>0.004676</td>\n",
       "      <td>17.985950</td>\n",
       "    </tr>\n",
       "    <tr>\n",
       "      <th>2</th>\n",
       "      <td>deflated</td>\n",
       "      <td>HML</td>\n",
       "      <td>0.001550</td>\n",
       "      <td>6.469171</td>\n",
       "    </tr>\n",
       "    <tr>\n",
       "      <th>3</th>\n",
       "      <td>deflated</td>\n",
       "      <td>RMW</td>\n",
       "      <td>-0.001068</td>\n",
       "      <td>-5.618243</td>\n",
       "    </tr>\n",
       "    <tr>\n",
       "      <th>4</th>\n",
       "      <td>deflated</td>\n",
       "      <td>CMA</td>\n",
       "      <td>0.001689</td>\n",
       "      <td>8.323133</td>\n",
       "    </tr>\n",
       "    <tr>\n",
       "      <th>5</th>\n",
       "      <td>deflated</td>\n",
       "      <td>UMD</td>\n",
       "      <td>0.000394</td>\n",
       "      <td>1.209929</td>\n",
       "    </tr>\n",
       "    <tr>\n",
       "      <th>6</th>\n",
       "      <td>low</td>\n",
       "      <td>Mkt-RF</td>\n",
       "      <td>0.004143</td>\n",
       "      <td>16.485013</td>\n",
       "    </tr>\n",
       "    <tr>\n",
       "      <th>7</th>\n",
       "      <td>low</td>\n",
       "      <td>SMB</td>\n",
       "      <td>0.000666</td>\n",
       "      <td>3.924659</td>\n",
       "    </tr>\n",
       "    <tr>\n",
       "      <th>8</th>\n",
       "      <td>low</td>\n",
       "      <td>HML</td>\n",
       "      <td>-0.000922</td>\n",
       "      <td>-5.990428</td>\n",
       "    </tr>\n",
       "    <tr>\n",
       "      <th>9</th>\n",
       "      <td>low</td>\n",
       "      <td>RMW</td>\n",
       "      <td>0.000512</td>\n",
       "      <td>4.432580</td>\n",
       "    </tr>\n",
       "    <tr>\n",
       "      <th>10</th>\n",
       "      <td>low</td>\n",
       "      <td>CMA</td>\n",
       "      <td>-0.002402</td>\n",
       "      <td>-18.728996</td>\n",
       "    </tr>\n",
       "    <tr>\n",
       "      <th>11</th>\n",
       "      <td>low</td>\n",
       "      <td>UMD</td>\n",
       "      <td>0.001789</td>\n",
       "      <td>8.365550</td>\n",
       "    </tr>\n",
       "    <tr>\n",
       "      <th>12</th>\n",
       "      <td>mid</td>\n",
       "      <td>Mkt-RF</td>\n",
       "      <td>0.005817</td>\n",
       "      <td>22.937428</td>\n",
       "    </tr>\n",
       "    <tr>\n",
       "      <th>13</th>\n",
       "      <td>mid</td>\n",
       "      <td>SMB</td>\n",
       "      <td>-0.000317</td>\n",
       "      <td>-1.944513</td>\n",
       "    </tr>\n",
       "    <tr>\n",
       "      <th>14</th>\n",
       "      <td>mid</td>\n",
       "      <td>HML</td>\n",
       "      <td>-0.003178</td>\n",
       "      <td>-22.224008</td>\n",
       "    </tr>\n",
       "    <tr>\n",
       "      <th>15</th>\n",
       "      <td>mid</td>\n",
       "      <td>RMW</td>\n",
       "      <td>0.000825</td>\n",
       "      <td>7.458045</td>\n",
       "    </tr>\n",
       "    <tr>\n",
       "      <th>16</th>\n",
       "      <td>mid</td>\n",
       "      <td>CMA</td>\n",
       "      <td>-0.004117</td>\n",
       "      <td>-34.559373</td>\n",
       "    </tr>\n",
       "    <tr>\n",
       "      <th>17</th>\n",
       "      <td>mid</td>\n",
       "      <td>UMD</td>\n",
       "      <td>-0.001936</td>\n",
       "      <td>-8.875877</td>\n",
       "    </tr>\n",
       "    <tr>\n",
       "      <th>18</th>\n",
       "      <td>high</td>\n",
       "      <td>Mkt-RF</td>\n",
       "      <td>0.002344</td>\n",
       "      <td>9.365042</td>\n",
       "    </tr>\n",
       "    <tr>\n",
       "      <th>19</th>\n",
       "      <td>high</td>\n",
       "      <td>SMB</td>\n",
       "      <td>0.001524</td>\n",
       "      <td>9.723448</td>\n",
       "    </tr>\n",
       "    <tr>\n",
       "      <th>20</th>\n",
       "      <td>high</td>\n",
       "      <td>HML</td>\n",
       "      <td>-0.002030</td>\n",
       "      <td>-14.016178</td>\n",
       "    </tr>\n",
       "    <tr>\n",
       "      <th>21</th>\n",
       "      <td>high</td>\n",
       "      <td>RMW</td>\n",
       "      <td>-0.000856</td>\n",
       "      <td>-7.472756</td>\n",
       "    </tr>\n",
       "    <tr>\n",
       "      <th>22</th>\n",
       "      <td>high</td>\n",
       "      <td>CMA</td>\n",
       "      <td>0.000564</td>\n",
       "      <td>4.974764</td>\n",
       "    </tr>\n",
       "    <tr>\n",
       "      <th>23</th>\n",
       "      <td>high</td>\n",
       "      <td>UMD</td>\n",
       "      <td>0.002841</td>\n",
       "      <td>13.154169</td>\n",
       "    </tr>\n",
       "  </tbody>\n",
       "</table>\n",
       "</div>"
      ],
      "text/plain": [
       "      regime  factor      beta     t-stat\n",
       "0   deflated  Mkt-RF  0.003302   8.844073\n",
       "1   deflated     SMB  0.004676  17.985950\n",
       "2   deflated     HML  0.001550   6.469171\n",
       "3   deflated     RMW -0.001068  -5.618243\n",
       "4   deflated     CMA  0.001689   8.323133\n",
       "5   deflated     UMD  0.000394   1.209929\n",
       "6        low  Mkt-RF  0.004143  16.485013\n",
       "7        low     SMB  0.000666   3.924659\n",
       "8        low     HML -0.000922  -5.990428\n",
       "9        low     RMW  0.000512   4.432580\n",
       "10       low     CMA -0.002402 -18.728996\n",
       "11       low     UMD  0.001789   8.365550\n",
       "12       mid  Mkt-RF  0.005817  22.937428\n",
       "13       mid     SMB -0.000317  -1.944513\n",
       "14       mid     HML -0.003178 -22.224008\n",
       "15       mid     RMW  0.000825   7.458045\n",
       "16       mid     CMA -0.004117 -34.559373\n",
       "17       mid     UMD -0.001936  -8.875877\n",
       "18      high  Mkt-RF  0.002344   9.365042\n",
       "19      high     SMB  0.001524   9.723448\n",
       "20      high     HML -0.002030 -14.016178\n",
       "21      high     RMW -0.000856  -7.472756\n",
       "22      high     CMA  0.000564   4.974764\n",
       "23      high     UMD  0.002841  13.154169"
      ]
     },
     "execution_count": 298,
     "metadata": {},
     "output_type": "execute_result"
    }
   ],
   "source": [
    "regime_df_non_multi"
   ]
  },
  {
   "cell_type": "code",
   "execution_count": 305,
   "metadata": {},
   "outputs": [
    {
     "data": {
      "application/vnd.plotly.v1+json": {
       "config": {
        "plotlyServerURL": "https://plot.ly"
       },
       "data": [
        {
         "alignmentgroup": "True",
         "hovertemplate": "regime=deflated<br>factor=%{x}<br>beta=%{y}<extra></extra>",
         "legendgroup": "deflated",
         "marker": {
          "color": "#636efa",
          "pattern": {
           "shape": ""
          }
         },
         "name": "deflated",
         "offsetgroup": "deflated",
         "orientation": "v",
         "showlegend": true,
         "textposition": "auto",
         "type": "bar",
         "x": [
          "Mkt-RF",
          "SMB",
          "HML",
          "RMW",
          "CMA",
          "UMD"
         ],
         "xaxis": "x",
         "y": [
          0.0033024856633351047,
          0.004675609030062699,
          0.0015503413921171248,
          -0.001067975620602825,
          0.0016886967964207195,
          0.0003944230937711613
         ],
         "yaxis": "y"
        },
        {
         "alignmentgroup": "True",
         "hovertemplate": "regime=low<br>factor=%{x}<br>beta=%{y}<extra></extra>",
         "legendgroup": "low",
         "marker": {
          "color": "#EF553B",
          "pattern": {
           "shape": ""
          }
         },
         "name": "low",
         "offsetgroup": "low",
         "orientation": "v",
         "showlegend": true,
         "textposition": "auto",
         "type": "bar",
         "x": [
          "Mkt-RF",
          "SMB",
          "HML",
          "RMW",
          "CMA",
          "UMD"
         ],
         "xaxis": "x",
         "y": [
          0.00414302683051567,
          0.0006656204463832067,
          -0.0009224928321072286,
          0.0005117104172660051,
          -0.002402073488410097,
          0.001788964922384045
         ],
         "yaxis": "y"
        },
        {
         "alignmentgroup": "True",
         "hovertemplate": "regime=mid<br>factor=%{x}<br>beta=%{y}<extra></extra>",
         "legendgroup": "mid",
         "marker": {
          "color": "#00cc96",
          "pattern": {
           "shape": ""
          }
         },
         "name": "mid",
         "offsetgroup": "mid",
         "orientation": "v",
         "showlegend": true,
         "textposition": "auto",
         "type": "bar",
         "x": [
          "Mkt-RF",
          "SMB",
          "HML",
          "RMW",
          "CMA",
          "UMD"
         ],
         "xaxis": "x",
         "y": [
          0.005817091032147262,
          -0.0003171436390657676,
          -0.0031777573979950564,
          0.0008253458864060712,
          -0.004116647607596203,
          -0.0019358535788569224
         ],
         "yaxis": "y"
        },
        {
         "alignmentgroup": "True",
         "hovertemplate": "regime=high<br>factor=%{x}<br>beta=%{y}<extra></extra>",
         "legendgroup": "high",
         "marker": {
          "color": "#ab63fa",
          "pattern": {
           "shape": ""
          }
         },
         "name": "high",
         "offsetgroup": "high",
         "orientation": "v",
         "showlegend": true,
         "textposition": "auto",
         "type": "bar",
         "x": [
          "Mkt-RF",
          "SMB",
          "HML",
          "RMW",
          "CMA",
          "UMD"
         ],
         "xaxis": "x",
         "y": [
          0.002343927723169407,
          0.0015242626327103997,
          -0.002029544875743739,
          -0.0008561622658684301,
          0.0005641869477592352,
          0.0028413813636832107
         ],
         "yaxis": "y"
        }
       ],
       "layout": {
        "barmode": "group",
        "legend": {
         "title": {
          "text": "regime"
         },
         "tracegroupgap": 0
        },
        "margin": {
         "t": 60
        },
        "template": {
         "data": {
          "bar": [
           {
            "error_x": {
             "color": "#2a3f5f"
            },
            "error_y": {
             "color": "#2a3f5f"
            },
            "marker": {
             "line": {
              "color": "#E5ECF6",
              "width": 0.5
             },
             "pattern": {
              "fillmode": "overlay",
              "size": 10,
              "solidity": 0.2
             }
            },
            "type": "bar"
           }
          ],
          "barpolar": [
           {
            "marker": {
             "line": {
              "color": "#E5ECF6",
              "width": 0.5
             },
             "pattern": {
              "fillmode": "overlay",
              "size": 10,
              "solidity": 0.2
             }
            },
            "type": "barpolar"
           }
          ],
          "carpet": [
           {
            "aaxis": {
             "endlinecolor": "#2a3f5f",
             "gridcolor": "white",
             "linecolor": "white",
             "minorgridcolor": "white",
             "startlinecolor": "#2a3f5f"
            },
            "baxis": {
             "endlinecolor": "#2a3f5f",
             "gridcolor": "white",
             "linecolor": "white",
             "minorgridcolor": "white",
             "startlinecolor": "#2a3f5f"
            },
            "type": "carpet"
           }
          ],
          "choropleth": [
           {
            "colorbar": {
             "outlinewidth": 0,
             "ticks": ""
            },
            "type": "choropleth"
           }
          ],
          "contour": [
           {
            "colorbar": {
             "outlinewidth": 0,
             "ticks": ""
            },
            "colorscale": [
             [
              0,
              "#0d0887"
             ],
             [
              0.1111111111111111,
              "#46039f"
             ],
             [
              0.2222222222222222,
              "#7201a8"
             ],
             [
              0.3333333333333333,
              "#9c179e"
             ],
             [
              0.4444444444444444,
              "#bd3786"
             ],
             [
              0.5555555555555556,
              "#d8576b"
             ],
             [
              0.6666666666666666,
              "#ed7953"
             ],
             [
              0.7777777777777778,
              "#fb9f3a"
             ],
             [
              0.8888888888888888,
              "#fdca26"
             ],
             [
              1,
              "#f0f921"
             ]
            ],
            "type": "contour"
           }
          ],
          "contourcarpet": [
           {
            "colorbar": {
             "outlinewidth": 0,
             "ticks": ""
            },
            "type": "contourcarpet"
           }
          ],
          "heatmap": [
           {
            "colorbar": {
             "outlinewidth": 0,
             "ticks": ""
            },
            "colorscale": [
             [
              0,
              "#0d0887"
             ],
             [
              0.1111111111111111,
              "#46039f"
             ],
             [
              0.2222222222222222,
              "#7201a8"
             ],
             [
              0.3333333333333333,
              "#9c179e"
             ],
             [
              0.4444444444444444,
              "#bd3786"
             ],
             [
              0.5555555555555556,
              "#d8576b"
             ],
             [
              0.6666666666666666,
              "#ed7953"
             ],
             [
              0.7777777777777778,
              "#fb9f3a"
             ],
             [
              0.8888888888888888,
              "#fdca26"
             ],
             [
              1,
              "#f0f921"
             ]
            ],
            "type": "heatmap"
           }
          ],
          "heatmapgl": [
           {
            "colorbar": {
             "outlinewidth": 0,
             "ticks": ""
            },
            "colorscale": [
             [
              0,
              "#0d0887"
             ],
             [
              0.1111111111111111,
              "#46039f"
             ],
             [
              0.2222222222222222,
              "#7201a8"
             ],
             [
              0.3333333333333333,
              "#9c179e"
             ],
             [
              0.4444444444444444,
              "#bd3786"
             ],
             [
              0.5555555555555556,
              "#d8576b"
             ],
             [
              0.6666666666666666,
              "#ed7953"
             ],
             [
              0.7777777777777778,
              "#fb9f3a"
             ],
             [
              0.8888888888888888,
              "#fdca26"
             ],
             [
              1,
              "#f0f921"
             ]
            ],
            "type": "heatmapgl"
           }
          ],
          "histogram": [
           {
            "marker": {
             "pattern": {
              "fillmode": "overlay",
              "size": 10,
              "solidity": 0.2
             }
            },
            "type": "histogram"
           }
          ],
          "histogram2d": [
           {
            "colorbar": {
             "outlinewidth": 0,
             "ticks": ""
            },
            "colorscale": [
             [
              0,
              "#0d0887"
             ],
             [
              0.1111111111111111,
              "#46039f"
             ],
             [
              0.2222222222222222,
              "#7201a8"
             ],
             [
              0.3333333333333333,
              "#9c179e"
             ],
             [
              0.4444444444444444,
              "#bd3786"
             ],
             [
              0.5555555555555556,
              "#d8576b"
             ],
             [
              0.6666666666666666,
              "#ed7953"
             ],
             [
              0.7777777777777778,
              "#fb9f3a"
             ],
             [
              0.8888888888888888,
              "#fdca26"
             ],
             [
              1,
              "#f0f921"
             ]
            ],
            "type": "histogram2d"
           }
          ],
          "histogram2dcontour": [
           {
            "colorbar": {
             "outlinewidth": 0,
             "ticks": ""
            },
            "colorscale": [
             [
              0,
              "#0d0887"
             ],
             [
              0.1111111111111111,
              "#46039f"
             ],
             [
              0.2222222222222222,
              "#7201a8"
             ],
             [
              0.3333333333333333,
              "#9c179e"
             ],
             [
              0.4444444444444444,
              "#bd3786"
             ],
             [
              0.5555555555555556,
              "#d8576b"
             ],
             [
              0.6666666666666666,
              "#ed7953"
             ],
             [
              0.7777777777777778,
              "#fb9f3a"
             ],
             [
              0.8888888888888888,
              "#fdca26"
             ],
             [
              1,
              "#f0f921"
             ]
            ],
            "type": "histogram2dcontour"
           }
          ],
          "mesh3d": [
           {
            "colorbar": {
             "outlinewidth": 0,
             "ticks": ""
            },
            "type": "mesh3d"
           }
          ],
          "parcoords": [
           {
            "line": {
             "colorbar": {
              "outlinewidth": 0,
              "ticks": ""
             }
            },
            "type": "parcoords"
           }
          ],
          "pie": [
           {
            "automargin": true,
            "type": "pie"
           }
          ],
          "scatter": [
           {
            "marker": {
             "colorbar": {
              "outlinewidth": 0,
              "ticks": ""
             }
            },
            "type": "scatter"
           }
          ],
          "scatter3d": [
           {
            "line": {
             "colorbar": {
              "outlinewidth": 0,
              "ticks": ""
             }
            },
            "marker": {
             "colorbar": {
              "outlinewidth": 0,
              "ticks": ""
             }
            },
            "type": "scatter3d"
           }
          ],
          "scattercarpet": [
           {
            "marker": {
             "colorbar": {
              "outlinewidth": 0,
              "ticks": ""
             }
            },
            "type": "scattercarpet"
           }
          ],
          "scattergeo": [
           {
            "marker": {
             "colorbar": {
              "outlinewidth": 0,
              "ticks": ""
             }
            },
            "type": "scattergeo"
           }
          ],
          "scattergl": [
           {
            "marker": {
             "colorbar": {
              "outlinewidth": 0,
              "ticks": ""
             }
            },
            "type": "scattergl"
           }
          ],
          "scattermapbox": [
           {
            "marker": {
             "colorbar": {
              "outlinewidth": 0,
              "ticks": ""
             }
            },
            "type": "scattermapbox"
           }
          ],
          "scatterpolar": [
           {
            "marker": {
             "colorbar": {
              "outlinewidth": 0,
              "ticks": ""
             }
            },
            "type": "scatterpolar"
           }
          ],
          "scatterpolargl": [
           {
            "marker": {
             "colorbar": {
              "outlinewidth": 0,
              "ticks": ""
             }
            },
            "type": "scatterpolargl"
           }
          ],
          "scatterternary": [
           {
            "marker": {
             "colorbar": {
              "outlinewidth": 0,
              "ticks": ""
             }
            },
            "type": "scatterternary"
           }
          ],
          "surface": [
           {
            "colorbar": {
             "outlinewidth": 0,
             "ticks": ""
            },
            "colorscale": [
             [
              0,
              "#0d0887"
             ],
             [
              0.1111111111111111,
              "#46039f"
             ],
             [
              0.2222222222222222,
              "#7201a8"
             ],
             [
              0.3333333333333333,
              "#9c179e"
             ],
             [
              0.4444444444444444,
              "#bd3786"
             ],
             [
              0.5555555555555556,
              "#d8576b"
             ],
             [
              0.6666666666666666,
              "#ed7953"
             ],
             [
              0.7777777777777778,
              "#fb9f3a"
             ],
             [
              0.8888888888888888,
              "#fdca26"
             ],
             [
              1,
              "#f0f921"
             ]
            ],
            "type": "surface"
           }
          ],
          "table": [
           {
            "cells": {
             "fill": {
              "color": "#EBF0F8"
             },
             "line": {
              "color": "white"
             }
            },
            "header": {
             "fill": {
              "color": "#C8D4E3"
             },
             "line": {
              "color": "white"
             }
            },
            "type": "table"
           }
          ]
         },
         "layout": {
          "annotationdefaults": {
           "arrowcolor": "#2a3f5f",
           "arrowhead": 0,
           "arrowwidth": 1
          },
          "autotypenumbers": "strict",
          "coloraxis": {
           "colorbar": {
            "outlinewidth": 0,
            "ticks": ""
           }
          },
          "colorscale": {
           "diverging": [
            [
             0,
             "#8e0152"
            ],
            [
             0.1,
             "#c51b7d"
            ],
            [
             0.2,
             "#de77ae"
            ],
            [
             0.3,
             "#f1b6da"
            ],
            [
             0.4,
             "#fde0ef"
            ],
            [
             0.5,
             "#f7f7f7"
            ],
            [
             0.6,
             "#e6f5d0"
            ],
            [
             0.7,
             "#b8e186"
            ],
            [
             0.8,
             "#7fbc41"
            ],
            [
             0.9,
             "#4d9221"
            ],
            [
             1,
             "#276419"
            ]
           ],
           "sequential": [
            [
             0,
             "#0d0887"
            ],
            [
             0.1111111111111111,
             "#46039f"
            ],
            [
             0.2222222222222222,
             "#7201a8"
            ],
            [
             0.3333333333333333,
             "#9c179e"
            ],
            [
             0.4444444444444444,
             "#bd3786"
            ],
            [
             0.5555555555555556,
             "#d8576b"
            ],
            [
             0.6666666666666666,
             "#ed7953"
            ],
            [
             0.7777777777777778,
             "#fb9f3a"
            ],
            [
             0.8888888888888888,
             "#fdca26"
            ],
            [
             1,
             "#f0f921"
            ]
           ],
           "sequentialminus": [
            [
             0,
             "#0d0887"
            ],
            [
             0.1111111111111111,
             "#46039f"
            ],
            [
             0.2222222222222222,
             "#7201a8"
            ],
            [
             0.3333333333333333,
             "#9c179e"
            ],
            [
             0.4444444444444444,
             "#bd3786"
            ],
            [
             0.5555555555555556,
             "#d8576b"
            ],
            [
             0.6666666666666666,
             "#ed7953"
            ],
            [
             0.7777777777777778,
             "#fb9f3a"
            ],
            [
             0.8888888888888888,
             "#fdca26"
            ],
            [
             1,
             "#f0f921"
            ]
           ]
          },
          "colorway": [
           "#636efa",
           "#EF553B",
           "#00cc96",
           "#ab63fa",
           "#FFA15A",
           "#19d3f3",
           "#FF6692",
           "#B6E880",
           "#FF97FF",
           "#FECB52"
          ],
          "font": {
           "color": "#2a3f5f"
          },
          "geo": {
           "bgcolor": "white",
           "lakecolor": "white",
           "landcolor": "#E5ECF6",
           "showlakes": true,
           "showland": true,
           "subunitcolor": "white"
          },
          "hoverlabel": {
           "align": "left"
          },
          "hovermode": "closest",
          "mapbox": {
           "style": "light"
          },
          "paper_bgcolor": "white",
          "plot_bgcolor": "#E5ECF6",
          "polar": {
           "angularaxis": {
            "gridcolor": "white",
            "linecolor": "white",
            "ticks": ""
           },
           "bgcolor": "#E5ECF6",
           "radialaxis": {
            "gridcolor": "white",
            "linecolor": "white",
            "ticks": ""
           }
          },
          "scene": {
           "xaxis": {
            "backgroundcolor": "#E5ECF6",
            "gridcolor": "white",
            "gridwidth": 2,
            "linecolor": "white",
            "showbackground": true,
            "ticks": "",
            "zerolinecolor": "white"
           },
           "yaxis": {
            "backgroundcolor": "#E5ECF6",
            "gridcolor": "white",
            "gridwidth": 2,
            "linecolor": "white",
            "showbackground": true,
            "ticks": "",
            "zerolinecolor": "white"
           },
           "zaxis": {
            "backgroundcolor": "#E5ECF6",
            "gridcolor": "white",
            "gridwidth": 2,
            "linecolor": "white",
            "showbackground": true,
            "ticks": "",
            "zerolinecolor": "white"
           }
          },
          "shapedefaults": {
           "line": {
            "color": "#2a3f5f"
           }
          },
          "ternary": {
           "aaxis": {
            "gridcolor": "white",
            "linecolor": "white",
            "ticks": ""
           },
           "baxis": {
            "gridcolor": "white",
            "linecolor": "white",
            "ticks": ""
           },
           "bgcolor": "#E5ECF6",
           "caxis": {
            "gridcolor": "white",
            "linecolor": "white",
            "ticks": ""
           }
          },
          "title": {
           "x": 0.05
          },
          "xaxis": {
           "automargin": true,
           "gridcolor": "white",
           "linecolor": "white",
           "ticks": "",
           "title": {
            "standoff": 15
           },
           "zerolinecolor": "white",
           "zerolinewidth": 2
          },
          "yaxis": {
           "automargin": true,
           "gridcolor": "white",
           "linecolor": "white",
           "ticks": "",
           "title": {
            "standoff": 15
           },
           "zerolinecolor": "white",
           "zerolinewidth": 2
          }
         }
        },
        "xaxis": {
         "anchor": "y",
         "domain": [
          0,
          1
         ],
         "title": {
          "text": "factor"
         }
        },
        "yaxis": {
         "anchor": "x",
         "domain": [
          0,
          1
         ],
         "title": {
          "text": "beta"
         }
        }
       }
      }
     },
     "metadata": {},
     "output_type": "display_data"
    }
   ],
   "source": [
    "# plot the betas using plotly plot grouped by factor and regime\n",
    "# make plot bigger\n",
    "\n",
    "import plotly.express as px\n",
    "\n",
    "fig = px.bar(regime_df_non_multi, x=\"factor\", y=\"beta\", color=\"regime\", barmode=\"group\")\n",
    "fig.show()"
   ]
  },
  {
   "cell_type": "code",
   "execution_count": null,
   "metadata": {},
   "outputs": [],
   "source": [
    "# data cleaning\n",
    "# verfiy results\n",
    "# rerun traditional model with lookahead\n"
   ]
  },
  {
   "cell_type": "code",
   "execution_count": null,
   "metadata": {},
   "outputs": [],
   "source": []
  },
  {
   "cell_type": "code",
   "execution_count": 279,
   "metadata": {},
   "outputs": [
    {
     "data": {
      "text/plain": [
       "<AxesSubplot:>"
      ]
     },
     "execution_count": 279,
     "metadata": {},
     "output_type": "execute_result"
    },
    {
     "data": {
      "image/png": "[encoded data removed]",
      "text/plain": [
       "<Figure size 432x288 with 1 Axes>"
      ]
     },
     "metadata": {
      "needs_background": "light"
     },
     "output_type": "display_data"
    }
   ],
   "source": [
    "regime_df.unstack(level=0)['t-stat'].plot(\n",
    "    kind='bar'\n",
    ")"
   ]
  },
  {
   "cell_type": "code",
   "execution_count": null,
   "metadata": {},
   "outputs": [],
   "source": []
  }
 ],
 "metadata": {
  "kernelspec": {
   "display_name": "Python 3.9.12 64-bit ('anaconda3')",
   "language": "python",
   "name": "python3"
  },
  "language_info": {
   "codemirror_mode": {
    "name": "ipython",
    "version": 3
   },
   "file_extension": ".py",
   "mimetype": "text/x-python",
   "name": "python",
   "nbconvert_exporter": "python",
   "pygments_lexer": "ipython3",
   "version": "3.9.12"
  },
  "orig_nbformat": 4,
  "vscode": {
   "interpreter": {
    "hash": "40d3a090f54c6569ab1632332b64b2c03c39dcf918b08424e98f38b5ae0af88f"
   }
  }
 },
 "nbformat": 4,
 "nbformat_minor": 2
}
