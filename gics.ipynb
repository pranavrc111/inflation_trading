{
 "cells": [
  {
   "cell_type": "code",
   "execution_count": 1,
   "metadata": {},
   "outputs": [],
   "source": [
    "import pandas as pd\n",
    "import numpy as np\n",
    "\n",
    "# import timedelta\n",
    "from datetime import timedelta"
   ]
  },
  {
   "cell_type": "code",
   "execution_count": 2,
   "metadata": {},
   "outputs": [],
   "source": [
    "def get_cpi():\n",
    "    cpi = pd.read_excel('data/CPIAUCSL (1).xls')\n",
    "    #cpi = pd.read_csv(\"T5YIE.csv\")\n",
    "    cpi.columns = [\"date\", 'CPI']\n",
    "    cpi[\"date\"] = pd.to_datetime(cpi[\"date\"]) - timedelta(days=1)\n",
    "    return cpi\n",
    "\n",
    "def get_stocks():\n",
    "    stocks = pd.read_csv(\"data/comp_stocks.csv\")\n",
    "    stocks[\"datadate\"] = pd.to_datetime(stocks[\"datadate\"])\n",
    "    return stocks\n",
    "\n",
    "\n",
    "def merge_cpi_stock(stocks, cpi):\n",
    "    merged = pd.merge(stocks, cpi, how=\"left\", left_on=\"MthCalDt\", right_on=\"date\")\n",
    "    return merged\n",
    "\n",
    "def bin_inflation_regimes(cpi, labels = [\"deflation\",\"low\", \"mid\", \"high\"], bins = [-10, 0,1,3,20], value = \"CPI\", col = \"Inflation\"):\n",
    "    cpi[col] = pd.cut(cpi[value],bins, labels=labels)\n",
    "    return cpi\n",
    "\n",
    "\n",
    "def get_percent_change(cpi):\n",
    "    cpi[\"pct_change\"] = cpi[\"CPI\"].pct_change()\n",
    "    return cpi\n",
    "\n",
    "# get difference in inflation between two months\n",
    "def get_inflation_diff(cpi):\n",
    "    cpi[\"diff\"] = cpi[\"CPI\"].diff()\n",
    "    return cpi"
   ]
  },
  {
   "cell_type": "code",
   "execution_count": 374,
   "metadata": {},
   "outputs": [],
   "source": [
    "cpi = get_inflation_diff(get_cpi())"
   ]
  },
  {
   "cell_type": "code",
   "execution_count": 375,
   "metadata": {},
   "outputs": [
    {
     "name": "stderr",
     "output_type": "stream",
     "text": [
      "/var/folders/m6/h9jtrhyn259fytxp6j9xh9v00000gn/T/ipykernel_17871/825584214.py:9: DtypeWarning:\n",
      "\n",
      "Columns (1) have mixed types. Specify dtype option on import or set low_memory=False.\n",
      "\n"
     ]
    }
   ],
   "source": [
    "stocks = get_stocks()"
   ]
  },
  {
   "cell_type": "code",
   "execution_count": null,
   "metadata": {},
   "outputs": [],
   "source": []
  },
  {
   "cell_type": "code",
   "execution_count": 376,
   "metadata": {},
   "outputs": [
    {
     "data": {
      "text/plain": [
       "gvkey             0\n",
       "iid               0\n",
       "datadate          0\n",
       "tic             525\n",
       "cusip            64\n",
       "conm              0\n",
       "dvrate      4790292\n",
       "cshtrm       842833\n",
       "prccm        207591\n",
       "trfm         182853\n",
       "trt1m        239104\n",
       "cshoq       6219167\n",
       "cshom       2939143\n",
       "exchg          4319\n",
       "cik         1603867\n",
       "ggroup      1088733\n",
       "gind        1088733\n",
       "gsector     1088733\n",
       "gsubind     1088733\n",
       "sic            4424\n",
       "spcindcd    2663342\n",
       "spcseccd    2663342\n",
       "dtype: int64"
      ]
     },
     "execution_count": 376,
     "metadata": {},
     "output_type": "execute_result"
    }
   ],
   "source": [
    "stocks.isna().sum()"
   ]
  },
  {
   "cell_type": "code",
   "execution_count": 377,
   "metadata": {},
   "outputs": [
    {
     "data": {
      "text/plain": [
       "(7677804, 22)"
      ]
     },
     "execution_count": 377,
     "metadata": {},
     "output_type": "execute_result"
    }
   ],
   "source": [
    "stocks.shape"
   ]
  },
  {
   "cell_type": "code",
   "execution_count": 378,
   "metadata": {},
   "outputs": [],
   "source": [
    "# remove stocks with above 500 trt1m\n",
    "stocks = stocks[stocks[\"trt1m\"] < 500]\n",
    "\n",
    "# remove stocks with below -100 trt1m\n",
    "stocks = stocks[stocks[\"trt1m\"] > -100]"
   ]
  },
  {
   "cell_type": "code",
   "execution_count": 379,
   "metadata": {},
   "outputs": [
    {
     "data": {
      "text/plain": [
       "(7415023, 22)"
      ]
     },
     "execution_count": 379,
     "metadata": {},
     "output_type": "execute_result"
    }
   ],
   "source": [
    "stocks.shape"
   ]
  },
  {
   "cell_type": "code",
   "execution_count": 380,
   "metadata": {},
   "outputs": [],
   "source": [
    "# drop na gics\n",
    "stocks = stocks.dropna(subset=[\"ggroup\",\"gind\", \"gsector\", \"gsubind\"])"
   ]
  },
  {
   "cell_type": "code",
   "execution_count": 381,
   "metadata": {},
   "outputs": [],
   "source": [
    "# drop missing trt1m\n",
    "stocks = stocks.dropna(subset=[\"trt1m\"])"
   ]
  },
  {
   "cell_type": "code",
   "execution_count": 382,
   "metadata": {},
   "outputs": [
    {
     "data": {
      "text/plain": [
       "gvkey             0\n",
       "iid               0\n",
       "datadate          0\n",
       "tic             400\n",
       "cusip             0\n",
       "conm              0\n",
       "dvrate      4360242\n",
       "cshtrm       607386\n",
       "prccm         49173\n",
       "trfm              0\n",
       "trt1m             0\n",
       "cshoq       5183981\n",
       "cshom       2371157\n",
       "exchg             0\n",
       "cik          935926\n",
       "ggroup            0\n",
       "gind              0\n",
       "gsector           0\n",
       "gsubind           0\n",
       "sic             348\n",
       "spcindcd    2029763\n",
       "spcseccd    2029763\n",
       "dtype: int64"
      ]
     },
     "execution_count": 382,
     "metadata": {},
     "output_type": "execute_result"
    }
   ],
   "source": [
    "stocks.isna().sum()"
   ]
  },
  {
   "cell_type": "code",
   "execution_count": 383,
   "metadata": {},
   "outputs": [],
   "source": [
    "cpi = bin_inflation_regimes(cpi)"
   ]
  },
  {
   "cell_type": "code",
   "execution_count": 384,
   "metadata": {},
   "outputs": [
    {
     "data": {
      "text/html": [
       "<div>\n",
       "<style scoped>\n",
       "    .dataframe tbody tr th:only-of-type {\n",
       "        vertical-align: middle;\n",
       "    }\n",
       "\n",
       "    .dataframe tbody tr th {\n",
       "        vertical-align: top;\n",
       "    }\n",
       "\n",
       "    .dataframe thead th {\n",
       "        text-align: right;\n",
       "    }\n",
       "</style>\n",
       "<table border=\"1\" class=\"dataframe\">\n",
       "  <thead>\n",
       "    <tr style=\"text-align: right;\">\n",
       "      <th></th>\n",
       "      <th>date</th>\n",
       "      <th>CPI</th>\n",
       "      <th>diff</th>\n",
       "      <th>Inflation</th>\n",
       "    </tr>\n",
       "  </thead>\n",
       "  <tbody>\n",
       "    <tr>\n",
       "      <th>0</th>\n",
       "      <td>1947-12-31</td>\n",
       "      <td>10.24209</td>\n",
       "      <td>NaN</td>\n",
       "      <td>high</td>\n",
       "    </tr>\n",
       "    <tr>\n",
       "      <th>1</th>\n",
       "      <td>1948-01-31</td>\n",
       "      <td>9.48196</td>\n",
       "      <td>-0.76013</td>\n",
       "      <td>high</td>\n",
       "    </tr>\n",
       "    <tr>\n",
       "      <th>2</th>\n",
       "      <td>1948-02-29</td>\n",
       "      <td>6.81818</td>\n",
       "      <td>-2.66378</td>\n",
       "      <td>high</td>\n",
       "    </tr>\n",
       "    <tr>\n",
       "      <th>3</th>\n",
       "      <td>1948-03-31</td>\n",
       "      <td>8.27273</td>\n",
       "      <td>1.45455</td>\n",
       "      <td>high</td>\n",
       "    </tr>\n",
       "    <tr>\n",
       "      <th>4</th>\n",
       "      <td>1948-04-30</td>\n",
       "      <td>9.38497</td>\n",
       "      <td>1.11224</td>\n",
       "      <td>high</td>\n",
       "    </tr>\n",
       "    <tr>\n",
       "      <th>...</th>\n",
       "      <td>...</td>\n",
       "      <td>...</td>\n",
       "      <td>...</td>\n",
       "      <td>...</td>\n",
       "    </tr>\n",
       "    <tr>\n",
       "      <th>895</th>\n",
       "      <td>2022-07-31</td>\n",
       "      <td>8.22736</td>\n",
       "      <td>-0.18582</td>\n",
       "      <td>high</td>\n",
       "    </tr>\n",
       "    <tr>\n",
       "      <th>896</th>\n",
       "      <td>2022-08-31</td>\n",
       "      <td>8.21485</td>\n",
       "      <td>-0.01251</td>\n",
       "      <td>high</td>\n",
       "    </tr>\n",
       "    <tr>\n",
       "      <th>897</th>\n",
       "      <td>2022-09-30</td>\n",
       "      <td>7.76249</td>\n",
       "      <td>-0.45236</td>\n",
       "      <td>high</td>\n",
       "    </tr>\n",
       "    <tr>\n",
       "      <th>898</th>\n",
       "      <td>2022-10-31</td>\n",
       "      <td>7.13535</td>\n",
       "      <td>-0.62714</td>\n",
       "      <td>high</td>\n",
       "    </tr>\n",
       "    <tr>\n",
       "      <th>899</th>\n",
       "      <td>2022-11-30</td>\n",
       "      <td>6.44494</td>\n",
       "      <td>-0.69041</td>\n",
       "      <td>high</td>\n",
       "    </tr>\n",
       "  </tbody>\n",
       "</table>\n",
       "<p>900 rows × 4 columns</p>\n",
       "</div>"
      ],
      "text/plain": [
       "          date       CPI     diff Inflation\n",
       "0   1947-12-31  10.24209      NaN      high\n",
       "1   1948-01-31   9.48196 -0.76013      high\n",
       "2   1948-02-29   6.81818 -2.66378      high\n",
       "3   1948-03-31   8.27273  1.45455      high\n",
       "4   1948-04-30   9.38497  1.11224      high\n",
       "..         ...       ...      ...       ...\n",
       "895 2022-07-31   8.22736 -0.18582      high\n",
       "896 2022-08-31   8.21485 -0.01251      high\n",
       "897 2022-09-30   7.76249 -0.45236      high\n",
       "898 2022-10-31   7.13535 -0.62714      high\n",
       "899 2022-11-30   6.44494 -0.69041      high\n",
       "\n",
       "[900 rows x 4 columns]"
      ]
     },
     "execution_count": 384,
     "metadata": {},
     "output_type": "execute_result"
    }
   ],
   "source": [
    "cpi"
   ]
  },
  {
   "cell_type": "code",
   "execution_count": 385,
   "metadata": {},
   "outputs": [
    {
     "data": {
      "text/plain": [
       "1510.0    886852\n",
       "1010.0    532123\n",
       "4010.0    514775\n",
       "2010.0    485046\n",
       "4510.0    398751\n",
       "4520.0    355368\n",
       "3520.0    331092\n",
       "3510.0    323735\n",
       "2520.0    249671\n",
       "4020.0    245313\n",
       "2020.0    239753\n",
       "2550.0    230002\n",
       "5510.0    184920\n",
       "2530.0    184618\n",
       "3020.0    165073\n",
       "6010.0    122938\n",
       "4030.0    119962\n",
       "2540.0    115395\n",
       "5010.0    111666\n",
       "2030.0    110581\n",
       "5020.0    105713\n",
       "2510.0     83207\n",
       "4040.0     80148\n",
       "4530.0     76240\n",
       "3030.0     68678\n",
       "3010.0     62524\n",
       "Name: ggroup, dtype: int64"
      ]
     },
     "execution_count": 385,
     "metadata": {},
     "output_type": "execute_result"
    }
   ],
   "source": [
    "# value counts of gic group\n",
    "stocks[\"ggroup\"].value_counts()"
   ]
  },
  {
   "cell_type": "code",
   "execution_count": 386,
   "metadata": {},
   "outputs": [
    {
     "data": {
      "text/plain": [
       "151040.0    658441\n",
       "101020.0    443868\n",
       "401010.0    431499\n",
       "451030.0    229479\n",
       "202010.0    198624\n",
       "             ...  \n",
       "203030.0     13655\n",
       "302030.0     10171\n",
       "203050.0      9974\n",
       "402040.0      9338\n",
       "452040.0      4869\n",
       "Name: gind, Length: 76, dtype: int64"
      ]
     },
     "execution_count": 386,
     "metadata": {},
     "output_type": "execute_result"
    }
   ],
   "source": [
    "stocks[\"gind\"].value_counts()"
   ]
  },
  {
   "cell_type": "code",
   "execution_count": 387,
   "metadata": {},
   "outputs": [
    {
     "data": {
      "text/html": [
       "<div>\n",
       "<style scoped>\n",
       "    .dataframe tbody tr th:only-of-type {\n",
       "        vertical-align: middle;\n",
       "    }\n",
       "\n",
       "    .dataframe tbody tr th {\n",
       "        vertical-align: top;\n",
       "    }\n",
       "\n",
       "    .dataframe thead th {\n",
       "        text-align: right;\n",
       "    }\n",
       "</style>\n",
       "<table border=\"1\" class=\"dataframe\">\n",
       "  <thead>\n",
       "    <tr style=\"text-align: right;\">\n",
       "      <th></th>\n",
       "      <th>gvkey</th>\n",
       "      <th>iid</th>\n",
       "      <th>datadate</th>\n",
       "      <th>tic</th>\n",
       "      <th>cusip</th>\n",
       "      <th>conm</th>\n",
       "      <th>dvrate</th>\n",
       "      <th>cshtrm</th>\n",
       "      <th>prccm</th>\n",
       "      <th>trfm</th>\n",
       "      <th>...</th>\n",
       "      <th>cshom</th>\n",
       "      <th>exchg</th>\n",
       "      <th>cik</th>\n",
       "      <th>ggroup</th>\n",
       "      <th>gind</th>\n",
       "      <th>gsector</th>\n",
       "      <th>gsubind</th>\n",
       "      <th>sic</th>\n",
       "      <th>spcindcd</th>\n",
       "      <th>spcseccd</th>\n",
       "    </tr>\n",
       "  </thead>\n",
       "  <tbody>\n",
       "    <tr>\n",
       "      <th>96</th>\n",
       "      <td>1001</td>\n",
       "      <td>01</td>\n",
       "      <td>1983-10-31</td>\n",
       "      <td>AMFD.</td>\n",
       "      <td>000165100</td>\n",
       "      <td>A &amp; M FOOD SERVICES INC</td>\n",
       "      <td>NaN</td>\n",
       "      <td>370700.0</td>\n",
       "      <td>6.75</td>\n",
       "      <td>1.0</td>\n",
       "      <td>...</td>\n",
       "      <td>NaN</td>\n",
       "      <td>14.0</td>\n",
       "      <td>723576.0</td>\n",
       "      <td>2530.0</td>\n",
       "      <td>253010.0</td>\n",
       "      <td>25.0</td>\n",
       "      <td>25301040.0</td>\n",
       "      <td>5812.0</td>\n",
       "      <td>420.0</td>\n",
       "      <td>978.0</td>\n",
       "    </tr>\n",
       "    <tr>\n",
       "      <th>97</th>\n",
       "      <td>1001</td>\n",
       "      <td>01</td>\n",
       "      <td>1983-11-30</td>\n",
       "      <td>AMFD.</td>\n",
       "      <td>000165100</td>\n",
       "      <td>A &amp; M FOOD SERVICES INC</td>\n",
       "      <td>NaN</td>\n",
       "      <td>198000.0</td>\n",
       "      <td>8.00</td>\n",
       "      <td>1.0</td>\n",
       "      <td>...</td>\n",
       "      <td>NaN</td>\n",
       "      <td>14.0</td>\n",
       "      <td>723576.0</td>\n",
       "      <td>2530.0</td>\n",
       "      <td>253010.0</td>\n",
       "      <td>25.0</td>\n",
       "      <td>25301040.0</td>\n",
       "      <td>5812.0</td>\n",
       "      <td>420.0</td>\n",
       "      <td>978.0</td>\n",
       "    </tr>\n",
       "    <tr>\n",
       "      <th>98</th>\n",
       "      <td>1001</td>\n",
       "      <td>01</td>\n",
       "      <td>1983-12-31</td>\n",
       "      <td>AMFD.</td>\n",
       "      <td>000165100</td>\n",
       "      <td>A &amp; M FOOD SERVICES INC</td>\n",
       "      <td>NaN</td>\n",
       "      <td>176500.0</td>\n",
       "      <td>7.25</td>\n",
       "      <td>1.0</td>\n",
       "      <td>...</td>\n",
       "      <td>NaN</td>\n",
       "      <td>14.0</td>\n",
       "      <td>723576.0</td>\n",
       "      <td>2530.0</td>\n",
       "      <td>253010.0</td>\n",
       "      <td>25.0</td>\n",
       "      <td>25301040.0</td>\n",
       "      <td>5812.0</td>\n",
       "      <td>420.0</td>\n",
       "      <td>978.0</td>\n",
       "    </tr>\n",
       "    <tr>\n",
       "      <th>99</th>\n",
       "      <td>1001</td>\n",
       "      <td>01</td>\n",
       "      <td>1984-01-31</td>\n",
       "      <td>AMFD.</td>\n",
       "      <td>000165100</td>\n",
       "      <td>A &amp; M FOOD SERVICES INC</td>\n",
       "      <td>NaN</td>\n",
       "      <td>160800.0</td>\n",
       "      <td>8.00</td>\n",
       "      <td>1.0</td>\n",
       "      <td>...</td>\n",
       "      <td>NaN</td>\n",
       "      <td>14.0</td>\n",
       "      <td>723576.0</td>\n",
       "      <td>2530.0</td>\n",
       "      <td>253010.0</td>\n",
       "      <td>25.0</td>\n",
       "      <td>25301040.0</td>\n",
       "      <td>5812.0</td>\n",
       "      <td>420.0</td>\n",
       "      <td>978.0</td>\n",
       "    </tr>\n",
       "    <tr>\n",
       "      <th>100</th>\n",
       "      <td>1001</td>\n",
       "      <td>01</td>\n",
       "      <td>1984-02-29</td>\n",
       "      <td>AMFD.</td>\n",
       "      <td>000165100</td>\n",
       "      <td>A &amp; M FOOD SERVICES INC</td>\n",
       "      <td>NaN</td>\n",
       "      <td>92400.0</td>\n",
       "      <td>6.50</td>\n",
       "      <td>1.0</td>\n",
       "      <td>...</td>\n",
       "      <td>NaN</td>\n",
       "      <td>14.0</td>\n",
       "      <td>723576.0</td>\n",
       "      <td>2530.0</td>\n",
       "      <td>253010.0</td>\n",
       "      <td>25.0</td>\n",
       "      <td>25301040.0</td>\n",
       "      <td>5812.0</td>\n",
       "      <td>420.0</td>\n",
       "      <td>978.0</td>\n",
       "    </tr>\n",
       "  </tbody>\n",
       "</table>\n",
       "<p>5 rows × 22 columns</p>\n",
       "</div>"
      ],
      "text/plain": [
       "     gvkey iid   datadate    tic      cusip                     conm  dvrate  \\\n",
       "96    1001  01 1983-10-31  AMFD.  000165100  A & M FOOD SERVICES INC     NaN   \n",
       "97    1001  01 1983-11-30  AMFD.  000165100  A & M FOOD SERVICES INC     NaN   \n",
       "98    1001  01 1983-12-31  AMFD.  000165100  A & M FOOD SERVICES INC     NaN   \n",
       "99    1001  01 1984-01-31  AMFD.  000165100  A & M FOOD SERVICES INC     NaN   \n",
       "100   1001  01 1984-02-29  AMFD.  000165100  A & M FOOD SERVICES INC     NaN   \n",
       "\n",
       "       cshtrm  prccm  trfm  ...  cshom  exchg       cik  ggroup      gind  \\\n",
       "96   370700.0   6.75   1.0  ...    NaN   14.0  723576.0  2530.0  253010.0   \n",
       "97   198000.0   8.00   1.0  ...    NaN   14.0  723576.0  2530.0  253010.0   \n",
       "98   176500.0   7.25   1.0  ...    NaN   14.0  723576.0  2530.0  253010.0   \n",
       "99   160800.0   8.00   1.0  ...    NaN   14.0  723576.0  2530.0  253010.0   \n",
       "100   92400.0   6.50   1.0  ...    NaN   14.0  723576.0  2530.0  253010.0   \n",
       "\n",
       "     gsector     gsubind     sic  spcindcd  spcseccd  \n",
       "96      25.0  25301040.0  5812.0     420.0     978.0  \n",
       "97      25.0  25301040.0  5812.0     420.0     978.0  \n",
       "98      25.0  25301040.0  5812.0     420.0     978.0  \n",
       "99      25.0  25301040.0  5812.0     420.0     978.0  \n",
       "100     25.0  25301040.0  5812.0     420.0     978.0  \n",
       "\n",
       "[5 rows x 22 columns]"
      ]
     },
     "execution_count": 387,
     "metadata": {},
     "output_type": "execute_result"
    }
   ],
   "source": [
    "stocks.head()"
   ]
  },
  {
   "cell_type": "code",
   "execution_count": 388,
   "metadata": {},
   "outputs": [],
   "source": [
    "merged = pd.merge(stocks, cpi, how=\"left\", left_on=\"datadate\", right_on=\"date\")"
   ]
  },
  {
   "cell_type": "code",
   "execution_count": 389,
   "metadata": {},
   "outputs": [],
   "source": [
    "# read in gics data\n",
    "gics = pd.read_csv(\"data/gics-map-2018.csv\")"
   ]
  },
  {
   "cell_type": "code",
   "execution_count": 390,
   "metadata": {},
   "outputs": [
    {
     "data": {
      "text/html": [
       "<div>\n",
       "<style scoped>\n",
       "    .dataframe tbody tr th:only-of-type {\n",
       "        vertical-align: middle;\n",
       "    }\n",
       "\n",
       "    .dataframe tbody tr th {\n",
       "        vertical-align: top;\n",
       "    }\n",
       "\n",
       "    .dataframe thead th {\n",
       "        text-align: right;\n",
       "    }\n",
       "</style>\n",
       "<table border=\"1\" class=\"dataframe\">\n",
       "  <thead>\n",
       "    <tr style=\"text-align: right;\">\n",
       "      <th></th>\n",
       "      <th>SectorId</th>\n",
       "      <th>Sector</th>\n",
       "      <th>IndustryGroupId</th>\n",
       "      <th>IndustryGroup</th>\n",
       "      <th>IndustryId</th>\n",
       "      <th>Industry</th>\n",
       "      <th>SubIndustryId</th>\n",
       "      <th>SubIndustry</th>\n",
       "      <th>SubIndustryDescription</th>\n",
       "    </tr>\n",
       "  </thead>\n",
       "  <tbody>\n",
       "    <tr>\n",
       "      <th>0</th>\n",
       "      <td>10</td>\n",
       "      <td>Energy</td>\n",
       "      <td>1010</td>\n",
       "      <td>Energy</td>\n",
       "      <td>101010</td>\n",
       "      <td>Energy Equipment &amp; Services</td>\n",
       "      <td>10101010</td>\n",
       "      <td>Oil &amp; Gas Drilling</td>\n",
       "      <td>Drilling contractors or owners of drilling rig...</td>\n",
       "    </tr>\n",
       "    <tr>\n",
       "      <th>1</th>\n",
       "      <td>10</td>\n",
       "      <td>Energy</td>\n",
       "      <td>1010</td>\n",
       "      <td>Energy</td>\n",
       "      <td>101010</td>\n",
       "      <td>Energy Equipment &amp; Services</td>\n",
       "      <td>10101020</td>\n",
       "      <td>Oil &amp; Gas Equipment &amp; Services</td>\n",
       "      <td>Manufacturers of equipment, including drilling...</td>\n",
       "    </tr>\n",
       "    <tr>\n",
       "      <th>2</th>\n",
       "      <td>10</td>\n",
       "      <td>Energy</td>\n",
       "      <td>1010</td>\n",
       "      <td>Energy</td>\n",
       "      <td>101020</td>\n",
       "      <td>Oil, Gas &amp; Consumable Fuels</td>\n",
       "      <td>10102010</td>\n",
       "      <td>Integrated Oil &amp; Gas</td>\n",
       "      <td>Integrated oil companies engaged in the explor...</td>\n",
       "    </tr>\n",
       "    <tr>\n",
       "      <th>3</th>\n",
       "      <td>10</td>\n",
       "      <td>Energy</td>\n",
       "      <td>1010</td>\n",
       "      <td>Energy</td>\n",
       "      <td>101020</td>\n",
       "      <td>Oil, Gas &amp; Consumable Fuels</td>\n",
       "      <td>10102020</td>\n",
       "      <td>Oil &amp; Gas Exploration &amp; Production</td>\n",
       "      <td>Companies engaged in the exploration and produ...</td>\n",
       "    </tr>\n",
       "    <tr>\n",
       "      <th>4</th>\n",
       "      <td>10</td>\n",
       "      <td>Energy</td>\n",
       "      <td>1010</td>\n",
       "      <td>Energy</td>\n",
       "      <td>101020</td>\n",
       "      <td>Oil, Gas &amp; Consumable Fuels</td>\n",
       "      <td>10102030</td>\n",
       "      <td>Oil &amp; Gas Refining &amp; Marketing</td>\n",
       "      <td>Companies engaged in the refining and marketin...</td>\n",
       "    </tr>\n",
       "    <tr>\n",
       "      <th>...</th>\n",
       "      <td>...</td>\n",
       "      <td>...</td>\n",
       "      <td>...</td>\n",
       "      <td>...</td>\n",
       "      <td>...</td>\n",
       "      <td>...</td>\n",
       "      <td>...</td>\n",
       "      <td>...</td>\n",
       "      <td>...</td>\n",
       "    </tr>\n",
       "    <tr>\n",
       "      <th>153</th>\n",
       "      <td>60</td>\n",
       "      <td>Real Estate</td>\n",
       "      <td>6010</td>\n",
       "      <td>Real Estate</td>\n",
       "      <td>601010</td>\n",
       "      <td>Equity Real Estate Investment Trusts (REITs)</td>\n",
       "      <td>60101080</td>\n",
       "      <td>Specialized REITs</td>\n",
       "      <td>Companies or Trusts engaged in the acquisition...</td>\n",
       "    </tr>\n",
       "    <tr>\n",
       "      <th>154</th>\n",
       "      <td>60</td>\n",
       "      <td>Real Estate</td>\n",
       "      <td>6010</td>\n",
       "      <td>Real Estate</td>\n",
       "      <td>601020</td>\n",
       "      <td>Real Estate Management &amp; Development</td>\n",
       "      <td>60102010</td>\n",
       "      <td>Diversified Real Estate Activities</td>\n",
       "      <td>Companies engaged in a diverse spectrum of rea...</td>\n",
       "    </tr>\n",
       "    <tr>\n",
       "      <th>155</th>\n",
       "      <td>60</td>\n",
       "      <td>Real Estate</td>\n",
       "      <td>6010</td>\n",
       "      <td>Real Estate</td>\n",
       "      <td>601020</td>\n",
       "      <td>Real Estate Management &amp; Development</td>\n",
       "      <td>60102020</td>\n",
       "      <td>Real Estate Operating Companies</td>\n",
       "      <td>Companies engaged in operating real estate pro...</td>\n",
       "    </tr>\n",
       "    <tr>\n",
       "      <th>156</th>\n",
       "      <td>60</td>\n",
       "      <td>Real Estate</td>\n",
       "      <td>6010</td>\n",
       "      <td>Real Estate</td>\n",
       "      <td>601020</td>\n",
       "      <td>Real Estate Management &amp; Development</td>\n",
       "      <td>60102030</td>\n",
       "      <td>Real Estate Development</td>\n",
       "      <td>Companies that develop real estate and sell th...</td>\n",
       "    </tr>\n",
       "    <tr>\n",
       "      <th>157</th>\n",
       "      <td>60</td>\n",
       "      <td>Real Estate</td>\n",
       "      <td>6010</td>\n",
       "      <td>Real Estate</td>\n",
       "      <td>601020</td>\n",
       "      <td>Real Estate Management &amp; Development</td>\n",
       "      <td>60102040</td>\n",
       "      <td>Real Estate Services</td>\n",
       "      <td>Real estate service providers such as real est...</td>\n",
       "    </tr>\n",
       "  </tbody>\n",
       "</table>\n",
       "<p>158 rows × 9 columns</p>\n",
       "</div>"
      ],
      "text/plain": [
       "     SectorId       Sector  IndustryGroupId IndustryGroup  IndustryId  \\\n",
       "0          10       Energy             1010        Energy      101010   \n",
       "1          10       Energy             1010        Energy      101010   \n",
       "2          10       Energy             1010        Energy      101020   \n",
       "3          10       Energy             1010        Energy      101020   \n",
       "4          10       Energy             1010        Energy      101020   \n",
       "..        ...          ...              ...           ...         ...   \n",
       "153        60  Real Estate             6010   Real Estate      601010   \n",
       "154        60  Real Estate             6010   Real Estate      601020   \n",
       "155        60  Real Estate             6010   Real Estate      601020   \n",
       "156        60  Real Estate             6010   Real Estate      601020   \n",
       "157        60  Real Estate             6010   Real Estate      601020   \n",
       "\n",
       "                                         Industry  SubIndustryId  \\\n",
       "0                     Energy Equipment & Services       10101010   \n",
       "1                     Energy Equipment & Services       10101020   \n",
       "2                     Oil, Gas & Consumable Fuels       10102010   \n",
       "3                     Oil, Gas & Consumable Fuels       10102020   \n",
       "4                     Oil, Gas & Consumable Fuels       10102030   \n",
       "..                                            ...            ...   \n",
       "153  Equity Real Estate Investment Trusts (REITs)       60101080   \n",
       "154          Real Estate Management & Development       60102010   \n",
       "155          Real Estate Management & Development       60102020   \n",
       "156          Real Estate Management & Development       60102030   \n",
       "157          Real Estate Management & Development       60102040   \n",
       "\n",
       "                            SubIndustry  \\\n",
       "0                    Oil & Gas Drilling   \n",
       "1        Oil & Gas Equipment & Services   \n",
       "2                  Integrated Oil & Gas   \n",
       "3    Oil & Gas Exploration & Production   \n",
       "4        Oil & Gas Refining & Marketing   \n",
       "..                                  ...   \n",
       "153                   Specialized REITs   \n",
       "154  Diversified Real Estate Activities   \n",
       "155     Real Estate Operating Companies   \n",
       "156             Real Estate Development   \n",
       "157                Real Estate Services   \n",
       "\n",
       "                                SubIndustryDescription  \n",
       "0    Drilling contractors or owners of drilling rig...  \n",
       "1    Manufacturers of equipment, including drilling...  \n",
       "2    Integrated oil companies engaged in the explor...  \n",
       "3    Companies engaged in the exploration and produ...  \n",
       "4    Companies engaged in the refining and marketin...  \n",
       "..                                                 ...  \n",
       "153  Companies or Trusts engaged in the acquisition...  \n",
       "154  Companies engaged in a diverse spectrum of rea...  \n",
       "155  Companies engaged in operating real estate pro...  \n",
       "156  Companies that develop real estate and sell th...  \n",
       "157  Real estate service providers such as real est...  \n",
       "\n",
       "[158 rows x 9 columns]"
      ]
     },
     "execution_count": 390,
     "metadata": {},
     "output_type": "execute_result"
    }
   ],
   "source": [
    "gics"
   ]
  },
  {
   "cell_type": "code",
   "execution_count": 391,
   "metadata": {},
   "outputs": [
    {
     "data": {
      "text/plain": [
       "Index(['gvkey', 'iid', 'datadate', 'tic', 'cusip', 'conm', 'dvrate', 'cshtrm',\n",
       "       'prccm', 'trfm', 'trt1m', 'cshoq', 'cshom', 'exchg', 'cik', 'ggroup',\n",
       "       'gind', 'gsector', 'gsubind', 'sic', 'spcindcd', 'spcseccd'],\n",
       "      dtype='object')"
      ]
     },
     "execution_count": 391,
     "metadata": {},
     "output_type": "execute_result"
    }
   ],
   "source": [
    "stocks.columns"
   ]
  },
  {
   "cell_type": "code",
   "execution_count": 392,
   "metadata": {},
   "outputs": [
    {
     "data": {
      "text/plain": [
       "10102020.0    324638\n",
       "15104020.0    293403\n",
       "40101015.0    276887\n",
       "15104030.0    211287\n",
       "35201010.0    179022\n",
       "               ...  \n",
       "20305020.0      1718\n",
       "40403040.0      1708\n",
       "40402035.0       532\n",
       "40402020.0       307\n",
       "40402045.0       117\n",
       "Name: gsubind, Length: 193, dtype: int64"
      ]
     },
     "execution_count": 392,
     "metadata": {},
     "output_type": "execute_result"
    }
   ],
   "source": [
    "stocks[\"gsubind\"].value_counts()"
   ]
  },
  {
   "cell_type": "code",
   "execution_count": 393,
   "metadata": {},
   "outputs": [
    {
     "data": {
      "text/plain": [
       "40.0    960198\n",
       "15.0    886852\n",
       "25.0    862893\n",
       "20.0    835380\n",
       "45.0    830359\n",
       "35.0    654827\n",
       "10.0    532123\n",
       "30.0    296275\n",
       "50.0    217379\n",
       "55.0    184920\n",
       "60.0    122938\n",
       "Name: gsector, dtype: int64"
      ]
     },
     "execution_count": 393,
     "metadata": {},
     "output_type": "execute_result"
    }
   ],
   "source": [
    "stocks[\"gsector\"].value_counts()"
   ]
  },
  {
   "cell_type": "code",
   "execution_count": 394,
   "metadata": {},
   "outputs": [
    {
     "data": {
      "text/plain": [
       "151040.0    658441\n",
       "101020.0    443868\n",
       "401010.0    431499\n",
       "451030.0    229479\n",
       "202010.0    198624\n",
       "             ...  \n",
       "203030.0     13655\n",
       "302030.0     10171\n",
       "203050.0      9974\n",
       "402040.0      9338\n",
       "452040.0      4869\n",
       "Name: gind, Length: 76, dtype: int64"
      ]
     },
     "execution_count": 394,
     "metadata": {},
     "output_type": "execute_result"
    }
   ],
   "source": [
    "stocks[\"gind\"].value_counts()"
   ]
  },
  {
   "cell_type": "code",
   "execution_count": 395,
   "metadata": {},
   "outputs": [
    {
     "data": {
      "text/plain": [
       "1510.0    886852\n",
       "1010.0    532123\n",
       "4010.0    514775\n",
       "2010.0    485046\n",
       "4510.0    398751\n",
       "4520.0    355368\n",
       "3520.0    331092\n",
       "3510.0    323735\n",
       "2520.0    249671\n",
       "4020.0    245313\n",
       "2020.0    239753\n",
       "2550.0    230002\n",
       "5510.0    184920\n",
       "2530.0    184618\n",
       "3020.0    165073\n",
       "6010.0    122938\n",
       "4030.0    119962\n",
       "2540.0    115395\n",
       "5010.0    111666\n",
       "2030.0    110581\n",
       "5020.0    105713\n",
       "2510.0     83207\n",
       "4040.0     80148\n",
       "4530.0     76240\n",
       "3030.0     68678\n",
       "3010.0     62524\n",
       "Name: ggroup, dtype: int64"
      ]
     },
     "execution_count": 395,
     "metadata": {},
     "output_type": "execute_result"
    }
   ],
   "source": [
    "stocks[\"ggroup\"].value_counts()"
   ]
  },
  {
   "cell_type": "code",
   "execution_count": null,
   "metadata": {},
   "outputs": [],
   "source": []
  },
  {
   "cell_type": "code",
   "execution_count": 396,
   "metadata": {},
   "outputs": [
    {
     "data": {
      "text/plain": [
       "1510.0    886852\n",
       "1010.0    532123\n",
       "4010.0    514775\n",
       "2010.0    485046\n",
       "4510.0    398751\n",
       "4520.0    355368\n",
       "3520.0    331092\n",
       "3510.0    323735\n",
       "2520.0    249671\n",
       "4020.0    245313\n",
       "2020.0    239753\n",
       "2550.0    230002\n",
       "5510.0    184920\n",
       "2530.0    184618\n",
       "3020.0    165073\n",
       "6010.0    122938\n",
       "4030.0    119962\n",
       "2540.0    115395\n",
       "5010.0    111666\n",
       "2030.0    110581\n",
       "5020.0    105713\n",
       "2510.0     83207\n",
       "4040.0     80148\n",
       "4530.0     76240\n",
       "3030.0     68678\n",
       "3010.0     62524\n",
       "Name: ggroup, dtype: int64"
      ]
     },
     "execution_count": 396,
     "metadata": {},
     "output_type": "execute_result"
    }
   ],
   "source": [
    "stocks[\"ggroup\"].value_counts()"
   ]
  },
  {
   "cell_type": "code",
   "execution_count": 397,
   "metadata": {},
   "outputs": [
    {
     "data": {
      "text/html": [
       "<div>\n",
       "<style scoped>\n",
       "    .dataframe tbody tr th:only-of-type {\n",
       "        vertical-align: middle;\n",
       "    }\n",
       "\n",
       "    .dataframe tbody tr th {\n",
       "        vertical-align: top;\n",
       "    }\n",
       "\n",
       "    .dataframe thead th {\n",
       "        text-align: right;\n",
       "    }\n",
       "</style>\n",
       "<table border=\"1\" class=\"dataframe\">\n",
       "  <thead>\n",
       "    <tr style=\"text-align: right;\">\n",
       "      <th></th>\n",
       "      <th>ggroup</th>\n",
       "      <th>gind</th>\n",
       "      <th>gsector</th>\n",
       "      <th>gsubind</th>\n",
       "    </tr>\n",
       "  </thead>\n",
       "  <tbody>\n",
       "    <tr>\n",
       "      <th>96</th>\n",
       "      <td>2530.0</td>\n",
       "      <td>253010.0</td>\n",
       "      <td>25.0</td>\n",
       "      <td>25301040.0</td>\n",
       "    </tr>\n",
       "    <tr>\n",
       "      <th>97</th>\n",
       "      <td>2530.0</td>\n",
       "      <td>253010.0</td>\n",
       "      <td>25.0</td>\n",
       "      <td>25301040.0</td>\n",
       "    </tr>\n",
       "    <tr>\n",
       "      <th>98</th>\n",
       "      <td>2530.0</td>\n",
       "      <td>253010.0</td>\n",
       "      <td>25.0</td>\n",
       "      <td>25301040.0</td>\n",
       "    </tr>\n",
       "    <tr>\n",
       "      <th>99</th>\n",
       "      <td>2530.0</td>\n",
       "      <td>253010.0</td>\n",
       "      <td>25.0</td>\n",
       "      <td>25301040.0</td>\n",
       "    </tr>\n",
       "    <tr>\n",
       "      <th>100</th>\n",
       "      <td>2530.0</td>\n",
       "      <td>253010.0</td>\n",
       "      <td>25.0</td>\n",
       "      <td>25301040.0</td>\n",
       "    </tr>\n",
       "    <tr>\n",
       "      <th>...</th>\n",
       "      <td>...</td>\n",
       "      <td>...</td>\n",
       "      <td>...</td>\n",
       "      <td>...</td>\n",
       "    </tr>\n",
       "    <tr>\n",
       "      <th>7677798</th>\n",
       "      <td>3030.0</td>\n",
       "      <td>303020.0</td>\n",
       "      <td>30.0</td>\n",
       "      <td>30302010.0</td>\n",
       "    </tr>\n",
       "    <tr>\n",
       "      <th>7677799</th>\n",
       "      <td>3030.0</td>\n",
       "      <td>303020.0</td>\n",
       "      <td>30.0</td>\n",
       "      <td>30302010.0</td>\n",
       "    </tr>\n",
       "    <tr>\n",
       "      <th>7677801</th>\n",
       "      <td>2010.0</td>\n",
       "      <td>201040.0</td>\n",
       "      <td>20.0</td>\n",
       "      <td>20104020.0</td>\n",
       "    </tr>\n",
       "    <tr>\n",
       "      <th>7677802</th>\n",
       "      <td>2010.0</td>\n",
       "      <td>201040.0</td>\n",
       "      <td>20.0</td>\n",
       "      <td>20104020.0</td>\n",
       "    </tr>\n",
       "    <tr>\n",
       "      <th>7677803</th>\n",
       "      <td>2010.0</td>\n",
       "      <td>201040.0</td>\n",
       "      <td>20.0</td>\n",
       "      <td>20104020.0</td>\n",
       "    </tr>\n",
       "  </tbody>\n",
       "</table>\n",
       "<p>6384144 rows × 4 columns</p>\n",
       "</div>"
      ],
      "text/plain": [
       "         ggroup      gind  gsector     gsubind\n",
       "96       2530.0  253010.0     25.0  25301040.0\n",
       "97       2530.0  253010.0     25.0  25301040.0\n",
       "98       2530.0  253010.0     25.0  25301040.0\n",
       "99       2530.0  253010.0     25.0  25301040.0\n",
       "100      2530.0  253010.0     25.0  25301040.0\n",
       "...         ...       ...      ...         ...\n",
       "7677798  3030.0  303020.0     30.0  30302010.0\n",
       "7677799  3030.0  303020.0     30.0  30302010.0\n",
       "7677801  2010.0  201040.0     20.0  20104020.0\n",
       "7677802  2010.0  201040.0     20.0  20104020.0\n",
       "7677803  2010.0  201040.0     20.0  20104020.0\n",
       "\n",
       "[6384144 rows x 4 columns]"
      ]
     },
     "execution_count": 397,
     "metadata": {},
     "output_type": "execute_result"
    }
   ],
   "source": [
    "# get all columns that begin with g\n",
    "gics_cols = [col for col in stocks.columns if col.startswith(\"g\")]\n",
    "\n",
    "stocks[gics_cols[1:]]"
   ]
  },
  {
   "cell_type": "code",
   "execution_count": 398,
   "metadata": {},
   "outputs": [
    {
     "data": {
      "text/plain": [
       "count    6.384144e+06\n",
       "mean     1.683511e+00\n",
       "std      3.064429e+01\n",
       "min     -9.999990e+01\n",
       "25%     -8.000000e+00\n",
       "50%      0.000000e+00\n",
       "75%      6.849300e+00\n",
       "max      4.999999e+02\n",
       "Name: trt1m, dtype: float64"
      ]
     },
     "execution_count": 398,
     "metadata": {},
     "output_type": "execute_result"
    }
   ],
   "source": [
    "stocks[\"trt1m\"].describe()"
   ]
  },
  {
   "cell_type": "code",
   "execution_count": 399,
   "metadata": {},
   "outputs": [
    {
     "data": {
      "text/plain": [
       "<AxesSubplot:>"
      ]
     },
     "execution_count": 399,
     "metadata": {},
     "output_type": "execute_result"
    },
    {
     "data": {
      "image/png": "[encoded data removed]",
      "text/plain": [
       "<Figure size 432x288 with 1 Axes>"
      ]
     },
     "metadata": {
      "needs_background": "light"
     },
     "output_type": "display_data"
    }
   ],
   "source": [
    "stocks[\"trt1m\"].hist()"
   ]
  },
  {
   "cell_type": "code",
   "execution_count": 400,
   "metadata": {},
   "outputs": [
    {
     "data": {
      "text/plain": [
       "0.0"
      ]
     },
     "execution_count": 400,
     "metadata": {},
     "output_type": "execute_result"
    }
   ],
   "source": [
    "merged[\"trt1m\"].median()"
   ]
  },
  {
   "cell_type": "code",
   "execution_count": 401,
   "metadata": {},
   "outputs": [
    {
     "data": {
      "text/plain": [
       "0          10.2041\n",
       "1          18.5185\n",
       "2          -9.3750\n",
       "3          10.3448\n",
       "4         -18.7500\n",
       "            ...   \n",
       "6384139    16.1103\n",
       "6384140     1.2500\n",
       "6384141    26.9057\n",
       "6384142     2.5523\n",
       "6384143    13.4587\n",
       "Name: trt1m, Length: 6384144, dtype: float64"
      ]
     },
     "execution_count": 401,
     "metadata": {},
     "output_type": "execute_result"
    }
   ],
   "source": [
    "merged[\"trt1m\"]"
   ]
  },
  {
   "cell_type": "code",
   "execution_count": 402,
   "metadata": {},
   "outputs": [
    {
     "name": "stderr",
     "output_type": "stream",
     "text": [
      "/var/folders/m6/h9jtrhyn259fytxp6j9xh9v00000gn/T/ipykernel_17871/2554018360.py:1: FutureWarning:\n",
      "\n",
      "The default value of numeric_only in DataFrameGroupBy.mean is deprecated. In a future version, numeric_only will default to False. Either specify numeric_only or select only columns which should be valid for the function.\n",
      "\n"
     ]
    }
   ],
   "source": [
    "sector = merged.groupby([\"gsector\",\"Inflation\"]).mean()[\"trt1m\"]"
   ]
  },
  {
   "cell_type": "code",
   "execution_count": 403,
   "metadata": {},
   "outputs": [
    {
     "name": "stderr",
     "output_type": "stream",
     "text": [
      "/var/folders/m6/h9jtrhyn259fytxp6j9xh9v00000gn/T/ipykernel_17871/260058708.py:1: FutureWarning:\n",
      "\n",
      "The default value of numeric_only in DataFrameGroupBy.mean is deprecated. In a future version, numeric_only will default to False. Either specify numeric_only or select only columns which should be valid for the function.\n",
      "\n"
     ]
    }
   ],
   "source": [
    "group = merged.groupby([\"ggroup\",\"Inflation\"]).mean()[\"trt1m\"]"
   ]
  },
  {
   "cell_type": "code",
   "execution_count": 404,
   "metadata": {},
   "outputs": [
    {
     "name": "stderr",
     "output_type": "stream",
     "text": [
      "/var/folders/m6/h9jtrhyn259fytxp6j9xh9v00000gn/T/ipykernel_17871/3808833815.py:1: FutureWarning:\n",
      "\n",
      "The default value of numeric_only in DataFrameGroupBy.mean is deprecated. In a future version, numeric_only will default to False. Either specify numeric_only or select only columns which should be valid for the function.\n",
      "\n"
     ]
    }
   ],
   "source": [
    "ind = merged.groupby([\"gind\",\"Inflation\"]).mean()[\"trt1m\"]"
   ]
  },
  {
   "cell_type": "code",
   "execution_count": 405,
   "metadata": {},
   "outputs": [
    {
     "name": "stderr",
     "output_type": "stream",
     "text": [
      "/var/folders/m6/h9jtrhyn259fytxp6j9xh9v00000gn/T/ipykernel_17871/2469726151.py:1: FutureWarning:\n",
      "\n",
      "The default value of numeric_only in DataFrameGroupBy.mean is deprecated. In a future version, numeric_only will default to False. Either specify numeric_only or select only columns which should be valid for the function.\n",
      "\n"
     ]
    }
   ],
   "source": [
    "sub_ind = merged.groupby([\"gsubind\",\"Inflation\"]).mean()[\"trt1m\"]"
   ]
  },
  {
   "cell_type": "code",
   "execution_count": 406,
   "metadata": {},
   "outputs": [
    {
     "data": {
      "text/html": [
       "<div>\n",
       "<style scoped>\n",
       "    .dataframe tbody tr th:only-of-type {\n",
       "        vertical-align: middle;\n",
       "    }\n",
       "\n",
       "    .dataframe tbody tr th {\n",
       "        vertical-align: top;\n",
       "    }\n",
       "\n",
       "    .dataframe thead th {\n",
       "        text-align: right;\n",
       "    }\n",
       "</style>\n",
       "<table border=\"1\" class=\"dataframe\">\n",
       "  <thead>\n",
       "    <tr style=\"text-align: right;\">\n",
       "      <th></th>\n",
       "      <th>SectorId</th>\n",
       "      <th>Sector</th>\n",
       "      <th>IndustryGroupId</th>\n",
       "      <th>IndustryGroup</th>\n",
       "      <th>IndustryId</th>\n",
       "      <th>Industry</th>\n",
       "      <th>SubIndustryId</th>\n",
       "      <th>SubIndustry</th>\n",
       "      <th>SubIndustryDescription</th>\n",
       "    </tr>\n",
       "  </thead>\n",
       "  <tbody>\n",
       "    <tr>\n",
       "      <th>0</th>\n",
       "      <td>10</td>\n",
       "      <td>Energy</td>\n",
       "      <td>1010</td>\n",
       "      <td>Energy</td>\n",
       "      <td>101010</td>\n",
       "      <td>Energy Equipment &amp; Services</td>\n",
       "      <td>10101010</td>\n",
       "      <td>Oil &amp; Gas Drilling</td>\n",
       "      <td>Drilling contractors or owners of drilling rig...</td>\n",
       "    </tr>\n",
       "    <tr>\n",
       "      <th>1</th>\n",
       "      <td>10</td>\n",
       "      <td>Energy</td>\n",
       "      <td>1010</td>\n",
       "      <td>Energy</td>\n",
       "      <td>101010</td>\n",
       "      <td>Energy Equipment &amp; Services</td>\n",
       "      <td>10101020</td>\n",
       "      <td>Oil &amp; Gas Equipment &amp; Services</td>\n",
       "      <td>Manufacturers of equipment, including drilling...</td>\n",
       "    </tr>\n",
       "    <tr>\n",
       "      <th>2</th>\n",
       "      <td>10</td>\n",
       "      <td>Energy</td>\n",
       "      <td>1010</td>\n",
       "      <td>Energy</td>\n",
       "      <td>101020</td>\n",
       "      <td>Oil, Gas &amp; Consumable Fuels</td>\n",
       "      <td>10102010</td>\n",
       "      <td>Integrated Oil &amp; Gas</td>\n",
       "      <td>Integrated oil companies engaged in the explor...</td>\n",
       "    </tr>\n",
       "    <tr>\n",
       "      <th>3</th>\n",
       "      <td>10</td>\n",
       "      <td>Energy</td>\n",
       "      <td>1010</td>\n",
       "      <td>Energy</td>\n",
       "      <td>101020</td>\n",
       "      <td>Oil, Gas &amp; Consumable Fuels</td>\n",
       "      <td>10102020</td>\n",
       "      <td>Oil &amp; Gas Exploration &amp; Production</td>\n",
       "      <td>Companies engaged in the exploration and produ...</td>\n",
       "    </tr>\n",
       "    <tr>\n",
       "      <th>4</th>\n",
       "      <td>10</td>\n",
       "      <td>Energy</td>\n",
       "      <td>1010</td>\n",
       "      <td>Energy</td>\n",
       "      <td>101020</td>\n",
       "      <td>Oil, Gas &amp; Consumable Fuels</td>\n",
       "      <td>10102030</td>\n",
       "      <td>Oil &amp; Gas Refining &amp; Marketing</td>\n",
       "      <td>Companies engaged in the refining and marketin...</td>\n",
       "    </tr>\n",
       "    <tr>\n",
       "      <th>...</th>\n",
       "      <td>...</td>\n",
       "      <td>...</td>\n",
       "      <td>...</td>\n",
       "      <td>...</td>\n",
       "      <td>...</td>\n",
       "      <td>...</td>\n",
       "      <td>...</td>\n",
       "      <td>...</td>\n",
       "      <td>...</td>\n",
       "    </tr>\n",
       "    <tr>\n",
       "      <th>153</th>\n",
       "      <td>60</td>\n",
       "      <td>Real Estate</td>\n",
       "      <td>6010</td>\n",
       "      <td>Real Estate</td>\n",
       "      <td>601010</td>\n",
       "      <td>Equity Real Estate Investment Trusts (REITs)</td>\n",
       "      <td>60101080</td>\n",
       "      <td>Specialized REITs</td>\n",
       "      <td>Companies or Trusts engaged in the acquisition...</td>\n",
       "    </tr>\n",
       "    <tr>\n",
       "      <th>154</th>\n",
       "      <td>60</td>\n",
       "      <td>Real Estate</td>\n",
       "      <td>6010</td>\n",
       "      <td>Real Estate</td>\n",
       "      <td>601020</td>\n",
       "      <td>Real Estate Management &amp; Development</td>\n",
       "      <td>60102010</td>\n",
       "      <td>Diversified Real Estate Activities</td>\n",
       "      <td>Companies engaged in a diverse spectrum of rea...</td>\n",
       "    </tr>\n",
       "    <tr>\n",
       "      <th>155</th>\n",
       "      <td>60</td>\n",
       "      <td>Real Estate</td>\n",
       "      <td>6010</td>\n",
       "      <td>Real Estate</td>\n",
       "      <td>601020</td>\n",
       "      <td>Real Estate Management &amp; Development</td>\n",
       "      <td>60102020</td>\n",
       "      <td>Real Estate Operating Companies</td>\n",
       "      <td>Companies engaged in operating real estate pro...</td>\n",
       "    </tr>\n",
       "    <tr>\n",
       "      <th>156</th>\n",
       "      <td>60</td>\n",
       "      <td>Real Estate</td>\n",
       "      <td>6010</td>\n",
       "      <td>Real Estate</td>\n",
       "      <td>601020</td>\n",
       "      <td>Real Estate Management &amp; Development</td>\n",
       "      <td>60102030</td>\n",
       "      <td>Real Estate Development</td>\n",
       "      <td>Companies that develop real estate and sell th...</td>\n",
       "    </tr>\n",
       "    <tr>\n",
       "      <th>157</th>\n",
       "      <td>60</td>\n",
       "      <td>Real Estate</td>\n",
       "      <td>6010</td>\n",
       "      <td>Real Estate</td>\n",
       "      <td>601020</td>\n",
       "      <td>Real Estate Management &amp; Development</td>\n",
       "      <td>60102040</td>\n",
       "      <td>Real Estate Services</td>\n",
       "      <td>Real estate service providers such as real est...</td>\n",
       "    </tr>\n",
       "  </tbody>\n",
       "</table>\n",
       "<p>158 rows × 9 columns</p>\n",
       "</div>"
      ],
      "text/plain": [
       "     SectorId       Sector  IndustryGroupId IndustryGroup  IndustryId  \\\n",
       "0          10       Energy             1010        Energy      101010   \n",
       "1          10       Energy             1010        Energy      101010   \n",
       "2          10       Energy             1010        Energy      101020   \n",
       "3          10       Energy             1010        Energy      101020   \n",
       "4          10       Energy             1010        Energy      101020   \n",
       "..        ...          ...              ...           ...         ...   \n",
       "153        60  Real Estate             6010   Real Estate      601010   \n",
       "154        60  Real Estate             6010   Real Estate      601020   \n",
       "155        60  Real Estate             6010   Real Estate      601020   \n",
       "156        60  Real Estate             6010   Real Estate      601020   \n",
       "157        60  Real Estate             6010   Real Estate      601020   \n",
       "\n",
       "                                         Industry  SubIndustryId  \\\n",
       "0                     Energy Equipment & Services       10101010   \n",
       "1                     Energy Equipment & Services       10101020   \n",
       "2                     Oil, Gas & Consumable Fuels       10102010   \n",
       "3                     Oil, Gas & Consumable Fuels       10102020   \n",
       "4                     Oil, Gas & Consumable Fuels       10102030   \n",
       "..                                            ...            ...   \n",
       "153  Equity Real Estate Investment Trusts (REITs)       60101080   \n",
       "154          Real Estate Management & Development       60102010   \n",
       "155          Real Estate Management & Development       60102020   \n",
       "156          Real Estate Management & Development       60102030   \n",
       "157          Real Estate Management & Development       60102040   \n",
       "\n",
       "                            SubIndustry  \\\n",
       "0                    Oil & Gas Drilling   \n",
       "1        Oil & Gas Equipment & Services   \n",
       "2                  Integrated Oil & Gas   \n",
       "3    Oil & Gas Exploration & Production   \n",
       "4        Oil & Gas Refining & Marketing   \n",
       "..                                  ...   \n",
       "153                   Specialized REITs   \n",
       "154  Diversified Real Estate Activities   \n",
       "155     Real Estate Operating Companies   \n",
       "156             Real Estate Development   \n",
       "157                Real Estate Services   \n",
       "\n",
       "                                SubIndustryDescription  \n",
       "0    Drilling contractors or owners of drilling rig...  \n",
       "1    Manufacturers of equipment, including drilling...  \n",
       "2    Integrated oil companies engaged in the explor...  \n",
       "3    Companies engaged in the exploration and produ...  \n",
       "4    Companies engaged in the refining and marketin...  \n",
       "..                                                 ...  \n",
       "153  Companies or Trusts engaged in the acquisition...  \n",
       "154  Companies engaged in a diverse spectrum of rea...  \n",
       "155  Companies engaged in operating real estate pro...  \n",
       "156  Companies that develop real estate and sell th...  \n",
       "157  Real estate service providers such as real est...  \n",
       "\n",
       "[158 rows x 9 columns]"
      ]
     },
     "execution_count": 406,
     "metadata": {},
     "output_type": "execute_result"
    }
   ],
   "source": [
    "gics"
   ]
  },
  {
   "cell_type": "code",
   "execution_count": 407,
   "metadata": {},
   "outputs": [],
   "source": [
    "sector_df = sector.to_frame().reset_index().rename({\"level_0\": \"regime\", \"level_1\": \"industry\"}, axis=1).merge(gics[[\"Sector\", \"SectorId\"]], how=\"left\", left_on=\"gsector\", right_on=\"SectorId\")"
   ]
  },
  {
   "cell_type": "code",
   "execution_count": 408,
   "metadata": {},
   "outputs": [],
   "source": [
    "sector_df.drop_duplicates(inplace=True)"
   ]
  },
  {
   "cell_type": "code",
   "execution_count": 409,
   "metadata": {},
   "outputs": [
    {
     "data": {
      "application/vnd.plotly.v1+json": {
       "config": {
        "plotlyServerURL": "https://plot.ly"
       },
       "data": [
        {
         "alignmentgroup": "True",
         "hovertemplate": "Inflation=deflation<br>Sector=%{x}<br>trt1m=%{y}<extra></extra>",
         "legendgroup": "deflation",
         "marker": {
          "color": "#636efa",
          "pattern": {
           "shape": ""
          }
         },
         "name": "deflation",
         "offsetgroup": "deflation",
         "orientation": "v",
         "showlegend": true,
         "textposition": "auto",
         "type": "bar",
         "x": [
          "Energy",
          "Materials",
          "Industrials",
          "Consumer Discretionary",
          "Consumer Staples",
          "Health Care",
          "Financials",
          "Information Technology",
          "Communication Services",
          "Utilities",
          "Real Estate"
         ],
         "xaxis": "x",
         "y": [
          1.5776145297089248,
          5.645867998591798,
          3.3068584359867472,
          3.9489024744557972,
          4.376708006833713,
          5.945527671639187,
          2.1040042154794745,
          4.68166694715824,
          4.235252205273738,
          2.5316432319764592,
          3.4717333333333333
         ],
         "yaxis": "y"
        },
        {
         "alignmentgroup": "True",
         "hovertemplate": "Inflation=low<br>Sector=%{x}<br>trt1m=%{y}<extra></extra>",
         "legendgroup": "low",
         "marker": {
          "color": "#EF553B",
          "pattern": {
           "shape": ""
          }
         },
         "name": "low",
         "offsetgroup": "low",
         "orientation": "v",
         "showlegend": true,
         "textposition": "auto",
         "type": "bar",
         "x": [
          "Energy",
          "Materials",
          "Industrials",
          "Consumer Discretionary",
          "Consumer Staples",
          "Health Care",
          "Financials",
          "Information Technology",
          "Communication Services",
          "Utilities",
          "Real Estate"
         ],
         "xaxis": "x",
         "y": [
          -0.39270828498010607,
          4.659620810846101,
          0.23997238066304638,
          1.1065647526343991,
          1.2732565225390984,
          1.3701075685772597,
          -0.4649672582452527,
          1.7908408703258256,
          0.33981865997583866,
          0.9064299526963102,
          -0.5132653723404256
         ],
         "yaxis": "y"
        },
        {
         "alignmentgroup": "True",
         "hovertemplate": "Inflation=mid<br>Sector=%{x}<br>trt1m=%{y}<extra></extra>",
         "legendgroup": "mid",
         "marker": {
          "color": "#00cc96",
          "pattern": {
           "shape": ""
          }
         },
         "name": "mid",
         "offsetgroup": "mid",
         "orientation": "v",
         "showlegend": true,
         "textposition": "auto",
         "type": "bar",
         "x": [
          "Energy",
          "Materials",
          "Industrials",
          "Consumer Discretionary",
          "Consumer Staples",
          "Health Care",
          "Financials",
          "Information Technology",
          "Communication Services",
          "Utilities",
          "Real Estate"
         ],
         "xaxis": "x",
         "y": [
          1.6799698152917393,
          2.4812674590682655,
          2.037749881596172,
          1.8870749386936876,
          2.1426779144851658,
          2.4527002592579423,
          1.7396504003677795,
          2.6488728519913067,
          2.5882601033221038,
          1.3009097307956103,
          1.77912544163614
         ],
         "yaxis": "y"
        },
        {
         "alignmentgroup": "True",
         "hovertemplate": "Inflation=high<br>Sector=%{x}<br>trt1m=%{y}<extra></extra>",
         "legendgroup": "high",
         "marker": {
          "color": "#ab63fa",
          "pattern": {
           "shape": ""
          }
         },
         "name": "high",
         "offsetgroup": "high",
         "orientation": "v",
         "showlegend": true,
         "textposition": "auto",
         "type": "bar",
         "x": [
          "Energy",
          "Materials",
          "Industrials",
          "Consumer Discretionary",
          "Consumer Staples",
          "Health Care",
          "Financials",
          "Information Technology",
          "Communication Services",
          "Utilities",
          "Real Estate"
         ],
         "xaxis": "x",
         "y": [
          2.0278252460033985,
          0.9053311174052374,
          1.0384596274534383,
          0.8410289357637266,
          0.8111126920766409,
          0.3631123081143876,
          0.9283489233636053,
          0.6490223440451321,
          0.13428232443193522,
          0.9639556417942404,
          0.7984808761583825
         ],
         "yaxis": "y"
        }
       ],
       "layout": {
        "barmode": "group",
        "legend": {
         "title": {
          "text": "Inflation"
         },
         "tracegroupgap": 0
        },
        "margin": {
         "t": 60
        },
        "template": {
         "data": {
          "bar": [
           {
            "error_x": {
             "color": "#2a3f5f"
            },
            "error_y": {
             "color": "#2a3f5f"
            },
            "marker": {
             "line": {
              "color": "#E5ECF6",
              "width": 0.5
             },
             "pattern": {
              "fillmode": "overlay",
              "size": 10,
              "solidity": 0.2
             }
            },
            "type": "bar"
           }
          ],
          "barpolar": [
           {
            "marker": {
             "line": {
              "color": "#E5ECF6",
              "width": 0.5
             },
             "pattern": {
              "fillmode": "overlay",
              "size": 10,
              "solidity": 0.2
             }
            },
            "type": "barpolar"
           }
          ],
          "carpet": [
           {
            "aaxis": {
             "endlinecolor": "#2a3f5f",
             "gridcolor": "white",
             "linecolor": "white",
             "minorgridcolor": "white",
             "startlinecolor": "#2a3f5f"
            },
            "baxis": {
             "endlinecolor": "#2a3f5f",
             "gridcolor": "white",
             "linecolor": "white",
             "minorgridcolor": "white",
             "startlinecolor": "#2a3f5f"
            },
            "type": "carpet"
           }
          ],
          "choropleth": [
           {
            "colorbar": {
             "outlinewidth": 0,
             "ticks": ""
            },
            "type": "choropleth"
           }
          ],
          "contour": [
           {
            "colorbar": {
             "outlinewidth": 0,
             "ticks": ""
            },
            "colorscale": [
             [
              0,
              "#0d0887"
             ],
             [
              0.1111111111111111,
              "#46039f"
             ],
             [
              0.2222222222222222,
              "#7201a8"
             ],
             [
              0.3333333333333333,
              "#9c179e"
             ],
             [
              0.4444444444444444,
              "#bd3786"
             ],
             [
              0.5555555555555556,
              "#d8576b"
             ],
             [
              0.6666666666666666,
              "#ed7953"
             ],
             [
              0.7777777777777778,
              "#fb9f3a"
             ],
             [
              0.8888888888888888,
              "#fdca26"
             ],
             [
              1,
              "#f0f921"
             ]
            ],
            "type": "contour"
           }
          ],
          "contourcarpet": [
           {
            "colorbar": {
             "outlinewidth": 0,
             "ticks": ""
            },
            "type": "contourcarpet"
           }
          ],
          "heatmap": [
           {
            "colorbar": {
             "outlinewidth": 0,
             "ticks": ""
            },
            "colorscale": [
             [
              0,
              "#0d0887"
             ],
             [
              0.1111111111111111,
              "#46039f"
             ],
             [
              0.2222222222222222,
              "#7201a8"
             ],
             [
              0.3333333333333333,
              "#9c179e"
             ],
             [
              0.4444444444444444,
              "#bd3786"
             ],
             [
              0.5555555555555556,
              "#d8576b"
             ],
             [
              0.6666666666666666,
              "#ed7953"
             ],
             [
              0.7777777777777778,
              "#fb9f3a"
             ],
             [
              0.8888888888888888,
              "#fdca26"
             ],
             [
              1,
              "#f0f921"
             ]
            ],
            "type": "heatmap"
           }
          ],
          "heatmapgl": [
           {
            "colorbar": {
             "outlinewidth": 0,
             "ticks": ""
            },
            "colorscale": [
             [
              0,
              "#0d0887"
             ],
             [
              0.1111111111111111,
              "#46039f"
             ],
             [
              0.2222222222222222,
              "#7201a8"
             ],
             [
              0.3333333333333333,
              "#9c179e"
             ],
             [
              0.4444444444444444,
              "#bd3786"
             ],
             [
              0.5555555555555556,
              "#d8576b"
             ],
             [
              0.6666666666666666,
              "#ed7953"
             ],
             [
              0.7777777777777778,
              "#fb9f3a"
             ],
             [
              0.8888888888888888,
              "#fdca26"
             ],
             [
              1,
              "#f0f921"
             ]
            ],
            "type": "heatmapgl"
           }
          ],
          "histogram": [
           {
            "marker": {
             "pattern": {
              "fillmode": "overlay",
              "size": 10,
              "solidity": 0.2
             }
            },
            "type": "histogram"
           }
          ],
          "histogram2d": [
           {
            "colorbar": {
             "outlinewidth": 0,
             "ticks": ""
            },
            "colorscale": [
             [
              0,
              "#0d0887"
             ],
             [
              0.1111111111111111,
              "#46039f"
             ],
             [
              0.2222222222222222,
              "#7201a8"
             ],
             [
              0.3333333333333333,
              "#9c179e"
             ],
             [
              0.4444444444444444,
              "#bd3786"
             ],
             [
              0.5555555555555556,
              "#d8576b"
             ],
             [
              0.6666666666666666,
              "#ed7953"
             ],
             [
              0.7777777777777778,
              "#fb9f3a"
             ],
             [
              0.8888888888888888,
              "#fdca26"
             ],
             [
              1,
              "#f0f921"
             ]
            ],
            "type": "histogram2d"
           }
          ],
          "histogram2dcontour": [
           {
            "colorbar": {
             "outlinewidth": 0,
             "ticks": ""
            },
            "colorscale": [
             [
              0,
              "#0d0887"
             ],
             [
              0.1111111111111111,
              "#46039f"
             ],
             [
              0.2222222222222222,
              "#7201a8"
             ],
             [
              0.3333333333333333,
              "#9c179e"
             ],
             [
              0.4444444444444444,
              "#bd3786"
             ],
             [
              0.5555555555555556,
              "#d8576b"
             ],
             [
              0.6666666666666666,
              "#ed7953"
             ],
             [
              0.7777777777777778,
              "#fb9f3a"
             ],
             [
              0.8888888888888888,
              "#fdca26"
             ],
             [
              1,
              "#f0f921"
             ]
            ],
            "type": "histogram2dcontour"
           }
          ],
          "mesh3d": [
           {
            "colorbar": {
             "outlinewidth": 0,
             "ticks": ""
            },
            "type": "mesh3d"
           }
          ],
          "parcoords": [
           {
            "line": {
             "colorbar": {
              "outlinewidth": 0,
              "ticks": ""
             }
            },
            "type": "parcoords"
           }
          ],
          "pie": [
           {
            "automargin": true,
            "type": "pie"
           }
          ],
          "scatter": [
           {
            "marker": {
             "colorbar": {
              "outlinewidth": 0,
              "ticks": ""
             }
            },
            "type": "scatter"
           }
          ],
          "scatter3d": [
           {
            "line": {
             "colorbar": {
              "outlinewidth": 0,
              "ticks": ""
             }
            },
            "marker": {
             "colorbar": {
              "outlinewidth": 0,
              "ticks": ""
             }
            },
            "type": "scatter3d"
           }
          ],
          "scattercarpet": [
           {
            "marker": {
             "colorbar": {
              "outlinewidth": 0,
              "ticks": ""
             }
            },
            "type": "scattercarpet"
           }
          ],
          "scattergeo": [
           {
            "marker": {
             "colorbar": {
              "outlinewidth": 0,
              "ticks": ""
             }
            },
            "type": "scattergeo"
           }
          ],
          "scattergl": [
           {
            "marker": {
             "colorbar": {
              "outlinewidth": 0,
              "ticks": ""
             }
            },
            "type": "scattergl"
           }
          ],
          "scattermapbox": [
           {
            "marker": {
             "colorbar": {
              "outlinewidth": 0,
              "ticks": ""
             }
            },
            "type": "scattermapbox"
           }
          ],
          "scatterpolar": [
           {
            "marker": {
             "colorbar": {
              "outlinewidth": 0,
              "ticks": ""
             }
            },
            "type": "scatterpolar"
           }
          ],
          "scatterpolargl": [
           {
            "marker": {
             "colorbar": {
              "outlinewidth": 0,
              "ticks": ""
             }
            },
            "type": "scatterpolargl"
           }
          ],
          "scatterternary": [
           {
            "marker": {
             "colorbar": {
              "outlinewidth": 0,
              "ticks": ""
             }
            },
            "type": "scatterternary"
           }
          ],
          "surface": [
           {
            "colorbar": {
             "outlinewidth": 0,
             "ticks": ""
            },
            "colorscale": [
             [
              0,
              "#0d0887"
             ],
             [
              0.1111111111111111,
              "#46039f"
             ],
             [
              0.2222222222222222,
              "#7201a8"
             ],
             [
              0.3333333333333333,
              "#9c179e"
             ],
             [
              0.4444444444444444,
              "#bd3786"
             ],
             [
              0.5555555555555556,
              "#d8576b"
             ],
             [
              0.6666666666666666,
              "#ed7953"
             ],
             [
              0.7777777777777778,
              "#fb9f3a"
             ],
             [
              0.8888888888888888,
              "#fdca26"
             ],
             [
              1,
              "#f0f921"
             ]
            ],
            "type": "surface"
           }
          ],
          "table": [
           {
            "cells": {
             "fill": {
              "color": "#EBF0F8"
             },
             "line": {
              "color": "white"
             }
            },
            "header": {
             "fill": {
              "color": "#C8D4E3"
             },
             "line": {
              "color": "white"
             }
            },
            "type": "table"
           }
          ]
         },
         "layout": {
          "annotationdefaults": {
           "arrowcolor": "#2a3f5f",
           "arrowhead": 0,
           "arrowwidth": 1
          },
          "autotypenumbers": "strict",
          "coloraxis": {
           "colorbar": {
            "outlinewidth": 0,
            "ticks": ""
           }
          },
          "colorscale": {
           "diverging": [
            [
             0,
             "#8e0152"
            ],
            [
             0.1,
             "#c51b7d"
            ],
            [
             0.2,
             "#de77ae"
            ],
            [
             0.3,
             "#f1b6da"
            ],
            [
             0.4,
             "#fde0ef"
            ],
            [
             0.5,
             "#f7f7f7"
            ],
            [
             0.6,
             "#e6f5d0"
            ],
            [
             0.7,
             "#b8e186"
            ],
            [
             0.8,
             "#7fbc41"
            ],
            [
             0.9,
             "#4d9221"
            ],
            [
             1,
             "#276419"
            ]
           ],
           "sequential": [
            [
             0,
             "#0d0887"
            ],
            [
             0.1111111111111111,
             "#46039f"
            ],
            [
             0.2222222222222222,
             "#7201a8"
            ],
            [
             0.3333333333333333,
             "#9c179e"
            ],
            [
             0.4444444444444444,
             "#bd3786"
            ],
            [
             0.5555555555555556,
             "#d8576b"
            ],
            [
             0.6666666666666666,
             "#ed7953"
            ],
            [
             0.7777777777777778,
             "#fb9f3a"
            ],
            [
             0.8888888888888888,
             "#fdca26"
            ],
            [
             1,
             "#f0f921"
            ]
           ],
           "sequentialminus": [
            [
             0,
             "#0d0887"
            ],
            [
             0.1111111111111111,
             "#46039f"
            ],
            [
             0.2222222222222222,
             "#7201a8"
            ],
            [
             0.3333333333333333,
             "#9c179e"
            ],
            [
             0.4444444444444444,
             "#bd3786"
            ],
            [
             0.5555555555555556,
             "#d8576b"
            ],
            [
             0.6666666666666666,
             "#ed7953"
            ],
            [
             0.7777777777777778,
             "#fb9f3a"
            ],
            [
             0.8888888888888888,
             "#fdca26"
            ],
            [
             1,
             "#f0f921"
            ]
           ]
          },
          "colorway": [
           "#636efa",
           "#EF553B",
           "#00cc96",
           "#ab63fa",
           "#FFA15A",
           "#19d3f3",
           "#FF6692",
           "#B6E880",
           "#FF97FF",
           "#FECB52"
          ],
          "font": {
           "color": "#2a3f5f"
          },
          "geo": {
           "bgcolor": "white",
           "lakecolor": "white",
           "landcolor": "#E5ECF6",
           "showlakes": true,
           "showland": true,
           "subunitcolor": "white"
          },
          "hoverlabel": {
           "align": "left"
          },
          "hovermode": "closest",
          "mapbox": {
           "style": "light"
          },
          "paper_bgcolor": "white",
          "plot_bgcolor": "#E5ECF6",
          "polar": {
           "angularaxis": {
            "gridcolor": "white",
            "linecolor": "white",
            "ticks": ""
           },
           "bgcolor": "#E5ECF6",
           "radialaxis": {
            "gridcolor": "white",
            "linecolor": "white",
            "ticks": ""
           }
          },
          "scene": {
           "xaxis": {
            "backgroundcolor": "#E5ECF6",
            "gridcolor": "white",
            "gridwidth": 2,
            "linecolor": "white",
            "showbackground": true,
            "ticks": "",
            "zerolinecolor": "white"
           },
           "yaxis": {
            "backgroundcolor": "#E5ECF6",
            "gridcolor": "white",
            "gridwidth": 2,
            "linecolor": "white",
            "showbackground": true,
            "ticks": "",
            "zerolinecolor": "white"
           },
           "zaxis": {
            "backgroundcolor": "#E5ECF6",
            "gridcolor": "white",
            "gridwidth": 2,
            "linecolor": "white",
            "showbackground": true,
            "ticks": "",
            "zerolinecolor": "white"
           }
          },
          "shapedefaults": {
           "line": {
            "color": "#2a3f5f"
           }
          },
          "ternary": {
           "aaxis": {
            "gridcolor": "white",
            "linecolor": "white",
            "ticks": ""
           },
           "baxis": {
            "gridcolor": "white",
            "linecolor": "white",
            "ticks": ""
           },
           "bgcolor": "#E5ECF6",
           "caxis": {
            "gridcolor": "white",
            "linecolor": "white",
            "ticks": ""
           }
          },
          "title": {
           "x": 0.05
          },
          "xaxis": {
           "automargin": true,
           "gridcolor": "white",
           "linecolor": "white",
           "ticks": "",
           "title": {
            "standoff": 15
           },
           "zerolinecolor": "white",
           "zerolinewidth": 2
          },
          "yaxis": {
           "automargin": true,
           "gridcolor": "white",
           "linecolor": "white",
           "ticks": "",
           "title": {
            "standoff": 15
           },
           "zerolinecolor": "white",
           "zerolinewidth": 2
          }
         }
        },
        "xaxis": {
         "anchor": "y",
         "domain": [
          0,
          1
         ],
         "title": {
          "text": "Sector"
         }
        },
        "yaxis": {
         "anchor": "x",
         "domain": [
          0,
          1
         ],
         "title": {
          "text": "trt1m"
         }
        }
       }
      }
     },
     "metadata": {},
     "output_type": "display_data"
    }
   ],
   "source": [
    "import plotly.express as px\n",
    "\n",
    "fig = px.bar(sector_df, x=\"Sector\", y=\"trt1m\", color=\"Inflation\", barmode=\"group\")\n",
    "fig.show()"
   ]
  },
  {
   "cell_type": "code",
   "execution_count": 410,
   "metadata": {},
   "outputs": [],
   "source": [
    "sector_counts = merged.groupby([\"gsector\",\"Inflation\"]).count()[\"trt1m\"]\n",
    "sector_df_counts = sector_counts.to_frame().reset_index().rename({\"level_0\": \"regime\", \"level_1\": \"factor\"}, axis=1).merge(gics[[\"Sector\", \"SectorId\"]], how=\"left\", left_on=\"gsector\", right_on=\"SectorId\")"
   ]
  },
  {
   "cell_type": "code",
   "execution_count": 411,
   "metadata": {},
   "outputs": [],
   "source": [
    "sector_df_counts.drop_duplicates(inplace=True)"
   ]
  },
  {
   "cell_type": "code",
   "execution_count": 412,
   "metadata": {},
   "outputs": [
    {
     "data": {
      "application/vnd.plotly.v1+json": {
       "config": {
        "plotlyServerURL": "https://plot.ly"
       },
       "data": [
        {
         "alignmentgroup": "True",
         "hovertemplate": "Inflation=deflation<br>Sector=%{x}<br>trt1m=%{y}<extra></extra>",
         "legendgroup": "deflation",
         "marker": {
          "color": "#636efa",
          "pattern": {
           "shape": ""
          }
         },
         "name": "deflation",
         "offsetgroup": "deflation",
         "orientation": "v",
         "showlegend": true,
         "textposition": "auto",
         "type": "bar",
         "x": [
          "Energy",
          "Materials",
          "Industrials",
          "Consumer Discretionary",
          "Consumer Staples",
          "Health Care",
          "Financials",
          "Information Technology",
          "Communication Services",
          "Utilities",
          "Real Estate"
         ],
         "xaxis": "x",
         "y": [
          20785,
          34086,
          23542,
          22510,
          8780,
          22926,
          30815,
          28046,
          8457,
          4078,
          4680
         ],
         "yaxis": "y"
        },
        {
         "alignmentgroup": "True",
         "hovertemplate": "Inflation=low<br>Sector=%{x}<br>trt1m=%{y}<extra></extra>",
         "legendgroup": "low",
         "marker": {
          "color": "#EF553B",
          "pattern": {
           "shape": ""
          }
         },
         "name": "low",
         "offsetgroup": "low",
         "orientation": "v",
         "showlegend": true,
         "textposition": "auto",
         "type": "bar",
         "x": [
          "Energy",
          "Materials",
          "Industrials",
          "Consumer Discretionary",
          "Consumer Staples",
          "Health Care",
          "Financials",
          "Information Technology",
          "Communication Services",
          "Utilities",
          "Real Estate"
         ],
         "xaxis": "x",
         "y": [
          24128,
          45952,
          26333,
          22396,
          10870,
          28909,
          33019,
          27438,
          10761,
          5285,
          7520
         ],
         "yaxis": "y"
        },
        {
         "alignmentgroup": "True",
         "hovertemplate": "Inflation=mid<br>Sector=%{x}<br>trt1m=%{y}<extra></extra>",
         "legendgroup": "mid",
         "marker": {
          "color": "#00cc96",
          "pattern": {
           "shape": ""
          }
         },
         "name": "mid",
         "offsetgroup": "mid",
         "orientation": "v",
         "showlegend": true,
         "textposition": "auto",
         "type": "bar",
         "x": [
          "Energy",
          "Materials",
          "Industrials",
          "Consumer Discretionary",
          "Consumer Staples",
          "Health Care",
          "Financials",
          "Information Technology",
          "Communication Services",
          "Utilities",
          "Real Estate"
         ],
         "xaxis": "x",
         "y": [
          288888,
          493016,
          407926,
          420022,
          148980,
          365659,
          515526,
          452291,
          124078,
          81648,
          70703
         ],
         "yaxis": "y"
        },
        {
         "alignmentgroup": "True",
         "hovertemplate": "Inflation=high<br>Sector=%{x}<br>trt1m=%{y}<extra></extra>",
         "legendgroup": "high",
         "marker": {
          "color": "#ab63fa",
          "pattern": {
           "shape": ""
          }
         },
         "name": "high",
         "offsetgroup": "high",
         "orientation": "v",
         "showlegend": true,
         "textposition": "auto",
         "type": "bar",
         "x": [
          "Energy",
          "Materials",
          "Industrials",
          "Consumer Discretionary",
          "Consumer Staples",
          "Health Care",
          "Financials",
          "Information Technology",
          "Communication Services",
          "Utilities",
          "Real Estate"
         ],
         "xaxis": "x",
         "y": [
          196542,
          308930,
          374933,
          395711,
          126512,
          233277,
          377797,
          319772,
          72835,
          93410,
          39171
         ],
         "yaxis": "y"
        }
       ],
       "layout": {
        "barmode": "group",
        "legend": {
         "title": {
          "text": "Inflation"
         },
         "tracegroupgap": 0
        },
        "margin": {
         "t": 60
        },
        "template": {
         "data": {
          "bar": [
           {
            "error_x": {
             "color": "#2a3f5f"
            },
            "error_y": {
             "color": "#2a3f5f"
            },
            "marker": {
             "line": {
              "color": "#E5ECF6",
              "width": 0.5
             },
             "pattern": {
              "fillmode": "overlay",
              "size": 10,
              "solidity": 0.2
             }
            },
            "type": "bar"
           }
          ],
          "barpolar": [
           {
            "marker": {
             "line": {
              "color": "#E5ECF6",
              "width": 0.5
             },
             "pattern": {
              "fillmode": "overlay",
              "size": 10,
              "solidity": 0.2
             }
            },
            "type": "barpolar"
           }
          ],
          "carpet": [
           {
            "aaxis": {
             "endlinecolor": "#2a3f5f",
             "gridcolor": "white",
             "linecolor": "white",
             "minorgridcolor": "white",
             "startlinecolor": "#2a3f5f"
            },
            "baxis": {
             "endlinecolor": "#2a3f5f",
             "gridcolor": "white",
             "linecolor": "white",
             "minorgridcolor": "white",
             "startlinecolor": "#2a3f5f"
            },
            "type": "carpet"
           }
          ],
          "choropleth": [
           {
            "colorbar": {
             "outlinewidth": 0,
             "ticks": ""
            },
            "type": "choropleth"
           }
          ],
          "contour": [
           {
            "colorbar": {
             "outlinewidth": 0,
             "ticks": ""
            },
            "colorscale": [
             [
              0,
              "#0d0887"
             ],
             [
              0.1111111111111111,
              "#46039f"
             ],
             [
              0.2222222222222222,
              "#7201a8"
             ],
             [
              0.3333333333333333,
              "#9c179e"
             ],
             [
              0.4444444444444444,
              "#bd3786"
             ],
             [
              0.5555555555555556,
              "#d8576b"
             ],
             [
              0.6666666666666666,
              "#ed7953"
             ],
             [
              0.7777777777777778,
              "#fb9f3a"
             ],
             [
              0.8888888888888888,
              "#fdca26"
             ],
             [
              1,
              "#f0f921"
             ]
            ],
            "type": "contour"
           }
          ],
          "contourcarpet": [
           {
            "colorbar": {
             "outlinewidth": 0,
             "ticks": ""
            },
            "type": "contourcarpet"
           }
          ],
          "heatmap": [
           {
            "colorbar": {
             "outlinewidth": 0,
             "ticks": ""
            },
            "colorscale": [
             [
              0,
              "#0d0887"
             ],
             [
              0.1111111111111111,
              "#46039f"
             ],
             [
              0.2222222222222222,
              "#7201a8"
             ],
             [
              0.3333333333333333,
              "#9c179e"
             ],
             [
              0.4444444444444444,
              "#bd3786"
             ],
             [
              0.5555555555555556,
              "#d8576b"
             ],
             [
              0.6666666666666666,
              "#ed7953"
             ],
             [
              0.7777777777777778,
              "#fb9f3a"
             ],
             [
              0.8888888888888888,
              "#fdca26"
             ],
             [
              1,
              "#f0f921"
             ]
            ],
            "type": "heatmap"
           }
          ],
          "heatmapgl": [
           {
            "colorbar": {
             "outlinewidth": 0,
             "ticks": ""
            },
            "colorscale": [
             [
              0,
              "#0d0887"
             ],
             [
              0.1111111111111111,
              "#46039f"
             ],
             [
              0.2222222222222222,
              "#7201a8"
             ],
             [
              0.3333333333333333,
              "#9c179e"
             ],
             [
              0.4444444444444444,
              "#bd3786"
             ],
             [
              0.5555555555555556,
              "#d8576b"
             ],
             [
              0.6666666666666666,
              "#ed7953"
             ],
             [
              0.7777777777777778,
              "#fb9f3a"
             ],
             [
              0.8888888888888888,
              "#fdca26"
             ],
             [
              1,
              "#f0f921"
             ]
            ],
            "type": "heatmapgl"
           }
          ],
          "histogram": [
           {
            "marker": {
             "pattern": {
              "fillmode": "overlay",
              "size": 10,
              "solidity": 0.2
             }
            },
            "type": "histogram"
           }
          ],
          "histogram2d": [
           {
            "colorbar": {
             "outlinewidth": 0,
             "ticks": ""
            },
            "colorscale": [
             [
              0,
              "#0d0887"
             ],
             [
              0.1111111111111111,
              "#46039f"
             ],
             [
              0.2222222222222222,
              "#7201a8"
             ],
             [
              0.3333333333333333,
              "#9c179e"
             ],
             [
              0.4444444444444444,
              "#bd3786"
             ],
             [
              0.5555555555555556,
              "#d8576b"
             ],
             [
              0.6666666666666666,
              "#ed7953"
             ],
             [
              0.7777777777777778,
              "#fb9f3a"
             ],
             [
              0.8888888888888888,
              "#fdca26"
             ],
             [
              1,
              "#f0f921"
             ]
            ],
            "type": "histogram2d"
           }
          ],
          "histogram2dcontour": [
           {
            "colorbar": {
             "outlinewidth": 0,
             "ticks": ""
            },
            "colorscale": [
             [
              0,
              "#0d0887"
             ],
             [
              0.1111111111111111,
              "#46039f"
             ],
             [
              0.2222222222222222,
              "#7201a8"
             ],
             [
              0.3333333333333333,
              "#9c179e"
             ],
             [
              0.4444444444444444,
              "#bd3786"
             ],
             [
              0.5555555555555556,
              "#d8576b"
             ],
             [
              0.6666666666666666,
              "#ed7953"
             ],
             [
              0.7777777777777778,
              "#fb9f3a"
             ],
             [
              0.8888888888888888,
              "#fdca26"
             ],
             [
              1,
              "#f0f921"
             ]
            ],
            "type": "histogram2dcontour"
           }
          ],
          "mesh3d": [
           {
            "colorbar": {
             "outlinewidth": 0,
             "ticks": ""
            },
            "type": "mesh3d"
           }
          ],
          "parcoords": [
           {
            "line": {
             "colorbar": {
              "outlinewidth": 0,
              "ticks": ""
             }
            },
            "type": "parcoords"
           }
          ],
          "pie": [
           {
            "automargin": true,
            "type": "pie"
           }
          ],
          "scatter": [
           {
            "marker": {
             "colorbar": {
              "outlinewidth": 0,
              "ticks": ""
             }
            },
            "type": "scatter"
           }
          ],
          "scatter3d": [
           {
            "line": {
             "colorbar": {
              "outlinewidth": 0,
              "ticks": ""
             }
            },
            "marker": {
             "colorbar": {
              "outlinewidth": 0,
              "ticks": ""
             }
            },
            "type": "scatter3d"
           }
          ],
          "scattercarpet": [
           {
            "marker": {
             "colorbar": {
              "outlinewidth": 0,
              "ticks": ""
             }
            },
            "type": "scattercarpet"
           }
          ],
          "scattergeo": [
           {
            "marker": {
             "colorbar": {
              "outlinewidth": 0,
              "ticks": ""
             }
            },
            "type": "scattergeo"
           }
          ],
          "scattergl": [
           {
            "marker": {
             "colorbar": {
              "outlinewidth": 0,
              "ticks": ""
             }
            },
            "type": "scattergl"
           }
          ],
          "scattermapbox": [
           {
            "marker": {
             "colorbar": {
              "outlinewidth": 0,
              "ticks": ""
             }
            },
            "type": "scattermapbox"
           }
          ],
          "scatterpolar": [
           {
            "marker": {
             "colorbar": {
              "outlinewidth": 0,
              "ticks": ""
             }
            },
            "type": "scatterpolar"
           }
          ],
          "scatterpolargl": [
           {
            "marker": {
             "colorbar": {
              "outlinewidth": 0,
              "ticks": ""
             }
            },
            "type": "scatterpolargl"
           }
          ],
          "scatterternary": [
           {
            "marker": {
             "colorbar": {
              "outlinewidth": 0,
              "ticks": ""
             }
            },
            "type": "scatterternary"
           }
          ],
          "surface": [
           {
            "colorbar": {
             "outlinewidth": 0,
             "ticks": ""
            },
            "colorscale": [
             [
              0,
              "#0d0887"
             ],
             [
              0.1111111111111111,
              "#46039f"
             ],
             [
              0.2222222222222222,
              "#7201a8"
             ],
             [
              0.3333333333333333,
              "#9c179e"
             ],
             [
              0.4444444444444444,
              "#bd3786"
             ],
             [
              0.5555555555555556,
              "#d8576b"
             ],
             [
              0.6666666666666666,
              "#ed7953"
             ],
             [
              0.7777777777777778,
              "#fb9f3a"
             ],
             [
              0.8888888888888888,
              "#fdca26"
             ],
             [
              1,
              "#f0f921"
             ]
            ],
            "type": "surface"
           }
          ],
          "table": [
           {
            "cells": {
             "fill": {
              "color": "#EBF0F8"
             },
             "line": {
              "color": "white"
             }
            },
            "header": {
             "fill": {
              "color": "#C8D4E3"
             },
             "line": {
              "color": "white"
             }
            },
            "type": "table"
           }
          ]
         },
         "layout": {
          "annotationdefaults": {
           "arrowcolor": "#2a3f5f",
           "arrowhead": 0,
           "arrowwidth": 1
          },
          "autotypenumbers": "strict",
          "coloraxis": {
           "colorbar": {
            "outlinewidth": 0,
            "ticks": ""
           }
          },
          "colorscale": {
           "diverging": [
            [
             0,
             "#8e0152"
            ],
            [
             0.1,
             "#c51b7d"
            ],
            [
             0.2,
             "#de77ae"
            ],
            [
             0.3,
             "#f1b6da"
            ],
            [
             0.4,
             "#fde0ef"
            ],
            [
             0.5,
             "#f7f7f7"
            ],
            [
             0.6,
             "#e6f5d0"
            ],
            [
             0.7,
             "#b8e186"
            ],
            [
             0.8,
             "#7fbc41"
            ],
            [
             0.9,
             "#4d9221"
            ],
            [
             1,
             "#276419"
            ]
           ],
           "sequential": [
            [
             0,
             "#0d0887"
            ],
            [
             0.1111111111111111,
             "#46039f"
            ],
            [
             0.2222222222222222,
             "#7201a8"
            ],
            [
             0.3333333333333333,
             "#9c179e"
            ],
            [
             0.4444444444444444,
             "#bd3786"
            ],
            [
             0.5555555555555556,
             "#d8576b"
            ],
            [
             0.6666666666666666,
             "#ed7953"
            ],
            [
             0.7777777777777778,
             "#fb9f3a"
            ],
            [
             0.8888888888888888,
             "#fdca26"
            ],
            [
             1,
             "#f0f921"
            ]
           ],
           "sequentialminus": [
            [
             0,
             "#0d0887"
            ],
            [
             0.1111111111111111,
             "#46039f"
            ],
            [
             0.2222222222222222,
             "#7201a8"
            ],
            [
             0.3333333333333333,
             "#9c179e"
            ],
            [
             0.4444444444444444,
             "#bd3786"
            ],
            [
             0.5555555555555556,
             "#d8576b"
            ],
            [
             0.6666666666666666,
             "#ed7953"
            ],
            [
             0.7777777777777778,
             "#fb9f3a"
            ],
            [
             0.8888888888888888,
             "#fdca26"
            ],
            [
             1,
             "#f0f921"
            ]
           ]
          },
          "colorway": [
           "#636efa",
           "#EF553B",
           "#00cc96",
           "#ab63fa",
           "#FFA15A",
           "#19d3f3",
           "#FF6692",
           "#B6E880",
           "#FF97FF",
           "#FECB52"
          ],
          "font": {
           "color": "#2a3f5f"
          },
          "geo": {
           "bgcolor": "white",
           "lakecolor": "white",
           "landcolor": "#E5ECF6",
           "showlakes": true,
           "showland": true,
           "subunitcolor": "white"
          },
          "hoverlabel": {
           "align": "left"
          },
          "hovermode": "closest",
          "mapbox": {
           "style": "light"
          },
          "paper_bgcolor": "white",
          "plot_bgcolor": "#E5ECF6",
          "polar": {
           "angularaxis": {
            "gridcolor": "white",
            "linecolor": "white",
            "ticks": ""
           },
           "bgcolor": "#E5ECF6",
           "radialaxis": {
            "gridcolor": "white",
            "linecolor": "white",
            "ticks": ""
           }
          },
          "scene": {
           "xaxis": {
            "backgroundcolor": "#E5ECF6",
            "gridcolor": "white",
            "gridwidth": 2,
            "linecolor": "white",
            "showbackground": true,
            "ticks": "",
            "zerolinecolor": "white"
           },
           "yaxis": {
            "backgroundcolor": "#E5ECF6",
            "gridcolor": "white",
            "gridwidth": 2,
            "linecolor": "white",
            "showbackground": true,
            "ticks": "",
            "zerolinecolor": "white"
           },
           "zaxis": {
            "backgroundcolor": "#E5ECF6",
            "gridcolor": "white",
            "gridwidth": 2,
            "linecolor": "white",
            "showbackground": true,
            "ticks": "",
            "zerolinecolor": "white"
           }
          },
          "shapedefaults": {
           "line": {
            "color": "#2a3f5f"
           }
          },
          "ternary": {
           "aaxis": {
            "gridcolor": "white",
            "linecolor": "white",
            "ticks": ""
           },
           "baxis": {
            "gridcolor": "white",
            "linecolor": "white",
            "ticks": ""
           },
           "bgcolor": "#E5ECF6",
           "caxis": {
            "gridcolor": "white",
            "linecolor": "white",
            "ticks": ""
           }
          },
          "title": {
           "x": 0.05
          },
          "xaxis": {
           "automargin": true,
           "gridcolor": "white",
           "linecolor": "white",
           "ticks": "",
           "title": {
            "standoff": 15
           },
           "zerolinecolor": "white",
           "zerolinewidth": 2
          },
          "yaxis": {
           "automargin": true,
           "gridcolor": "white",
           "linecolor": "white",
           "ticks": "",
           "title": {
            "standoff": 15
           },
           "zerolinecolor": "white",
           "zerolinewidth": 2
          }
         }
        },
        "xaxis": {
         "anchor": "y",
         "domain": [
          0,
          1
         ],
         "title": {
          "text": "Sector"
         }
        },
        "yaxis": {
         "anchor": "x",
         "domain": [
          0,
          1
         ],
         "title": {
          "text": "trt1m"
         }
        }
       }
      }
     },
     "metadata": {},
     "output_type": "display_data"
    }
   ],
   "source": [
    "fig = px.bar(sector_df_counts, x=\"Sector\", y=\"trt1m\", color=\"Inflation\", barmode=\"group\")\n",
    "fig.show()"
   ]
  },
  {
   "cell_type": "code",
   "execution_count": 413,
   "metadata": {},
   "outputs": [
    {
     "data": {
      "application/vnd.plotly.v1+json": {
       "config": {
        "plotlyServerURL": "https://plot.ly"
       },
       "data": [
        {
         "alignmentgroup": "True",
         "hovertemplate": "Inflation=deflation<br>IndustryGroup=%{x}<br>trt1m=%{y}<extra></extra>",
         "legendgroup": "deflation",
         "marker": {
          "color": "#636efa",
          "pattern": {
           "shape": ""
          }
         },
         "name": "deflation",
         "offsetgroup": "deflation",
         "orientation": "v",
         "showlegend": true,
         "textposition": "auto",
         "type": "bar",
         "x": [
          "Energy",
          "Materials",
          "Capital Goods",
          "Commercial & Professional Services",
          "Transportation",
          "Automobiles & Components",
          "Consumer Durables & Apparel",
          "Consumer Services",
          null,
          "Retailing",
          "Food & Staples Retailing",
          "Food, Beverage & Tobacco",
          "Household & Personal Products",
          "Health Care Equipment & Services",
          "Pharmaceuticals, Biotechnology & Life Sciences",
          "Banks",
          "Diversified Financials",
          "Insurance",
          null,
          "Software & Services",
          "Technology Hardware & Equipment",
          "Semiconductors & Semiconductor Equipment",
          "Telecommunication Services",
          "Media & Entertainment",
          "Utilities",
          "Real Estate"
         ],
         "xaxis": "x",
         "y": [
          1.5776145297089248,
          5.645867998591798,
          3.3587270768337807,
          3.2904175446633075,
          3.1176889408099684,
          4.820545439117523,
          3.050626037271449,
          2.850743903654485,
          6.042658081155433,
          4.59495759436518,
          4.414415723270441,
          4.432484526879588,
          4.23150472270364,
          4.979996869696398,
          6.776730568181819,
          0.7999508223024469,
          3.939882947739284,
          3.8635701452712716,
          2.9099069783197833,
          4.737368837430395,
          4.280077187592904,
          5.682650603902137,
          5.032959537572254,
          3.5264363331844573,
          2.5316432319764592,
          3.4717333333333333
         ],
         "yaxis": "y"
        },
        {
         "alignmentgroup": "True",
         "hovertemplate": "Inflation=low<br>IndustryGroup=%{x}<br>trt1m=%{y}<extra></extra>",
         "legendgroup": "low",
         "marker": {
          "color": "#EF553B",
          "pattern": {
           "shape": ""
          }
         },
         "name": "low",
         "offsetgroup": "low",
         "orientation": "v",
         "showlegend": true,
         "textposition": "auto",
         "type": "bar",
         "x": [
          "Energy",
          "Materials",
          "Capital Goods",
          "Commercial & Professional Services",
          "Transportation",
          "Automobiles & Components",
          "Consumer Durables & Apparel",
          "Consumer Services",
          null,
          "Retailing",
          "Food & Staples Retailing",
          "Food, Beverage & Tobacco",
          "Household & Personal Products",
          "Health Care Equipment & Services",
          "Pharmaceuticals, Biotechnology & Life Sciences",
          "Banks",
          "Diversified Financials",
          "Insurance",
          null,
          "Software & Services",
          "Technology Hardware & Equipment",
          "Semiconductors & Semiconductor Equipment",
          "Telecommunication Services",
          "Media & Entertainment",
          "Utilities",
          "Real Estate"
         ],
         "xaxis": "x",
         "y": [
          -0.39270828498010607,
          4.659620810846101,
          0.1682488488488489,
          1.0828488905435594,
          -1.002043808475509,
          1.1951330882352942,
          0.0795736261749819,
          1.2364077419354838,
          2.6750284938941657,
          1.483278683595055,
          1.0178756124721604,
          0.8941923308508952,
          2.305083604777416,
          1.2027082479642763,
          1.4794321134492223,
          -0.7708149916293137,
          0.014586400314898643,
          -1.0072349530646052,
          3.3710380222841225,
          1.9850467919983943,
          1.7369507013598888,
          1.029573223350254,
          0.9635111485537771,
          0.031350750000000024,
          0.9064299526963102,
          -0.5132653723404256
         ],
         "yaxis": "y"
        },
        {
         "alignmentgroup": "True",
         "hovertemplate": "Inflation=mid<br>IndustryGroup=%{x}<br>trt1m=%{y}<extra></extra>",
         "legendgroup": "mid",
         "marker": {
          "color": "#00cc96",
          "pattern": {
           "shape": ""
          }
         },
         "name": "mid",
         "offsetgroup": "mid",
         "orientation": "v",
         "showlegend": true,
         "textposition": "auto",
         "type": "bar",
         "x": [
          "Energy",
          "Materials",
          "Capital Goods",
          "Commercial & Professional Services",
          "Transportation",
          "Automobiles & Components",
          "Consumer Durables & Apparel",
          "Consumer Services",
          null,
          "Retailing",
          "Food & Staples Retailing",
          "Food, Beverage & Tobacco",
          "Household & Personal Products",
          "Health Care Equipment & Services",
          "Pharmaceuticals, Biotechnology & Life Sciences",
          "Banks",
          "Diversified Financials",
          "Insurance",
          null,
          "Software & Services",
          "Technology Hardware & Equipment",
          "Semiconductors & Semiconductor Equipment",
          "Telecommunication Services",
          "Media & Entertainment",
          "Utilities",
          "Real Estate"
         ],
         "xaxis": "x",
         "y": [
          1.6799698152917393,
          2.4812674590682655,
          2.1735663377928565,
          1.9599054693551208,
          1.6208777319511016,
          2.0583304873941493,
          1.5380139422141226,
          2.138640898976413,
          2.027643703955368,
          1.883508038942725,
          1.5807149176305644,
          1.987215786502317,
          2.9683103336344137,
          2.3755579754739777,
          2.5251687781437457,
          1.6284809859130036,
          2.120794160573093,
          1.5121744856857524,
          1.5771246519095623,
          3.0117192090740543,
          2.2368547739779547,
          2.4417814120462706,
          2.219837063979106,
          2.96112809282112,
          1.3009097307956103,
          1.77912544163614
         ],
         "yaxis": "y"
        },
        {
         "alignmentgroup": "True",
         "hovertemplate": "Inflation=high<br>IndustryGroup=%{x}<br>trt1m=%{y}<extra></extra>",
         "legendgroup": "high",
         "marker": {
          "color": "#ab63fa",
          "pattern": {
           "shape": ""
          }
         },
         "name": "high",
         "offsetgroup": "high",
         "orientation": "v",
         "showlegend": true,
         "textposition": "auto",
         "type": "bar",
         "x": [
          "Energy",
          "Materials",
          "Capital Goods",
          "Commercial & Professional Services",
          "Transportation",
          "Automobiles & Components",
          "Consumer Durables & Apparel",
          "Consumer Services",
          null,
          "Retailing",
          "Food & Staples Retailing",
          "Food, Beverage & Tobacco",
          "Household & Personal Products",
          "Health Care Equipment & Services",
          "Pharmaceuticals, Biotechnology & Life Sciences",
          "Banks",
          "Diversified Financials",
          "Insurance",
          null,
          "Software & Services",
          "Technology Hardware & Equipment",
          "Semiconductors & Semiconductor Equipment",
          "Telecommunication Services",
          "Media & Entertainment",
          "Utilities",
          "Real Estate"
         ],
         "xaxis": "x",
         "y": [
          2.0278252460033985,
          0.9053311174052374,
          1.0573847275458643,
          1.1258957230123308,
          0.7677355718931147,
          0.7228181945550946,
          0.9196045390491137,
          0.8516573674659574,
          1.0049160801191255,
          0.6982240819716495,
          1.020140228119485,
          0.5910451233669856,
          1.1190098187690651,
          0.9811053282510848,
          -0.329806156112465,
          0.8415992348618944,
          0.9252044389981207,
          1.114574238269348,
          1.1127284591509812,
          0.19215215398982186,
          1.0335754131323058,
          0.7837354066985646,
          0.5371960442159631,
          -0.39733744984395897,
          0.9639556417942404,
          0.7984808761583825
         ],
         "yaxis": "y"
        }
       ],
       "layout": {
        "barmode": "group",
        "legend": {
         "title": {
          "text": "Inflation"
         },
         "tracegroupgap": 0
        },
        "margin": {
         "t": 60
        },
        "template": {
         "data": {
          "bar": [
           {
            "error_x": {
             "color": "#2a3f5f"
            },
            "error_y": {
             "color": "#2a3f5f"
            },
            "marker": {
             "line": {
              "color": "#E5ECF6",
              "width": 0.5
             },
             "pattern": {
              "fillmode": "overlay",
              "size": 10,
              "solidity": 0.2
             }
            },
            "type": "bar"
           }
          ],
          "barpolar": [
           {
            "marker": {
             "line": {
              "color": "#E5ECF6",
              "width": 0.5
             },
             "pattern": {
              "fillmode": "overlay",
              "size": 10,
              "solidity": 0.2
             }
            },
            "type": "barpolar"
           }
          ],
          "carpet": [
           {
            "aaxis": {
             "endlinecolor": "#2a3f5f",
             "gridcolor": "white",
             "linecolor": "white",
             "minorgridcolor": "white",
             "startlinecolor": "#2a3f5f"
            },
            "baxis": {
             "endlinecolor": "#2a3f5f",
             "gridcolor": "white",
             "linecolor": "white",
             "minorgridcolor": "white",
             "startlinecolor": "#2a3f5f"
            },
            "type": "carpet"
           }
          ],
          "choropleth": [
           {
            "colorbar": {
             "outlinewidth": 0,
             "ticks": ""
            },
            "type": "choropleth"
           }
          ],
          "contour": [
           {
            "colorbar": {
             "outlinewidth": 0,
             "ticks": ""
            },
            "colorscale": [
             [
              0,
              "#0d0887"
             ],
             [
              0.1111111111111111,
              "#46039f"
             ],
             [
              0.2222222222222222,
              "#7201a8"
             ],
             [
              0.3333333333333333,
              "#9c179e"
             ],
             [
              0.4444444444444444,
              "#bd3786"
             ],
             [
              0.5555555555555556,
              "#d8576b"
             ],
             [
              0.6666666666666666,
              "#ed7953"
             ],
             [
              0.7777777777777778,
              "#fb9f3a"
             ],
             [
              0.8888888888888888,
              "#fdca26"
             ],
             [
              1,
              "#f0f921"
             ]
            ],
            "type": "contour"
           }
          ],
          "contourcarpet": [
           {
            "colorbar": {
             "outlinewidth": 0,
             "ticks": ""
            },
            "type": "contourcarpet"
           }
          ],
          "heatmap": [
           {
            "colorbar": {
             "outlinewidth": 0,
             "ticks": ""
            },
            "colorscale": [
             [
              0,
              "#0d0887"
             ],
             [
              0.1111111111111111,
              "#46039f"
             ],
             [
              0.2222222222222222,
              "#7201a8"
             ],
             [
              0.3333333333333333,
              "#9c179e"
             ],
             [
              0.4444444444444444,
              "#bd3786"
             ],
             [
              0.5555555555555556,
              "#d8576b"
             ],
             [
              0.6666666666666666,
              "#ed7953"
             ],
             [
              0.7777777777777778,
              "#fb9f3a"
             ],
             [
              0.8888888888888888,
              "#fdca26"
             ],
             [
              1,
              "#f0f921"
             ]
            ],
            "type": "heatmap"
           }
          ],
          "heatmapgl": [
           {
            "colorbar": {
             "outlinewidth": 0,
             "ticks": ""
            },
            "colorscale": [
             [
              0,
              "#0d0887"
             ],
             [
              0.1111111111111111,
              "#46039f"
             ],
             [
              0.2222222222222222,
              "#7201a8"
             ],
             [
              0.3333333333333333,
              "#9c179e"
             ],
             [
              0.4444444444444444,
              "#bd3786"
             ],
             [
              0.5555555555555556,
              "#d8576b"
             ],
             [
              0.6666666666666666,
              "#ed7953"
             ],
             [
              0.7777777777777778,
              "#fb9f3a"
             ],
             [
              0.8888888888888888,
              "#fdca26"
             ],
             [
              1,
              "#f0f921"
             ]
            ],
            "type": "heatmapgl"
           }
          ],
          "histogram": [
           {
            "marker": {
             "pattern": {
              "fillmode": "overlay",
              "size": 10,
              "solidity": 0.2
             }
            },
            "type": "histogram"
           }
          ],
          "histogram2d": [
           {
            "colorbar": {
             "outlinewidth": 0,
             "ticks": ""
            },
            "colorscale": [
             [
              0,
              "#0d0887"
             ],
             [
              0.1111111111111111,
              "#46039f"
             ],
             [
              0.2222222222222222,
              "#7201a8"
             ],
             [
              0.3333333333333333,
              "#9c179e"
             ],
             [
              0.4444444444444444,
              "#bd3786"
             ],
             [
              0.5555555555555556,
              "#d8576b"
             ],
             [
              0.6666666666666666,
              "#ed7953"
             ],
             [
              0.7777777777777778,
              "#fb9f3a"
             ],
             [
              0.8888888888888888,
              "#fdca26"
             ],
             [
              1,
              "#f0f921"
             ]
            ],
            "type": "histogram2d"
           }
          ],
          "histogram2dcontour": [
           {
            "colorbar": {
             "outlinewidth": 0,
             "ticks": ""
            },
            "colorscale": [
             [
              0,
              "#0d0887"
             ],
             [
              0.1111111111111111,
              "#46039f"
             ],
             [
              0.2222222222222222,
              "#7201a8"
             ],
             [
              0.3333333333333333,
              "#9c179e"
             ],
             [
              0.4444444444444444,
              "#bd3786"
             ],
             [
              0.5555555555555556,
              "#d8576b"
             ],
             [
              0.6666666666666666,
              "#ed7953"
             ],
             [
              0.7777777777777778,
              "#fb9f3a"
             ],
             [
              0.8888888888888888,
              "#fdca26"
             ],
             [
              1,
              "#f0f921"
             ]
            ],
            "type": "histogram2dcontour"
           }
          ],
          "mesh3d": [
           {
            "colorbar": {
             "outlinewidth": 0,
             "ticks": ""
            },
            "type": "mesh3d"
           }
          ],
          "parcoords": [
           {
            "line": {
             "colorbar": {
              "outlinewidth": 0,
              "ticks": ""
             }
            },
            "type": "parcoords"
           }
          ],
          "pie": [
           {
            "automargin": true,
            "type": "pie"
           }
          ],
          "scatter": [
           {
            "marker": {
             "colorbar": {
              "outlinewidth": 0,
              "ticks": ""
             }
            },
            "type": "scatter"
           }
          ],
          "scatter3d": [
           {
            "line": {
             "colorbar": {
              "outlinewidth": 0,
              "ticks": ""
             }
            },
            "marker": {
             "colorbar": {
              "outlinewidth": 0,
              "ticks": ""
             }
            },
            "type": "scatter3d"
           }
          ],
          "scattercarpet": [
           {
            "marker": {
             "colorbar": {
              "outlinewidth": 0,
              "ticks": ""
             }
            },
            "type": "scattercarpet"
           }
          ],
          "scattergeo": [
           {
            "marker": {
             "colorbar": {
              "outlinewidth": 0,
              "ticks": ""
             }
            },
            "type": "scattergeo"
           }
          ],
          "scattergl": [
           {
            "marker": {
             "colorbar": {
              "outlinewidth": 0,
              "ticks": ""
             }
            },
            "type": "scattergl"
           }
          ],
          "scattermapbox": [
           {
            "marker": {
             "colorbar": {
              "outlinewidth": 0,
              "ticks": ""
             }
            },
            "type": "scattermapbox"
           }
          ],
          "scatterpolar": [
           {
            "marker": {
             "colorbar": {
              "outlinewidth": 0,
              "ticks": ""
             }
            },
            "type": "scatterpolar"
           }
          ],
          "scatterpolargl": [
           {
            "marker": {
             "colorbar": {
              "outlinewidth": 0,
              "ticks": ""
             }
            },
            "type": "scatterpolargl"
           }
          ],
          "scatterternary": [
           {
            "marker": {
             "colorbar": {
              "outlinewidth": 0,
              "ticks": ""
             }
            },
            "type": "scatterternary"
           }
          ],
          "surface": [
           {
            "colorbar": {
             "outlinewidth": 0,
             "ticks": ""
            },
            "colorscale": [
             [
              0,
              "#0d0887"
             ],
             [
              0.1111111111111111,
              "#46039f"
             ],
             [
              0.2222222222222222,
              "#7201a8"
             ],
             [
              0.3333333333333333,
              "#9c179e"
             ],
             [
              0.4444444444444444,
              "#bd3786"
             ],
             [
              0.5555555555555556,
              "#d8576b"
             ],
             [
              0.6666666666666666,
              "#ed7953"
             ],
             [
              0.7777777777777778,
              "#fb9f3a"
             ],
             [
              0.8888888888888888,
              "#fdca26"
             ],
             [
              1,
              "#f0f921"
             ]
            ],
            "type": "surface"
           }
          ],
          "table": [
           {
            "cells": {
             "fill": {
              "color": "#EBF0F8"
             },
             "line": {
              "color": "white"
             }
            },
            "header": {
             "fill": {
              "color": "#C8D4E3"
             },
             "line": {
              "color": "white"
             }
            },
            "type": "table"
           }
          ]
         },
         "layout": {
          "annotationdefaults": {
           "arrowcolor": "#2a3f5f",
           "arrowhead": 0,
           "arrowwidth": 1
          },
          "autotypenumbers": "strict",
          "coloraxis": {
           "colorbar": {
            "outlinewidth": 0,
            "ticks": ""
           }
          },
          "colorscale": {
           "diverging": [
            [
             0,
             "#8e0152"
            ],
            [
             0.1,
             "#c51b7d"
            ],
            [
             0.2,
             "#de77ae"
            ],
            [
             0.3,
             "#f1b6da"
            ],
            [
             0.4,
             "#fde0ef"
            ],
            [
             0.5,
             "#f7f7f7"
            ],
            [
             0.6,
             "#e6f5d0"
            ],
            [
             0.7,
             "#b8e186"
            ],
            [
             0.8,
             "#7fbc41"
            ],
            [
             0.9,
             "#4d9221"
            ],
            [
             1,
             "#276419"
            ]
           ],
           "sequential": [
            [
             0,
             "#0d0887"
            ],
            [
             0.1111111111111111,
             "#46039f"
            ],
            [
             0.2222222222222222,
             "#7201a8"
            ],
            [
             0.3333333333333333,
             "#9c179e"
            ],
            [
             0.4444444444444444,
             "#bd3786"
            ],
            [
             0.5555555555555556,
             "#d8576b"
            ],
            [
             0.6666666666666666,
             "#ed7953"
            ],
            [
             0.7777777777777778,
             "#fb9f3a"
            ],
            [
             0.8888888888888888,
             "#fdca26"
            ],
            [
             1,
             "#f0f921"
            ]
           ],
           "sequentialminus": [
            [
             0,
             "#0d0887"
            ],
            [
             0.1111111111111111,
             "#46039f"
            ],
            [
             0.2222222222222222,
             "#7201a8"
            ],
            [
             0.3333333333333333,
             "#9c179e"
            ],
            [
             0.4444444444444444,
             "#bd3786"
            ],
            [
             0.5555555555555556,
             "#d8576b"
            ],
            [
             0.6666666666666666,
             "#ed7953"
            ],
            [
             0.7777777777777778,
             "#fb9f3a"
            ],
            [
             0.8888888888888888,
             "#fdca26"
            ],
            [
             1,
             "#f0f921"
            ]
           ]
          },
          "colorway": [
           "#636efa",
           "#EF553B",
           "#00cc96",
           "#ab63fa",
           "#FFA15A",
           "#19d3f3",
           "#FF6692",
           "#B6E880",
           "#FF97FF",
           "#FECB52"
          ],
          "font": {
           "color": "#2a3f5f"
          },
          "geo": {
           "bgcolor": "white",
           "lakecolor": "white",
           "landcolor": "#E5ECF6",
           "showlakes": true,
           "showland": true,
           "subunitcolor": "white"
          },
          "hoverlabel": {
           "align": "left"
          },
          "hovermode": "closest",
          "mapbox": {
           "style": "light"
          },
          "paper_bgcolor": "white",
          "plot_bgcolor": "#E5ECF6",
          "polar": {
           "angularaxis": {
            "gridcolor": "white",
            "linecolor": "white",
            "ticks": ""
           },
           "bgcolor": "#E5ECF6",
           "radialaxis": {
            "gridcolor": "white",
            "linecolor": "white",
            "ticks": ""
           }
          },
          "scene": {
           "xaxis": {
            "backgroundcolor": "#E5ECF6",
            "gridcolor": "white",
            "gridwidth": 2,
            "linecolor": "white",
            "showbackground": true,
            "ticks": "",
            "zerolinecolor": "white"
           },
           "yaxis": {
            "backgroundcolor": "#E5ECF6",
            "gridcolor": "white",
            "gridwidth": 2,
            "linecolor": "white",
            "showbackground": true,
            "ticks": "",
            "zerolinecolor": "white"
           },
           "zaxis": {
            "backgroundcolor": "#E5ECF6",
            "gridcolor": "white",
            "gridwidth": 2,
            "linecolor": "white",
            "showbackground": true,
            "ticks": "",
            "zerolinecolor": "white"
           }
          },
          "shapedefaults": {
           "line": {
            "color": "#2a3f5f"
           }
          },
          "ternary": {
           "aaxis": {
            "gridcolor": "white",
            "linecolor": "white",
            "ticks": ""
           },
           "baxis": {
            "gridcolor": "white",
            "linecolor": "white",
            "ticks": ""
           },
           "bgcolor": "#E5ECF6",
           "caxis": {
            "gridcolor": "white",
            "linecolor": "white",
            "ticks": ""
           }
          },
          "title": {
           "x": 0.05
          },
          "xaxis": {
           "automargin": true,
           "gridcolor": "white",
           "linecolor": "white",
           "ticks": "",
           "title": {
            "standoff": 15
           },
           "zerolinecolor": "white",
           "zerolinewidth": 2
          },
          "yaxis": {
           "automargin": true,
           "gridcolor": "white",
           "linecolor": "white",
           "ticks": "",
           "title": {
            "standoff": 15
           },
           "zerolinecolor": "white",
           "zerolinewidth": 2
          }
         }
        },
        "xaxis": {
         "anchor": "y",
         "domain": [
          0,
          1
         ],
         "title": {
          "text": "IndustryGroup"
         }
        },
        "yaxis": {
         "anchor": "x",
         "domain": [
          0,
          1
         ],
         "title": {
          "text": "trt1m"
         }
        }
       }
      }
     },
     "metadata": {},
     "output_type": "display_data"
    }
   ],
   "source": [
    "group_df = group.to_frame().reset_index().rename({\"level_0\": \"regime\", \"level_1\": \"industry\"}, axis=1).merge(gics[[\"IndustryGroup\", \"IndustryGroupId\"]], how=\"left\", left_on=\"ggroup\", right_on=\"IndustryGroupId\")\n",
    "group_df.drop_duplicates(inplace=True)\n",
    "\n",
    "fig = px.bar(group_df, x=\"IndustryGroup\", y=\"trt1m\", color=\"Inflation\", barmode=\"group\")\n",
    "fig.show()"
   ]
  },
  {
   "cell_type": "code",
   "execution_count": 414,
   "metadata": {},
   "outputs": [
    {
     "data": {
      "application/vnd.plotly.v1+json": {
       "config": {
        "plotlyServerURL": "https://plot.ly"
       },
       "data": [
        {
         "alignmentgroup": "True",
         "hovertemplate": "Inflation=deflation<br>Industry=%{x}<br>trt1m=%{y}<extra></extra>",
         "legendgroup": "deflation",
         "marker": {
          "color": "#636efa",
          "pattern": {
           "shape": ""
          }
         },
         "name": "deflation",
         "offsetgroup": "deflation",
         "orientation": "v",
         "showlegend": true,
         "textposition": "auto",
         "type": "bar",
         "x": [
          "Energy Equipment & Services",
          "Oil, Gas & Consumable Fuels",
          "Chemicals",
          "Construction Materials",
          "Containers & Packaging",
          "Metals & Mining",
          "Paper & Forest Products",
          "Aerospace & Defense",
          "Building Products",
          "Construction & Engineering",
          "Electrical Equipment",
          "Industrial Conglomerates",
          "Machinery",
          "Trading Companies & Distributors",
          "Commercial Services & Supplies",
          "Professional Services",
          "Air Freight & Logistics",
          "Airlines",
          "Marine",
          "Road & Rail",
          "Transportation Infrastructure",
          "Auto Components",
          "Automobiles",
          "Household Durables",
          "Leisure Products",
          "Textiles, Apparel & Luxury Goods",
          "Hotels, Restaurants & Leisure",
          "Diversified Consumer Services",
          null,
          "Distributors",
          "Internet & Direct Marketing Retail",
          "Multiline Retail",
          "Specialty Retail",
          "Food & Staples Retailing",
          "Beverages",
          "Food Products",
          "Tobacco",
          "Household Products",
          "Personal Products",
          "Health Care Equipment & Supplies",
          "Health Care Providers & Services",
          "Health Care Technology",
          "Biotechnology",
          "Pharmaceuticals",
          "Life Sciences Tools & Services",
          "Banks",
          "Thrifts & Mortgage Finance",
          "Diversified Financial Services",
          "Consumer Finance",
          "Capital Markets",
          "Mortgage Real Estate Investment \n Trusts (REITs)",
          "Insurance",
          null,
          null,
          null,
          null,
          "IT Services",
          "Software",
          "Communications Equipment",
          "Technology Hardware, Storage & Peripherals",
          "Electronic Equipment, Instruments & Components",
          null,
          null,
          "Semiconductors & Semiconductor Equipment",
          "Diversified Telecommunication Services",
          "Wireless Telecommunication Services",
          "Media",
          "Entertainment",
          "Interactive Media & Services",
          "Electric Utilities",
          "Gas Utilities",
          "Multi-Utilities",
          "Water Utilities",
          "Independent Power and Renewable Electricity Producers",
          "Equity Real Estate Investment Trusts (REITs)",
          "Real Estate Management & Development"
         ],
         "xaxis": "x",
         "y": [
          0.5158240855548667,
          1.7726903297454297,
          4.656246810089021,
          4.960482447665057,
          5.642457159624413,
          5.772338430081065,
          6.6447234791889,
          3.0904019599303134,
          4.319917996289425,
          3.059922038567493,
          3.066430365377794,
          4.137785,
          3.932153274295036,
          2.0507149284253576,
          3.5239572738641103,
          2.650484009137636,
          4.018885178236397,
          3.0473821989528798,
          1.1295104609929079,
          3.8848327568667345,
          2.9554131147540983,
          4.191806217315515,
          6.5218979559748425,
          3.399808824693312,
          0.752065547024952,
          3.764507645115621,
          3.0233341793934176,
          2.265497957695113,
          6.042658081155433,
          2.3033113812154693,
          4.175180197044335,
          2.4014766666666665,
          5.825774138496882,
          4.414415723270441,
          3.991222328767123,
          5.153865606848059,
          -1.1010467741935483,
          2.5482286458333334,
          4.567460031185032,
          4.59028359680119,
          5.267166467065868,
          5.753553398853399,
          7.136526141196484,
          6.580874142156863,
          5.310538532883642,
          0.5376674829157176,
          1.8826885101381134,
          2.7489502481389576,
          5.173421462264151,
          4.130991429581198,
          3.4152868686868687,
          3.8635701452712716,
          2.6228286792452833,
          2.808084,
          3.0987303206997088,
          4.4931746747064425,
          4.050214541942605,
          5.147342799647842,
          4.032616827063284,
          4.774904535017222,
          4.233930020833333,
          1.9763083333333331,
          8.705627777777778,
          5.682650603902137,
          5.819680175616346,
          2.7446689587426323,
          4.769586787280702,
          2.860916686893204,
          2.362688767395626,
          2.030114211438475,
          2.1342632688927945,
          0.9390457746478874,
          2.2365192307692308,
          3.9323915845337374,
          2.9849989583333336,
          4.1864319092827005
         ],
         "yaxis": "y"
        },
        {
         "alignmentgroup": "True",
         "hovertemplate": "Inflation=low<br>Industry=%{x}<br>trt1m=%{y}<extra></extra>",
         "legendgroup": "low",
         "marker": {
          "color": "#EF553B",
          "pattern": {
           "shape": ""
          }
         },
         "name": "low",
         "offsetgroup": "low",
         "orientation": "v",
         "showlegend": true,
         "textposition": "auto",
         "type": "bar",
         "x": [
          "Energy Equipment & Services",
          "Oil, Gas & Consumable Fuels",
          "Chemicals",
          "Construction Materials",
          "Containers & Packaging",
          "Metals & Mining",
          "Paper & Forest Products",
          "Aerospace & Defense",
          "Building Products",
          "Construction & Engineering",
          "Electrical Equipment",
          "Industrial Conglomerates",
          "Machinery",
          "Trading Companies & Distributors",
          "Commercial Services & Supplies",
          "Professional Services",
          "Air Freight & Logistics",
          "Airlines",
          "Marine",
          "Road & Rail",
          "Transportation Infrastructure",
          "Auto Components",
          "Automobiles",
          "Household Durables",
          "Leisure Products",
          "Textiles, Apparel & Luxury Goods",
          "Hotels, Restaurants & Leisure",
          "Diversified Consumer Services",
          null,
          "Distributors",
          "Internet & Direct Marketing Retail",
          "Multiline Retail",
          "Specialty Retail",
          "Food & Staples Retailing",
          "Beverages",
          "Food Products",
          "Tobacco",
          "Household Products",
          "Personal Products",
          "Health Care Equipment & Supplies",
          "Health Care Providers & Services",
          "Health Care Technology",
          "Biotechnology",
          "Pharmaceuticals",
          "Life Sciences Tools & Services",
          "Banks",
          "Thrifts & Mortgage Finance",
          "Diversified Financial Services",
          "Consumer Finance",
          "Capital Markets",
          "Mortgage Real Estate Investment \n Trusts (REITs)",
          "Insurance",
          null,
          null,
          null,
          null,
          "IT Services",
          "Software",
          "Communications Equipment",
          "Technology Hardware, Storage & Peripherals",
          "Electronic Equipment, Instruments & Components",
          null,
          null,
          "Semiconductors & Semiconductor Equipment",
          "Diversified Telecommunication Services",
          "Wireless Telecommunication Services",
          "Media",
          "Entertainment",
          "Interactive Media & Services",
          "Electric Utilities",
          "Gas Utilities",
          "Multi-Utilities",
          "Water Utilities",
          "Independent Power and Renewable Electricity Producers",
          "Equity Real Estate Investment Trusts (REITs)",
          "Real Estate Management & Development"
         ],
         "xaxis": "x",
         "y": [
          -2.7520887848101268,
          0.06915874715036179,
          0.7374348578491966,
          -0.882968093922652,
          0.21043640350877194,
          5.52008306194875,
          -0.4858644736842106,
          -0.8076358388221619,
          1.61841977124183,
          0.7672149158444573,
          0.3601411689961881,
          -1.4181456273764257,
          0.5410497916666667,
          -0.7638134207870838,
          1.06403653217012,
          1.1233440375586854,
          1.4481165067178503,
          -1.2264637892376682,
          -3.8311219298245613,
          -0.1341138989169676,
          -1.2419687645687647,
          1.1255305696559503,
          1.3472974106041924,
          0.7766269695706544,
          -1.87268763326226,
          0.15200646924829153,
          0.7997991036632892,
          2.563822156398104,
          2.6750284938941657,
          5.7359492159227985,
          1.7776206920903956,
          1.4546547385620914,
          0.22896922339405562,
          1.0178756124721604,
          -0.24839673491975656,
          1.547028834203331,
          -0.2735889812889814,
          1.3663532110091743,
          2.480969488611947,
          1.1987005096169654,
          1.0955228114691704,
          1.5225342161775235,
          1.7072082774049218,
          1.0781696748093978,
          1.7556854930725345,
          -0.8985734546657843,
          -0.20420789550924567,
          0.622839391891892,
          0.031049397590361478,
          -0.027924992797464694,
          -0.8207596774193548,
          -1.0072349530646052,
          1.5355999999999999,
          1.0621624584717608,
          6.536795890410958,
          0.7413965903307889,
          1.4873728901584005,
          2.4625755229438178,
          2.2092603600654663,
          1.5616567845659164,
          1.5052892019789201,
          -7.359028947368421,
          7.744511904761905,
          1.029573223350254,
          1.413275142531357,
          -0.3088856989247312,
          -0.5473028455284552,
          1.730376622329706,
          -1.284817436661699,
          1.3187641463414634,
          1.570689166666667,
          0.4314669467787115,
          1.6437804159445406,
          0.14705275397796824,
          -1.1829150227617602,
          0.5493744066047472
         ],
         "yaxis": "y"
        },
        {
         "alignmentgroup": "True",
         "hovertemplate": "Inflation=mid<br>Industry=%{x}<br>trt1m=%{y}<extra></extra>",
         "legendgroup": "mid",
         "marker": {
          "color": "#00cc96",
          "pattern": {
           "shape": ""
          }
         },
         "name": "mid",
         "offsetgroup": "mid",
         "orientation": "v",
         "showlegend": true,
         "textposition": "auto",
         "type": "bar",
         "x": [
          "Energy Equipment & Services",
          "Oil, Gas & Consumable Fuels",
          "Chemicals",
          "Construction Materials",
          "Containers & Packaging",
          "Metals & Mining",
          "Paper & Forest Products",
          "Aerospace & Defense",
          "Building Products",
          "Construction & Engineering",
          "Electrical Equipment",
          "Industrial Conglomerates",
          "Machinery",
          "Trading Companies & Distributors",
          "Commercial Services & Supplies",
          "Professional Services",
          "Air Freight & Logistics",
          "Airlines",
          "Marine",
          "Road & Rail",
          "Transportation Infrastructure",
          "Auto Components",
          "Automobiles",
          "Household Durables",
          "Leisure Products",
          "Textiles, Apparel & Luxury Goods",
          "Hotels, Restaurants & Leisure",
          "Diversified Consumer Services",
          null,
          "Distributors",
          "Internet & Direct Marketing Retail",
          "Multiline Retail",
          "Specialty Retail",
          "Food & Staples Retailing",
          "Beverages",
          "Food Products",
          "Tobacco",
          "Household Products",
          "Personal Products",
          "Health Care Equipment & Supplies",
          "Health Care Providers & Services",
          "Health Care Technology",
          "Biotechnology",
          "Pharmaceuticals",
          "Life Sciences Tools & Services",
          "Banks",
          "Thrifts & Mortgage Finance",
          "Diversified Financial Services",
          "Consumer Finance",
          "Capital Markets",
          "Mortgage Real Estate Investment \n Trusts (REITs)",
          "Insurance",
          null,
          null,
          null,
          null,
          "IT Services",
          "Software",
          "Communications Equipment",
          "Technology Hardware, Storage & Peripherals",
          "Electronic Equipment, Instruments & Components",
          null,
          null,
          "Semiconductors & Semiconductor Equipment",
          "Diversified Telecommunication Services",
          "Wireless Telecommunication Services",
          "Media",
          "Entertainment",
          "Interactive Media & Services",
          "Electric Utilities",
          "Gas Utilities",
          "Multi-Utilities",
          "Water Utilities",
          "Independent Power and Renewable Electricity Producers",
          "Equity Real Estate Investment Trusts (REITs)",
          "Real Estate Management & Development"
         ],
         "xaxis": "x",
         "y": [
          1.392354386184197,
          1.7372851460240364,
          2.2573812717445327,
          2.292655210777923,
          1.8586129224303976,
          2.591246062018641,
          1.7298303381194997,
          2.6555437064191962,
          1.8200292169201189,
          1.7153834560487022,
          2.340284572388094,
          1.5132006825006827,
          2.1238375085865258,
          2.257149277944486,
          1.8627597556452942,
          2.369964551898074,
          1.9097414670658683,
          1.7670875028751054,
          1.6581455703211518,
          1.3553579970472442,
          1.79388029867892,
          2.057390493094101,
          2.0610836578449905,
          1.5446954187745925,
          1.5294726245847177,
          1.534388072872189,
          2.073934254170816,
          2.438896120714245,
          2.027643703955368,
          2.244510516057586,
          2.63634812135214,
          0.9984198617651527,
          1.7315567485240009,
          1.5807149176305644,
          1.986585185991811,
          1.945228500430255,
          2.4569207967193907,
          0.9776598742497857,
          3.458305828350334,
          2.2538407224043717,
          2.364607985586095,
          3.1775511546488926,
          2.438665200557237,
          2.669768291681333,
          2.472584685349066,
          1.6169033311014396,
          1.68253881240105,
          1.778826548948201,
          2.342209861469829,
          2.304393332526459,
          1.7327754919184821,
          1.5121744856857524,
          1.4650702596719432,
          0.9561326791076792,
          2.625500335137922,
          2.8762977614811795,
          2.727788466058537,
          3.1730415940716847,
          2.3432835729202925,
          1.9284991039325843,
          2.301738146210158,
          2.0413692799070846,
          2.243398864189518,
          2.4417814120462706,
          2.141050676973949,
          2.419594675126041,
          2.3261685251240696,
          3.4926306493141706,
          3.3072388176932614,
          0.9158410480349345,
          1.377366886451971,
          0.6991863719115735,
          2.0392487840726883,
          2.0842063548047767,
          1.3597320064857952,
          2.461436410923277
         ],
         "yaxis": "y"
        },
        {
         "alignmentgroup": "True",
         "hovertemplate": "Inflation=high<br>Industry=%{x}<br>trt1m=%{y}<extra></extra>",
         "legendgroup": "high",
         "marker": {
          "color": "#ab63fa",
          "pattern": {
           "shape": ""
          }
         },
         "name": "high",
         "offsetgroup": "high",
         "orientation": "v",
         "showlegend": true,
         "textposition": "auto",
         "type": "bar",
         "x": [
          "Energy Equipment & Services",
          "Oil, Gas & Consumable Fuels",
          "Chemicals",
          "Construction Materials",
          "Containers & Packaging",
          "Metals & Mining",
          "Paper & Forest Products",
          "Aerospace & Defense",
          "Building Products",
          "Construction & Engineering",
          "Electrical Equipment",
          "Industrial Conglomerates",
          "Machinery",
          "Trading Companies & Distributors",
          "Commercial Services & Supplies",
          "Professional Services",
          "Air Freight & Logistics",
          "Airlines",
          "Marine",
          "Road & Rail",
          "Transportation Infrastructure",
          "Auto Components",
          "Automobiles",
          "Household Durables",
          "Leisure Products",
          "Textiles, Apparel & Luxury Goods",
          "Hotels, Restaurants & Leisure",
          "Diversified Consumer Services",
          null,
          "Distributors",
          "Internet & Direct Marketing Retail",
          "Multiline Retail",
          "Specialty Retail",
          "Food & Staples Retailing",
          "Beverages",
          "Food Products",
          "Tobacco",
          "Household Products",
          "Personal Products",
          "Health Care Equipment & Supplies",
          "Health Care Providers & Services",
          "Health Care Technology",
          "Biotechnology",
          "Pharmaceuticals",
          "Life Sciences Tools & Services",
          "Banks",
          "Thrifts & Mortgage Finance",
          "Diversified Financial Services",
          "Consumer Finance",
          "Capital Markets",
          "Mortgage Real Estate Investment \n Trusts (REITs)",
          "Insurance",
          null,
          null,
          null,
          null,
          "IT Services",
          "Software",
          "Communications Equipment",
          "Technology Hardware, Storage & Peripherals",
          "Electronic Equipment, Instruments & Components",
          null,
          null,
          "Semiconductors & Semiconductor Equipment",
          "Diversified Telecommunication Services",
          "Wireless Telecommunication Services",
          "Media",
          "Entertainment",
          "Interactive Media & Services",
          "Electric Utilities",
          "Gas Utilities",
          "Multi-Utilities",
          "Water Utilities",
          "Independent Power and Renewable Electricity Producers",
          "Equity Real Estate Investment Trusts (REITs)",
          "Real Estate Management & Development"
         ],
         "xaxis": "x",
         "y": [
          1.8507396714905051,
          2.0632384686301806,
          0.9513257365801158,
          1.2024951531029966,
          0.7856163637393127,
          0.8857764033209,
          0.9133603875526001,
          1.0582359509885826,
          1.1463944009338054,
          0.9309771893340728,
          0.8337829136593042,
          0.7765277521842732,
          1.1150713307733051,
          1.5076525821243327,
          1.1933465645027685,
          0.6839877106540989,
          0.5502153786104605,
          0.3417249825864871,
          0.5006978473581213,
          1.128091929310589,
          0.930322699386503,
          0.9239485953355885,
          0.04355565175565173,
          0.9874626426070751,
          0.9865740066225166,
          0.8073194759825328,
          1.0033435061918266,
          -0.11767109950859948,
          1.0049160801191255,
          1.009986119798749,
          -0.7746403300521134,
          1.1437877726536207,
          0.6776048933476186,
          1.020140228119485,
          0.3900247692899257,
          0.6049160864967968,
          1.1769148860398861,
          1.2883269389384062,
          1.0564603400825634,
          0.9741928473915912,
          1.1396798061900524,
          -0.021633920763217154,
          -0.5106566260364255,
          -0.32215029328597133,
          0.5904063704945515,
          0.8604653442254258,
          0.7209002283887176,
          1.2045624239326225,
          0.6798207859649124,
          0.7534587015753492,
          -0.23434215767634853,
          1.114574238269348,
          1.196049377204172,
          0.889360329405083,
          1.0091866506794565,
          -0.08291298855870383,
          0.11970718173945318,
          0.3113412005867529,
          0.8109592356115108,
          0.90377111898017,
          1.2331161150367667,
          0.6991445932701731,
          1.36165012037645,
          0.7837354066985646,
          0.5208276970059085,
          0.5808073317413992,
          -0.010487200317020016,
          -0.5138339234211835,
          -1.1524015146632292,
          0.9437957506001661,
          1.1653358950201884,
          0.8917215442499591,
          1.3528773843808233,
          0.36978814726840853,
          0.8245526782069078,
          0.754970436737753
         ],
         "yaxis": "y"
        }
       ],
       "layout": {
        "barmode": "group",
        "legend": {
         "title": {
          "text": "Inflation"
         },
         "tracegroupgap": 0
        },
        "margin": {
         "t": 60
        },
        "template": {
         "data": {
          "bar": [
           {
            "error_x": {
             "color": "#2a3f5f"
            },
            "error_y": {
             "color": "#2a3f5f"
            },
            "marker": {
             "line": {
              "color": "#E5ECF6",
              "width": 0.5
             },
             "pattern": {
              "fillmode": "overlay",
              "size": 10,
              "solidity": 0.2
             }
            },
            "type": "bar"
           }
          ],
          "barpolar": [
           {
            "marker": {
             "line": {
              "color": "#E5ECF6",
              "width": 0.5
             },
             "pattern": {
              "fillmode": "overlay",
              "size": 10,
              "solidity": 0.2
             }
            },
            "type": "barpolar"
           }
          ],
          "carpet": [
           {
            "aaxis": {
             "endlinecolor": "#2a3f5f",
             "gridcolor": "white",
             "linecolor": "white",
             "minorgridcolor": "white",
             "startlinecolor": "#2a3f5f"
            },
            "baxis": {
             "endlinecolor": "#2a3f5f",
             "gridcolor": "white",
             "linecolor": "white",
             "minorgridcolor": "white",
             "startlinecolor": "#2a3f5f"
            },
            "type": "carpet"
           }
          ],
          "choropleth": [
           {
            "colorbar": {
             "outlinewidth": 0,
             "ticks": ""
            },
            "type": "choropleth"
           }
          ],
          "contour": [
           {
            "colorbar": {
             "outlinewidth": 0,
             "ticks": ""
            },
            "colorscale": [
             [
              0,
              "#0d0887"
             ],
             [
              0.1111111111111111,
              "#46039f"
             ],
             [
              0.2222222222222222,
              "#7201a8"
             ],
             [
              0.3333333333333333,
              "#9c179e"
             ],
             [
              0.4444444444444444,
              "#bd3786"
             ],
             [
              0.5555555555555556,
              "#d8576b"
             ],
             [
              0.6666666666666666,
              "#ed7953"
             ],
             [
              0.7777777777777778,
              "#fb9f3a"
             ],
             [
              0.8888888888888888,
              "#fdca26"
             ],
             [
              1,
              "#f0f921"
             ]
            ],
            "type": "contour"
           }
          ],
          "contourcarpet": [
           {
            "colorbar": {
             "outlinewidth": 0,
             "ticks": ""
            },
            "type": "contourcarpet"
           }
          ],
          "heatmap": [
           {
            "colorbar": {
             "outlinewidth": 0,
             "ticks": ""
            },
            "colorscale": [
             [
              0,
              "#0d0887"
             ],
             [
              0.1111111111111111,
              "#46039f"
             ],
             [
              0.2222222222222222,
              "#7201a8"
             ],
             [
              0.3333333333333333,
              "#9c179e"
             ],
             [
              0.4444444444444444,
              "#bd3786"
             ],
             [
              0.5555555555555556,
              "#d8576b"
             ],
             [
              0.6666666666666666,
              "#ed7953"
             ],
             [
              0.7777777777777778,
              "#fb9f3a"
             ],
             [
              0.8888888888888888,
              "#fdca26"
             ],
             [
              1,
              "#f0f921"
             ]
            ],
            "type": "heatmap"
           }
          ],
          "heatmapgl": [
           {
            "colorbar": {
             "outlinewidth": 0,
             "ticks": ""
            },
            "colorscale": [
             [
              0,
              "#0d0887"
             ],
             [
              0.1111111111111111,
              "#46039f"
             ],
             [
              0.2222222222222222,
              "#7201a8"
             ],
             [
              0.3333333333333333,
              "#9c179e"
             ],
             [
              0.4444444444444444,
              "#bd3786"
             ],
             [
              0.5555555555555556,
              "#d8576b"
             ],
             [
              0.6666666666666666,
              "#ed7953"
             ],
             [
              0.7777777777777778,
              "#fb9f3a"
             ],
             [
              0.8888888888888888,
              "#fdca26"
             ],
             [
              1,
              "#f0f921"
             ]
            ],
            "type": "heatmapgl"
           }
          ],
          "histogram": [
           {
            "marker": {
             "pattern": {
              "fillmode": "overlay",
              "size": 10,
              "solidity": 0.2
             }
            },
            "type": "histogram"
           }
          ],
          "histogram2d": [
           {
            "colorbar": {
             "outlinewidth": 0,
             "ticks": ""
            },
            "colorscale": [
             [
              0,
              "#0d0887"
             ],
             [
              0.1111111111111111,
              "#46039f"
             ],
             [
              0.2222222222222222,
              "#7201a8"
             ],
             [
              0.3333333333333333,
              "#9c179e"
             ],
             [
              0.4444444444444444,
              "#bd3786"
             ],
             [
              0.5555555555555556,
              "#d8576b"
             ],
             [
              0.6666666666666666,
              "#ed7953"
             ],
             [
              0.7777777777777778,
              "#fb9f3a"
             ],
             [
              0.8888888888888888,
              "#fdca26"
             ],
             [
              1,
              "#f0f921"
             ]
            ],
            "type": "histogram2d"
           }
          ],
          "histogram2dcontour": [
           {
            "colorbar": {
             "outlinewidth": 0,
             "ticks": ""
            },
            "colorscale": [
             [
              0,
              "#0d0887"
             ],
             [
              0.1111111111111111,
              "#46039f"
             ],
             [
              0.2222222222222222,
              "#7201a8"
             ],
             [
              0.3333333333333333,
              "#9c179e"
             ],
             [
              0.4444444444444444,
              "#bd3786"
             ],
             [
              0.5555555555555556,
              "#d8576b"
             ],
             [
              0.6666666666666666,
              "#ed7953"
             ],
             [
              0.7777777777777778,
              "#fb9f3a"
             ],
             [
              0.8888888888888888,
              "#fdca26"
             ],
             [
              1,
              "#f0f921"
             ]
            ],
            "type": "histogram2dcontour"
           }
          ],
          "mesh3d": [
           {
            "colorbar": {
             "outlinewidth": 0,
             "ticks": ""
            },
            "type": "mesh3d"
           }
          ],
          "parcoords": [
           {
            "line": {
             "colorbar": {
              "outlinewidth": 0,
              "ticks": ""
             }
            },
            "type": "parcoords"
           }
          ],
          "pie": [
           {
            "automargin": true,
            "type": "pie"
           }
          ],
          "scatter": [
           {
            "marker": {
             "colorbar": {
              "outlinewidth": 0,
              "ticks": ""
             }
            },
            "type": "scatter"
           }
          ],
          "scatter3d": [
           {
            "line": {
             "colorbar": {
              "outlinewidth": 0,
              "ticks": ""
             }
            },
            "marker": {
             "colorbar": {
              "outlinewidth": 0,
              "ticks": ""
             }
            },
            "type": "scatter3d"
           }
          ],
          "scattercarpet": [
           {
            "marker": {
             "colorbar": {
              "outlinewidth": 0,
              "ticks": ""
             }
            },
            "type": "scattercarpet"
           }
          ],
          "scattergeo": [
           {
            "marker": {
             "colorbar": {
              "outlinewidth": 0,
              "ticks": ""
             }
            },
            "type": "scattergeo"
           }
          ],
          "scattergl": [
           {
            "marker": {
             "colorbar": {
              "outlinewidth": 0,
              "ticks": ""
             }
            },
            "type": "scattergl"
           }
          ],
          "scattermapbox": [
           {
            "marker": {
             "colorbar": {
              "outlinewidth": 0,
              "ticks": ""
             }
            },
            "type": "scattermapbox"
           }
          ],
          "scatterpolar": [
           {
            "marker": {
             "colorbar": {
              "outlinewidth": 0,
              "ticks": ""
             }
            },
            "type": "scatterpolar"
           }
          ],
          "scatterpolargl": [
           {
            "marker": {
             "colorbar": {
              "outlinewidth": 0,
              "ticks": ""
             }
            },
            "type": "scatterpolargl"
           }
          ],
          "scatterternary": [
           {
            "marker": {
             "colorbar": {
              "outlinewidth": 0,
              "ticks": ""
             }
            },
            "type": "scatterternary"
           }
          ],
          "surface": [
           {
            "colorbar": {
             "outlinewidth": 0,
             "ticks": ""
            },
            "colorscale": [
             [
              0,
              "#0d0887"
             ],
             [
              0.1111111111111111,
              "#46039f"
             ],
             [
              0.2222222222222222,
              "#7201a8"
             ],
             [
              0.3333333333333333,
              "#9c179e"
             ],
             [
              0.4444444444444444,
              "#bd3786"
             ],
             [
              0.5555555555555556,
              "#d8576b"
             ],
             [
              0.6666666666666666,
              "#ed7953"
             ],
             [
              0.7777777777777778,
              "#fb9f3a"
             ],
             [
              0.8888888888888888,
              "#fdca26"
             ],
             [
              1,
              "#f0f921"
             ]
            ],
            "type": "surface"
           }
          ],
          "table": [
           {
            "cells": {
             "fill": {
              "color": "#EBF0F8"
             },
             "line": {
              "color": "white"
             }
            },
            "header": {
             "fill": {
              "color": "#C8D4E3"
             },
             "line": {
              "color": "white"
             }
            },
            "type": "table"
           }
          ]
         },
         "layout": {
          "annotationdefaults": {
           "arrowcolor": "#2a3f5f",
           "arrowhead": 0,
           "arrowwidth": 1
          },
          "autotypenumbers": "strict",
          "coloraxis": {
           "colorbar": {
            "outlinewidth": 0,
            "ticks": ""
           }
          },
          "colorscale": {
           "diverging": [
            [
             0,
             "#8e0152"
            ],
            [
             0.1,
             "#c51b7d"
            ],
            [
             0.2,
             "#de77ae"
            ],
            [
             0.3,
             "#f1b6da"
            ],
            [
             0.4,
             "#fde0ef"
            ],
            [
             0.5,
             "#f7f7f7"
            ],
            [
             0.6,
             "#e6f5d0"
            ],
            [
             0.7,
             "#b8e186"
            ],
            [
             0.8,
             "#7fbc41"
            ],
            [
             0.9,
             "#4d9221"
            ],
            [
             1,
             "#276419"
            ]
           ],
           "sequential": [
            [
             0,
             "#0d0887"
            ],
            [
             0.1111111111111111,
             "#46039f"
            ],
            [
             0.2222222222222222,
             "#7201a8"
            ],
            [
             0.3333333333333333,
             "#9c179e"
            ],
            [
             0.4444444444444444,
             "#bd3786"
            ],
            [
             0.5555555555555556,
             "#d8576b"
            ],
            [
             0.6666666666666666,
             "#ed7953"
            ],
            [
             0.7777777777777778,
             "#fb9f3a"
            ],
            [
             0.8888888888888888,
             "#fdca26"
            ],
            [
             1,
             "#f0f921"
            ]
           ],
           "sequentialminus": [
            [
             0,
             "#0d0887"
            ],
            [
             0.1111111111111111,
             "#46039f"
            ],
            [
             0.2222222222222222,
             "#7201a8"
            ],
            [
             0.3333333333333333,
             "#9c179e"
            ],
            [
             0.4444444444444444,
             "#bd3786"
            ],
            [
             0.5555555555555556,
             "#d8576b"
            ],
            [
             0.6666666666666666,
             "#ed7953"
            ],
            [
             0.7777777777777778,
             "#fb9f3a"
            ],
            [
             0.8888888888888888,
             "#fdca26"
            ],
            [
             1,
             "#f0f921"
            ]
           ]
          },
          "colorway": [
           "#636efa",
           "#EF553B",
           "#00cc96",
           "#ab63fa",
           "#FFA15A",
           "#19d3f3",
           "#FF6692",
           "#B6E880",
           "#FF97FF",
           "#FECB52"
          ],
          "font": {
           "color": "#2a3f5f"
          },
          "geo": {
           "bgcolor": "white",
           "lakecolor": "white",
           "landcolor": "#E5ECF6",
           "showlakes": true,
           "showland": true,
           "subunitcolor": "white"
          },
          "hoverlabel": {
           "align": "left"
          },
          "hovermode": "closest",
          "mapbox": {
           "style": "light"
          },
          "paper_bgcolor": "white",
          "plot_bgcolor": "#E5ECF6",
          "polar": {
           "angularaxis": {
            "gridcolor": "white",
            "linecolor": "white",
            "ticks": ""
           },
           "bgcolor": "#E5ECF6",
           "radialaxis": {
            "gridcolor": "white",
            "linecolor": "white",
            "ticks": ""
           }
          },
          "scene": {
           "xaxis": {
            "backgroundcolor": "#E5ECF6",
            "gridcolor": "white",
            "gridwidth": 2,
            "linecolor": "white",
            "showbackground": true,
            "ticks": "",
            "zerolinecolor": "white"
           },
           "yaxis": {
            "backgroundcolor": "#E5ECF6",
            "gridcolor": "white",
            "gridwidth": 2,
            "linecolor": "white",
            "showbackground": true,
            "ticks": "",
            "zerolinecolor": "white"
           },
           "zaxis": {
            "backgroundcolor": "#E5ECF6",
            "gridcolor": "white",
            "gridwidth": 2,
            "linecolor": "white",
            "showbackground": true,
            "ticks": "",
            "zerolinecolor": "white"
           }
          },
          "shapedefaults": {
           "line": {
            "color": "#2a3f5f"
           }
          },
          "ternary": {
           "aaxis": {
            "gridcolor": "white",
            "linecolor": "white",
            "ticks": ""
           },
           "baxis": {
            "gridcolor": "white",
            "linecolor": "white",
            "ticks": ""
           },
           "bgcolor": "#E5ECF6",
           "caxis": {
            "gridcolor": "white",
            "linecolor": "white",
            "ticks": ""
           }
          },
          "title": {
           "x": 0.05
          },
          "xaxis": {
           "automargin": true,
           "gridcolor": "white",
           "linecolor": "white",
           "ticks": "",
           "title": {
            "standoff": 15
           },
           "zerolinecolor": "white",
           "zerolinewidth": 2
          },
          "yaxis": {
           "automargin": true,
           "gridcolor": "white",
           "linecolor": "white",
           "ticks": "",
           "title": {
            "standoff": 15
           },
           "zerolinecolor": "white",
           "zerolinewidth": 2
          }
         }
        },
        "xaxis": {
         "anchor": "y",
         "domain": [
          0,
          1
         ],
         "title": {
          "text": "Industry"
         }
        },
        "yaxis": {
         "anchor": "x",
         "domain": [
          0,
          1
         ],
         "title": {
          "text": "trt1m"
         }
        }
       }
      }
     },
     "metadata": {},
     "output_type": "display_data"
    }
   ],
   "source": [
    "ind_df = ind.to_frame().reset_index().rename({\"level_0\": \"regime\", \"level_1\": \"industry\"}, axis=1).merge(gics[[\"Industry\", \"IndustryId\"]], how=\"left\", left_on=\"gind\", right_on=\"IndustryId\")\n",
    "ind_df.drop_duplicates(inplace=True)\n",
    "\n",
    "fig = px.bar(ind_df, x=\"Industry\", y=\"trt1m\", color=\"Inflation\", barmode=\"group\")\n",
    "fig.show()"
   ]
  },
  {
   "cell_type": "code",
   "execution_count": 415,
   "metadata": {},
   "outputs": [
    {
     "data": {
      "text/html": [
       "<div>\n",
       "<style scoped>\n",
       "    .dataframe tbody tr th:only-of-type {\n",
       "        vertical-align: middle;\n",
       "    }\n",
       "\n",
       "    .dataframe tbody tr th {\n",
       "        vertical-align: top;\n",
       "    }\n",
       "\n",
       "    .dataframe thead th {\n",
       "        text-align: right;\n",
       "    }\n",
       "</style>\n",
       "<table border=\"1\" class=\"dataframe\">\n",
       "  <thead>\n",
       "    <tr style=\"text-align: right;\">\n",
       "      <th></th>\n",
       "      <th>SectorId</th>\n",
       "      <th>Sector</th>\n",
       "      <th>IndustryGroupId</th>\n",
       "      <th>IndustryGroup</th>\n",
       "      <th>IndustryId</th>\n",
       "      <th>Industry</th>\n",
       "      <th>SubIndustryId</th>\n",
       "      <th>SubIndustry</th>\n",
       "      <th>SubIndustryDescription</th>\n",
       "    </tr>\n",
       "  </thead>\n",
       "  <tbody>\n",
       "    <tr>\n",
       "      <th>0</th>\n",
       "      <td>10</td>\n",
       "      <td>Energy</td>\n",
       "      <td>1010</td>\n",
       "      <td>Energy</td>\n",
       "      <td>101010</td>\n",
       "      <td>Energy Equipment &amp; Services</td>\n",
       "      <td>10101010</td>\n",
       "      <td>Oil &amp; Gas Drilling</td>\n",
       "      <td>Drilling contractors or owners of drilling rig...</td>\n",
       "    </tr>\n",
       "    <tr>\n",
       "      <th>1</th>\n",
       "      <td>10</td>\n",
       "      <td>Energy</td>\n",
       "      <td>1010</td>\n",
       "      <td>Energy</td>\n",
       "      <td>101010</td>\n",
       "      <td>Energy Equipment &amp; Services</td>\n",
       "      <td>10101020</td>\n",
       "      <td>Oil &amp; Gas Equipment &amp; Services</td>\n",
       "      <td>Manufacturers of equipment, including drilling...</td>\n",
       "    </tr>\n",
       "    <tr>\n",
       "      <th>2</th>\n",
       "      <td>10</td>\n",
       "      <td>Energy</td>\n",
       "      <td>1010</td>\n",
       "      <td>Energy</td>\n",
       "      <td>101020</td>\n",
       "      <td>Oil, Gas &amp; Consumable Fuels</td>\n",
       "      <td>10102010</td>\n",
       "      <td>Integrated Oil &amp; Gas</td>\n",
       "      <td>Integrated oil companies engaged in the explor...</td>\n",
       "    </tr>\n",
       "    <tr>\n",
       "      <th>3</th>\n",
       "      <td>10</td>\n",
       "      <td>Energy</td>\n",
       "      <td>1010</td>\n",
       "      <td>Energy</td>\n",
       "      <td>101020</td>\n",
       "      <td>Oil, Gas &amp; Consumable Fuels</td>\n",
       "      <td>10102020</td>\n",
       "      <td>Oil &amp; Gas Exploration &amp; Production</td>\n",
       "      <td>Companies engaged in the exploration and produ...</td>\n",
       "    </tr>\n",
       "    <tr>\n",
       "      <th>4</th>\n",
       "      <td>10</td>\n",
       "      <td>Energy</td>\n",
       "      <td>1010</td>\n",
       "      <td>Energy</td>\n",
       "      <td>101020</td>\n",
       "      <td>Oil, Gas &amp; Consumable Fuels</td>\n",
       "      <td>10102030</td>\n",
       "      <td>Oil &amp; Gas Refining &amp; Marketing</td>\n",
       "      <td>Companies engaged in the refining and marketin...</td>\n",
       "    </tr>\n",
       "    <tr>\n",
       "      <th>...</th>\n",
       "      <td>...</td>\n",
       "      <td>...</td>\n",
       "      <td>...</td>\n",
       "      <td>...</td>\n",
       "      <td>...</td>\n",
       "      <td>...</td>\n",
       "      <td>...</td>\n",
       "      <td>...</td>\n",
       "      <td>...</td>\n",
       "    </tr>\n",
       "    <tr>\n",
       "      <th>153</th>\n",
       "      <td>60</td>\n",
       "      <td>Real Estate</td>\n",
       "      <td>6010</td>\n",
       "      <td>Real Estate</td>\n",
       "      <td>601010</td>\n",
       "      <td>Equity Real Estate Investment Trusts (REITs)</td>\n",
       "      <td>60101080</td>\n",
       "      <td>Specialized REITs</td>\n",
       "      <td>Companies or Trusts engaged in the acquisition...</td>\n",
       "    </tr>\n",
       "    <tr>\n",
       "      <th>154</th>\n",
       "      <td>60</td>\n",
       "      <td>Real Estate</td>\n",
       "      <td>6010</td>\n",
       "      <td>Real Estate</td>\n",
       "      <td>601020</td>\n",
       "      <td>Real Estate Management &amp; Development</td>\n",
       "      <td>60102010</td>\n",
       "      <td>Diversified Real Estate Activities</td>\n",
       "      <td>Companies engaged in a diverse spectrum of rea...</td>\n",
       "    </tr>\n",
       "    <tr>\n",
       "      <th>155</th>\n",
       "      <td>60</td>\n",
       "      <td>Real Estate</td>\n",
       "      <td>6010</td>\n",
       "      <td>Real Estate</td>\n",
       "      <td>601020</td>\n",
       "      <td>Real Estate Management &amp; Development</td>\n",
       "      <td>60102020</td>\n",
       "      <td>Real Estate Operating Companies</td>\n",
       "      <td>Companies engaged in operating real estate pro...</td>\n",
       "    </tr>\n",
       "    <tr>\n",
       "      <th>156</th>\n",
       "      <td>60</td>\n",
       "      <td>Real Estate</td>\n",
       "      <td>6010</td>\n",
       "      <td>Real Estate</td>\n",
       "      <td>601020</td>\n",
       "      <td>Real Estate Management &amp; Development</td>\n",
       "      <td>60102030</td>\n",
       "      <td>Real Estate Development</td>\n",
       "      <td>Companies that develop real estate and sell th...</td>\n",
       "    </tr>\n",
       "    <tr>\n",
       "      <th>157</th>\n",
       "      <td>60</td>\n",
       "      <td>Real Estate</td>\n",
       "      <td>6010</td>\n",
       "      <td>Real Estate</td>\n",
       "      <td>601020</td>\n",
       "      <td>Real Estate Management &amp; Development</td>\n",
       "      <td>60102040</td>\n",
       "      <td>Real Estate Services</td>\n",
       "      <td>Real estate service providers such as real est...</td>\n",
       "    </tr>\n",
       "  </tbody>\n",
       "</table>\n",
       "<p>158 rows × 9 columns</p>\n",
       "</div>"
      ],
      "text/plain": [
       "     SectorId       Sector  IndustryGroupId IndustryGroup  IndustryId  \\\n",
       "0          10       Energy             1010        Energy      101010   \n",
       "1          10       Energy             1010        Energy      101010   \n",
       "2          10       Energy             1010        Energy      101020   \n",
       "3          10       Energy             1010        Energy      101020   \n",
       "4          10       Energy             1010        Energy      101020   \n",
       "..        ...          ...              ...           ...         ...   \n",
       "153        60  Real Estate             6010   Real Estate      601010   \n",
       "154        60  Real Estate             6010   Real Estate      601020   \n",
       "155        60  Real Estate             6010   Real Estate      601020   \n",
       "156        60  Real Estate             6010   Real Estate      601020   \n",
       "157        60  Real Estate             6010   Real Estate      601020   \n",
       "\n",
       "                                         Industry  SubIndustryId  \\\n",
       "0                     Energy Equipment & Services       10101010   \n",
       "1                     Energy Equipment & Services       10101020   \n",
       "2                     Oil, Gas & Consumable Fuels       10102010   \n",
       "3                     Oil, Gas & Consumable Fuels       10102020   \n",
       "4                     Oil, Gas & Consumable Fuels       10102030   \n",
       "..                                            ...            ...   \n",
       "153  Equity Real Estate Investment Trusts (REITs)       60101080   \n",
       "154          Real Estate Management & Development       60102010   \n",
       "155          Real Estate Management & Development       60102020   \n",
       "156          Real Estate Management & Development       60102030   \n",
       "157          Real Estate Management & Development       60102040   \n",
       "\n",
       "                            SubIndustry  \\\n",
       "0                    Oil & Gas Drilling   \n",
       "1        Oil & Gas Equipment & Services   \n",
       "2                  Integrated Oil & Gas   \n",
       "3    Oil & Gas Exploration & Production   \n",
       "4        Oil & Gas Refining & Marketing   \n",
       "..                                  ...   \n",
       "153                   Specialized REITs   \n",
       "154  Diversified Real Estate Activities   \n",
       "155     Real Estate Operating Companies   \n",
       "156             Real Estate Development   \n",
       "157                Real Estate Services   \n",
       "\n",
       "                                SubIndustryDescription  \n",
       "0    Drilling contractors or owners of drilling rig...  \n",
       "1    Manufacturers of equipment, including drilling...  \n",
       "2    Integrated oil companies engaged in the explor...  \n",
       "3    Companies engaged in the exploration and produ...  \n",
       "4    Companies engaged in the refining and marketin...  \n",
       "..                                                 ...  \n",
       "153  Companies or Trusts engaged in the acquisition...  \n",
       "154  Companies engaged in a diverse spectrum of rea...  \n",
       "155  Companies engaged in operating real estate pro...  \n",
       "156  Companies that develop real estate and sell th...  \n",
       "157  Real estate service providers such as real est...  \n",
       "\n",
       "[158 rows x 9 columns]"
      ]
     },
     "execution_count": 415,
     "metadata": {},
     "output_type": "execute_result"
    }
   ],
   "source": [
    "gics"
   ]
  },
  {
   "cell_type": "code",
   "execution_count": 416,
   "metadata": {},
   "outputs": [
    {
     "data": {
      "text/plain": [
       "['gvkey', 'ggroup', 'gind', 'gsector', 'gsubind']"
      ]
     },
     "execution_count": 416,
     "metadata": {},
     "output_type": "execute_result"
    }
   ],
   "source": [
    "gics_cols"
   ]
  },
  {
   "cell_type": "code",
   "execution_count": 417,
   "metadata": {},
   "outputs": [
    {
     "data": {
      "application/vnd.plotly.v1+json": {
       "config": {
        "plotlyServerURL": "https://plot.ly"
       },
       "data": [
        {
         "alignmentgroup": "True",
         "hovertemplate": "Inflation=deflation<br>SubIndustry=%{x}<br>trt1m=%{y}<extra></extra>",
         "legendgroup": "deflation",
         "marker": {
          "color": "#636efa",
          "pattern": {
           "shape": ""
          }
         },
         "name": "deflation",
         "offsetgroup": "deflation",
         "orientation": "v",
         "showlegend": true,
         "textposition": "auto",
         "type": "bar",
         "x": [
          "Oil & Gas Drilling",
          "Oil & Gas Equipment & Services",
          "Integrated Oil & Gas",
          "Oil & Gas Exploration & Production",
          "Oil & Gas Refining & Marketing",
          "Oil & Gas Storage & Transportation",
          "Coal & Consumable Fuels",
          "Commodity Chemicals",
          "Diversified Chemicals",
          "Fertilizers & Agricultural Chemicals",
          "Industrial Gases",
          "Specialty Chemicals",
          "Construction Materials",
          "Metal & Glass Containers",
          "Paper Packaging",
          "Aluminum",
          "Diversified Metals & Mining",
          "Copper",
          "Gold",
          "Precious Metals & Minerals",
          "Silver",
          "Steel",
          "Forest Products",
          "Paper Products",
          "Aerospace & Defense",
          "Building Products",
          "Construction & Engineering",
          "Electrical Components & Equipment",
          "Heavy Electrical Equipment",
          "Industrial Conglomerates",
          "Construction Machinery & Heavy Trucks",
          "Agricultural & Farm Machinery",
          "Industrial Machinery",
          "Trading Companies & Distributors",
          "Commercial Printing",
          null,
          null,
          null,
          "Environmental & Facilities Services",
          "Office Services & Supplies",
          "Diversified Support Services",
          "Security & Alarm Services",
          "Human Resource & Employment Services",
          "Research & Consulting Services",
          "Air Freight & Logistics",
          "Airlines",
          "Marine",
          "Railroads",
          "Trucking",
          "Airport Services",
          "Highways & Railtracks",
          "Marine Ports & Services",
          "Auto Parts & Equipment",
          "Tires & Rubber",
          "Automobile Manufacturers",
          "Motorcycle Manufacturers",
          "Consumer Electronics",
          "Home Furnishings",
          "Homebuilding",
          "Household Appliances",
          "Housewares & Specialties",
          "Leisure Products",
          null,
          "Apparel, Accessories & Luxury Goods",
          "Footwear",
          "Textiles",
          "Casinos & Gaming",
          "Hotels, Resorts & Cruise Lines",
          "Leisure Facilities",
          "Restaurants",
          "Education Services",
          "Specialized Consumer Services",
          null,
          null,
          null,
          null,
          null,
          "Distributors",
          null,
          "Internet & Direct Marketing Retail",
          "Department Stores",
          "General Merchandise Stores",
          "Apparel Retail",
          "Computer & Electronics Retail",
          "Home Improvement Retail",
          "Specialty Stores",
          "Automotive Retail",
          "Homefurnishing Retail",
          "Drug Retail",
          "Food Distributors",
          "Food Retail",
          "Hypermarkets & Super Centers",
          "Brewers",
          "Distillers & Vintners",
          "Soft Drinks",
          "Agricultural Products",
          null,
          "Packaged Foods & Meats",
          "Tobacco",
          "Household Products",
          "Personal Products",
          "Health Care Equipment",
          "Health Care Supplies",
          "Health Care Distributors",
          "Health Care Services",
          "Health Care Facilities",
          "Managed Health Care",
          "Health Care Technology",
          "Biotechnology",
          "Pharmaceuticals",
          "Life Sciences Tools & Services",
          "Diversified Banks",
          "Regional Banks",
          "Thrifts & Mortgage Finance",
          null,
          "Other Diversified Financial Services",
          "Multi-Sector Holdings",
          "Specialized Finance",
          "Consumer Finance",
          "Asset Management & Custody Banks",
          "Investment Banking & Brokerage",
          "Diversified Capital Markets",
          "Financial Exchanges & Data",
          "Mortgage REITs",
          "Insurance Brokers",
          "Life & Health Insurance",
          "Multi-line Insurance",
          "Property & Casualty Insurance",
          "Reinsurance",
          null,
          null,
          null,
          null,
          null,
          null,
          null,
          null,
          null,
          null,
          null,
          null,
          null,
          null,
          null,
          null,
          "IT Consulting & Other Services",
          "Data Processing & Outsourced Services",
          "Internet Services & Infrastructure",
          "Application Software",
          "Systems Software",
          null,
          null,
          "Communications Equipment",
          null,
          null,
          "Technology Hardware, Storage & Peripherals",
          "Electronic Equipment & Instruments",
          "Electronic Components",
          "Electronic Manufacturing Services",
          "Technology Distributors",
          null,
          null,
          null,
          "Semiconductor Equipment",
          "Semiconductors",
          "Alternative Carriers",
          "Integrated Telecommunication Services",
          "Wireless Telecommunication Services",
          "Advertising",
          "Broadcasting",
          "Cable & Satellite",
          "Publishing",
          "Movies & Entertainment",
          "Interactive Home Entertainment",
          "Interactive Media & Services",
          "Electric Utilities",
          "Gas Utilities",
          "Multi-Utilities",
          "Water Utilities",
          "Independent Power Producers & Energy Traders",
          "Renewable Electricity",
          "Diversified REITs",
          "Industrial REITs",
          "Hotel & Resort REITs",
          "Office REITs",
          "Health Care REITs",
          "Residential REITs",
          "Retail REITs",
          "Specialized REITs",
          "Diversified Real Estate Activities",
          "Real Estate Operating Companies",
          "Real Estate Development",
          "Real Estate Services"
         ],
         "xaxis": "x",
         "y": [
          -0.6965406427221172,
          0.7536219873934,
          2.781719117647059,
          1.4829746227486613,
          1.8527565610859729,
          0.9779004923076923,
          3.9707709677419354,
          3.7094752818733734,
          6.123488185654008,
          6.3699920598388955,
          2.536201587301587,
          4.367984267631103,
          4.960482447665057,
          3.8663618843683083,
          7.796837662337662,
          6.235210116731518,
          5.3528981400353555,
          5.236792510121457,
          6.7440720208981775,
          6.219148105263159,
          6.055926508226691,
          2.680052471225457,
          4.9654934831460675,
          8.163539227642277,
          3.0904019599303134,
          4.319917996289425,
          3.059922038567493,
          2.8015952711496745,
          4.254066342412451,
          4.137785,
          4.844409130913092,
          1.0632055555555555,
          3.8344549656464713,
          2.0507149284253576,
          6.161784770114943,
          0,
          3.4267350393700786,
          14.297541666666667,
          3.4384053488372093,
          4.8221375,
          1.8520021134593991,
          3.3573092957746473,
          2.2568658666666668,
          2.9454026973026974,
          4.018885178236397,
          3.0473821989528798,
          1.1295104609929079,
          1.4011371710526315,
          4.996826067746686,
          2.834588484848485,
          2.251798648648649,
          3.5223700787401575,
          4.28373407960199,
          2.8836646017699117,
          5.512625457875458,
          12.644817777777778,
          1.3497885860306644,
          6.86379624217119,
          3.247845983701979,
          4.292576978417266,
          1.6296188271604937,
          1.1389442588726513,
          -3.6601940476190475,
          2.8370768547875715,
          5.89175448275862,
          7.120288492063492,
          2.0945226945244957,
          3.7579168094218414,
          5.450674549098197,
          2.690646717724289,
          3.952824719101123,
          -0.10564017543859659,
          5.759257394366197,
          5.367131652173913,
          7.787319101123595,
          6.773122338204593,
          4.901528518518519,
          2.3033113812154693,
          1.7553912280701753,
          4.319155114822547,
          4.5140825203252035,
          0.797461111111111,
          6.076722841530055,
          4.9189432,
          5.94393537414966,
          4.2576759771210675,
          7.936651093439363,
          8.901642076502732,
          3.690536444444444,
          6.32363665158371,
          3.670113302034429,
          2.7712672,
          5.96889877675841,
          4.04168320610687,
          3.090504324324324,
          8.868623650793651,
          0,
          4.270959264873058,
          -1.1010467741935483,
          2.5482286458333334,
          4.567460031185032,
          4.495010070093458,
          4.961997994530538,
          4.126971595900439,
          5.998291580502215,
          5.29100444214876,
          3.03024263803681,
          5.753553398853399,
          7.136526141196484,
          6.580874142156863,
          5.310538532883642,
          4.27975313283208,
          -0.08171863436488837,
          1.8826885101381134,
          -0.36336036585365833,
          1.3864036866359448,
          5.417705775075987,
          3.075583211678832,
          5.173421462264151,
          3.8144667091836735,
          4.142184501557633,
          8.327761764705881,
          6.392562039660056,
          3.4152868686868687,
          1.509467901234568,
          4.659230495552732,
          4.876992114695341,
          3.563591408717625,
          4.68523525,
          -1.9122982142857141,
          3.837982296650718,
          -3.8492631578947365,
          5.84271,
          2.3805682539682538,
          3.0635880952380954,
          2.114948888888889,
          1.855318181818182,
          4.311495327102803,
          3.096343157894737,
          5.145154901960785,
          -0.442488038277512,
          6.039275847457627,
          3.4903612676056337,
          3.0031171717171716,
          4.4931746747064425,
          3.1599242088607595,
          5.666231689088191,
          2.8342133333333335,
          4.90939893828799,
          6.175611111111111,
          3.2560715053763443,
          28.2549,
          3.9119313599062133,
          5.8440052356020935,
          5.219814466546112,
          4.323768837675351,
          4.02269969947408,
          3.7097105015673977,
          6.157608685162847,
          3.1937177347242924,
          1.9763083333333331,
          0,
          9.217723529411765,
          4.4743767613038905,
          6.187070456540826,
          8.765405249343832,
          3.967664906490649,
          2.7446689587426323,
          2.8225424793388427,
          9.019613218390804,
          2.0368238255033555,
          4.202697994987469,
          3.971548761742101,
          0.1343964360587003,
          2.362688767395626,
          2.030114211438475,
          2.1342632688927945,
          0.9390457746478874,
          2.2365192307692308,
          3.8437625165562914,
          4.051035106382979,
          1.861914105263158,
          3.737465800865801,
          4.850151141552511,
          3.387461403508772,
          1.9813697297297297,
          2.2837299528301886,
          3.6957923208191126,
          2.6123888198757763,
          5.898608095238095,
          3.8890055319148935,
          2.827181971830986,
          4.424003867403314
         ],
         "yaxis": "y"
        },
        {
         "alignmentgroup": "True",
         "hovertemplate": "Inflation=low<br>SubIndustry=%{x}<br>trt1m=%{y}<extra></extra>",
         "legendgroup": "low",
         "marker": {
          "color": "#EF553B",
          "pattern": {
           "shape": ""
          }
         },
         "name": "low",
         "offsetgroup": "low",
         "orientation": "v",
         "showlegend": true,
         "textposition": "auto",
         "type": "bar",
         "x": [
          "Oil & Gas Drilling",
          "Oil & Gas Equipment & Services",
          "Integrated Oil & Gas",
          "Oil & Gas Exploration & Production",
          "Oil & Gas Refining & Marketing",
          "Oil & Gas Storage & Transportation",
          "Coal & Consumable Fuels",
          "Commodity Chemicals",
          "Diversified Chemicals",
          "Fertilizers & Agricultural Chemicals",
          "Industrial Gases",
          "Specialty Chemicals",
          "Construction Materials",
          "Metal & Glass Containers",
          "Paper Packaging",
          "Aluminum",
          "Diversified Metals & Mining",
          "Copper",
          "Gold",
          "Precious Metals & Minerals",
          "Silver",
          "Steel",
          "Forest Products",
          "Paper Products",
          "Aerospace & Defense",
          "Building Products",
          "Construction & Engineering",
          "Electrical Components & Equipment",
          "Heavy Electrical Equipment",
          "Industrial Conglomerates",
          "Construction Machinery & Heavy Trucks",
          "Agricultural & Farm Machinery",
          "Industrial Machinery",
          "Trading Companies & Distributors",
          "Commercial Printing",
          null,
          null,
          null,
          "Environmental & Facilities Services",
          "Office Services & Supplies",
          "Diversified Support Services",
          "Security & Alarm Services",
          "Human Resource & Employment Services",
          "Research & Consulting Services",
          "Air Freight & Logistics",
          "Airlines",
          "Marine",
          "Railroads",
          "Trucking",
          "Airport Services",
          "Highways & Railtracks",
          "Marine Ports & Services",
          "Auto Parts & Equipment",
          "Tires & Rubber",
          "Automobile Manufacturers",
          "Motorcycle Manufacturers",
          "Consumer Electronics",
          "Home Furnishings",
          "Homebuilding",
          "Household Appliances",
          "Housewares & Specialties",
          "Leisure Products",
          null,
          "Apparel, Accessories & Luxury Goods",
          "Footwear",
          "Textiles",
          "Casinos & Gaming",
          "Hotels, Resorts & Cruise Lines",
          "Leisure Facilities",
          "Restaurants",
          "Education Services",
          "Specialized Consumer Services",
          null,
          null,
          null,
          null,
          null,
          "Distributors",
          null,
          "Internet & Direct Marketing Retail",
          "Department Stores",
          "General Merchandise Stores",
          "Apparel Retail",
          "Computer & Electronics Retail",
          "Home Improvement Retail",
          "Specialty Stores",
          "Automotive Retail",
          "Homefurnishing Retail",
          "Drug Retail",
          "Food Distributors",
          "Food Retail",
          "Hypermarkets & Super Centers",
          "Brewers",
          "Distillers & Vintners",
          "Soft Drinks",
          "Agricultural Products",
          null,
          "Packaged Foods & Meats",
          "Tobacco",
          "Household Products",
          "Personal Products",
          "Health Care Equipment",
          "Health Care Supplies",
          "Health Care Distributors",
          "Health Care Services",
          "Health Care Facilities",
          "Managed Health Care",
          "Health Care Technology",
          "Biotechnology",
          "Pharmaceuticals",
          "Life Sciences Tools & Services",
          "Diversified Banks",
          "Regional Banks",
          "Thrifts & Mortgage Finance",
          null,
          "Other Diversified Financial Services",
          "Multi-Sector Holdings",
          "Specialized Finance",
          "Consumer Finance",
          "Asset Management & Custody Banks",
          "Investment Banking & Brokerage",
          "Diversified Capital Markets",
          "Financial Exchanges & Data",
          "Mortgage REITs",
          "Insurance Brokers",
          "Life & Health Insurance",
          "Multi-line Insurance",
          "Property & Casualty Insurance",
          "Reinsurance",
          null,
          null,
          null,
          null,
          null,
          null,
          null,
          null,
          null,
          null,
          null,
          null,
          null,
          null,
          null,
          null,
          "IT Consulting & Other Services",
          "Data Processing & Outsourced Services",
          "Internet Services & Infrastructure",
          "Application Software",
          "Systems Software",
          null,
          null,
          "Communications Equipment",
          null,
          null,
          "Technology Hardware, Storage & Peripherals",
          "Electronic Equipment & Instruments",
          "Electronic Components",
          "Electronic Manufacturing Services",
          "Technology Distributors",
          null,
          null,
          null,
          "Semiconductor Equipment",
          "Semiconductors",
          "Alternative Carriers",
          "Integrated Telecommunication Services",
          "Wireless Telecommunication Services",
          "Advertising",
          "Broadcasting",
          "Cable & Satellite",
          "Publishing",
          "Movies & Entertainment",
          "Interactive Home Entertainment",
          "Interactive Media & Services",
          "Electric Utilities",
          "Gas Utilities",
          "Multi-Utilities",
          "Water Utilities",
          "Independent Power Producers & Energy Traders",
          "Renewable Electricity",
          "Diversified REITs",
          "Industrial REITs",
          "Hotel & Resort REITs",
          "Office REITs",
          "Health Care REITs",
          "Residential REITs",
          "Retail REITs",
          "Specialized REITs",
          "Diversified Real Estate Activities",
          "Real Estate Operating Companies",
          "Real Estate Development",
          "Real Estate Services"
         ],
         "xaxis": "x",
         "y": [
          -3.985638834951456,
          -2.476650696810158,
          -0.6412835106382979,
          -0.4949735876423235,
          3.0519969491525423,
          -1.3606361379310346,
          3.532405083260298,
          1.6265516591251885,
          0.02585692883895126,
          0.17031034782608692,
          -0.24805120481927706,
          0.6483892544987147,
          -0.882968093922652,
          -0.544992125984252,
          1.1603316831683168,
          0.562406976744186,
          4.72965168472694,
          1.0084747474747475,
          7.397330856232577,
          5.998834304673975,
          8.935161395348837,
          0.8362452164009112,
          -0.9817016393442624,
          -0.025264467005076154,
          -0.8076358388221619,
          1.61841977124183,
          0.7672149158444573,
          0.10824319003615913,
          1.3115433990895295,
          -1.4181456273764257,
          -0.6304996469549866,
          2.602530476190476,
          0.7433168257756563,
          -0.7638134207870838,
          -0.9705794797687861,
          0,
          7.219341095890411,
          0,
          2.280825597115818,
          -2.090015510204082,
          0.7211614240170031,
          -2.9570081967213118,
          0.6401628643852979,
          1.407631841909023,
          1.4481165067178503,
          -1.2264637892376682,
          -3.8311219298245613,
          -0.8165397759103643,
          0.19028828229027958,
          -0.5000585714285715,
          -2.2163096774193547,
          -1.8495611464968154,
          1.1546027339003646,
          0.7487370078740159,
          0.8412237960339944,
          4.750040000000001,
          2.832460544217687,
          1.498312694300518,
          -1.2303271428571427,
          -1.2512509677419357,
          3.784200727272727,
          -1.7014852813852812,
          -13.172042857142857,
          0.2142896447922937,
          -0.47339016393442634,
          0.533201310043668,
          1.8864592722183342,
          -0.38996788461538456,
          0.8341134408602151,
          0.64083135391924,
          1.5495670231729055,
          4.5744127208480565,
          3.6118989436619717,
          5.582287727272727,
          -5.190263736263736,
          2.147817819706499,
          5.174367524115755,
          5.7359492159227985,
          0.7779200000000001,
          1.795587994248742,
          -0.18596000000000001,
          2.9814097791798106,
          -2.714788533057851,
          7.13010606060606,
          2.6656531791907514,
          0.9578376623376623,
          0.7734337683523655,
          -0.5591336363636364,
          1.5877143396226416,
          0.3130565130260522,
          1.259836590909091,
          0.9374269736842106,
          0.8298909604519774,
          0.012365328467153353,
          -0.8280779005524863,
          1.403751186440678,
          -3.3816,
          1.5890209754542555,
          -0.2735889812889814,
          1.3663532110091743,
          2.480969488611947,
          1.608573769495645,
          -0.5670449389179755,
          2.2743377926421404,
          1.5298491375291376,
          -1.5785225336322868,
          3.5422127450980394,
          1.5225342161775235,
          1.7072082774049218,
          1.0781696748093978,
          1.7556854930725345,
          -2.11180943318163,
          -0.667549160954857,
          -0.20420789550924567,
          2.9338459016393448,
          1.6484762057877813,
          -0.7832665689149563,
          0.6483122555410692,
          0.031049397590361478,
          -0.029678873239436576,
          -0.2939701726844584,
          -1.4382790322580645,
          0.8824273519163763,
          -0.8207596774193548,
          -0.9592728070175439,
          -1.5762299481865285,
          -1.7116410029498526,
          -0.776539263803681,
          0.13564595375722555,
          -0.07650606060606129,
          2.1138554347826086,
          5.97022962962963,
          -31.1699,
          1.54751,
          0.3352342105263158,
          3.4669500000000006,
          0.7451333333333333,
          0.25928314606741576,
          1.9937716666666665,
          -5.114999999999999,
          3.1931530864197524,
          4.239989795918368,
          13.66400909090909,
          8.328612068965516,
          0.7413965903307889,
          0.27813283582089554,
          1.9769841333333333,
          3.397225295857988,
          2.640458003017419,
          1.8130283624085537,
          0.19756190476190483,
          -16.66665,
          2.221625843432689,
          9.055174285714287,
          5.4712296875,
          0.5754354215003867,
          1.7417740361919745,
          1.6385890625000001,
          0.9763458438287154,
          1.0537185550082102,
          -7.359028947368421,
          0,
          7.93340243902439,
          0.38434346076458753,
          1.3267735866543096,
          1.2144862068965516,
          1.5324276595744681,
          -0.3088856989247312,
          -1.425560812294182,
          -0.91276912568306,
          1.3599504081632652,
          -0.3150860383944155,
          1.414553184357542,
          2.548501013024602,
          -1.284817436661699,
          1.3187641463414634,
          1.570689166666667,
          0.4314669467787115,
          1.6437804159445406,
          -0.4075365319865319,
          0.4638085576923077,
          -1.7942427284427285,
          -0.386329589041096,
          -2.468991968911917,
          -1.2732133561643835,
          -1.9004246200607902,
          -0.7218581792318635,
          -1.4308421281216068,
          0.41140328467153287,
          -1.066443551088777,
          0.7306859074733096,
          0.7735291902071563,
          2.1292526737967914
         ],
         "yaxis": "y"
        },
        {
         "alignmentgroup": "True",
         "hovertemplate": "Inflation=mid<br>SubIndustry=%{x}<br>trt1m=%{y}<extra></extra>",
         "legendgroup": "mid",
         "marker": {
          "color": "#00cc96",
          "pattern": {
           "shape": ""
          }
         },
         "name": "mid",
         "offsetgroup": "mid",
         "orientation": "v",
         "showlegend": true,
         "textposition": "auto",
         "type": "bar",
         "x": [
          "Oil & Gas Drilling",
          "Oil & Gas Equipment & Services",
          "Integrated Oil & Gas",
          "Oil & Gas Exploration & Production",
          "Oil & Gas Refining & Marketing",
          "Oil & Gas Storage & Transportation",
          "Coal & Consumable Fuels",
          "Commodity Chemicals",
          "Diversified Chemicals",
          "Fertilizers & Agricultural Chemicals",
          "Industrial Gases",
          "Specialty Chemicals",
          "Construction Materials",
          "Metal & Glass Containers",
          "Paper Packaging",
          "Aluminum",
          "Diversified Metals & Mining",
          "Copper",
          "Gold",
          "Precious Metals & Minerals",
          "Silver",
          "Steel",
          "Forest Products",
          "Paper Products",
          "Aerospace & Defense",
          "Building Products",
          "Construction & Engineering",
          "Electrical Components & Equipment",
          "Heavy Electrical Equipment",
          "Industrial Conglomerates",
          "Construction Machinery & Heavy Trucks",
          "Agricultural & Farm Machinery",
          "Industrial Machinery",
          "Trading Companies & Distributors",
          "Commercial Printing",
          null,
          null,
          null,
          "Environmental & Facilities Services",
          "Office Services & Supplies",
          "Diversified Support Services",
          "Security & Alarm Services",
          "Human Resource & Employment Services",
          "Research & Consulting Services",
          "Air Freight & Logistics",
          "Airlines",
          "Marine",
          "Railroads",
          "Trucking",
          "Airport Services",
          "Highways & Railtracks",
          "Marine Ports & Services",
          "Auto Parts & Equipment",
          "Tires & Rubber",
          "Automobile Manufacturers",
          "Motorcycle Manufacturers",
          "Consumer Electronics",
          "Home Furnishings",
          "Homebuilding",
          "Household Appliances",
          "Housewares & Specialties",
          "Leisure Products",
          null,
          "Apparel, Accessories & Luxury Goods",
          "Footwear",
          "Textiles",
          "Casinos & Gaming",
          "Hotels, Resorts & Cruise Lines",
          "Leisure Facilities",
          "Restaurants",
          "Education Services",
          "Specialized Consumer Services",
          null,
          null,
          null,
          null,
          null,
          "Distributors",
          null,
          "Internet & Direct Marketing Retail",
          "Department Stores",
          "General Merchandise Stores",
          "Apparel Retail",
          "Computer & Electronics Retail",
          "Home Improvement Retail",
          "Specialty Stores",
          "Automotive Retail",
          "Homefurnishing Retail",
          "Drug Retail",
          "Food Distributors",
          "Food Retail",
          "Hypermarkets & Super Centers",
          "Brewers",
          "Distillers & Vintners",
          "Soft Drinks",
          "Agricultural Products",
          null,
          "Packaged Foods & Meats",
          "Tobacco",
          "Household Products",
          "Personal Products",
          "Health Care Equipment",
          "Health Care Supplies",
          "Health Care Distributors",
          "Health Care Services",
          "Health Care Facilities",
          "Managed Health Care",
          "Health Care Technology",
          "Biotechnology",
          "Pharmaceuticals",
          "Life Sciences Tools & Services",
          "Diversified Banks",
          "Regional Banks",
          "Thrifts & Mortgage Finance",
          null,
          "Other Diversified Financial Services",
          "Multi-Sector Holdings",
          "Specialized Finance",
          "Consumer Finance",
          "Asset Management & Custody Banks",
          "Investment Banking & Brokerage",
          "Diversified Capital Markets",
          "Financial Exchanges & Data",
          "Mortgage REITs",
          "Insurance Brokers",
          "Life & Health Insurance",
          "Multi-line Insurance",
          "Property & Casualty Insurance",
          "Reinsurance",
          null,
          null,
          null,
          null,
          null,
          null,
          null,
          null,
          null,
          null,
          null,
          null,
          null,
          null,
          null,
          null,
          "IT Consulting & Other Services",
          "Data Processing & Outsourced Services",
          "Internet Services & Infrastructure",
          "Application Software",
          "Systems Software",
          null,
          null,
          "Communications Equipment",
          null,
          null,
          "Technology Hardware, Storage & Peripherals",
          "Electronic Equipment & Instruments",
          "Electronic Components",
          "Electronic Manufacturing Services",
          "Technology Distributors",
          null,
          null,
          null,
          "Semiconductor Equipment",
          "Semiconductors",
          "Alternative Carriers",
          "Integrated Telecommunication Services",
          "Wireless Telecommunication Services",
          "Advertising",
          "Broadcasting",
          "Cable & Satellite",
          "Publishing",
          "Movies & Entertainment",
          "Interactive Home Entertainment",
          "Interactive Media & Services",
          "Electric Utilities",
          "Gas Utilities",
          "Multi-Utilities",
          "Water Utilities",
          "Independent Power Producers & Energy Traders",
          "Renewable Electricity",
          "Diversified REITs",
          "Industrial REITs",
          "Hotel & Resort REITs",
          "Office REITs",
          "Health Care REITs",
          "Residential REITs",
          "Retail REITs",
          "Specialized REITs",
          "Diversified Real Estate Activities",
          "Real Estate Operating Companies",
          "Real Estate Development",
          "Real Estate Services"
         ],
         "xaxis": "x",
         "y": [
          0.9124409205756343,
          1.5046590719794344,
          1.2143622715277098,
          1.7068128831972949,
          2.189125811631641,
          1.4009886698545915,
          2.272116610479676,
          2.4220428729220744,
          1.8525279328478965,
          2.606429770340647,
          1.121404753282028,
          2.164025843639415,
          2.292655210777923,
          1.778387172518752,
          1.9516298966473404,
          2.282876956521739,
          3.0687831042522093,
          2.2009990612999575,
          2.0534018525210187,
          2.8858259054537796,
          2.732695932914046,
          1.713908844100173,
          2.03366463440631,
          1.4461629714399442,
          2.6555437064191962,
          1.8200292169201189,
          1.7153834560487022,
          2.3527241889429744,
          2.2720198328607673,
          1.5132006825006827,
          2.359917820352995,
          2.9058708966801117,
          2.016936368718988,
          2.257149277944486,
          0.9998937973273943,
          1.6625782868525898,
          1.6891750407686543,
          2.0064490172361658,
          2.1554891131769223,
          1.2510176133402815,
          2.5596744409824046,
          2.1041770273428373,
          1.7821906547802029,
          2.803269088986252,
          1.9097414670658683,
          1.7670875028751054,
          1.6581455703211518,
          1.0317061493662212,
          1.4858288910371495,
          2.8107886446886443,
          1.1188270731707317,
          1.0424678684091933,
          2.134572606336426,
          1.1474825010317788,
          2.012154434782609,
          2.38727847826087,
          1.6107957667192074,
          1.3663115069084628,
          1.5631917164133176,
          1.6155792713077426,
          1.5731688437661666,
          1.5610730190239868,
          1.334217717206133,
          1.5269452782491255,
          1.7668281094527363,
          1.3706844116429853,
          2.6035207367849384,
          2.533203161326035,
          2.6232570443349754,
          1.3961721747361173,
          2.613169552098067,
          2.1719738590410165,
          2.3758257192112917,
          2.3686171568948575,
          1.3054783137766188,
          1.600000760786871,
          2.130196487119438,
          2.244510516057586,
          2.7765168657256605,
          2.608048067226891,
          1.2558502512562815,
          0.8095336186462997,
          1.2688275611408857,
          1.9314388763197587,
          0.7847498517786562,
          1.7216147020042194,
          3.1817524306548473,
          1.849957280927835,
          1.937545046406216,
          2.192857386138614,
          1.191127072056239,
          1.223878445398188,
          1.0760118555806284,
          1.9315864860657013,
          2.506268646742157,
          2.576820702798178,
          0.24069818840579715,
          1.8169658763202876,
          2.4569207967193907,
          0.9776598742497857,
          3.458305828350334,
          2.218176221091768,
          2.4101690357121845,
          1.7298548299495666,
          2.7296833561082265,
          2.123997303634232,
          2.965598470661673,
          3.1775511546488926,
          2.438665200557237,
          2.669768291681333,
          2.472584685349066,
          1.7250890072757599,
          1.5708688166911404,
          1.68253881240105,
          0.3330003296185843,
          1.5696847856282992,
          3.143051860152398,
          2.599846137315999,
          2.342209861469829,
          2.1368764889176317,
          2.604844751028926,
          1.7087762170790102,
          3.155553333333333,
          1.7327754919184821,
          2.2222085854585774,
          1.7449098979531648,
          1.2124001226993866,
          1.384460214209211,
          0.7447497779657433,
          1.3192821049743964,
          1.6249037694235589,
          0.7229443682664055,
          0.9801851063829787,
          -0.025382820855614985,
          1.6914066445182725,
          1.0631919642857144,
          1.809327659574468,
          1.0967912599318956,
          1.9804012355212355,
          0.7634069549970778,
          3.780038364539549,
          2.0341874394575394,
          3.3978813888888886,
          0.525602489626556,
          2.8762977614811795,
          2.6471054376657825,
          2.4713951351932484,
          4.003645962843873,
          3.272635403615179,
          2.951346442584812,
          1.669665162907268,
          3.1325211538461537,
          2.3189880130597014,
          2.120954369406021,
          1.5486501769057575,
          2.267975305535586,
          2.4358747389658473,
          2.2429585208286924,
          1.6211542774751684,
          2.560231760690624,
          2.0413692799070846,
          2.071355129716981,
          2.3087192522946047,
          2.514263357834219,
          2.4072923748182005,
          3.1234868586110482,
          1.7286612085646313,
          2.419594675126041,
          3.1241467274890913,
          2.469821753664181,
          1.491099656426839,
          1.7772818826094858,
          3.5213357428166474,
          3.416322983387566,
          3.3072388176932614,
          0.9158410480349345,
          1.377366886451971,
          0.6991863719115735,
          2.0392487840726883,
          1.9237886613620405,
          2.264236506894288,
          1.7091142985611512,
          1.5532591314693636,
          1.2975153645833333,
          1.174266765838292,
          1.430273763306199,
          1.4212179645890313,
          1.1113069296375266,
          1.353969840015801,
          2.1832711467116357,
          2.0254440964749536,
          3.364404419087137,
          3.64069687732342
         ],
         "yaxis": "y"
        },
        {
         "alignmentgroup": "True",
         "hovertemplate": "Inflation=high<br>SubIndustry=%{x}<br>trt1m=%{y}<extra></extra>",
         "legendgroup": "high",
         "marker": {
          "color": "#ab63fa",
          "pattern": {
           "shape": ""
          }
         },
         "name": "high",
         "offsetgroup": "high",
         "orientation": "v",
         "showlegend": true,
         "textposition": "auto",
         "type": "bar",
         "x": [
          "Oil & Gas Drilling",
          "Oil & Gas Equipment & Services",
          "Integrated Oil & Gas",
          "Oil & Gas Exploration & Production",
          "Oil & Gas Refining & Marketing",
          "Oil & Gas Storage & Transportation",
          "Coal & Consumable Fuels",
          "Commodity Chemicals",
          "Diversified Chemicals",
          "Fertilizers & Agricultural Chemicals",
          "Industrial Gases",
          "Specialty Chemicals",
          "Construction Materials",
          "Metal & Glass Containers",
          "Paper Packaging",
          "Aluminum",
          "Diversified Metals & Mining",
          "Copper",
          "Gold",
          "Precious Metals & Minerals",
          "Silver",
          "Steel",
          "Forest Products",
          "Paper Products",
          "Aerospace & Defense",
          "Building Products",
          "Construction & Engineering",
          "Electrical Components & Equipment",
          "Heavy Electrical Equipment",
          "Industrial Conglomerates",
          "Construction Machinery & Heavy Trucks",
          "Agricultural & Farm Machinery",
          "Industrial Machinery",
          "Trading Companies & Distributors",
          "Commercial Printing",
          null,
          null,
          null,
          "Environmental & Facilities Services",
          "Office Services & Supplies",
          "Diversified Support Services",
          "Security & Alarm Services",
          "Human Resource & Employment Services",
          "Research & Consulting Services",
          "Air Freight & Logistics",
          "Airlines",
          "Marine",
          "Railroads",
          "Trucking",
          "Airport Services",
          "Highways & Railtracks",
          "Marine Ports & Services",
          "Auto Parts & Equipment",
          "Tires & Rubber",
          "Automobile Manufacturers",
          "Motorcycle Manufacturers",
          "Consumer Electronics",
          "Home Furnishings",
          "Homebuilding",
          "Household Appliances",
          "Housewares & Specialties",
          "Leisure Products",
          null,
          "Apparel, Accessories & Luxury Goods",
          "Footwear",
          "Textiles",
          "Casinos & Gaming",
          "Hotels, Resorts & Cruise Lines",
          "Leisure Facilities",
          "Restaurants",
          "Education Services",
          "Specialized Consumer Services",
          null,
          null,
          null,
          null,
          null,
          "Distributors",
          null,
          "Internet & Direct Marketing Retail",
          "Department Stores",
          "General Merchandise Stores",
          "Apparel Retail",
          "Computer & Electronics Retail",
          "Home Improvement Retail",
          "Specialty Stores",
          "Automotive Retail",
          "Homefurnishing Retail",
          "Drug Retail",
          "Food Distributors",
          "Food Retail",
          "Hypermarkets & Super Centers",
          "Brewers",
          "Distillers & Vintners",
          "Soft Drinks",
          "Agricultural Products",
          null,
          "Packaged Foods & Meats",
          "Tobacco",
          "Household Products",
          "Personal Products",
          "Health Care Equipment",
          "Health Care Supplies",
          "Health Care Distributors",
          "Health Care Services",
          "Health Care Facilities",
          "Managed Health Care",
          "Health Care Technology",
          "Biotechnology",
          "Pharmaceuticals",
          "Life Sciences Tools & Services",
          "Diversified Banks",
          "Regional Banks",
          "Thrifts & Mortgage Finance",
          null,
          "Other Diversified Financial Services",
          "Multi-Sector Holdings",
          "Specialized Finance",
          "Consumer Finance",
          "Asset Management & Custody Banks",
          "Investment Banking & Brokerage",
          "Diversified Capital Markets",
          "Financial Exchanges & Data",
          "Mortgage REITs",
          "Insurance Brokers",
          "Life & Health Insurance",
          "Multi-line Insurance",
          "Property & Casualty Insurance",
          "Reinsurance",
          null,
          null,
          null,
          null,
          null,
          null,
          null,
          null,
          null,
          null,
          null,
          null,
          null,
          null,
          null,
          null,
          "IT Consulting & Other Services",
          "Data Processing & Outsourced Services",
          "Internet Services & Infrastructure",
          "Application Software",
          "Systems Software",
          null,
          null,
          "Communications Equipment",
          null,
          null,
          "Technology Hardware, Storage & Peripherals",
          "Electronic Equipment & Instruments",
          "Electronic Components",
          "Electronic Manufacturing Services",
          "Technology Distributors",
          null,
          null,
          null,
          "Semiconductor Equipment",
          "Semiconductors",
          "Alternative Carriers",
          "Integrated Telecommunication Services",
          "Wireless Telecommunication Services",
          "Advertising",
          "Broadcasting",
          "Cable & Satellite",
          "Publishing",
          "Movies & Entertainment",
          "Interactive Home Entertainment",
          "Interactive Media & Services",
          "Electric Utilities",
          "Gas Utilities",
          "Multi-Utilities",
          "Water Utilities",
          "Independent Power Producers & Energy Traders",
          "Renewable Electricity",
          "Diversified REITs",
          "Industrial REITs",
          "Hotel & Resort REITs",
          "Office REITs",
          "Health Care REITs",
          "Residential REITs",
          "Retail REITs",
          "Specialized REITs",
          "Diversified Real Estate Activities",
          "Real Estate Operating Companies",
          "Real Estate Development",
          "Real Estate Services"
         ],
         "xaxis": "x",
         "y": [
          1.6739881508584296,
          1.8997102074235808,
          1.7792954096125442,
          2.2459276458394544,
          1.4306969432691479,
          1.2140309416245902,
          1.7529494522691704,
          0.8184008905429654,
          0.9627037347070186,
          1.1862931011608624,
          0.02936680902989626,
          1.0389194476907762,
          1.2024951531029966,
          0.8814501451887454,
          0.6608975762314309,
          0.9065104389994895,
          0.895328803196666,
          0.7375722532069158,
          0.8548925851170359,
          0.8890401826697892,
          0.5498562784090909,
          0.9976909185025675,
          1.1480790115098172,
          0.7672547707349967,
          1.0582359509885826,
          1.1463944009338054,
          0.9309771893340728,
          0.9322230158241488,
          0.10241708600182985,
          0.7765277521842732,
          0.5783569806781445,
          0.4386987302977233,
          1.2599561658463336,
          1.5076525821243327,
          1.0403505362544687,
          1.178911618669315,
          1.4531244278922346,
          2.3187818506493505,
          1.2275314804005208,
          0.8252942265976974,
          0.3668438708646316,
          0.7714616679132386,
          0.7498448785638859,
          0.6247921627118644,
          0.5502153786104605,
          0.3417249825864871,
          0.5006978473581213,
          1.4038084869675778,
          1.0114347723757648,
          1.5217014321295144,
          1.1915153236459708,
          0.18953699160748871,
          0.8994939348513087,
          1.101318542462533,
          0.16231745585874796,
          -1.0134244047619048,
          0.680949851511879,
          1.0055908203664488,
          1.1519597396878212,
          0.6940013851705273,
          1.1093542111506525,
          0.8840317209181688,
          1.2958049667579195,
          0.5913456140350878,
          1.2929408580655082,
          1.0350101121807622,
          1.472435447965037,
          1.1263747778378796,
          0.30535003658982807,
          0.8451447395301328,
          -0.7228689316793186,
          0.6308229448133731,
          0.8639466717674062,
          1.0188405707118218,
          0.04190791999999998,
          1.123651655520228,
          0.9982354398167783,
          1.009986119798749,
          2.0442274221453287,
          -1.584233155279503,
          1.229165373961219,
          1.067326154754873,
          1.0113255826351866,
          0.816461820534944,
          0.8080975643702157,
          0.5658346269903904,
          -0.124308476213475,
          0.6555391304347826,
          0.19436101090604027,
          1.2287479602937177,
          1.153223786719617,
          1.1121019955654101,
          1.075616473854697,
          0.25922059725915314,
          0.026560707023306734,
          0.7450771183938588,
          0.4229781172584642,
          0.5868003056052475,
          1.1769148860398861,
          1.2883269389384062,
          1.0564603400825634,
          0.916957204950641,
          1.259378351839956,
          1.690990560541647,
          0.557950563204005,
          1.0548389522192578,
          2.0450110627177702,
          -0.021633920763217154,
          -0.5106566260364255,
          -0.32215029328597133,
          0.5904063704945515,
          1.1597013805798435,
          0.5860461846427594,
          0.7209002283887176,
          0.8651792238722331,
          1.2680630690218662,
          0.8917873991935484,
          1.5314219331560959,
          0.6798207859649124,
          0.8708043617727307,
          0.8413955676516329,
          0.11586178107606683,
          -0.7916006190672721,
          -0.23434215767634853,
          0.8822392475615422,
          1.0860767014492754,
          0.7525401294498383,
          1.288306080963939,
          0.7747705793260129,
          1.1910952744788639,
          1.2001315198795592,
          0.6720250535331905,
          1.3610944444444444,
          -0.4984529780564263,
          -0.3958344370860928,
          1.5122197475202885,
          null,
          1.2992981612446959,
          1.1109899613899614,
          1.0199706146926537,
          0.8783402408429504,
          1.46510199572345,
          0.7111005740528128,
          -0.28805880341880347,
          -0.08291298855870383,
          0.26241447236710397,
          0.4028888642249353,
          -2.153033044505711,
          0.29165342425701707,
          0.3461897192096271,
          0.6210532303370787,
          2.0524934980494147,
          0.7664927530156956,
          1.239636492890995,
          0.8704018031189084,
          0.6239389683412786,
          1.2582802399080593,
          0.9274171433110898,
          1.0740460152035312,
          1.5682157325922494,
          0.6991445932701731,
          2.131666770379589,
          1.1973403664851945,
          1.2061267625071879,
          0.5826682415416622,
          -0.09099098383118662,
          0.7164231382512704,
          0.5808073317413992,
          -0.4070128431372549,
          0.046002579234972654,
          0.48852955350815025,
          -0.023817276200873372,
          -0.12887405705015548,
          -1.5851462377727614,
          -1.1524015146632292,
          0.9437957506001661,
          1.1653358950201884,
          0.8917215442499591,
          1.3528773843808233,
          1.39846540346908,
          -1.381208055198973,
          0.7945566002656043,
          0.777307341490545,
          0.04912924628450107,
          0.49362381238725195,
          1.0757561602870813,
          1.0484873797396719,
          1.0595897440519106,
          0.9068130097741827,
          0.9528513986013987,
          0.8543086560063433,
          1.2051533673097925,
          -1.39036918652424
         ],
         "yaxis": "y"
        }
       ],
       "layout": {
        "barmode": "group",
        "legend": {
         "title": {
          "text": "Inflation"
         },
         "tracegroupgap": 0
        },
        "margin": {
         "t": 60
        },
        "template": {
         "data": {
          "bar": [
           {
            "error_x": {
             "color": "#2a3f5f"
            },
            "error_y": {
             "color": "#2a3f5f"
            },
            "marker": {
             "line": {
              "color": "#E5ECF6",
              "width": 0.5
             },
             "pattern": {
              "fillmode": "overlay",
              "size": 10,
              "solidity": 0.2
             }
            },
            "type": "bar"
           }
          ],
          "barpolar": [
           {
            "marker": {
             "line": {
              "color": "#E5ECF6",
              "width": 0.5
             },
             "pattern": {
              "fillmode": "overlay",
              "size": 10,
              "solidity": 0.2
             }
            },
            "type": "barpolar"
           }
          ],
          "carpet": [
           {
            "aaxis": {
             "endlinecolor": "#2a3f5f",
             "gridcolor": "white",
             "linecolor": "white",
             "minorgridcolor": "white",
             "startlinecolor": "#2a3f5f"
            },
            "baxis": {
             "endlinecolor": "#2a3f5f",
             "gridcolor": "white",
             "linecolor": "white",
             "minorgridcolor": "white",
             "startlinecolor": "#2a3f5f"
            },
            "type": "carpet"
           }
          ],
          "choropleth": [
           {
            "colorbar": {
             "outlinewidth": 0,
             "ticks": ""
            },
            "type": "choropleth"
           }
          ],
          "contour": [
           {
            "colorbar": {
             "outlinewidth": 0,
             "ticks": ""
            },
            "colorscale": [
             [
              0,
              "#0d0887"
             ],
             [
              0.1111111111111111,
              "#46039f"
             ],
             [
              0.2222222222222222,
              "#7201a8"
             ],
             [
              0.3333333333333333,
              "#9c179e"
             ],
             [
              0.4444444444444444,
              "#bd3786"
             ],
             [
              0.5555555555555556,
              "#d8576b"
             ],
             [
              0.6666666666666666,
              "#ed7953"
             ],
             [
              0.7777777777777778,
              "#fb9f3a"
             ],
             [
              0.8888888888888888,
              "#fdca26"
             ],
             [
              1,
              "#f0f921"
             ]
            ],
            "type": "contour"
           }
          ],
          "contourcarpet": [
           {
            "colorbar": {
             "outlinewidth": 0,
             "ticks": ""
            },
            "type": "contourcarpet"
           }
          ],
          "heatmap": [
           {
            "colorbar": {
             "outlinewidth": 0,
             "ticks": ""
            },
            "colorscale": [
             [
              0,
              "#0d0887"
             ],
             [
              0.1111111111111111,
              "#46039f"
             ],
             [
              0.2222222222222222,
              "#7201a8"
             ],
             [
              0.3333333333333333,
              "#9c179e"
             ],
             [
              0.4444444444444444,
              "#bd3786"
             ],
             [
              0.5555555555555556,
              "#d8576b"
             ],
             [
              0.6666666666666666,
              "#ed7953"
             ],
             [
              0.7777777777777778,
              "#fb9f3a"
             ],
             [
              0.8888888888888888,
              "#fdca26"
             ],
             [
              1,
              "#f0f921"
             ]
            ],
            "type": "heatmap"
           }
          ],
          "heatmapgl": [
           {
            "colorbar": {
             "outlinewidth": 0,
             "ticks": ""
            },
            "colorscale": [
             [
              0,
              "#0d0887"
             ],
             [
              0.1111111111111111,
              "#46039f"
             ],
             [
              0.2222222222222222,
              "#7201a8"
             ],
             [
              0.3333333333333333,
              "#9c179e"
             ],
             [
              0.4444444444444444,
              "#bd3786"
             ],
             [
              0.5555555555555556,
              "#d8576b"
             ],
             [
              0.6666666666666666,
              "#ed7953"
             ],
             [
              0.7777777777777778,
              "#fb9f3a"
             ],
             [
              0.8888888888888888,
              "#fdca26"
             ],
             [
              1,
              "#f0f921"
             ]
            ],
            "type": "heatmapgl"
           }
          ],
          "histogram": [
           {
            "marker": {
             "pattern": {
              "fillmode": "overlay",
              "size": 10,
              "solidity": 0.2
             }
            },
            "type": "histogram"
           }
          ],
          "histogram2d": [
           {
            "colorbar": {
             "outlinewidth": 0,
             "ticks": ""
            },
            "colorscale": [
             [
              0,
              "#0d0887"
             ],
             [
              0.1111111111111111,
              "#46039f"
             ],
             [
              0.2222222222222222,
              "#7201a8"
             ],
             [
              0.3333333333333333,
              "#9c179e"
             ],
             [
              0.4444444444444444,
              "#bd3786"
             ],
             [
              0.5555555555555556,
              "#d8576b"
             ],
             [
              0.6666666666666666,
              "#ed7953"
             ],
             [
              0.7777777777777778,
              "#fb9f3a"
             ],
             [
              0.8888888888888888,
              "#fdca26"
             ],
             [
              1,
              "#f0f921"
             ]
            ],
            "type": "histogram2d"
           }
          ],
          "histogram2dcontour": [
           {
            "colorbar": {
             "outlinewidth": 0,
             "ticks": ""
            },
            "colorscale": [
             [
              0,
              "#0d0887"
             ],
             [
              0.1111111111111111,
              "#46039f"
             ],
             [
              0.2222222222222222,
              "#7201a8"
             ],
             [
              0.3333333333333333,
              "#9c179e"
             ],
             [
              0.4444444444444444,
              "#bd3786"
             ],
             [
              0.5555555555555556,
              "#d8576b"
             ],
             [
              0.6666666666666666,
              "#ed7953"
             ],
             [
              0.7777777777777778,
              "#fb9f3a"
             ],
             [
              0.8888888888888888,
              "#fdca26"
             ],
             [
              1,
              "#f0f921"
             ]
            ],
            "type": "histogram2dcontour"
           }
          ],
          "mesh3d": [
           {
            "colorbar": {
             "outlinewidth": 0,
             "ticks": ""
            },
            "type": "mesh3d"
           }
          ],
          "parcoords": [
           {
            "line": {
             "colorbar": {
              "outlinewidth": 0,
              "ticks": ""
             }
            },
            "type": "parcoords"
           }
          ],
          "pie": [
           {
            "automargin": true,
            "type": "pie"
           }
          ],
          "scatter": [
           {
            "marker": {
             "colorbar": {
              "outlinewidth": 0,
              "ticks": ""
             }
            },
            "type": "scatter"
           }
          ],
          "scatter3d": [
           {
            "line": {
             "colorbar": {
              "outlinewidth": 0,
              "ticks": ""
             }
            },
            "marker": {
             "colorbar": {
              "outlinewidth": 0,
              "ticks": ""
             }
            },
            "type": "scatter3d"
           }
          ],
          "scattercarpet": [
           {
            "marker": {
             "colorbar": {
              "outlinewidth": 0,
              "ticks": ""
             }
            },
            "type": "scattercarpet"
           }
          ],
          "scattergeo": [
           {
            "marker": {
             "colorbar": {
              "outlinewidth": 0,
              "ticks": ""
             }
            },
            "type": "scattergeo"
           }
          ],
          "scattergl": [
           {
            "marker": {
             "colorbar": {
              "outlinewidth": 0,
              "ticks": ""
             }
            },
            "type": "scattergl"
           }
          ],
          "scattermapbox": [
           {
            "marker": {
             "colorbar": {
              "outlinewidth": 0,
              "ticks": ""
             }
            },
            "type": "scattermapbox"
           }
          ],
          "scatterpolar": [
           {
            "marker": {
             "colorbar": {
              "outlinewidth": 0,
              "ticks": ""
             }
            },
            "type": "scatterpolar"
           }
          ],
          "scatterpolargl": [
           {
            "marker": {
             "colorbar": {
              "outlinewidth": 0,
              "ticks": ""
             }
            },
            "type": "scatterpolargl"
           }
          ],
          "scatterternary": [
           {
            "marker": {
             "colorbar": {
              "outlinewidth": 0,
              "ticks": ""
             }
            },
            "type": "scatterternary"
           }
          ],
          "surface": [
           {
            "colorbar": {
             "outlinewidth": 0,
             "ticks": ""
            },
            "colorscale": [
             [
              0,
              "#0d0887"
             ],
             [
              0.1111111111111111,
              "#46039f"
             ],
             [
              0.2222222222222222,
              "#7201a8"
             ],
             [
              0.3333333333333333,
              "#9c179e"
             ],
             [
              0.4444444444444444,
              "#bd3786"
             ],
             [
              0.5555555555555556,
              "#d8576b"
             ],
             [
              0.6666666666666666,
              "#ed7953"
             ],
             [
              0.7777777777777778,
              "#fb9f3a"
             ],
             [
              0.8888888888888888,
              "#fdca26"
             ],
             [
              1,
              "#f0f921"
             ]
            ],
            "type": "surface"
           }
          ],
          "table": [
           {
            "cells": {
             "fill": {
              "color": "#EBF0F8"
             },
             "line": {
              "color": "white"
             }
            },
            "header": {
             "fill": {
              "color": "#C8D4E3"
             },
             "line": {
              "color": "white"
             }
            },
            "type": "table"
           }
          ]
         },
         "layout": {
          "annotationdefaults": {
           "arrowcolor": "#2a3f5f",
           "arrowhead": 0,
           "arrowwidth": 1
          },
          "autotypenumbers": "strict",
          "coloraxis": {
           "colorbar": {
            "outlinewidth": 0,
            "ticks": ""
           }
          },
          "colorscale": {
           "diverging": [
            [
             0,
             "#8e0152"
            ],
            [
             0.1,
             "#c51b7d"
            ],
            [
             0.2,
             "#de77ae"
            ],
            [
             0.3,
             "#f1b6da"
            ],
            [
             0.4,
             "#fde0ef"
            ],
            [
             0.5,
             "#f7f7f7"
            ],
            [
             0.6,
             "#e6f5d0"
            ],
            [
             0.7,
             "#b8e186"
            ],
            [
             0.8,
             "#7fbc41"
            ],
            [
             0.9,
             "#4d9221"
            ],
            [
             1,
             "#276419"
            ]
           ],
           "sequential": [
            [
             0,
             "#0d0887"
            ],
            [
             0.1111111111111111,
             "#46039f"
            ],
            [
             0.2222222222222222,
             "#7201a8"
            ],
            [
             0.3333333333333333,
             "#9c179e"
            ],
            [
             0.4444444444444444,
             "#bd3786"
            ],
            [
             0.5555555555555556,
             "#d8576b"
            ],
            [
             0.6666666666666666,
             "#ed7953"
            ],
            [
             0.7777777777777778,
             "#fb9f3a"
            ],
            [
             0.8888888888888888,
             "#fdca26"
            ],
            [
             1,
             "#f0f921"
            ]
           ],
           "sequentialminus": [
            [
             0,
             "#0d0887"
            ],
            [
             0.1111111111111111,
             "#46039f"
            ],
            [
             0.2222222222222222,
             "#7201a8"
            ],
            [
             0.3333333333333333,
             "#9c179e"
            ],
            [
             0.4444444444444444,
             "#bd3786"
            ],
            [
             0.5555555555555556,
             "#d8576b"
            ],
            [
             0.6666666666666666,
             "#ed7953"
            ],
            [
             0.7777777777777778,
             "#fb9f3a"
            ],
            [
             0.8888888888888888,
             "#fdca26"
            ],
            [
             1,
             "#f0f921"
            ]
           ]
          },
          "colorway": [
           "#636efa",
           "#EF553B",
           "#00cc96",
           "#ab63fa",
           "#FFA15A",
           "#19d3f3",
           "#FF6692",
           "#B6E880",
           "#FF97FF",
           "#FECB52"
          ],
          "font": {
           "color": "#2a3f5f"
          },
          "geo": {
           "bgcolor": "white",
           "lakecolor": "white",
           "landcolor": "#E5ECF6",
           "showlakes": true,
           "showland": true,
           "subunitcolor": "white"
          },
          "hoverlabel": {
           "align": "left"
          },
          "hovermode": "closest",
          "mapbox": {
           "style": "light"
          },
          "paper_bgcolor": "white",
          "plot_bgcolor": "#E5ECF6",
          "polar": {
           "angularaxis": {
            "gridcolor": "white",
            "linecolor": "white",
            "ticks": ""
           },
           "bgcolor": "#E5ECF6",
           "radialaxis": {
            "gridcolor": "white",
            "linecolor": "white",
            "ticks": ""
           }
          },
          "scene": {
           "xaxis": {
            "backgroundcolor": "#E5ECF6",
            "gridcolor": "white",
            "gridwidth": 2,
            "linecolor": "white",
            "showbackground": true,
            "ticks": "",
            "zerolinecolor": "white"
           },
           "yaxis": {
            "backgroundcolor": "#E5ECF6",
            "gridcolor": "white",
            "gridwidth": 2,
            "linecolor": "white",
            "showbackground": true,
            "ticks": "",
            "zerolinecolor": "white"
           },
           "zaxis": {
            "backgroundcolor": "#E5ECF6",
            "gridcolor": "white",
            "gridwidth": 2,
            "linecolor": "white",
            "showbackground": true,
            "ticks": "",
            "zerolinecolor": "white"
           }
          },
          "shapedefaults": {
           "line": {
            "color": "#2a3f5f"
           }
          },
          "ternary": {
           "aaxis": {
            "gridcolor": "white",
            "linecolor": "white",
            "ticks": ""
           },
           "baxis": {
            "gridcolor": "white",
            "linecolor": "white",
            "ticks": ""
           },
           "bgcolor": "#E5ECF6",
           "caxis": {
            "gridcolor": "white",
            "linecolor": "white",
            "ticks": ""
           }
          },
          "title": {
           "x": 0.05
          },
          "xaxis": {
           "automargin": true,
           "gridcolor": "white",
           "linecolor": "white",
           "ticks": "",
           "title": {
            "standoff": 15
           },
           "zerolinecolor": "white",
           "zerolinewidth": 2
          },
          "yaxis": {
           "automargin": true,
           "gridcolor": "white",
           "linecolor": "white",
           "ticks": "",
           "title": {
            "standoff": 15
           },
           "zerolinecolor": "white",
           "zerolinewidth": 2
          }
         }
        },
        "xaxis": {
         "anchor": "y",
         "domain": [
          0,
          1
         ],
         "title": {
          "text": "SubIndustry"
         }
        },
        "yaxis": {
         "anchor": "x",
         "domain": [
          0,
          1
         ],
         "title": {
          "text": "trt1m"
         }
        }
       }
      }
     },
     "metadata": {},
     "output_type": "display_data"
    }
   ],
   "source": [
    "sub_ind_df = sub_ind.to_frame().reset_index().rename({\"level_0\": \"regime\", \"level_1\": \"industry\"}, axis=1).merge(gics[[\"SubIndustry\", \"SubIndustryId\"]], how=\"left\", left_on=\"gsubind\", right_on=\"SubIndustryId\")\n",
    "sub_ind_df.drop_duplicates(inplace=True)\n",
    "\n",
    "fig = px.bar(sub_ind_df, x=\"SubIndustry\", y=\"trt1m\", color=\"Inflation\", barmode=\"group\")\n",
    "fig.show()"
   ]
  },
  {
   "cell_type": "code",
   "execution_count": 418,
   "metadata": {},
   "outputs": [],
   "source": []
  },
  {
   "cell_type": "code",
   "execution_count": null,
   "metadata": {},
   "outputs": [],
   "source": []
  },
  {
   "cell_type": "code",
   "execution_count": null,
   "metadata": {},
   "outputs": [],
   "source": []
  },
  {
   "cell_type": "code",
   "execution_count": null,
   "metadata": {},
   "outputs": [],
   "source": []
  },
  {
   "cell_type": "code",
   "execution_count": null,
   "metadata": {},
   "outputs": [],
   "source": []
  },
  {
   "cell_type": "code",
   "execution_count": 527,
   "metadata": {},
   "outputs": [
    {
     "data": {
      "application/vnd.plotly.v1+json": {
       "config": {
        "plotlyServerURL": "https://plot.ly"
       },
       "data": [
        {
         "hovertemplate": "date=%{x}<br>Value=%{y}<extra></extra>",
         "legendgroup": "",
         "line": {
          "color": "#636efa",
          "dash": "solid"
         },
         "marker": {
          "symbol": "circle"
         },
         "mode": "lines",
         "name": "",
         "orientation": "v",
         "showlegend": false,
         "type": "scatter",
         "x": [
          "1960-12-31T00:00:00",
          "1961-03-31T00:00:00",
          "1961-06-30T00:00:00",
          "1961-09-30T00:00:00",
          "1961-12-31T00:00:00",
          "1962-03-31T00:00:00",
          "1962-06-30T00:00:00",
          "1962-09-30T00:00:00",
          "1962-12-31T00:00:00",
          "1963-03-31T00:00:00",
          "1963-06-30T00:00:00",
          "1963-09-30T00:00:00",
          "1963-12-31T00:00:00",
          "1964-03-31T00:00:00",
          "1964-06-30T00:00:00",
          "1964-09-30T00:00:00",
          "1964-12-31T00:00:00",
          "1965-03-31T00:00:00",
          "1965-06-30T00:00:00",
          "1965-09-30T00:00:00",
          "1965-12-31T00:00:00",
          "1966-03-31T00:00:00",
          "1966-06-30T00:00:00",
          "1966-09-30T00:00:00",
          "1966-12-31T00:00:00",
          "1967-03-31T00:00:00",
          "1967-06-30T00:00:00",
          "1967-09-30T00:00:00",
          "1967-12-31T00:00:00",
          "1968-03-31T00:00:00",
          "1968-06-30T00:00:00",
          "1968-09-30T00:00:00",
          "1968-12-31T00:00:00",
          "1969-03-31T00:00:00",
          "1969-06-30T00:00:00",
          "1969-09-30T00:00:00",
          "1969-12-31T00:00:00",
          "1970-03-31T00:00:00",
          "1970-06-30T00:00:00",
          "1970-09-30T00:00:00",
          "1970-12-31T00:00:00",
          "1971-03-31T00:00:00",
          "1971-06-30T00:00:00",
          "1971-09-30T00:00:00",
          "1971-12-31T00:00:00",
          "1972-03-31T00:00:00",
          "1972-06-30T00:00:00",
          "1972-09-30T00:00:00",
          "1972-12-31T00:00:00",
          "1973-03-31T00:00:00",
          "1973-06-30T00:00:00",
          "1973-09-30T00:00:00",
          "1973-12-31T00:00:00",
          "1974-03-31T00:00:00",
          "1974-06-30T00:00:00",
          "1974-09-30T00:00:00",
          "1974-12-31T00:00:00",
          "1975-03-31T00:00:00",
          "1975-06-30T00:00:00",
          "1975-09-30T00:00:00",
          "1975-12-31T00:00:00",
          "1976-03-31T00:00:00",
          "1976-06-30T00:00:00",
          "1976-09-30T00:00:00",
          "1976-12-31T00:00:00",
          "1977-03-31T00:00:00",
          "1977-06-30T00:00:00",
          "1977-09-30T00:00:00",
          "1977-12-31T00:00:00",
          "1978-03-31T00:00:00",
          "1978-06-30T00:00:00",
          "1978-09-30T00:00:00",
          "1978-12-31T00:00:00",
          "1979-03-31T00:00:00",
          "1979-06-30T00:00:00",
          "1979-09-30T00:00:00",
          "1979-12-31T00:00:00",
          "1980-03-31T00:00:00",
          "1980-06-30T00:00:00",
          "1980-09-30T00:00:00",
          "1980-12-31T00:00:00",
          "1981-03-31T00:00:00",
          "1981-06-30T00:00:00",
          "1981-09-30T00:00:00",
          "1981-12-31T00:00:00",
          "1982-03-31T00:00:00",
          "1982-06-30T00:00:00",
          "1982-09-30T00:00:00",
          "1982-12-31T00:00:00",
          "1983-03-31T00:00:00",
          "1983-06-30T00:00:00",
          "1983-09-30T00:00:00",
          "1983-12-31T00:00:00",
          "1984-03-31T00:00:00",
          "1984-06-30T00:00:00",
          "1984-09-30T00:00:00",
          "1984-12-31T00:00:00",
          "1985-03-31T00:00:00",
          "1985-06-30T00:00:00",
          "1985-09-30T00:00:00",
          "1985-12-31T00:00:00",
          "1986-03-31T00:00:00",
          "1986-06-30T00:00:00",
          "1986-09-30T00:00:00",
          "1986-12-31T00:00:00",
          "1987-03-31T00:00:00",
          "1987-06-30T00:00:00",
          "1987-09-30T00:00:00",
          "1987-12-31T00:00:00",
          "1988-03-31T00:00:00",
          "1988-06-30T00:00:00",
          "1988-09-30T00:00:00",
          "1988-12-31T00:00:00",
          "1989-03-31T00:00:00",
          "1989-06-30T00:00:00",
          "1989-09-30T00:00:00",
          "1989-12-31T00:00:00",
          "1990-03-31T00:00:00",
          "1990-06-30T00:00:00",
          "1990-09-30T00:00:00",
          "1990-12-31T00:00:00",
          "1991-03-31T00:00:00",
          "1991-06-30T00:00:00",
          "1991-09-30T00:00:00",
          "1991-12-31T00:00:00",
          "1992-03-31T00:00:00",
          "1992-06-30T00:00:00",
          "1992-09-30T00:00:00",
          "1992-12-31T00:00:00",
          "1993-03-31T00:00:00",
          "1993-06-30T00:00:00",
          "1993-09-30T00:00:00",
          "1993-12-31T00:00:00",
          "1994-03-31T00:00:00",
          "1994-06-30T00:00:00",
          "1994-09-30T00:00:00",
          "1994-12-31T00:00:00",
          "1995-03-31T00:00:00",
          "1995-06-30T00:00:00",
          "1995-09-30T00:00:00",
          "1995-12-31T00:00:00",
          "1996-03-31T00:00:00",
          "1996-06-30T00:00:00",
          "1996-09-30T00:00:00",
          "1996-12-31T00:00:00",
          "1997-03-31T00:00:00",
          "1997-06-30T00:00:00",
          "1997-09-30T00:00:00",
          "1997-12-31T00:00:00",
          "1998-03-31T00:00:00",
          "1998-06-30T00:00:00",
          "1998-09-30T00:00:00",
          "1998-12-31T00:00:00",
          "1999-03-31T00:00:00",
          "1999-06-30T00:00:00",
          "1999-09-30T00:00:00",
          "1999-12-31T00:00:00",
          "2000-03-31T00:00:00",
          "2000-06-30T00:00:00",
          "2000-09-30T00:00:00",
          "2000-12-31T00:00:00",
          "2001-03-31T00:00:00",
          "2001-06-30T00:00:00",
          "2001-09-30T00:00:00",
          "2001-12-31T00:00:00",
          "2002-03-31T00:00:00",
          "2002-06-30T00:00:00",
          "2002-09-30T00:00:00",
          "2002-12-31T00:00:00",
          "2003-03-31T00:00:00",
          "2003-06-30T00:00:00",
          "2003-09-30T00:00:00",
          "2003-12-31T00:00:00",
          "2004-03-31T00:00:00",
          "2004-06-30T00:00:00",
          "2004-09-30T00:00:00",
          "2004-12-31T00:00:00",
          "2005-03-31T00:00:00",
          "2005-06-30T00:00:00",
          "2005-09-30T00:00:00",
          "2005-12-31T00:00:00",
          "2006-03-31T00:00:00",
          "2006-06-30T00:00:00",
          "2006-09-30T00:00:00",
          "2006-12-31T00:00:00",
          "2007-03-31T00:00:00",
          "2007-06-30T00:00:00",
          "2007-09-30T00:00:00",
          "2007-12-31T00:00:00",
          "2008-03-31T00:00:00",
          "2008-06-30T00:00:00",
          "2008-09-30T00:00:00",
          "2008-12-31T00:00:00",
          "2009-03-31T00:00:00",
          "2009-06-30T00:00:00",
          "2009-09-30T00:00:00",
          "2009-12-31T00:00:00",
          "2010-03-31T00:00:00",
          "2010-06-30T00:00:00",
          "2010-09-30T00:00:00",
          "2010-12-31T00:00:00",
          "2011-03-31T00:00:00",
          "2011-06-30T00:00:00",
          "2011-09-30T00:00:00",
          "2011-12-31T00:00:00",
          "2012-03-31T00:00:00",
          "2012-06-30T00:00:00",
          "2012-09-30T00:00:00",
          "2012-12-31T00:00:00",
          "2013-03-31T00:00:00",
          "2013-06-30T00:00:00",
          "2013-09-30T00:00:00",
          "2013-12-31T00:00:00",
          "2014-03-31T00:00:00",
          "2014-06-30T00:00:00",
          "2014-09-30T00:00:00",
          "2014-12-31T00:00:00",
          "2015-03-31T00:00:00",
          "2015-06-30T00:00:00",
          "2015-09-30T00:00:00",
          "2015-12-31T00:00:00",
          "2016-03-31T00:00:00",
          "2016-06-30T00:00:00",
          "2016-09-30T00:00:00",
          "2016-12-31T00:00:00",
          "2017-03-31T00:00:00",
          "2017-06-30T00:00:00",
          "2017-09-30T00:00:00",
          "2017-12-31T00:00:00",
          "2018-03-31T00:00:00",
          "2018-06-30T00:00:00",
          "2018-09-30T00:00:00",
          "2018-12-31T00:00:00",
          "2019-03-31T00:00:00",
          "2019-06-30T00:00:00",
          "2019-09-30T00:00:00",
          "2019-12-31T00:00:00",
          "2020-03-31T00:00:00",
          "2020-06-30T00:00:00",
          "2020-09-30T00:00:00",
          "2020-12-31T00:00:00",
          "2021-03-31T00:00:00",
          "2021-06-30T00:00:00",
          "2021-09-30T00:00:00",
          "2021-12-31T00:00:00",
          "2022-03-31T00:00:00",
          "2022-06-30T00:00:00",
          "2022-09-30T00:00:00",
          "2022-12-31T00:00:00",
          "2023-03-31T00:00:00",
          "2023-06-30T00:00:00",
          "2023-09-30T00:00:00",
          "2023-12-31T00:00:00",
          "2024-03-31T00:00:00",
          "2024-06-30T00:00:00",
          "2024-09-30T00:00:00"
         ],
         "xaxis": "x",
         "y": [
          1.50810749518087,
          0.867899008115438,
          1.20536217190497,
          0.705171255876426,
          0.893655049150995,
          1.30740864901109,
          1.20213713268032,
          1.30043347782594,
          1.22896368467674,
          1.03684094418706,
          1.36383633963919,
          1.39346061005043,
          1.48747675817567,
          1.4628820960699,
          1.07421875000001,
          1.26609674277676,
          1.16391852570314,
          1.64622336991608,
          1.71765968867418,
          1.78456935242576,
          2.41823798870778,
          2.68868423838248,
          3.27176781002638,
          3.5695538057743,
          2.87081339712924,
          2.56674569632003,
          2.70822687787429,
          2.99036999493153,
          3.7411526794742,
          4.12060301507533,
          4.47761194029854,
          4.6259842519685,
          4.87329434697859,
          5.50193050193055,
          5.52380952380953,
          5.83254938852304,
          6.22676579925645,
          6.03842634949678,
          5.68592057761734,
          5.60000000000003,
          4.81189851268595,
          4.31406384814498,
          4.26985482493592,
          3.53535353535353,
          3.5058430717863,
          3.22580645161294,
          3.03030303030308,
          3.33333333333335,
          4.11290322580645,
          5.60897435897426,
          6.83624801271857,
          8.41856805664831,
          9.91479473276533,
          10.546282245827,
          11.4583333333333,
          12.0464441219158,
          11.1346018322762,
          9.54015099519563,
          8.67823765020029,
          7.38341968911918,
          6.34115409004443,
          6.01503759398497,
          5.58968058968054,
          5.18697225572978,
          5.90339892665472,
          6.7966903073286,
          6.57358929610239,
          6.59403669724769,
          6.47522522522521,
          7.02822357498616,
          8.02401746724893,
          8.92953200645514,
          9.78318350079324,
          10.7549120992761,
          11.723092470945,
          12.6419753086419,
          14.2100192678227,
          14.4257703081232,
          12.9353233830845,
          12.5383603682595,
          11.2610712779418,
          9.87352101183194,
          10.8530236283541,
          9.58317101675106,
          7.58150113722522,
          6.9067953954697,
          5.81647398843931,
          4.44365446142909,
          3.59408033826636,
          3.29975686002088,
          2.52645954250596,
          3.2334921715453,
          4.62585034013605,
          4.40484196368524,
          4.29570429570429,
          4.15430267062311,
          3.6410923276983,
          3.60708534621582,
          3.35249042145596,
          3.51377018043687,
          3.10539523212046,
          1.67858253030772,
          1.66821130676551,
          1.34556574923549,
          2.03833282628539,
          3.69917456435337,
          4.16286842904893,
          4.4055522027761,
          3.96541443053069,
          3.97995283018872,
          4.14235705950993,
          4.30635838150285,
          4.67450530542007,
          5.16019279841224,
          4.70588235294118,
          4.62732058742035,
          5.2328767123288,
          4.58344567268806,
          5.56447298020329,
          6.27648305084747,
          5.25904712314499,
          4.84660995101834,
          3.85200202736951,
          2.96536257164216,
          2.89389067524117,
          3.07351856405203,
          3.07467057101024,
          3.12197483059055,
          3.17307692307692,
          3.12500000000007,
          2.81723484848482,
          2.76930298052096,
          2.53960857409131,
          2.38260467268102,
          2.85516923785405,
          2.60333409454214,
          2.84026357645994,
          3.09534568459105,
          2.66398029997757,
          2.62630758958377,
          2.78391515687137,
          2.82708744247205,
          2.90013083296992,
          3.23140316634138,
          2.94496990541704,
          2.30179028132995,
          2.22504767959313,
          1.89075630252101,
          1.48256420964712,
          1.58333333333332,
          1.59618573797682,
          1.52577319587632,
          1.68724279835391,
          2.11238720262509,
          2.34645990614161,
          2.61982128350935,
          3.25779036827194,
          3.2938341032336,
          3.46889952153108,
          3.44349891153766,
          3.4097589653145,
          3.32490764145436,
          2.67822736030827,
          1.87488042854407,
          1.23176046996404,
          1.31727512231842,
          1.57628072809158,
          2.25352112676059,
          2.97641332834143,
          2.00594353640417,
          2.21688527618695,
          2.0018365472911,
          1.81785129976367,
          2.78587035688273,
          2.67485993132114,
          3.38494778537989,
          3.03517229066236,
          2.92294065544732,
          3.81975004400635,
          3.67467781260887,
          3.69086813377235,
          3.92426850258173,
          3.34011529331978,
          1.96539559885769,
          2.43165106951869,
          2.6652865187148,
          2.3489745693191,
          4.03113673805604,
          4.13703542371248,
          4.31042131464624,
          5.25250193566385,
          1.59580280267119,
          -0.184236788138637,
          -0.942140043580923,
          -1.60695601317735,
          1.48765638005695,
          2.35257002854976,
          1.77527356636237,
          1.20288159100483,
          1.22978390084323,
          2.14821766479281,
          3.34610641026428,
          3.71595113512784,
          3.34472771079217,
          2.8293233613208,
          1.88791830252115,
          1.68485971054328,
          1.90356783167098,
          1.74020187509672,
          1.41472326142438,
          1.50495342432383,
          1.20730491508519,
          1.42990796357572,
          2.08034361151216,
          1.79097013859126,
          1.16400564849512,
          -0.112893163173044,
          0.0370100912305729,
          0.15861096099985,
          0.400469982340407,
          0.991835029352818,
          1.11003263560659,
          1.15714756188996,
          1.80697985034568,
          2.58713054014487,
          1.89058824020451,
          1.9449393340741,
          2.10778024350086,
          2.22100405185938,
          2.68761264951657,
          2.64316222764902,
          2.2050248410778,
          1.62016574770351,
          1.83579928275375,
          1.76933739876687,
          2.01643647684255,
          2.10244276054838,
          0.444735189312833,
          1.25384590366533,
          1.20009413517183,
          1.89726417599191,
          4.81322838330595,
          5.29054506348992,
          6.72125135918702,
          8.00038959034824,
          8.58063131836165,
          8.31761217342494,
          7.05465890320915,
          5.60894095740366,
          3.82199033934771,
          3.12987841567927,
          3.06318548102382,
          2.8330649221165,
          2.62381982809983,
          2.47501253991384,
          2.34992472195335
         ],
         "yaxis": "y"
        },
        {
         "name": "CPI",
         "type": "scatter",
         "x": [
          "1947-12-31T00:00:00",
          "1948-01-31T00:00:00",
          "1948-02-29T00:00:00",
          "1948-03-31T00:00:00",
          "1948-04-30T00:00:00",
          "1948-05-31T00:00:00",
          "1948-06-30T00:00:00",
          "1948-07-31T00:00:00",
          "1948-08-31T00:00:00",
          "1948-09-30T00:00:00",
          "1948-10-31T00:00:00",
          "1948-11-30T00:00:00",
          "1948-12-31T00:00:00",
          "1949-01-31T00:00:00",
          "1949-02-28T00:00:00",
          "1949-03-31T00:00:00",
          "1949-04-30T00:00:00",
          "1949-05-31T00:00:00",
          "1949-06-30T00:00:00",
          "1949-07-31T00:00:00",
          "1949-08-31T00:00:00",
          "1949-09-30T00:00:00",
          "1949-10-31T00:00:00",
          "1949-11-30T00:00:00",
          "1949-12-31T00:00:00",
          "1950-01-31T00:00:00",
          "1950-02-28T00:00:00",
          "1950-03-31T00:00:00",
          "1950-04-30T00:00:00",
          "1950-05-31T00:00:00",
          "1950-06-30T00:00:00",
          "1950-07-31T00:00:00",
          "1950-08-31T00:00:00",
          "1950-09-30T00:00:00",
          "1950-10-31T00:00:00",
          "1950-11-30T00:00:00",
          "1950-12-31T00:00:00",
          "1951-01-31T00:00:00",
          "1951-02-28T00:00:00",
          "1951-03-31T00:00:00",
          "1951-04-30T00:00:00",
          "1951-05-31T00:00:00",
          "1951-06-30T00:00:00",
          "1951-07-31T00:00:00",
          "1951-08-31T00:00:00",
          "1951-09-30T00:00:00",
          "1951-10-31T00:00:00",
          "1951-11-30T00:00:00",
          "1951-12-31T00:00:00",
          "1952-01-31T00:00:00",
          "1952-02-29T00:00:00",
          "1952-03-31T00:00:00",
          "1952-04-30T00:00:00",
          "1952-05-31T00:00:00",
          "1952-06-30T00:00:00",
          "1952-07-31T00:00:00",
          "1952-08-31T00:00:00",
          "1952-09-30T00:00:00",
          "1952-10-31T00:00:00",
          "1952-11-30T00:00:00",
          "1952-12-31T00:00:00",
          "1953-01-31T00:00:00",
          "1953-02-28T00:00:00",
          "1953-03-31T00:00:00",
          "1953-04-30T00:00:00",
          "1953-05-31T00:00:00",
          "1953-06-30T00:00:00",
          "1953-07-31T00:00:00",
          "1953-08-31T00:00:00",
          "1953-09-30T00:00:00",
          "1953-10-31T00:00:00",
          "1953-11-30T00:00:00",
          "1953-12-31T00:00:00",
          "1954-01-31T00:00:00",
          "1954-02-28T00:00:00",
          "1954-03-31T00:00:00",
          "1954-04-30T00:00:00",
          "1954-05-31T00:00:00",
          "1954-06-30T00:00:00",
          "1954-07-31T00:00:00",
          "1954-08-31T00:00:00",
          "1954-09-30T00:00:00",
          "1954-10-31T00:00:00",
          "1954-11-30T00:00:00",
          "1954-12-31T00:00:00",
          "1955-01-31T00:00:00",
          "1955-02-28T00:00:00",
          "1955-03-31T00:00:00",
          "1955-04-30T00:00:00",
          "1955-05-31T00:00:00",
          "1955-06-30T00:00:00",
          "1955-07-31T00:00:00",
          "1955-08-31T00:00:00",
          "1955-09-30T00:00:00",
          "1955-10-31T00:00:00",
          "1955-11-30T00:00:00",
          "1955-12-31T00:00:00",
          "1956-01-31T00:00:00",
          "1956-02-29T00:00:00",
          "1956-03-31T00:00:00",
          "1956-04-30T00:00:00",
          "1956-05-31T00:00:00",
          "1956-06-30T00:00:00",
          "1956-07-31T00:00:00",
          "1956-08-31T00:00:00",
          "1956-09-30T00:00:00",
          "1956-10-31T00:00:00",
          "1956-11-30T00:00:00",
          "1956-12-31T00:00:00",
          "1957-01-31T00:00:00",
          "1957-02-28T00:00:00",
          "1957-03-31T00:00:00",
          "1957-04-30T00:00:00",
          "1957-05-31T00:00:00",
          "1957-06-30T00:00:00",
          "1957-07-31T00:00:00",
          "1957-08-31T00:00:00",
          "1957-09-30T00:00:00",
          "1957-10-31T00:00:00",
          "1957-11-30T00:00:00",
          "1957-12-31T00:00:00",
          "1958-01-31T00:00:00",
          "1958-02-28T00:00:00",
          "1958-03-31T00:00:00",
          "1958-04-30T00:00:00",
          "1958-05-31T00:00:00",
          "1958-06-30T00:00:00",
          "1958-07-31T00:00:00",
          "1958-08-31T00:00:00",
          "1958-09-30T00:00:00",
          "1958-10-31T00:00:00",
          "1958-11-30T00:00:00",
          "1958-12-31T00:00:00",
          "1959-01-31T00:00:00",
          "1959-02-28T00:00:00",
          "1959-03-31T00:00:00",
          "1959-04-30T00:00:00",
          "1959-05-31T00:00:00",
          "1959-06-30T00:00:00",
          "1959-07-31T00:00:00",
          "1959-08-31T00:00:00",
          "1959-09-30T00:00:00",
          "1959-10-31T00:00:00",
          "1959-11-30T00:00:00",
          "1959-12-31T00:00:00",
          "1960-01-31T00:00:00",
          "1960-02-29T00:00:00",
          "1960-03-31T00:00:00",
          "1960-04-30T00:00:00",
          "1960-05-31T00:00:00",
          "1960-06-30T00:00:00",
          "1960-07-31T00:00:00",
          "1960-08-31T00:00:00",
          "1960-09-30T00:00:00",
          "1960-10-31T00:00:00",
          "1960-11-30T00:00:00",
          "1960-12-31T00:00:00",
          "1961-01-31T00:00:00",
          "1961-02-28T00:00:00",
          "1961-03-31T00:00:00",
          "1961-04-30T00:00:00",
          "1961-05-31T00:00:00",
          "1961-06-30T00:00:00",
          "1961-07-31T00:00:00",
          "1961-08-31T00:00:00",
          "1961-09-30T00:00:00",
          "1961-10-31T00:00:00",
          "1961-11-30T00:00:00",
          "1961-12-31T00:00:00",
          "1962-01-31T00:00:00",
          "1962-02-28T00:00:00",
          "1962-03-31T00:00:00",
          "1962-04-30T00:00:00",
          "1962-05-31T00:00:00",
          "1962-06-30T00:00:00",
          "1962-07-31T00:00:00",
          "1962-08-31T00:00:00",
          "1962-09-30T00:00:00",
          "1962-10-31T00:00:00",
          "1962-11-30T00:00:00",
          "1962-12-31T00:00:00",
          "1963-01-31T00:00:00",
          "1963-02-28T00:00:00",
          "1963-03-31T00:00:00",
          "1963-04-30T00:00:00",
          "1963-05-31T00:00:00",
          "1963-06-30T00:00:00",
          "1963-07-31T00:00:00",
          "1963-08-31T00:00:00",
          "1963-09-30T00:00:00",
          "1963-10-31T00:00:00",
          "1963-11-30T00:00:00",
          "1963-12-31T00:00:00",
          "1964-01-31T00:00:00",
          "1964-02-29T00:00:00",
          "1964-03-31T00:00:00",
          "1964-04-30T00:00:00",
          "1964-05-31T00:00:00",
          "1964-06-30T00:00:00",
          "1964-07-31T00:00:00",
          "1964-08-31T00:00:00",
          "1964-09-30T00:00:00",
          "1964-10-31T00:00:00",
          "1964-11-30T00:00:00",
          "1964-12-31T00:00:00",
          "1965-01-31T00:00:00",
          "1965-02-28T00:00:00",
          "1965-03-31T00:00:00",
          "1965-04-30T00:00:00",
          "1965-05-31T00:00:00",
          "1965-06-30T00:00:00",
          "1965-07-31T00:00:00",
          "1965-08-31T00:00:00",
          "1965-09-30T00:00:00",
          "1965-10-31T00:00:00",
          "1965-11-30T00:00:00",
          "1965-12-31T00:00:00",
          "1966-01-31T00:00:00",
          "1966-02-28T00:00:00",
          "1966-03-31T00:00:00",
          "1966-04-30T00:00:00",
          "1966-05-31T00:00:00",
          "1966-06-30T00:00:00",
          "1966-07-31T00:00:00",
          "1966-08-31T00:00:00",
          "1966-09-30T00:00:00",
          "1966-10-31T00:00:00",
          "1966-11-30T00:00:00",
          "1966-12-31T00:00:00",
          "1967-01-31T00:00:00",
          "1967-02-28T00:00:00",
          "1967-03-31T00:00:00",
          "1967-04-30T00:00:00",
          "1967-05-31T00:00:00",
          "1967-06-30T00:00:00",
          "1967-07-31T00:00:00",
          "1967-08-31T00:00:00",
          "1967-09-30T00:00:00",
          "1967-10-31T00:00:00",
          "1967-11-30T00:00:00",
          "1967-12-31T00:00:00",
          "1968-01-31T00:00:00",
          "1968-02-29T00:00:00",
          "1968-03-31T00:00:00",
          "1968-04-30T00:00:00",
          "1968-05-31T00:00:00",
          "1968-06-30T00:00:00",
          "1968-07-31T00:00:00",
          "1968-08-31T00:00:00",
          "1968-09-30T00:00:00",
          "1968-10-31T00:00:00",
          "1968-11-30T00:00:00",
          "1968-12-31T00:00:00",
          "1969-01-31T00:00:00",
          "1969-02-28T00:00:00",
          "1969-03-31T00:00:00",
          "1969-04-30T00:00:00",
          "1969-05-31T00:00:00",
          "1969-06-30T00:00:00",
          "1969-07-31T00:00:00",
          "1969-08-31T00:00:00",
          "1969-09-30T00:00:00",
          "1969-10-31T00:00:00",
          "1969-11-30T00:00:00",
          "1969-12-31T00:00:00",
          "1970-01-31T00:00:00",
          "1970-02-28T00:00:00",
          "1970-03-31T00:00:00",
          "1970-04-30T00:00:00",
          "1970-05-31T00:00:00",
          "1970-06-30T00:00:00",
          "1970-07-31T00:00:00",
          "1970-08-31T00:00:00",
          "1970-09-30T00:00:00",
          "1970-10-31T00:00:00",
          "1970-11-30T00:00:00",
          "1970-12-31T00:00:00",
          "1971-01-31T00:00:00",
          "1971-02-28T00:00:00",
          "1971-03-31T00:00:00",
          "1971-04-30T00:00:00",
          "1971-05-31T00:00:00",
          "1971-06-30T00:00:00",
          "1971-07-31T00:00:00",
          "1971-08-31T00:00:00",
          "1971-09-30T00:00:00",
          "1971-10-31T00:00:00",
          "1971-11-30T00:00:00",
          "1971-12-31T00:00:00",
          "1972-01-31T00:00:00",
          "1972-02-29T00:00:00",
          "1972-03-31T00:00:00",
          "1972-04-30T00:00:00",
          "1972-05-31T00:00:00",
          "1972-06-30T00:00:00",
          "1972-07-31T00:00:00",
          "1972-08-31T00:00:00",
          "1972-09-30T00:00:00",
          "1972-10-31T00:00:00",
          "1972-11-30T00:00:00",
          "1972-12-31T00:00:00",
          "1973-01-31T00:00:00",
          "1973-02-28T00:00:00",
          "1973-03-31T00:00:00",
          "1973-04-30T00:00:00",
          "1973-05-31T00:00:00",
          "1973-06-30T00:00:00",
          "1973-07-31T00:00:00",
          "1973-08-31T00:00:00",
          "1973-09-30T00:00:00",
          "1973-10-31T00:00:00",
          "1973-11-30T00:00:00",
          "1973-12-31T00:00:00",
          "1974-01-31T00:00:00",
          "1974-02-28T00:00:00",
          "1974-03-31T00:00:00",
          "1974-04-30T00:00:00",
          "1974-05-31T00:00:00",
          "1974-06-30T00:00:00",
          "1974-07-31T00:00:00",
          "1974-08-31T00:00:00",
          "1974-09-30T00:00:00",
          "1974-10-31T00:00:00",
          "1974-11-30T00:00:00",
          "1974-12-31T00:00:00",
          "1975-01-31T00:00:00",
          "1975-02-28T00:00:00",
          "1975-03-31T00:00:00",
          "1975-04-30T00:00:00",
          "1975-05-31T00:00:00",
          "1975-06-30T00:00:00",
          "1975-07-31T00:00:00",
          "1975-08-31T00:00:00",
          "1975-09-30T00:00:00",
          "1975-10-31T00:00:00",
          "1975-11-30T00:00:00",
          "1975-12-31T00:00:00",
          "1976-01-31T00:00:00",
          "1976-02-29T00:00:00",
          "1976-03-31T00:00:00",
          "1976-04-30T00:00:00",
          "1976-05-31T00:00:00",
          "1976-06-30T00:00:00",
          "1976-07-31T00:00:00",
          "1976-08-31T00:00:00",
          "1976-09-30T00:00:00",
          "1976-10-31T00:00:00",
          "1976-11-30T00:00:00",
          "1976-12-31T00:00:00",
          "1977-01-31T00:00:00",
          "1977-02-28T00:00:00",
          "1977-03-31T00:00:00",
          "1977-04-30T00:00:00",
          "1977-05-31T00:00:00",
          "1977-06-30T00:00:00",
          "1977-07-31T00:00:00",
          "1977-08-31T00:00:00",
          "1977-09-30T00:00:00",
          "1977-10-31T00:00:00",
          "1977-11-30T00:00:00",
          "1977-12-31T00:00:00",
          "1978-01-31T00:00:00",
          "1978-02-28T00:00:00",
          "1978-03-31T00:00:00",
          "1978-04-30T00:00:00",
          "1978-05-31T00:00:00",
          "1978-06-30T00:00:00",
          "1978-07-31T00:00:00",
          "1978-08-31T00:00:00",
          "1978-09-30T00:00:00",
          "1978-10-31T00:00:00",
          "1978-11-30T00:00:00",
          "1978-12-31T00:00:00",
          "1979-01-31T00:00:00",
          "1979-02-28T00:00:00",
          "1979-03-31T00:00:00",
          "1979-04-30T00:00:00",
          "1979-05-31T00:00:00",
          "1979-06-30T00:00:00",
          "1979-07-31T00:00:00",
          "1979-08-31T00:00:00",
          "1979-09-30T00:00:00",
          "1979-10-31T00:00:00",
          "1979-11-30T00:00:00",
          "1979-12-31T00:00:00",
          "1980-01-31T00:00:00",
          "1980-02-29T00:00:00",
          "1980-03-31T00:00:00",
          "1980-04-30T00:00:00",
          "1980-05-31T00:00:00",
          "1980-06-30T00:00:00",
          "1980-07-31T00:00:00",
          "1980-08-31T00:00:00",
          "1980-09-30T00:00:00",
          "1980-10-31T00:00:00",
          "1980-11-30T00:00:00",
          "1980-12-31T00:00:00",
          "1981-01-31T00:00:00",
          "1981-02-28T00:00:00",
          "1981-03-31T00:00:00",
          "1981-04-30T00:00:00",
          "1981-05-31T00:00:00",
          "1981-06-30T00:00:00",
          "1981-07-31T00:00:00",
          "1981-08-31T00:00:00",
          "1981-09-30T00:00:00",
          "1981-10-31T00:00:00",
          "1981-11-30T00:00:00",
          "1981-12-31T00:00:00",
          "1982-01-31T00:00:00",
          "1982-02-28T00:00:00",
          "1982-03-31T00:00:00",
          "1982-04-30T00:00:00",
          "1982-05-31T00:00:00",
          "1982-06-30T00:00:00",
          "1982-07-31T00:00:00",
          "1982-08-31T00:00:00",
          "1982-09-30T00:00:00",
          "1982-10-31T00:00:00",
          "1982-11-30T00:00:00",
          "1982-12-31T00:00:00",
          "1983-01-31T00:00:00",
          "1983-02-28T00:00:00",
          "1983-03-31T00:00:00",
          "1983-04-30T00:00:00",
          "1983-05-31T00:00:00",
          "1983-06-30T00:00:00",
          "1983-07-31T00:00:00",
          "1983-08-31T00:00:00",
          "1983-09-30T00:00:00",
          "1983-10-31T00:00:00",
          "1983-11-30T00:00:00",
          "1983-12-31T00:00:00",
          "1984-01-31T00:00:00",
          "1984-02-29T00:00:00",
          "1984-03-31T00:00:00",
          "1984-04-30T00:00:00",
          "1984-05-31T00:00:00",
          "1984-06-30T00:00:00",
          "1984-07-31T00:00:00",
          "1984-08-31T00:00:00",
          "1984-09-30T00:00:00",
          "1984-10-31T00:00:00",
          "1984-11-30T00:00:00",
          "1984-12-31T00:00:00",
          "1985-01-31T00:00:00",
          "1985-02-28T00:00:00",
          "1985-03-31T00:00:00",
          "1985-04-30T00:00:00",
          "1985-05-31T00:00:00",
          "1985-06-30T00:00:00",
          "1985-07-31T00:00:00",
          "1985-08-31T00:00:00",
          "1985-09-30T00:00:00",
          "1985-10-31T00:00:00",
          "1985-11-30T00:00:00",
          "1985-12-31T00:00:00",
          "1986-01-31T00:00:00",
          "1986-02-28T00:00:00",
          "1986-03-31T00:00:00",
          "1986-04-30T00:00:00",
          "1986-05-31T00:00:00",
          "1986-06-30T00:00:00",
          "1986-07-31T00:00:00",
          "1986-08-31T00:00:00",
          "1986-09-30T00:00:00",
          "1986-10-31T00:00:00",
          "1986-11-30T00:00:00",
          "1986-12-31T00:00:00",
          "1987-01-31T00:00:00",
          "1987-02-28T00:00:00",
          "1987-03-31T00:00:00",
          "1987-04-30T00:00:00",
          "1987-05-31T00:00:00",
          "1987-06-30T00:00:00",
          "1987-07-31T00:00:00",
          "1987-08-31T00:00:00",
          "1987-09-30T00:00:00",
          "1987-10-31T00:00:00",
          "1987-11-30T00:00:00",
          "1987-12-31T00:00:00",
          "1988-01-31T00:00:00",
          "1988-02-29T00:00:00",
          "1988-03-31T00:00:00",
          "1988-04-30T00:00:00",
          "1988-05-31T00:00:00",
          "1988-06-30T00:00:00",
          "1988-07-31T00:00:00",
          "1988-08-31T00:00:00",
          "1988-09-30T00:00:00",
          "1988-10-31T00:00:00",
          "1988-11-30T00:00:00",
          "1988-12-31T00:00:00",
          "1989-01-31T00:00:00",
          "1989-02-28T00:00:00",
          "1989-03-31T00:00:00",
          "1989-04-30T00:00:00",
          "1989-05-31T00:00:00",
          "1989-06-30T00:00:00",
          "1989-07-31T00:00:00",
          "1989-08-31T00:00:00",
          "1989-09-30T00:00:00",
          "1989-10-31T00:00:00",
          "1989-11-30T00:00:00",
          "1989-12-31T00:00:00",
          "1990-01-31T00:00:00",
          "1990-02-28T00:00:00",
          "1990-03-31T00:00:00",
          "1990-04-30T00:00:00",
          "1990-05-31T00:00:00",
          "1990-06-30T00:00:00",
          "1990-07-31T00:00:00",
          "1990-08-31T00:00:00",
          "1990-09-30T00:00:00",
          "1990-10-31T00:00:00",
          "1990-11-30T00:00:00",
          "1990-12-31T00:00:00",
          "1991-01-31T00:00:00",
          "1991-02-28T00:00:00",
          "1991-03-31T00:00:00",
          "1991-04-30T00:00:00",
          "1991-05-31T00:00:00",
          "1991-06-30T00:00:00",
          "1991-07-31T00:00:00",
          "1991-08-31T00:00:00",
          "1991-09-30T00:00:00",
          "1991-10-31T00:00:00",
          "1991-11-30T00:00:00",
          "1991-12-31T00:00:00",
          "1992-01-31T00:00:00",
          "1992-02-29T00:00:00",
          "1992-03-31T00:00:00",
          "1992-04-30T00:00:00",
          "1992-05-31T00:00:00",
          "1992-06-30T00:00:00",
          "1992-07-31T00:00:00",
          "1992-08-31T00:00:00",
          "1992-09-30T00:00:00",
          "1992-10-31T00:00:00",
          "1992-11-30T00:00:00",
          "1992-12-31T00:00:00",
          "1993-01-31T00:00:00",
          "1993-02-28T00:00:00",
          "1993-03-31T00:00:00",
          "1993-04-30T00:00:00",
          "1993-05-31T00:00:00",
          "1993-06-30T00:00:00",
          "1993-07-31T00:00:00",
          "1993-08-31T00:00:00",
          "1993-09-30T00:00:00",
          "1993-10-31T00:00:00",
          "1993-11-30T00:00:00",
          "1993-12-31T00:00:00",
          "1994-01-31T00:00:00",
          "1994-02-28T00:00:00",
          "1994-03-31T00:00:00",
          "1994-04-30T00:00:00",
          "1994-05-31T00:00:00",
          "1994-06-30T00:00:00",
          "1994-07-31T00:00:00",
          "1994-08-31T00:00:00",
          "1994-09-30T00:00:00",
          "1994-10-31T00:00:00",
          "1994-11-30T00:00:00",
          "1994-12-31T00:00:00",
          "1995-01-31T00:00:00",
          "1995-02-28T00:00:00",
          "1995-03-31T00:00:00",
          "1995-04-30T00:00:00",
          "1995-05-31T00:00:00",
          "1995-06-30T00:00:00",
          "1995-07-31T00:00:00",
          "1995-08-31T00:00:00",
          "1995-09-30T00:00:00",
          "1995-10-31T00:00:00",
          "1995-11-30T00:00:00",
          "1995-12-31T00:00:00",
          "1996-01-31T00:00:00",
          "1996-02-29T00:00:00",
          "1996-03-31T00:00:00",
          "1996-04-30T00:00:00",
          "1996-05-31T00:00:00",
          "1996-06-30T00:00:00",
          "1996-07-31T00:00:00",
          "1996-08-31T00:00:00",
          "1996-09-30T00:00:00",
          "1996-10-31T00:00:00",
          "1996-11-30T00:00:00",
          "1996-12-31T00:00:00",
          "1997-01-31T00:00:00",
          "1997-02-28T00:00:00",
          "1997-03-31T00:00:00",
          "1997-04-30T00:00:00",
          "1997-05-31T00:00:00",
          "1997-06-30T00:00:00",
          "1997-07-31T00:00:00",
          "1997-08-31T00:00:00",
          "1997-09-30T00:00:00",
          "1997-10-31T00:00:00",
          "1997-11-30T00:00:00",
          "1997-12-31T00:00:00",
          "1998-01-31T00:00:00",
          "1998-02-28T00:00:00",
          "1998-03-31T00:00:00",
          "1998-04-30T00:00:00",
          "1998-05-31T00:00:00",
          "1998-06-30T00:00:00",
          "1998-07-31T00:00:00",
          "1998-08-31T00:00:00",
          "1998-09-30T00:00:00",
          "1998-10-31T00:00:00",
          "1998-11-30T00:00:00",
          "1998-12-31T00:00:00",
          "1999-01-31T00:00:00",
          "1999-02-28T00:00:00",
          "1999-03-31T00:00:00",
          "1999-04-30T00:00:00",
          "1999-05-31T00:00:00",
          "1999-06-30T00:00:00",
          "1999-07-31T00:00:00",
          "1999-08-31T00:00:00",
          "1999-09-30T00:00:00",
          "1999-10-31T00:00:00",
          "1999-11-30T00:00:00",
          "1999-12-31T00:00:00",
          "2000-01-31T00:00:00",
          "2000-02-29T00:00:00",
          "2000-03-31T00:00:00",
          "2000-04-30T00:00:00",
          "2000-05-31T00:00:00",
          "2000-06-30T00:00:00",
          "2000-07-31T00:00:00",
          "2000-08-31T00:00:00",
          "2000-09-30T00:00:00",
          "2000-10-31T00:00:00",
          "2000-11-30T00:00:00",
          "2000-12-31T00:00:00",
          "2001-01-31T00:00:00",
          "2001-02-28T00:00:00",
          "2001-03-31T00:00:00",
          "2001-04-30T00:00:00",
          "2001-05-31T00:00:00",
          "2001-06-30T00:00:00",
          "2001-07-31T00:00:00",
          "2001-08-31T00:00:00",
          "2001-09-30T00:00:00",
          "2001-10-31T00:00:00",
          "2001-11-30T00:00:00",
          "2001-12-31T00:00:00",
          "2002-01-31T00:00:00",
          "2002-02-28T00:00:00",
          "2002-03-31T00:00:00",
          "2002-04-30T00:00:00",
          "2002-05-31T00:00:00",
          "2002-06-30T00:00:00",
          "2002-07-31T00:00:00",
          "2002-08-31T00:00:00",
          "2002-09-30T00:00:00",
          "2002-10-31T00:00:00",
          "2002-11-30T00:00:00",
          "2002-12-31T00:00:00",
          "2003-01-31T00:00:00",
          "2003-02-28T00:00:00",
          "2003-03-31T00:00:00",
          "2003-04-30T00:00:00",
          "2003-05-31T00:00:00",
          "2003-06-30T00:00:00",
          "2003-07-31T00:00:00",
          "2003-08-31T00:00:00",
          "2003-09-30T00:00:00",
          "2003-10-31T00:00:00",
          "2003-11-30T00:00:00",
          "2003-12-31T00:00:00",
          "2004-01-31T00:00:00",
          "2004-02-29T00:00:00",
          "2004-03-31T00:00:00",
          "2004-04-30T00:00:00",
          "2004-05-31T00:00:00",
          "2004-06-30T00:00:00",
          "2004-07-31T00:00:00",
          "2004-08-31T00:00:00",
          "2004-09-30T00:00:00",
          "2004-10-31T00:00:00",
          "2004-11-30T00:00:00",
          "2004-12-31T00:00:00",
          "2005-01-31T00:00:00",
          "2005-02-28T00:00:00",
          "2005-03-31T00:00:00",
          "2005-04-30T00:00:00",
          "2005-05-31T00:00:00",
          "2005-06-30T00:00:00",
          "2005-07-31T00:00:00",
          "2005-08-31T00:00:00",
          "2005-09-30T00:00:00",
          "2005-10-31T00:00:00",
          "2005-11-30T00:00:00",
          "2005-12-31T00:00:00",
          "2006-01-31T00:00:00",
          "2006-02-28T00:00:00",
          "2006-03-31T00:00:00",
          "2006-04-30T00:00:00",
          "2006-05-31T00:00:00",
          "2006-06-30T00:00:00",
          "2006-07-31T00:00:00",
          "2006-08-31T00:00:00",
          "2006-09-30T00:00:00",
          "2006-10-31T00:00:00",
          "2006-11-30T00:00:00",
          "2006-12-31T00:00:00",
          "2007-01-31T00:00:00",
          "2007-02-28T00:00:00",
          "2007-03-31T00:00:00",
          "2007-04-30T00:00:00",
          "2007-05-31T00:00:00",
          "2007-06-30T00:00:00",
          "2007-07-31T00:00:00",
          "2007-08-31T00:00:00",
          "2007-09-30T00:00:00",
          "2007-10-31T00:00:00",
          "2007-11-30T00:00:00",
          "2007-12-31T00:00:00",
          "2008-01-31T00:00:00",
          "2008-02-29T00:00:00",
          "2008-03-31T00:00:00",
          "2008-04-30T00:00:00",
          "2008-05-31T00:00:00",
          "2008-06-30T00:00:00",
          "2008-07-31T00:00:00",
          "2008-08-31T00:00:00",
          "2008-09-30T00:00:00",
          "2008-10-31T00:00:00",
          "2008-11-30T00:00:00",
          "2008-12-31T00:00:00",
          "2009-01-31T00:00:00",
          "2009-02-28T00:00:00",
          "2009-03-31T00:00:00",
          "2009-04-30T00:00:00",
          "2009-05-31T00:00:00",
          "2009-06-30T00:00:00",
          "2009-07-31T00:00:00",
          "2009-08-31T00:00:00",
          "2009-09-30T00:00:00",
          "2009-10-31T00:00:00",
          "2009-11-30T00:00:00",
          "2009-12-31T00:00:00",
          "2010-01-31T00:00:00",
          "2010-02-28T00:00:00",
          "2010-03-31T00:00:00",
          "2010-04-30T00:00:00",
          "2010-05-31T00:00:00",
          "2010-06-30T00:00:00",
          "2010-07-31T00:00:00",
          "2010-08-31T00:00:00",
          "2010-09-30T00:00:00",
          "2010-10-31T00:00:00",
          "2010-11-30T00:00:00",
          "2010-12-31T00:00:00",
          "2011-01-31T00:00:00",
          "2011-02-28T00:00:00",
          "2011-03-31T00:00:00",
          "2011-04-30T00:00:00",
          "2011-05-31T00:00:00",
          "2011-06-30T00:00:00",
          "2011-07-31T00:00:00",
          "2011-08-31T00:00:00",
          "2011-09-30T00:00:00",
          "2011-10-31T00:00:00",
          "2011-11-30T00:00:00",
          "2011-12-31T00:00:00",
          "2012-01-31T00:00:00",
          "2012-02-29T00:00:00",
          "2012-03-31T00:00:00",
          "2012-04-30T00:00:00",
          "2012-05-31T00:00:00",
          "2012-06-30T00:00:00",
          "2012-07-31T00:00:00",
          "2012-08-31T00:00:00",
          "2012-09-30T00:00:00",
          "2012-10-31T00:00:00",
          "2012-11-30T00:00:00",
          "2012-12-31T00:00:00",
          "2013-01-31T00:00:00",
          "2013-02-28T00:00:00",
          "2013-03-31T00:00:00",
          "2013-04-30T00:00:00",
          "2013-05-31T00:00:00",
          "2013-06-30T00:00:00",
          "2013-07-31T00:00:00",
          "2013-08-31T00:00:00",
          "2013-09-30T00:00:00",
          "2013-10-31T00:00:00",
          "2013-11-30T00:00:00",
          "2013-12-31T00:00:00",
          "2014-01-31T00:00:00",
          "2014-02-28T00:00:00",
          "2014-03-31T00:00:00",
          "2014-04-30T00:00:00",
          "2014-05-31T00:00:00",
          "2014-06-30T00:00:00",
          "2014-07-31T00:00:00",
          "2014-08-31T00:00:00",
          "2014-09-30T00:00:00",
          "2014-10-31T00:00:00",
          "2014-11-30T00:00:00",
          "2014-12-31T00:00:00",
          "2015-01-31T00:00:00",
          "2015-02-28T00:00:00",
          "2015-03-31T00:00:00",
          "2015-04-30T00:00:00",
          "2015-05-31T00:00:00",
          "2015-06-30T00:00:00",
          "2015-07-31T00:00:00",
          "2015-08-31T00:00:00",
          "2015-09-30T00:00:00",
          "2015-10-31T00:00:00",
          "2015-11-30T00:00:00",
          "2015-12-31T00:00:00",
          "2016-01-31T00:00:00",
          "2016-02-29T00:00:00",
          "2016-03-31T00:00:00",
          "2016-04-30T00:00:00",
          "2016-05-31T00:00:00",
          "2016-06-30T00:00:00",
          "2016-07-31T00:00:00",
          "2016-08-31T00:00:00",
          "2016-09-30T00:00:00",
          "2016-10-31T00:00:00",
          "2016-11-30T00:00:00",
          "2016-12-31T00:00:00",
          "2017-01-31T00:00:00",
          "2017-02-28T00:00:00",
          "2017-03-31T00:00:00",
          "2017-04-30T00:00:00",
          "2017-05-31T00:00:00",
          "2017-06-30T00:00:00",
          "2017-07-31T00:00:00",
          "2017-08-31T00:00:00",
          "2017-09-30T00:00:00",
          "2017-10-31T00:00:00",
          "2017-11-30T00:00:00",
          "2017-12-31T00:00:00",
          "2018-01-31T00:00:00",
          "2018-02-28T00:00:00",
          "2018-03-31T00:00:00",
          "2018-04-30T00:00:00",
          "2018-05-31T00:00:00",
          "2018-06-30T00:00:00",
          "2018-07-31T00:00:00",
          "2018-08-31T00:00:00",
          "2018-09-30T00:00:00",
          "2018-10-31T00:00:00",
          "2018-11-30T00:00:00",
          "2018-12-31T00:00:00",
          "2019-01-31T00:00:00",
          "2019-02-28T00:00:00",
          "2019-03-31T00:00:00",
          "2019-04-30T00:00:00",
          "2019-05-31T00:00:00",
          "2019-06-30T00:00:00",
          "2019-07-31T00:00:00",
          "2019-08-31T00:00:00",
          "2019-09-30T00:00:00",
          "2019-10-31T00:00:00",
          "2019-11-30T00:00:00",
          "2019-12-31T00:00:00",
          "2020-01-31T00:00:00",
          "2020-02-29T00:00:00",
          "2020-03-31T00:00:00",
          "2020-04-30T00:00:00",
          "2020-05-31T00:00:00",
          "2020-06-30T00:00:00",
          "2020-07-31T00:00:00",
          "2020-08-31T00:00:00",
          "2020-09-30T00:00:00",
          "2020-10-31T00:00:00",
          "2020-11-30T00:00:00",
          "2020-12-31T00:00:00",
          "2021-01-31T00:00:00",
          "2021-02-28T00:00:00",
          "2021-03-31T00:00:00",
          "2021-04-30T00:00:00",
          "2021-05-31T00:00:00",
          "2021-06-30T00:00:00",
          "2021-07-31T00:00:00",
          "2021-08-31T00:00:00",
          "2021-09-30T00:00:00",
          "2021-10-31T00:00:00",
          "2021-11-30T00:00:00",
          "2021-12-31T00:00:00",
          "2022-01-31T00:00:00",
          "2022-02-28T00:00:00",
          "2022-03-31T00:00:00",
          "2022-04-30T00:00:00",
          "2022-05-31T00:00:00",
          "2022-06-30T00:00:00",
          "2022-07-31T00:00:00",
          "2022-08-31T00:00:00",
          "2022-09-30T00:00:00",
          "2022-10-31T00:00:00",
          "2022-11-30T00:00:00"
         ],
         "y": [
          10.24209,
          9.48196,
          6.81818,
          8.27273,
          9.38497,
          9.375,
          9.76158,
          9.0625,
          6.65499,
          6.11087,
          4.77016,
          2.73387,
          1.39358,
          1.01394,
          1.74468,
          0.41982,
          -0.41649,
          -0.95238,
          -2.86885,
          -2.98813,
          -2.50411,
          -2.63266,
          -1.90397,
          -1.82952,
          -2.08247,
          -1.25471,
          -1.12923,
          -1.12876,
          -0.58553,
          -0.16722,
          1.56118,
          2.1097,
          2.48421,
          3.50655,
          3.79747,
          5.80263,
          7.95406,
          9.4028,
          9.47547,
          9.59831,
          9.3395,
          8.58459,
          7.64437,
          6.8595,
          6.9433,
          6.77551,
          6.99187,
          5.96477,
          4.21592,
          2.24545,
          1.97063,
          2.08333,
          1.84686,
          2.31392,
          2.97183,
          3.20959,
          2.30503,
          2.02599,
          1.40578,
          0.90669,
          0.71834,
          0.68156,
          0.90944,
          0.86924,
          0.86891,
          0.90464,
          0.41229,
          0.59948,
          0.97634,
          0.97415,
          0.59948,
          0.59903,
          1.12613,
          1.50432,
          1.12655,
          0.63694,
          0.86142,
          0.63504,
          0.26129,
          0,
          -0.29751,
          -0.85343,
          -0.26071,
          -0.37216,
          -0.63103,
          -0.62986,
          -0.51987,
          -0.26061,
          -0.59413,
          -0.85375,
          -0.3723,
          -0.48417,
          0.1492,
          0.37425,
          0.37341,
          0.37355,
          0.22413,
          0.14914,
          0.37327,
          0.52258,
          0.97124,
          1.64732,
          1.98057,
          2.20808,
          1.8622,
          2.57271,
          2.34375,
          2.82843,
          3.13082,
          3.49963,
          3.60729,
          3.71333,
          3.58861,
          3.53591,
          3.29791,
          3.55181,
          3.54662,
          2.94438,
          3.27154,
          3.04017,
          3.5056,
          3.23741,
          3.62527,
          3.61618,
          3.35714,
          2.84596,
          2.48315,
          2.3338,
          2.08333,
          2.08333,
          1.90074,
          1.75623,
          1.2919,
          1.0453,
          0.34638,
          0.13822,
          0.34554,
          0.6918,
          0.89997,
          0.8293,
          1.17606,
          1.52196,
          1.38169,
          1.51881,
          1.24095,
          1.41379,
          1.51881,
          1.93237,
          1.82507,
          1.71762,
          1.37221,
          1.47361,
          1.23077,
          1.36286,
          1.46508,
          1.36008,
          1.60027,
          1.46209,
          1.46209,
          0.91401,
          0.91309,
          0.77676,
          1.25212,
          1.11449,
          1.24958,
          0.77311,
          0.67159,
          0.67092,
          0.67024,
          0.90483,
          1.1059,
          1.34183,
          1.34048,
          1.23995,
          1.00267,
          1.1356,
          1.46765,
          1.33422,
          1.33422,
          1.23292,
          1.33156,
          1.22883,
          1.12695,
          0.89374,
          0.89286,
          1.32406,
          1.55526,
          1.55218,
          0.98619,
          1.21791,
          1.31666,
          1.64582,
          1.64258,
          1.41076,
          1.40937,
          1.54199,
          1.54048,
          1.30676,
          1.07527,
          0.97561,
          1.17188,
          1.20325,
          1.39701,
          1.19819,
          1.0989,
          1.19702,
          1.19586,
          1.38934,
          1.61394,
          1.93486,
          1.80529,
          1.61031,
          1.73745,
          1.70308,
          1.73021,
          1.92,
          1.91816,
          2.55754,
          2.77866,
          2.86807,
          2.76366,
          2.43594,
          2.75491,
          3.48653,
          3.57369,
          3.79147,
          3.55906,
          3.3595,
          3.1995,
          2.86783,
          2.54817,
          2.54027,
          2.31839,
          2.84126,
          2.92758,
          2.60337,
          2.59542,
          2.58752,
          3.10219,
          3.28068,
          3.64742,
          3.63636,
          3.93939,
          3.92749,
          4.22961,
          4.2042,
          4.49102,
          4.47761,
          4.46429,
          4.74777,
          4.42478,
          4.70588,
          4.69208,
          4.67836,
          5.24781,
          5.52326,
          5.50725,
          5.4755,
          5.44413,
          5.42857,
          5.69801,
          5.66572,
          5.9322,
          5.89888,
          6.16246,
          6.42458,
          6.09418,
          6.06061,
          6.04396,
          6.01093,
          5.70652,
          5.69106,
          5.66038,
          5.63003,
          5.6,
          5.57029,
          5.27704,
          4.72441,
          4.43864,
          4.15584,
          4.40415,
          4.38144,
          4.37018,
          4.35897,
          4.08163,
          3.80711,
          3.53535,
          3.26633,
          3.25815,
          3.7594,
          3.5,
          3.49127,
          3.22581,
          2.96296,
          2.95567,
          2.9484,
          3.18627,
          3.17848,
          3.41463,
          3.40633,
          3.64078,
          3.86473,
          4.83092,
          5.3012,
          5.52885,
          5.9952,
          5.74163,
          7.39857,
          7.36342,
          8.05687,
          8.25472,
          8.94118,
          9.60187,
          10,
          10.13825,
          10.06865,
          10.70615,
          10.85973,
          11.53846,
          10.88889,
          11.9469,
          11.84211,
          12.20044,
          12.09503,
          11.75214,
          11.20507,
          10.46025,
          10.18711,
          9.25926,
          9.18367,
          9.53347,
          8.61723,
          7.90514,
          7.64706,
          7.37864,
          7.12909,
          6.69216,
          6.27376,
          6.06061,
          5.84906,
          6.21469,
          5.98131,
          5.55556,
          5.71956,
          5.49451,
          5.46448,
          5.06329,
          5.03597,
          5.19713,
          6.08229,
          6.42857,
          6.95187,
          6.73759,
          6.70194,
          6.66667,
          6.63176,
          6.42361,
          6.39033,
          6.71256,
          6.67808,
          6.81431,
          6.23946,
          6.37584,
          6.5,
          7.14286,
          7.43802,
          7.73026,
          7.85597,
          8.48287,
          8.92857,
          8.87097,
          8.98876,
          9.2504,
          9.84127,
          10.25237,
          10.48513,
          10.69767,
          11.07692,
          11.45038,
          11.83612,
          11.8797,
          12.07154,
          12.59259,
          13.25479,
          13.86861,
          14.16185,
          14.59227,
          14.58924,
          14.42577,
          14.26593,
          13.15068,
          12.89009,
          12.76882,
          12.63298,
          12.63158,
          12.35371,
          11.79487,
          11.39241,
          10.61174,
          10.13597,
          9.79192,
          9.69697,
          10.77482,
          10.81731,
          10.96544,
          10.27155,
          9.57944,
          8.91204,
          8.25688,
          7.61364,
          6.88488,
          6.62177,
          6.91193,
          7.18232,
          6.55738,
          5.96529,
          4.94092,
          5.03212,
          4.47761,
          3.82572,
          3.70763,
          3.48469,
          3.59029,
          4,
          3.44108,
          2.47423,
          2.35897,
          2.4565,
          2.76356,
          2.75229,
          3.16327,
          3.7871,
          4.29009,
          4.69388,
          4.89297,
          4.55466,
          4.33468,
          4.32596,
          4.30862,
          4.2957,
          4.28287,
          4.26587,
          4.1543,
          4.04339,
          3.52595,
          3.60624,
          3.79009,
          3.5818,
          3.57488,
          3.66442,
          3.45821,
          3.35249,
          3.24737,
          3.23501,
          3.51377,
          3.79147,
          3.97351,
          3.19849,
          2.15356,
          1.58879,
          1.6791,
          1.76744,
          1.67131,
          1.57553,
          1.75763,
          1.56682,
          1.2844,
          1.18721,
          1.36488,
          1.91431,
          2.84143,
          3.67985,
          3.66972,
          3.74771,
          3.92694,
          4.28832,
          4.27273,
          4.35572,
          4.52899,
          4.33213,
          4.12926,
          3.9356,
          3.83244,
          3.9929,
          3.9823,
          3.96476,
          4.13005,
          4.11199,
          4.18483,
          4.26087,
          4.2461,
          4.41176,
          4.48276,
          4.64716,
          4.8927,
          5.03413,
          5.2766,
          5.16949,
          5.06329,
          4.62185,
          4.43515,
          4.58716,
          4.65503,
          4.6396,
          5.19802,
          5.26316,
          5.23732,
          4.71162,
          4.3654,
          4.67365,
          4.81928,
          5.70281,
          6.16987,
          6.37959,
          6.19539,
          6.25495,
          5.64706,
          5.3125,
          4.82115,
          4.80993,
          5.03486,
          4.69592,
          4.36782,
          3.79939,
          3.39623,
          2.84858,
          3.06657,
          2.98063,
          2.67261,
          2.81899,
          3.18991,
          3.18283,
          3.0236,
          3.01471,
          3.15712,
          3.07467,
          2.9927,
          3.27988,
          3.12046,
          2.96671,
          3.2538,
          3.24675,
          3.01941,
          3.15638,
          3.22119,
          2.99786,
          2.84698,
          2.84091,
          2.764,
          2.75229,
          2.74455,
          2.81096,
          2.45098,
          2.51572,
          2.65178,
          2.36439,
          2.28849,
          2.4948,
          2.69896,
          2.90055,
          2.96552,
          2.60989,
          2.60274,
          2.5974,
          2.87081,
          2.86299,
          2.78722,
          3.125,
          3.11864,
          3.0426,
          2.83019,
          2.61745,
          2.54521,
          2.74431,
          2.60347,
          2.53165,
          2.7907,
          2.71703,
          2.84392,
          2.83267,
          2.82709,
          2.82152,
          2.88336,
          2.8123,
          3.00457,
          3.06189,
          3.25309,
          3.37882,
          3.03814,
          3.03226,
          2.76527,
          2.43434,
          2.23785,
          2.23357,
          2.16561,
          2.29008,
          2.2194,
          2.08597,
          1.89036,
          1.69705,
          1.63112,
          1.4402,
          1.37672,
          1.4384,
          1.68856,
          1.62297,
          1.74564,
          1.61692,
          1.4268,
          1.48607,
          1.48423,
          1.60692,
          1.66667,
          1.66667,
          1.7284,
          2.28113,
          2.09102,
          1.9656,
          2.14461,
          2.26438,
          2.62997,
          2.56254,
          2.62035,
          2.6764,
          2.79296,
          3.21797,
          3.76214,
          3.01386,
          3.13253,
          3.73494,
          3.59928,
          3.35129,
          3.4565,
          3.45033,
          3.44418,
          3.43602,
          3.7212,
          3.52941,
          2.98246,
          3.21826,
          3.56308,
          3.19396,
          2.72148,
          2.72148,
          2.59217,
          2.12766,
          1.89437,
          1.60367,
          1.1959,
          1.13636,
          1.36286,
          1.64399,
          1.24083,
          1.06922,
          1.46561,
          1.74746,
          1.516,
          2.02703,
          2.25352,
          2.48027,
          2.75746,
          3.14607,
          3.02521,
          2.17513,
          1.89415,
          1.94878,
          2.05556,
          2.21607,
          2.37832,
          2.04194,
          1.92837,
          2.0352,
          2.02629,
          1.68845,
          1.74008,
          2.29258,
          2.89776,
          3.16767,
          2.93958,
          2.54743,
          2.53917,
          3.19091,
          3.62162,
          3.34232,
          2.84487,
          3.05303,
          3.20684,
          3.36179,
          2.86929,
          2.54103,
          3.06716,
          3.64693,
          4.74183,
          4.3501,
          3.33855,
          3.33855,
          4.01879,
          3.63825,
          3.41792,
          3.61384,
          3.97727,
          4.18172,
          4.10467,
          3.92657,
          2.01207,
          1.40633,
          1.9687,
          2.52398,
          2.07577,
          2.42026,
          2.7982,
          2.59292,
          2.70989,
          2.69277,
          2.31789,
          1.89745,
          2.83383,
          3.6107,
          4.37327,
          4.10881,
          4.2947,
          4.14296,
          3.9749,
          3.90376,
          4.08841,
          4.93597,
          5.49751,
          5.30802,
          4.95332,
          3.73106,
          1.09992,
          -0.02223,
          -0.11359,
          0.00846,
          -0.44648,
          -0.57632,
          -1.01576,
          -1.22917,
          -1.95876,
          -1.48384,
          -1.37794,
          -0.22397,
          1.91459,
          2.81412,
          2.62111,
          2.15134,
          2.28617,
          2.20677,
          2.00355,
          1.12156,
          1.34078,
          1.15018,
          1.11831,
          1.1667,
          1.08454,
          1.43779,
          1.70078,
          2.1249,
          2.61924,
          3.07723,
          3.45897,
          3.50232,
          3.57988,
          3.755,
          3.81262,
          3.52227,
          3.45143,
          3.06207,
          3.00877,
          2.89818,
          2.58288,
          2.27316,
          1.73794,
          1.65387,
          1.41751,
          1.68593,
          1.94972,
          2.15568,
          1.79602,
          1.7595,
          1.68406,
          2.01814,
          1.51875,
          1.13881,
          1.39039,
          1.71579,
          1.88547,
          1.53881,
          1.09473,
          0.8768,
          1.23287,
          1.51284,
          1.55776,
          1.12047,
          1.61269,
          2.01513,
          2.16695,
          2.05898,
          1.97424,
          1.7151,
          1.68405,
          1.60954,
          1.23152,
          0.65312,
          -0.22993,
          -0.08703,
          -0.02203,
          -0.10403,
          0.03503,
          0.17957,
          0.22569,
          0.2413,
          0.00884,
          0.12762,
          0.43632,
          0.63872,
          1.2375,
          0.84728,
          0.89162,
          1.17263,
          1.07848,
          1.07929,
          0.86836,
          1.05532,
          1.54864,
          1.68592,
          1.68433,
          2.0508,
          2.51039,
          2.81036,
          2.4412,
          2.17622,
          1.85634,
          1.64057,
          1.72511,
          1.92812,
          2.18057,
          2.02076,
          2.17249,
          2.12993,
          2.15132,
          2.26347,
          2.33095,
          2.471,
          2.78192,
          2.80755,
          2.85412,
          2.64292,
          2.33206,
          2.49203,
          2.14733,
          2.00238,
          1.55068,
          1.52006,
          1.85314,
          1.99179,
          1.79352,
          1.64968,
          1.77976,
          1.74678,
          1.71662,
          1.76918,
          2.0622,
          2.31399,
          2.50042,
          2.33932,
          1.54287,
          0.3452,
          0.22641,
          0.71602,
          1.01414,
          1.30907,
          1.37148,
          1.18253,
          1.16756,
          1.32204,
          1.39478,
          1.69336,
          2.63052,
          4.13055,
          4.91503,
          5.28161,
          5.22151,
          5.18829,
          5.38363,
          6.23775,
          6.86239,
          7.19446,
          7.59528,
          7.95485,
          8.51522,
          8.22777,
          8.50233,
          8.93299,
          8.41318,
          8.22736,
          8.21485,
          7.76249,
          7.13535,
          6.44494
         ]
        }
       ],
       "layout": {
        "legend": {
         "tracegroupgap": 0
        },
        "shapes": [
         {
          "fillcolor": "pink",
          "line": {
           "width": 0
          },
          "opacity": 0.25,
          "type": "rect",
          "x0": 0,
          "x1": 1,
          "xref": "x domain",
          "y0": -10,
          "y1": 0,
          "yref": "y"
         },
         {
          "fillcolor": "yellow",
          "line": {
           "width": 0
          },
          "opacity": 0.25,
          "type": "rect",
          "x0": 0,
          "x1": 1,
          "xref": "x domain",
          "y0": 0,
          "y1": 1,
          "yref": "y"
         },
         {
          "fillcolor": "green",
          "line": {
           "width": 0
          },
          "opacity": 0.25,
          "type": "rect",
          "x0": 0,
          "x1": 1,
          "xref": "x domain",
          "y0": 1,
          "y1": 3,
          "yref": "y"
         },
         {
          "fillcolor": "red",
          "line": {
           "width": 0
          },
          "opacity": 0.25,
          "type": "rect",
          "x0": 0,
          "x1": 1,
          "xref": "x domain",
          "y0": 3,
          "y1": 20,
          "yref": "y"
         }
        ],
        "template": {
         "data": {
          "bar": [
           {
            "error_x": {
             "color": "#2a3f5f"
            },
            "error_y": {
             "color": "#2a3f5f"
            },
            "marker": {
             "line": {
              "color": "#E5ECF6",
              "width": 0.5
             },
             "pattern": {
              "fillmode": "overlay",
              "size": 10,
              "solidity": 0.2
             }
            },
            "type": "bar"
           }
          ],
          "barpolar": [
           {
            "marker": {
             "line": {
              "color": "#E5ECF6",
              "width": 0.5
             },
             "pattern": {
              "fillmode": "overlay",
              "size": 10,
              "solidity": 0.2
             }
            },
            "type": "barpolar"
           }
          ],
          "carpet": [
           {
            "aaxis": {
             "endlinecolor": "#2a3f5f",
             "gridcolor": "white",
             "linecolor": "white",
             "minorgridcolor": "white",
             "startlinecolor": "#2a3f5f"
            },
            "baxis": {
             "endlinecolor": "#2a3f5f",
             "gridcolor": "white",
             "linecolor": "white",
             "minorgridcolor": "white",
             "startlinecolor": "#2a3f5f"
            },
            "type": "carpet"
           }
          ],
          "choropleth": [
           {
            "colorbar": {
             "outlinewidth": 0,
             "ticks": ""
            },
            "type": "choropleth"
           }
          ],
          "contour": [
           {
            "colorbar": {
             "outlinewidth": 0,
             "ticks": ""
            },
            "colorscale": [
             [
              0,
              "#0d0887"
             ],
             [
              0.1111111111111111,
              "#46039f"
             ],
             [
              0.2222222222222222,
              "#7201a8"
             ],
             [
              0.3333333333333333,
              "#9c179e"
             ],
             [
              0.4444444444444444,
              "#bd3786"
             ],
             [
              0.5555555555555556,
              "#d8576b"
             ],
             [
              0.6666666666666666,
              "#ed7953"
             ],
             [
              0.7777777777777778,
              "#fb9f3a"
             ],
             [
              0.8888888888888888,
              "#fdca26"
             ],
             [
              1,
              "#f0f921"
             ]
            ],
            "type": "contour"
           }
          ],
          "contourcarpet": [
           {
            "colorbar": {
             "outlinewidth": 0,
             "ticks": ""
            },
            "type": "contourcarpet"
           }
          ],
          "heatmap": [
           {
            "colorbar": {
             "outlinewidth": 0,
             "ticks": ""
            },
            "colorscale": [
             [
              0,
              "#0d0887"
             ],
             [
              0.1111111111111111,
              "#46039f"
             ],
             [
              0.2222222222222222,
              "#7201a8"
             ],
             [
              0.3333333333333333,
              "#9c179e"
             ],
             [
              0.4444444444444444,
              "#bd3786"
             ],
             [
              0.5555555555555556,
              "#d8576b"
             ],
             [
              0.6666666666666666,
              "#ed7953"
             ],
             [
              0.7777777777777778,
              "#fb9f3a"
             ],
             [
              0.8888888888888888,
              "#fdca26"
             ],
             [
              1,
              "#f0f921"
             ]
            ],
            "type": "heatmap"
           }
          ],
          "heatmapgl": [
           {
            "colorbar": {
             "outlinewidth": 0,
             "ticks": ""
            },
            "colorscale": [
             [
              0,
              "#0d0887"
             ],
             [
              0.1111111111111111,
              "#46039f"
             ],
             [
              0.2222222222222222,
              "#7201a8"
             ],
             [
              0.3333333333333333,
              "#9c179e"
             ],
             [
              0.4444444444444444,
              "#bd3786"
             ],
             [
              0.5555555555555556,
              "#d8576b"
             ],
             [
              0.6666666666666666,
              "#ed7953"
             ],
             [
              0.7777777777777778,
              "#fb9f3a"
             ],
             [
              0.8888888888888888,
              "#fdca26"
             ],
             [
              1,
              "#f0f921"
             ]
            ],
            "type": "heatmapgl"
           }
          ],
          "histogram": [
           {
            "marker": {
             "pattern": {
              "fillmode": "overlay",
              "size": 10,
              "solidity": 0.2
             }
            },
            "type": "histogram"
           }
          ],
          "histogram2d": [
           {
            "colorbar": {
             "outlinewidth": 0,
             "ticks": ""
            },
            "colorscale": [
             [
              0,
              "#0d0887"
             ],
             [
              0.1111111111111111,
              "#46039f"
             ],
             [
              0.2222222222222222,
              "#7201a8"
             ],
             [
              0.3333333333333333,
              "#9c179e"
             ],
             [
              0.4444444444444444,
              "#bd3786"
             ],
             [
              0.5555555555555556,
              "#d8576b"
             ],
             [
              0.6666666666666666,
              "#ed7953"
             ],
             [
              0.7777777777777778,
              "#fb9f3a"
             ],
             [
              0.8888888888888888,
              "#fdca26"
             ],
             [
              1,
              "#f0f921"
             ]
            ],
            "type": "histogram2d"
           }
          ],
          "histogram2dcontour": [
           {
            "colorbar": {
             "outlinewidth": 0,
             "ticks": ""
            },
            "colorscale": [
             [
              0,
              "#0d0887"
             ],
             [
              0.1111111111111111,
              "#46039f"
             ],
             [
              0.2222222222222222,
              "#7201a8"
             ],
             [
              0.3333333333333333,
              "#9c179e"
             ],
             [
              0.4444444444444444,
              "#bd3786"
             ],
             [
              0.5555555555555556,
              "#d8576b"
             ],
             [
              0.6666666666666666,
              "#ed7953"
             ],
             [
              0.7777777777777778,
              "#fb9f3a"
             ],
             [
              0.8888888888888888,
              "#fdca26"
             ],
             [
              1,
              "#f0f921"
             ]
            ],
            "type": "histogram2dcontour"
           }
          ],
          "mesh3d": [
           {
            "colorbar": {
             "outlinewidth": 0,
             "ticks": ""
            },
            "type": "mesh3d"
           }
          ],
          "parcoords": [
           {
            "line": {
             "colorbar": {
              "outlinewidth": 0,
              "ticks": ""
             }
            },
            "type": "parcoords"
           }
          ],
          "pie": [
           {
            "automargin": true,
            "type": "pie"
           }
          ],
          "scatter": [
           {
            "marker": {
             "colorbar": {
              "outlinewidth": 0,
              "ticks": ""
             }
            },
            "type": "scatter"
           }
          ],
          "scatter3d": [
           {
            "line": {
             "colorbar": {
              "outlinewidth": 0,
              "ticks": ""
             }
            },
            "marker": {
             "colorbar": {
              "outlinewidth": 0,
              "ticks": ""
             }
            },
            "type": "scatter3d"
           }
          ],
          "scattercarpet": [
           {
            "marker": {
             "colorbar": {
              "outlinewidth": 0,
              "ticks": ""
             }
            },
            "type": "scattercarpet"
           }
          ],
          "scattergeo": [
           {
            "marker": {
             "colorbar": {
              "outlinewidth": 0,
              "ticks": ""
             }
            },
            "type": "scattergeo"
           }
          ],
          "scattergl": [
           {
            "marker": {
             "colorbar": {
              "outlinewidth": 0,
              "ticks": ""
             }
            },
            "type": "scattergl"
           }
          ],
          "scattermapbox": [
           {
            "marker": {
             "colorbar": {
              "outlinewidth": 0,
              "ticks": ""
             }
            },
            "type": "scattermapbox"
           }
          ],
          "scatterpolar": [
           {
            "marker": {
             "colorbar": {
              "outlinewidth": 0,
              "ticks": ""
             }
            },
            "type": "scatterpolar"
           }
          ],
          "scatterpolargl": [
           {
            "marker": {
             "colorbar": {
              "outlinewidth": 0,
              "ticks": ""
             }
            },
            "type": "scatterpolargl"
           }
          ],
          "scatterternary": [
           {
            "marker": {
             "colorbar": {
              "outlinewidth": 0,
              "ticks": ""
             }
            },
            "type": "scatterternary"
           }
          ],
          "surface": [
           {
            "colorbar": {
             "outlinewidth": 0,
             "ticks": ""
            },
            "colorscale": [
             [
              0,
              "#0d0887"
             ],
             [
              0.1111111111111111,
              "#46039f"
             ],
             [
              0.2222222222222222,
              "#7201a8"
             ],
             [
              0.3333333333333333,
              "#9c179e"
             ],
             [
              0.4444444444444444,
              "#bd3786"
             ],
             [
              0.5555555555555556,
              "#d8576b"
             ],
             [
              0.6666666666666666,
              "#ed7953"
             ],
             [
              0.7777777777777778,
              "#fb9f3a"
             ],
             [
              0.8888888888888888,
              "#fdca26"
             ],
             [
              1,
              "#f0f921"
             ]
            ],
            "type": "surface"
           }
          ],
          "table": [
           {
            "cells": {
             "fill": {
              "color": "#EBF0F8"
             },
             "line": {
              "color": "white"
             }
            },
            "header": {
             "fill": {
              "color": "#C8D4E3"
             },
             "line": {
              "color": "white"
             }
            },
            "type": "table"
           }
          ]
         },
         "layout": {
          "annotationdefaults": {
           "arrowcolor": "#2a3f5f",
           "arrowhead": 0,
           "arrowwidth": 1
          },
          "autotypenumbers": "strict",
          "coloraxis": {
           "colorbar": {
            "outlinewidth": 0,
            "ticks": ""
           }
          },
          "colorscale": {
           "diverging": [
            [
             0,
             "#8e0152"
            ],
            [
             0.1,
             "#c51b7d"
            ],
            [
             0.2,
             "#de77ae"
            ],
            [
             0.3,
             "#f1b6da"
            ],
            [
             0.4,
             "#fde0ef"
            ],
            [
             0.5,
             "#f7f7f7"
            ],
            [
             0.6,
             "#e6f5d0"
            ],
            [
             0.7,
             "#b8e186"
            ],
            [
             0.8,
             "#7fbc41"
            ],
            [
             0.9,
             "#4d9221"
            ],
            [
             1,
             "#276419"
            ]
           ],
           "sequential": [
            [
             0,
             "#0d0887"
            ],
            [
             0.1111111111111111,
             "#46039f"
            ],
            [
             0.2222222222222222,
             "#7201a8"
            ],
            [
             0.3333333333333333,
             "#9c179e"
            ],
            [
             0.4444444444444444,
             "#bd3786"
            ],
            [
             0.5555555555555556,
             "#d8576b"
            ],
            [
             0.6666666666666666,
             "#ed7953"
            ],
            [
             0.7777777777777778,
             "#fb9f3a"
            ],
            [
             0.8888888888888888,
             "#fdca26"
            ],
            [
             1,
             "#f0f921"
            ]
           ],
           "sequentialminus": [
            [
             0,
             "#0d0887"
            ],
            [
             0.1111111111111111,
             "#46039f"
            ],
            [
             0.2222222222222222,
             "#7201a8"
            ],
            [
             0.3333333333333333,
             "#9c179e"
            ],
            [
             0.4444444444444444,
             "#bd3786"
            ],
            [
             0.5555555555555556,
             "#d8576b"
            ],
            [
             0.6666666666666666,
             "#ed7953"
            ],
            [
             0.7777777777777778,
             "#fb9f3a"
            ],
            [
             0.8888888888888888,
             "#fdca26"
            ],
            [
             1,
             "#f0f921"
            ]
           ]
          },
          "colorway": [
           "#636efa",
           "#EF553B",
           "#00cc96",
           "#ab63fa",
           "#FFA15A",
           "#19d3f3",
           "#FF6692",
           "#B6E880",
           "#FF97FF",
           "#FECB52"
          ],
          "font": {
           "color": "#2a3f5f"
          },
          "geo": {
           "bgcolor": "white",
           "lakecolor": "white",
           "landcolor": "#E5ECF6",
           "showlakes": true,
           "showland": true,
           "subunitcolor": "white"
          },
          "hoverlabel": {
           "align": "left"
          },
          "hovermode": "closest",
          "mapbox": {
           "style": "light"
          },
          "paper_bgcolor": "white",
          "plot_bgcolor": "#E5ECF6",
          "polar": {
           "angularaxis": {
            "gridcolor": "white",
            "linecolor": "white",
            "ticks": ""
           },
           "bgcolor": "#E5ECF6",
           "radialaxis": {
            "gridcolor": "white",
            "linecolor": "white",
            "ticks": ""
           }
          },
          "scene": {
           "xaxis": {
            "backgroundcolor": "#E5ECF6",
            "gridcolor": "white",
            "gridwidth": 2,
            "linecolor": "white",
            "showbackground": true,
            "ticks": "",
            "zerolinecolor": "white"
           },
           "yaxis": {
            "backgroundcolor": "#E5ECF6",
            "gridcolor": "white",
            "gridwidth": 2,
            "linecolor": "white",
            "showbackground": true,
            "ticks": "",
            "zerolinecolor": "white"
           },
           "zaxis": {
            "backgroundcolor": "#E5ECF6",
            "gridcolor": "white",
            "gridwidth": 2,
            "linecolor": "white",
            "showbackground": true,
            "ticks": "",
            "zerolinecolor": "white"
           }
          },
          "shapedefaults": {
           "line": {
            "color": "#2a3f5f"
           }
          },
          "ternary": {
           "aaxis": {
            "gridcolor": "white",
            "linecolor": "white",
            "ticks": ""
           },
           "baxis": {
            "gridcolor": "white",
            "linecolor": "white",
            "ticks": ""
           },
           "bgcolor": "#E5ECF6",
           "caxis": {
            "gridcolor": "white",
            "linecolor": "white",
            "ticks": ""
           }
          },
          "title": {
           "x": 0.05
          },
          "xaxis": {
           "automargin": true,
           "gridcolor": "white",
           "linecolor": "white",
           "ticks": "",
           "title": {
            "standoff": 15
           },
           "zerolinecolor": "white",
           "zerolinewidth": 2
          },
          "yaxis": {
           "automargin": true,
           "gridcolor": "white",
           "linecolor": "white",
           "ticks": "",
           "title": {
            "standoff": 15
           },
           "zerolinecolor": "white",
           "zerolinewidth": 2
          }
         }
        },
        "title": {
         "text": "CPI Forecast"
        },
        "xaxis": {
         "anchor": "y",
         "domain": [
          0,
          1
         ],
         "title": {
          "text": "date"
         }
        },
        "yaxis": {
         "anchor": "x",
         "domain": [
          0,
          1
         ],
         "title": {
          "text": "Value"
         }
        }
       }
      }
     },
     "metadata": {},
     "output_type": "display_data"
    }
   ],
   "source": [
    "#plot cpi against forecast value\n",
    "fig = px.line(forecast, x=\"date\", y=\"Value\", title='CPI Forecast')\n",
    "# plot cpi on same graph\n",
    "fig.add_scatter(x=cpi[\"date\"], y=cpi[\"CPI\"], name=\"CPI\")\n",
    "\n",
    "bins = [-10, 0, 1 ,3,20]\n",
    "colors = [\"pink\", \"yellow\", \"green\", \"red\"]\n",
    "# add shades of color for inflation regimes\n",
    "for bins_i in range(len(bins)-1):\n",
    "    col = colors[bins_i]\n",
    "    l_bin = bins[bins_i]\n",
    "    u_bin = bins[bins_i+1]\n",
    "\n",
    "    fig.add_hrect(y0 = l_bin, y1=u_bin, fillcolor=col, opacity=0.25, line_width=0)\n",
    "\n",
    "fig.show()"
   ]
  },
  {
   "cell_type": "markdown",
   "metadata": {},
   "source": [
    "# Port Cons"
   ]
  },
  {
   "cell_type": "code",
   "execution_count": 3,
   "metadata": {},
   "outputs": [
    {
     "data": {
      "text/plain": [
       "'\\nmerge forecast and CPI and stocks\\nmove CPI and forecast back\\nforward feed forecast quarterly to monthly\\n\\nID times switchs in inflation regime given forecast\\n'"
      ]
     },
     "execution_count": 3,
     "metadata": {},
     "output_type": "execute_result"
    }
   ],
   "source": [
    "'''\n",
    "merge forecast and CPI and stocks\n",
    "move CPI and forecast back\n",
    "forward feed forecast quarterly to monthly\n",
    "\n",
    "ID times switchs in inflation regime given forecast\n",
    "'''\n",
    "\n"
   ]
  },
  {
   "cell_type": "code",
   "execution_count": 3,
   "metadata": {},
   "outputs": [],
   "source": [
    "cpi = get_inflation_diff(get_cpi())\n",
    "cpi = bin_inflation_regimes(cpi)"
   ]
  },
  {
   "cell_type": "code",
   "execution_count": 4,
   "metadata": {},
   "outputs": [],
   "source": [
    "forecast = pd.read_csv(\"DP_LIVE_15022023004115418.csv\")\n",
    "forecast[\"date\"] = pd.to_datetime(forecast[\"TIME\"])\n",
    "forecast = forecast.sort_values(by=\"date\")\n",
    "forecast[forecast.duplicated(subset=[\"date\"], keep=False)]\n",
    "forecast = forecast[forecast[\"LOCATION\"] == \"USA\"]\n",
    "\n",
    "forecast[\"date\"] = forecast[\"date\"]-timedelta(days=1)"
   ]
  },
  {
   "cell_type": "code",
   "execution_count": 5,
   "metadata": {},
   "outputs": [],
   "source": [
    "forecast = forecast[[\"date\", \"Value\"]]"
   ]
  },
  {
   "cell_type": "code",
   "execution_count": 6,
   "metadata": {},
   "outputs": [],
   "source": [
    "cpi = cpi.merge(forecast,on=\"date\", how=\"left\")"
   ]
  },
  {
   "cell_type": "code",
   "execution_count": 7,
   "metadata": {},
   "outputs": [],
   "source": [
    "cpi[\"Forecast\"] = cpi[\"Value\"].fillna(method=\"ffill\")"
   ]
  },
  {
   "cell_type": "code",
   "execution_count": 8,
   "metadata": {},
   "outputs": [],
   "source": [
    "cpi[\"cpi_next_month\"] = cpi[\"CPI\"].shift(-1)"
   ]
  },
  {
   "cell_type": "code",
   "execution_count": 9,
   "metadata": {},
   "outputs": [],
   "source": [
    "cpi[\"change_in_CPI\"] = cpi[\"cpi_next_month\"] - cpi[\"CPI\"]"
   ]
  },
  {
   "cell_type": "code",
   "execution_count": 10,
   "metadata": {},
   "outputs": [
    {
     "data": {
      "text/html": [
       "<div>\n",
       "<style scoped>\n",
       "    .dataframe tbody tr th:only-of-type {\n",
       "        vertical-align: middle;\n",
       "    }\n",
       "\n",
       "    .dataframe tbody tr th {\n",
       "        vertical-align: top;\n",
       "    }\n",
       "\n",
       "    .dataframe thead th {\n",
       "        text-align: right;\n",
       "    }\n",
       "</style>\n",
       "<table border=\"1\" class=\"dataframe\">\n",
       "  <thead>\n",
       "    <tr style=\"text-align: right;\">\n",
       "      <th></th>\n",
       "      <th>date</th>\n",
       "      <th>CPI</th>\n",
       "      <th>diff</th>\n",
       "      <th>Inflation</th>\n",
       "      <th>Value</th>\n",
       "      <th>Forecast</th>\n",
       "      <th>cpi_next_month</th>\n",
       "      <th>change_in_CPI</th>\n",
       "    </tr>\n",
       "  </thead>\n",
       "  <tbody>\n",
       "    <tr>\n",
       "      <th>0</th>\n",
       "      <td>1947-12-31</td>\n",
       "      <td>10.24209</td>\n",
       "      <td>NaN</td>\n",
       "      <td>high</td>\n",
       "      <td>NaN</td>\n",
       "      <td>NaN</td>\n",
       "      <td>9.48196</td>\n",
       "      <td>-0.76013</td>\n",
       "    </tr>\n",
       "    <tr>\n",
       "      <th>1</th>\n",
       "      <td>1948-01-31</td>\n",
       "      <td>9.48196</td>\n",
       "      <td>-0.76013</td>\n",
       "      <td>high</td>\n",
       "      <td>NaN</td>\n",
       "      <td>NaN</td>\n",
       "      <td>6.81818</td>\n",
       "      <td>-2.66378</td>\n",
       "    </tr>\n",
       "    <tr>\n",
       "      <th>2</th>\n",
       "      <td>1948-02-29</td>\n",
       "      <td>6.81818</td>\n",
       "      <td>-2.66378</td>\n",
       "      <td>high</td>\n",
       "      <td>NaN</td>\n",
       "      <td>NaN</td>\n",
       "      <td>8.27273</td>\n",
       "      <td>1.45455</td>\n",
       "    </tr>\n",
       "    <tr>\n",
       "      <th>3</th>\n",
       "      <td>1948-03-31</td>\n",
       "      <td>8.27273</td>\n",
       "      <td>1.45455</td>\n",
       "      <td>high</td>\n",
       "      <td>NaN</td>\n",
       "      <td>NaN</td>\n",
       "      <td>9.38497</td>\n",
       "      <td>1.11224</td>\n",
       "    </tr>\n",
       "    <tr>\n",
       "      <th>4</th>\n",
       "      <td>1948-04-30</td>\n",
       "      <td>9.38497</td>\n",
       "      <td>1.11224</td>\n",
       "      <td>high</td>\n",
       "      <td>NaN</td>\n",
       "      <td>NaN</td>\n",
       "      <td>9.37500</td>\n",
       "      <td>-0.00997</td>\n",
       "    </tr>\n",
       "    <tr>\n",
       "      <th>...</th>\n",
       "      <td>...</td>\n",
       "      <td>...</td>\n",
       "      <td>...</td>\n",
       "      <td>...</td>\n",
       "      <td>...</td>\n",
       "      <td>...</td>\n",
       "      <td>...</td>\n",
       "      <td>...</td>\n",
       "    </tr>\n",
       "    <tr>\n",
       "      <th>895</th>\n",
       "      <td>2022-07-31</td>\n",
       "      <td>8.22736</td>\n",
       "      <td>-0.18582</td>\n",
       "      <td>high</td>\n",
       "      <td>NaN</td>\n",
       "      <td>8.317612</td>\n",
       "      <td>8.21485</td>\n",
       "      <td>-0.01251</td>\n",
       "    </tr>\n",
       "    <tr>\n",
       "      <th>896</th>\n",
       "      <td>2022-08-31</td>\n",
       "      <td>8.21485</td>\n",
       "      <td>-0.01251</td>\n",
       "      <td>high</td>\n",
       "      <td>NaN</td>\n",
       "      <td>8.317612</td>\n",
       "      <td>7.76249</td>\n",
       "      <td>-0.45236</td>\n",
       "    </tr>\n",
       "    <tr>\n",
       "      <th>897</th>\n",
       "      <td>2022-09-30</td>\n",
       "      <td>7.76249</td>\n",
       "      <td>-0.45236</td>\n",
       "      <td>high</td>\n",
       "      <td>7.054659</td>\n",
       "      <td>7.054659</td>\n",
       "      <td>7.13535</td>\n",
       "      <td>-0.62714</td>\n",
       "    </tr>\n",
       "    <tr>\n",
       "      <th>898</th>\n",
       "      <td>2022-10-31</td>\n",
       "      <td>7.13535</td>\n",
       "      <td>-0.62714</td>\n",
       "      <td>high</td>\n",
       "      <td>NaN</td>\n",
       "      <td>7.054659</td>\n",
       "      <td>6.44494</td>\n",
       "      <td>-0.69041</td>\n",
       "    </tr>\n",
       "    <tr>\n",
       "      <th>899</th>\n",
       "      <td>2022-11-30</td>\n",
       "      <td>6.44494</td>\n",
       "      <td>-0.69041</td>\n",
       "      <td>high</td>\n",
       "      <td>NaN</td>\n",
       "      <td>7.054659</td>\n",
       "      <td>NaN</td>\n",
       "      <td>NaN</td>\n",
       "    </tr>\n",
       "  </tbody>\n",
       "</table>\n",
       "<p>900 rows × 8 columns</p>\n",
       "</div>"
      ],
      "text/plain": [
       "          date       CPI     diff Inflation     Value  Forecast  \\\n",
       "0   1947-12-31  10.24209      NaN      high       NaN       NaN   \n",
       "1   1948-01-31   9.48196 -0.76013      high       NaN       NaN   \n",
       "2   1948-02-29   6.81818 -2.66378      high       NaN       NaN   \n",
       "3   1948-03-31   8.27273  1.45455      high       NaN       NaN   \n",
       "4   1948-04-30   9.38497  1.11224      high       NaN       NaN   \n",
       "..         ...       ...      ...       ...       ...       ...   \n",
       "895 2022-07-31   8.22736 -0.18582      high       NaN  8.317612   \n",
       "896 2022-08-31   8.21485 -0.01251      high       NaN  8.317612   \n",
       "897 2022-09-30   7.76249 -0.45236      high  7.054659  7.054659   \n",
       "898 2022-10-31   7.13535 -0.62714      high       NaN  7.054659   \n",
       "899 2022-11-30   6.44494 -0.69041      high       NaN  7.054659   \n",
       "\n",
       "     cpi_next_month  change_in_CPI  \n",
       "0           9.48196       -0.76013  \n",
       "1           6.81818       -2.66378  \n",
       "2           8.27273        1.45455  \n",
       "3           9.38497        1.11224  \n",
       "4           9.37500       -0.00997  \n",
       "..              ...            ...  \n",
       "895         8.21485       -0.01251  \n",
       "896         7.76249       -0.45236  \n",
       "897         7.13535       -0.62714  \n",
       "898         6.44494       -0.69041  \n",
       "899             NaN            NaN  \n",
       "\n",
       "[900 rows x 8 columns]"
      ]
     },
     "execution_count": 10,
     "metadata": {},
     "output_type": "execute_result"
    }
   ],
   "source": [
    "cpi"
   ]
  },
  {
   "cell_type": "code",
   "execution_count": 11,
   "metadata": {},
   "outputs": [],
   "source": [
    "# if next month inflation regime is above 3 then it is high, between 1 and 3 it is mid, between 0 and 1 it is low, below 0 it is deflation\n",
    "cpi[\"next_month_inflation_regime\"] = pd.cut(cpi[\"cpi_next_month\"], bins=[-10,0, 1,3,20], labels=[\"deflation\", \"low\", \"mid\", \"high\"])"
   ]
  },
  {
   "cell_type": "code",
   "execution_count": 12,
   "metadata": {},
   "outputs": [],
   "source": [
    "# find differences between current and next month inflation regime\n",
    "cpi[\"flag\"] = cpi[\"next_month_inflation_regime\"] != cpi[\"Inflation\"]"
   ]
  },
  {
   "cell_type": "code",
   "execution_count": null,
   "metadata": {},
   "outputs": [],
   "source": []
  },
  {
   "cell_type": "code",
   "execution_count": 13,
   "metadata": {},
   "outputs": [],
   "source": [
    "change_in_regime = cpi[cpi[\"flag\"] == True][[\"date\", \"CPI\", \"Inflation\", \"cpi_next_month\", \"next_month_inflation_regime\"]]\n",
    "# get changes in inflation regime dates past 1980\n",
    "reconst_dates = change_in_regime.dropna()[\"date\"]"
   ]
  },
  {
   "cell_type": "code",
   "execution_count": 14,
   "metadata": {},
   "outputs": [
    {
     "data": {
      "text/plain": [
       "10    1948-10-31\n",
       "14    1949-02-28\n",
       "15    1949-03-31\n",
       "29    1950-05-31\n",
       "32    1950-08-31\n",
       "         ...    \n",
       "821   2016-05-31\n",
       "822   2016-06-30\n",
       "866   2020-02-29\n",
       "869   2020-05-31\n",
       "878   2021-02-28\n",
       "Name: date, Length: 87, dtype: datetime64[ns]"
      ]
     },
     "execution_count": 14,
     "metadata": {},
     "output_type": "execute_result"
    }
   ],
   "source": [
    "reconst_dates"
   ]
  },
  {
   "cell_type": "code",
   "execution_count": 15,
   "metadata": {},
   "outputs": [
    {
     "name": "stderr",
     "output_type": "stream",
     "text": [
      "/var/folders/m6/h9jtrhyn259fytxp6j9xh9v00000gn/T/ipykernel_23495/825584214.py:9: DtypeWarning: Columns (1) have mixed types. Specify dtype option on import or set low_memory=False.\n",
      "  stocks = pd.read_csv(\"data/comp_stocks.csv\")\n"
     ]
    }
   ],
   "source": [
    "stocks = get_stocks()\n",
    "# remove stocks with above 500 trt1m\n",
    "stocks = stocks[stocks[\"trt1m\"] < 500]\n",
    "\n",
    "# remove stocks with below -100 trt1m\n",
    "stocks = stocks[stocks[\"trt1m\"] > -100]\n",
    "# drop na gics\n",
    "stocks = stocks.dropna(subset=[\"ggroup\",\"gind\", \"gsector\", \"gsubind\"])\n",
    "# drop missing trt1m\n",
    "stocks = stocks.dropna(subset=[\"trt1m\"])\n",
    "\n",
    "\n",
    "# \n"
   ]
  },
  {
   "cell_type": "code",
   "execution_count": 16,
   "metadata": {},
   "outputs": [
    {
     "name": "stdout",
     "output_type": "stream",
     "text": [
      "(6322687, 22)\n"
     ]
    }
   ],
   "source": [
    "# drop stocks that have negative price\n",
    "stocks = stocks[stocks[\"prccm\"] > 0]\n",
    "print(stocks.shape)\n"
   ]
  },
  {
   "cell_type": "code",
   "execution_count": 17,
   "metadata": {},
   "outputs": [
    {
     "name": "stdout",
     "output_type": "stream",
     "text": [
      "(6322687, 22)\n"
     ]
    }
   ],
   "source": [
    "stocks[\"cshoq\"] = stocks.groupby(\"gvkey\")[\"cshoq\"].ffill()\n",
    "print(stocks.shape)"
   ]
  },
  {
   "cell_type": "code",
   "execution_count": 18,
   "metadata": {},
   "outputs": [
    {
     "name": "stdout",
     "output_type": "stream",
     "text": [
      "(4792686, 22)\n"
     ]
    }
   ],
   "source": [
    "# drop stocks that have negative shares\n",
    "stocks = stocks[stocks[\"cshoq\"] > 0]\n",
    "print(stocks.shape)\n"
   ]
  },
  {
   "cell_type": "code",
   "execution_count": 19,
   "metadata": {},
   "outputs": [
    {
     "name": "stdout",
     "output_type": "stream",
     "text": [
      "(4792686, 23)\n"
     ]
    }
   ],
   "source": [
    "\n",
    "# for each stock forward fill missing cshoq\n",
    "\n",
    "\n",
    "# calculate market cap\n",
    "stocks[\"market_cap\"] = stocks[\"prccm\"] * stocks[\"cshoq\"]\n",
    "print(stocks.shape)"
   ]
  },
  {
   "cell_type": "code",
   "execution_count": 20,
   "metadata": {},
   "outputs": [],
   "source": [
    "stocks[\"market_cap_shifted\"] = stocks.groupby(\"gvkey\")[\"market_cap\"].shift(1) "
   ]
  },
  {
   "cell_type": "code",
   "execution_count": 21,
   "metadata": {},
   "outputs": [],
   "source": [
    "# import ployly\n",
    "import plotly.express as px\n"
   ]
  },
  {
   "cell_type": "code",
   "execution_count": 22,
   "metadata": {},
   "outputs": [],
   "source": [
    "# import monthend\n",
    "from pandas.tseries.offsets import MonthEnd"
   ]
  },
  {
   "cell_type": "code",
   "execution_count": 23,
   "metadata": {},
   "outputs": [],
   "source": [
    "change_dates = cpi[cpi[\"flag\"] == True][[\"date\", \"CPI\", \"Inflation\", \"cpi_next_month\", \"next_month_inflation_regime\"]].dropna()"
   ]
  },
  {
   "cell_type": "code",
   "execution_count": 24,
   "metadata": {},
   "outputs": [],
   "source": [
    "dates_list = []\n",
    "\n",
    "# for each row using index\n",
    "for i in range(len(change_dates)):\n",
    "    date = []\n",
    "    if i == 0:\n",
    "        start_date = cpi.iloc[0][\"date\"]\n",
    "        date.append(start_date)\n",
    "        \n",
    "        inflation_regime = cpi.iloc[0][\"Inflation\"]\n",
    "        date.append(inflation_regime)\n",
    "    else:\n",
    "        # add one month\n",
    "\n",
    "        start_date = change_dates.iloc[i-1][\"date\"] + timedelta(days=1) + MonthEnd(0)\n",
    "        date.append(start_date)\n",
    "        \n",
    "        inflation_regime = change_dates.iloc[i][\"Inflation\"]\n",
    "        date.append(inflation_regime)\n",
    "    \n",
    "    end_date = change_dates.iloc[i][\"date\"]\n",
    "    date.append(end_date)\n",
    "\n",
    "    dates_list.append(date)\n",
    "\n"
   ]
  },
  {
   "cell_type": "code",
   "execution_count": 25,
   "metadata": {},
   "outputs": [],
   "source": [
    "# list of lists to dataframe\n",
    "dates = pd.DataFrame(dates_list, columns=[\"start_date\", \"inflation_regime\", \"end_date\"])"
   ]
  },
  {
   "cell_type": "code",
   "execution_count": 26,
   "metadata": {},
   "outputs": [],
   "source": [
    "regime_names = [\"deflation\", \"low\", \"mid\", \"high\"]"
   ]
  },
  {
   "cell_type": "code",
   "execution_count": 27,
   "metadata": {},
   "outputs": [],
   "source": [
    "# get stocks date min\n",
    "cpi = cpi[cpi[\"date\"] >= stocks[\"datadate\"].min()]"
   ]
  },
  {
   "cell_type": "code",
   "execution_count": 28,
   "metadata": {},
   "outputs": [],
   "source": [
    "change_in_regime = cpi[cpi[\"flag\"] == True][[\"date\", \"CPI\", \"Inflation\", \"cpi_next_month\", \"next_month_inflation_regime\"]]\n",
    "# get changes in inflation regime dates past 1980\n",
    "reconst_dates = change_in_regime.dropna()[\"date\"]\n",
    "# get beginning of month and year for reconst_dates\n",
    "reconst_dates = reconst_dates.apply(lambda x: x.replace(day=1))"
   ]
  },
  {
   "cell_type": "code",
   "execution_count": 29,
   "metadata": {},
   "outputs": [
    {
     "data": {
      "text/html": [
       "<div>\n",
       "<style scoped>\n",
       "    .dataframe tbody tr th:only-of-type {\n",
       "        vertical-align: middle;\n",
       "    }\n",
       "\n",
       "    .dataframe tbody tr th {\n",
       "        vertical-align: top;\n",
       "    }\n",
       "\n",
       "    .dataframe thead th {\n",
       "        text-align: right;\n",
       "    }\n",
       "</style>\n",
       "<table border=\"1\" class=\"dataframe\">\n",
       "  <thead>\n",
       "    <tr style=\"text-align: right;\">\n",
       "      <th></th>\n",
       "      <th>date</th>\n",
       "      <th>CPI</th>\n",
       "      <th>Inflation</th>\n",
       "      <th>cpi_next_month</th>\n",
       "      <th>next_month_inflation_regime</th>\n",
       "    </tr>\n",
       "  </thead>\n",
       "  <tbody>\n",
       "    <tr>\n",
       "      <th>182</th>\n",
       "      <td>1963-02-28</td>\n",
       "      <td>1.12695</td>\n",
       "      <td>mid</td>\n",
       "      <td>0.89374</td>\n",
       "      <td>low</td>\n",
       "    </tr>\n",
       "    <tr>\n",
       "      <th>184</th>\n",
       "      <td>1963-04-30</td>\n",
       "      <td>0.89286</td>\n",
       "      <td>low</td>\n",
       "      <td>1.32406</td>\n",
       "      <td>mid</td>\n",
       "    </tr>\n",
       "    <tr>\n",
       "      <th>187</th>\n",
       "      <td>1963-07-31</td>\n",
       "      <td>1.55218</td>\n",
       "      <td>mid</td>\n",
       "      <td>0.98619</td>\n",
       "      <td>low</td>\n",
       "    </tr>\n",
       "    <tr>\n",
       "      <th>188</th>\n",
       "      <td>1963-08-31</td>\n",
       "      <td>0.98619</td>\n",
       "      <td>low</td>\n",
       "      <td>1.21791</td>\n",
       "      <td>mid</td>\n",
       "    </tr>\n",
       "    <tr>\n",
       "      <th>198</th>\n",
       "      <td>1964-06-30</td>\n",
       "      <td>1.07527</td>\n",
       "      <td>mid</td>\n",
       "      <td>0.97561</td>\n",
       "      <td>low</td>\n",
       "    </tr>\n",
       "    <tr>\n",
       "      <th>...</th>\n",
       "      <td>...</td>\n",
       "      <td>...</td>\n",
       "      <td>...</td>\n",
       "      <td>...</td>\n",
       "      <td>...</td>\n",
       "    </tr>\n",
       "    <tr>\n",
       "      <th>822</th>\n",
       "      <td>2016-06-30</td>\n",
       "      <td>0.86836</td>\n",
       "      <td>low</td>\n",
       "      <td>1.05532</td>\n",
       "      <td>mid</td>\n",
       "    </tr>\n",
       "    <tr>\n",
       "      <th>866</th>\n",
       "      <td>2020-02-29</td>\n",
       "      <td>1.54287</td>\n",
       "      <td>mid</td>\n",
       "      <td>0.34520</td>\n",
       "      <td>low</td>\n",
       "    </tr>\n",
       "    <tr>\n",
       "      <th>869</th>\n",
       "      <td>2020-05-31</td>\n",
       "      <td>0.71602</td>\n",
       "      <td>low</td>\n",
       "      <td>1.01414</td>\n",
       "      <td>mid</td>\n",
       "    </tr>\n",
       "    <tr>\n",
       "      <th>878</th>\n",
       "      <td>2021-02-28</td>\n",
       "      <td>2.63052</td>\n",
       "      <td>mid</td>\n",
       "      <td>4.13055</td>\n",
       "      <td>high</td>\n",
       "    </tr>\n",
       "    <tr>\n",
       "      <th>899</th>\n",
       "      <td>2022-11-30</td>\n",
       "      <td>6.44494</td>\n",
       "      <td>high</td>\n",
       "      <td>NaN</td>\n",
       "      <td>NaN</td>\n",
       "    </tr>\n",
       "  </tbody>\n",
       "</table>\n",
       "<p>64 rows × 5 columns</p>\n",
       "</div>"
      ],
      "text/plain": [
       "          date      CPI Inflation  cpi_next_month next_month_inflation_regime\n",
       "182 1963-02-28  1.12695       mid         0.89374                         low\n",
       "184 1963-04-30  0.89286       low         1.32406                         mid\n",
       "187 1963-07-31  1.55218       mid         0.98619                         low\n",
       "188 1963-08-31  0.98619       low         1.21791                         mid\n",
       "198 1964-06-30  1.07527       mid         0.97561                         low\n",
       "..         ...      ...       ...             ...                         ...\n",
       "822 2016-06-30  0.86836       low         1.05532                         mid\n",
       "866 2020-02-29  1.54287       mid         0.34520                         low\n",
       "869 2020-05-31  0.71602       low         1.01414                         mid\n",
       "878 2021-02-28  2.63052       mid         4.13055                        high\n",
       "899 2022-11-30  6.44494      high             NaN                         NaN\n",
       "\n",
       "[64 rows x 5 columns]"
      ]
     },
     "execution_count": 29,
     "metadata": {},
     "output_type": "execute_result"
    }
   ],
   "source": [
    "change_in_regime"
   ]
  },
  {
   "cell_type": "code",
   "execution_count": 30,
   "metadata": {},
   "outputs": [
    {
     "data": {
      "text/html": [
       "<div>\n",
       "<style scoped>\n",
       "    .dataframe tbody tr th:only-of-type {\n",
       "        vertical-align: middle;\n",
       "    }\n",
       "\n",
       "    .dataframe tbody tr th {\n",
       "        vertical-align: top;\n",
       "    }\n",
       "\n",
       "    .dataframe thead th {\n",
       "        text-align: right;\n",
       "    }\n",
       "</style>\n",
       "<table border=\"1\" class=\"dataframe\">\n",
       "  <thead>\n",
       "    <tr style=\"text-align: right;\">\n",
       "      <th></th>\n",
       "      <th>start_date</th>\n",
       "      <th>inflation_regime</th>\n",
       "      <th>end_date</th>\n",
       "    </tr>\n",
       "  </thead>\n",
       "  <tbody>\n",
       "    <tr>\n",
       "      <th>0</th>\n",
       "      <td>1947-12-31</td>\n",
       "      <td>high</td>\n",
       "      <td>1948-10-31</td>\n",
       "    </tr>\n",
       "    <tr>\n",
       "      <th>1</th>\n",
       "      <td>1948-11-30</td>\n",
       "      <td>mid</td>\n",
       "      <td>1949-02-28</td>\n",
       "    </tr>\n",
       "    <tr>\n",
       "      <th>2</th>\n",
       "      <td>1949-03-31</td>\n",
       "      <td>low</td>\n",
       "      <td>1949-03-31</td>\n",
       "    </tr>\n",
       "    <tr>\n",
       "      <th>3</th>\n",
       "      <td>1949-04-30</td>\n",
       "      <td>deflation</td>\n",
       "      <td>1950-05-31</td>\n",
       "    </tr>\n",
       "    <tr>\n",
       "      <th>4</th>\n",
       "      <td>1950-06-30</td>\n",
       "      <td>mid</td>\n",
       "      <td>1950-08-31</td>\n",
       "    </tr>\n",
       "    <tr>\n",
       "      <th>...</th>\n",
       "      <td>...</td>\n",
       "      <td>...</td>\n",
       "      <td>...</td>\n",
       "    </tr>\n",
       "    <tr>\n",
       "      <th>82</th>\n",
       "      <td>2016-03-31</td>\n",
       "      <td>mid</td>\n",
       "      <td>2016-05-31</td>\n",
       "    </tr>\n",
       "    <tr>\n",
       "      <th>83</th>\n",
       "      <td>2016-06-30</td>\n",
       "      <td>low</td>\n",
       "      <td>2016-06-30</td>\n",
       "    </tr>\n",
       "    <tr>\n",
       "      <th>84</th>\n",
       "      <td>2016-07-31</td>\n",
       "      <td>mid</td>\n",
       "      <td>2020-02-29</td>\n",
       "    </tr>\n",
       "    <tr>\n",
       "      <th>85</th>\n",
       "      <td>2020-03-31</td>\n",
       "      <td>low</td>\n",
       "      <td>2020-05-31</td>\n",
       "    </tr>\n",
       "    <tr>\n",
       "      <th>86</th>\n",
       "      <td>2020-06-30</td>\n",
       "      <td>mid</td>\n",
       "      <td>2021-02-28</td>\n",
       "    </tr>\n",
       "  </tbody>\n",
       "</table>\n",
       "<p>87 rows × 3 columns</p>\n",
       "</div>"
      ],
      "text/plain": [
       "   start_date inflation_regime   end_date\n",
       "0  1947-12-31             high 1948-10-31\n",
       "1  1948-11-30              mid 1949-02-28\n",
       "2  1949-03-31              low 1949-03-31\n",
       "3  1949-04-30        deflation 1950-05-31\n",
       "4  1950-06-30              mid 1950-08-31\n",
       "..        ...              ...        ...\n",
       "82 2016-03-31              mid 2016-05-31\n",
       "83 2016-06-30              low 2016-06-30\n",
       "84 2016-07-31              mid 2020-02-29\n",
       "85 2020-03-31              low 2020-05-31\n",
       "86 2020-06-30              mid 2021-02-28\n",
       "\n",
       "[87 rows x 3 columns]"
      ]
     },
     "execution_count": 30,
     "metadata": {},
     "output_type": "execute_result"
    }
   ],
   "source": [
    "dates"
   ]
  },
  {
   "cell_type": "code",
   "execution_count": 31,
   "metadata": {},
   "outputs": [
    {
     "data": {
      "text/html": [
       "<div>\n",
       "<style scoped>\n",
       "    .dataframe tbody tr th:only-of-type {\n",
       "        vertical-align: middle;\n",
       "    }\n",
       "\n",
       "    .dataframe tbody tr th {\n",
       "        vertical-align: top;\n",
       "    }\n",
       "\n",
       "    .dataframe thead th {\n",
       "        text-align: right;\n",
       "    }\n",
       "</style>\n",
       "<table border=\"1\" class=\"dataframe\">\n",
       "  <thead>\n",
       "    <tr style=\"text-align: right;\">\n",
       "      <th></th>\n",
       "      <th>date</th>\n",
       "      <th>CPI</th>\n",
       "      <th>Inflation</th>\n",
       "      <th>cpi_next_month</th>\n",
       "      <th>next_month_inflation_regime</th>\n",
       "    </tr>\n",
       "  </thead>\n",
       "  <tbody>\n",
       "    <tr>\n",
       "      <th>182</th>\n",
       "      <td>1963-02-28</td>\n",
       "      <td>1.12695</td>\n",
       "      <td>mid</td>\n",
       "      <td>0.89374</td>\n",
       "      <td>low</td>\n",
       "    </tr>\n",
       "    <tr>\n",
       "      <th>184</th>\n",
       "      <td>1963-04-30</td>\n",
       "      <td>0.89286</td>\n",
       "      <td>low</td>\n",
       "      <td>1.32406</td>\n",
       "      <td>mid</td>\n",
       "    </tr>\n",
       "    <tr>\n",
       "      <th>187</th>\n",
       "      <td>1963-07-31</td>\n",
       "      <td>1.55218</td>\n",
       "      <td>mid</td>\n",
       "      <td>0.98619</td>\n",
       "      <td>low</td>\n",
       "    </tr>\n",
       "    <tr>\n",
       "      <th>188</th>\n",
       "      <td>1963-08-31</td>\n",
       "      <td>0.98619</td>\n",
       "      <td>low</td>\n",
       "      <td>1.21791</td>\n",
       "      <td>mid</td>\n",
       "    </tr>\n",
       "    <tr>\n",
       "      <th>198</th>\n",
       "      <td>1964-06-30</td>\n",
       "      <td>1.07527</td>\n",
       "      <td>mid</td>\n",
       "      <td>0.97561</td>\n",
       "      <td>low</td>\n",
       "    </tr>\n",
       "    <tr>\n",
       "      <th>...</th>\n",
       "      <td>...</td>\n",
       "      <td>...</td>\n",
       "      <td>...</td>\n",
       "      <td>...</td>\n",
       "      <td>...</td>\n",
       "    </tr>\n",
       "    <tr>\n",
       "      <th>822</th>\n",
       "      <td>2016-06-30</td>\n",
       "      <td>0.86836</td>\n",
       "      <td>low</td>\n",
       "      <td>1.05532</td>\n",
       "      <td>mid</td>\n",
       "    </tr>\n",
       "    <tr>\n",
       "      <th>866</th>\n",
       "      <td>2020-02-29</td>\n",
       "      <td>1.54287</td>\n",
       "      <td>mid</td>\n",
       "      <td>0.34520</td>\n",
       "      <td>low</td>\n",
       "    </tr>\n",
       "    <tr>\n",
       "      <th>869</th>\n",
       "      <td>2020-05-31</td>\n",
       "      <td>0.71602</td>\n",
       "      <td>low</td>\n",
       "      <td>1.01414</td>\n",
       "      <td>mid</td>\n",
       "    </tr>\n",
       "    <tr>\n",
       "      <th>878</th>\n",
       "      <td>2021-02-28</td>\n",
       "      <td>2.63052</td>\n",
       "      <td>mid</td>\n",
       "      <td>4.13055</td>\n",
       "      <td>high</td>\n",
       "    </tr>\n",
       "    <tr>\n",
       "      <th>899</th>\n",
       "      <td>2022-11-30</td>\n",
       "      <td>6.44494</td>\n",
       "      <td>high</td>\n",
       "      <td>NaN</td>\n",
       "      <td>NaN</td>\n",
       "    </tr>\n",
       "  </tbody>\n",
       "</table>\n",
       "<p>64 rows × 5 columns</p>\n",
       "</div>"
      ],
      "text/plain": [
       "          date      CPI Inflation  cpi_next_month next_month_inflation_regime\n",
       "182 1963-02-28  1.12695       mid         0.89374                         low\n",
       "184 1963-04-30  0.89286       low         1.32406                         mid\n",
       "187 1963-07-31  1.55218       mid         0.98619                         low\n",
       "188 1963-08-31  0.98619       low         1.21791                         mid\n",
       "198 1964-06-30  1.07527       mid         0.97561                         low\n",
       "..         ...      ...       ...             ...                         ...\n",
       "822 2016-06-30  0.86836       low         1.05532                         mid\n",
       "866 2020-02-29  1.54287       mid         0.34520                         low\n",
       "869 2020-05-31  0.71602       low         1.01414                         mid\n",
       "878 2021-02-28  2.63052       mid         4.13055                        high\n",
       "899 2022-11-30  6.44494      high             NaN                         NaN\n",
       "\n",
       "[64 rows x 5 columns]"
      ]
     },
     "execution_count": 31,
     "metadata": {},
     "output_type": "execute_result"
    }
   ],
   "source": [
    "change_in_regime"
   ]
  },
  {
   "cell_type": "code",
   "execution_count": 32,
   "metadata": {},
   "outputs": [],
   "source": [
    "# get dates that are greater than stocks date min\n",
    "dates = dates[dates[\"start_date\"] >= stocks[\"datadate\"].min()]\n"
   ]
  },
  {
   "cell_type": "code",
   "execution_count": 33,
   "metadata": {},
   "outputs": [
    {
     "data": {
      "text/html": [
       "<div>\n",
       "<style scoped>\n",
       "    .dataframe tbody tr th:only-of-type {\n",
       "        vertical-align: middle;\n",
       "    }\n",
       "\n",
       "    .dataframe tbody tr th {\n",
       "        vertical-align: top;\n",
       "    }\n",
       "\n",
       "    .dataframe thead th {\n",
       "        text-align: right;\n",
       "    }\n",
       "</style>\n",
       "<table border=\"1\" class=\"dataframe\">\n",
       "  <thead>\n",
       "    <tr style=\"text-align: right;\">\n",
       "      <th></th>\n",
       "      <th>start_date</th>\n",
       "      <th>inflation_regime</th>\n",
       "      <th>end_date</th>\n",
       "    </tr>\n",
       "  </thead>\n",
       "  <tbody>\n",
       "    <tr>\n",
       "      <th>24</th>\n",
       "      <td>1962-02-28</td>\n",
       "      <td>mid</td>\n",
       "      <td>1963-02-28</td>\n",
       "    </tr>\n",
       "    <tr>\n",
       "      <th>25</th>\n",
       "      <td>1963-03-31</td>\n",
       "      <td>low</td>\n",
       "      <td>1963-04-30</td>\n",
       "    </tr>\n",
       "    <tr>\n",
       "      <th>26</th>\n",
       "      <td>1963-05-31</td>\n",
       "      <td>mid</td>\n",
       "      <td>1963-07-31</td>\n",
       "    </tr>\n",
       "    <tr>\n",
       "      <th>27</th>\n",
       "      <td>1963-08-31</td>\n",
       "      <td>low</td>\n",
       "      <td>1963-08-31</td>\n",
       "    </tr>\n",
       "    <tr>\n",
       "      <th>28</th>\n",
       "      <td>1963-09-30</td>\n",
       "      <td>mid</td>\n",
       "      <td>1964-06-30</td>\n",
       "    </tr>\n",
       "    <tr>\n",
       "      <th>...</th>\n",
       "      <td>...</td>\n",
       "      <td>...</td>\n",
       "      <td>...</td>\n",
       "    </tr>\n",
       "    <tr>\n",
       "      <th>82</th>\n",
       "      <td>2016-03-31</td>\n",
       "      <td>mid</td>\n",
       "      <td>2016-05-31</td>\n",
       "    </tr>\n",
       "    <tr>\n",
       "      <th>83</th>\n",
       "      <td>2016-06-30</td>\n",
       "      <td>low</td>\n",
       "      <td>2016-06-30</td>\n",
       "    </tr>\n",
       "    <tr>\n",
       "      <th>84</th>\n",
       "      <td>2016-07-31</td>\n",
       "      <td>mid</td>\n",
       "      <td>2020-02-29</td>\n",
       "    </tr>\n",
       "    <tr>\n",
       "      <th>85</th>\n",
       "      <td>2020-03-31</td>\n",
       "      <td>low</td>\n",
       "      <td>2020-05-31</td>\n",
       "    </tr>\n",
       "    <tr>\n",
       "      <th>86</th>\n",
       "      <td>2020-06-30</td>\n",
       "      <td>mid</td>\n",
       "      <td>2021-02-28</td>\n",
       "    </tr>\n",
       "  </tbody>\n",
       "</table>\n",
       "<p>63 rows × 3 columns</p>\n",
       "</div>"
      ],
      "text/plain": [
       "   start_date inflation_regime   end_date\n",
       "24 1962-02-28              mid 1963-02-28\n",
       "25 1963-03-31              low 1963-04-30\n",
       "26 1963-05-31              mid 1963-07-31\n",
       "27 1963-08-31              low 1963-08-31\n",
       "28 1963-09-30              mid 1964-06-30\n",
       "..        ...              ...        ...\n",
       "82 2016-03-31              mid 2016-05-31\n",
       "83 2016-06-30              low 2016-06-30\n",
       "84 2016-07-31              mid 2020-02-29\n",
       "85 2020-03-31              low 2020-05-31\n",
       "86 2020-06-30              mid 2021-02-28\n",
       "\n",
       "[63 rows x 3 columns]"
      ]
     },
     "execution_count": 33,
     "metadata": {},
     "output_type": "execute_result"
    }
   ],
   "source": [
    "dates"
   ]
  },
  {
   "cell_type": "code",
   "execution_count": 34,
   "metadata": {},
   "outputs": [],
   "source": [
    "try:\n",
    "    # get dates that are more than max but less than first row start date of dates \n",
    "    get_existing_inflation_regime = change_in_regime[(change_in_regime['date'] >= stocks[\"datadate\"].min()) & (change_in_regime[\"date\"] < dates.iloc[0][\"start_date\"])][\"Inflation\"].values[0]\n",
    "\n",
    "\n",
    "    # append to beginning of dates\n",
    "    dates = pd.concat([pd.DataFrame([[stocks[\"datadate\"].min(), get_existing_inflation_regime, dates.iloc[0][\"start_date\"]-MonthEnd(1)]], columns=[\"start_date\", \"inflation_regime\", \"end_date\"]), dates])\n",
    "\n",
    "except IndexError:\n",
    "    pass"
   ]
  },
  {
   "cell_type": "code",
   "execution_count": 35,
   "metadata": {},
   "outputs": [
    {
     "data": {
      "text/html": [
       "<div>\n",
       "<style scoped>\n",
       "    .dataframe tbody tr th:only-of-type {\n",
       "        vertical-align: middle;\n",
       "    }\n",
       "\n",
       "    .dataframe tbody tr th {\n",
       "        vertical-align: top;\n",
       "    }\n",
       "\n",
       "    .dataframe thead th {\n",
       "        text-align: right;\n",
       "    }\n",
       "</style>\n",
       "<table border=\"1\" class=\"dataframe\">\n",
       "  <thead>\n",
       "    <tr style=\"text-align: right;\">\n",
       "      <th></th>\n",
       "      <th>start_date</th>\n",
       "      <th>inflation_regime</th>\n",
       "      <th>end_date</th>\n",
       "    </tr>\n",
       "  </thead>\n",
       "  <tbody>\n",
       "    <tr>\n",
       "      <th>24</th>\n",
       "      <td>1962-02-28</td>\n",
       "      <td>mid</td>\n",
       "      <td>1963-02-28</td>\n",
       "    </tr>\n",
       "    <tr>\n",
       "      <th>25</th>\n",
       "      <td>1963-03-31</td>\n",
       "      <td>low</td>\n",
       "      <td>1963-04-30</td>\n",
       "    </tr>\n",
       "    <tr>\n",
       "      <th>26</th>\n",
       "      <td>1963-05-31</td>\n",
       "      <td>mid</td>\n",
       "      <td>1963-07-31</td>\n",
       "    </tr>\n",
       "    <tr>\n",
       "      <th>27</th>\n",
       "      <td>1963-08-31</td>\n",
       "      <td>low</td>\n",
       "      <td>1963-08-31</td>\n",
       "    </tr>\n",
       "    <tr>\n",
       "      <th>28</th>\n",
       "      <td>1963-09-30</td>\n",
       "      <td>mid</td>\n",
       "      <td>1964-06-30</td>\n",
       "    </tr>\n",
       "    <tr>\n",
       "      <th>...</th>\n",
       "      <td>...</td>\n",
       "      <td>...</td>\n",
       "      <td>...</td>\n",
       "    </tr>\n",
       "    <tr>\n",
       "      <th>82</th>\n",
       "      <td>2016-03-31</td>\n",
       "      <td>mid</td>\n",
       "      <td>2016-05-31</td>\n",
       "    </tr>\n",
       "    <tr>\n",
       "      <th>83</th>\n",
       "      <td>2016-06-30</td>\n",
       "      <td>low</td>\n",
       "      <td>2016-06-30</td>\n",
       "    </tr>\n",
       "    <tr>\n",
       "      <th>84</th>\n",
       "      <td>2016-07-31</td>\n",
       "      <td>mid</td>\n",
       "      <td>2020-02-29</td>\n",
       "    </tr>\n",
       "    <tr>\n",
       "      <th>85</th>\n",
       "      <td>2020-03-31</td>\n",
       "      <td>low</td>\n",
       "      <td>2020-05-31</td>\n",
       "    </tr>\n",
       "    <tr>\n",
       "      <th>86</th>\n",
       "      <td>2020-06-30</td>\n",
       "      <td>mid</td>\n",
       "      <td>2021-02-28</td>\n",
       "    </tr>\n",
       "  </tbody>\n",
       "</table>\n",
       "<p>63 rows × 3 columns</p>\n",
       "</div>"
      ],
      "text/plain": [
       "   start_date inflation_regime   end_date\n",
       "24 1962-02-28              mid 1963-02-28\n",
       "25 1963-03-31              low 1963-04-30\n",
       "26 1963-05-31              mid 1963-07-31\n",
       "27 1963-08-31              low 1963-08-31\n",
       "28 1963-09-30              mid 1964-06-30\n",
       "..        ...              ...        ...\n",
       "82 2016-03-31              mid 2016-05-31\n",
       "83 2016-06-30              low 2016-06-30\n",
       "84 2016-07-31              mid 2020-02-29\n",
       "85 2020-03-31              low 2020-05-31\n",
       "86 2020-06-30              mid 2021-02-28\n",
       "\n",
       "[63 rows x 3 columns]"
      ]
     },
     "execution_count": 35,
     "metadata": {},
     "output_type": "execute_result"
    }
   ],
   "source": [
    "dates"
   ]
  },
  {
   "cell_type": "code",
   "execution_count": 36,
   "metadata": {},
   "outputs": [
    {
     "data": {
      "text/plain": [
       "Timestamp('1962-02-28 00:00:00')"
      ]
     },
     "execution_count": 36,
     "metadata": {},
     "output_type": "execute_result"
    }
   ],
   "source": [
    "stocks[\"datadate\"].min()"
   ]
  },
  {
   "cell_type": "code",
   "execution_count": 37,
   "metadata": {},
   "outputs": [
    {
     "data": {
      "text/html": [
       "<div>\n",
       "<style scoped>\n",
       "    .dataframe tbody tr th:only-of-type {\n",
       "        vertical-align: middle;\n",
       "    }\n",
       "\n",
       "    .dataframe tbody tr th {\n",
       "        vertical-align: top;\n",
       "    }\n",
       "\n",
       "    .dataframe thead th {\n",
       "        text-align: right;\n",
       "    }\n",
       "</style>\n",
       "<table border=\"1\" class=\"dataframe\">\n",
       "  <thead>\n",
       "    <tr style=\"text-align: right;\">\n",
       "      <th></th>\n",
       "      <th>start_date</th>\n",
       "      <th>inflation_regime</th>\n",
       "      <th>end_date</th>\n",
       "    </tr>\n",
       "  </thead>\n",
       "  <tbody>\n",
       "    <tr>\n",
       "      <th>24</th>\n",
       "      <td>1962-02-28</td>\n",
       "      <td>mid</td>\n",
       "      <td>1963-02-28</td>\n",
       "    </tr>\n",
       "    <tr>\n",
       "      <th>25</th>\n",
       "      <td>1963-03-31</td>\n",
       "      <td>low</td>\n",
       "      <td>1963-04-30</td>\n",
       "    </tr>\n",
       "    <tr>\n",
       "      <th>26</th>\n",
       "      <td>1963-05-31</td>\n",
       "      <td>mid</td>\n",
       "      <td>1963-07-31</td>\n",
       "    </tr>\n",
       "    <tr>\n",
       "      <th>27</th>\n",
       "      <td>1963-08-31</td>\n",
       "      <td>low</td>\n",
       "      <td>1963-08-31</td>\n",
       "    </tr>\n",
       "    <tr>\n",
       "      <th>28</th>\n",
       "      <td>1963-09-30</td>\n",
       "      <td>mid</td>\n",
       "      <td>1964-06-30</td>\n",
       "    </tr>\n",
       "    <tr>\n",
       "      <th>...</th>\n",
       "      <td>...</td>\n",
       "      <td>...</td>\n",
       "      <td>...</td>\n",
       "    </tr>\n",
       "    <tr>\n",
       "      <th>82</th>\n",
       "      <td>2016-03-31</td>\n",
       "      <td>mid</td>\n",
       "      <td>2016-05-31</td>\n",
       "    </tr>\n",
       "    <tr>\n",
       "      <th>83</th>\n",
       "      <td>2016-06-30</td>\n",
       "      <td>low</td>\n",
       "      <td>2016-06-30</td>\n",
       "    </tr>\n",
       "    <tr>\n",
       "      <th>84</th>\n",
       "      <td>2016-07-31</td>\n",
       "      <td>mid</td>\n",
       "      <td>2020-02-29</td>\n",
       "    </tr>\n",
       "    <tr>\n",
       "      <th>85</th>\n",
       "      <td>2020-03-31</td>\n",
       "      <td>low</td>\n",
       "      <td>2020-05-31</td>\n",
       "    </tr>\n",
       "    <tr>\n",
       "      <th>86</th>\n",
       "      <td>2020-06-30</td>\n",
       "      <td>mid</td>\n",
       "      <td>2021-02-28</td>\n",
       "    </tr>\n",
       "  </tbody>\n",
       "</table>\n",
       "<p>63 rows × 3 columns</p>\n",
       "</div>"
      ],
      "text/plain": [
       "   start_date inflation_regime   end_date\n",
       "24 1962-02-28              mid 1963-02-28\n",
       "25 1963-03-31              low 1963-04-30\n",
       "26 1963-05-31              mid 1963-07-31\n",
       "27 1963-08-31              low 1963-08-31\n",
       "28 1963-09-30              mid 1964-06-30\n",
       "..        ...              ...        ...\n",
       "82 2016-03-31              mid 2016-05-31\n",
       "83 2016-06-30              low 2016-06-30\n",
       "84 2016-07-31              mid 2020-02-29\n",
       "85 2020-03-31              low 2020-05-31\n",
       "86 2020-06-30              mid 2021-02-28\n",
       "\n",
       "[63 rows x 3 columns]"
      ]
     },
     "execution_count": 37,
     "metadata": {},
     "output_type": "execute_result"
    }
   ],
   "source": [
    "dates"
   ]
  },
  {
   "cell_type": "code",
   "execution_count": 38,
   "metadata": {},
   "outputs": [
    {
     "data": {
      "text/plain": [
       "Timestamp('1962-02-28 00:00:00')"
      ]
     },
     "execution_count": 38,
     "metadata": {},
     "output_type": "execute_result"
    }
   ],
   "source": [
    "stocks[\"datadate\"].min()"
   ]
  },
  {
   "cell_type": "code",
   "execution_count": 39,
   "metadata": {},
   "outputs": [
    {
     "data": {
      "text/plain": [
       "182   1963-02-01\n",
       "184   1963-04-01\n",
       "187   1963-07-01\n",
       "188   1963-08-01\n",
       "198   1964-06-01\n",
       "         ...    \n",
       "821   2016-05-01\n",
       "822   2016-06-01\n",
       "866   2020-02-01\n",
       "869   2020-05-01\n",
       "878   2021-02-01\n",
       "Name: date, Length: 63, dtype: datetime64[ns]"
      ]
     },
     "execution_count": 39,
     "metadata": {},
     "output_type": "execute_result"
    }
   ],
   "source": [
    "reconst_dates"
   ]
  },
  {
   "cell_type": "code",
   "execution_count": 40,
   "metadata": {},
   "outputs": [
    {
     "data": {
      "text/html": [
       "<div>\n",
       "<style scoped>\n",
       "    .dataframe tbody tr th:only-of-type {\n",
       "        vertical-align: middle;\n",
       "    }\n",
       "\n",
       "    .dataframe tbody tr th {\n",
       "        vertical-align: top;\n",
       "    }\n",
       "\n",
       "    .dataframe thead th {\n",
       "        text-align: right;\n",
       "    }\n",
       "</style>\n",
       "<table border=\"1\" class=\"dataframe\">\n",
       "  <thead>\n",
       "    <tr style=\"text-align: right;\">\n",
       "      <th></th>\n",
       "      <th>date</th>\n",
       "      <th>CPI</th>\n",
       "      <th>Inflation</th>\n",
       "      <th>cpi_next_month</th>\n",
       "      <th>next_month_inflation_regime</th>\n",
       "    </tr>\n",
       "  </thead>\n",
       "  <tbody>\n",
       "    <tr>\n",
       "      <th>182</th>\n",
       "      <td>1963-02-28</td>\n",
       "      <td>1.12695</td>\n",
       "      <td>mid</td>\n",
       "      <td>0.89374</td>\n",
       "      <td>low</td>\n",
       "    </tr>\n",
       "    <tr>\n",
       "      <th>184</th>\n",
       "      <td>1963-04-30</td>\n",
       "      <td>0.89286</td>\n",
       "      <td>low</td>\n",
       "      <td>1.32406</td>\n",
       "      <td>mid</td>\n",
       "    </tr>\n",
       "    <tr>\n",
       "      <th>187</th>\n",
       "      <td>1963-07-31</td>\n",
       "      <td>1.55218</td>\n",
       "      <td>mid</td>\n",
       "      <td>0.98619</td>\n",
       "      <td>low</td>\n",
       "    </tr>\n",
       "    <tr>\n",
       "      <th>188</th>\n",
       "      <td>1963-08-31</td>\n",
       "      <td>0.98619</td>\n",
       "      <td>low</td>\n",
       "      <td>1.21791</td>\n",
       "      <td>mid</td>\n",
       "    </tr>\n",
       "    <tr>\n",
       "      <th>198</th>\n",
       "      <td>1964-06-30</td>\n",
       "      <td>1.07527</td>\n",
       "      <td>mid</td>\n",
       "      <td>0.97561</td>\n",
       "      <td>low</td>\n",
       "    </tr>\n",
       "    <tr>\n",
       "      <th>...</th>\n",
       "      <td>...</td>\n",
       "      <td>...</td>\n",
       "      <td>...</td>\n",
       "      <td>...</td>\n",
       "      <td>...</td>\n",
       "    </tr>\n",
       "    <tr>\n",
       "      <th>822</th>\n",
       "      <td>2016-06-30</td>\n",
       "      <td>0.86836</td>\n",
       "      <td>low</td>\n",
       "      <td>1.05532</td>\n",
       "      <td>mid</td>\n",
       "    </tr>\n",
       "    <tr>\n",
       "      <th>866</th>\n",
       "      <td>2020-02-29</td>\n",
       "      <td>1.54287</td>\n",
       "      <td>mid</td>\n",
       "      <td>0.34520</td>\n",
       "      <td>low</td>\n",
       "    </tr>\n",
       "    <tr>\n",
       "      <th>869</th>\n",
       "      <td>2020-05-31</td>\n",
       "      <td>0.71602</td>\n",
       "      <td>low</td>\n",
       "      <td>1.01414</td>\n",
       "      <td>mid</td>\n",
       "    </tr>\n",
       "    <tr>\n",
       "      <th>878</th>\n",
       "      <td>2021-02-28</td>\n",
       "      <td>2.63052</td>\n",
       "      <td>mid</td>\n",
       "      <td>4.13055</td>\n",
       "      <td>high</td>\n",
       "    </tr>\n",
       "    <tr>\n",
       "      <th>899</th>\n",
       "      <td>2022-11-30</td>\n",
       "      <td>6.44494</td>\n",
       "      <td>high</td>\n",
       "      <td>NaN</td>\n",
       "      <td>NaN</td>\n",
       "    </tr>\n",
       "  </tbody>\n",
       "</table>\n",
       "<p>64 rows × 5 columns</p>\n",
       "</div>"
      ],
      "text/plain": [
       "          date      CPI Inflation  cpi_next_month next_month_inflation_regime\n",
       "182 1963-02-28  1.12695       mid         0.89374                         low\n",
       "184 1963-04-30  0.89286       low         1.32406                         mid\n",
       "187 1963-07-31  1.55218       mid         0.98619                         low\n",
       "188 1963-08-31  0.98619       low         1.21791                         mid\n",
       "198 1964-06-30  1.07527       mid         0.97561                         low\n",
       "..         ...      ...       ...             ...                         ...\n",
       "822 2016-06-30  0.86836       low         1.05532                         mid\n",
       "866 2020-02-29  1.54287       mid         0.34520                         low\n",
       "869 2020-05-31  0.71602       low         1.01414                         mid\n",
       "878 2021-02-28  2.63052       mid         4.13055                        high\n",
       "899 2022-11-30  6.44494      high             NaN                         NaN\n",
       "\n",
       "[64 rows x 5 columns]"
      ]
     },
     "execution_count": 40,
     "metadata": {},
     "output_type": "execute_result"
    }
   ],
   "source": [
    "change_in_regime"
   ]
  },
  {
   "cell_type": "code",
   "execution_count": 41,
   "metadata": {},
   "outputs": [
    {
     "data": {
      "text/html": [
       "<div>\n",
       "<style scoped>\n",
       "    .dataframe tbody tr th:only-of-type {\n",
       "        vertical-align: middle;\n",
       "    }\n",
       "\n",
       "    .dataframe tbody tr th {\n",
       "        vertical-align: top;\n",
       "    }\n",
       "\n",
       "    .dataframe thead th {\n",
       "        text-align: right;\n",
       "    }\n",
       "</style>\n",
       "<table border=\"1\" class=\"dataframe\">\n",
       "  <thead>\n",
       "    <tr style=\"text-align: right;\">\n",
       "      <th></th>\n",
       "      <th>start_date</th>\n",
       "      <th>inflation_regime</th>\n",
       "      <th>end_date</th>\n",
       "    </tr>\n",
       "  </thead>\n",
       "  <tbody>\n",
       "    <tr>\n",
       "      <th>24</th>\n",
       "      <td>1962-02-28</td>\n",
       "      <td>mid</td>\n",
       "      <td>1963-02-28</td>\n",
       "    </tr>\n",
       "    <tr>\n",
       "      <th>25</th>\n",
       "      <td>1963-03-31</td>\n",
       "      <td>low</td>\n",
       "      <td>1963-04-30</td>\n",
       "    </tr>\n",
       "    <tr>\n",
       "      <th>26</th>\n",
       "      <td>1963-05-31</td>\n",
       "      <td>mid</td>\n",
       "      <td>1963-07-31</td>\n",
       "    </tr>\n",
       "    <tr>\n",
       "      <th>27</th>\n",
       "      <td>1963-08-31</td>\n",
       "      <td>low</td>\n",
       "      <td>1963-08-31</td>\n",
       "    </tr>\n",
       "    <tr>\n",
       "      <th>28</th>\n",
       "      <td>1963-09-30</td>\n",
       "      <td>mid</td>\n",
       "      <td>1964-06-30</td>\n",
       "    </tr>\n",
       "    <tr>\n",
       "      <th>...</th>\n",
       "      <td>...</td>\n",
       "      <td>...</td>\n",
       "      <td>...</td>\n",
       "    </tr>\n",
       "    <tr>\n",
       "      <th>82</th>\n",
       "      <td>2016-03-31</td>\n",
       "      <td>mid</td>\n",
       "      <td>2016-05-31</td>\n",
       "    </tr>\n",
       "    <tr>\n",
       "      <th>83</th>\n",
       "      <td>2016-06-30</td>\n",
       "      <td>low</td>\n",
       "      <td>2016-06-30</td>\n",
       "    </tr>\n",
       "    <tr>\n",
       "      <th>84</th>\n",
       "      <td>2016-07-31</td>\n",
       "      <td>mid</td>\n",
       "      <td>2020-02-29</td>\n",
       "    </tr>\n",
       "    <tr>\n",
       "      <th>85</th>\n",
       "      <td>2020-03-31</td>\n",
       "      <td>low</td>\n",
       "      <td>2020-05-31</td>\n",
       "    </tr>\n",
       "    <tr>\n",
       "      <th>86</th>\n",
       "      <td>2020-06-30</td>\n",
       "      <td>mid</td>\n",
       "      <td>2021-02-28</td>\n",
       "    </tr>\n",
       "  </tbody>\n",
       "</table>\n",
       "<p>63 rows × 3 columns</p>\n",
       "</div>"
      ],
      "text/plain": [
       "   start_date inflation_regime   end_date\n",
       "24 1962-02-28              mid 1963-02-28\n",
       "25 1963-03-31              low 1963-04-30\n",
       "26 1963-05-31              mid 1963-07-31\n",
       "27 1963-08-31              low 1963-08-31\n",
       "28 1963-09-30              mid 1964-06-30\n",
       "..        ...              ...        ...\n",
       "82 2016-03-31              mid 2016-05-31\n",
       "83 2016-06-30              low 2016-06-30\n",
       "84 2016-07-31              mid 2020-02-29\n",
       "85 2020-03-31              low 2020-05-31\n",
       "86 2020-06-30              mid 2021-02-28\n",
       "\n",
       "[63 rows x 3 columns]"
      ]
     },
     "execution_count": 41,
     "metadata": {},
     "output_type": "execute_result"
    }
   ],
   "source": [
    "dates"
   ]
  },
  {
   "cell_type": "code",
   "execution_count": 42,
   "metadata": {},
   "outputs": [
    {
     "data": {
      "text/html": [
       "<div>\n",
       "<style scoped>\n",
       "    .dataframe tbody tr th:only-of-type {\n",
       "        vertical-align: middle;\n",
       "    }\n",
       "\n",
       "    .dataframe tbody tr th {\n",
       "        vertical-align: top;\n",
       "    }\n",
       "\n",
       "    .dataframe thead th {\n",
       "        text-align: right;\n",
       "    }\n",
       "</style>\n",
       "<table border=\"1\" class=\"dataframe\">\n",
       "  <thead>\n",
       "    <tr style=\"text-align: right;\">\n",
       "      <th></th>\n",
       "      <th>date</th>\n",
       "      <th>CPI</th>\n",
       "      <th>Inflation</th>\n",
       "      <th>cpi_next_month</th>\n",
       "      <th>next_month_inflation_regime</th>\n",
       "    </tr>\n",
       "  </thead>\n",
       "  <tbody>\n",
       "    <tr>\n",
       "      <th>182</th>\n",
       "      <td>1963-02-28</td>\n",
       "      <td>1.12695</td>\n",
       "      <td>mid</td>\n",
       "      <td>0.89374</td>\n",
       "      <td>low</td>\n",
       "    </tr>\n",
       "    <tr>\n",
       "      <th>184</th>\n",
       "      <td>1963-04-30</td>\n",
       "      <td>0.89286</td>\n",
       "      <td>low</td>\n",
       "      <td>1.32406</td>\n",
       "      <td>mid</td>\n",
       "    </tr>\n",
       "    <tr>\n",
       "      <th>187</th>\n",
       "      <td>1963-07-31</td>\n",
       "      <td>1.55218</td>\n",
       "      <td>mid</td>\n",
       "      <td>0.98619</td>\n",
       "      <td>low</td>\n",
       "    </tr>\n",
       "    <tr>\n",
       "      <th>188</th>\n",
       "      <td>1963-08-31</td>\n",
       "      <td>0.98619</td>\n",
       "      <td>low</td>\n",
       "      <td>1.21791</td>\n",
       "      <td>mid</td>\n",
       "    </tr>\n",
       "    <tr>\n",
       "      <th>198</th>\n",
       "      <td>1964-06-30</td>\n",
       "      <td>1.07527</td>\n",
       "      <td>mid</td>\n",
       "      <td>0.97561</td>\n",
       "      <td>low</td>\n",
       "    </tr>\n",
       "    <tr>\n",
       "      <th>...</th>\n",
       "      <td>...</td>\n",
       "      <td>...</td>\n",
       "      <td>...</td>\n",
       "      <td>...</td>\n",
       "      <td>...</td>\n",
       "    </tr>\n",
       "    <tr>\n",
       "      <th>822</th>\n",
       "      <td>2016-06-30</td>\n",
       "      <td>0.86836</td>\n",
       "      <td>low</td>\n",
       "      <td>1.05532</td>\n",
       "      <td>mid</td>\n",
       "    </tr>\n",
       "    <tr>\n",
       "      <th>866</th>\n",
       "      <td>2020-02-29</td>\n",
       "      <td>1.54287</td>\n",
       "      <td>mid</td>\n",
       "      <td>0.34520</td>\n",
       "      <td>low</td>\n",
       "    </tr>\n",
       "    <tr>\n",
       "      <th>869</th>\n",
       "      <td>2020-05-31</td>\n",
       "      <td>0.71602</td>\n",
       "      <td>low</td>\n",
       "      <td>1.01414</td>\n",
       "      <td>mid</td>\n",
       "    </tr>\n",
       "    <tr>\n",
       "      <th>878</th>\n",
       "      <td>2021-02-28</td>\n",
       "      <td>2.63052</td>\n",
       "      <td>mid</td>\n",
       "      <td>4.13055</td>\n",
       "      <td>high</td>\n",
       "    </tr>\n",
       "    <tr>\n",
       "      <th>899</th>\n",
       "      <td>2022-11-30</td>\n",
       "      <td>6.44494</td>\n",
       "      <td>high</td>\n",
       "      <td>NaN</td>\n",
       "      <td>NaN</td>\n",
       "    </tr>\n",
       "  </tbody>\n",
       "</table>\n",
       "<p>64 rows × 5 columns</p>\n",
       "</div>"
      ],
      "text/plain": [
       "          date      CPI Inflation  cpi_next_month next_month_inflation_regime\n",
       "182 1963-02-28  1.12695       mid         0.89374                         low\n",
       "184 1963-04-30  0.89286       low         1.32406                         mid\n",
       "187 1963-07-31  1.55218       mid         0.98619                         low\n",
       "188 1963-08-31  0.98619       low         1.21791                         mid\n",
       "198 1964-06-30  1.07527       mid         0.97561                         low\n",
       "..         ...      ...       ...             ...                         ...\n",
       "822 2016-06-30  0.86836       low         1.05532                         mid\n",
       "866 2020-02-29  1.54287       mid         0.34520                         low\n",
       "869 2020-05-31  0.71602       low         1.01414                         mid\n",
       "878 2021-02-28  2.63052       mid         4.13055                        high\n",
       "899 2022-11-30  6.44494      high             NaN                         NaN\n",
       "\n",
       "[64 rows x 5 columns]"
      ]
     },
     "execution_count": 42,
     "metadata": {},
     "output_type": "execute_result"
    }
   ],
   "source": [
    "change_in_regime"
   ]
  },
  {
   "cell_type": "code",
   "execution_count": 43,
   "metadata": {},
   "outputs": [
    {
     "data": {
      "text/plain": [
       "'\\ncreate portfolio for each regime (Dataframe....date with list of stocks in portfolio)\\n\\nfor each reconst date\\n        switch portfolio using dictionary if available\\n            if available\\n                get current stocks that are in same group as dictionary group list\\n            if not available\\n                do nothing\\n\\n        Add new best/worst data into dictionary of previous inflation period\\n\\n    save portfolio df...current date and list of stocks picked\\n'"
      ]
     },
     "execution_count": 43,
     "metadata": {},
     "output_type": "execute_result"
    }
   ],
   "source": [
    "'''\n",
    "create portfolio for each regime (Dataframe....date with list of stocks in portfolio)\n",
    "\n",
    "for each reconst date\n",
    "        switch portfolio using dictionary if available\n",
    "            if available\n",
    "                get current stocks that are in same group as dictionary group list\n",
    "            if not available\n",
    "                do nothing\n",
    "\n",
    "        Add new best/worst data into dictionary of previous inflation period\n",
    "\n",
    "    save portfolio df...current date and list of stocks picked\n",
    "'''"
   ]
  },
  {
   "cell_type": "code",
   "execution_count": 44,
   "metadata": {},
   "outputs": [
    {
     "data": {
      "text/plain": [
       "26"
      ]
     },
     "execution_count": 44,
     "metadata": {},
     "output_type": "execute_result"
    }
   ],
   "source": [
    "# get number of unique ggroups\n",
    "len(stocks[\"ggroup\"].unique())"
   ]
  },
  {
   "cell_type": "code",
   "execution_count": 45,
   "metadata": {},
   "outputs": [],
   "source": [
    "from tqdm import tqdm"
   ]
  },
  {
   "cell_type": "code",
   "execution_count": 46,
   "metadata": {},
   "outputs": [
    {
     "data": {
      "text/html": [
       "<div>\n",
       "<style scoped>\n",
       "    .dataframe tbody tr th:only-of-type {\n",
       "        vertical-align: middle;\n",
       "    }\n",
       "\n",
       "    .dataframe tbody tr th {\n",
       "        vertical-align: top;\n",
       "    }\n",
       "\n",
       "    .dataframe thead th {\n",
       "        text-align: right;\n",
       "    }\n",
       "</style>\n",
       "<table border=\"1\" class=\"dataframe\">\n",
       "  <thead>\n",
       "    <tr style=\"text-align: right;\">\n",
       "      <th></th>\n",
       "      <th>start_date</th>\n",
       "      <th>inflation_regime</th>\n",
       "      <th>end_date</th>\n",
       "    </tr>\n",
       "  </thead>\n",
       "  <tbody>\n",
       "    <tr>\n",
       "      <th>24</th>\n",
       "      <td>1962-02-28</td>\n",
       "      <td>mid</td>\n",
       "      <td>1963-02-28</td>\n",
       "    </tr>\n",
       "    <tr>\n",
       "      <th>25</th>\n",
       "      <td>1963-03-31</td>\n",
       "      <td>low</td>\n",
       "      <td>1963-04-30</td>\n",
       "    </tr>\n",
       "    <tr>\n",
       "      <th>26</th>\n",
       "      <td>1963-05-31</td>\n",
       "      <td>mid</td>\n",
       "      <td>1963-07-31</td>\n",
       "    </tr>\n",
       "    <tr>\n",
       "      <th>27</th>\n",
       "      <td>1963-08-31</td>\n",
       "      <td>low</td>\n",
       "      <td>1963-08-31</td>\n",
       "    </tr>\n",
       "    <tr>\n",
       "      <th>28</th>\n",
       "      <td>1963-09-30</td>\n",
       "      <td>mid</td>\n",
       "      <td>1964-06-30</td>\n",
       "    </tr>\n",
       "    <tr>\n",
       "      <th>...</th>\n",
       "      <td>...</td>\n",
       "      <td>...</td>\n",
       "      <td>...</td>\n",
       "    </tr>\n",
       "    <tr>\n",
       "      <th>82</th>\n",
       "      <td>2016-03-31</td>\n",
       "      <td>mid</td>\n",
       "      <td>2016-05-31</td>\n",
       "    </tr>\n",
       "    <tr>\n",
       "      <th>83</th>\n",
       "      <td>2016-06-30</td>\n",
       "      <td>low</td>\n",
       "      <td>2016-06-30</td>\n",
       "    </tr>\n",
       "    <tr>\n",
       "      <th>84</th>\n",
       "      <td>2016-07-31</td>\n",
       "      <td>mid</td>\n",
       "      <td>2020-02-29</td>\n",
       "    </tr>\n",
       "    <tr>\n",
       "      <th>85</th>\n",
       "      <td>2020-03-31</td>\n",
       "      <td>low</td>\n",
       "      <td>2020-05-31</td>\n",
       "    </tr>\n",
       "    <tr>\n",
       "      <th>86</th>\n",
       "      <td>2020-06-30</td>\n",
       "      <td>mid</td>\n",
       "      <td>2021-02-28</td>\n",
       "    </tr>\n",
       "  </tbody>\n",
       "</table>\n",
       "<p>63 rows × 3 columns</p>\n",
       "</div>"
      ],
      "text/plain": [
       "   start_date inflation_regime   end_date\n",
       "24 1962-02-28              mid 1963-02-28\n",
       "25 1963-03-31              low 1963-04-30\n",
       "26 1963-05-31              mid 1963-07-31\n",
       "27 1963-08-31              low 1963-08-31\n",
       "28 1963-09-30              mid 1964-06-30\n",
       "..        ...              ...        ...\n",
       "82 2016-03-31              mid 2016-05-31\n",
       "83 2016-06-30              low 2016-06-30\n",
       "84 2016-07-31              mid 2020-02-29\n",
       "85 2020-03-31              low 2020-05-31\n",
       "86 2020-06-30              mid 2021-02-28\n",
       "\n",
       "[63 rows x 3 columns]"
      ]
     },
     "execution_count": 46,
     "metadata": {},
     "output_type": "execute_result"
    }
   ],
   "source": [
    "dates"
   ]
  },
  {
   "cell_type": "code",
   "execution_count": 47,
   "metadata": {},
   "outputs": [
    {
     "data": {
      "text/html": [
       "<div>\n",
       "<style scoped>\n",
       "    .dataframe tbody tr th:only-of-type {\n",
       "        vertical-align: middle;\n",
       "    }\n",
       "\n",
       "    .dataframe tbody tr th {\n",
       "        vertical-align: top;\n",
       "    }\n",
       "\n",
       "    .dataframe thead th {\n",
       "        text-align: right;\n",
       "    }\n",
       "</style>\n",
       "<table border=\"1\" class=\"dataframe\">\n",
       "  <thead>\n",
       "    <tr style=\"text-align: right;\">\n",
       "      <th></th>\n",
       "      <th>date</th>\n",
       "      <th>CPI</th>\n",
       "      <th>diff</th>\n",
       "      <th>Inflation</th>\n",
       "      <th>Value</th>\n",
       "      <th>Forecast</th>\n",
       "      <th>cpi_next_month</th>\n",
       "      <th>change_in_CPI</th>\n",
       "      <th>next_month_inflation_regime</th>\n",
       "      <th>flag</th>\n",
       "    </tr>\n",
       "  </thead>\n",
       "  <tbody>\n",
       "    <tr>\n",
       "      <th>170</th>\n",
       "      <td>1962-02-28</td>\n",
       "      <td>1.10590</td>\n",
       "      <td>0.20107</td>\n",
       "      <td>mid</td>\n",
       "      <td>NaN</td>\n",
       "      <td>0.893655</td>\n",
       "      <td>1.34183</td>\n",
       "      <td>0.23593</td>\n",
       "      <td>mid</td>\n",
       "      <td>False</td>\n",
       "    </tr>\n",
       "    <tr>\n",
       "      <th>171</th>\n",
       "      <td>1962-03-31</td>\n",
       "      <td>1.34183</td>\n",
       "      <td>0.23593</td>\n",
       "      <td>mid</td>\n",
       "      <td>1.307409</td>\n",
       "      <td>1.307409</td>\n",
       "      <td>1.34048</td>\n",
       "      <td>-0.00135</td>\n",
       "      <td>mid</td>\n",
       "      <td>False</td>\n",
       "    </tr>\n",
       "    <tr>\n",
       "      <th>172</th>\n",
       "      <td>1962-04-30</td>\n",
       "      <td>1.34048</td>\n",
       "      <td>-0.00135</td>\n",
       "      <td>mid</td>\n",
       "      <td>NaN</td>\n",
       "      <td>1.307409</td>\n",
       "      <td>1.23995</td>\n",
       "      <td>-0.10053</td>\n",
       "      <td>mid</td>\n",
       "      <td>False</td>\n",
       "    </tr>\n",
       "    <tr>\n",
       "      <th>173</th>\n",
       "      <td>1962-05-31</td>\n",
       "      <td>1.23995</td>\n",
       "      <td>-0.10053</td>\n",
       "      <td>mid</td>\n",
       "      <td>NaN</td>\n",
       "      <td>1.307409</td>\n",
       "      <td>1.00267</td>\n",
       "      <td>-0.23728</td>\n",
       "      <td>mid</td>\n",
       "      <td>False</td>\n",
       "    </tr>\n",
       "    <tr>\n",
       "      <th>174</th>\n",
       "      <td>1962-06-30</td>\n",
       "      <td>1.00267</td>\n",
       "      <td>-0.23728</td>\n",
       "      <td>mid</td>\n",
       "      <td>1.202137</td>\n",
       "      <td>1.202137</td>\n",
       "      <td>1.13560</td>\n",
       "      <td>0.13293</td>\n",
       "      <td>mid</td>\n",
       "      <td>False</td>\n",
       "    </tr>\n",
       "    <tr>\n",
       "      <th>...</th>\n",
       "      <td>...</td>\n",
       "      <td>...</td>\n",
       "      <td>...</td>\n",
       "      <td>...</td>\n",
       "      <td>...</td>\n",
       "      <td>...</td>\n",
       "      <td>...</td>\n",
       "      <td>...</td>\n",
       "      <td>...</td>\n",
       "      <td>...</td>\n",
       "    </tr>\n",
       "    <tr>\n",
       "      <th>895</th>\n",
       "      <td>2022-07-31</td>\n",
       "      <td>8.22736</td>\n",
       "      <td>-0.18582</td>\n",
       "      <td>high</td>\n",
       "      <td>NaN</td>\n",
       "      <td>8.317612</td>\n",
       "      <td>8.21485</td>\n",
       "      <td>-0.01251</td>\n",
       "      <td>high</td>\n",
       "      <td>False</td>\n",
       "    </tr>\n",
       "    <tr>\n",
       "      <th>896</th>\n",
       "      <td>2022-08-31</td>\n",
       "      <td>8.21485</td>\n",
       "      <td>-0.01251</td>\n",
       "      <td>high</td>\n",
       "      <td>NaN</td>\n",
       "      <td>8.317612</td>\n",
       "      <td>7.76249</td>\n",
       "      <td>-0.45236</td>\n",
       "      <td>high</td>\n",
       "      <td>False</td>\n",
       "    </tr>\n",
       "    <tr>\n",
       "      <th>897</th>\n",
       "      <td>2022-09-30</td>\n",
       "      <td>7.76249</td>\n",
       "      <td>-0.45236</td>\n",
       "      <td>high</td>\n",
       "      <td>7.054659</td>\n",
       "      <td>7.054659</td>\n",
       "      <td>7.13535</td>\n",
       "      <td>-0.62714</td>\n",
       "      <td>high</td>\n",
       "      <td>False</td>\n",
       "    </tr>\n",
       "    <tr>\n",
       "      <th>898</th>\n",
       "      <td>2022-10-31</td>\n",
       "      <td>7.13535</td>\n",
       "      <td>-0.62714</td>\n",
       "      <td>high</td>\n",
       "      <td>NaN</td>\n",
       "      <td>7.054659</td>\n",
       "      <td>6.44494</td>\n",
       "      <td>-0.69041</td>\n",
       "      <td>high</td>\n",
       "      <td>False</td>\n",
       "    </tr>\n",
       "    <tr>\n",
       "      <th>899</th>\n",
       "      <td>2022-11-30</td>\n",
       "      <td>6.44494</td>\n",
       "      <td>-0.69041</td>\n",
       "      <td>high</td>\n",
       "      <td>NaN</td>\n",
       "      <td>7.054659</td>\n",
       "      <td>NaN</td>\n",
       "      <td>NaN</td>\n",
       "      <td>NaN</td>\n",
       "      <td>True</td>\n",
       "    </tr>\n",
       "  </tbody>\n",
       "</table>\n",
       "<p>730 rows × 10 columns</p>\n",
       "</div>"
      ],
      "text/plain": [
       "          date      CPI     diff Inflation     Value  Forecast  \\\n",
       "170 1962-02-28  1.10590  0.20107       mid       NaN  0.893655   \n",
       "171 1962-03-31  1.34183  0.23593       mid  1.307409  1.307409   \n",
       "172 1962-04-30  1.34048 -0.00135       mid       NaN  1.307409   \n",
       "173 1962-05-31  1.23995 -0.10053       mid       NaN  1.307409   \n",
       "174 1962-06-30  1.00267 -0.23728       mid  1.202137  1.202137   \n",
       "..         ...      ...      ...       ...       ...       ...   \n",
       "895 2022-07-31  8.22736 -0.18582      high       NaN  8.317612   \n",
       "896 2022-08-31  8.21485 -0.01251      high       NaN  8.317612   \n",
       "897 2022-09-30  7.76249 -0.45236      high  7.054659  7.054659   \n",
       "898 2022-10-31  7.13535 -0.62714      high       NaN  7.054659   \n",
       "899 2022-11-30  6.44494 -0.69041      high       NaN  7.054659   \n",
       "\n",
       "     cpi_next_month  change_in_CPI next_month_inflation_regime   flag  \n",
       "170         1.34183        0.23593                         mid  False  \n",
       "171         1.34048       -0.00135                         mid  False  \n",
       "172         1.23995       -0.10053                         mid  False  \n",
       "173         1.00267       -0.23728                         mid  False  \n",
       "174         1.13560        0.13293                         mid  False  \n",
       "..              ...            ...                         ...    ...  \n",
       "895         8.21485       -0.01251                        high  False  \n",
       "896         7.76249       -0.45236                        high  False  \n",
       "897         7.13535       -0.62714                        high  False  \n",
       "898         6.44494       -0.69041                        high  False  \n",
       "899             NaN            NaN                         NaN   True  \n",
       "\n",
       "[730 rows x 10 columns]"
      ]
     },
     "execution_count": 47,
     "metadata": {},
     "output_type": "execute_result"
    }
   ],
   "source": [
    "cpi"
   ]
  },
  {
   "cell_type": "code",
   "execution_count": null,
   "metadata": {},
   "outputs": [],
   "source": []
  },
  {
   "cell_type": "code",
   "execution_count": 48,
   "metadata": {},
   "outputs": [
    {
     "data": {
      "text/html": [
       "<div>\n",
       "<style scoped>\n",
       "    .dataframe tbody tr th:only-of-type {\n",
       "        vertical-align: middle;\n",
       "    }\n",
       "\n",
       "    .dataframe tbody tr th {\n",
       "        vertical-align: top;\n",
       "    }\n",
       "\n",
       "    .dataframe thead th {\n",
       "        text-align: right;\n",
       "    }\n",
       "</style>\n",
       "<table border=\"1\" class=\"dataframe\">\n",
       "  <thead>\n",
       "    <tr style=\"text-align: right;\">\n",
       "      <th></th>\n",
       "      <th>date</th>\n",
       "      <th>CPI</th>\n",
       "      <th>diff</th>\n",
       "      <th>Inflation</th>\n",
       "      <th>Value</th>\n",
       "      <th>Forecast</th>\n",
       "      <th>cpi_next_month</th>\n",
       "      <th>change_in_CPI</th>\n",
       "      <th>next_month_inflation_regime</th>\n",
       "      <th>flag</th>\n",
       "    </tr>\n",
       "  </thead>\n",
       "  <tbody>\n",
       "    <tr>\n",
       "      <th>182</th>\n",
       "      <td>1963-02-28</td>\n",
       "      <td>1.12695</td>\n",
       "      <td>-0.10188</td>\n",
       "      <td>mid</td>\n",
       "      <td>NaN</td>\n",
       "      <td>1.228964</td>\n",
       "      <td>0.89374</td>\n",
       "      <td>-0.23321</td>\n",
       "      <td>low</td>\n",
       "      <td>True</td>\n",
       "    </tr>\n",
       "    <tr>\n",
       "      <th>184</th>\n",
       "      <td>1963-04-30</td>\n",
       "      <td>0.89286</td>\n",
       "      <td>-0.00088</td>\n",
       "      <td>low</td>\n",
       "      <td>NaN</td>\n",
       "      <td>1.036841</td>\n",
       "      <td>1.32406</td>\n",
       "      <td>0.43120</td>\n",
       "      <td>mid</td>\n",
       "      <td>True</td>\n",
       "    </tr>\n",
       "    <tr>\n",
       "      <th>187</th>\n",
       "      <td>1963-07-31</td>\n",
       "      <td>1.55218</td>\n",
       "      <td>-0.00308</td>\n",
       "      <td>mid</td>\n",
       "      <td>NaN</td>\n",
       "      <td>1.363836</td>\n",
       "      <td>0.98619</td>\n",
       "      <td>-0.56599</td>\n",
       "      <td>low</td>\n",
       "      <td>True</td>\n",
       "    </tr>\n",
       "    <tr>\n",
       "      <th>188</th>\n",
       "      <td>1963-08-31</td>\n",
       "      <td>0.98619</td>\n",
       "      <td>-0.56599</td>\n",
       "      <td>low</td>\n",
       "      <td>NaN</td>\n",
       "      <td>1.363836</td>\n",
       "      <td>1.21791</td>\n",
       "      <td>0.23172</td>\n",
       "      <td>mid</td>\n",
       "      <td>True</td>\n",
       "    </tr>\n",
       "    <tr>\n",
       "      <th>198</th>\n",
       "      <td>1964-06-30</td>\n",
       "      <td>1.07527</td>\n",
       "      <td>-0.23149</td>\n",
       "      <td>mid</td>\n",
       "      <td>1.074219</td>\n",
       "      <td>1.074219</td>\n",
       "      <td>0.97561</td>\n",
       "      <td>-0.09966</td>\n",
       "      <td>low</td>\n",
       "      <td>True</td>\n",
       "    </tr>\n",
       "    <tr>\n",
       "      <th>...</th>\n",
       "      <td>...</td>\n",
       "      <td>...</td>\n",
       "      <td>...</td>\n",
       "      <td>...</td>\n",
       "      <td>...</td>\n",
       "      <td>...</td>\n",
       "      <td>...</td>\n",
       "      <td>...</td>\n",
       "      <td>...</td>\n",
       "      <td>...</td>\n",
       "    </tr>\n",
       "    <tr>\n",
       "      <th>821</th>\n",
       "      <td>2016-05-31</td>\n",
       "      <td>1.07929</td>\n",
       "      <td>0.00081</td>\n",
       "      <td>mid</td>\n",
       "      <td>NaN</td>\n",
       "      <td>1.110033</td>\n",
       "      <td>0.86836</td>\n",
       "      <td>-0.21093</td>\n",
       "      <td>low</td>\n",
       "      <td>True</td>\n",
       "    </tr>\n",
       "    <tr>\n",
       "      <th>822</th>\n",
       "      <td>2016-06-30</td>\n",
       "      <td>0.86836</td>\n",
       "      <td>-0.21093</td>\n",
       "      <td>low</td>\n",
       "      <td>1.157148</td>\n",
       "      <td>1.157148</td>\n",
       "      <td>1.05532</td>\n",
       "      <td>0.18696</td>\n",
       "      <td>mid</td>\n",
       "      <td>True</td>\n",
       "    </tr>\n",
       "    <tr>\n",
       "      <th>866</th>\n",
       "      <td>2020-02-29</td>\n",
       "      <td>1.54287</td>\n",
       "      <td>-0.79645</td>\n",
       "      <td>mid</td>\n",
       "      <td>NaN</td>\n",
       "      <td>2.102443</td>\n",
       "      <td>0.34520</td>\n",
       "      <td>-1.19767</td>\n",
       "      <td>low</td>\n",
       "      <td>True</td>\n",
       "    </tr>\n",
       "    <tr>\n",
       "      <th>869</th>\n",
       "      <td>2020-05-31</td>\n",
       "      <td>0.71602</td>\n",
       "      <td>0.48961</td>\n",
       "      <td>low</td>\n",
       "      <td>NaN</td>\n",
       "      <td>0.444735</td>\n",
       "      <td>1.01414</td>\n",
       "      <td>0.29812</td>\n",
       "      <td>mid</td>\n",
       "      <td>True</td>\n",
       "    </tr>\n",
       "    <tr>\n",
       "      <th>878</th>\n",
       "      <td>2021-02-28</td>\n",
       "      <td>2.63052</td>\n",
       "      <td>0.93716</td>\n",
       "      <td>mid</td>\n",
       "      <td>NaN</td>\n",
       "      <td>1.897264</td>\n",
       "      <td>4.13055</td>\n",
       "      <td>1.50003</td>\n",
       "      <td>high</td>\n",
       "      <td>True</td>\n",
       "    </tr>\n",
       "  </tbody>\n",
       "</table>\n",
       "<p>63 rows × 10 columns</p>\n",
       "</div>"
      ],
      "text/plain": [
       "          date      CPI     diff Inflation     Value  Forecast  \\\n",
       "182 1963-02-28  1.12695 -0.10188       mid       NaN  1.228964   \n",
       "184 1963-04-30  0.89286 -0.00088       low       NaN  1.036841   \n",
       "187 1963-07-31  1.55218 -0.00308       mid       NaN  1.363836   \n",
       "188 1963-08-31  0.98619 -0.56599       low       NaN  1.363836   \n",
       "198 1964-06-30  1.07527 -0.23149       mid  1.074219  1.074219   \n",
       "..         ...      ...      ...       ...       ...       ...   \n",
       "821 2016-05-31  1.07929  0.00081       mid       NaN  1.110033   \n",
       "822 2016-06-30  0.86836 -0.21093       low  1.157148  1.157148   \n",
       "866 2020-02-29  1.54287 -0.79645       mid       NaN  2.102443   \n",
       "869 2020-05-31  0.71602  0.48961       low       NaN  0.444735   \n",
       "878 2021-02-28  2.63052  0.93716       mid       NaN  1.897264   \n",
       "\n",
       "     cpi_next_month  change_in_CPI next_month_inflation_regime  flag  \n",
       "182         0.89374       -0.23321                         low  True  \n",
       "184         1.32406        0.43120                         mid  True  \n",
       "187         0.98619       -0.56599                         low  True  \n",
       "188         1.21791        0.23172                         mid  True  \n",
       "198         0.97561       -0.09966                         low  True  \n",
       "..              ...            ...                         ...   ...  \n",
       "821         0.86836       -0.21093                         low  True  \n",
       "822         1.05532        0.18696                         mid  True  \n",
       "866         0.34520       -1.19767                         low  True  \n",
       "869         1.01414        0.29812                         mid  True  \n",
       "878         4.13055        1.50003                        high  True  \n",
       "\n",
       "[63 rows x 10 columns]"
      ]
     },
     "execution_count": 48,
     "metadata": {},
     "output_type": "execute_result"
    }
   ],
   "source": [
    "cpi[cpi['date'].isin(reconst_dates + MonthEnd(0))]"
   ]
  },
  {
   "cell_type": "code",
   "execution_count": 49,
   "metadata": {},
   "outputs": [
    {
     "data": {
      "text/plain": [
       "182   1963-02-01\n",
       "184   1963-04-01\n",
       "187   1963-07-01\n",
       "188   1963-08-01\n",
       "198   1964-06-01\n",
       "         ...    \n",
       "821   2016-05-01\n",
       "822   2016-06-01\n",
       "866   2020-02-01\n",
       "869   2020-05-01\n",
       "878   2021-02-01\n",
       "Name: date, Length: 63, dtype: datetime64[ns]"
      ]
     },
     "execution_count": 49,
     "metadata": {},
     "output_type": "execute_result"
    }
   ],
   "source": [
    "reconst_dates"
   ]
  },
  {
   "cell_type": "code",
   "execution_count": 190,
   "metadata": {},
   "outputs": [
    {
     "name": "stderr",
     "output_type": "stream",
     "text": [
      "100%|██████████| 63/63 [00:02<00:00, 21.76it/s]\n"
     ]
    }
   ],
   "source": [
    "grouping = \"gsubind\"\n",
    "get_top = .1\n",
    "\n",
    "groups = {i: {\"best\": None, \"worst\": None} for i in regime_names}\n",
    "\n",
    "portfolio = pd.DataFrame(columns=[\"date\", \"long\", \"short\", \"current_inflation_regime\", \"next_inflation_regime\", \"best_groups\", \"worst_groups\"])\n",
    "\n",
    "for reconst_date in tqdm(reconst_dates):\n",
    "    #print(reconst_date)\n",
    "    # substract a day from reconst date\n",
    "    stock_date = reconst_date - timedelta(days=1)\n",
    "    #print(stock_date)\n",
    "    # get stocks on that date\n",
    "    stocks_on_date = stocks[stocks[\"datadate\"] == stock_date]\n",
    "    # get inflation regime on that date\n",
    "    current_inflation_regime = cpi[cpi[\"date\"] == reconst_date+ MonthEnd(0)][\"Inflation\"].values[0]\n",
    "    next_inflation_regime = cpi[cpi[\"date\"] == reconst_date+ MonthEnd(0)][\"next_month_inflation_regime\"].values[0]\n",
    "\n",
    "    assert current_inflation_regime != next_inflation_regime\n",
    "\n",
    "    new_row_portfolio = {\"date\": reconst_date, \"long\": [], \"short\": [], \"current_inflation_regime\": current_inflation_regime, \"next_inflation_regime\": next_inflation_regime, \"best_groups\": [], \"worst_groups\": []}\n",
    "\n",
    "    # if regime is in dictionary\n",
    "    if (groups[next_inflation_regime][\"best\"] != None) & (groups[next_inflation_regime][\"worst\"] != None):\n",
    "        best_groups = groups[next_inflation_regime][\"best\"]\n",
    "        worst_groups = groups[next_inflation_regime][\"worst\"]\n",
    "        # get stocks in best groups\n",
    "        best_stocks = stocks_on_date[stocks_on_date[grouping].isin(best_groups)][\"gvkey\"].values\n",
    "        # get stocks in worst groups\n",
    "        worst_stocks = stocks_on_date[stocks_on_date[grouping].isin(worst_groups)][\"gvkey\"].values\n",
    "\n",
    "        # add to portfolio\n",
    "        new_row_portfolio[\"long\"] = best_stocks\n",
    "        new_row_portfolio[\"short\"] = worst_stocks\n",
    "\n",
    "        # add best and worst groups to portfolio\n",
    "        new_row_portfolio[\"best_groups\"] = best_groups\n",
    "        new_row_portfolio[\"worst_groups\"] = worst_groups\n",
    "\n",
    "    \n",
    "    # get all stocks in that regime\n",
    "    last_current_inflation_date = reconst_date + MonthEnd(0)\n",
    "    #print(next_inflation_date)\n",
    "\n",
    "    # print(reconst_dates)\n",
    "    # print(reconst_date)\n",
    "\n",
    "    # print(next_inflation_date)\n",
    "    # display(dates)\n",
    "    start_inflation_date = dates[dates[\"end_date\"] == last_current_inflation_date][\"start_date\"].values[0]\n",
    "\n",
    "    # get stocks in that regime\n",
    "    stocks_in_regime = stocks[(stocks[\"datadate\"] >= start_inflation_date) & (stocks[\"datadate\"] <= last_current_inflation_date)]\n",
    "\n",
    "    #display(stocks_in_regime)\n",
    "    # find best groups and worst groups\n",
    "    temp_groups = stocks_in_regime.groupby(grouping)[\"trt1m\"].mean().sort_values(ascending=False).index\n",
    "    best_groups = temp_groups[:int(len(temp_groups)*get_top)]\n",
    "    worst_groups = temp_groups[int(len(temp_groups)*(1-get_top)):]\n",
    "\n",
    "    # add best and worst groups to dictionary\n",
    "    groups[current_inflation_regime][\"best\"] = list(best_groups)\n",
    "    groups[current_inflation_regime][\"worst\"] = list(worst_groups)\n",
    "\n",
    "\n",
    "    # add row to df portfolio using concat\n",
    "    portfolio = pd.concat([portfolio, pd.DataFrame([new_row_portfolio])], ignore_index=True)\n",
    "\n",
    "\n",
    "    \n"
   ]
  },
  {
   "cell_type": "code",
   "execution_count": 168,
   "metadata": {},
   "outputs": [],
   "source": [
    "gics = pd.read_csv(\"data/gics-map-2018.csv\")"
   ]
  },
  {
   "cell_type": "code",
   "execution_count": 194,
   "metadata": {},
   "outputs": [
    {
     "data": {
      "text/plain": [
       "Index(['SectorId', 'Sector', 'IndustryGroupId', 'IndustryGroup', 'IndustryId',\n",
       "       'Industry', 'SubIndustryId', 'SubIndustry', 'SubIndustryDescription'],\n",
       "      dtype='object')"
      ]
     },
     "execution_count": 194,
     "metadata": {},
     "output_type": "execute_result"
    }
   ],
   "source": [
    "gics.columns"
   ]
  },
  {
   "cell_type": "code",
   "execution_count": 195,
   "metadata": {},
   "outputs": [],
   "source": [
    "gics_name = \"SubIndustry\"\n",
    "\n",
    "best_groups_readables = []\n",
    "\n",
    "for best_groups_i in portfolio[\"best_groups\"]:\n",
    "    best_group_readable = []\n",
    "\n",
    "    if best_groups_i == []:\n",
    "        best_group_readable.append(\"None\")\n",
    "    else:\n",
    "        for best_group in best_groups_i:\n",
    "            temp = gics[gics[gics_name + \"Id\"] == best_group][gics_name]\n",
    "            if temp.shape[0] > 0:\n",
    "                best_group_readable.append(temp.values[0])\n",
    "            else:\n",
    "                best_group_readable.append(\"Unknown\")\n",
    "\n",
    "    best_groups_readables.append(best_group_readable)\n",
    "\n",
    "worst_groups_readables = []\n",
    "\n",
    "\n",
    "for worst_groups_i in portfolio[\"worst_groups\"]:\n",
    "    worst_group_readable = []\n",
    "\n",
    "    if worst_groups_i == []:\n",
    "        worst_group_readable.append(\"None\")\n",
    "    else:\n",
    "        for worst_group in worst_groups_i:\n",
    "            temp = gics[gics[gics_name + \"Id\"] == worst_group][gics_name]\n",
    "            if temp.shape[0] > 0:\n",
    "                worst_group_readable.append(temp.values[0])\n",
    "            else:\n",
    "                worst_group_readable.append(\"Unknown\")\n",
    "\n",
    "    worst_groups_readables.append(worst_group_readable)\n"
   ]
  },
  {
   "cell_type": "code",
   "execution_count": 196,
   "metadata": {},
   "outputs": [],
   "source": [
    "portfolio[\"best_groups_readable\"] = best_groups_readables\n",
    "portfolio[\"worst_groups_readable\"] = worst_groups_readables"
   ]
  },
  {
   "cell_type": "code",
   "execution_count": 197,
   "metadata": {},
   "outputs": [
    {
     "data": {
      "text/html": [
       "<div>\n",
       "<style scoped>\n",
       "    .dataframe tbody tr th:only-of-type {\n",
       "        vertical-align: middle;\n",
       "    }\n",
       "\n",
       "    .dataframe tbody tr th {\n",
       "        vertical-align: top;\n",
       "    }\n",
       "\n",
       "    .dataframe thead th {\n",
       "        text-align: right;\n",
       "    }\n",
       "</style>\n",
       "<table border=\"1\" class=\"dataframe\">\n",
       "  <thead>\n",
       "    <tr style=\"text-align: right;\">\n",
       "      <th></th>\n",
       "      <th>date</th>\n",
       "      <th>long</th>\n",
       "      <th>short</th>\n",
       "      <th>current_inflation_regime</th>\n",
       "      <th>next_inflation_regime</th>\n",
       "      <th>best_groups</th>\n",
       "      <th>worst_groups</th>\n",
       "      <th>best_groups_readable</th>\n",
       "      <th>worst_groups_readable</th>\n",
       "    </tr>\n",
       "  </thead>\n",
       "  <tbody>\n",
       "    <tr>\n",
       "      <th>0</th>\n",
       "      <td>1963-02-01</td>\n",
       "      <td>[]</td>\n",
       "      <td>[]</td>\n",
       "      <td>mid</td>\n",
       "      <td>low</td>\n",
       "      <td>[]</td>\n",
       "      <td>[]</td>\n",
       "      <td>[None]</td>\n",
       "      <td>[None]</td>\n",
       "    </tr>\n",
       "    <tr>\n",
       "      <th>1</th>\n",
       "      <td>1963-04-01</td>\n",
       "      <td>[]</td>\n",
       "      <td>[1595, 2014, 2024, 2029, 2943, 2968, 3066, 346...</td>\n",
       "      <td>low</td>\n",
       "      <td>mid</td>\n",
       "      <td>[]</td>\n",
       "      <td>[40101010.0]</td>\n",
       "      <td>[None]</td>\n",
       "      <td>[Diversified Banks]</td>\n",
       "    </tr>\n",
       "    <tr>\n",
       "      <th>2</th>\n",
       "      <td>1963-07-01</td>\n",
       "      <td>[]</td>\n",
       "      <td>[7562, 10978]</td>\n",
       "      <td>mid</td>\n",
       "      <td>low</td>\n",
       "      <td>[]</td>\n",
       "      <td>[40201020.0]</td>\n",
       "      <td>[None]</td>\n",
       "      <td>[Other Diversified Financial Services]</td>\n",
       "    </tr>\n",
       "    <tr>\n",
       "      <th>3</th>\n",
       "      <td>1963-08-01</td>\n",
       "      <td>[]</td>\n",
       "      <td>[7562, 10978]</td>\n",
       "      <td>low</td>\n",
       "      <td>mid</td>\n",
       "      <td>[]</td>\n",
       "      <td>[40201020.0]</td>\n",
       "      <td>[None]</td>\n",
       "      <td>[Other Diversified Financial Services]</td>\n",
       "    </tr>\n",
       "    <tr>\n",
       "      <th>4</th>\n",
       "      <td>1964-06-01</td>\n",
       "      <td>[]</td>\n",
       "      <td>[1595, 2014, 2024, 2029, 2943, 2968, 3066, 346...</td>\n",
       "      <td>mid</td>\n",
       "      <td>low</td>\n",
       "      <td>[]</td>\n",
       "      <td>[40101010.0]</td>\n",
       "      <td>[None]</td>\n",
       "      <td>[Diversified Banks]</td>\n",
       "    </tr>\n",
       "    <tr>\n",
       "      <th>...</th>\n",
       "      <td>...</td>\n",
       "      <td>...</td>\n",
       "      <td>...</td>\n",
       "      <td>...</td>\n",
       "      <td>...</td>\n",
       "      <td>...</td>\n",
       "      <td>...</td>\n",
       "      <td>...</td>\n",
       "      <td>...</td>\n",
       "    </tr>\n",
       "    <tr>\n",
       "      <th>58</th>\n",
       "      <td>2016-05-01</td>\n",
       "      <td>[1186, 1186, 1585, 1659, 1681, 1783, 1790, 192...</td>\n",
       "      <td>[1121, 1234, 1254, 1262, 1262, 1487, 1526, 160...</td>\n",
       "      <td>mid</td>\n",
       "      <td>low</td>\n",
       "      <td>[45205020.0, 40403020.0, 15104045.0, 15104030....</td>\n",
       "      <td>[35203010.0, 60102040.0, 40301030.0, 20201070....</td>\n",
       "      <td>[Unknown, Unknown, Silver, Gold, Agricultural ...</td>\n",
       "      <td>[Life Sciences Tools &amp; Services, Real Estate S...</td>\n",
       "    </tr>\n",
       "    <tr>\n",
       "      <th>59</th>\n",
       "      <td>2016-06-01</td>\n",
       "      <td>[1186, 1186, 1613, 1661, 1681, 1790, 1860, 196...</td>\n",
       "      <td>[1126, 1266, 1722, 1814, 1895, 1932, 2080, 217...</td>\n",
       "      <td>low</td>\n",
       "      <td>mid</td>\n",
       "      <td>[40401010.0, 15104045.0, 15104020.0, 15104040....</td>\n",
       "      <td>[25201020.0, 25201010.0, 25201040.0, 25301040....</td>\n",
       "      <td>[Unknown, Silver, Diversified Metals &amp; Mining,...</td>\n",
       "      <td>[Home Furnishings, Consumer Electronics, House...</td>\n",
       "    </tr>\n",
       "    <tr>\n",
       "      <th>60</th>\n",
       "      <td>2020-02-01</td>\n",
       "      <td>[1075, 1121, 1186, 1186, 1228, 1440, 1661, 179...</td>\n",
       "      <td>[1209, 1254, 1262, 1262, 1393, 1602, 1662, 174...</td>\n",
       "      <td>mid</td>\n",
       "      <td>low</td>\n",
       "      <td>[25401010.0, 40403040.0, 15104040.0, 15104045....</td>\n",
       "      <td>[35201010.0, 50101010.0, 20304020.0, 25203030....</td>\n",
       "      <td>[Unknown, Unknown, Precious Metals &amp; Minerals,...</td>\n",
       "      <td>[Biotechnology, Alternative Carriers, Trucking...</td>\n",
       "    </tr>\n",
       "    <tr>\n",
       "      <th>61</th>\n",
       "      <td>2020-05-01</td>\n",
       "      <td>[1272, 1662, 1874, 2586, 2644, 2751, 2890, 524...</td>\n",
       "      <td>[1209, 1254, 1257, 1262, 1262, 1274, 1661, 241...</td>\n",
       "      <td>low</td>\n",
       "      <td>mid</td>\n",
       "      <td>[40403040.0, 25502010.0, 45205020.0, 40403020....</td>\n",
       "      <td>[20305030.0, 10102040.0, 25504010.0, 40401010....</td>\n",
       "      <td>[Unknown, Unknown, Unknown, Unknown, Unknown, ...</td>\n",
       "      <td>[Marine Ports &amp; Services, Oil &amp; Gas Storage &amp; ...</td>\n",
       "    </tr>\n",
       "    <tr>\n",
       "      <th>62</th>\n",
       "      <td>2021-02-01</td>\n",
       "      <td>[1084, 1096, 1096, 1121, 1545, 1718, 1864, 189...</td>\n",
       "      <td>[1019, 1161, 1254, 1262, 1262, 1327, 1598, 163...</td>\n",
       "      <td>mid</td>\n",
       "      <td>high</td>\n",
       "      <td>[45201010.0, 45205020.0, 45202010.0, 25301030....</td>\n",
       "      <td>[20201080.0, 45103030.0, 45102030.0, 60102010....</td>\n",
       "      <td>[Unknown, Unknown, Unknown, Leisure Facilities...</td>\n",
       "      <td>[Security &amp; Alarm Services, Unknown, Internet ...</td>\n",
       "    </tr>\n",
       "  </tbody>\n",
       "</table>\n",
       "<p>63 rows × 9 columns</p>\n",
       "</div>"
      ],
      "text/plain": [
       "         date                                               long  \\\n",
       "0  1963-02-01                                                 []   \n",
       "1  1963-04-01                                                 []   \n",
       "2  1963-07-01                                                 []   \n",
       "3  1963-08-01                                                 []   \n",
       "4  1964-06-01                                                 []   \n",
       "..        ...                                                ...   \n",
       "58 2016-05-01  [1186, 1186, 1585, 1659, 1681, 1783, 1790, 192...   \n",
       "59 2016-06-01  [1186, 1186, 1613, 1661, 1681, 1790, 1860, 196...   \n",
       "60 2020-02-01  [1075, 1121, 1186, 1186, 1228, 1440, 1661, 179...   \n",
       "61 2020-05-01  [1272, 1662, 1874, 2586, 2644, 2751, 2890, 524...   \n",
       "62 2021-02-01  [1084, 1096, 1096, 1121, 1545, 1718, 1864, 189...   \n",
       "\n",
       "                                                short  \\\n",
       "0                                                  []   \n",
       "1   [1595, 2014, 2024, 2029, 2943, 2968, 3066, 346...   \n",
       "2                                       [7562, 10978]   \n",
       "3                                       [7562, 10978]   \n",
       "4   [1595, 2014, 2024, 2029, 2943, 2968, 3066, 346...   \n",
       "..                                                ...   \n",
       "58  [1121, 1234, 1254, 1262, 1262, 1487, 1526, 160...   \n",
       "59  [1126, 1266, 1722, 1814, 1895, 1932, 2080, 217...   \n",
       "60  [1209, 1254, 1262, 1262, 1393, 1602, 1662, 174...   \n",
       "61  [1209, 1254, 1257, 1262, 1262, 1274, 1661, 241...   \n",
       "62  [1019, 1161, 1254, 1262, 1262, 1327, 1598, 163...   \n",
       "\n",
       "   current_inflation_regime next_inflation_regime  \\\n",
       "0                       mid                   low   \n",
       "1                       low                   mid   \n",
       "2                       mid                   low   \n",
       "3                       low                   mid   \n",
       "4                       mid                   low   \n",
       "..                      ...                   ...   \n",
       "58                      mid                   low   \n",
       "59                      low                   mid   \n",
       "60                      mid                   low   \n",
       "61                      low                   mid   \n",
       "62                      mid                  high   \n",
       "\n",
       "                                          best_groups  \\\n",
       "0                                                  []   \n",
       "1                                                  []   \n",
       "2                                                  []   \n",
       "3                                                  []   \n",
       "4                                                  []   \n",
       "..                                                ...   \n",
       "58  [45205020.0, 40403020.0, 15104045.0, 15104030....   \n",
       "59  [40401010.0, 15104045.0, 15104020.0, 15104040....   \n",
       "60  [25401010.0, 40403040.0, 15104040.0, 15104045....   \n",
       "61  [40403040.0, 25502010.0, 45205020.0, 40403020....   \n",
       "62  [45201010.0, 45205020.0, 45202010.0, 25301030....   \n",
       "\n",
       "                                         worst_groups  \\\n",
       "0                                                  []   \n",
       "1                                        [40101010.0]   \n",
       "2                                        [40201020.0]   \n",
       "3                                        [40201020.0]   \n",
       "4                                        [40101010.0]   \n",
       "..                                                ...   \n",
       "58  [35203010.0, 60102040.0, 40301030.0, 20201070....   \n",
       "59  [25201020.0, 25201010.0, 25201040.0, 25301040....   \n",
       "60  [35201010.0, 50101010.0, 20304020.0, 25203030....   \n",
       "61  [20305030.0, 10102040.0, 25504010.0, 40401010....   \n",
       "62  [20201080.0, 45103030.0, 45102030.0, 60102010....   \n",
       "\n",
       "                                 best_groups_readable  \\\n",
       "0                                              [None]   \n",
       "1                                              [None]   \n",
       "2                                              [None]   \n",
       "3                                              [None]   \n",
       "4                                              [None]   \n",
       "..                                                ...   \n",
       "58  [Unknown, Unknown, Silver, Gold, Agricultural ...   \n",
       "59  [Unknown, Silver, Diversified Metals & Mining,...   \n",
       "60  [Unknown, Unknown, Precious Metals & Minerals,...   \n",
       "61  [Unknown, Unknown, Unknown, Unknown, Unknown, ...   \n",
       "62  [Unknown, Unknown, Unknown, Leisure Facilities...   \n",
       "\n",
       "                                worst_groups_readable  \n",
       "0                                              [None]  \n",
       "1                                 [Diversified Banks]  \n",
       "2              [Other Diversified Financial Services]  \n",
       "3              [Other Diversified Financial Services]  \n",
       "4                                 [Diversified Banks]  \n",
       "..                                                ...  \n",
       "58  [Life Sciences Tools & Services, Real Estate S...  \n",
       "59  [Home Furnishings, Consumer Electronics, House...  \n",
       "60  [Biotechnology, Alternative Carriers, Trucking...  \n",
       "61  [Marine Ports & Services, Oil & Gas Storage & ...  \n",
       "62  [Security & Alarm Services, Unknown, Internet ...  \n",
       "\n",
       "[63 rows x 9 columns]"
      ]
     },
     "execution_count": 197,
     "metadata": {},
     "output_type": "execute_result"
    }
   ],
   "source": [
    "portfolio"
   ]
  },
  {
   "cell_type": "code",
   "execution_count": 203,
   "metadata": {},
   "outputs": [],
   "source": [
    "skip_first = 0\n",
    "value_weighted = False\n",
    "# create empty series for long_short returns that can be appended to\n",
    "port_returns = pd.Series(dtype=\"float64\")\n",
    "\n",
    "for i in range(skip_first,len(portfolio[\"date\"])-1):\n",
    "\n",
    "    current_date = portfolio[\"date\"].values[i]\n",
    "    next_date = portfolio[\"date\"].values[i+1]\n",
    "\n",
    "    # get the stocks during that dates\n",
    "    stocks_current_date = stocks[(stocks[\"datadate\"] >= current_date) & (stocks[\"datadate\"] < next_date)]\n",
    "\n",
    "    # get long stocks from current date\n",
    "    long_stocks = portfolio[\"long\"].values[i]\n",
    "    # get short stocks from current date\n",
    "    short_stocks = portfolio[\"short\"].values[i]\n",
    "\n",
    "    stocks_long = stocks_current_date[stocks_current_date[\"gvkey\"].isin(long_stocks)].copy()\n",
    "    stocks_short = stocks_current_date[stocks_current_date[\"gvkey\"].isin(short_stocks)].copy()\n",
    "\n",
    "    stocks_long[\"bins\"] = \"long\"\n",
    "    stocks_short[\"bins\"] = \"short\"\n",
    "\n",
    "    # concat long and short stocks\n",
    "    stocks_long_short = pd.concat([stocks_long, stocks_short], ignore_index=True)\n",
    "\n",
    "    \n",
    "    if value_weighted:\n",
    "        stocks_long_short = pd.merge(stocks_long_short, stocks_long_short.groupby([\"datadate\", \"bins\"])[\"market_cap_shifted\"].sum().reset_index(), on=[\"datadate\", \"bins\"], how=\"inner\").rename({\"market_cap_shifted_y\": \"Sum Market Cap Shifted\", \"market_cap_shifted_x\": \"market_cap_shifted\"}, axis=1)\n",
    "        stocks_long_short[\"weight\"] = stocks_long_short[\"market_cap_shifted\"] / stocks_long_short[\"Sum Market Cap Shifted\"]\n",
    "    else:\n",
    "        stocks_long_short = pd.merge(stocks_long_short, stocks_long_short.groupby([\"datadate\", \"bins\"])[\"trt1m\"].count().reset_index().rename({\"trt1m\":\"Count in Bin for Month\"}, axis=1))\n",
    "        stocks_long_short[\"weight\"] = 1 /stocks_long_short[\"Count in Bin for Month\"] \n",
    "    \n",
    "    stocks_long_short[\"stock return\"] = stocks_long_short[\"trt1m\"] * stocks_long_short[\"weight\"]\n",
    "    \n",
    "\n",
    "    # sum all long returns group by month\n",
    "    sum_returns = stocks_long_short.groupby([\"datadate\", \"bins\"])[\"stock return\"].sum().reset_index()\n",
    "\n",
    "    # negatate returns for short\n",
    "    sum_returns.loc[sum_returns[\"bins\"] == \"short\", \"stock return\"] = -sum_returns.loc[sum_returns[\"bins\"] == \"short\", \"stock return\"]\n",
    "\n",
    "    long_short_returns = sum_returns.groupby(\"datadate\")[\"stock return\"].sum()\n",
    "\n",
    "    # add long_short_returns to series\n",
    "    port_returns = pd.concat([port_returns, long_short_returns])\n",
    "    \n"
   ]
  },
  {
   "cell_type": "code",
   "execution_count": 204,
   "metadata": {},
   "outputs": [
    {
     "data": {
      "text/plain": [
       "1963-04-30    -4.151219\n",
       "1963-05-31     0.069333\n",
       "1963-06-30    -0.352293\n",
       "1963-07-31     0.865900\n",
       "1963-08-31    -4.130750\n",
       "                ...    \n",
       "2020-09-30     5.303406\n",
       "2020-10-31     7.334217\n",
       "2020-11-30   -10.754351\n",
       "2020-12-31    13.933499\n",
       "2021-01-31    16.497756\n",
       "Length: 686, dtype: float64"
      ]
     },
     "execution_count": 204,
     "metadata": {},
     "output_type": "execute_result"
    }
   ],
   "source": [
    "port_returns"
   ]
  },
  {
   "cell_type": "code",
   "execution_count": 205,
   "metadata": {},
   "outputs": [
    {
     "data": {
      "application/vnd.plotly.v1+json": {
       "config": {
        "plotlyServerURL": "https://plot.ly"
       },
       "data": [
        {
         "mode": "lines",
         "name": "Portfolio Returns",
         "type": "scatter",
         "x": [
          "1963-04-30T00:00:00",
          "1963-05-31T00:00:00",
          "1963-06-30T00:00:00",
          "1963-07-31T00:00:00",
          "1963-08-31T00:00:00",
          "1963-09-30T00:00:00",
          "1963-10-31T00:00:00",
          "1963-11-30T00:00:00",
          "1963-12-31T00:00:00",
          "1964-01-31T00:00:00",
          "1964-02-29T00:00:00",
          "1964-03-31T00:00:00",
          "1964-04-30T00:00:00",
          "1964-05-31T00:00:00",
          "1964-06-30T00:00:00",
          "1964-07-31T00:00:00",
          "1964-08-31T00:00:00",
          "1964-09-30T00:00:00",
          "1964-10-31T00:00:00",
          "1964-11-30T00:00:00",
          "1964-12-31T00:00:00",
          "1965-01-31T00:00:00",
          "1965-02-28T00:00:00",
          "1965-03-31T00:00:00",
          "1965-04-30T00:00:00",
          "1965-05-31T00:00:00",
          "1965-06-30T00:00:00",
          "1965-07-31T00:00:00",
          "1965-08-31T00:00:00",
          "1965-09-30T00:00:00",
          "1965-10-31T00:00:00",
          "1965-11-30T00:00:00",
          "1965-12-31T00:00:00",
          "1966-01-31T00:00:00",
          "1966-02-28T00:00:00",
          "1966-03-31T00:00:00",
          "1966-04-30T00:00:00",
          "1966-05-31T00:00:00",
          "1966-12-31T00:00:00",
          "1967-01-31T00:00:00",
          "1967-02-28T00:00:00",
          "1967-03-31T00:00:00",
          "1967-04-30T00:00:00",
          "1967-05-31T00:00:00",
          "1967-06-30T00:00:00",
          "1967-07-31T00:00:00",
          "1967-08-31T00:00:00",
          "1967-09-30T00:00:00",
          "1967-10-31T00:00:00",
          "1967-11-30T00:00:00",
          "1967-12-31T00:00:00",
          "1968-01-31T00:00:00",
          "1968-02-29T00:00:00",
          "1968-03-31T00:00:00",
          "1968-04-30T00:00:00",
          "1968-05-31T00:00:00",
          "1968-06-30T00:00:00",
          "1968-07-31T00:00:00",
          "1968-08-31T00:00:00",
          "1968-09-30T00:00:00",
          "1968-10-31T00:00:00",
          "1968-11-30T00:00:00",
          "1968-12-31T00:00:00",
          "1969-01-31T00:00:00",
          "1969-02-28T00:00:00",
          "1969-03-31T00:00:00",
          "1969-04-30T00:00:00",
          "1969-05-31T00:00:00",
          "1969-06-30T00:00:00",
          "1969-07-31T00:00:00",
          "1969-08-31T00:00:00",
          "1969-09-30T00:00:00",
          "1969-10-31T00:00:00",
          "1969-11-30T00:00:00",
          "1969-12-31T00:00:00",
          "1970-01-31T00:00:00",
          "1970-02-28T00:00:00",
          "1970-03-31T00:00:00",
          "1970-04-30T00:00:00",
          "1970-05-31T00:00:00",
          "1970-06-30T00:00:00",
          "1970-07-31T00:00:00",
          "1970-08-31T00:00:00",
          "1970-09-30T00:00:00",
          "1970-10-31T00:00:00",
          "1970-11-30T00:00:00",
          "1970-12-31T00:00:00",
          "1971-01-31T00:00:00",
          "1971-02-28T00:00:00",
          "1971-03-31T00:00:00",
          "1971-04-30T00:00:00",
          "1971-05-31T00:00:00",
          "1971-06-30T00:00:00",
          "1971-07-31T00:00:00",
          "1971-08-31T00:00:00",
          "1971-09-30T00:00:00",
          "1971-10-31T00:00:00",
          "1971-11-30T00:00:00",
          "1971-12-31T00:00:00",
          "1972-01-31T00:00:00",
          "1972-02-29T00:00:00",
          "1972-03-31T00:00:00",
          "1972-04-30T00:00:00",
          "1972-05-31T00:00:00",
          "1972-06-30T00:00:00",
          "1972-07-31T00:00:00",
          "1972-08-31T00:00:00",
          "1972-09-30T00:00:00",
          "1972-10-31T00:00:00",
          "1972-11-30T00:00:00",
          "1972-12-31T00:00:00",
          "1973-01-31T00:00:00",
          "1973-02-28T00:00:00",
          "1973-03-31T00:00:00",
          "1973-04-30T00:00:00",
          "1973-05-31T00:00:00",
          "1973-06-30T00:00:00",
          "1973-07-31T00:00:00",
          "1973-08-31T00:00:00",
          "1973-09-30T00:00:00",
          "1973-10-31T00:00:00",
          "1973-11-30T00:00:00",
          "1973-12-31T00:00:00",
          "1974-01-31T00:00:00",
          "1974-02-28T00:00:00",
          "1974-03-31T00:00:00",
          "1974-04-30T00:00:00",
          "1974-05-31T00:00:00",
          "1974-06-30T00:00:00",
          "1974-07-31T00:00:00",
          "1974-08-31T00:00:00",
          "1974-09-30T00:00:00",
          "1974-10-31T00:00:00",
          "1974-11-30T00:00:00",
          "1974-12-31T00:00:00",
          "1975-01-31T00:00:00",
          "1975-02-28T00:00:00",
          "1975-03-31T00:00:00",
          "1975-04-30T00:00:00",
          "1975-05-31T00:00:00",
          "1975-06-30T00:00:00",
          "1975-07-31T00:00:00",
          "1975-08-31T00:00:00",
          "1975-09-30T00:00:00",
          "1975-10-31T00:00:00",
          "1975-11-30T00:00:00",
          "1975-12-31T00:00:00",
          "1976-01-31T00:00:00",
          "1976-02-29T00:00:00",
          "1976-03-31T00:00:00",
          "1976-04-30T00:00:00",
          "1976-05-31T00:00:00",
          "1976-06-30T00:00:00",
          "1976-07-31T00:00:00",
          "1976-08-31T00:00:00",
          "1976-09-30T00:00:00",
          "1976-10-31T00:00:00",
          "1976-11-30T00:00:00",
          "1976-12-31T00:00:00",
          "1977-01-31T00:00:00",
          "1977-02-28T00:00:00",
          "1977-03-31T00:00:00",
          "1977-04-30T00:00:00",
          "1977-05-31T00:00:00",
          "1977-06-30T00:00:00",
          "1977-07-31T00:00:00",
          "1977-08-31T00:00:00",
          "1977-09-30T00:00:00",
          "1977-10-31T00:00:00",
          "1977-11-30T00:00:00",
          "1977-12-31T00:00:00",
          "1978-01-31T00:00:00",
          "1978-02-28T00:00:00",
          "1978-03-31T00:00:00",
          "1978-04-30T00:00:00",
          "1978-05-31T00:00:00",
          "1978-06-30T00:00:00",
          "1978-07-31T00:00:00",
          "1978-08-31T00:00:00",
          "1978-09-30T00:00:00",
          "1978-10-31T00:00:00",
          "1978-11-30T00:00:00",
          "1978-12-31T00:00:00",
          "1979-01-31T00:00:00",
          "1979-02-28T00:00:00",
          "1979-03-31T00:00:00",
          "1979-04-30T00:00:00",
          "1979-05-31T00:00:00",
          "1979-06-30T00:00:00",
          "1979-07-31T00:00:00",
          "1979-08-31T00:00:00",
          "1979-09-30T00:00:00",
          "1979-10-31T00:00:00",
          "1979-11-30T00:00:00",
          "1979-12-31T00:00:00",
          "1980-01-31T00:00:00",
          "1980-02-29T00:00:00",
          "1980-03-31T00:00:00",
          "1980-04-30T00:00:00",
          "1980-05-31T00:00:00",
          "1980-06-30T00:00:00",
          "1980-07-31T00:00:00",
          "1980-08-31T00:00:00",
          "1980-09-30T00:00:00",
          "1980-10-31T00:00:00",
          "1980-11-30T00:00:00",
          "1980-12-31T00:00:00",
          "1981-01-31T00:00:00",
          "1981-02-28T00:00:00",
          "1981-03-31T00:00:00",
          "1981-04-30T00:00:00",
          "1981-05-31T00:00:00",
          "1981-06-30T00:00:00",
          "1981-07-31T00:00:00",
          "1981-08-31T00:00:00",
          "1981-09-30T00:00:00",
          "1981-10-31T00:00:00",
          "1981-11-30T00:00:00",
          "1981-12-31T00:00:00",
          "1982-01-31T00:00:00",
          "1982-02-28T00:00:00",
          "1982-03-31T00:00:00",
          "1982-04-30T00:00:00",
          "1982-05-31T00:00:00",
          "1982-06-30T00:00:00",
          "1982-07-31T00:00:00",
          "1982-08-31T00:00:00",
          "1982-09-30T00:00:00",
          "1982-10-31T00:00:00",
          "1982-11-30T00:00:00",
          "1982-12-31T00:00:00",
          "1983-01-31T00:00:00",
          "1983-02-28T00:00:00",
          "1983-03-31T00:00:00",
          "1983-04-30T00:00:00",
          "1983-05-31T00:00:00",
          "1983-06-30T00:00:00",
          "1983-07-31T00:00:00",
          "1983-08-31T00:00:00",
          "1983-09-30T00:00:00",
          "1983-10-31T00:00:00",
          "1983-11-30T00:00:00",
          "1983-12-31T00:00:00",
          "1984-01-31T00:00:00",
          "1984-02-29T00:00:00",
          "1984-03-31T00:00:00",
          "1984-04-30T00:00:00",
          "1984-05-31T00:00:00",
          "1984-06-30T00:00:00",
          "1984-07-31T00:00:00",
          "1984-08-31T00:00:00",
          "1984-09-30T00:00:00",
          "1984-10-31T00:00:00",
          "1984-11-30T00:00:00",
          "1984-12-31T00:00:00",
          "1985-01-31T00:00:00",
          "1985-02-28T00:00:00",
          "1985-03-31T00:00:00",
          "1985-04-30T00:00:00",
          "1985-05-31T00:00:00",
          "1985-06-30T00:00:00",
          "1985-07-31T00:00:00",
          "1985-08-31T00:00:00",
          "1985-09-30T00:00:00",
          "1985-10-31T00:00:00",
          "1985-11-30T00:00:00",
          "1985-12-31T00:00:00",
          "1986-01-31T00:00:00",
          "1986-02-28T00:00:00",
          "1986-03-31T00:00:00",
          "1986-04-30T00:00:00",
          "1986-05-31T00:00:00",
          "1986-06-30T00:00:00",
          "1986-07-31T00:00:00",
          "1986-08-31T00:00:00",
          "1986-09-30T00:00:00",
          "1986-10-31T00:00:00",
          "1986-11-30T00:00:00",
          "1986-12-31T00:00:00",
          "1987-01-31T00:00:00",
          "1987-02-28T00:00:00",
          "1987-03-31T00:00:00",
          "1987-04-30T00:00:00",
          "1987-05-31T00:00:00",
          "1987-06-30T00:00:00",
          "1987-07-31T00:00:00",
          "1987-08-31T00:00:00",
          "1987-09-30T00:00:00",
          "1987-10-31T00:00:00",
          "1987-11-30T00:00:00",
          "1987-12-31T00:00:00",
          "1988-01-31T00:00:00",
          "1988-02-29T00:00:00",
          "1988-03-31T00:00:00",
          "1988-04-30T00:00:00",
          "1988-05-31T00:00:00",
          "1988-06-30T00:00:00",
          "1988-07-31T00:00:00",
          "1988-08-31T00:00:00",
          "1988-09-30T00:00:00",
          "1988-10-31T00:00:00",
          "1988-11-30T00:00:00",
          "1988-12-31T00:00:00",
          "1989-01-31T00:00:00",
          "1989-02-28T00:00:00",
          "1989-03-31T00:00:00",
          "1989-04-30T00:00:00",
          "1989-05-31T00:00:00",
          "1989-06-30T00:00:00",
          "1989-07-31T00:00:00",
          "1989-08-31T00:00:00",
          "1989-09-30T00:00:00",
          "1989-10-31T00:00:00",
          "1989-11-30T00:00:00",
          "1989-12-31T00:00:00",
          "1990-01-31T00:00:00",
          "1990-02-28T00:00:00",
          "1990-03-31T00:00:00",
          "1990-04-30T00:00:00",
          "1990-05-31T00:00:00",
          "1990-06-30T00:00:00",
          "1990-07-31T00:00:00",
          "1990-08-31T00:00:00",
          "1990-09-30T00:00:00",
          "1990-10-31T00:00:00",
          "1990-11-30T00:00:00",
          "1990-12-31T00:00:00",
          "1991-01-31T00:00:00",
          "1991-02-28T00:00:00",
          "1991-03-31T00:00:00",
          "1991-04-30T00:00:00",
          "1991-05-31T00:00:00",
          "1991-06-30T00:00:00",
          "1991-07-31T00:00:00",
          "1991-08-31T00:00:00",
          "1991-09-30T00:00:00",
          "1991-10-31T00:00:00",
          "1991-11-30T00:00:00",
          "1991-12-31T00:00:00",
          "1992-01-31T00:00:00",
          "1992-02-29T00:00:00",
          "1992-03-31T00:00:00",
          "1992-04-30T00:00:00",
          "1992-05-31T00:00:00",
          "1992-06-30T00:00:00",
          "1992-07-31T00:00:00",
          "1992-08-31T00:00:00",
          "1992-09-30T00:00:00",
          "1992-10-31T00:00:00",
          "1992-11-30T00:00:00",
          "1992-12-31T00:00:00",
          "1993-01-31T00:00:00",
          "1993-02-28T00:00:00",
          "1993-03-31T00:00:00",
          "1993-04-30T00:00:00",
          "1993-05-31T00:00:00",
          "1993-06-30T00:00:00",
          "1993-07-31T00:00:00",
          "1993-08-31T00:00:00",
          "1993-09-30T00:00:00",
          "1993-10-31T00:00:00",
          "1993-11-30T00:00:00",
          "1993-12-31T00:00:00",
          "1994-01-31T00:00:00",
          "1994-02-28T00:00:00",
          "1994-03-31T00:00:00",
          "1994-04-30T00:00:00",
          "1994-05-31T00:00:00",
          "1994-06-30T00:00:00",
          "1994-07-31T00:00:00",
          "1994-08-31T00:00:00",
          "1994-09-30T00:00:00",
          "1994-10-31T00:00:00",
          "1994-11-30T00:00:00",
          "1994-12-31T00:00:00",
          "1995-01-31T00:00:00",
          "1995-02-28T00:00:00",
          "1995-03-31T00:00:00",
          "1995-04-30T00:00:00",
          "1995-05-31T00:00:00",
          "1995-06-30T00:00:00",
          "1995-07-31T00:00:00",
          "1995-08-31T00:00:00",
          "1995-09-30T00:00:00",
          "1995-10-31T00:00:00",
          "1995-11-30T00:00:00",
          "1995-12-31T00:00:00",
          "1996-01-31T00:00:00",
          "1996-02-29T00:00:00",
          "1996-03-31T00:00:00",
          "1996-04-30T00:00:00",
          "1996-05-31T00:00:00",
          "1996-06-30T00:00:00",
          "1996-07-31T00:00:00",
          "1996-08-31T00:00:00",
          "1996-09-30T00:00:00",
          "1996-10-31T00:00:00",
          "1996-11-30T00:00:00",
          "1996-12-31T00:00:00",
          "1997-01-31T00:00:00",
          "1997-02-28T00:00:00",
          "1997-03-31T00:00:00",
          "1997-04-30T00:00:00",
          "1997-05-31T00:00:00",
          "1997-06-30T00:00:00",
          "1997-07-31T00:00:00",
          "1997-08-31T00:00:00",
          "1997-09-30T00:00:00",
          "1997-10-31T00:00:00",
          "1997-11-30T00:00:00",
          "1997-12-31T00:00:00",
          "1998-01-31T00:00:00",
          "1998-02-28T00:00:00",
          "1998-03-31T00:00:00",
          "1998-04-30T00:00:00",
          "1998-05-31T00:00:00",
          "1998-06-30T00:00:00",
          "1998-07-31T00:00:00",
          "1998-08-31T00:00:00",
          "1998-09-30T00:00:00",
          "1998-10-31T00:00:00",
          "1998-11-30T00:00:00",
          "1998-12-31T00:00:00",
          "1999-01-31T00:00:00",
          "1999-02-28T00:00:00",
          "1999-03-31T00:00:00",
          "1999-04-30T00:00:00",
          "1999-05-31T00:00:00",
          "1999-06-30T00:00:00",
          "1999-07-31T00:00:00",
          "1999-08-31T00:00:00",
          "1999-09-30T00:00:00",
          "1999-10-31T00:00:00",
          "1999-11-30T00:00:00",
          "1999-12-31T00:00:00",
          "2000-01-31T00:00:00",
          "2000-02-29T00:00:00",
          "2000-03-31T00:00:00",
          "2000-04-30T00:00:00",
          "2000-05-31T00:00:00",
          "2000-06-30T00:00:00",
          "2000-07-31T00:00:00",
          "2000-08-31T00:00:00",
          "2000-09-30T00:00:00",
          "2000-10-31T00:00:00",
          "2000-11-30T00:00:00",
          "2000-12-31T00:00:00",
          "2001-01-31T00:00:00",
          "2001-02-28T00:00:00",
          "2001-03-31T00:00:00",
          "2001-04-30T00:00:00",
          "2001-05-31T00:00:00",
          "2001-06-30T00:00:00",
          "2001-07-31T00:00:00",
          "2001-08-31T00:00:00",
          "2001-09-30T00:00:00",
          "2001-10-31T00:00:00",
          "2001-11-30T00:00:00",
          "2001-12-31T00:00:00",
          "2002-01-31T00:00:00",
          "2002-02-28T00:00:00",
          "2002-03-31T00:00:00",
          "2002-04-30T00:00:00",
          "2002-05-31T00:00:00",
          "2002-06-30T00:00:00",
          "2002-07-31T00:00:00",
          "2002-08-31T00:00:00",
          "2002-09-30T00:00:00",
          "2002-10-31T00:00:00",
          "2002-11-30T00:00:00",
          "2002-12-31T00:00:00",
          "2003-01-31T00:00:00",
          "2003-02-28T00:00:00",
          "2003-03-31T00:00:00",
          "2003-04-30T00:00:00",
          "2003-05-31T00:00:00",
          "2003-06-30T00:00:00",
          "2003-07-31T00:00:00",
          "2003-08-31T00:00:00",
          "2003-09-30T00:00:00",
          "2003-10-31T00:00:00",
          "2003-11-30T00:00:00",
          "2003-12-31T00:00:00",
          "2004-01-31T00:00:00",
          "2004-02-29T00:00:00",
          "2004-03-31T00:00:00",
          "2004-04-30T00:00:00",
          "2004-05-31T00:00:00",
          "2004-06-30T00:00:00",
          "2004-07-31T00:00:00",
          "2004-08-31T00:00:00",
          "2004-09-30T00:00:00",
          "2004-10-31T00:00:00",
          "2004-11-30T00:00:00",
          "2004-12-31T00:00:00",
          "2005-01-31T00:00:00",
          "2005-02-28T00:00:00",
          "2005-03-31T00:00:00",
          "2005-04-30T00:00:00",
          "2005-05-31T00:00:00",
          "2005-06-30T00:00:00",
          "2005-07-31T00:00:00",
          "2005-08-31T00:00:00",
          "2005-09-30T00:00:00",
          "2005-10-31T00:00:00",
          "2005-11-30T00:00:00",
          "2005-12-31T00:00:00",
          "2006-01-31T00:00:00",
          "2006-02-28T00:00:00",
          "2006-03-31T00:00:00",
          "2006-04-30T00:00:00",
          "2006-05-31T00:00:00",
          "2006-06-30T00:00:00",
          "2006-07-31T00:00:00",
          "2006-08-31T00:00:00",
          "2006-09-30T00:00:00",
          "2006-10-31T00:00:00",
          "2006-11-30T00:00:00",
          "2006-12-31T00:00:00",
          "2007-01-31T00:00:00",
          "2007-02-28T00:00:00",
          "2007-03-31T00:00:00",
          "2007-04-30T00:00:00",
          "2007-05-31T00:00:00",
          "2007-06-30T00:00:00",
          "2007-07-31T00:00:00",
          "2007-08-31T00:00:00",
          "2007-09-30T00:00:00",
          "2007-10-31T00:00:00",
          "2007-11-30T00:00:00",
          "2007-12-31T00:00:00",
          "2008-01-31T00:00:00",
          "2008-02-29T00:00:00",
          "2008-03-31T00:00:00",
          "2008-04-30T00:00:00",
          "2008-05-31T00:00:00",
          "2008-06-30T00:00:00",
          "2008-07-31T00:00:00",
          "2008-08-31T00:00:00",
          "2008-09-30T00:00:00",
          "2008-12-31T00:00:00",
          "2009-01-31T00:00:00",
          "2009-02-28T00:00:00",
          "2009-03-31T00:00:00",
          "2009-04-30T00:00:00",
          "2009-05-31T00:00:00",
          "2009-06-30T00:00:00",
          "2009-07-31T00:00:00",
          "2009-08-31T00:00:00",
          "2009-09-30T00:00:00",
          "2009-10-31T00:00:00",
          "2009-11-30T00:00:00",
          "2009-12-31T00:00:00",
          "2010-01-31T00:00:00",
          "2010-02-28T00:00:00",
          "2010-03-31T00:00:00",
          "2010-04-30T00:00:00",
          "2010-05-31T00:00:00",
          "2010-06-30T00:00:00",
          "2010-07-31T00:00:00",
          "2010-08-31T00:00:00",
          "2010-09-30T00:00:00",
          "2010-10-31T00:00:00",
          "2010-11-30T00:00:00",
          "2010-12-31T00:00:00",
          "2011-01-31T00:00:00",
          "2011-02-28T00:00:00",
          "2011-03-31T00:00:00",
          "2011-04-30T00:00:00",
          "2011-05-31T00:00:00",
          "2011-06-30T00:00:00",
          "2011-07-31T00:00:00",
          "2011-08-31T00:00:00",
          "2011-09-30T00:00:00",
          "2011-10-31T00:00:00",
          "2011-11-30T00:00:00",
          "2011-12-31T00:00:00",
          "2012-01-31T00:00:00",
          "2012-02-29T00:00:00",
          "2012-03-31T00:00:00",
          "2012-04-30T00:00:00",
          "2012-05-31T00:00:00",
          "2012-06-30T00:00:00",
          "2012-07-31T00:00:00",
          "2012-08-31T00:00:00",
          "2012-09-30T00:00:00",
          "2012-10-31T00:00:00",
          "2012-11-30T00:00:00",
          "2012-12-31T00:00:00",
          "2013-01-31T00:00:00",
          "2013-02-28T00:00:00",
          "2013-03-31T00:00:00",
          "2013-04-30T00:00:00",
          "2013-05-31T00:00:00",
          "2013-06-30T00:00:00",
          "2013-07-31T00:00:00",
          "2013-08-31T00:00:00",
          "2013-09-30T00:00:00",
          "2013-10-31T00:00:00",
          "2013-11-30T00:00:00",
          "2013-12-31T00:00:00",
          "2014-01-31T00:00:00",
          "2014-02-28T00:00:00",
          "2014-03-31T00:00:00",
          "2014-04-30T00:00:00",
          "2014-05-31T00:00:00",
          "2014-06-30T00:00:00",
          "2014-07-31T00:00:00",
          "2014-08-31T00:00:00",
          "2014-09-30T00:00:00",
          "2014-10-31T00:00:00",
          "2014-11-30T00:00:00",
          "2014-12-31T00:00:00",
          "2015-01-31T00:00:00",
          "2015-02-28T00:00:00",
          "2015-03-31T00:00:00",
          "2015-04-30T00:00:00",
          "2015-05-31T00:00:00",
          "2015-06-30T00:00:00",
          "2015-07-31T00:00:00",
          "2015-08-31T00:00:00",
          "2015-09-30T00:00:00",
          "2015-10-31T00:00:00",
          "2015-11-30T00:00:00",
          "2015-12-31T00:00:00",
          "2016-01-31T00:00:00",
          "2016-02-29T00:00:00",
          "2016-03-31T00:00:00",
          "2016-04-30T00:00:00",
          "2016-05-31T00:00:00",
          "2016-06-30T00:00:00",
          "2016-07-31T00:00:00",
          "2016-08-31T00:00:00",
          "2016-09-30T00:00:00",
          "2016-10-31T00:00:00",
          "2016-11-30T00:00:00",
          "2016-12-31T00:00:00",
          "2017-01-31T00:00:00",
          "2017-02-28T00:00:00",
          "2017-03-31T00:00:00",
          "2017-04-30T00:00:00",
          "2017-05-31T00:00:00",
          "2017-06-30T00:00:00",
          "2017-07-31T00:00:00",
          "2017-08-31T00:00:00",
          "2017-09-30T00:00:00",
          "2017-10-31T00:00:00",
          "2017-11-30T00:00:00",
          "2017-12-31T00:00:00",
          "2018-01-31T00:00:00",
          "2018-02-28T00:00:00",
          "2018-03-31T00:00:00",
          "2018-04-30T00:00:00",
          "2018-05-31T00:00:00",
          "2018-06-30T00:00:00",
          "2018-07-31T00:00:00",
          "2018-08-31T00:00:00",
          "2018-09-30T00:00:00",
          "2018-10-31T00:00:00",
          "2018-11-30T00:00:00",
          "2018-12-31T00:00:00",
          "2019-01-31T00:00:00",
          "2019-02-28T00:00:00",
          "2019-03-31T00:00:00",
          "2019-04-30T00:00:00",
          "2019-05-31T00:00:00",
          "2019-06-30T00:00:00",
          "2019-07-31T00:00:00",
          "2019-08-31T00:00:00",
          "2019-09-30T00:00:00",
          "2019-10-31T00:00:00",
          "2019-11-30T00:00:00",
          "2019-12-31T00:00:00",
          "2020-01-31T00:00:00",
          "2020-02-29T00:00:00",
          "2020-03-31T00:00:00",
          "2020-04-30T00:00:00",
          "2020-05-31T00:00:00",
          "2020-06-30T00:00:00",
          "2020-07-31T00:00:00",
          "2020-08-31T00:00:00",
          "2020-09-30T00:00:00",
          "2020-10-31T00:00:00",
          "2020-11-30T00:00:00",
          "2020-12-31T00:00:00",
          "2021-01-31T00:00:00"
         ],
         "y": [
          -4.151218518518518,
          0.0693333333333333,
          -0.3522925925925926,
          0.8659,
          -4.13075,
          1.81005,
          3.5206999999999997,
          6.16045,
          -4.9631,
          -0.6244500000000001,
          1.8869500000000001,
          -3.6519000000000004,
          -2.2048,
          0.98495,
          1.436135714285714,
          13.0293,
          -9.3283,
          4.4656666666666665,
          -9.169866666666667,
          3.7547999999999995,
          0.0045999999999999375,
          3.0179666666666662,
          -0.9953666666666674,
          10.285666666666666,
          9.4893,
          8.942333333333334,
          -6.550733333333333,
          -1.0278333333333332,
          0.061066666666666825,
          -5.983366666666667,
          14.084033333333332,
          14.8888,
          4.880833333333333,
          2.5787666666666667,
          4.2976,
          -3.1277333333333335,
          14.528266666666667,
          -8.983433333333334,
          -4.605925,
          -7.560725000000005,
          13.562324999999998,
          -2.92035,
          -1.9434500000000003,
          3.332325000000001,
          -8.533850000000001,
          -4.498625,
          -8.0273,
          -3.690266666666666,
          -2.9650533333333335,
          11.057473333333334,
          3.3694333333333333,
          0.5819828571428576,
          -5.070708571428572,
          -1.5478699999999996,
          -5.095229999999999,
          -3.186261428571428,
          12.455684285714286,
          4.074425714285714,
          10.786582857142857,
          -1.2789571428571431,
          15.948210000000001,
          3.3349542857142858,
          -4.703386666666667,
          -4.6394,
          4.211913333333333,
          1.1249733333333336,
          0.7578066666666669,
          1.930553333333334,
          0.8881533333333316,
          5.9056066666666664,
          -0.863786666666666,
          3.5131533333333334,
          -1.699086666666667,
          -4.728313333333333,
          8.672913333333332,
          -2.2980133333333335,
          -5.78928,
          -3.6644733333333344,
          -5.247300000000003,
          2.1610200000000006,
          3.8727800000000006,
          7.7954,
          0.101020000000001,
          -1.6144799999999986,
          1.1530999999999993,
          5.076606666666667,
          1.5356666666666658,
          2.316126666666669,
          0.35746666666666727,
          -0.8604066666666661,
          -0.8703133333333333,
          -2.0755533333333336,
          5.414560000000001,
          -4.600453333333334,
          2.8974066666666665,
          3.181633333333333,
          -2.4768933333333343,
          0.6916933333333337,
          1.351840000000001,
          3.5280666666666676,
          2.090346666666667,
          -3.3100199999999997,
          0.8890496062992126,
          1.856704281496063,
          -5.064835482283464,
          -4.898629827586207,
          -7.696621609195402,
          1.9943054022988507,
          0.28908396551724147,
          -2.4216623563218387,
          -0.20750879310344805,
          -6.660742931034482,
          -12.387500977011493,
          -1.8394560344827584,
          -8.277508908045977,
          1.3380522988505748,
          -10.204680057471265,
          6.406322011494252,
          -9.069873793103447,
          -3.5076755747126436,
          -9.299593045977012,
          -13.404102413793101,
          -10.329540517241378,
          13.755153218390802,
          -3.383427543859649,
          2.923511929824561,
          -2.5308299999999995,
          1.5809033333333335,
          -2.569929210526316,
          -9.69330350877193,
          -3.629331754385964,
          4.064179385964911,
          -3.1377560511448106,
          -3.3034809693725835,
          -5.053460808801665,
          34.65380745614035,
          -0.6996561403508768,
          14.035801140350877,
          -8.40024754385965,
          5.3489016666666656,
          -5.599120350877193,
          1.579626842105263,
          -3.3268411403508766,
          -4.220617543859648,
          5.756559298245614,
          -2.962618157894737,
          9.181334912280702,
          9.486046954022989,
          -2.672446494252874,
          5.765924885057471,
          -1.8453702298850576,
          -5.981789942528735,
          -0.575075344827586,
          -1.2000512565751023,
          1.8867525131502045,
          1.7186251315020458,
          1.4586750730566918,
          7.957245850379895,
          -0.2161318390804592,
          -7.107387356321839,
          0.9140491954022991,
          -2.6388699425287356,
          -2.169028448275862,
          0.5658612068965516,
          2.9092443678160924,
          5.337282298850575,
          0.4972605172413793,
          1.4016913500876678,
          4.170954178842782,
          6.3937052893045,
          -4.389167767387493,
          0.8804539450613675,
          3.105381969608416,
          3.2166022501461136,
          -1.8780822910578596,
          -6.300359000584454,
          1.337022764465225,
          -5.134987726475744,
          13.46166396843951,
          -6.774084541203974,
          -7.01905794856809,
          2.848323407364115,
          -3.6860952951490358,
          2.0546656049094096,
          -4.864813004091175,
          -0.46470862068965424,
          -1.4268614552893042,
          -2.1067970192869665,
          0.6913941262419634,
          2.7595565751022795,
          -4.060508649912332,
          -7.216604587960257,
          2.377272238457042,
          -3.8825047925189944,
          -10.700032933956752,
          -6.896628229105785,
          -4.15982618351841,
          3.9071988018702513,
          2.867072326125073,
          1.40479652250146,
          0.8005893629456455,
          3.0980470777323195,
          -5.273460900058446,
          -5.106575219170077,
          0.8306649620105202,
          -5.549376797194623,
          3.932013413208651,
          7.435186206896552,
          6.781273202805377,
          -1.2413862653419052,
          -0.9081551431911163,
          3.2693574225599065,
          8.06509754529515,
          0.9291497662185852,
          -3.928826300409119,
          4.927231472822912,
          4.725566803039158,
          -1.1052185251263755,
          -0.5863856080880163,
          5.944335355337496,
          -1.0737597877984082,
          6.625205437665782,
          4.592278272604587,
          1.0059818893387318,
          7.4248260728744935,
          0.7414082051282047,
          8.48375789473684,
          0.7798964372469634,
          8.062607881241563,
          12.674534251012144,
          -6.934079532967035,
          -9.339798736263738,
          3.1998500549450544,
          6.140459725274724,
          -2.7161055854095437,
          -4.630387787804212,
          -6.593830550504215,
          2.412511279052663,
          4.2821597394800515,
          -0.7231649215822099,
          -6.704332496470883,
          5.2874655206515415,
          -2.1398423333741317,
          -3.0328550468637347,
          -7.217968475126172,
          -2.0860238021778588,
          -0.05329159918196691,
          -4.53392312134503,
          2.2655400434782607,
          -1.3037386906197241,
          4.705415081234692,
          -4.077271349963316,
          -0.8505667609814482,
          -2.5630459089229816,
          -0.37603307820136855,
          13.251724883380772,
          2.5504766471805196,
          -7.858244426377597,
          -2.3991439814814814,
          0.7465599835358523,
          -1.1692158134763442,
          1.431986205089898,
          -2.936870418248548,
          -1.3846592072359671,
          -0.9054713876348299,
          -0.45733341923547055,
          6.8029060948897,
          -1.5516707216403347,
          4.853589130036632,
          -4.673611222808175,
          -0.8311503570743868,
          -1.763335983436853,
          -3.466009916338583,
          -0.3958594985177868,
          -1.4844637043478257,
          0.6866575500000005,
          0.6684960142456609,
          1.151285419976426,
          1.0685465829591738,
          1.302061749223915,
          -3.2163794608240392,
          -5.53740060986311,
          -3.2481505069600973,
          -4.669782327108599,
          2.704989131454023,
          -5.937543494133599,
          4.091600632034632,
          -0.44096884838917383,
          7.684369263204317,
          3.7984490237136463,
          0.6133801628924667,
          -1.485229874979483,
          0.9845496607650546,
          -3.0905593659635744,
          -1.8865400880751015,
          2.5555893474801055,
          3.6507469404683257,
          1.1772359201194476,
          1.7354758051489145,
          1.9182332656968637,
          3.188675388694487,
          1.654826948000213,
          -1.1756407209436834,
          -3.936828645712711,
          1.2735604794044444,
          -4.434553773142622,
          1.264036635198135,
          0.3130143025442149,
          1.0054770239208237,
          1.8878653828020164,
          1.6809656809728883,
          -3.2221870178351786,
          -1.7151301836290074,
          -1.7870126437713627,
          -3.7041027528196078,
          -3.336452826663108,
          -4.496328021778584,
          -4.488410836205938,
          -0.683212423205902,
          -3.3136346618064807,
          -4.1469133129767854,
          -2.246679708558243,
          -3.4897048554409213,
          -5.103897042154246,
          1.4132969425243953,
          3.787216954897212,
          4.03830371265061,
          -1.7142282818416783,
          1.8683674794250393,
          -0.401226980060712,
          1.2383407967032967,
          -0.5545274753843792,
          1.0909127498134827,
          2.2090918927695187,
          5.144863832838489,
          4.679265103528726,
          1.7976328983461398,
          -0.5301998887434557,
          10.099281623143625,
          4.034762661518464,
          -7.216823477052892,
          -1.4872854371238518,
          -2.930603054224738,
          -1.1909511145656944,
          0.06724384756208357,
          -0.9040496319449023,
          5.512985596706308,
          1.1573682946138468,
          -1.8168657803020527,
          7.785149856903981,
          0.31779895628546306,
          1.9742355725436544,
          -7.478143784395455,
          -2.543356181217157,
          -18.321834939210326,
          -8.736923416289592,
          -5.385777391351018,
          -5.27301950161856,
          4.9001945377980585,
          10.705671082949308,
          -3.4223756334007778,
          1.5134625513873745,
          -7.106190571117409,
          -4.2378407978444725,
          -4.487967684022776,
          -6.473670417873974,
          -2.3351827769991926,
          -0.9904743461265102,
          -1.8682867839889576,
          1.1615864959390383,
          4.725727437771516,
          -3.8261180204627965,
          1.6043127598401217,
          6.354160446610745,
          -3.9314002312948744,
          9.081382317073171,
          -0.658206440713758,
          5.209089528815803,
          0.924867111415506,
          4.026071964679912,
          3.847549449332469,
          4.863905295548304,
          0.9429474695073168,
          2.140178017916239,
          0.5861171527347144,
          0.46100863013698645,
          -3.507727873674166,
          -6.958133014903525,
          0.6864033083124825,
          -4.331708686077573,
          3.7008115908944967,
          0.8102277896608605,
          -5.410824770108782,
          -0.579982692871809,
          5.748349672462824,
          2.9023359933776405,
          4.88530503150677,
          7.517921303076087,
          0.2444178818766718,
          0.3027561911909018,
          0.47647056047446235,
          -3.1422838227383485,
          -2.661878462754131,
          3.8436114430636295,
          -2.7647748168301343,
          -0.4172511301939057,
          2.4477112351463486,
          2.1418605047080552,
          1.537206047979798,
          -0.9019186758367246,
          1.465966062544524,
          2.3820027351738244,
          -0.2711895947609646,
          -2.5529381764069266,
          1.1327289607125395,
          1.0631298348512979,
          0.5661600381603176,
          0.37164064273116004,
          -5.99484582220796,
          9.341603380978926,
          3.4904648538625556,
          2.7634845771439887,
          2.2780359983457403,
          -0.18971282726692174,
          1.8574896670307883,
          4.261761275337838,
          -0.5753870737888835,
          -1.3990901229727317,
          -3.1607899331288865,
          4.101575720430107,
          4.170824247870221,
          5.102386454248064,
          0.19685533270980127,
          7.818617070323898,
          -8.262720908695938,
          -1.1081227275824563,
          3.252525730114183,
          7.371516870161373,
          13.227894270757151,
          16.84964533308623,
          3.4995227795193307,
          -0.010024922731257213,
          9.80547586252849,
          9.062238634971864,
          6.953780346667566,
          9.089516300307608,
          16.984641038256967,
          27.09088041744258,
          6.0167404462096945,
          8.392781001317658,
          3.232831290310423,
          4.35241797233026,
          3.752089017466941,
          7.620553245114245,
          10.18859302283105,
          11.999729821838917,
          -12.781958260447489,
          -10.43126215888091,
          0.9821352137264112,
          11.68590891497528,
          21.314902044288907,
          1.2372796927899685,
          15.123597528144074,
          25.09741775355588,
          8.945470866021907,
          1.9919014301613736,
          1.779589987214044,
          9.886376135195725,
          -13.66475508405443,
          -18.497414017124242,
          15.551188436805335,
          -0.5710610181879989,
          3.8231071795714073,
          -4.178318919639373,
          -7.886153804906855,
          -15.571279124334863,
          -4.358307099878854,
          1.5474659772927835,
          11.516420688957453,
          4.121087636825447,
          8.791907700000003,
          10.575733719745324,
          4.35101090340136,
          -12.333503263596363,
          5.807281235955056,
          1.3811609472096533,
          -4.909498687009055,
          -1.3932802351623739,
          -2.294460338345865,
          -3.2855409673316758,
          -2.1422703149517233,
          2.0158454112554116,
          0.40260640135958115,
          0.2544054313980624,
          -1.351026702577915,
          1.0740612294413618,
          0.763651771973958,
          -1.766882371439792,
          0.016355040965777334,
          -3.407098237837187,
          4.848878825373592,
          -1.2399382539564154,
          7.244431893212971,
          7.468924794514827,
          -1.1876464368143647,
          -0.45928570479261577,
          4.9329236579352855,
          6.543408400515327,
          -5.117204067290553,
          6.922480203585637,
          10.93854936492891,
          3.71127536893931,
          0.6553689292107072,
          -1.3921092368509353,
          -5.365872809179771,
          6.1655629332412225,
          -3.702881632316789,
          -3.861921866323797,
          -3.947227938114141,
          -0.11736739312242062,
          -5.32723824055588,
          -1.697862989107648,
          -4.4061973603049465,
          -0.44574905246049035,
          0.4606336122733614,
          -2.9051139573593785,
          -5.504041757920347,
          6.171779154093294,
          6.465931743421052,
          -1.3255662763934097,
          4.2148595687962915,
          -3.430260643572627,
          9.641586118079918,
          -2.134265258807588,
          -4.6941508799861555,
          8.109077303377491,
          11.27068651504791,
          -12.041775793901156,
          -6.423332898734178,
          7.366589528500132,
          -10.658107744282745,
          15.707493658797897,
          8.478220856454177,
          -4.566543462159413,
          -17.83972283981177,
          1.6236372459250603,
          -2.446558987950372,
          -0.06109498927442658,
          -7.6727907226074885,
          -12.330836701748478,
          -2.5720967217896584,
          -11.114775598901097,
          -5.82182259812498,
          3.767612291664149,
          3.023909102072713,
          -3.903480220042612,
          0.9948520016144551,
          3.65111180507893,
          1.493537389356106,
          2.049687559083906,
          -9.253555347814405,
          -13.342998291978647,
          -5.268830898479074,
          -9.631744952574525,
          -13.462384126154795,
          2.2185013596483665,
          -0.4805946202547382,
          2.8728099098771347,
          -3.0634537568206355,
          3.5424092152414346,
          1.6493569218063895,
          -2.045550960935616,
          1.0061395830869788,
          2.3832371191922768,
          1.7128517508986736,
          2.7347276965356766,
          -4.81568231549189,
          6.207585051079791,
          -2.515443572309319,
          -12.53363749641397,
          -6.1903999448034135,
          -11.483904587465762,
          -5.573817624521073,
          0.19186341247625338,
          3.3399058401277877,
          5.6903545561365325,
          -5.41790354638349,
          -6.801595727149209,
          -2.2784174368004146,
          -4.748253593706727,
          -12.096064382706878,
          -8.481438724285333,
          -13.026145909801917,
          -7.471482546148948,
          -10.181583068422293,
          -2.4643258630361,
          9.32603890484796,
          10.294938590557702,
          6.801933052341019,
          7.5612629819651,
          1.780137871006795,
          -9.551714245053274,
          -6.6961921577380945,
          4.41945108001592,
          1.4722400031295868,
          2.152479647929787,
          -6.104146906601467,
          -1.8283178855154376,
          1.5604082743170151,
          10.06872240816164,
          12.805853040619112,
          2.3503599885683744,
          -3.516096342872378,
          -0.9946199157158855,
          3.044239508198585,
          6.251503647640072,
          -11.945062032244918,
          1.3472260869760095,
          2.5991910427734015,
          5.7124287387093,
          3.131729435040244,
          2.8055870245376164,
          -3.9642506335702583,
          7.797954241836887,
          10.045824098608717,
          -0.10673566904196452,
          2.678869343781669,
          -7.793798427261892,
          -6.058324581944516,
          1.693585152555982,
          15.148408285445864,
          7.369897634738714,
          0.32878712760351636,
          2.481868658698539,
          -6.915581532238941,
          -4.9718290455848795,
          -0.33694497475359375,
          9.48337363396086,
          3.4640679741548492,
          2.045509685545935,
          -4.0210049462584685,
          1.0954674780903353,
          1.0006310749273863,
          5.290658120836205,
          4.021464260207519,
          -2.383505089014935,
          -0.43552300451110093,
          -1.3945759699708797,
          4.810773672685622,
          0.09858839171098488,
          -0.5347292772659094,
          -1.843497664803168,
          -1.796796353400294,
          -1.4602819636042117,
          -6.749748971198115,
          -3.8288894752058797,
          -4.227575274420667,
          -0.33136147770671043,
          2.089109147312542,
          -2.1094783112343296,
          8.496942128205129,
          2.303777593984961,
          -2.3648575521327073,
          0.09027976197680243,
          -3.0093797594091076,
          4.30190587399457,
          4.991165261042047,
          4.597421188398763,
          4.949554331343636,
          -6.356436131731388,
          -0.76656168692196,
          -5.532834642154031,
          13.564023403602892,
          3.137637160010329,
          -5.410184184173899,
          -3.6933002241566424,
          11.157031078026904,
          17.494831613528653,
          4.957185710650672,
          8.775135957861405,
          19.2031010741688,
          5.303405818085588,
          7.334217074499701,
          -10.75435110315222,
          13.933498996983408,
          16.497756265318625
         ]
        }
       ],
       "layout": {
        "template": {
         "data": {
          "bar": [
           {
            "error_x": {
             "color": "#2a3f5f"
            },
            "error_y": {
             "color": "#2a3f5f"
            },
            "marker": {
             "line": {
              "color": "#E5ECF6",
              "width": 0.5
             },
             "pattern": {
              "fillmode": "overlay",
              "size": 10,
              "solidity": 0.2
             }
            },
            "type": "bar"
           }
          ],
          "barpolar": [
           {
            "marker": {
             "line": {
              "color": "#E5ECF6",
              "width": 0.5
             },
             "pattern": {
              "fillmode": "overlay",
              "size": 10,
              "solidity": 0.2
             }
            },
            "type": "barpolar"
           }
          ],
          "carpet": [
           {
            "aaxis": {
             "endlinecolor": "#2a3f5f",
             "gridcolor": "white",
             "linecolor": "white",
             "minorgridcolor": "white",
             "startlinecolor": "#2a3f5f"
            },
            "baxis": {
             "endlinecolor": "#2a3f5f",
             "gridcolor": "white",
             "linecolor": "white",
             "minorgridcolor": "white",
             "startlinecolor": "#2a3f5f"
            },
            "type": "carpet"
           }
          ],
          "choropleth": [
           {
            "colorbar": {
             "outlinewidth": 0,
             "ticks": ""
            },
            "type": "choropleth"
           }
          ],
          "contour": [
           {
            "colorbar": {
             "outlinewidth": 0,
             "ticks": ""
            },
            "colorscale": [
             [
              0,
              "#0d0887"
             ],
             [
              0.1111111111111111,
              "#46039f"
             ],
             [
              0.2222222222222222,
              "#7201a8"
             ],
             [
              0.3333333333333333,
              "#9c179e"
             ],
             [
              0.4444444444444444,
              "#bd3786"
             ],
             [
              0.5555555555555556,
              "#d8576b"
             ],
             [
              0.6666666666666666,
              "#ed7953"
             ],
             [
              0.7777777777777778,
              "#fb9f3a"
             ],
             [
              0.8888888888888888,
              "#fdca26"
             ],
             [
              1,
              "#f0f921"
             ]
            ],
            "type": "contour"
           }
          ],
          "contourcarpet": [
           {
            "colorbar": {
             "outlinewidth": 0,
             "ticks": ""
            },
            "type": "contourcarpet"
           }
          ],
          "heatmap": [
           {
            "colorbar": {
             "outlinewidth": 0,
             "ticks": ""
            },
            "colorscale": [
             [
              0,
              "#0d0887"
             ],
             [
              0.1111111111111111,
              "#46039f"
             ],
             [
              0.2222222222222222,
              "#7201a8"
             ],
             [
              0.3333333333333333,
              "#9c179e"
             ],
             [
              0.4444444444444444,
              "#bd3786"
             ],
             [
              0.5555555555555556,
              "#d8576b"
             ],
             [
              0.6666666666666666,
              "#ed7953"
             ],
             [
              0.7777777777777778,
              "#fb9f3a"
             ],
             [
              0.8888888888888888,
              "#fdca26"
             ],
             [
              1,
              "#f0f921"
             ]
            ],
            "type": "heatmap"
           }
          ],
          "heatmapgl": [
           {
            "colorbar": {
             "outlinewidth": 0,
             "ticks": ""
            },
            "colorscale": [
             [
              0,
              "#0d0887"
             ],
             [
              0.1111111111111111,
              "#46039f"
             ],
             [
              0.2222222222222222,
              "#7201a8"
             ],
             [
              0.3333333333333333,
              "#9c179e"
             ],
             [
              0.4444444444444444,
              "#bd3786"
             ],
             [
              0.5555555555555556,
              "#d8576b"
             ],
             [
              0.6666666666666666,
              "#ed7953"
             ],
             [
              0.7777777777777778,
              "#fb9f3a"
             ],
             [
              0.8888888888888888,
              "#fdca26"
             ],
             [
              1,
              "#f0f921"
             ]
            ],
            "type": "heatmapgl"
           }
          ],
          "histogram": [
           {
            "marker": {
             "pattern": {
              "fillmode": "overlay",
              "size": 10,
              "solidity": 0.2
             }
            },
            "type": "histogram"
           }
          ],
          "histogram2d": [
           {
            "colorbar": {
             "outlinewidth": 0,
             "ticks": ""
            },
            "colorscale": [
             [
              0,
              "#0d0887"
             ],
             [
              0.1111111111111111,
              "#46039f"
             ],
             [
              0.2222222222222222,
              "#7201a8"
             ],
             [
              0.3333333333333333,
              "#9c179e"
             ],
             [
              0.4444444444444444,
              "#bd3786"
             ],
             [
              0.5555555555555556,
              "#d8576b"
             ],
             [
              0.6666666666666666,
              "#ed7953"
             ],
             [
              0.7777777777777778,
              "#fb9f3a"
             ],
             [
              0.8888888888888888,
              "#fdca26"
             ],
             [
              1,
              "#f0f921"
             ]
            ],
            "type": "histogram2d"
           }
          ],
          "histogram2dcontour": [
           {
            "colorbar": {
             "outlinewidth": 0,
             "ticks": ""
            },
            "colorscale": [
             [
              0,
              "#0d0887"
             ],
             [
              0.1111111111111111,
              "#46039f"
             ],
             [
              0.2222222222222222,
              "#7201a8"
             ],
             [
              0.3333333333333333,
              "#9c179e"
             ],
             [
              0.4444444444444444,
              "#bd3786"
             ],
             [
              0.5555555555555556,
              "#d8576b"
             ],
             [
              0.6666666666666666,
              "#ed7953"
             ],
             [
              0.7777777777777778,
              "#fb9f3a"
             ],
             [
              0.8888888888888888,
              "#fdca26"
             ],
             [
              1,
              "#f0f921"
             ]
            ],
            "type": "histogram2dcontour"
           }
          ],
          "mesh3d": [
           {
            "colorbar": {
             "outlinewidth": 0,
             "ticks": ""
            },
            "type": "mesh3d"
           }
          ],
          "parcoords": [
           {
            "line": {
             "colorbar": {
              "outlinewidth": 0,
              "ticks": ""
             }
            },
            "type": "parcoords"
           }
          ],
          "pie": [
           {
            "automargin": true,
            "type": "pie"
           }
          ],
          "scatter": [
           {
            "marker": {
             "colorbar": {
              "outlinewidth": 0,
              "ticks": ""
             }
            },
            "type": "scatter"
           }
          ],
          "scatter3d": [
           {
            "line": {
             "colorbar": {
              "outlinewidth": 0,
              "ticks": ""
             }
            },
            "marker": {
             "colorbar": {
              "outlinewidth": 0,
              "ticks": ""
             }
            },
            "type": "scatter3d"
           }
          ],
          "scattercarpet": [
           {
            "marker": {
             "colorbar": {
              "outlinewidth": 0,
              "ticks": ""
             }
            },
            "type": "scattercarpet"
           }
          ],
          "scattergeo": [
           {
            "marker": {
             "colorbar": {
              "outlinewidth": 0,
              "ticks": ""
             }
            },
            "type": "scattergeo"
           }
          ],
          "scattergl": [
           {
            "marker": {
             "colorbar": {
              "outlinewidth": 0,
              "ticks": ""
             }
            },
            "type": "scattergl"
           }
          ],
          "scattermapbox": [
           {
            "marker": {
             "colorbar": {
              "outlinewidth": 0,
              "ticks": ""
             }
            },
            "type": "scattermapbox"
           }
          ],
          "scatterpolar": [
           {
            "marker": {
             "colorbar": {
              "outlinewidth": 0,
              "ticks": ""
             }
            },
            "type": "scatterpolar"
           }
          ],
          "scatterpolargl": [
           {
            "marker": {
             "colorbar": {
              "outlinewidth": 0,
              "ticks": ""
             }
            },
            "type": "scatterpolargl"
           }
          ],
          "scatterternary": [
           {
            "marker": {
             "colorbar": {
              "outlinewidth": 0,
              "ticks": ""
             }
            },
            "type": "scatterternary"
           }
          ],
          "surface": [
           {
            "colorbar": {
             "outlinewidth": 0,
             "ticks": ""
            },
            "colorscale": [
             [
              0,
              "#0d0887"
             ],
             [
              0.1111111111111111,
              "#46039f"
             ],
             [
              0.2222222222222222,
              "#7201a8"
             ],
             [
              0.3333333333333333,
              "#9c179e"
             ],
             [
              0.4444444444444444,
              "#bd3786"
             ],
             [
              0.5555555555555556,
              "#d8576b"
             ],
             [
              0.6666666666666666,
              "#ed7953"
             ],
             [
              0.7777777777777778,
              "#fb9f3a"
             ],
             [
              0.8888888888888888,
              "#fdca26"
             ],
             [
              1,
              "#f0f921"
             ]
            ],
            "type": "surface"
           }
          ],
          "table": [
           {
            "cells": {
             "fill": {
              "color": "#EBF0F8"
             },
             "line": {
              "color": "white"
             }
            },
            "header": {
             "fill": {
              "color": "#C8D4E3"
             },
             "line": {
              "color": "white"
             }
            },
            "type": "table"
           }
          ]
         },
         "layout": {
          "annotationdefaults": {
           "arrowcolor": "#2a3f5f",
           "arrowhead": 0,
           "arrowwidth": 1
          },
          "autotypenumbers": "strict",
          "coloraxis": {
           "colorbar": {
            "outlinewidth": 0,
            "ticks": ""
           }
          },
          "colorscale": {
           "diverging": [
            [
             0,
             "#8e0152"
            ],
            [
             0.1,
             "#c51b7d"
            ],
            [
             0.2,
             "#de77ae"
            ],
            [
             0.3,
             "#f1b6da"
            ],
            [
             0.4,
             "#fde0ef"
            ],
            [
             0.5,
             "#f7f7f7"
            ],
            [
             0.6,
             "#e6f5d0"
            ],
            [
             0.7,
             "#b8e186"
            ],
            [
             0.8,
             "#7fbc41"
            ],
            [
             0.9,
             "#4d9221"
            ],
            [
             1,
             "#276419"
            ]
           ],
           "sequential": [
            [
             0,
             "#0d0887"
            ],
            [
             0.1111111111111111,
             "#46039f"
            ],
            [
             0.2222222222222222,
             "#7201a8"
            ],
            [
             0.3333333333333333,
             "#9c179e"
            ],
            [
             0.4444444444444444,
             "#bd3786"
            ],
            [
             0.5555555555555556,
             "#d8576b"
            ],
            [
             0.6666666666666666,
             "#ed7953"
            ],
            [
             0.7777777777777778,
             "#fb9f3a"
            ],
            [
             0.8888888888888888,
             "#fdca26"
            ],
            [
             1,
             "#f0f921"
            ]
           ],
           "sequentialminus": [
            [
             0,
             "#0d0887"
            ],
            [
             0.1111111111111111,
             "#46039f"
            ],
            [
             0.2222222222222222,
             "#7201a8"
            ],
            [
             0.3333333333333333,
             "#9c179e"
            ],
            [
             0.4444444444444444,
             "#bd3786"
            ],
            [
             0.5555555555555556,
             "#d8576b"
            ],
            [
             0.6666666666666666,
             "#ed7953"
            ],
            [
             0.7777777777777778,
             "#fb9f3a"
            ],
            [
             0.8888888888888888,
             "#fdca26"
            ],
            [
             1,
             "#f0f921"
            ]
           ]
          },
          "colorway": [
           "#636efa",
           "#EF553B",
           "#00cc96",
           "#ab63fa",
           "#FFA15A",
           "#19d3f3",
           "#FF6692",
           "#B6E880",
           "#FF97FF",
           "#FECB52"
          ],
          "font": {
           "color": "#2a3f5f"
          },
          "geo": {
           "bgcolor": "white",
           "lakecolor": "white",
           "landcolor": "#E5ECF6",
           "showlakes": true,
           "showland": true,
           "subunitcolor": "white"
          },
          "hoverlabel": {
           "align": "left"
          },
          "hovermode": "closest",
          "mapbox": {
           "style": "light"
          },
          "paper_bgcolor": "white",
          "plot_bgcolor": "#E5ECF6",
          "polar": {
           "angularaxis": {
            "gridcolor": "white",
            "linecolor": "white",
            "ticks": ""
           },
           "bgcolor": "#E5ECF6",
           "radialaxis": {
            "gridcolor": "white",
            "linecolor": "white",
            "ticks": ""
           }
          },
          "scene": {
           "xaxis": {
            "backgroundcolor": "#E5ECF6",
            "gridcolor": "white",
            "gridwidth": 2,
            "linecolor": "white",
            "showbackground": true,
            "ticks": "",
            "zerolinecolor": "white"
           },
           "yaxis": {
            "backgroundcolor": "#E5ECF6",
            "gridcolor": "white",
            "gridwidth": 2,
            "linecolor": "white",
            "showbackground": true,
            "ticks": "",
            "zerolinecolor": "white"
           },
           "zaxis": {
            "backgroundcolor": "#E5ECF6",
            "gridcolor": "white",
            "gridwidth": 2,
            "linecolor": "white",
            "showbackground": true,
            "ticks": "",
            "zerolinecolor": "white"
           }
          },
          "shapedefaults": {
           "line": {
            "color": "#2a3f5f"
           }
          },
          "ternary": {
           "aaxis": {
            "gridcolor": "white",
            "linecolor": "white",
            "ticks": ""
           },
           "baxis": {
            "gridcolor": "white",
            "linecolor": "white",
            "ticks": ""
           },
           "bgcolor": "#E5ECF6",
           "caxis": {
            "gridcolor": "white",
            "linecolor": "white",
            "ticks": ""
           }
          },
          "title": {
           "x": 0.05
          },
          "xaxis": {
           "automargin": true,
           "gridcolor": "white",
           "linecolor": "white",
           "ticks": "",
           "title": {
            "standoff": 15
           },
           "zerolinecolor": "white",
           "zerolinewidth": 2
          },
          "yaxis": {
           "automargin": true,
           "gridcolor": "white",
           "linecolor": "white",
           "ticks": "",
           "title": {
            "standoff": 15
           },
           "zerolinecolor": "white",
           "zerolinewidth": 2
          }
         }
        },
        "title": {
         "text": "Portfolio Returns Over Time"
        },
        "xaxis": {
         "title": {
          "text": "Date"
         }
        },
        "yaxis": {
         "title": {
          "text": "Returns"
         }
        }
       }
      }
     },
     "metadata": {},
     "output_type": "display_data"
    }
   ],
   "source": [
    "# plot returns over time using plotly\n",
    "fig = go.Figure()\n",
    "\n",
    "fig.add_trace(go.Scatter(x=port_returns.index, y=port_returns.values, mode=\"lines\", name=\"Portfolio Returns\"))\n",
    "\n",
    "fig.update_layout(title=\"Portfolio Returns Over Time\", xaxis_title=\"Date\", yaxis_title=\"Returns\")\n",
    "\n",
    "fig.show()\n"
   ]
  },
  {
   "cell_type": "code",
   "execution_count": 206,
   "metadata": {},
   "outputs": [
    {
     "data": {
      "application/vnd.plotly.v1+json": {
       "config": {
        "plotlyServerURL": "https://plot.ly"
       },
       "data": [
        {
         "alignmentgroup": "True",
         "bingroup": "x",
         "hovertemplate": "x=%{x}<br>count=%{y}<extra></extra>",
         "legendgroup": "",
         "marker": {
          "color": "#636efa",
          "pattern": {
           "shape": ""
          }
         },
         "name": "",
         "nbinsx": 100,
         "offsetgroup": "",
         "orientation": "v",
         "showlegend": false,
         "type": "histogram",
         "x": [
          -4.151218518518518,
          0.0693333333333333,
          -0.3522925925925926,
          0.8659,
          -4.13075,
          1.81005,
          3.5206999999999997,
          6.16045,
          -4.9631,
          -0.6244500000000001,
          1.8869500000000001,
          -3.6519000000000004,
          -2.2048,
          0.98495,
          1.436135714285714,
          13.0293,
          -9.3283,
          4.4656666666666665,
          -9.169866666666667,
          3.7547999999999995,
          0.0045999999999999375,
          3.0179666666666662,
          -0.9953666666666674,
          10.285666666666666,
          9.4893,
          8.942333333333334,
          -6.550733333333333,
          -1.0278333333333332,
          0.061066666666666825,
          -5.983366666666667,
          14.084033333333332,
          14.8888,
          4.880833333333333,
          2.5787666666666667,
          4.2976,
          -3.1277333333333335,
          14.528266666666667,
          -8.983433333333334,
          -4.605925,
          -7.560725000000005,
          13.562324999999998,
          -2.92035,
          -1.9434500000000003,
          3.332325000000001,
          -8.533850000000001,
          -4.498625,
          -8.0273,
          -3.690266666666666,
          -2.9650533333333335,
          11.057473333333334,
          3.3694333333333333,
          0.5819828571428576,
          -5.070708571428572,
          -1.5478699999999996,
          -5.095229999999999,
          -3.186261428571428,
          12.455684285714286,
          4.074425714285714,
          10.786582857142857,
          -1.2789571428571431,
          15.948210000000001,
          3.3349542857142858,
          -4.703386666666667,
          -4.6394,
          4.211913333333333,
          1.1249733333333336,
          0.7578066666666669,
          1.930553333333334,
          0.8881533333333316,
          5.9056066666666664,
          -0.863786666666666,
          3.5131533333333334,
          -1.699086666666667,
          -4.728313333333333,
          8.672913333333332,
          -2.2980133333333335,
          -5.78928,
          -3.6644733333333344,
          -5.247300000000003,
          2.1610200000000006,
          3.8727800000000006,
          7.7954,
          0.101020000000001,
          -1.6144799999999986,
          1.1530999999999993,
          5.076606666666667,
          1.5356666666666658,
          2.316126666666669,
          0.35746666666666727,
          -0.8604066666666661,
          -0.8703133333333333,
          -2.0755533333333336,
          5.414560000000001,
          -4.600453333333334,
          2.8974066666666665,
          3.181633333333333,
          -2.4768933333333343,
          0.6916933333333337,
          1.351840000000001,
          3.5280666666666676,
          2.090346666666667,
          -3.3100199999999997,
          0.8890496062992126,
          1.856704281496063,
          -5.064835482283464,
          -4.898629827586207,
          -7.696621609195402,
          1.9943054022988507,
          0.28908396551724147,
          -2.4216623563218387,
          -0.20750879310344805,
          -6.660742931034482,
          -12.387500977011493,
          -1.8394560344827584,
          -8.277508908045977,
          1.3380522988505748,
          -10.204680057471265,
          6.406322011494252,
          -9.069873793103447,
          -3.5076755747126436,
          -9.299593045977012,
          -13.404102413793101,
          -10.329540517241378,
          13.755153218390802,
          -3.383427543859649,
          2.923511929824561,
          -2.5308299999999995,
          1.5809033333333335,
          -2.569929210526316,
          -9.69330350877193,
          -3.629331754385964,
          4.064179385964911,
          -3.1377560511448106,
          -3.3034809693725835,
          -5.053460808801665,
          34.65380745614035,
          -0.6996561403508768,
          14.035801140350877,
          -8.40024754385965,
          5.3489016666666656,
          -5.599120350877193,
          1.579626842105263,
          -3.3268411403508766,
          -4.220617543859648,
          5.756559298245614,
          -2.962618157894737,
          9.181334912280702,
          9.486046954022989,
          -2.672446494252874,
          5.765924885057471,
          -1.8453702298850576,
          -5.981789942528735,
          -0.575075344827586,
          -1.2000512565751023,
          1.8867525131502045,
          1.7186251315020458,
          1.4586750730566918,
          7.957245850379895,
          -0.2161318390804592,
          -7.107387356321839,
          0.9140491954022991,
          -2.6388699425287356,
          -2.169028448275862,
          0.5658612068965516,
          2.9092443678160924,
          5.337282298850575,
          0.4972605172413793,
          1.4016913500876678,
          4.170954178842782,
          6.3937052893045,
          -4.389167767387493,
          0.8804539450613675,
          3.105381969608416,
          3.2166022501461136,
          -1.8780822910578596,
          -6.300359000584454,
          1.337022764465225,
          -5.134987726475744,
          13.46166396843951,
          -6.774084541203974,
          -7.01905794856809,
          2.848323407364115,
          -3.6860952951490358,
          2.0546656049094096,
          -4.864813004091175,
          -0.46470862068965424,
          -1.4268614552893042,
          -2.1067970192869665,
          0.6913941262419634,
          2.7595565751022795,
          -4.060508649912332,
          -7.216604587960257,
          2.377272238457042,
          -3.8825047925189944,
          -10.700032933956752,
          -6.896628229105785,
          -4.15982618351841,
          3.9071988018702513,
          2.867072326125073,
          1.40479652250146,
          0.8005893629456455,
          3.0980470777323195,
          -5.273460900058446,
          -5.106575219170077,
          0.8306649620105202,
          -5.549376797194623,
          3.932013413208651,
          7.435186206896552,
          6.781273202805377,
          -1.2413862653419052,
          -0.9081551431911163,
          3.2693574225599065,
          8.06509754529515,
          0.9291497662185852,
          -3.928826300409119,
          4.927231472822912,
          4.725566803039158,
          -1.1052185251263755,
          -0.5863856080880163,
          5.944335355337496,
          -1.0737597877984082,
          6.625205437665782,
          4.592278272604587,
          1.0059818893387318,
          7.4248260728744935,
          0.7414082051282047,
          8.48375789473684,
          0.7798964372469634,
          8.062607881241563,
          12.674534251012144,
          -6.934079532967035,
          -9.339798736263738,
          3.1998500549450544,
          6.140459725274724,
          -2.7161055854095437,
          -4.630387787804212,
          -6.593830550504215,
          2.412511279052663,
          4.2821597394800515,
          -0.7231649215822099,
          -6.704332496470883,
          5.2874655206515415,
          -2.1398423333741317,
          -3.0328550468637347,
          -7.217968475126172,
          -2.0860238021778588,
          -0.05329159918196691,
          -4.53392312134503,
          2.2655400434782607,
          -1.3037386906197241,
          4.705415081234692,
          -4.077271349963316,
          -0.8505667609814482,
          -2.5630459089229816,
          -0.37603307820136855,
          13.251724883380772,
          2.5504766471805196,
          -7.858244426377597,
          -2.3991439814814814,
          0.7465599835358523,
          -1.1692158134763442,
          1.431986205089898,
          -2.936870418248548,
          -1.3846592072359671,
          -0.9054713876348299,
          -0.45733341923547055,
          6.8029060948897,
          -1.5516707216403347,
          4.853589130036632,
          -4.673611222808175,
          -0.8311503570743868,
          -1.763335983436853,
          -3.466009916338583,
          -0.3958594985177868,
          -1.4844637043478257,
          0.6866575500000005,
          0.6684960142456609,
          1.151285419976426,
          1.0685465829591738,
          1.302061749223915,
          -3.2163794608240392,
          -5.53740060986311,
          -3.2481505069600973,
          -4.669782327108599,
          2.704989131454023,
          -5.937543494133599,
          4.091600632034632,
          -0.44096884838917383,
          7.684369263204317,
          3.7984490237136463,
          0.6133801628924667,
          -1.485229874979483,
          0.9845496607650546,
          -3.0905593659635744,
          -1.8865400880751015,
          2.5555893474801055,
          3.6507469404683257,
          1.1772359201194476,
          1.7354758051489145,
          1.9182332656968637,
          3.188675388694487,
          1.654826948000213,
          -1.1756407209436834,
          -3.936828645712711,
          1.2735604794044444,
          -4.434553773142622,
          1.264036635198135,
          0.3130143025442149,
          1.0054770239208237,
          1.8878653828020164,
          1.6809656809728883,
          -3.2221870178351786,
          -1.7151301836290074,
          -1.7870126437713627,
          -3.7041027528196078,
          -3.336452826663108,
          -4.496328021778584,
          -4.488410836205938,
          -0.683212423205902,
          -3.3136346618064807,
          -4.1469133129767854,
          -2.246679708558243,
          -3.4897048554409213,
          -5.103897042154246,
          1.4132969425243953,
          3.787216954897212,
          4.03830371265061,
          -1.7142282818416783,
          1.8683674794250393,
          -0.401226980060712,
          1.2383407967032967,
          -0.5545274753843792,
          1.0909127498134827,
          2.2090918927695187,
          5.144863832838489,
          4.679265103528726,
          1.7976328983461398,
          -0.5301998887434557,
          10.099281623143625,
          4.034762661518464,
          -7.216823477052892,
          -1.4872854371238518,
          -2.930603054224738,
          -1.1909511145656944,
          0.06724384756208357,
          -0.9040496319449023,
          5.512985596706308,
          1.1573682946138468,
          -1.8168657803020527,
          7.785149856903981,
          0.31779895628546306,
          1.9742355725436544,
          -7.478143784395455,
          -2.543356181217157,
          -18.321834939210326,
          -8.736923416289592,
          -5.385777391351018,
          -5.27301950161856,
          4.9001945377980585,
          10.705671082949308,
          -3.4223756334007778,
          1.5134625513873745,
          -7.106190571117409,
          -4.2378407978444725,
          -4.487967684022776,
          -6.473670417873974,
          -2.3351827769991926,
          -0.9904743461265102,
          -1.8682867839889576,
          1.1615864959390383,
          4.725727437771516,
          -3.8261180204627965,
          1.6043127598401217,
          6.354160446610745,
          -3.9314002312948744,
          9.081382317073171,
          -0.658206440713758,
          5.209089528815803,
          0.924867111415506,
          4.026071964679912,
          3.847549449332469,
          4.863905295548304,
          0.9429474695073168,
          2.140178017916239,
          0.5861171527347144,
          0.46100863013698645,
          -3.507727873674166,
          -6.958133014903525,
          0.6864033083124825,
          -4.331708686077573,
          3.7008115908944967,
          0.8102277896608605,
          -5.410824770108782,
          -0.579982692871809,
          5.748349672462824,
          2.9023359933776405,
          4.88530503150677,
          7.517921303076087,
          0.2444178818766718,
          0.3027561911909018,
          0.47647056047446235,
          -3.1422838227383485,
          -2.661878462754131,
          3.8436114430636295,
          -2.7647748168301343,
          -0.4172511301939057,
          2.4477112351463486,
          2.1418605047080552,
          1.537206047979798,
          -0.9019186758367246,
          1.465966062544524,
          2.3820027351738244,
          -0.2711895947609646,
          -2.5529381764069266,
          1.1327289607125395,
          1.0631298348512979,
          0.5661600381603176,
          0.37164064273116004,
          -5.99484582220796,
          9.341603380978926,
          3.4904648538625556,
          2.7634845771439887,
          2.2780359983457403,
          -0.18971282726692174,
          1.8574896670307883,
          4.261761275337838,
          -0.5753870737888835,
          -1.3990901229727317,
          -3.1607899331288865,
          4.101575720430107,
          4.170824247870221,
          5.102386454248064,
          0.19685533270980127,
          7.818617070323898,
          -8.262720908695938,
          -1.1081227275824563,
          3.252525730114183,
          7.371516870161373,
          13.227894270757151,
          16.84964533308623,
          3.4995227795193307,
          -0.010024922731257213,
          9.80547586252849,
          9.062238634971864,
          6.953780346667566,
          9.089516300307608,
          16.984641038256967,
          27.09088041744258,
          6.0167404462096945,
          8.392781001317658,
          3.232831290310423,
          4.35241797233026,
          3.752089017466941,
          7.620553245114245,
          10.18859302283105,
          11.999729821838917,
          -12.781958260447489,
          -10.43126215888091,
          0.9821352137264112,
          11.68590891497528,
          21.314902044288907,
          1.2372796927899685,
          15.123597528144074,
          25.09741775355588,
          8.945470866021907,
          1.9919014301613736,
          1.779589987214044,
          9.886376135195725,
          -13.66475508405443,
          -18.497414017124242,
          15.551188436805335,
          -0.5710610181879989,
          3.8231071795714073,
          -4.178318919639373,
          -7.886153804906855,
          -15.571279124334863,
          -4.358307099878854,
          1.5474659772927835,
          11.516420688957453,
          4.121087636825447,
          8.791907700000003,
          10.575733719745324,
          4.35101090340136,
          -12.333503263596363,
          5.807281235955056,
          1.3811609472096533,
          -4.909498687009055,
          -1.3932802351623739,
          -2.294460338345865,
          -3.2855409673316758,
          -2.1422703149517233,
          2.0158454112554116,
          0.40260640135958115,
          0.2544054313980624,
          -1.351026702577915,
          1.0740612294413618,
          0.763651771973958,
          -1.766882371439792,
          0.016355040965777334,
          -3.407098237837187,
          4.848878825373592,
          -1.2399382539564154,
          7.244431893212971,
          7.468924794514827,
          -1.1876464368143647,
          -0.45928570479261577,
          4.9329236579352855,
          6.543408400515327,
          -5.117204067290553,
          6.922480203585637,
          10.93854936492891,
          3.71127536893931,
          0.6553689292107072,
          -1.3921092368509353,
          -5.365872809179771,
          6.1655629332412225,
          -3.702881632316789,
          -3.861921866323797,
          -3.947227938114141,
          -0.11736739312242062,
          -5.32723824055588,
          -1.697862989107648,
          -4.4061973603049465,
          -0.44574905246049035,
          0.4606336122733614,
          -2.9051139573593785,
          -5.504041757920347,
          6.171779154093294,
          6.465931743421052,
          -1.3255662763934097,
          4.2148595687962915,
          -3.430260643572627,
          9.641586118079918,
          -2.134265258807588,
          -4.6941508799861555,
          8.109077303377491,
          11.27068651504791,
          -12.041775793901156,
          -6.423332898734178,
          7.366589528500132,
          -10.658107744282745,
          15.707493658797897,
          8.478220856454177,
          -4.566543462159413,
          -17.83972283981177,
          1.6236372459250603,
          -2.446558987950372,
          -0.06109498927442658,
          -7.6727907226074885,
          -12.330836701748478,
          -2.5720967217896584,
          -11.114775598901097,
          -5.82182259812498,
          3.767612291664149,
          3.023909102072713,
          -3.903480220042612,
          0.9948520016144551,
          3.65111180507893,
          1.493537389356106,
          2.049687559083906,
          -9.253555347814405,
          -13.342998291978647,
          -5.268830898479074,
          -9.631744952574525,
          -13.462384126154795,
          2.2185013596483665,
          -0.4805946202547382,
          2.8728099098771347,
          -3.0634537568206355,
          3.5424092152414346,
          1.6493569218063895,
          -2.045550960935616,
          1.0061395830869788,
          2.3832371191922768,
          1.7128517508986736,
          2.7347276965356766,
          -4.81568231549189,
          6.207585051079791,
          -2.515443572309319,
          -12.53363749641397,
          -6.1903999448034135,
          -11.483904587465762,
          -5.573817624521073,
          0.19186341247625338,
          3.3399058401277877,
          5.6903545561365325,
          -5.41790354638349,
          -6.801595727149209,
          -2.2784174368004146,
          -4.748253593706727,
          -12.096064382706878,
          -8.481438724285333,
          -13.026145909801917,
          -7.471482546148948,
          -10.181583068422293,
          -2.4643258630361,
          9.32603890484796,
          10.294938590557702,
          6.801933052341019,
          7.5612629819651,
          1.780137871006795,
          -9.551714245053274,
          -6.6961921577380945,
          4.41945108001592,
          1.4722400031295868,
          2.152479647929787,
          -6.104146906601467,
          -1.8283178855154376,
          1.5604082743170151,
          10.06872240816164,
          12.805853040619112,
          2.3503599885683744,
          -3.516096342872378,
          -0.9946199157158855,
          3.044239508198585,
          6.251503647640072,
          -11.945062032244918,
          1.3472260869760095,
          2.5991910427734015,
          5.7124287387093,
          3.131729435040244,
          2.8055870245376164,
          -3.9642506335702583,
          7.797954241836887,
          10.045824098608717,
          -0.10673566904196452,
          2.678869343781669,
          -7.793798427261892,
          -6.058324581944516,
          1.693585152555982,
          15.148408285445864,
          7.369897634738714,
          0.32878712760351636,
          2.481868658698539,
          -6.915581532238941,
          -4.9718290455848795,
          -0.33694497475359375,
          9.48337363396086,
          3.4640679741548492,
          2.045509685545935,
          -4.0210049462584685,
          1.0954674780903353,
          1.0006310749273863,
          5.290658120836205,
          4.021464260207519,
          -2.383505089014935,
          -0.43552300451110093,
          -1.3945759699708797,
          4.810773672685622,
          0.09858839171098488,
          -0.5347292772659094,
          -1.843497664803168,
          -1.796796353400294,
          -1.4602819636042117,
          -6.749748971198115,
          -3.8288894752058797,
          -4.227575274420667,
          -0.33136147770671043,
          2.089109147312542,
          -2.1094783112343296,
          8.496942128205129,
          2.303777593984961,
          -2.3648575521327073,
          0.09027976197680243,
          -3.0093797594091076,
          4.30190587399457,
          4.991165261042047,
          4.597421188398763,
          4.949554331343636,
          -6.356436131731388,
          -0.76656168692196,
          -5.532834642154031,
          13.564023403602892,
          3.137637160010329,
          -5.410184184173899,
          -3.6933002241566424,
          11.157031078026904,
          17.494831613528653,
          4.957185710650672,
          8.775135957861405,
          19.2031010741688,
          5.303405818085588,
          7.334217074499701,
          -10.75435110315222,
          13.933498996983408,
          16.497756265318625
         ],
         "xaxis": "x",
         "yaxis": "y"
        }
       ],
       "layout": {
        "barmode": "relative",
        "legend": {
         "tracegroupgap": 0
        },
        "template": {
         "data": {
          "bar": [
           {
            "error_x": {
             "color": "#2a3f5f"
            },
            "error_y": {
             "color": "#2a3f5f"
            },
            "marker": {
             "line": {
              "color": "#E5ECF6",
              "width": 0.5
             },
             "pattern": {
              "fillmode": "overlay",
              "size": 10,
              "solidity": 0.2
             }
            },
            "type": "bar"
           }
          ],
          "barpolar": [
           {
            "marker": {
             "line": {
              "color": "#E5ECF6",
              "width": 0.5
             },
             "pattern": {
              "fillmode": "overlay",
              "size": 10,
              "solidity": 0.2
             }
            },
            "type": "barpolar"
           }
          ],
          "carpet": [
           {
            "aaxis": {
             "endlinecolor": "#2a3f5f",
             "gridcolor": "white",
             "linecolor": "white",
             "minorgridcolor": "white",
             "startlinecolor": "#2a3f5f"
            },
            "baxis": {
             "endlinecolor": "#2a3f5f",
             "gridcolor": "white",
             "linecolor": "white",
             "minorgridcolor": "white",
             "startlinecolor": "#2a3f5f"
            },
            "type": "carpet"
           }
          ],
          "choropleth": [
           {
            "colorbar": {
             "outlinewidth": 0,
             "ticks": ""
            },
            "type": "choropleth"
           }
          ],
          "contour": [
           {
            "colorbar": {
             "outlinewidth": 0,
             "ticks": ""
            },
            "colorscale": [
             [
              0,
              "#0d0887"
             ],
             [
              0.1111111111111111,
              "#46039f"
             ],
             [
              0.2222222222222222,
              "#7201a8"
             ],
             [
              0.3333333333333333,
              "#9c179e"
             ],
             [
              0.4444444444444444,
              "#bd3786"
             ],
             [
              0.5555555555555556,
              "#d8576b"
             ],
             [
              0.6666666666666666,
              "#ed7953"
             ],
             [
              0.7777777777777778,
              "#fb9f3a"
             ],
             [
              0.8888888888888888,
              "#fdca26"
             ],
             [
              1,
              "#f0f921"
             ]
            ],
            "type": "contour"
           }
          ],
          "contourcarpet": [
           {
            "colorbar": {
             "outlinewidth": 0,
             "ticks": ""
            },
            "type": "contourcarpet"
           }
          ],
          "heatmap": [
           {
            "colorbar": {
             "outlinewidth": 0,
             "ticks": ""
            },
            "colorscale": [
             [
              0,
              "#0d0887"
             ],
             [
              0.1111111111111111,
              "#46039f"
             ],
             [
              0.2222222222222222,
              "#7201a8"
             ],
             [
              0.3333333333333333,
              "#9c179e"
             ],
             [
              0.4444444444444444,
              "#bd3786"
             ],
             [
              0.5555555555555556,
              "#d8576b"
             ],
             [
              0.6666666666666666,
              "#ed7953"
             ],
             [
              0.7777777777777778,
              "#fb9f3a"
             ],
             [
              0.8888888888888888,
              "#fdca26"
             ],
             [
              1,
              "#f0f921"
             ]
            ],
            "type": "heatmap"
           }
          ],
          "heatmapgl": [
           {
            "colorbar": {
             "outlinewidth": 0,
             "ticks": ""
            },
            "colorscale": [
             [
              0,
              "#0d0887"
             ],
             [
              0.1111111111111111,
              "#46039f"
             ],
             [
              0.2222222222222222,
              "#7201a8"
             ],
             [
              0.3333333333333333,
              "#9c179e"
             ],
             [
              0.4444444444444444,
              "#bd3786"
             ],
             [
              0.5555555555555556,
              "#d8576b"
             ],
             [
              0.6666666666666666,
              "#ed7953"
             ],
             [
              0.7777777777777778,
              "#fb9f3a"
             ],
             [
              0.8888888888888888,
              "#fdca26"
             ],
             [
              1,
              "#f0f921"
             ]
            ],
            "type": "heatmapgl"
           }
          ],
          "histogram": [
           {
            "marker": {
             "pattern": {
              "fillmode": "overlay",
              "size": 10,
              "solidity": 0.2
             }
            },
            "type": "histogram"
           }
          ],
          "histogram2d": [
           {
            "colorbar": {
             "outlinewidth": 0,
             "ticks": ""
            },
            "colorscale": [
             [
              0,
              "#0d0887"
             ],
             [
              0.1111111111111111,
              "#46039f"
             ],
             [
              0.2222222222222222,
              "#7201a8"
             ],
             [
              0.3333333333333333,
              "#9c179e"
             ],
             [
              0.4444444444444444,
              "#bd3786"
             ],
             [
              0.5555555555555556,
              "#d8576b"
             ],
             [
              0.6666666666666666,
              "#ed7953"
             ],
             [
              0.7777777777777778,
              "#fb9f3a"
             ],
             [
              0.8888888888888888,
              "#fdca26"
             ],
             [
              1,
              "#f0f921"
             ]
            ],
            "type": "histogram2d"
           }
          ],
          "histogram2dcontour": [
           {
            "colorbar": {
             "outlinewidth": 0,
             "ticks": ""
            },
            "colorscale": [
             [
              0,
              "#0d0887"
             ],
             [
              0.1111111111111111,
              "#46039f"
             ],
             [
              0.2222222222222222,
              "#7201a8"
             ],
             [
              0.3333333333333333,
              "#9c179e"
             ],
             [
              0.4444444444444444,
              "#bd3786"
             ],
             [
              0.5555555555555556,
              "#d8576b"
             ],
             [
              0.6666666666666666,
              "#ed7953"
             ],
             [
              0.7777777777777778,
              "#fb9f3a"
             ],
             [
              0.8888888888888888,
              "#fdca26"
             ],
             [
              1,
              "#f0f921"
             ]
            ],
            "type": "histogram2dcontour"
           }
          ],
          "mesh3d": [
           {
            "colorbar": {
             "outlinewidth": 0,
             "ticks": ""
            },
            "type": "mesh3d"
           }
          ],
          "parcoords": [
           {
            "line": {
             "colorbar": {
              "outlinewidth": 0,
              "ticks": ""
             }
            },
            "type": "parcoords"
           }
          ],
          "pie": [
           {
            "automargin": true,
            "type": "pie"
           }
          ],
          "scatter": [
           {
            "marker": {
             "colorbar": {
              "outlinewidth": 0,
              "ticks": ""
             }
            },
            "type": "scatter"
           }
          ],
          "scatter3d": [
           {
            "line": {
             "colorbar": {
              "outlinewidth": 0,
              "ticks": ""
             }
            },
            "marker": {
             "colorbar": {
              "outlinewidth": 0,
              "ticks": ""
             }
            },
            "type": "scatter3d"
           }
          ],
          "scattercarpet": [
           {
            "marker": {
             "colorbar": {
              "outlinewidth": 0,
              "ticks": ""
             }
            },
            "type": "scattercarpet"
           }
          ],
          "scattergeo": [
           {
            "marker": {
             "colorbar": {
              "outlinewidth": 0,
              "ticks": ""
             }
            },
            "type": "scattergeo"
           }
          ],
          "scattergl": [
           {
            "marker": {
             "colorbar": {
              "outlinewidth": 0,
              "ticks": ""
             }
            },
            "type": "scattergl"
           }
          ],
          "scattermapbox": [
           {
            "marker": {
             "colorbar": {
              "outlinewidth": 0,
              "ticks": ""
             }
            },
            "type": "scattermapbox"
           }
          ],
          "scatterpolar": [
           {
            "marker": {
             "colorbar": {
              "outlinewidth": 0,
              "ticks": ""
             }
            },
            "type": "scatterpolar"
           }
          ],
          "scatterpolargl": [
           {
            "marker": {
             "colorbar": {
              "outlinewidth": 0,
              "ticks": ""
             }
            },
            "type": "scatterpolargl"
           }
          ],
          "scatterternary": [
           {
            "marker": {
             "colorbar": {
              "outlinewidth": 0,
              "ticks": ""
             }
            },
            "type": "scatterternary"
           }
          ],
          "surface": [
           {
            "colorbar": {
             "outlinewidth": 0,
             "ticks": ""
            },
            "colorscale": [
             [
              0,
              "#0d0887"
             ],
             [
              0.1111111111111111,
              "#46039f"
             ],
             [
              0.2222222222222222,
              "#7201a8"
             ],
             [
              0.3333333333333333,
              "#9c179e"
             ],
             [
              0.4444444444444444,
              "#bd3786"
             ],
             [
              0.5555555555555556,
              "#d8576b"
             ],
             [
              0.6666666666666666,
              "#ed7953"
             ],
             [
              0.7777777777777778,
              "#fb9f3a"
             ],
             [
              0.8888888888888888,
              "#fdca26"
             ],
             [
              1,
              "#f0f921"
             ]
            ],
            "type": "surface"
           }
          ],
          "table": [
           {
            "cells": {
             "fill": {
              "color": "#EBF0F8"
             },
             "line": {
              "color": "white"
             }
            },
            "header": {
             "fill": {
              "color": "#C8D4E3"
             },
             "line": {
              "color": "white"
             }
            },
            "type": "table"
           }
          ]
         },
         "layout": {
          "annotationdefaults": {
           "arrowcolor": "#2a3f5f",
           "arrowhead": 0,
           "arrowwidth": 1
          },
          "autotypenumbers": "strict",
          "coloraxis": {
           "colorbar": {
            "outlinewidth": 0,
            "ticks": ""
           }
          },
          "colorscale": {
           "diverging": [
            [
             0,
             "#8e0152"
            ],
            [
             0.1,
             "#c51b7d"
            ],
            [
             0.2,
             "#de77ae"
            ],
            [
             0.3,
             "#f1b6da"
            ],
            [
             0.4,
             "#fde0ef"
            ],
            [
             0.5,
             "#f7f7f7"
            ],
            [
             0.6,
             "#e6f5d0"
            ],
            [
             0.7,
             "#b8e186"
            ],
            [
             0.8,
             "#7fbc41"
            ],
            [
             0.9,
             "#4d9221"
            ],
            [
             1,
             "#276419"
            ]
           ],
           "sequential": [
            [
             0,
             "#0d0887"
            ],
            [
             0.1111111111111111,
             "#46039f"
            ],
            [
             0.2222222222222222,
             "#7201a8"
            ],
            [
             0.3333333333333333,
             "#9c179e"
            ],
            [
             0.4444444444444444,
             "#bd3786"
            ],
            [
             0.5555555555555556,
             "#d8576b"
            ],
            [
             0.6666666666666666,
             "#ed7953"
            ],
            [
             0.7777777777777778,
             "#fb9f3a"
            ],
            [
             0.8888888888888888,
             "#fdca26"
            ],
            [
             1,
             "#f0f921"
            ]
           ],
           "sequentialminus": [
            [
             0,
             "#0d0887"
            ],
            [
             0.1111111111111111,
             "#46039f"
            ],
            [
             0.2222222222222222,
             "#7201a8"
            ],
            [
             0.3333333333333333,
             "#9c179e"
            ],
            [
             0.4444444444444444,
             "#bd3786"
            ],
            [
             0.5555555555555556,
             "#d8576b"
            ],
            [
             0.6666666666666666,
             "#ed7953"
            ],
            [
             0.7777777777777778,
             "#fb9f3a"
            ],
            [
             0.8888888888888888,
             "#fdca26"
            ],
            [
             1,
             "#f0f921"
            ]
           ]
          },
          "colorway": [
           "#636efa",
           "#EF553B",
           "#00cc96",
           "#ab63fa",
           "#FFA15A",
           "#19d3f3",
           "#FF6692",
           "#B6E880",
           "#FF97FF",
           "#FECB52"
          ],
          "font": {
           "color": "#2a3f5f"
          },
          "geo": {
           "bgcolor": "white",
           "lakecolor": "white",
           "landcolor": "#E5ECF6",
           "showlakes": true,
           "showland": true,
           "subunitcolor": "white"
          },
          "hoverlabel": {
           "align": "left"
          },
          "hovermode": "closest",
          "mapbox": {
           "style": "light"
          },
          "paper_bgcolor": "white",
          "plot_bgcolor": "#E5ECF6",
          "polar": {
           "angularaxis": {
            "gridcolor": "white",
            "linecolor": "white",
            "ticks": ""
           },
           "bgcolor": "#E5ECF6",
           "radialaxis": {
            "gridcolor": "white",
            "linecolor": "white",
            "ticks": ""
           }
          },
          "scene": {
           "xaxis": {
            "backgroundcolor": "#E5ECF6",
            "gridcolor": "white",
            "gridwidth": 2,
            "linecolor": "white",
            "showbackground": true,
            "ticks": "",
            "zerolinecolor": "white"
           },
           "yaxis": {
            "backgroundcolor": "#E5ECF6",
            "gridcolor": "white",
            "gridwidth": 2,
            "linecolor": "white",
            "showbackground": true,
            "ticks": "",
            "zerolinecolor": "white"
           },
           "zaxis": {
            "backgroundcolor": "#E5ECF6",
            "gridcolor": "white",
            "gridwidth": 2,
            "linecolor": "white",
            "showbackground": true,
            "ticks": "",
            "zerolinecolor": "white"
           }
          },
          "shapedefaults": {
           "line": {
            "color": "#2a3f5f"
           }
          },
          "ternary": {
           "aaxis": {
            "gridcolor": "white",
            "linecolor": "white",
            "ticks": ""
           },
           "baxis": {
            "gridcolor": "white",
            "linecolor": "white",
            "ticks": ""
           },
           "bgcolor": "#E5ECF6",
           "caxis": {
            "gridcolor": "white",
            "linecolor": "white",
            "ticks": ""
           }
          },
          "title": {
           "x": 0.05
          },
          "xaxis": {
           "automargin": true,
           "gridcolor": "white",
           "linecolor": "white",
           "ticks": "",
           "title": {
            "standoff": 15
           },
           "zerolinecolor": "white",
           "zerolinewidth": 2
          },
          "yaxis": {
           "automargin": true,
           "gridcolor": "white",
           "linecolor": "white",
           "ticks": "",
           "title": {
            "standoff": 15
           },
           "zerolinecolor": "white",
           "zerolinewidth": 2
          }
         }
        },
        "title": {
         "text": "Portfolio Returns"
        },
        "xaxis": {
         "anchor": "y",
         "domain": [
          0,
          1
         ],
         "title": {
          "text": "x"
         }
        },
        "yaxis": {
         "anchor": "x",
         "domain": [
          0,
          1
         ],
         "title": {
          "text": "count"
         }
        }
       }
      }
     },
     "metadata": {},
     "output_type": "display_data"
    }
   ],
   "source": [
    "# create hist of returns using plotly\n",
    "fig = px.histogram(port_returns, x=port_returns.values, nbins=100, title=\"Portfolio Returns\")\n",
    "fig.show()"
   ]
  },
  {
   "cell_type": "code",
   "execution_count": 207,
   "metadata": {},
   "outputs": [
    {
     "data": {
      "text/plain": [
       "0.519551751696955"
      ]
     },
     "execution_count": 207,
     "metadata": {},
     "output_type": "execute_result"
    }
   ],
   "source": [
    "# mean of returns\n",
    "port_returns.mean()"
   ]
  },
  {
   "cell_type": "code",
   "execution_count": 208,
   "metadata": {},
   "outputs": [],
   "source": [
    "# get size of long from each row\n",
    "long_size = []\n",
    "short_size = []\n",
    "for i in range(len(portfolio)): \n",
    "    long_size.append(len(portfolio[\"long\"][i]))\n",
    "    short_size.append(len(portfolio[\"short\"][i]))"
   ]
  },
  {
   "cell_type": "code",
   "execution_count": 209,
   "metadata": {},
   "outputs": [],
   "source": [
    "#import go\n",
    "import plotly.graph_objects as go"
   ]
  },
  {
   "cell_type": "code",
   "execution_count": 210,
   "metadata": {},
   "outputs": [
    {
     "data": {
      "application/vnd.plotly.v1+json": {
       "config": {
        "plotlyServerURL": "https://plot.ly"
       },
       "data": [
        {
         "name": "long",
         "type": "scatter",
         "x": [
          "1963-02-01T00:00:00",
          "1963-04-01T00:00:00",
          "1963-07-01T00:00:00",
          "1963-08-01T00:00:00",
          "1964-06-01T00:00:00",
          "1964-07-01T00:00:00",
          "1966-06-01T00:00:00",
          "1966-12-01T00:00:00",
          "1967-09-01T00:00:00",
          "1972-04-01T00:00:00",
          "1972-07-01T00:00:00",
          "1983-04-01T00:00:00",
          "1983-09-01T00:00:00",
          "1986-01-01T00:00:00",
          "1987-02-01T00:00:00",
          "1991-08-01T00:00:00",
          "1991-09-01T00:00:00",
          "1991-10-01T00:00:00",
          "1992-01-01T00:00:00",
          "1992-07-01T00:00:00",
          "1992-08-01T00:00:00",
          "1992-10-01T00:00:00",
          "1992-11-01T00:00:00",
          "1993-04-01T00:00:00",
          "1995-02-01T00:00:00",
          "1995-05-01T00:00:00",
          "1996-07-01T00:00:00",
          "1997-01-01T00:00:00",
          "1999-12-01T00:00:00",
          "2001-01-01T00:00:00",
          "2001-02-01T00:00:00",
          "2001-05-01T00:00:00",
          "2002-12-01T00:00:00",
          "2003-02-01T00:00:00",
          "2004-04-01T00:00:00",
          "2004-05-01T00:00:00",
          "2004-08-01T00:00:00",
          "2004-11-01T00:00:00",
          "2004-12-01T00:00:00",
          "2005-03-01T00:00:00",
          "2005-05-01T00:00:00",
          "2006-07-01T00:00:00",
          "2007-08-01T00:00:00",
          "2008-09-01T00:00:00",
          "2008-10-01T00:00:00",
          "2008-12-01T00:00:00",
          "2009-01-01T00:00:00",
          "2009-09-01T00:00:00",
          "2011-02-01T00:00:00",
          "2011-12-01T00:00:00",
          "2013-08-01T00:00:00",
          "2013-09-01T00:00:00",
          "2014-10-01T00:00:00",
          "2014-11-01T00:00:00",
          "2015-03-01T00:00:00",
          "2015-11-01T00:00:00",
          "2015-12-01T00:00:00",
          "2016-02-01T00:00:00",
          "2016-05-01T00:00:00",
          "2016-06-01T00:00:00",
          "2020-02-01T00:00:00",
          "2020-05-01T00:00:00",
          "2021-02-01T00:00:00"
         ],
         "y": [
          0,
          0,
          0,
          0,
          0,
          1,
          0,
          4,
          5,
          32,
          58,
          207,
          383,
          263,
          622,
          310,
          409,
          388,
          454,
          593,
          1259,
          516,
          430,
          445,
          927,
          439,
          445,
          1023,
          962,
          1624,
          1880,
          672,
          1077,
          903,
          726,
          848,
          630,
          328,
          766,
          440,
          1360,
          534,
          1854,
          335,
          0,
          39,
          749,
          341,
          1012,
          1249,
          2235,
          465,
          621,
          388,
          443,
          314,
          190,
          414,
          1600,
          1533,
          1542,
          213,
          468
         ]
        },
        {
         "name": "short",
         "type": "scatter",
         "x": [
          "1963-02-01T00:00:00",
          "1963-04-01T00:00:00",
          "1963-07-01T00:00:00",
          "1963-08-01T00:00:00",
          "1964-06-01T00:00:00",
          "1964-07-01T00:00:00",
          "1966-06-01T00:00:00",
          "1966-12-01T00:00:00",
          "1967-09-01T00:00:00",
          "1972-04-01T00:00:00",
          "1972-07-01T00:00:00",
          "1983-04-01T00:00:00",
          "1983-09-01T00:00:00",
          "1986-01-01T00:00:00",
          "1987-02-01T00:00:00",
          "1991-08-01T00:00:00",
          "1991-09-01T00:00:00",
          "1991-10-01T00:00:00",
          "1992-01-01T00:00:00",
          "1992-07-01T00:00:00",
          "1992-08-01T00:00:00",
          "1992-10-01T00:00:00",
          "1992-11-01T00:00:00",
          "1993-04-01T00:00:00",
          "1995-02-01T00:00:00",
          "1995-05-01T00:00:00",
          "1996-07-01T00:00:00",
          "1997-01-01T00:00:00",
          "1999-12-01T00:00:00",
          "2001-01-01T00:00:00",
          "2001-02-01T00:00:00",
          "2001-05-01T00:00:00",
          "2002-12-01T00:00:00",
          "2003-02-01T00:00:00",
          "2004-04-01T00:00:00",
          "2004-05-01T00:00:00",
          "2004-08-01T00:00:00",
          "2004-11-01T00:00:00",
          "2004-12-01T00:00:00",
          "2005-03-01T00:00:00",
          "2005-05-01T00:00:00",
          "2006-07-01T00:00:00",
          "2007-08-01T00:00:00",
          "2008-09-01T00:00:00",
          "2008-10-01T00:00:00",
          "2008-12-01T00:00:00",
          "2009-01-01T00:00:00",
          "2009-09-01T00:00:00",
          "2011-02-01T00:00:00",
          "2011-12-01T00:00:00",
          "2013-08-01T00:00:00",
          "2013-09-01T00:00:00",
          "2014-10-01T00:00:00",
          "2014-11-01T00:00:00",
          "2015-03-01T00:00:00",
          "2015-11-01T00:00:00",
          "2015-12-01T00:00:00",
          "2016-02-01T00:00:00",
          "2016-05-01T00:00:00",
          "2016-06-01T00:00:00",
          "2020-02-01T00:00:00",
          "2020-05-01T00:00:00",
          "2021-02-01T00:00:00"
         ],
         "y": [
          0,
          27,
          2,
          2,
          28,
          3,
          0,
          4,
          15,
          127,
          60,
          270,
          590,
          172,
          821,
          453,
          381,
          328,
          175,
          572,
          446,
          305,
          292,
          344,
          864,
          761,
          492,
          378,
          900,
          566,
          1177,
          2055,
          580,
          1082,
          429,
          400,
          569,
          1419,
          345,
          791,
          1121,
          746,
          344,
          956,
          0,
          148,
          539,
          1076,
          811,
          815,
          867,
          1819,
          1648,
          705,
          1070,
          712,
          1278,
          930,
          1032,
          365,
          906,
          400,
          1126
         ]
        },
        {
         "name": "CPI",
         "type": "scatter",
         "x": [
          "1962-02-28T00:00:00",
          "1962-03-31T00:00:00",
          "1962-04-30T00:00:00",
          "1962-05-31T00:00:00",
          "1962-06-30T00:00:00",
          "1962-07-31T00:00:00",
          "1962-08-31T00:00:00",
          "1962-09-30T00:00:00",
          "1962-10-31T00:00:00",
          "1962-11-30T00:00:00",
          "1962-12-31T00:00:00",
          "1963-01-31T00:00:00",
          "1963-02-28T00:00:00",
          "1963-03-31T00:00:00",
          "1963-04-30T00:00:00",
          "1963-05-31T00:00:00",
          "1963-06-30T00:00:00",
          "1963-07-31T00:00:00",
          "1963-08-31T00:00:00",
          "1963-09-30T00:00:00",
          "1963-10-31T00:00:00",
          "1963-11-30T00:00:00",
          "1963-12-31T00:00:00",
          "1964-01-31T00:00:00",
          "1964-02-29T00:00:00",
          "1964-03-31T00:00:00",
          "1964-04-30T00:00:00",
          "1964-05-31T00:00:00",
          "1964-06-30T00:00:00",
          "1964-07-31T00:00:00",
          "1964-08-31T00:00:00",
          "1964-09-30T00:00:00",
          "1964-10-31T00:00:00",
          "1964-11-30T00:00:00",
          "1964-12-31T00:00:00",
          "1965-01-31T00:00:00",
          "1965-02-28T00:00:00",
          "1965-03-31T00:00:00",
          "1965-04-30T00:00:00",
          "1965-05-31T00:00:00",
          "1965-06-30T00:00:00",
          "1965-07-31T00:00:00",
          "1965-08-31T00:00:00",
          "1965-09-30T00:00:00",
          "1965-10-31T00:00:00",
          "1965-11-30T00:00:00",
          "1965-12-31T00:00:00",
          "1966-01-31T00:00:00",
          "1966-02-28T00:00:00",
          "1966-03-31T00:00:00",
          "1966-04-30T00:00:00",
          "1966-05-31T00:00:00",
          "1966-06-30T00:00:00",
          "1966-07-31T00:00:00",
          "1966-08-31T00:00:00",
          "1966-09-30T00:00:00",
          "1966-10-31T00:00:00",
          "1966-11-30T00:00:00",
          "1966-12-31T00:00:00",
          "1967-01-31T00:00:00",
          "1967-02-28T00:00:00",
          "1967-03-31T00:00:00",
          "1967-04-30T00:00:00",
          "1967-05-31T00:00:00",
          "1967-06-30T00:00:00",
          "1967-07-31T00:00:00",
          "1967-08-31T00:00:00",
          "1967-09-30T00:00:00",
          "1967-10-31T00:00:00",
          "1967-11-30T00:00:00",
          "1967-12-31T00:00:00",
          "1968-01-31T00:00:00",
          "1968-02-29T00:00:00",
          "1968-03-31T00:00:00",
          "1968-04-30T00:00:00",
          "1968-05-31T00:00:00",
          "1968-06-30T00:00:00",
          "1968-07-31T00:00:00",
          "1968-08-31T00:00:00",
          "1968-09-30T00:00:00",
          "1968-10-31T00:00:00",
          "1968-11-30T00:00:00",
          "1968-12-31T00:00:00",
          "1969-01-31T00:00:00",
          "1969-02-28T00:00:00",
          "1969-03-31T00:00:00",
          "1969-04-30T00:00:00",
          "1969-05-31T00:00:00",
          "1969-06-30T00:00:00",
          "1969-07-31T00:00:00",
          "1969-08-31T00:00:00",
          "1969-09-30T00:00:00",
          "1969-10-31T00:00:00",
          "1969-11-30T00:00:00",
          "1969-12-31T00:00:00",
          "1970-01-31T00:00:00",
          "1970-02-28T00:00:00",
          "1970-03-31T00:00:00",
          "1970-04-30T00:00:00",
          "1970-05-31T00:00:00",
          "1970-06-30T00:00:00",
          "1970-07-31T00:00:00",
          "1970-08-31T00:00:00",
          "1970-09-30T00:00:00",
          "1970-10-31T00:00:00",
          "1970-11-30T00:00:00",
          "1970-12-31T00:00:00",
          "1971-01-31T00:00:00",
          "1971-02-28T00:00:00",
          "1971-03-31T00:00:00",
          "1971-04-30T00:00:00",
          "1971-05-31T00:00:00",
          "1971-06-30T00:00:00",
          "1971-07-31T00:00:00",
          "1971-08-31T00:00:00",
          "1971-09-30T00:00:00",
          "1971-10-31T00:00:00",
          "1971-11-30T00:00:00",
          "1971-12-31T00:00:00",
          "1972-01-31T00:00:00",
          "1972-02-29T00:00:00",
          "1972-03-31T00:00:00",
          "1972-04-30T00:00:00",
          "1972-05-31T00:00:00",
          "1972-06-30T00:00:00",
          "1972-07-31T00:00:00",
          "1972-08-31T00:00:00",
          "1972-09-30T00:00:00",
          "1972-10-31T00:00:00",
          "1972-11-30T00:00:00",
          "1972-12-31T00:00:00",
          "1973-01-31T00:00:00",
          "1973-02-28T00:00:00",
          "1973-03-31T00:00:00",
          "1973-04-30T00:00:00",
          "1973-05-31T00:00:00",
          "1973-06-30T00:00:00",
          "1973-07-31T00:00:00",
          "1973-08-31T00:00:00",
          "1973-09-30T00:00:00",
          "1973-10-31T00:00:00",
          "1973-11-30T00:00:00",
          "1973-12-31T00:00:00",
          "1974-01-31T00:00:00",
          "1974-02-28T00:00:00",
          "1974-03-31T00:00:00",
          "1974-04-30T00:00:00",
          "1974-05-31T00:00:00",
          "1974-06-30T00:00:00",
          "1974-07-31T00:00:00",
          "1974-08-31T00:00:00",
          "1974-09-30T00:00:00",
          "1974-10-31T00:00:00",
          "1974-11-30T00:00:00",
          "1974-12-31T00:00:00",
          "1975-01-31T00:00:00",
          "1975-02-28T00:00:00",
          "1975-03-31T00:00:00",
          "1975-04-30T00:00:00",
          "1975-05-31T00:00:00",
          "1975-06-30T00:00:00",
          "1975-07-31T00:00:00",
          "1975-08-31T00:00:00",
          "1975-09-30T00:00:00",
          "1975-10-31T00:00:00",
          "1975-11-30T00:00:00",
          "1975-12-31T00:00:00",
          "1976-01-31T00:00:00",
          "1976-02-29T00:00:00",
          "1976-03-31T00:00:00",
          "1976-04-30T00:00:00",
          "1976-05-31T00:00:00",
          "1976-06-30T00:00:00",
          "1976-07-31T00:00:00",
          "1976-08-31T00:00:00",
          "1976-09-30T00:00:00",
          "1976-10-31T00:00:00",
          "1976-11-30T00:00:00",
          "1976-12-31T00:00:00",
          "1977-01-31T00:00:00",
          "1977-02-28T00:00:00",
          "1977-03-31T00:00:00",
          "1977-04-30T00:00:00",
          "1977-05-31T00:00:00",
          "1977-06-30T00:00:00",
          "1977-07-31T00:00:00",
          "1977-08-31T00:00:00",
          "1977-09-30T00:00:00",
          "1977-10-31T00:00:00",
          "1977-11-30T00:00:00",
          "1977-12-31T00:00:00",
          "1978-01-31T00:00:00",
          "1978-02-28T00:00:00",
          "1978-03-31T00:00:00",
          "1978-04-30T00:00:00",
          "1978-05-31T00:00:00",
          "1978-06-30T00:00:00",
          "1978-07-31T00:00:00",
          "1978-08-31T00:00:00",
          "1978-09-30T00:00:00",
          "1978-10-31T00:00:00",
          "1978-11-30T00:00:00",
          "1978-12-31T00:00:00",
          "1979-01-31T00:00:00",
          "1979-02-28T00:00:00",
          "1979-03-31T00:00:00",
          "1979-04-30T00:00:00",
          "1979-05-31T00:00:00",
          "1979-06-30T00:00:00",
          "1979-07-31T00:00:00",
          "1979-08-31T00:00:00",
          "1979-09-30T00:00:00",
          "1979-10-31T00:00:00",
          "1979-11-30T00:00:00",
          "1979-12-31T00:00:00",
          "1980-01-31T00:00:00",
          "1980-02-29T00:00:00",
          "1980-03-31T00:00:00",
          "1980-04-30T00:00:00",
          "1980-05-31T00:00:00",
          "1980-06-30T00:00:00",
          "1980-07-31T00:00:00",
          "1980-08-31T00:00:00",
          "1980-09-30T00:00:00",
          "1980-10-31T00:00:00",
          "1980-11-30T00:00:00",
          "1980-12-31T00:00:00",
          "1981-01-31T00:00:00",
          "1981-02-28T00:00:00",
          "1981-03-31T00:00:00",
          "1981-04-30T00:00:00",
          "1981-05-31T00:00:00",
          "1981-06-30T00:00:00",
          "1981-07-31T00:00:00",
          "1981-08-31T00:00:00",
          "1981-09-30T00:00:00",
          "1981-10-31T00:00:00",
          "1981-11-30T00:00:00",
          "1981-12-31T00:00:00",
          "1982-01-31T00:00:00",
          "1982-02-28T00:00:00",
          "1982-03-31T00:00:00",
          "1982-04-30T00:00:00",
          "1982-05-31T00:00:00",
          "1982-06-30T00:00:00",
          "1982-07-31T00:00:00",
          "1982-08-31T00:00:00",
          "1982-09-30T00:00:00",
          "1982-10-31T00:00:00",
          "1982-11-30T00:00:00",
          "1982-12-31T00:00:00",
          "1983-01-31T00:00:00",
          "1983-02-28T00:00:00",
          "1983-03-31T00:00:00",
          "1983-04-30T00:00:00",
          "1983-05-31T00:00:00",
          "1983-06-30T00:00:00",
          "1983-07-31T00:00:00",
          "1983-08-31T00:00:00",
          "1983-09-30T00:00:00",
          "1983-10-31T00:00:00",
          "1983-11-30T00:00:00",
          "1983-12-31T00:00:00",
          "1984-01-31T00:00:00",
          "1984-02-29T00:00:00",
          "1984-03-31T00:00:00",
          "1984-04-30T00:00:00",
          "1984-05-31T00:00:00",
          "1984-06-30T00:00:00",
          "1984-07-31T00:00:00",
          "1984-08-31T00:00:00",
          "1984-09-30T00:00:00",
          "1984-10-31T00:00:00",
          "1984-11-30T00:00:00",
          "1984-12-31T00:00:00",
          "1985-01-31T00:00:00",
          "1985-02-28T00:00:00",
          "1985-03-31T00:00:00",
          "1985-04-30T00:00:00",
          "1985-05-31T00:00:00",
          "1985-06-30T00:00:00",
          "1985-07-31T00:00:00",
          "1985-08-31T00:00:00",
          "1985-09-30T00:00:00",
          "1985-10-31T00:00:00",
          "1985-11-30T00:00:00",
          "1985-12-31T00:00:00",
          "1986-01-31T00:00:00",
          "1986-02-28T00:00:00",
          "1986-03-31T00:00:00",
          "1986-04-30T00:00:00",
          "1986-05-31T00:00:00",
          "1986-06-30T00:00:00",
          "1986-07-31T00:00:00",
          "1986-08-31T00:00:00",
          "1986-09-30T00:00:00",
          "1986-10-31T00:00:00",
          "1986-11-30T00:00:00",
          "1986-12-31T00:00:00",
          "1987-01-31T00:00:00",
          "1987-02-28T00:00:00",
          "1987-03-31T00:00:00",
          "1987-04-30T00:00:00",
          "1987-05-31T00:00:00",
          "1987-06-30T00:00:00",
          "1987-07-31T00:00:00",
          "1987-08-31T00:00:00",
          "1987-09-30T00:00:00",
          "1987-10-31T00:00:00",
          "1987-11-30T00:00:00",
          "1987-12-31T00:00:00",
          "1988-01-31T00:00:00",
          "1988-02-29T00:00:00",
          "1988-03-31T00:00:00",
          "1988-04-30T00:00:00",
          "1988-05-31T00:00:00",
          "1988-06-30T00:00:00",
          "1988-07-31T00:00:00",
          "1988-08-31T00:00:00",
          "1988-09-30T00:00:00",
          "1988-10-31T00:00:00",
          "1988-11-30T00:00:00",
          "1988-12-31T00:00:00",
          "1989-01-31T00:00:00",
          "1989-02-28T00:00:00",
          "1989-03-31T00:00:00",
          "1989-04-30T00:00:00",
          "1989-05-31T00:00:00",
          "1989-06-30T00:00:00",
          "1989-07-31T00:00:00",
          "1989-08-31T00:00:00",
          "1989-09-30T00:00:00",
          "1989-10-31T00:00:00",
          "1989-11-30T00:00:00",
          "1989-12-31T00:00:00",
          "1990-01-31T00:00:00",
          "1990-02-28T00:00:00",
          "1990-03-31T00:00:00",
          "1990-04-30T00:00:00",
          "1990-05-31T00:00:00",
          "1990-06-30T00:00:00",
          "1990-07-31T00:00:00",
          "1990-08-31T00:00:00",
          "1990-09-30T00:00:00",
          "1990-10-31T00:00:00",
          "1990-11-30T00:00:00",
          "1990-12-31T00:00:00",
          "1991-01-31T00:00:00",
          "1991-02-28T00:00:00",
          "1991-03-31T00:00:00",
          "1991-04-30T00:00:00",
          "1991-05-31T00:00:00",
          "1991-06-30T00:00:00",
          "1991-07-31T00:00:00",
          "1991-08-31T00:00:00",
          "1991-09-30T00:00:00",
          "1991-10-31T00:00:00",
          "1991-11-30T00:00:00",
          "1991-12-31T00:00:00",
          "1992-01-31T00:00:00",
          "1992-02-29T00:00:00",
          "1992-03-31T00:00:00",
          "1992-04-30T00:00:00",
          "1992-05-31T00:00:00",
          "1992-06-30T00:00:00",
          "1992-07-31T00:00:00",
          "1992-08-31T00:00:00",
          "1992-09-30T00:00:00",
          "1992-10-31T00:00:00",
          "1992-11-30T00:00:00",
          "1992-12-31T00:00:00",
          "1993-01-31T00:00:00",
          "1993-02-28T00:00:00",
          "1993-03-31T00:00:00",
          "1993-04-30T00:00:00",
          "1993-05-31T00:00:00",
          "1993-06-30T00:00:00",
          "1993-07-31T00:00:00",
          "1993-08-31T00:00:00",
          "1993-09-30T00:00:00",
          "1993-10-31T00:00:00",
          "1993-11-30T00:00:00",
          "1993-12-31T00:00:00",
          "1994-01-31T00:00:00",
          "1994-02-28T00:00:00",
          "1994-03-31T00:00:00",
          "1994-04-30T00:00:00",
          "1994-05-31T00:00:00",
          "1994-06-30T00:00:00",
          "1994-07-31T00:00:00",
          "1994-08-31T00:00:00",
          "1994-09-30T00:00:00",
          "1994-10-31T00:00:00",
          "1994-11-30T00:00:00",
          "1994-12-31T00:00:00",
          "1995-01-31T00:00:00",
          "1995-02-28T00:00:00",
          "1995-03-31T00:00:00",
          "1995-04-30T00:00:00",
          "1995-05-31T00:00:00",
          "1995-06-30T00:00:00",
          "1995-07-31T00:00:00",
          "1995-08-31T00:00:00",
          "1995-09-30T00:00:00",
          "1995-10-31T00:00:00",
          "1995-11-30T00:00:00",
          "1995-12-31T00:00:00",
          "1996-01-31T00:00:00",
          "1996-02-29T00:00:00",
          "1996-03-31T00:00:00",
          "1996-04-30T00:00:00",
          "1996-05-31T00:00:00",
          "1996-06-30T00:00:00",
          "1996-07-31T00:00:00",
          "1996-08-31T00:00:00",
          "1996-09-30T00:00:00",
          "1996-10-31T00:00:00",
          "1996-11-30T00:00:00",
          "1996-12-31T00:00:00",
          "1997-01-31T00:00:00",
          "1997-02-28T00:00:00",
          "1997-03-31T00:00:00",
          "1997-04-30T00:00:00",
          "1997-05-31T00:00:00",
          "1997-06-30T00:00:00",
          "1997-07-31T00:00:00",
          "1997-08-31T00:00:00",
          "1997-09-30T00:00:00",
          "1997-10-31T00:00:00",
          "1997-11-30T00:00:00",
          "1997-12-31T00:00:00",
          "1998-01-31T00:00:00",
          "1998-02-28T00:00:00",
          "1998-03-31T00:00:00",
          "1998-04-30T00:00:00",
          "1998-05-31T00:00:00",
          "1998-06-30T00:00:00",
          "1998-07-31T00:00:00",
          "1998-08-31T00:00:00",
          "1998-09-30T00:00:00",
          "1998-10-31T00:00:00",
          "1998-11-30T00:00:00",
          "1998-12-31T00:00:00",
          "1999-01-31T00:00:00",
          "1999-02-28T00:00:00",
          "1999-03-31T00:00:00",
          "1999-04-30T00:00:00",
          "1999-05-31T00:00:00",
          "1999-06-30T00:00:00",
          "1999-07-31T00:00:00",
          "1999-08-31T00:00:00",
          "1999-09-30T00:00:00",
          "1999-10-31T00:00:00",
          "1999-11-30T00:00:00",
          "1999-12-31T00:00:00",
          "2000-01-31T00:00:00",
          "2000-02-29T00:00:00",
          "2000-03-31T00:00:00",
          "2000-04-30T00:00:00",
          "2000-05-31T00:00:00",
          "2000-06-30T00:00:00",
          "2000-07-31T00:00:00",
          "2000-08-31T00:00:00",
          "2000-09-30T00:00:00",
          "2000-10-31T00:00:00",
          "2000-11-30T00:00:00",
          "2000-12-31T00:00:00",
          "2001-01-31T00:00:00",
          "2001-02-28T00:00:00",
          "2001-03-31T00:00:00",
          "2001-04-30T00:00:00",
          "2001-05-31T00:00:00",
          "2001-06-30T00:00:00",
          "2001-07-31T00:00:00",
          "2001-08-31T00:00:00",
          "2001-09-30T00:00:00",
          "2001-10-31T00:00:00",
          "2001-11-30T00:00:00",
          "2001-12-31T00:00:00",
          "2002-01-31T00:00:00",
          "2002-02-28T00:00:00",
          "2002-03-31T00:00:00",
          "2002-04-30T00:00:00",
          "2002-05-31T00:00:00",
          "2002-06-30T00:00:00",
          "2002-07-31T00:00:00",
          "2002-08-31T00:00:00",
          "2002-09-30T00:00:00",
          "2002-10-31T00:00:00",
          "2002-11-30T00:00:00",
          "2002-12-31T00:00:00",
          "2003-01-31T00:00:00",
          "2003-02-28T00:00:00",
          "2003-03-31T00:00:00",
          "2003-04-30T00:00:00",
          "2003-05-31T00:00:00",
          "2003-06-30T00:00:00",
          "2003-07-31T00:00:00",
          "2003-08-31T00:00:00",
          "2003-09-30T00:00:00",
          "2003-10-31T00:00:00",
          "2003-11-30T00:00:00",
          "2003-12-31T00:00:00",
          "2004-01-31T00:00:00",
          "2004-02-29T00:00:00",
          "2004-03-31T00:00:00",
          "2004-04-30T00:00:00",
          "2004-05-31T00:00:00",
          "2004-06-30T00:00:00",
          "2004-07-31T00:00:00",
          "2004-08-31T00:00:00",
          "2004-09-30T00:00:00",
          "2004-10-31T00:00:00",
          "2004-11-30T00:00:00",
          "2004-12-31T00:00:00",
          "2005-01-31T00:00:00",
          "2005-02-28T00:00:00",
          "2005-03-31T00:00:00",
          "2005-04-30T00:00:00",
          "2005-05-31T00:00:00",
          "2005-06-30T00:00:00",
          "2005-07-31T00:00:00",
          "2005-08-31T00:00:00",
          "2005-09-30T00:00:00",
          "2005-10-31T00:00:00",
          "2005-11-30T00:00:00",
          "2005-12-31T00:00:00",
          "2006-01-31T00:00:00",
          "2006-02-28T00:00:00",
          "2006-03-31T00:00:00",
          "2006-04-30T00:00:00",
          "2006-05-31T00:00:00",
          "2006-06-30T00:00:00",
          "2006-07-31T00:00:00",
          "2006-08-31T00:00:00",
          "2006-09-30T00:00:00",
          "2006-10-31T00:00:00",
          "2006-11-30T00:00:00",
          "2006-12-31T00:00:00",
          "2007-01-31T00:00:00",
          "2007-02-28T00:00:00",
          "2007-03-31T00:00:00",
          "2007-04-30T00:00:00",
          "2007-05-31T00:00:00",
          "2007-06-30T00:00:00",
          "2007-07-31T00:00:00",
          "2007-08-31T00:00:00",
          "2007-09-30T00:00:00",
          "2007-10-31T00:00:00",
          "2007-11-30T00:00:00",
          "2007-12-31T00:00:00",
          "2008-01-31T00:00:00",
          "2008-02-29T00:00:00",
          "2008-03-31T00:00:00",
          "2008-04-30T00:00:00",
          "2008-05-31T00:00:00",
          "2008-06-30T00:00:00",
          "2008-07-31T00:00:00",
          "2008-08-31T00:00:00",
          "2008-09-30T00:00:00",
          "2008-10-31T00:00:00",
          "2008-11-30T00:00:00",
          "2008-12-31T00:00:00",
          "2009-01-31T00:00:00",
          "2009-02-28T00:00:00",
          "2009-03-31T00:00:00",
          "2009-04-30T00:00:00",
          "2009-05-31T00:00:00",
          "2009-06-30T00:00:00",
          "2009-07-31T00:00:00",
          "2009-08-31T00:00:00",
          "2009-09-30T00:00:00",
          "2009-10-31T00:00:00",
          "2009-11-30T00:00:00",
          "2009-12-31T00:00:00",
          "2010-01-31T00:00:00",
          "2010-02-28T00:00:00",
          "2010-03-31T00:00:00",
          "2010-04-30T00:00:00",
          "2010-05-31T00:00:00",
          "2010-06-30T00:00:00",
          "2010-07-31T00:00:00",
          "2010-08-31T00:00:00",
          "2010-09-30T00:00:00",
          "2010-10-31T00:00:00",
          "2010-11-30T00:00:00",
          "2010-12-31T00:00:00",
          "2011-01-31T00:00:00",
          "2011-02-28T00:00:00",
          "2011-03-31T00:00:00",
          "2011-04-30T00:00:00",
          "2011-05-31T00:00:00",
          "2011-06-30T00:00:00",
          "2011-07-31T00:00:00",
          "2011-08-31T00:00:00",
          "2011-09-30T00:00:00",
          "2011-10-31T00:00:00",
          "2011-11-30T00:00:00",
          "2011-12-31T00:00:00",
          "2012-01-31T00:00:00",
          "2012-02-29T00:00:00",
          "2012-03-31T00:00:00",
          "2012-04-30T00:00:00",
          "2012-05-31T00:00:00",
          "2012-06-30T00:00:00",
          "2012-07-31T00:00:00",
          "2012-08-31T00:00:00",
          "2012-09-30T00:00:00",
          "2012-10-31T00:00:00",
          "2012-11-30T00:00:00",
          "2012-12-31T00:00:00",
          "2013-01-31T00:00:00",
          "2013-02-28T00:00:00",
          "2013-03-31T00:00:00",
          "2013-04-30T00:00:00",
          "2013-05-31T00:00:00",
          "2013-06-30T00:00:00",
          "2013-07-31T00:00:00",
          "2013-08-31T00:00:00",
          "2013-09-30T00:00:00",
          "2013-10-31T00:00:00",
          "2013-11-30T00:00:00",
          "2013-12-31T00:00:00",
          "2014-01-31T00:00:00",
          "2014-02-28T00:00:00",
          "2014-03-31T00:00:00",
          "2014-04-30T00:00:00",
          "2014-05-31T00:00:00",
          "2014-06-30T00:00:00",
          "2014-07-31T00:00:00",
          "2014-08-31T00:00:00",
          "2014-09-30T00:00:00",
          "2014-10-31T00:00:00",
          "2014-11-30T00:00:00",
          "2014-12-31T00:00:00",
          "2015-01-31T00:00:00",
          "2015-02-28T00:00:00",
          "2015-03-31T00:00:00",
          "2015-04-30T00:00:00",
          "2015-05-31T00:00:00",
          "2015-06-30T00:00:00",
          "2015-07-31T00:00:00",
          "2015-08-31T00:00:00",
          "2015-09-30T00:00:00",
          "2015-10-31T00:00:00",
          "2015-11-30T00:00:00",
          "2015-12-31T00:00:00",
          "2016-01-31T00:00:00",
          "2016-02-29T00:00:00",
          "2016-03-31T00:00:00",
          "2016-04-30T00:00:00",
          "2016-05-31T00:00:00",
          "2016-06-30T00:00:00",
          "2016-07-31T00:00:00",
          "2016-08-31T00:00:00",
          "2016-09-30T00:00:00",
          "2016-10-31T00:00:00",
          "2016-11-30T00:00:00",
          "2016-12-31T00:00:00",
          "2017-01-31T00:00:00",
          "2017-02-28T00:00:00",
          "2017-03-31T00:00:00",
          "2017-04-30T00:00:00",
          "2017-05-31T00:00:00",
          "2017-06-30T00:00:00",
          "2017-07-31T00:00:00",
          "2017-08-31T00:00:00",
          "2017-09-30T00:00:00",
          "2017-10-31T00:00:00",
          "2017-11-30T00:00:00",
          "2017-12-31T00:00:00",
          "2018-01-31T00:00:00",
          "2018-02-28T00:00:00",
          "2018-03-31T00:00:00",
          "2018-04-30T00:00:00",
          "2018-05-31T00:00:00",
          "2018-06-30T00:00:00",
          "2018-07-31T00:00:00",
          "2018-08-31T00:00:00",
          "2018-09-30T00:00:00",
          "2018-10-31T00:00:00",
          "2018-11-30T00:00:00",
          "2018-12-31T00:00:00",
          "2019-01-31T00:00:00",
          "2019-02-28T00:00:00",
          "2019-03-31T00:00:00",
          "2019-04-30T00:00:00",
          "2019-05-31T00:00:00",
          "2019-06-30T00:00:00",
          "2019-07-31T00:00:00",
          "2019-08-31T00:00:00",
          "2019-09-30T00:00:00",
          "2019-10-31T00:00:00",
          "2019-11-30T00:00:00",
          "2019-12-31T00:00:00",
          "2020-01-31T00:00:00",
          "2020-02-29T00:00:00",
          "2020-03-31T00:00:00",
          "2020-04-30T00:00:00",
          "2020-05-31T00:00:00",
          "2020-06-30T00:00:00",
          "2020-07-31T00:00:00",
          "2020-08-31T00:00:00",
          "2020-09-30T00:00:00",
          "2020-10-31T00:00:00",
          "2020-11-30T00:00:00",
          "2020-12-31T00:00:00",
          "2021-01-31T00:00:00",
          "2021-02-28T00:00:00",
          "2021-03-31T00:00:00",
          "2021-04-30T00:00:00",
          "2021-05-31T00:00:00",
          "2021-06-30T00:00:00",
          "2021-07-31T00:00:00",
          "2021-08-31T00:00:00",
          "2021-09-30T00:00:00",
          "2021-10-31T00:00:00",
          "2021-11-30T00:00:00",
          "2021-12-31T00:00:00",
          "2022-01-31T00:00:00",
          "2022-02-28T00:00:00",
          "2022-03-31T00:00:00",
          "2022-04-30T00:00:00",
          "2022-05-31T00:00:00",
          "2022-06-30T00:00:00",
          "2022-07-31T00:00:00",
          "2022-08-31T00:00:00",
          "2022-09-30T00:00:00",
          "2022-10-31T00:00:00",
          "2022-11-30T00:00:00"
         ],
         "y": [
          1.1059,
          1.34183,
          1.34048,
          1.23995,
          1.00267,
          1.1356,
          1.46765,
          1.33422,
          1.33422,
          1.23292,
          1.33156,
          1.22883,
          1.12695,
          0.89374,
          0.89286,
          1.32406,
          1.55526,
          1.55218,
          0.98619,
          1.21791,
          1.31666,
          1.64582,
          1.64258,
          1.41076,
          1.40937,
          1.54199,
          1.54048,
          1.30676,
          1.07527,
          0.97561,
          1.17188,
          1.20325,
          1.39701,
          1.19819,
          1.0989,
          1.19702,
          1.19586,
          1.38934,
          1.61394,
          1.93486,
          1.80529,
          1.61031,
          1.73745,
          1.70308,
          1.73021,
          1.92,
          1.91816,
          2.55754,
          2.77866,
          2.86807,
          2.76366,
          2.43594,
          2.75491,
          3.48653,
          3.57369,
          3.79147,
          3.55906,
          3.3595,
          3.1995,
          2.86783,
          2.54817,
          2.54027,
          2.31839,
          2.84126,
          2.92758,
          2.60337,
          2.59542,
          2.58752,
          3.10219,
          3.28068,
          3.64742,
          3.63636,
          3.93939,
          3.92749,
          4.22961,
          4.2042,
          4.49102,
          4.47761,
          4.46429,
          4.74777,
          4.42478,
          4.70588,
          4.69208,
          4.67836,
          5.24781,
          5.52326,
          5.50725,
          5.4755,
          5.44413,
          5.42857,
          5.69801,
          5.66572,
          5.9322,
          5.89888,
          6.16246,
          6.42458,
          6.09418,
          6.06061,
          6.04396,
          6.01093,
          5.70652,
          5.69106,
          5.66038,
          5.63003,
          5.6,
          5.57029,
          5.27704,
          4.72441,
          4.43864,
          4.15584,
          4.40415,
          4.38144,
          4.37018,
          4.35897,
          4.08163,
          3.80711,
          3.53535,
          3.26633,
          3.25815,
          3.7594,
          3.5,
          3.49127,
          3.22581,
          2.96296,
          2.95567,
          2.9484,
          3.18627,
          3.17848,
          3.41463,
          3.40633,
          3.64078,
          3.86473,
          4.83092,
          5.3012,
          5.52885,
          5.9952,
          5.74163,
          7.39857,
          7.36342,
          8.05687,
          8.25472,
          8.94118,
          9.60187,
          10,
          10.13825,
          10.06865,
          10.70615,
          10.85973,
          11.53846,
          10.88889,
          11.9469,
          11.84211,
          12.20044,
          12.09503,
          11.75214,
          11.20507,
          10.46025,
          10.18711,
          9.25926,
          9.18367,
          9.53347,
          8.61723,
          7.90514,
          7.64706,
          7.37864,
          7.12909,
          6.69216,
          6.27376,
          6.06061,
          5.84906,
          6.21469,
          5.98131,
          5.55556,
          5.71956,
          5.49451,
          5.46448,
          5.06329,
          5.03597,
          5.19713,
          6.08229,
          6.42857,
          6.95187,
          6.73759,
          6.70194,
          6.66667,
          6.63176,
          6.42361,
          6.39033,
          6.71256,
          6.67808,
          6.81431,
          6.23946,
          6.37584,
          6.5,
          7.14286,
          7.43802,
          7.73026,
          7.85597,
          8.48287,
          8.92857,
          8.87097,
          8.98876,
          9.2504,
          9.84127,
          10.25237,
          10.48513,
          10.69767,
          11.07692,
          11.45038,
          11.83612,
          11.8797,
          12.07154,
          12.59259,
          13.25479,
          13.86861,
          14.16185,
          14.59227,
          14.58924,
          14.42577,
          14.26593,
          13.15068,
          12.89009,
          12.76882,
          12.63298,
          12.63158,
          12.35371,
          11.79487,
          11.39241,
          10.61174,
          10.13597,
          9.79192,
          9.69697,
          10.77482,
          10.81731,
          10.96544,
          10.27155,
          9.57944,
          8.91204,
          8.25688,
          7.61364,
          6.88488,
          6.62177,
          6.91193,
          7.18232,
          6.55738,
          5.96529,
          4.94092,
          5.03212,
          4.47761,
          3.82572,
          3.70763,
          3.48469,
          3.59029,
          4,
          3.44108,
          2.47423,
          2.35897,
          2.4565,
          2.76356,
          2.75229,
          3.16327,
          3.7871,
          4.29009,
          4.69388,
          4.89297,
          4.55466,
          4.33468,
          4.32596,
          4.30862,
          4.2957,
          4.28287,
          4.26587,
          4.1543,
          4.04339,
          3.52595,
          3.60624,
          3.79009,
          3.5818,
          3.57488,
          3.66442,
          3.45821,
          3.35249,
          3.24737,
          3.23501,
          3.51377,
          3.79147,
          3.97351,
          3.19849,
          2.15356,
          1.58879,
          1.6791,
          1.76744,
          1.67131,
          1.57553,
          1.75763,
          1.56682,
          1.2844,
          1.18721,
          1.36488,
          1.91431,
          2.84143,
          3.67985,
          3.66972,
          3.74771,
          3.92694,
          4.28832,
          4.27273,
          4.35572,
          4.52899,
          4.33213,
          4.12926,
          3.9356,
          3.83244,
          3.9929,
          3.9823,
          3.96476,
          4.13005,
          4.11199,
          4.18483,
          4.26087,
          4.2461,
          4.41176,
          4.48276,
          4.64716,
          4.8927,
          5.03413,
          5.2766,
          5.16949,
          5.06329,
          4.62185,
          4.43515,
          4.58716,
          4.65503,
          4.6396,
          5.19802,
          5.26316,
          5.23732,
          4.71162,
          4.3654,
          4.67365,
          4.81928,
          5.70281,
          6.16987,
          6.37959,
          6.19539,
          6.25495,
          5.64706,
          5.3125,
          4.82115,
          4.80993,
          5.03486,
          4.69592,
          4.36782,
          3.79939,
          3.39623,
          2.84858,
          3.06657,
          2.98063,
          2.67261,
          2.81899,
          3.18991,
          3.18283,
          3.0236,
          3.01471,
          3.15712,
          3.07467,
          2.9927,
          3.27988,
          3.12046,
          2.96671,
          3.2538,
          3.24675,
          3.01941,
          3.15638,
          3.22119,
          2.99786,
          2.84698,
          2.84091,
          2.764,
          2.75229,
          2.74455,
          2.81096,
          2.45098,
          2.51572,
          2.65178,
          2.36439,
          2.28849,
          2.4948,
          2.69896,
          2.90055,
          2.96552,
          2.60989,
          2.60274,
          2.5974,
          2.87081,
          2.86299,
          2.78722,
          3.125,
          3.11864,
          3.0426,
          2.83019,
          2.61745,
          2.54521,
          2.74431,
          2.60347,
          2.53165,
          2.7907,
          2.71703,
          2.84392,
          2.83267,
          2.82709,
          2.82152,
          2.88336,
          2.8123,
          3.00457,
          3.06189,
          3.25309,
          3.37882,
          3.03814,
          3.03226,
          2.76527,
          2.43434,
          2.23785,
          2.23357,
          2.16561,
          2.29008,
          2.2194,
          2.08597,
          1.89036,
          1.69705,
          1.63112,
          1.4402,
          1.37672,
          1.4384,
          1.68856,
          1.62297,
          1.74564,
          1.61692,
          1.4268,
          1.48607,
          1.48423,
          1.60692,
          1.66667,
          1.66667,
          1.7284,
          2.28113,
          2.09102,
          1.9656,
          2.14461,
          2.26438,
          2.62997,
          2.56254,
          2.62035,
          2.6764,
          2.79296,
          3.21797,
          3.76214,
          3.01386,
          3.13253,
          3.73494,
          3.59928,
          3.35129,
          3.4565,
          3.45033,
          3.44418,
          3.43602,
          3.7212,
          3.52941,
          2.98246,
          3.21826,
          3.56308,
          3.19396,
          2.72148,
          2.72148,
          2.59217,
          2.12766,
          1.89437,
          1.60367,
          1.1959,
          1.13636,
          1.36286,
          1.64399,
          1.24083,
          1.06922,
          1.46561,
          1.74746,
          1.516,
          2.02703,
          2.25352,
          2.48027,
          2.75746,
          3.14607,
          3.02521,
          2.17513,
          1.89415,
          1.94878,
          2.05556,
          2.21607,
          2.37832,
          2.04194,
          1.92837,
          2.0352,
          2.02629,
          1.68845,
          1.74008,
          2.29258,
          2.89776,
          3.16767,
          2.93958,
          2.54743,
          2.53917,
          3.19091,
          3.62162,
          3.34232,
          2.84487,
          3.05303,
          3.20684,
          3.36179,
          2.86929,
          2.54103,
          3.06716,
          3.64693,
          4.74183,
          4.3501,
          3.33855,
          3.33855,
          4.01879,
          3.63825,
          3.41792,
          3.61384,
          3.97727,
          4.18172,
          4.10467,
          3.92657,
          2.01207,
          1.40633,
          1.9687,
          2.52398,
          2.07577,
          2.42026,
          2.7982,
          2.59292,
          2.70989,
          2.69277,
          2.31789,
          1.89745,
          2.83383,
          3.6107,
          4.37327,
          4.10881,
          4.2947,
          4.14296,
          3.9749,
          3.90376,
          4.08841,
          4.93597,
          5.49751,
          5.30802,
          4.95332,
          3.73106,
          1.09992,
          -0.02223,
          -0.11359,
          0.00846,
          -0.44648,
          -0.57632,
          -1.01576,
          -1.22917,
          -1.95876,
          -1.48384,
          -1.37794,
          -0.22397,
          1.91459,
          2.81412,
          2.62111,
          2.15134,
          2.28617,
          2.20677,
          2.00355,
          1.12156,
          1.34078,
          1.15018,
          1.11831,
          1.1667,
          1.08454,
          1.43779,
          1.70078,
          2.1249,
          2.61924,
          3.07723,
          3.45897,
          3.50232,
          3.57988,
          3.755,
          3.81262,
          3.52227,
          3.45143,
          3.06207,
          3.00877,
          2.89818,
          2.58288,
          2.27316,
          1.73794,
          1.65387,
          1.41751,
          1.68593,
          1.94972,
          2.15568,
          1.79602,
          1.7595,
          1.68406,
          2.01814,
          1.51875,
          1.13881,
          1.39039,
          1.71579,
          1.88547,
          1.53881,
          1.09473,
          0.8768,
          1.23287,
          1.51284,
          1.55776,
          1.12047,
          1.61269,
          2.01513,
          2.16695,
          2.05898,
          1.97424,
          1.7151,
          1.68405,
          1.60954,
          1.23152,
          0.65312,
          -0.22993,
          -0.08703,
          -0.02203,
          -0.10403,
          0.03503,
          0.17957,
          0.22569,
          0.2413,
          0.00884,
          0.12762,
          0.43632,
          0.63872,
          1.2375,
          0.84728,
          0.89162,
          1.17263,
          1.07848,
          1.07929,
          0.86836,
          1.05532,
          1.54864,
          1.68592,
          1.68433,
          2.0508,
          2.51039,
          2.81036,
          2.4412,
          2.17622,
          1.85634,
          1.64057,
          1.72511,
          1.92812,
          2.18057,
          2.02076,
          2.17249,
          2.12993,
          2.15132,
          2.26347,
          2.33095,
          2.471,
          2.78192,
          2.80755,
          2.85412,
          2.64292,
          2.33206,
          2.49203,
          2.14733,
          2.00238,
          1.55068,
          1.52006,
          1.85314,
          1.99179,
          1.79352,
          1.64968,
          1.77976,
          1.74678,
          1.71662,
          1.76918,
          2.0622,
          2.31399,
          2.50042,
          2.33932,
          1.54287,
          0.3452,
          0.22641,
          0.71602,
          1.01414,
          1.30907,
          1.37148,
          1.18253,
          1.16756,
          1.32204,
          1.39478,
          1.69336,
          2.63052,
          4.13055,
          4.91503,
          5.28161,
          5.22151,
          5.18829,
          5.38363,
          6.23775,
          6.86239,
          7.19446,
          7.59528,
          7.95485,
          8.51522,
          8.22777,
          8.50233,
          8.93299,
          8.41318,
          8.22736,
          8.21485,
          7.76249,
          7.13535,
          6.44494
         ],
         "yaxis": "y2"
        }
       ],
       "layout": {
        "template": {
         "data": {
          "bar": [
           {
            "error_x": {
             "color": "#2a3f5f"
            },
            "error_y": {
             "color": "#2a3f5f"
            },
            "marker": {
             "line": {
              "color": "#E5ECF6",
              "width": 0.5
             },
             "pattern": {
              "fillmode": "overlay",
              "size": 10,
              "solidity": 0.2
             }
            },
            "type": "bar"
           }
          ],
          "barpolar": [
           {
            "marker": {
             "line": {
              "color": "#E5ECF6",
              "width": 0.5
             },
             "pattern": {
              "fillmode": "overlay",
              "size": 10,
              "solidity": 0.2
             }
            },
            "type": "barpolar"
           }
          ],
          "carpet": [
           {
            "aaxis": {
             "endlinecolor": "#2a3f5f",
             "gridcolor": "white",
             "linecolor": "white",
             "minorgridcolor": "white",
             "startlinecolor": "#2a3f5f"
            },
            "baxis": {
             "endlinecolor": "#2a3f5f",
             "gridcolor": "white",
             "linecolor": "white",
             "minorgridcolor": "white",
             "startlinecolor": "#2a3f5f"
            },
            "type": "carpet"
           }
          ],
          "choropleth": [
           {
            "colorbar": {
             "outlinewidth": 0,
             "ticks": ""
            },
            "type": "choropleth"
           }
          ],
          "contour": [
           {
            "colorbar": {
             "outlinewidth": 0,
             "ticks": ""
            },
            "colorscale": [
             [
              0,
              "#0d0887"
             ],
             [
              0.1111111111111111,
              "#46039f"
             ],
             [
              0.2222222222222222,
              "#7201a8"
             ],
             [
              0.3333333333333333,
              "#9c179e"
             ],
             [
              0.4444444444444444,
              "#bd3786"
             ],
             [
              0.5555555555555556,
              "#d8576b"
             ],
             [
              0.6666666666666666,
              "#ed7953"
             ],
             [
              0.7777777777777778,
              "#fb9f3a"
             ],
             [
              0.8888888888888888,
              "#fdca26"
             ],
             [
              1,
              "#f0f921"
             ]
            ],
            "type": "contour"
           }
          ],
          "contourcarpet": [
           {
            "colorbar": {
             "outlinewidth": 0,
             "ticks": ""
            },
            "type": "contourcarpet"
           }
          ],
          "heatmap": [
           {
            "colorbar": {
             "outlinewidth": 0,
             "ticks": ""
            },
            "colorscale": [
             [
              0,
              "#0d0887"
             ],
             [
              0.1111111111111111,
              "#46039f"
             ],
             [
              0.2222222222222222,
              "#7201a8"
             ],
             [
              0.3333333333333333,
              "#9c179e"
             ],
             [
              0.4444444444444444,
              "#bd3786"
             ],
             [
              0.5555555555555556,
              "#d8576b"
             ],
             [
              0.6666666666666666,
              "#ed7953"
             ],
             [
              0.7777777777777778,
              "#fb9f3a"
             ],
             [
              0.8888888888888888,
              "#fdca26"
             ],
             [
              1,
              "#f0f921"
             ]
            ],
            "type": "heatmap"
           }
          ],
          "heatmapgl": [
           {
            "colorbar": {
             "outlinewidth": 0,
             "ticks": ""
            },
            "colorscale": [
             [
              0,
              "#0d0887"
             ],
             [
              0.1111111111111111,
              "#46039f"
             ],
             [
              0.2222222222222222,
              "#7201a8"
             ],
             [
              0.3333333333333333,
              "#9c179e"
             ],
             [
              0.4444444444444444,
              "#bd3786"
             ],
             [
              0.5555555555555556,
              "#d8576b"
             ],
             [
              0.6666666666666666,
              "#ed7953"
             ],
             [
              0.7777777777777778,
              "#fb9f3a"
             ],
             [
              0.8888888888888888,
              "#fdca26"
             ],
             [
              1,
              "#f0f921"
             ]
            ],
            "type": "heatmapgl"
           }
          ],
          "histogram": [
           {
            "marker": {
             "pattern": {
              "fillmode": "overlay",
              "size": 10,
              "solidity": 0.2
             }
            },
            "type": "histogram"
           }
          ],
          "histogram2d": [
           {
            "colorbar": {
             "outlinewidth": 0,
             "ticks": ""
            },
            "colorscale": [
             [
              0,
              "#0d0887"
             ],
             [
              0.1111111111111111,
              "#46039f"
             ],
             [
              0.2222222222222222,
              "#7201a8"
             ],
             [
              0.3333333333333333,
              "#9c179e"
             ],
             [
              0.4444444444444444,
              "#bd3786"
             ],
             [
              0.5555555555555556,
              "#d8576b"
             ],
             [
              0.6666666666666666,
              "#ed7953"
             ],
             [
              0.7777777777777778,
              "#fb9f3a"
             ],
             [
              0.8888888888888888,
              "#fdca26"
             ],
             [
              1,
              "#f0f921"
             ]
            ],
            "type": "histogram2d"
           }
          ],
          "histogram2dcontour": [
           {
            "colorbar": {
             "outlinewidth": 0,
             "ticks": ""
            },
            "colorscale": [
             [
              0,
              "#0d0887"
             ],
             [
              0.1111111111111111,
              "#46039f"
             ],
             [
              0.2222222222222222,
              "#7201a8"
             ],
             [
              0.3333333333333333,
              "#9c179e"
             ],
             [
              0.4444444444444444,
              "#bd3786"
             ],
             [
              0.5555555555555556,
              "#d8576b"
             ],
             [
              0.6666666666666666,
              "#ed7953"
             ],
             [
              0.7777777777777778,
              "#fb9f3a"
             ],
             [
              0.8888888888888888,
              "#fdca26"
             ],
             [
              1,
              "#f0f921"
             ]
            ],
            "type": "histogram2dcontour"
           }
          ],
          "mesh3d": [
           {
            "colorbar": {
             "outlinewidth": 0,
             "ticks": ""
            },
            "type": "mesh3d"
           }
          ],
          "parcoords": [
           {
            "line": {
             "colorbar": {
              "outlinewidth": 0,
              "ticks": ""
             }
            },
            "type": "parcoords"
           }
          ],
          "pie": [
           {
            "automargin": true,
            "type": "pie"
           }
          ],
          "scatter": [
           {
            "marker": {
             "colorbar": {
              "outlinewidth": 0,
              "ticks": ""
             }
            },
            "type": "scatter"
           }
          ],
          "scatter3d": [
           {
            "line": {
             "colorbar": {
              "outlinewidth": 0,
              "ticks": ""
             }
            },
            "marker": {
             "colorbar": {
              "outlinewidth": 0,
              "ticks": ""
             }
            },
            "type": "scatter3d"
           }
          ],
          "scattercarpet": [
           {
            "marker": {
             "colorbar": {
              "outlinewidth": 0,
              "ticks": ""
             }
            },
            "type": "scattercarpet"
           }
          ],
          "scattergeo": [
           {
            "marker": {
             "colorbar": {
              "outlinewidth": 0,
              "ticks": ""
             }
            },
            "type": "scattergeo"
           }
          ],
          "scattergl": [
           {
            "marker": {
             "colorbar": {
              "outlinewidth": 0,
              "ticks": ""
             }
            },
            "type": "scattergl"
           }
          ],
          "scattermapbox": [
           {
            "marker": {
             "colorbar": {
              "outlinewidth": 0,
              "ticks": ""
             }
            },
            "type": "scattermapbox"
           }
          ],
          "scatterpolar": [
           {
            "marker": {
             "colorbar": {
              "outlinewidth": 0,
              "ticks": ""
             }
            },
            "type": "scatterpolar"
           }
          ],
          "scatterpolargl": [
           {
            "marker": {
             "colorbar": {
              "outlinewidth": 0,
              "ticks": ""
             }
            },
            "type": "scatterpolargl"
           }
          ],
          "scatterternary": [
           {
            "marker": {
             "colorbar": {
              "outlinewidth": 0,
              "ticks": ""
             }
            },
            "type": "scatterternary"
           }
          ],
          "surface": [
           {
            "colorbar": {
             "outlinewidth": 0,
             "ticks": ""
            },
            "colorscale": [
             [
              0,
              "#0d0887"
             ],
             [
              0.1111111111111111,
              "#46039f"
             ],
             [
              0.2222222222222222,
              "#7201a8"
             ],
             [
              0.3333333333333333,
              "#9c179e"
             ],
             [
              0.4444444444444444,
              "#bd3786"
             ],
             [
              0.5555555555555556,
              "#d8576b"
             ],
             [
              0.6666666666666666,
              "#ed7953"
             ],
             [
              0.7777777777777778,
              "#fb9f3a"
             ],
             [
              0.8888888888888888,
              "#fdca26"
             ],
             [
              1,
              "#f0f921"
             ]
            ],
            "type": "surface"
           }
          ],
          "table": [
           {
            "cells": {
             "fill": {
              "color": "#EBF0F8"
             },
             "line": {
              "color": "white"
             }
            },
            "header": {
             "fill": {
              "color": "#C8D4E3"
             },
             "line": {
              "color": "white"
             }
            },
            "type": "table"
           }
          ]
         },
         "layout": {
          "annotationdefaults": {
           "arrowcolor": "#2a3f5f",
           "arrowhead": 0,
           "arrowwidth": 1
          },
          "autotypenumbers": "strict",
          "coloraxis": {
           "colorbar": {
            "outlinewidth": 0,
            "ticks": ""
           }
          },
          "colorscale": {
           "diverging": [
            [
             0,
             "#8e0152"
            ],
            [
             0.1,
             "#c51b7d"
            ],
            [
             0.2,
             "#de77ae"
            ],
            [
             0.3,
             "#f1b6da"
            ],
            [
             0.4,
             "#fde0ef"
            ],
            [
             0.5,
             "#f7f7f7"
            ],
            [
             0.6,
             "#e6f5d0"
            ],
            [
             0.7,
             "#b8e186"
            ],
            [
             0.8,
             "#7fbc41"
            ],
            [
             0.9,
             "#4d9221"
            ],
            [
             1,
             "#276419"
            ]
           ],
           "sequential": [
            [
             0,
             "#0d0887"
            ],
            [
             0.1111111111111111,
             "#46039f"
            ],
            [
             0.2222222222222222,
             "#7201a8"
            ],
            [
             0.3333333333333333,
             "#9c179e"
            ],
            [
             0.4444444444444444,
             "#bd3786"
            ],
            [
             0.5555555555555556,
             "#d8576b"
            ],
            [
             0.6666666666666666,
             "#ed7953"
            ],
            [
             0.7777777777777778,
             "#fb9f3a"
            ],
            [
             0.8888888888888888,
             "#fdca26"
            ],
            [
             1,
             "#f0f921"
            ]
           ],
           "sequentialminus": [
            [
             0,
             "#0d0887"
            ],
            [
             0.1111111111111111,
             "#46039f"
            ],
            [
             0.2222222222222222,
             "#7201a8"
            ],
            [
             0.3333333333333333,
             "#9c179e"
            ],
            [
             0.4444444444444444,
             "#bd3786"
            ],
            [
             0.5555555555555556,
             "#d8576b"
            ],
            [
             0.6666666666666666,
             "#ed7953"
            ],
            [
             0.7777777777777778,
             "#fb9f3a"
            ],
            [
             0.8888888888888888,
             "#fdca26"
            ],
            [
             1,
             "#f0f921"
            ]
           ]
          },
          "colorway": [
           "#636efa",
           "#EF553B",
           "#00cc96",
           "#ab63fa",
           "#FFA15A",
           "#19d3f3",
           "#FF6692",
           "#B6E880",
           "#FF97FF",
           "#FECB52"
          ],
          "font": {
           "color": "#2a3f5f"
          },
          "geo": {
           "bgcolor": "white",
           "lakecolor": "white",
           "landcolor": "#E5ECF6",
           "showlakes": true,
           "showland": true,
           "subunitcolor": "white"
          },
          "hoverlabel": {
           "align": "left"
          },
          "hovermode": "closest",
          "mapbox": {
           "style": "light"
          },
          "paper_bgcolor": "white",
          "plot_bgcolor": "#E5ECF6",
          "polar": {
           "angularaxis": {
            "gridcolor": "white",
            "linecolor": "white",
            "ticks": ""
           },
           "bgcolor": "#E5ECF6",
           "radialaxis": {
            "gridcolor": "white",
            "linecolor": "white",
            "ticks": ""
           }
          },
          "scene": {
           "xaxis": {
            "backgroundcolor": "#E5ECF6",
            "gridcolor": "white",
            "gridwidth": 2,
            "linecolor": "white",
            "showbackground": true,
            "ticks": "",
            "zerolinecolor": "white"
           },
           "yaxis": {
            "backgroundcolor": "#E5ECF6",
            "gridcolor": "white",
            "gridwidth": 2,
            "linecolor": "white",
            "showbackground": true,
            "ticks": "",
            "zerolinecolor": "white"
           },
           "zaxis": {
            "backgroundcolor": "#E5ECF6",
            "gridcolor": "white",
            "gridwidth": 2,
            "linecolor": "white",
            "showbackground": true,
            "ticks": "",
            "zerolinecolor": "white"
           }
          },
          "shapedefaults": {
           "line": {
            "color": "#2a3f5f"
           }
          },
          "ternary": {
           "aaxis": {
            "gridcolor": "white",
            "linecolor": "white",
            "ticks": ""
           },
           "baxis": {
            "gridcolor": "white",
            "linecolor": "white",
            "ticks": ""
           },
           "bgcolor": "#E5ECF6",
           "caxis": {
            "gridcolor": "white",
            "linecolor": "white",
            "ticks": ""
           }
          },
          "title": {
           "x": 0.05
          },
          "xaxis": {
           "automargin": true,
           "gridcolor": "white",
           "linecolor": "white",
           "ticks": "",
           "title": {
            "standoff": 15
           },
           "zerolinecolor": "white",
           "zerolinewidth": 2
          },
          "yaxis": {
           "automargin": true,
           "gridcolor": "white",
           "linecolor": "white",
           "ticks": "",
           "title": {
            "standoff": 15
           },
           "zerolinecolor": "white",
           "zerolinewidth": 2
          }
         }
        },
        "title": {
         "text": "Size of Long and Short"
        },
        "xaxis": {
         "title": {
          "text": "Date"
         }
        },
        "yaxis": {
         "title": {
          "text": "Size of Long and Short"
         }
        },
        "yaxis2": {
         "overlaying": "y",
         "side": "right",
         "title": {
          "text": "CPI"
         }
        }
       }
      }
     },
     "metadata": {},
     "output_type": "display_data"
    }
   ],
   "source": [
    "# plot size of long and short using plotly\n",
    "fig = go.Figure()\n",
    "fig.add_trace(go.Scatter(x=portfolio[\"date\"], y=long_size, name=\"long\"))\n",
    "fig.add_trace(go.Scatter(x=portfolio[\"date\"], y=short_size, name=\"short\"))\n",
    "fig.update_layout(title=\"Size of Long and Short\", xaxis_title=\"Date\", yaxis_title=\"Size of Long and Short\")\n",
    "\n",
    "# plot cpi\n",
    "fig.add_trace(go.Scatter(x=cpi[\"date\"], y=cpi[\"CPI\"], name=\"CPI\", yaxis=\"y2\"))\n",
    "fig.update_layout(yaxis2=dict(overlaying=\"y\", side=\"right\", title=\"CPI\"))\n",
    "\n",
    "fig.show()\n",
    "\n"
   ]
  },
  {
   "cell_type": "code",
   "execution_count": null,
   "metadata": {},
   "outputs": [],
   "source": []
  },
  {
   "cell_type": "code",
   "execution_count": null,
   "metadata": {},
   "outputs": [],
   "source": []
  },
  {
   "cell_type": "code",
   "execution_count": null,
   "metadata": {},
   "outputs": [],
   "source": []
  },
  {
   "cell_type": "code",
   "execution_count": 478,
   "metadata": {},
   "outputs": [],
   "source": [
    "cpi[\"CPI\"] = cpi[\"CPI\"].shift(-1)\n",
    "cpi[\"Forecast\"] = cpi[\"Forecast\"].shift(-1)"
   ]
  },
  {
   "cell_type": "code",
   "execution_count": 479,
   "metadata": {},
   "outputs": [],
   "source": [
    "cpi.drop(\"Value\", axis=1, inplace=True)"
   ]
  },
  {
   "cell_type": "code",
   "execution_count": 480,
   "metadata": {},
   "outputs": [],
   "source": [
    "cpi.dropna(subset=[\"Forecast\"], inplace=True)"
   ]
  },
  {
   "cell_type": "code",
   "execution_count": null,
   "metadata": {},
   "outputs": [],
   "source": []
  },
  {
   "cell_type": "code",
   "execution_count": 481,
   "metadata": {},
   "outputs": [
    {
     "data": {
      "application/vnd.plotly.v1+json": {
       "config": {
        "plotlyServerURL": "https://plot.ly"
       },
       "data": [
        {
         "hovertemplate": "variable=CPI<br>date=%{x}<br>value=%{y}<extra></extra>",
         "legendgroup": "CPI",
         "line": {
          "color": "#636efa",
          "dash": "solid"
         },
         "marker": {
          "symbol": "circle"
         },
         "mode": "lines",
         "name": "CPI",
         "showlegend": true,
         "type": "scattergl",
         "x": [
          "1960-11-30T00:00:00",
          "1960-12-31T00:00:00",
          "1961-01-31T00:00:00",
          "1961-02-28T00:00:00",
          "1961-03-31T00:00:00",
          "1961-04-30T00:00:00",
          "1961-05-31T00:00:00",
          "1961-06-30T00:00:00",
          "1961-07-31T00:00:00",
          "1961-08-31T00:00:00",
          "1961-09-30T00:00:00",
          "1961-10-31T00:00:00",
          "1961-11-30T00:00:00",
          "1961-12-31T00:00:00",
          "1962-01-31T00:00:00",
          "1962-02-28T00:00:00",
          "1962-03-31T00:00:00",
          "1962-04-30T00:00:00",
          "1962-05-31T00:00:00",
          "1962-06-30T00:00:00",
          "1962-07-31T00:00:00",
          "1962-08-31T00:00:00",
          "1962-09-30T00:00:00",
          "1962-10-31T00:00:00",
          "1962-11-30T00:00:00",
          "1962-12-31T00:00:00",
          "1963-01-31T00:00:00",
          "1963-02-28T00:00:00",
          "1963-03-31T00:00:00",
          "1963-04-30T00:00:00",
          "1963-05-31T00:00:00",
          "1963-06-30T00:00:00",
          "1963-07-31T00:00:00",
          "1963-08-31T00:00:00",
          "1963-09-30T00:00:00",
          "1963-10-31T00:00:00",
          "1963-11-30T00:00:00",
          "1963-12-31T00:00:00",
          "1964-01-31T00:00:00",
          "1964-02-29T00:00:00",
          "1964-03-31T00:00:00",
          "1964-04-30T00:00:00",
          "1964-05-31T00:00:00",
          "1964-06-30T00:00:00",
          "1964-07-31T00:00:00",
          "1964-08-31T00:00:00",
          "1964-09-30T00:00:00",
          "1964-10-31T00:00:00",
          "1964-11-30T00:00:00",
          "1964-12-31T00:00:00",
          "1965-01-31T00:00:00",
          "1965-02-28T00:00:00",
          "1965-03-31T00:00:00",
          "1965-04-30T00:00:00",
          "1965-05-31T00:00:00",
          "1965-06-30T00:00:00",
          "1965-07-31T00:00:00",
          "1965-08-31T00:00:00",
          "1965-09-30T00:00:00",
          "1965-10-31T00:00:00",
          "1965-11-30T00:00:00",
          "1965-12-31T00:00:00",
          "1966-01-31T00:00:00",
          "1966-02-28T00:00:00",
          "1966-03-31T00:00:00",
          "1966-04-30T00:00:00",
          "1966-05-31T00:00:00",
          "1966-06-30T00:00:00",
          "1966-07-31T00:00:00",
          "1966-08-31T00:00:00",
          "1966-09-30T00:00:00",
          "1966-10-31T00:00:00",
          "1966-11-30T00:00:00",
          "1966-12-31T00:00:00",
          "1967-01-31T00:00:00",
          "1967-02-28T00:00:00",
          "1967-03-31T00:00:00",
          "1967-04-30T00:00:00",
          "1967-05-31T00:00:00",
          "1967-06-30T00:00:00",
          "1967-07-31T00:00:00",
          "1967-08-31T00:00:00",
          "1967-09-30T00:00:00",
          "1967-10-31T00:00:00",
          "1967-11-30T00:00:00",
          "1967-12-31T00:00:00",
          "1968-01-31T00:00:00",
          "1968-02-29T00:00:00",
          "1968-03-31T00:00:00",
          "1968-04-30T00:00:00",
          "1968-05-31T00:00:00",
          "1968-06-30T00:00:00",
          "1968-07-31T00:00:00",
          "1968-08-31T00:00:00",
          "1968-09-30T00:00:00",
          "1968-10-31T00:00:00",
          "1968-11-30T00:00:00",
          "1968-12-31T00:00:00",
          "1969-01-31T00:00:00",
          "1969-02-28T00:00:00",
          "1969-03-31T00:00:00",
          "1969-04-30T00:00:00",
          "1969-05-31T00:00:00",
          "1969-06-30T00:00:00",
          "1969-07-31T00:00:00",
          "1969-08-31T00:00:00",
          "1969-09-30T00:00:00",
          "1969-10-31T00:00:00",
          "1969-11-30T00:00:00",
          "1969-12-31T00:00:00",
          "1970-01-31T00:00:00",
          "1970-02-28T00:00:00",
          "1970-03-31T00:00:00",
          "1970-04-30T00:00:00",
          "1970-05-31T00:00:00",
          "1970-06-30T00:00:00",
          "1970-07-31T00:00:00",
          "1970-08-31T00:00:00",
          "1970-09-30T00:00:00",
          "1970-10-31T00:00:00",
          "1970-11-30T00:00:00",
          "1970-12-31T00:00:00",
          "1971-01-31T00:00:00",
          "1971-02-28T00:00:00",
          "1971-03-31T00:00:00",
          "1971-04-30T00:00:00",
          "1971-05-31T00:00:00",
          "1971-06-30T00:00:00",
          "1971-07-31T00:00:00",
          "1971-08-31T00:00:00",
          "1971-09-30T00:00:00",
          "1971-10-31T00:00:00",
          "1971-11-30T00:00:00",
          "1971-12-31T00:00:00",
          "1972-01-31T00:00:00",
          "1972-02-29T00:00:00",
          "1972-03-31T00:00:00",
          "1972-04-30T00:00:00",
          "1972-05-31T00:00:00",
          "1972-06-30T00:00:00",
          "1972-07-31T00:00:00",
          "1972-08-31T00:00:00",
          "1972-09-30T00:00:00",
          "1972-10-31T00:00:00",
          "1972-11-30T00:00:00",
          "1972-12-31T00:00:00",
          "1973-01-31T00:00:00",
          "1973-02-28T00:00:00",
          "1973-03-31T00:00:00",
          "1973-04-30T00:00:00",
          "1973-05-31T00:00:00",
          "1973-06-30T00:00:00",
          "1973-07-31T00:00:00",
          "1973-08-31T00:00:00",
          "1973-09-30T00:00:00",
          "1973-10-31T00:00:00",
          "1973-11-30T00:00:00",
          "1973-12-31T00:00:00",
          "1974-01-31T00:00:00",
          "1974-02-28T00:00:00",
          "1974-03-31T00:00:00",
          "1974-04-30T00:00:00",
          "1974-05-31T00:00:00",
          "1974-06-30T00:00:00",
          "1974-07-31T00:00:00",
          "1974-08-31T00:00:00",
          "1974-09-30T00:00:00",
          "1974-10-31T00:00:00",
          "1974-11-30T00:00:00",
          "1974-12-31T00:00:00",
          "1975-01-31T00:00:00",
          "1975-02-28T00:00:00",
          "1975-03-31T00:00:00",
          "1975-04-30T00:00:00",
          "1975-05-31T00:00:00",
          "1975-06-30T00:00:00",
          "1975-07-31T00:00:00",
          "1975-08-31T00:00:00",
          "1975-09-30T00:00:00",
          "1975-10-31T00:00:00",
          "1975-11-30T00:00:00",
          "1975-12-31T00:00:00",
          "1976-01-31T00:00:00",
          "1976-02-29T00:00:00",
          "1976-03-31T00:00:00",
          "1976-04-30T00:00:00",
          "1976-05-31T00:00:00",
          "1976-06-30T00:00:00",
          "1976-07-31T00:00:00",
          "1976-08-31T00:00:00",
          "1976-09-30T00:00:00",
          "1976-10-31T00:00:00",
          "1976-11-30T00:00:00",
          "1976-12-31T00:00:00",
          "1977-01-31T00:00:00",
          "1977-02-28T00:00:00",
          "1977-03-31T00:00:00",
          "1977-04-30T00:00:00",
          "1977-05-31T00:00:00",
          "1977-06-30T00:00:00",
          "1977-07-31T00:00:00",
          "1977-08-31T00:00:00",
          "1977-09-30T00:00:00",
          "1977-10-31T00:00:00",
          "1977-11-30T00:00:00",
          "1977-12-31T00:00:00",
          "1978-01-31T00:00:00",
          "1978-02-28T00:00:00",
          "1978-03-31T00:00:00",
          "1978-04-30T00:00:00",
          "1978-05-31T00:00:00",
          "1978-06-30T00:00:00",
          "1978-07-31T00:00:00",
          "1978-08-31T00:00:00",
          "1978-09-30T00:00:00",
          "1978-10-31T00:00:00",
          "1978-11-30T00:00:00",
          "1978-12-31T00:00:00",
          "1979-01-31T00:00:00",
          "1979-02-28T00:00:00",
          "1979-03-31T00:00:00",
          "1979-04-30T00:00:00",
          "1979-05-31T00:00:00",
          "1979-06-30T00:00:00",
          "1979-07-31T00:00:00",
          "1979-08-31T00:00:00",
          "1979-09-30T00:00:00",
          "1979-10-31T00:00:00",
          "1979-11-30T00:00:00",
          "1979-12-31T00:00:00",
          "1980-01-31T00:00:00",
          "1980-02-29T00:00:00",
          "1980-03-31T00:00:00",
          "1980-04-30T00:00:00",
          "1980-05-31T00:00:00",
          "1980-06-30T00:00:00",
          "1980-07-31T00:00:00",
          "1980-08-31T00:00:00",
          "1980-09-30T00:00:00",
          "1980-10-31T00:00:00",
          "1980-11-30T00:00:00",
          "1980-12-31T00:00:00",
          "1981-01-31T00:00:00",
          "1981-02-28T00:00:00",
          "1981-03-31T00:00:00",
          "1981-04-30T00:00:00",
          "1981-05-31T00:00:00",
          "1981-06-30T00:00:00",
          "1981-07-31T00:00:00",
          "1981-08-31T00:00:00",
          "1981-09-30T00:00:00",
          "1981-10-31T00:00:00",
          "1981-11-30T00:00:00",
          "1981-12-31T00:00:00",
          "1982-01-31T00:00:00",
          "1982-02-28T00:00:00",
          "1982-03-31T00:00:00",
          "1982-04-30T00:00:00",
          "1982-05-31T00:00:00",
          "1982-06-30T00:00:00",
          "1982-07-31T00:00:00",
          "1982-08-31T00:00:00",
          "1982-09-30T00:00:00",
          "1982-10-31T00:00:00",
          "1982-11-30T00:00:00",
          "1982-12-31T00:00:00",
          "1983-01-31T00:00:00",
          "1983-02-28T00:00:00",
          "1983-03-31T00:00:00",
          "1983-04-30T00:00:00",
          "1983-05-31T00:00:00",
          "1983-06-30T00:00:00",
          "1983-07-31T00:00:00",
          "1983-08-31T00:00:00",
          "1983-09-30T00:00:00",
          "1983-10-31T00:00:00",
          "1983-11-30T00:00:00",
          "1983-12-31T00:00:00",
          "1984-01-31T00:00:00",
          "1984-02-29T00:00:00",
          "1984-03-31T00:00:00",
          "1984-04-30T00:00:00",
          "1984-05-31T00:00:00",
          "1984-06-30T00:00:00",
          "1984-07-31T00:00:00",
          "1984-08-31T00:00:00",
          "1984-09-30T00:00:00",
          "1984-10-31T00:00:00",
          "1984-11-30T00:00:00",
          "1984-12-31T00:00:00",
          "1985-01-31T00:00:00",
          "1985-02-28T00:00:00",
          "1985-03-31T00:00:00",
          "1985-04-30T00:00:00",
          "1985-05-31T00:00:00",
          "1985-06-30T00:00:00",
          "1985-07-31T00:00:00",
          "1985-08-31T00:00:00",
          "1985-09-30T00:00:00",
          "1985-10-31T00:00:00",
          "1985-11-30T00:00:00",
          "1985-12-31T00:00:00",
          "1986-01-31T00:00:00",
          "1986-02-28T00:00:00",
          "1986-03-31T00:00:00",
          "1986-04-30T00:00:00",
          "1986-05-31T00:00:00",
          "1986-06-30T00:00:00",
          "1986-07-31T00:00:00",
          "1986-08-31T00:00:00",
          "1986-09-30T00:00:00",
          "1986-10-31T00:00:00",
          "1986-11-30T00:00:00",
          "1986-12-31T00:00:00",
          "1987-01-31T00:00:00",
          "1987-02-28T00:00:00",
          "1987-03-31T00:00:00",
          "1987-04-30T00:00:00",
          "1987-05-31T00:00:00",
          "1987-06-30T00:00:00",
          "1987-07-31T00:00:00",
          "1987-08-31T00:00:00",
          "1987-09-30T00:00:00",
          "1987-10-31T00:00:00",
          "1987-11-30T00:00:00",
          "1987-12-31T00:00:00",
          "1988-01-31T00:00:00",
          "1988-02-29T00:00:00",
          "1988-03-31T00:00:00",
          "1988-04-30T00:00:00",
          "1988-05-31T00:00:00",
          "1988-06-30T00:00:00",
          "1988-07-31T00:00:00",
          "1988-08-31T00:00:00",
          "1988-09-30T00:00:00",
          "1988-10-31T00:00:00",
          "1988-11-30T00:00:00",
          "1988-12-31T00:00:00",
          "1989-01-31T00:00:00",
          "1989-02-28T00:00:00",
          "1989-03-31T00:00:00",
          "1989-04-30T00:00:00",
          "1989-05-31T00:00:00",
          "1989-06-30T00:00:00",
          "1989-07-31T00:00:00",
          "1989-08-31T00:00:00",
          "1989-09-30T00:00:00",
          "1989-10-31T00:00:00",
          "1989-11-30T00:00:00",
          "1989-12-31T00:00:00",
          "1990-01-31T00:00:00",
          "1990-02-28T00:00:00",
          "1990-03-31T00:00:00",
          "1990-04-30T00:00:00",
          "1990-05-31T00:00:00",
          "1990-06-30T00:00:00",
          "1990-07-31T00:00:00",
          "1990-08-31T00:00:00",
          "1990-09-30T00:00:00",
          "1990-10-31T00:00:00",
          "1990-11-30T00:00:00",
          "1990-12-31T00:00:00",
          "1991-01-31T00:00:00",
          "1991-02-28T00:00:00",
          "1991-03-31T00:00:00",
          "1991-04-30T00:00:00",
          "1991-05-31T00:00:00",
          "1991-06-30T00:00:00",
          "1991-07-31T00:00:00",
          "1991-08-31T00:00:00",
          "1991-09-30T00:00:00",
          "1991-10-31T00:00:00",
          "1991-11-30T00:00:00",
          "1991-12-31T00:00:00",
          "1992-01-31T00:00:00",
          "1992-02-29T00:00:00",
          "1992-03-31T00:00:00",
          "1992-04-30T00:00:00",
          "1992-05-31T00:00:00",
          "1992-06-30T00:00:00",
          "1992-07-31T00:00:00",
          "1992-08-31T00:00:00",
          "1992-09-30T00:00:00",
          "1992-10-31T00:00:00",
          "1992-11-30T00:00:00",
          "1992-12-31T00:00:00",
          "1993-01-31T00:00:00",
          "1993-02-28T00:00:00",
          "1993-03-31T00:00:00",
          "1993-04-30T00:00:00",
          "1993-05-31T00:00:00",
          "1993-06-30T00:00:00",
          "1993-07-31T00:00:00",
          "1993-08-31T00:00:00",
          "1993-09-30T00:00:00",
          "1993-10-31T00:00:00",
          "1993-11-30T00:00:00",
          "1993-12-31T00:00:00",
          "1994-01-31T00:00:00",
          "1994-02-28T00:00:00",
          "1994-03-31T00:00:00",
          "1994-04-30T00:00:00",
          "1994-05-31T00:00:00",
          "1994-06-30T00:00:00",
          "1994-07-31T00:00:00",
          "1994-08-31T00:00:00",
          "1994-09-30T00:00:00",
          "1994-10-31T00:00:00",
          "1994-11-30T00:00:00",
          "1994-12-31T00:00:00",
          "1995-01-31T00:00:00",
          "1995-02-28T00:00:00",
          "1995-03-31T00:00:00",
          "1995-04-30T00:00:00",
          "1995-05-31T00:00:00",
          "1995-06-30T00:00:00",
          "1995-07-31T00:00:00",
          "1995-08-31T00:00:00",
          "1995-09-30T00:00:00",
          "1995-10-31T00:00:00",
          "1995-11-30T00:00:00",
          "1995-12-31T00:00:00",
          "1996-01-31T00:00:00",
          "1996-02-29T00:00:00",
          "1996-03-31T00:00:00",
          "1996-04-30T00:00:00",
          "1996-05-31T00:00:00",
          "1996-06-30T00:00:00",
          "1996-07-31T00:00:00",
          "1996-08-31T00:00:00",
          "1996-09-30T00:00:00",
          "1996-10-31T00:00:00",
          "1996-11-30T00:00:00",
          "1996-12-31T00:00:00",
          "1997-01-31T00:00:00",
          "1997-02-28T00:00:00",
          "1997-03-31T00:00:00",
          "1997-04-30T00:00:00",
          "1997-05-31T00:00:00",
          "1997-06-30T00:00:00",
          "1997-07-31T00:00:00",
          "1997-08-31T00:00:00",
          "1997-09-30T00:00:00",
          "1997-10-31T00:00:00",
          "1997-11-30T00:00:00",
          "1997-12-31T00:00:00",
          "1998-01-31T00:00:00",
          "1998-02-28T00:00:00",
          "1998-03-31T00:00:00",
          "1998-04-30T00:00:00",
          "1998-05-31T00:00:00",
          "1998-06-30T00:00:00",
          "1998-07-31T00:00:00",
          "1998-08-31T00:00:00",
          "1998-09-30T00:00:00",
          "1998-10-31T00:00:00",
          "1998-11-30T00:00:00",
          "1998-12-31T00:00:00",
          "1999-01-31T00:00:00",
          "1999-02-28T00:00:00",
          "1999-03-31T00:00:00",
          "1999-04-30T00:00:00",
          "1999-05-31T00:00:00",
          "1999-06-30T00:00:00",
          "1999-07-31T00:00:00",
          "1999-08-31T00:00:00",
          "1999-09-30T00:00:00",
          "1999-10-31T00:00:00",
          "1999-11-30T00:00:00",
          "1999-12-31T00:00:00",
          "2000-01-31T00:00:00",
          "2000-02-29T00:00:00",
          "2000-03-31T00:00:00",
          "2000-04-30T00:00:00",
          "2000-05-31T00:00:00",
          "2000-06-30T00:00:00",
          "2000-07-31T00:00:00",
          "2000-08-31T00:00:00",
          "2000-09-30T00:00:00",
          "2000-10-31T00:00:00",
          "2000-11-30T00:00:00",
          "2000-12-31T00:00:00",
          "2001-01-31T00:00:00",
          "2001-02-28T00:00:00",
          "2001-03-31T00:00:00",
          "2001-04-30T00:00:00",
          "2001-05-31T00:00:00",
          "2001-06-30T00:00:00",
          "2001-07-31T00:00:00",
          "2001-08-31T00:00:00",
          "2001-09-30T00:00:00",
          "2001-10-31T00:00:00",
          "2001-11-30T00:00:00",
          "2001-12-31T00:00:00",
          "2002-01-31T00:00:00",
          "2002-02-28T00:00:00",
          "2002-03-31T00:00:00",
          "2002-04-30T00:00:00",
          "2002-05-31T00:00:00",
          "2002-06-30T00:00:00",
          "2002-07-31T00:00:00",
          "2002-08-31T00:00:00",
          "2002-09-30T00:00:00",
          "2002-10-31T00:00:00",
          "2002-11-30T00:00:00",
          "2002-12-31T00:00:00",
          "2003-01-31T00:00:00",
          "2003-02-28T00:00:00",
          "2003-03-31T00:00:00",
          "2003-04-30T00:00:00",
          "2003-05-31T00:00:00",
          "2003-06-30T00:00:00",
          "2003-07-31T00:00:00",
          "2003-08-31T00:00:00",
          "2003-09-30T00:00:00",
          "2003-10-31T00:00:00",
          "2003-11-30T00:00:00",
          "2003-12-31T00:00:00",
          "2004-01-31T00:00:00",
          "2004-02-29T00:00:00",
          "2004-03-31T00:00:00",
          "2004-04-30T00:00:00",
          "2004-05-31T00:00:00",
          "2004-06-30T00:00:00",
          "2004-07-31T00:00:00",
          "2004-08-31T00:00:00",
          "2004-09-30T00:00:00",
          "2004-10-31T00:00:00",
          "2004-11-30T00:00:00",
          "2004-12-31T00:00:00",
          "2005-01-31T00:00:00",
          "2005-02-28T00:00:00",
          "2005-03-31T00:00:00",
          "2005-04-30T00:00:00",
          "2005-05-31T00:00:00",
          "2005-06-30T00:00:00",
          "2005-07-31T00:00:00",
          "2005-08-31T00:00:00",
          "2005-09-30T00:00:00",
          "2005-10-31T00:00:00",
          "2005-11-30T00:00:00",
          "2005-12-31T00:00:00",
          "2006-01-31T00:00:00",
          "2006-02-28T00:00:00",
          "2006-03-31T00:00:00",
          "2006-04-30T00:00:00",
          "2006-05-31T00:00:00",
          "2006-06-30T00:00:00",
          "2006-07-31T00:00:00",
          "2006-08-31T00:00:00",
          "2006-09-30T00:00:00",
          "2006-10-31T00:00:00",
          "2006-11-30T00:00:00",
          "2006-12-31T00:00:00",
          "2007-01-31T00:00:00",
          "2007-02-28T00:00:00",
          "2007-03-31T00:00:00",
          "2007-04-30T00:00:00",
          "2007-05-31T00:00:00",
          "2007-06-30T00:00:00",
          "2007-07-31T00:00:00",
          "2007-08-31T00:00:00",
          "2007-09-30T00:00:00",
          "2007-10-31T00:00:00",
          "2007-11-30T00:00:00",
          "2007-12-31T00:00:00",
          "2008-01-31T00:00:00",
          "2008-02-29T00:00:00",
          "2008-03-31T00:00:00",
          "2008-04-30T00:00:00",
          "2008-05-31T00:00:00",
          "2008-06-30T00:00:00",
          "2008-07-31T00:00:00",
          "2008-08-31T00:00:00",
          "2008-09-30T00:00:00",
          "2008-10-31T00:00:00",
          "2008-11-30T00:00:00",
          "2008-12-31T00:00:00",
          "2009-01-31T00:00:00",
          "2009-02-28T00:00:00",
          "2009-03-31T00:00:00",
          "2009-04-30T00:00:00",
          "2009-05-31T00:00:00",
          "2009-06-30T00:00:00",
          "2009-07-31T00:00:00",
          "2009-08-31T00:00:00",
          "2009-09-30T00:00:00",
          "2009-10-31T00:00:00",
          "2009-11-30T00:00:00",
          "2009-12-31T00:00:00",
          "2010-01-31T00:00:00",
          "2010-02-28T00:00:00",
          "2010-03-31T00:00:00",
          "2010-04-30T00:00:00",
          "2010-05-31T00:00:00",
          "2010-06-30T00:00:00",
          "2010-07-31T00:00:00",
          "2010-08-31T00:00:00",
          "2010-09-30T00:00:00",
          "2010-10-31T00:00:00",
          "2010-11-30T00:00:00",
          "2010-12-31T00:00:00",
          "2011-01-31T00:00:00",
          "2011-02-28T00:00:00",
          "2011-03-31T00:00:00",
          "2011-04-30T00:00:00",
          "2011-05-31T00:00:00",
          "2011-06-30T00:00:00",
          "2011-07-31T00:00:00",
          "2011-08-31T00:00:00",
          "2011-09-30T00:00:00",
          "2011-10-31T00:00:00",
          "2011-11-30T00:00:00",
          "2011-12-31T00:00:00",
          "2012-01-31T00:00:00",
          "2012-02-29T00:00:00",
          "2012-03-31T00:00:00",
          "2012-04-30T00:00:00",
          "2012-05-31T00:00:00",
          "2012-06-30T00:00:00",
          "2012-07-31T00:00:00",
          "2012-08-31T00:00:00",
          "2012-09-30T00:00:00",
          "2012-10-31T00:00:00",
          "2012-11-30T00:00:00",
          "2012-12-31T00:00:00",
          "2013-01-31T00:00:00",
          "2013-02-28T00:00:00",
          "2013-03-31T00:00:00",
          "2013-04-30T00:00:00",
          "2013-05-31T00:00:00",
          "2013-06-30T00:00:00",
          "2013-07-31T00:00:00",
          "2013-08-31T00:00:00",
          "2013-09-30T00:00:00",
          "2013-10-31T00:00:00",
          "2013-11-30T00:00:00",
          "2013-12-31T00:00:00",
          "2014-01-31T00:00:00",
          "2014-02-28T00:00:00",
          "2014-03-31T00:00:00",
          "2014-04-30T00:00:00",
          "2014-05-31T00:00:00",
          "2014-06-30T00:00:00",
          "2014-07-31T00:00:00",
          "2014-08-31T00:00:00",
          "2014-09-30T00:00:00",
          "2014-10-31T00:00:00",
          "2014-11-30T00:00:00",
          "2014-12-31T00:00:00",
          "2015-01-31T00:00:00",
          "2015-02-28T00:00:00",
          "2015-03-31T00:00:00",
          "2015-04-30T00:00:00",
          "2015-05-31T00:00:00",
          "2015-06-30T00:00:00",
          "2015-07-31T00:00:00",
          "2015-08-31T00:00:00",
          "2015-09-30T00:00:00",
          "2015-10-31T00:00:00",
          "2015-11-30T00:00:00",
          "2015-12-31T00:00:00",
          "2016-01-31T00:00:00",
          "2016-02-29T00:00:00",
          "2016-03-31T00:00:00",
          "2016-04-30T00:00:00",
          "2016-05-31T00:00:00",
          "2016-06-30T00:00:00",
          "2016-07-31T00:00:00",
          "2016-08-31T00:00:00",
          "2016-09-30T00:00:00",
          "2016-10-31T00:00:00",
          "2016-11-30T00:00:00",
          "2016-12-31T00:00:00",
          "2017-01-31T00:00:00",
          "2017-02-28T00:00:00",
          "2017-03-31T00:00:00",
          "2017-04-30T00:00:00",
          "2017-05-31T00:00:00",
          "2017-06-30T00:00:00",
          "2017-07-31T00:00:00",
          "2017-08-31T00:00:00",
          "2017-09-30T00:00:00",
          "2017-10-31T00:00:00",
          "2017-11-30T00:00:00",
          "2017-12-31T00:00:00",
          "2018-01-31T00:00:00",
          "2018-02-28T00:00:00",
          "2018-03-31T00:00:00",
          "2018-04-30T00:00:00",
          "2018-05-31T00:00:00",
          "2018-06-30T00:00:00",
          "2018-07-31T00:00:00",
          "2018-08-31T00:00:00",
          "2018-09-30T00:00:00",
          "2018-10-31T00:00:00",
          "2018-11-30T00:00:00",
          "2018-12-31T00:00:00",
          "2019-01-31T00:00:00",
          "2019-02-28T00:00:00",
          "2019-03-31T00:00:00",
          "2019-04-30T00:00:00",
          "2019-05-31T00:00:00",
          "2019-06-30T00:00:00",
          "2019-07-31T00:00:00",
          "2019-08-31T00:00:00",
          "2019-09-30T00:00:00",
          "2019-10-31T00:00:00",
          "2019-11-30T00:00:00",
          "2019-12-31T00:00:00",
          "2020-01-31T00:00:00",
          "2020-02-29T00:00:00",
          "2020-03-31T00:00:00",
          "2020-04-30T00:00:00",
          "2020-05-31T00:00:00",
          "2020-06-30T00:00:00",
          "2020-07-31T00:00:00",
          "2020-08-31T00:00:00",
          "2020-09-30T00:00:00",
          "2020-10-31T00:00:00",
          "2020-11-30T00:00:00",
          "2020-12-31T00:00:00",
          "2021-01-31T00:00:00",
          "2021-02-28T00:00:00",
          "2021-03-31T00:00:00",
          "2021-04-30T00:00:00",
          "2021-05-31T00:00:00",
          "2021-06-30T00:00:00",
          "2021-07-31T00:00:00",
          "2021-08-31T00:00:00",
          "2021-09-30T00:00:00",
          "2021-10-31T00:00:00",
          "2021-11-30T00:00:00",
          "2021-12-31T00:00:00",
          "2022-01-31T00:00:00",
          "2022-02-28T00:00:00",
          "2022-03-31T00:00:00",
          "2022-04-30T00:00:00",
          "2022-05-31T00:00:00",
          "2022-06-30T00:00:00",
          "2022-07-31T00:00:00",
          "2022-08-31T00:00:00",
          "2022-09-30T00:00:00",
          "2022-10-31T00:00:00"
         ],
         "xaxis": "x",
         "y": [
          1.60027,
          1.46209,
          1.46209,
          0.91401,
          0.91309,
          0.77676,
          1.25212,
          1.11449,
          1.24958,
          0.77311,
          0.67159,
          0.67092,
          0.67024,
          0.90483,
          1.1059,
          1.34183,
          1.34048,
          1.23995,
          1.00267,
          1.1356,
          1.46765,
          1.33422,
          1.33422,
          1.23292,
          1.33156,
          1.22883,
          1.12695,
          0.89374,
          0.89286,
          1.32406,
          1.55526,
          1.55218,
          0.98619,
          1.21791,
          1.31666,
          1.64582,
          1.64258,
          1.41076,
          1.40937,
          1.54199,
          1.54048,
          1.30676,
          1.07527,
          0.97561,
          1.17188,
          1.20325,
          1.39701,
          1.19819,
          1.0989,
          1.19702,
          1.19586,
          1.38934,
          1.61394,
          1.93486,
          1.80529,
          1.61031,
          1.73745,
          1.70308,
          1.73021,
          1.92,
          1.91816,
          2.55754,
          2.77866,
          2.86807,
          2.76366,
          2.43594,
          2.75491,
          3.48653,
          3.57369,
          3.79147,
          3.55906,
          3.3595,
          3.1995,
          2.86783,
          2.54817,
          2.54027,
          2.31839,
          2.84126,
          2.92758,
          2.60337,
          2.59542,
          2.58752,
          3.10219,
          3.28068,
          3.64742,
          3.63636,
          3.93939,
          3.92749,
          4.22961,
          4.2042,
          4.49102,
          4.47761,
          4.46429,
          4.74777,
          4.42478,
          4.70588,
          4.69208,
          4.67836,
          5.24781,
          5.52326,
          5.50725,
          5.4755,
          5.44413,
          5.42857,
          5.69801,
          5.66572,
          5.9322,
          5.89888,
          6.16246,
          6.42458,
          6.09418,
          6.06061,
          6.04396,
          6.01093,
          5.70652,
          5.69106,
          5.66038,
          5.63003,
          5.6,
          5.57029,
          5.27704,
          4.72441,
          4.43864,
          4.15584,
          4.40415,
          4.38144,
          4.37018,
          4.35897,
          4.08163,
          3.80711,
          3.53535,
          3.26633,
          3.25815,
          3.7594,
          3.5,
          3.49127,
          3.22581,
          2.96296,
          2.95567,
          2.9484,
          3.18627,
          3.17848,
          3.41463,
          3.40633,
          3.64078,
          3.86473,
          4.83092,
          5.3012,
          5.52885,
          5.9952,
          5.74163,
          7.39857,
          7.36342,
          8.05687,
          8.25472,
          8.94118,
          9.60187,
          10,
          10.13825,
          10.06865,
          10.70615,
          10.85973,
          11.53846,
          10.88889,
          11.9469,
          11.84211,
          12.20044,
          12.09503,
          11.75214,
          11.20507,
          10.46025,
          10.18711,
          9.25926,
          9.18367,
          9.53347,
          8.61723,
          7.90514,
          7.64706,
          7.37864,
          7.12909,
          6.69216,
          6.27376,
          6.06061,
          5.84906,
          6.21469,
          5.98131,
          5.55556,
          5.71956,
          5.49451,
          5.46448,
          5.06329,
          5.03597,
          5.19713,
          6.08229,
          6.42857,
          6.95187,
          6.73759,
          6.70194,
          6.66667,
          6.63176,
          6.42361,
          6.39033,
          6.71256,
          6.67808,
          6.81431,
          6.23946,
          6.37584,
          6.5,
          7.14286,
          7.43802,
          7.73026,
          7.85597,
          8.48287,
          8.92857,
          8.87097,
          8.98876,
          9.2504,
          9.84127,
          10.25237,
          10.48513,
          10.69767,
          11.07692,
          11.45038,
          11.83612,
          11.8797,
          12.07154,
          12.59259,
          13.25479,
          13.86861,
          14.16185,
          14.59227,
          14.58924,
          14.42577,
          14.26593,
          13.15068,
          12.89009,
          12.76882,
          12.63298,
          12.63158,
          12.35371,
          11.79487,
          11.39241,
          10.61174,
          10.13597,
          9.79192,
          9.69697,
          10.77482,
          10.81731,
          10.96544,
          10.27155,
          9.57944,
          8.91204,
          8.25688,
          7.61364,
          6.88488,
          6.62177,
          6.91193,
          7.18232,
          6.55738,
          5.96529,
          4.94092,
          5.03212,
          4.47761,
          3.82572,
          3.70763,
          3.48469,
          3.59029,
          4,
          3.44108,
          2.47423,
          2.35897,
          2.4565,
          2.76356,
          2.75229,
          3.16327,
          3.7871,
          4.29009,
          4.69388,
          4.89297,
          4.55466,
          4.33468,
          4.32596,
          4.30862,
          4.2957,
          4.28287,
          4.26587,
          4.1543,
          4.04339,
          3.52595,
          3.60624,
          3.79009,
          3.5818,
          3.57488,
          3.66442,
          3.45821,
          3.35249,
          3.24737,
          3.23501,
          3.51377,
          3.79147,
          3.97351,
          3.19849,
          2.15356,
          1.58879,
          1.6791,
          1.76744,
          1.67131,
          1.57553,
          1.75763,
          1.56682,
          1.2844,
          1.18721,
          1.36488,
          1.91431,
          2.84143,
          3.67985,
          3.66972,
          3.74771,
          3.92694,
          4.28832,
          4.27273,
          4.35572,
          4.52899,
          4.33213,
          4.12926,
          3.9356,
          3.83244,
          3.9929,
          3.9823,
          3.96476,
          4.13005,
          4.11199,
          4.18483,
          4.26087,
          4.2461,
          4.41176,
          4.48276,
          4.64716,
          4.8927,
          5.03413,
          5.2766,
          5.16949,
          5.06329,
          4.62185,
          4.43515,
          4.58716,
          4.65503,
          4.6396,
          5.19802,
          5.26316,
          5.23732,
          4.71162,
          4.3654,
          4.67365,
          4.81928,
          5.70281,
          6.16987,
          6.37959,
          6.19539,
          6.25495,
          5.64706,
          5.3125,
          4.82115,
          4.80993,
          5.03486,
          4.69592,
          4.36782,
          3.79939,
          3.39623,
          2.84858,
          3.06657,
          2.98063,
          2.67261,
          2.81899,
          3.18991,
          3.18283,
          3.0236,
          3.01471,
          3.15712,
          3.07467,
          2.9927,
          3.27988,
          3.12046,
          2.96671,
          3.2538,
          3.24675,
          3.01941,
          3.15638,
          3.22119,
          2.99786,
          2.84698,
          2.84091,
          2.764,
          2.75229,
          2.74455,
          2.81096,
          2.45098,
          2.51572,
          2.65178,
          2.36439,
          2.28849,
          2.4948,
          2.69896,
          2.90055,
          2.96552,
          2.60989,
          2.60274,
          2.5974,
          2.87081,
          2.86299,
          2.78722,
          3.125,
          3.11864,
          3.0426,
          2.83019,
          2.61745,
          2.54521,
          2.74431,
          2.60347,
          2.53165,
          2.7907,
          2.71703,
          2.84392,
          2.83267,
          2.82709,
          2.82152,
          2.88336,
          2.8123,
          3.00457,
          3.06189,
          3.25309,
          3.37882,
          3.03814,
          3.03226,
          2.76527,
          2.43434,
          2.23785,
          2.23357,
          2.16561,
          2.29008,
          2.2194,
          2.08597,
          1.89036,
          1.69705,
          1.63112,
          1.4402,
          1.37672,
          1.4384,
          1.68856,
          1.62297,
          1.74564,
          1.61692,
          1.4268,
          1.48607,
          1.48423,
          1.60692,
          1.66667,
          1.66667,
          1.7284,
          2.28113,
          2.09102,
          1.9656,
          2.14461,
          2.26438,
          2.62997,
          2.56254,
          2.62035,
          2.6764,
          2.79296,
          3.21797,
          3.76214,
          3.01386,
          3.13253,
          3.73494,
          3.59928,
          3.35129,
          3.4565,
          3.45033,
          3.44418,
          3.43602,
          3.7212,
          3.52941,
          2.98246,
          3.21826,
          3.56308,
          3.19396,
          2.72148,
          2.72148,
          2.59217,
          2.12766,
          1.89437,
          1.60367,
          1.1959,
          1.13636,
          1.36286,
          1.64399,
          1.24083,
          1.06922,
          1.46561,
          1.74746,
          1.516,
          2.02703,
          2.25352,
          2.48027,
          2.75746,
          3.14607,
          3.02521,
          2.17513,
          1.89415,
          1.94878,
          2.05556,
          2.21607,
          2.37832,
          2.04194,
          1.92837,
          2.0352,
          2.02629,
          1.68845,
          1.74008,
          2.29258,
          2.89776,
          3.16767,
          2.93958,
          2.54743,
          2.53917,
          3.19091,
          3.62162,
          3.34232,
          2.84487,
          3.05303,
          3.20684,
          3.36179,
          2.86929,
          2.54103,
          3.06716,
          3.64693,
          4.74183,
          4.3501,
          3.33855,
          3.33855,
          4.01879,
          3.63825,
          3.41792,
          3.61384,
          3.97727,
          4.18172,
          4.10467,
          3.92657,
          2.01207,
          1.40633,
          1.9687,
          2.52398,
          2.07577,
          2.42026,
          2.7982,
          2.59292,
          2.70989,
          2.69277,
          2.31789,
          1.89745,
          2.83383,
          3.6107,
          4.37327,
          4.10881,
          4.2947,
          4.14296,
          3.9749,
          3.90376,
          4.08841,
          4.93597,
          5.49751,
          5.30802,
          4.95332,
          3.73106,
          1.09992,
          -0.02223,
          -0.11359,
          0.00846,
          -0.44648,
          -0.57632,
          -1.01576,
          -1.22917,
          -1.95876,
          -1.48384,
          -1.37794,
          -0.22397,
          1.91459,
          2.81412,
          2.62111,
          2.15134,
          2.28617,
          2.20677,
          2.00355,
          1.12156,
          1.34078,
          1.15018,
          1.11831,
          1.1667,
          1.08454,
          1.43779,
          1.70078,
          2.1249,
          2.61924,
          3.07723,
          3.45897,
          3.50232,
          3.57988,
          3.755,
          3.81262,
          3.52227,
          3.45143,
          3.06207,
          3.00877,
          2.89818,
          2.58288,
          2.27316,
          1.73794,
          1.65387,
          1.41751,
          1.68593,
          1.94972,
          2.15568,
          1.79602,
          1.7595,
          1.68406,
          2.01814,
          1.51875,
          1.13881,
          1.39039,
          1.71579,
          1.88547,
          1.53881,
          1.09473,
          0.8768,
          1.23287,
          1.51284,
          1.55776,
          1.12047,
          1.61269,
          2.01513,
          2.16695,
          2.05898,
          1.97424,
          1.7151,
          1.68405,
          1.60954,
          1.23152,
          0.65312,
          -0.22993,
          -0.08703,
          -0.02203,
          -0.10403,
          0.03503,
          0.17957,
          0.22569,
          0.2413,
          0.00884,
          0.12762,
          0.43632,
          0.63872,
          1.2375,
          0.84728,
          0.89162,
          1.17263,
          1.07848,
          1.07929,
          0.86836,
          1.05532,
          1.54864,
          1.68592,
          1.68433,
          2.0508,
          2.51039,
          2.81036,
          2.4412,
          2.17622,
          1.85634,
          1.64057,
          1.72511,
          1.92812,
          2.18057,
          2.02076,
          2.17249,
          2.12993,
          2.15132,
          2.26347,
          2.33095,
          2.471,
          2.78192,
          2.80755,
          2.85412,
          2.64292,
          2.33206,
          2.49203,
          2.14733,
          2.00238,
          1.55068,
          1.52006,
          1.85314,
          1.99179,
          1.79352,
          1.64968,
          1.77976,
          1.74678,
          1.71662,
          1.76918,
          2.0622,
          2.31399,
          2.50042,
          2.33932,
          1.54287,
          0.3452,
          0.22641,
          0.71602,
          1.01414,
          1.30907,
          1.37148,
          1.18253,
          1.16756,
          1.32204,
          1.39478,
          1.69336,
          2.63052,
          4.13055,
          4.91503,
          5.28161,
          5.22151,
          5.18829,
          5.38363,
          6.23775,
          6.86239,
          7.19446,
          7.59528,
          7.95485,
          8.51522,
          8.22777,
          8.50233,
          8.93299,
          8.41318,
          8.22736,
          8.21485,
          7.76249,
          7.13535,
          6.44494
         ],
         "yaxis": "y"
        },
        {
         "hovertemplate": "variable=Forecast<br>date=%{x}<br>value=%{y}<extra></extra>",
         "legendgroup": "Forecast",
         "line": {
          "color": "#EF553B",
          "dash": "solid"
         },
         "marker": {
          "symbol": "circle"
         },
         "mode": "lines",
         "name": "Forecast",
         "showlegend": true,
         "type": "scattergl",
         "x": [
          "1960-11-30T00:00:00",
          "1960-12-31T00:00:00",
          "1961-01-31T00:00:00",
          "1961-02-28T00:00:00",
          "1961-03-31T00:00:00",
          "1961-04-30T00:00:00",
          "1961-05-31T00:00:00",
          "1961-06-30T00:00:00",
          "1961-07-31T00:00:00",
          "1961-08-31T00:00:00",
          "1961-09-30T00:00:00",
          "1961-10-31T00:00:00",
          "1961-11-30T00:00:00",
          "1961-12-31T00:00:00",
          "1962-01-31T00:00:00",
          "1962-02-28T00:00:00",
          "1962-03-31T00:00:00",
          "1962-04-30T00:00:00",
          "1962-05-31T00:00:00",
          "1962-06-30T00:00:00",
          "1962-07-31T00:00:00",
          "1962-08-31T00:00:00",
          "1962-09-30T00:00:00",
          "1962-10-31T00:00:00",
          "1962-11-30T00:00:00",
          "1962-12-31T00:00:00",
          "1963-01-31T00:00:00",
          "1963-02-28T00:00:00",
          "1963-03-31T00:00:00",
          "1963-04-30T00:00:00",
          "1963-05-31T00:00:00",
          "1963-06-30T00:00:00",
          "1963-07-31T00:00:00",
          "1963-08-31T00:00:00",
          "1963-09-30T00:00:00",
          "1963-10-31T00:00:00",
          "1963-11-30T00:00:00",
          "1963-12-31T00:00:00",
          "1964-01-31T00:00:00",
          "1964-02-29T00:00:00",
          "1964-03-31T00:00:00",
          "1964-04-30T00:00:00",
          "1964-05-31T00:00:00",
          "1964-06-30T00:00:00",
          "1964-07-31T00:00:00",
          "1964-08-31T00:00:00",
          "1964-09-30T00:00:00",
          "1964-10-31T00:00:00",
          "1964-11-30T00:00:00",
          "1964-12-31T00:00:00",
          "1965-01-31T00:00:00",
          "1965-02-28T00:00:00",
          "1965-03-31T00:00:00",
          "1965-04-30T00:00:00",
          "1965-05-31T00:00:00",
          "1965-06-30T00:00:00",
          "1965-07-31T00:00:00",
          "1965-08-31T00:00:00",
          "1965-09-30T00:00:00",
          "1965-10-31T00:00:00",
          "1965-11-30T00:00:00",
          "1965-12-31T00:00:00",
          "1966-01-31T00:00:00",
          "1966-02-28T00:00:00",
          "1966-03-31T00:00:00",
          "1966-04-30T00:00:00",
          "1966-05-31T00:00:00",
          "1966-06-30T00:00:00",
          "1966-07-31T00:00:00",
          "1966-08-31T00:00:00",
          "1966-09-30T00:00:00",
          "1966-10-31T00:00:00",
          "1966-11-30T00:00:00",
          "1966-12-31T00:00:00",
          "1967-01-31T00:00:00",
          "1967-02-28T00:00:00",
          "1967-03-31T00:00:00",
          "1967-04-30T00:00:00",
          "1967-05-31T00:00:00",
          "1967-06-30T00:00:00",
          "1967-07-31T00:00:00",
          "1967-08-31T00:00:00",
          "1967-09-30T00:00:00",
          "1967-10-31T00:00:00",
          "1967-11-30T00:00:00",
          "1967-12-31T00:00:00",
          "1968-01-31T00:00:00",
          "1968-02-29T00:00:00",
          "1968-03-31T00:00:00",
          "1968-04-30T00:00:00",
          "1968-05-31T00:00:00",
          "1968-06-30T00:00:00",
          "1968-07-31T00:00:00",
          "1968-08-31T00:00:00",
          "1968-09-30T00:00:00",
          "1968-10-31T00:00:00",
          "1968-11-30T00:00:00",
          "1968-12-31T00:00:00",
          "1969-01-31T00:00:00",
          "1969-02-28T00:00:00",
          "1969-03-31T00:00:00",
          "1969-04-30T00:00:00",
          "1969-05-31T00:00:00",
          "1969-06-30T00:00:00",
          "1969-07-31T00:00:00",
          "1969-08-31T00:00:00",
          "1969-09-30T00:00:00",
          "1969-10-31T00:00:00",
          "1969-11-30T00:00:00",
          "1969-12-31T00:00:00",
          "1970-01-31T00:00:00",
          "1970-02-28T00:00:00",
          "1970-03-31T00:00:00",
          "1970-04-30T00:00:00",
          "1970-05-31T00:00:00",
          "1970-06-30T00:00:00",
          "1970-07-31T00:00:00",
          "1970-08-31T00:00:00",
          "1970-09-30T00:00:00",
          "1970-10-31T00:00:00",
          "1970-11-30T00:00:00",
          "1970-12-31T00:00:00",
          "1971-01-31T00:00:00",
          "1971-02-28T00:00:00",
          "1971-03-31T00:00:00",
          "1971-04-30T00:00:00",
          "1971-05-31T00:00:00",
          "1971-06-30T00:00:00",
          "1971-07-31T00:00:00",
          "1971-08-31T00:00:00",
          "1971-09-30T00:00:00",
          "1971-10-31T00:00:00",
          "1971-11-30T00:00:00",
          "1971-12-31T00:00:00",
          "1972-01-31T00:00:00",
          "1972-02-29T00:00:00",
          "1972-03-31T00:00:00",
          "1972-04-30T00:00:00",
          "1972-05-31T00:00:00",
          "1972-06-30T00:00:00",
          "1972-07-31T00:00:00",
          "1972-08-31T00:00:00",
          "1972-09-30T00:00:00",
          "1972-10-31T00:00:00",
          "1972-11-30T00:00:00",
          "1972-12-31T00:00:00",
          "1973-01-31T00:00:00",
          "1973-02-28T00:00:00",
          "1973-03-31T00:00:00",
          "1973-04-30T00:00:00",
          "1973-05-31T00:00:00",
          "1973-06-30T00:00:00",
          "1973-07-31T00:00:00",
          "1973-08-31T00:00:00",
          "1973-09-30T00:00:00",
          "1973-10-31T00:00:00",
          "1973-11-30T00:00:00",
          "1973-12-31T00:00:00",
          "1974-01-31T00:00:00",
          "1974-02-28T00:00:00",
          "1974-03-31T00:00:00",
          "1974-04-30T00:00:00",
          "1974-05-31T00:00:00",
          "1974-06-30T00:00:00",
          "1974-07-31T00:00:00",
          "1974-08-31T00:00:00",
          "1974-09-30T00:00:00",
          "1974-10-31T00:00:00",
          "1974-11-30T00:00:00",
          "1974-12-31T00:00:00",
          "1975-01-31T00:00:00",
          "1975-02-28T00:00:00",
          "1975-03-31T00:00:00",
          "1975-04-30T00:00:00",
          "1975-05-31T00:00:00",
          "1975-06-30T00:00:00",
          "1975-07-31T00:00:00",
          "1975-08-31T00:00:00",
          "1975-09-30T00:00:00",
          "1975-10-31T00:00:00",
          "1975-11-30T00:00:00",
          "1975-12-31T00:00:00",
          "1976-01-31T00:00:00",
          "1976-02-29T00:00:00",
          "1976-03-31T00:00:00",
          "1976-04-30T00:00:00",
          "1976-05-31T00:00:00",
          "1976-06-30T00:00:00",
          "1976-07-31T00:00:00",
          "1976-08-31T00:00:00",
          "1976-09-30T00:00:00",
          "1976-10-31T00:00:00",
          "1976-11-30T00:00:00",
          "1976-12-31T00:00:00",
          "1977-01-31T00:00:00",
          "1977-02-28T00:00:00",
          "1977-03-31T00:00:00",
          "1977-04-30T00:00:00",
          "1977-05-31T00:00:00",
          "1977-06-30T00:00:00",
          "1977-07-31T00:00:00",
          "1977-08-31T00:00:00",
          "1977-09-30T00:00:00",
          "1977-10-31T00:00:00",
          "1977-11-30T00:00:00",
          "1977-12-31T00:00:00",
          "1978-01-31T00:00:00",
          "1978-02-28T00:00:00",
          "1978-03-31T00:00:00",
          "1978-04-30T00:00:00",
          "1978-05-31T00:00:00",
          "1978-06-30T00:00:00",
          "1978-07-31T00:00:00",
          "1978-08-31T00:00:00",
          "1978-09-30T00:00:00",
          "1978-10-31T00:00:00",
          "1978-11-30T00:00:00",
          "1978-12-31T00:00:00",
          "1979-01-31T00:00:00",
          "1979-02-28T00:00:00",
          "1979-03-31T00:00:00",
          "1979-04-30T00:00:00",
          "1979-05-31T00:00:00",
          "1979-06-30T00:00:00",
          "1979-07-31T00:00:00",
          "1979-08-31T00:00:00",
          "1979-09-30T00:00:00",
          "1979-10-31T00:00:00",
          "1979-11-30T00:00:00",
          "1979-12-31T00:00:00",
          "1980-01-31T00:00:00",
          "1980-02-29T00:00:00",
          "1980-03-31T00:00:00",
          "1980-04-30T00:00:00",
          "1980-05-31T00:00:00",
          "1980-06-30T00:00:00",
          "1980-07-31T00:00:00",
          "1980-08-31T00:00:00",
          "1980-09-30T00:00:00",
          "1980-10-31T00:00:00",
          "1980-11-30T00:00:00",
          "1980-12-31T00:00:00",
          "1981-01-31T00:00:00",
          "1981-02-28T00:00:00",
          "1981-03-31T00:00:00",
          "1981-04-30T00:00:00",
          "1981-05-31T00:00:00",
          "1981-06-30T00:00:00",
          "1981-07-31T00:00:00",
          "1981-08-31T00:00:00",
          "1981-09-30T00:00:00",
          "1981-10-31T00:00:00",
          "1981-11-30T00:00:00",
          "1981-12-31T00:00:00",
          "1982-01-31T00:00:00",
          "1982-02-28T00:00:00",
          "1982-03-31T00:00:00",
          "1982-04-30T00:00:00",
          "1982-05-31T00:00:00",
          "1982-06-30T00:00:00",
          "1982-07-31T00:00:00",
          "1982-08-31T00:00:00",
          "1982-09-30T00:00:00",
          "1982-10-31T00:00:00",
          "1982-11-30T00:00:00",
          "1982-12-31T00:00:00",
          "1983-01-31T00:00:00",
          "1983-02-28T00:00:00",
          "1983-03-31T00:00:00",
          "1983-04-30T00:00:00",
          "1983-05-31T00:00:00",
          "1983-06-30T00:00:00",
          "1983-07-31T00:00:00",
          "1983-08-31T00:00:00",
          "1983-09-30T00:00:00",
          "1983-10-31T00:00:00",
          "1983-11-30T00:00:00",
          "1983-12-31T00:00:00",
          "1984-01-31T00:00:00",
          "1984-02-29T00:00:00",
          "1984-03-31T00:00:00",
          "1984-04-30T00:00:00",
          "1984-05-31T00:00:00",
          "1984-06-30T00:00:00",
          "1984-07-31T00:00:00",
          "1984-08-31T00:00:00",
          "1984-09-30T00:00:00",
          "1984-10-31T00:00:00",
          "1984-11-30T00:00:00",
          "1984-12-31T00:00:00",
          "1985-01-31T00:00:00",
          "1985-02-28T00:00:00",
          "1985-03-31T00:00:00",
          "1985-04-30T00:00:00",
          "1985-05-31T00:00:00",
          "1985-06-30T00:00:00",
          "1985-07-31T00:00:00",
          "1985-08-31T00:00:00",
          "1985-09-30T00:00:00",
          "1985-10-31T00:00:00",
          "1985-11-30T00:00:00",
          "1985-12-31T00:00:00",
          "1986-01-31T00:00:00",
          "1986-02-28T00:00:00",
          "1986-03-31T00:00:00",
          "1986-04-30T00:00:00",
          "1986-05-31T00:00:00",
          "1986-06-30T00:00:00",
          "1986-07-31T00:00:00",
          "1986-08-31T00:00:00",
          "1986-09-30T00:00:00",
          "1986-10-31T00:00:00",
          "1986-11-30T00:00:00",
          "1986-12-31T00:00:00",
          "1987-01-31T00:00:00",
          "1987-02-28T00:00:00",
          "1987-03-31T00:00:00",
          "1987-04-30T00:00:00",
          "1987-05-31T00:00:00",
          "1987-06-30T00:00:00",
          "1987-07-31T00:00:00",
          "1987-08-31T00:00:00",
          "1987-09-30T00:00:00",
          "1987-10-31T00:00:00",
          "1987-11-30T00:00:00",
          "1987-12-31T00:00:00",
          "1988-01-31T00:00:00",
          "1988-02-29T00:00:00",
          "1988-03-31T00:00:00",
          "1988-04-30T00:00:00",
          "1988-05-31T00:00:00",
          "1988-06-30T00:00:00",
          "1988-07-31T00:00:00",
          "1988-08-31T00:00:00",
          "1988-09-30T00:00:00",
          "1988-10-31T00:00:00",
          "1988-11-30T00:00:00",
          "1988-12-31T00:00:00",
          "1989-01-31T00:00:00",
          "1989-02-28T00:00:00",
          "1989-03-31T00:00:00",
          "1989-04-30T00:00:00",
          "1989-05-31T00:00:00",
          "1989-06-30T00:00:00",
          "1989-07-31T00:00:00",
          "1989-08-31T00:00:00",
          "1989-09-30T00:00:00",
          "1989-10-31T00:00:00",
          "1989-11-30T00:00:00",
          "1989-12-31T00:00:00",
          "1990-01-31T00:00:00",
          "1990-02-28T00:00:00",
          "1990-03-31T00:00:00",
          "1990-04-30T00:00:00",
          "1990-05-31T00:00:00",
          "1990-06-30T00:00:00",
          "1990-07-31T00:00:00",
          "1990-08-31T00:00:00",
          "1990-09-30T00:00:00",
          "1990-10-31T00:00:00",
          "1990-11-30T00:00:00",
          "1990-12-31T00:00:00",
          "1991-01-31T00:00:00",
          "1991-02-28T00:00:00",
          "1991-03-31T00:00:00",
          "1991-04-30T00:00:00",
          "1991-05-31T00:00:00",
          "1991-06-30T00:00:00",
          "1991-07-31T00:00:00",
          "1991-08-31T00:00:00",
          "1991-09-30T00:00:00",
          "1991-10-31T00:00:00",
          "1991-11-30T00:00:00",
          "1991-12-31T00:00:00",
          "1992-01-31T00:00:00",
          "1992-02-29T00:00:00",
          "1992-03-31T00:00:00",
          "1992-04-30T00:00:00",
          "1992-05-31T00:00:00",
          "1992-06-30T00:00:00",
          "1992-07-31T00:00:00",
          "1992-08-31T00:00:00",
          "1992-09-30T00:00:00",
          "1992-10-31T00:00:00",
          "1992-11-30T00:00:00",
          "1992-12-31T00:00:00",
          "1993-01-31T00:00:00",
          "1993-02-28T00:00:00",
          "1993-03-31T00:00:00",
          "1993-04-30T00:00:00",
          "1993-05-31T00:00:00",
          "1993-06-30T00:00:00",
          "1993-07-31T00:00:00",
          "1993-08-31T00:00:00",
          "1993-09-30T00:00:00",
          "1993-10-31T00:00:00",
          "1993-11-30T00:00:00",
          "1993-12-31T00:00:00",
          "1994-01-31T00:00:00",
          "1994-02-28T00:00:00",
          "1994-03-31T00:00:00",
          "1994-04-30T00:00:00",
          "1994-05-31T00:00:00",
          "1994-06-30T00:00:00",
          "1994-07-31T00:00:00",
          "1994-08-31T00:00:00",
          "1994-09-30T00:00:00",
          "1994-10-31T00:00:00",
          "1994-11-30T00:00:00",
          "1994-12-31T00:00:00",
          "1995-01-31T00:00:00",
          "1995-02-28T00:00:00",
          "1995-03-31T00:00:00",
          "1995-04-30T00:00:00",
          "1995-05-31T00:00:00",
          "1995-06-30T00:00:00",
          "1995-07-31T00:00:00",
          "1995-08-31T00:00:00",
          "1995-09-30T00:00:00",
          "1995-10-31T00:00:00",
          "1995-11-30T00:00:00",
          "1995-12-31T00:00:00",
          "1996-01-31T00:00:00",
          "1996-02-29T00:00:00",
          "1996-03-31T00:00:00",
          "1996-04-30T00:00:00",
          "1996-05-31T00:00:00",
          "1996-06-30T00:00:00",
          "1996-07-31T00:00:00",
          "1996-08-31T00:00:00",
          "1996-09-30T00:00:00",
          "1996-10-31T00:00:00",
          "1996-11-30T00:00:00",
          "1996-12-31T00:00:00",
          "1997-01-31T00:00:00",
          "1997-02-28T00:00:00",
          "1997-03-31T00:00:00",
          "1997-04-30T00:00:00",
          "1997-05-31T00:00:00",
          "1997-06-30T00:00:00",
          "1997-07-31T00:00:00",
          "1997-08-31T00:00:00",
          "1997-09-30T00:00:00",
          "1997-10-31T00:00:00",
          "1997-11-30T00:00:00",
          "1997-12-31T00:00:00",
          "1998-01-31T00:00:00",
          "1998-02-28T00:00:00",
          "1998-03-31T00:00:00",
          "1998-04-30T00:00:00",
          "1998-05-31T00:00:00",
          "1998-06-30T00:00:00",
          "1998-07-31T00:00:00",
          "1998-08-31T00:00:00",
          "1998-09-30T00:00:00",
          "1998-10-31T00:00:00",
          "1998-11-30T00:00:00",
          "1998-12-31T00:00:00",
          "1999-01-31T00:00:00",
          "1999-02-28T00:00:00",
          "1999-03-31T00:00:00",
          "1999-04-30T00:00:00",
          "1999-05-31T00:00:00",
          "1999-06-30T00:00:00",
          "1999-07-31T00:00:00",
          "1999-08-31T00:00:00",
          "1999-09-30T00:00:00",
          "1999-10-31T00:00:00",
          "1999-11-30T00:00:00",
          "1999-12-31T00:00:00",
          "2000-01-31T00:00:00",
          "2000-02-29T00:00:00",
          "2000-03-31T00:00:00",
          "2000-04-30T00:00:00",
          "2000-05-31T00:00:00",
          "2000-06-30T00:00:00",
          "2000-07-31T00:00:00",
          "2000-08-31T00:00:00",
          "2000-09-30T00:00:00",
          "2000-10-31T00:00:00",
          "2000-11-30T00:00:00",
          "2000-12-31T00:00:00",
          "2001-01-31T00:00:00",
          "2001-02-28T00:00:00",
          "2001-03-31T00:00:00",
          "2001-04-30T00:00:00",
          "2001-05-31T00:00:00",
          "2001-06-30T00:00:00",
          "2001-07-31T00:00:00",
          "2001-08-31T00:00:00",
          "2001-09-30T00:00:00",
          "2001-10-31T00:00:00",
          "2001-11-30T00:00:00",
          "2001-12-31T00:00:00",
          "2002-01-31T00:00:00",
          "2002-02-28T00:00:00",
          "2002-03-31T00:00:00",
          "2002-04-30T00:00:00",
          "2002-05-31T00:00:00",
          "2002-06-30T00:00:00",
          "2002-07-31T00:00:00",
          "2002-08-31T00:00:00",
          "2002-09-30T00:00:00",
          "2002-10-31T00:00:00",
          "2002-11-30T00:00:00",
          "2002-12-31T00:00:00",
          "2003-01-31T00:00:00",
          "2003-02-28T00:00:00",
          "2003-03-31T00:00:00",
          "2003-04-30T00:00:00",
          "2003-05-31T00:00:00",
          "2003-06-30T00:00:00",
          "2003-07-31T00:00:00",
          "2003-08-31T00:00:00",
          "2003-09-30T00:00:00",
          "2003-10-31T00:00:00",
          "2003-11-30T00:00:00",
          "2003-12-31T00:00:00",
          "2004-01-31T00:00:00",
          "2004-02-29T00:00:00",
          "2004-03-31T00:00:00",
          "2004-04-30T00:00:00",
          "2004-05-31T00:00:00",
          "2004-06-30T00:00:00",
          "2004-07-31T00:00:00",
          "2004-08-31T00:00:00",
          "2004-09-30T00:00:00",
          "2004-10-31T00:00:00",
          "2004-11-30T00:00:00",
          "2004-12-31T00:00:00",
          "2005-01-31T00:00:00",
          "2005-02-28T00:00:00",
          "2005-03-31T00:00:00",
          "2005-04-30T00:00:00",
          "2005-05-31T00:00:00",
          "2005-06-30T00:00:00",
          "2005-07-31T00:00:00",
          "2005-08-31T00:00:00",
          "2005-09-30T00:00:00",
          "2005-10-31T00:00:00",
          "2005-11-30T00:00:00",
          "2005-12-31T00:00:00",
          "2006-01-31T00:00:00",
          "2006-02-28T00:00:00",
          "2006-03-31T00:00:00",
          "2006-04-30T00:00:00",
          "2006-05-31T00:00:00",
          "2006-06-30T00:00:00",
          "2006-07-31T00:00:00",
          "2006-08-31T00:00:00",
          "2006-09-30T00:00:00",
          "2006-10-31T00:00:00",
          "2006-11-30T00:00:00",
          "2006-12-31T00:00:00",
          "2007-01-31T00:00:00",
          "2007-02-28T00:00:00",
          "2007-03-31T00:00:00",
          "2007-04-30T00:00:00",
          "2007-05-31T00:00:00",
          "2007-06-30T00:00:00",
          "2007-07-31T00:00:00",
          "2007-08-31T00:00:00",
          "2007-09-30T00:00:00",
          "2007-10-31T00:00:00",
          "2007-11-30T00:00:00",
          "2007-12-31T00:00:00",
          "2008-01-31T00:00:00",
          "2008-02-29T00:00:00",
          "2008-03-31T00:00:00",
          "2008-04-30T00:00:00",
          "2008-05-31T00:00:00",
          "2008-06-30T00:00:00",
          "2008-07-31T00:00:00",
          "2008-08-31T00:00:00",
          "2008-09-30T00:00:00",
          "2008-10-31T00:00:00",
          "2008-11-30T00:00:00",
          "2008-12-31T00:00:00",
          "2009-01-31T00:00:00",
          "2009-02-28T00:00:00",
          "2009-03-31T00:00:00",
          "2009-04-30T00:00:00",
          "2009-05-31T00:00:00",
          "2009-06-30T00:00:00",
          "2009-07-31T00:00:00",
          "2009-08-31T00:00:00",
          "2009-09-30T00:00:00",
          "2009-10-31T00:00:00",
          "2009-11-30T00:00:00",
          "2009-12-31T00:00:00",
          "2010-01-31T00:00:00",
          "2010-02-28T00:00:00",
          "2010-03-31T00:00:00",
          "2010-04-30T00:00:00",
          "2010-05-31T00:00:00",
          "2010-06-30T00:00:00",
          "2010-07-31T00:00:00",
          "2010-08-31T00:00:00",
          "2010-09-30T00:00:00",
          "2010-10-31T00:00:00",
          "2010-11-30T00:00:00",
          "2010-12-31T00:00:00",
          "2011-01-31T00:00:00",
          "2011-02-28T00:00:00",
          "2011-03-31T00:00:00",
          "2011-04-30T00:00:00",
          "2011-05-31T00:00:00",
          "2011-06-30T00:00:00",
          "2011-07-31T00:00:00",
          "2011-08-31T00:00:00",
          "2011-09-30T00:00:00",
          "2011-10-31T00:00:00",
          "2011-11-30T00:00:00",
          "2011-12-31T00:00:00",
          "2012-01-31T00:00:00",
          "2012-02-29T00:00:00",
          "2012-03-31T00:00:00",
          "2012-04-30T00:00:00",
          "2012-05-31T00:00:00",
          "2012-06-30T00:00:00",
          "2012-07-31T00:00:00",
          "2012-08-31T00:00:00",
          "2012-09-30T00:00:00",
          "2012-10-31T00:00:00",
          "2012-11-30T00:00:00",
          "2012-12-31T00:00:00",
          "2013-01-31T00:00:00",
          "2013-02-28T00:00:00",
          "2013-03-31T00:00:00",
          "2013-04-30T00:00:00",
          "2013-05-31T00:00:00",
          "2013-06-30T00:00:00",
          "2013-07-31T00:00:00",
          "2013-08-31T00:00:00",
          "2013-09-30T00:00:00",
          "2013-10-31T00:00:00",
          "2013-11-30T00:00:00",
          "2013-12-31T00:00:00",
          "2014-01-31T00:00:00",
          "2014-02-28T00:00:00",
          "2014-03-31T00:00:00",
          "2014-04-30T00:00:00",
          "2014-05-31T00:00:00",
          "2014-06-30T00:00:00",
          "2014-07-31T00:00:00",
          "2014-08-31T00:00:00",
          "2014-09-30T00:00:00",
          "2014-10-31T00:00:00",
          "2014-11-30T00:00:00",
          "2014-12-31T00:00:00",
          "2015-01-31T00:00:00",
          "2015-02-28T00:00:00",
          "2015-03-31T00:00:00",
          "2015-04-30T00:00:00",
          "2015-05-31T00:00:00",
          "2015-06-30T00:00:00",
          "2015-07-31T00:00:00",
          "2015-08-31T00:00:00",
          "2015-09-30T00:00:00",
          "2015-10-31T00:00:00",
          "2015-11-30T00:00:00",
          "2015-12-31T00:00:00",
          "2016-01-31T00:00:00",
          "2016-02-29T00:00:00",
          "2016-03-31T00:00:00",
          "2016-04-30T00:00:00",
          "2016-05-31T00:00:00",
          "2016-06-30T00:00:00",
          "2016-07-31T00:00:00",
          "2016-08-31T00:00:00",
          "2016-09-30T00:00:00",
          "2016-10-31T00:00:00",
          "2016-11-30T00:00:00",
          "2016-12-31T00:00:00",
          "2017-01-31T00:00:00",
          "2017-02-28T00:00:00",
          "2017-03-31T00:00:00",
          "2017-04-30T00:00:00",
          "2017-05-31T00:00:00",
          "2017-06-30T00:00:00",
          "2017-07-31T00:00:00",
          "2017-08-31T00:00:00",
          "2017-09-30T00:00:00",
          "2017-10-31T00:00:00",
          "2017-11-30T00:00:00",
          "2017-12-31T00:00:00",
          "2018-01-31T00:00:00",
          "2018-02-28T00:00:00",
          "2018-03-31T00:00:00",
          "2018-04-30T00:00:00",
          "2018-05-31T00:00:00",
          "2018-06-30T00:00:00",
          "2018-07-31T00:00:00",
          "2018-08-31T00:00:00",
          "2018-09-30T00:00:00",
          "2018-10-31T00:00:00",
          "2018-11-30T00:00:00",
          "2018-12-31T00:00:00",
          "2019-01-31T00:00:00",
          "2019-02-28T00:00:00",
          "2019-03-31T00:00:00",
          "2019-04-30T00:00:00",
          "2019-05-31T00:00:00",
          "2019-06-30T00:00:00",
          "2019-07-31T00:00:00",
          "2019-08-31T00:00:00",
          "2019-09-30T00:00:00",
          "2019-10-31T00:00:00",
          "2019-11-30T00:00:00",
          "2019-12-31T00:00:00",
          "2020-01-31T00:00:00",
          "2020-02-29T00:00:00",
          "2020-03-31T00:00:00",
          "2020-04-30T00:00:00",
          "2020-05-31T00:00:00",
          "2020-06-30T00:00:00",
          "2020-07-31T00:00:00",
          "2020-08-31T00:00:00",
          "2020-09-30T00:00:00",
          "2020-10-31T00:00:00",
          "2020-11-30T00:00:00",
          "2020-12-31T00:00:00",
          "2021-01-31T00:00:00",
          "2021-02-28T00:00:00",
          "2021-03-31T00:00:00",
          "2021-04-30T00:00:00",
          "2021-05-31T00:00:00",
          "2021-06-30T00:00:00",
          "2021-07-31T00:00:00",
          "2021-08-31T00:00:00",
          "2021-09-30T00:00:00",
          "2021-10-31T00:00:00",
          "2021-11-30T00:00:00",
          "2021-12-31T00:00:00",
          "2022-01-31T00:00:00",
          "2022-02-28T00:00:00",
          "2022-03-31T00:00:00",
          "2022-04-30T00:00:00",
          "2022-05-31T00:00:00",
          "2022-06-30T00:00:00",
          "2022-07-31T00:00:00",
          "2022-08-31T00:00:00",
          "2022-09-30T00:00:00",
          "2022-10-31T00:00:00"
         ],
         "xaxis": "x",
         "y": [
          1.50810749518087,
          1.50810749518087,
          1.50810749518087,
          0.867899008115438,
          0.867899008115438,
          0.867899008115438,
          1.20536217190497,
          1.20536217190497,
          1.20536217190497,
          0.705171255876426,
          0.705171255876426,
          0.705171255876426,
          0.893655049150995,
          0.893655049150995,
          0.893655049150995,
          1.30740864901109,
          1.30740864901109,
          1.30740864901109,
          1.20213713268032,
          1.20213713268032,
          1.20213713268032,
          1.30043347782594,
          1.30043347782594,
          1.30043347782594,
          1.22896368467674,
          1.22896368467674,
          1.22896368467674,
          1.03684094418706,
          1.03684094418706,
          1.03684094418706,
          1.36383633963919,
          1.36383633963919,
          1.36383633963919,
          1.39346061005043,
          1.39346061005043,
          1.39346061005043,
          1.48747675817567,
          1.48747675817567,
          1.48747675817567,
          1.4628820960699,
          1.4628820960699,
          1.4628820960699,
          1.07421875000001,
          1.07421875000001,
          1.07421875000001,
          1.26609674277676,
          1.26609674277676,
          1.26609674277676,
          1.16391852570314,
          1.16391852570314,
          1.16391852570314,
          1.64622336991608,
          1.64622336991608,
          1.64622336991608,
          1.71765968867418,
          1.71765968867418,
          1.71765968867418,
          1.78456935242576,
          1.78456935242576,
          1.78456935242576,
          2.41823798870778,
          2.41823798870778,
          2.41823798870778,
          2.68868423838248,
          2.68868423838248,
          2.68868423838248,
          3.27176781002638,
          3.27176781002638,
          3.27176781002638,
          3.5695538057743,
          3.5695538057743,
          3.5695538057743,
          2.87081339712924,
          2.87081339712924,
          2.87081339712924,
          2.56674569632003,
          2.56674569632003,
          2.56674569632003,
          2.70822687787429,
          2.70822687787429,
          2.70822687787429,
          2.99036999493153,
          2.99036999493153,
          2.99036999493153,
          3.7411526794742,
          3.7411526794742,
          3.7411526794742,
          4.12060301507533,
          4.12060301507533,
          4.12060301507533,
          4.47761194029854,
          4.47761194029854,
          4.47761194029854,
          4.6259842519685,
          4.6259842519685,
          4.6259842519685,
          4.87329434697859,
          4.87329434697859,
          4.87329434697859,
          5.50193050193055,
          5.50193050193055,
          5.50193050193055,
          5.52380952380953,
          5.52380952380953,
          5.52380952380953,
          5.83254938852304,
          5.83254938852304,
          5.83254938852304,
          6.22676579925645,
          6.22676579925645,
          6.22676579925645,
          6.03842634949678,
          6.03842634949678,
          6.03842634949678,
          5.68592057761734,
          5.68592057761734,
          5.68592057761734,
          5.60000000000003,
          5.60000000000003,
          5.60000000000003,
          4.81189851268595,
          4.81189851268595,
          4.81189851268595,
          4.31406384814498,
          4.31406384814498,
          4.31406384814498,
          4.26985482493592,
          4.26985482493592,
          4.26985482493592,
          3.53535353535353,
          3.53535353535353,
          3.53535353535353,
          3.5058430717863,
          3.5058430717863,
          3.5058430717863,
          3.22580645161294,
          3.22580645161294,
          3.22580645161294,
          3.03030303030308,
          3.03030303030308,
          3.03030303030308,
          3.33333333333335,
          3.33333333333335,
          3.33333333333335,
          4.11290322580645,
          4.11290322580645,
          4.11290322580645,
          5.60897435897426,
          5.60897435897426,
          5.60897435897426,
          6.83624801271857,
          6.83624801271857,
          6.83624801271857,
          8.41856805664831,
          8.41856805664831,
          8.41856805664831,
          9.91479473276533,
          9.91479473276533,
          9.91479473276533,
          10.546282245827,
          10.546282245827,
          10.546282245827,
          11.4583333333333,
          11.4583333333333,
          11.4583333333333,
          12.0464441219158,
          12.0464441219158,
          12.0464441219158,
          11.1346018322762,
          11.1346018322762,
          11.1346018322762,
          9.54015099519563,
          9.54015099519563,
          9.54015099519563,
          8.67823765020029,
          8.67823765020029,
          8.67823765020029,
          7.38341968911918,
          7.38341968911918,
          7.38341968911918,
          6.34115409004443,
          6.34115409004443,
          6.34115409004443,
          6.01503759398497,
          6.01503759398497,
          6.01503759398497,
          5.58968058968054,
          5.58968058968054,
          5.58968058968054,
          5.18697225572978,
          5.18697225572978,
          5.18697225572978,
          5.90339892665472,
          5.90339892665472,
          5.90339892665472,
          6.7966903073286,
          6.7966903073286,
          6.7966903073286,
          6.57358929610239,
          6.57358929610239,
          6.57358929610239,
          6.59403669724769,
          6.59403669724769,
          6.59403669724769,
          6.47522522522521,
          6.47522522522521,
          6.47522522522521,
          7.02822357498616,
          7.02822357498616,
          7.02822357498616,
          8.02401746724893,
          8.02401746724893,
          8.02401746724893,
          8.92953200645514,
          8.92953200645514,
          8.92953200645514,
          9.78318350079324,
          9.78318350079324,
          9.78318350079324,
          10.7549120992761,
          10.7549120992761,
          10.7549120992761,
          11.723092470945,
          11.723092470945,
          11.723092470945,
          12.6419753086419,
          12.6419753086419,
          12.6419753086419,
          14.2100192678227,
          14.2100192678227,
          14.2100192678227,
          14.4257703081232,
          14.4257703081232,
          14.4257703081232,
          12.9353233830845,
          12.9353233830845,
          12.9353233830845,
          12.5383603682595,
          12.5383603682595,
          12.5383603682595,
          11.2610712779418,
          11.2610712779418,
          11.2610712779418,
          9.87352101183194,
          9.87352101183194,
          9.87352101183194,
          10.8530236283541,
          10.8530236283541,
          10.8530236283541,
          9.58317101675106,
          9.58317101675106,
          9.58317101675106,
          7.58150113722522,
          7.58150113722522,
          7.58150113722522,
          6.9067953954697,
          6.9067953954697,
          6.9067953954697,
          5.81647398843931,
          5.81647398843931,
          5.81647398843931,
          4.44365446142909,
          4.44365446142909,
          4.44365446142909,
          3.59408033826636,
          3.59408033826636,
          3.59408033826636,
          3.29975686002088,
          3.29975686002088,
          3.29975686002088,
          2.52645954250596,
          2.52645954250596,
          2.52645954250596,
          3.2334921715453,
          3.2334921715453,
          3.2334921715453,
          4.62585034013605,
          4.62585034013605,
          4.62585034013605,
          4.40484196368524,
          4.40484196368524,
          4.40484196368524,
          4.29570429570429,
          4.29570429570429,
          4.29570429570429,
          4.15430267062311,
          4.15430267062311,
          4.15430267062311,
          3.6410923276983,
          3.6410923276983,
          3.6410923276983,
          3.60708534621582,
          3.60708534621582,
          3.60708534621582,
          3.35249042145596,
          3.35249042145596,
          3.35249042145596,
          3.51377018043687,
          3.51377018043687,
          3.51377018043687,
          3.10539523212046,
          3.10539523212046,
          3.10539523212046,
          1.67858253030772,
          1.67858253030772,
          1.67858253030772,
          1.66821130676551,
          1.66821130676551,
          1.66821130676551,
          1.34556574923549,
          1.34556574923549,
          1.34556574923549,
          2.03833282628539,
          2.03833282628539,
          2.03833282628539,
          3.69917456435337,
          3.69917456435337,
          3.69917456435337,
          4.16286842904893,
          4.16286842904893,
          4.16286842904893,
          4.4055522027761,
          4.4055522027761,
          4.4055522027761,
          3.96541443053069,
          3.96541443053069,
          3.96541443053069,
          3.97995283018872,
          3.97995283018872,
          3.97995283018872,
          4.14235705950993,
          4.14235705950993,
          4.14235705950993,
          4.30635838150285,
          4.30635838150285,
          4.30635838150285,
          4.67450530542007,
          4.67450530542007,
          4.67450530542007,
          5.16019279841224,
          5.16019279841224,
          5.16019279841224,
          4.70588235294118,
          4.70588235294118,
          4.70588235294118,
          4.62732058742035,
          4.62732058742035,
          4.62732058742035,
          5.2328767123288,
          5.2328767123288,
          5.2328767123288,
          4.58344567268806,
          4.58344567268806,
          4.58344567268806,
          5.56447298020329,
          5.56447298020329,
          5.56447298020329,
          6.27648305084747,
          6.27648305084747,
          6.27648305084747,
          5.25904712314499,
          5.25904712314499,
          5.25904712314499,
          4.84660995101834,
          4.84660995101834,
          4.84660995101834,
          3.85200202736951,
          3.85200202736951,
          3.85200202736951,
          2.96536257164216,
          2.96536257164216,
          2.96536257164216,
          2.89389067524117,
          2.89389067524117,
          2.89389067524117,
          3.07351856405203,
          3.07351856405203,
          3.07351856405203,
          3.07467057101024,
          3.07467057101024,
          3.07467057101024,
          3.12197483059055,
          3.12197483059055,
          3.12197483059055,
          3.17307692307692,
          3.17307692307692,
          3.17307692307692,
          3.12500000000007,
          3.12500000000007,
          3.12500000000007,
          2.81723484848482,
          2.81723484848482,
          2.81723484848482,
          2.76930298052096,
          2.76930298052096,
          2.76930298052096,
          2.53960857409131,
          2.53960857409131,
          2.53960857409131,
          2.38260467268102,
          2.38260467268102,
          2.38260467268102,
          2.85516923785405,
          2.85516923785405,
          2.85516923785405,
          2.60333409454214,
          2.60333409454214,
          2.60333409454214,
          2.84026357645994,
          2.84026357645994,
          2.84026357645994,
          3.09534568459105,
          3.09534568459105,
          3.09534568459105,
          2.66398029997757,
          2.66398029997757,
          2.66398029997757,
          2.62630758958377,
          2.62630758958377,
          2.62630758958377,
          2.78391515687137,
          2.78391515687137,
          2.78391515687137,
          2.82708744247205,
          2.82708744247205,
          2.82708744247205,
          2.90013083296992,
          2.90013083296992,
          2.90013083296992,
          3.23140316634138,
          3.23140316634138,
          3.23140316634138,
          2.94496990541704,
          2.94496990541704,
          2.94496990541704,
          2.30179028132995,
          2.30179028132995,
          2.30179028132995,
          2.22504767959313,
          2.22504767959313,
          2.22504767959313,
          1.89075630252101,
          1.89075630252101,
          1.89075630252101,
          1.48256420964712,
          1.48256420964712,
          1.48256420964712,
          1.58333333333332,
          1.58333333333332,
          1.58333333333332,
          1.59618573797682,
          1.59618573797682,
          1.59618573797682,
          1.52577319587632,
          1.52577319587632,
          1.52577319587632,
          1.68724279835391,
          1.68724279835391,
          1.68724279835391,
          2.11238720262509,
          2.11238720262509,
          2.11238720262509,
          2.34645990614161,
          2.34645990614161,
          2.34645990614161,
          2.61982128350935,
          2.61982128350935,
          2.61982128350935,
          3.25779036827194,
          3.25779036827194,
          3.25779036827194,
          3.2938341032336,
          3.2938341032336,
          3.2938341032336,
          3.46889952153108,
          3.46889952153108,
          3.46889952153108,
          3.44349891153766,
          3.44349891153766,
          3.44349891153766,
          3.4097589653145,
          3.4097589653145,
          3.4097589653145,
          3.32490764145436,
          3.32490764145436,
          3.32490764145436,
          2.67822736030827,
          2.67822736030827,
          2.67822736030827,
          1.87488042854407,
          1.87488042854407,
          1.87488042854407,
          1.23176046996404,
          1.23176046996404,
          1.23176046996404,
          1.31727512231842,
          1.31727512231842,
          1.31727512231842,
          1.57628072809158,
          1.57628072809158,
          1.57628072809158,
          2.25352112676059,
          2.25352112676059,
          2.25352112676059,
          2.97641332834143,
          2.97641332834143,
          2.97641332834143,
          2.00594353640417,
          2.00594353640417,
          2.00594353640417,
          2.21688527618695,
          2.21688527618695,
          2.21688527618695,
          2.0018365472911,
          2.0018365472911,
          2.0018365472911,
          1.81785129976367,
          1.81785129976367,
          1.81785129976367,
          2.78587035688273,
          2.78587035688273,
          2.78587035688273,
          2.67485993132114,
          2.67485993132114,
          2.67485993132114,
          3.38494778537989,
          3.38494778537989,
          3.38494778537989,
          3.03517229066236,
          3.03517229066236,
          3.03517229066236,
          2.92294065544732,
          2.92294065544732,
          2.92294065544732,
          3.81975004400635,
          3.81975004400635,
          3.81975004400635,
          3.67467781260887,
          3.67467781260887,
          3.67467781260887,
          3.69086813377235,
          3.69086813377235,
          3.69086813377235,
          3.92426850258173,
          3.92426850258173,
          3.92426850258173,
          3.34011529331978,
          3.34011529331978,
          3.34011529331978,
          1.96539559885769,
          1.96539559885769,
          1.96539559885769,
          2.43165106951869,
          2.43165106951869,
          2.43165106951869,
          2.6652865187148,
          2.6652865187148,
          2.6652865187148,
          2.3489745693191,
          2.3489745693191,
          2.3489745693191,
          4.03113673805604,
          4.03113673805604,
          4.03113673805604,
          4.13703542371248,
          4.13703542371248,
          4.13703542371248,
          4.31042131464624,
          4.31042131464624,
          4.31042131464624,
          5.25250193566385,
          5.25250193566385,
          5.25250193566385,
          1.59580280267119,
          1.59580280267119,
          1.59580280267119,
          -0.184236788138637,
          -0.184236788138637,
          -0.184236788138637,
          -0.942140043580923,
          -0.942140043580923,
          -0.942140043580923,
          -1.60695601317735,
          -1.60695601317735,
          -1.60695601317735,
          1.48765638005695,
          1.48765638005695,
          1.48765638005695,
          2.35257002854976,
          2.35257002854976,
          2.35257002854976,
          1.77527356636237,
          1.77527356636237,
          1.77527356636237,
          1.20288159100483,
          1.20288159100483,
          1.20288159100483,
          1.22978390084323,
          1.22978390084323,
          1.22978390084323,
          2.14821766479281,
          2.14821766479281,
          2.14821766479281,
          3.34610641026428,
          3.34610641026428,
          3.34610641026428,
          3.71595113512784,
          3.71595113512784,
          3.71595113512784,
          3.34472771079217,
          3.34472771079217,
          3.34472771079217,
          2.8293233613208,
          2.8293233613208,
          2.8293233613208,
          1.88791830252115,
          1.88791830252115,
          1.88791830252115,
          1.68485971054328,
          1.68485971054328,
          1.68485971054328,
          1.90356783167098,
          1.90356783167098,
          1.90356783167098,
          1.74020187509672,
          1.74020187509672,
          1.74020187509672,
          1.41472326142438,
          1.41472326142438,
          1.41472326142438,
          1.50495342432383,
          1.50495342432383,
          1.50495342432383,
          1.20730491508519,
          1.20730491508519,
          1.20730491508519,
          1.42990796357572,
          1.42990796357572,
          1.42990796357572,
          2.08034361151216,
          2.08034361151216,
          2.08034361151216,
          1.79097013859126,
          1.79097013859126,
          1.79097013859126,
          1.16400564849512,
          1.16400564849512,
          1.16400564849512,
          -0.112893163173044,
          -0.112893163173044,
          -0.112893163173044,
          0.0370100912305729,
          0.0370100912305729,
          0.0370100912305729,
          0.15861096099985,
          0.15861096099985,
          0.15861096099985,
          0.400469982340407,
          0.400469982340407,
          0.400469982340407,
          0.991835029352818,
          0.991835029352818,
          0.991835029352818,
          1.11003263560659,
          1.11003263560659,
          1.11003263560659,
          1.15714756188996,
          1.15714756188996,
          1.15714756188996,
          1.80697985034568,
          1.80697985034568,
          1.80697985034568,
          2.58713054014487,
          2.58713054014487,
          2.58713054014487,
          1.89058824020451,
          1.89058824020451,
          1.89058824020451,
          1.9449393340741,
          1.9449393340741,
          1.9449393340741,
          2.10778024350086,
          2.10778024350086,
          2.10778024350086,
          2.22100405185938,
          2.22100405185938,
          2.22100405185938,
          2.68761264951657,
          2.68761264951657,
          2.68761264951657,
          2.64316222764902,
          2.64316222764902,
          2.64316222764902,
          2.2050248410778,
          2.2050248410778,
          2.2050248410778,
          1.62016574770351,
          1.62016574770351,
          1.62016574770351,
          1.83579928275375,
          1.83579928275375,
          1.83579928275375,
          1.76933739876687,
          1.76933739876687,
          1.76933739876687,
          2.01643647684255,
          2.01643647684255,
          2.01643647684255,
          2.10244276054838,
          2.10244276054838,
          2.10244276054838,
          0.444735189312833,
          0.444735189312833,
          0.444735189312833,
          1.25384590366533,
          1.25384590366533,
          1.25384590366533,
          1.20009413517183,
          1.20009413517183,
          1.20009413517183,
          1.89726417599191,
          1.89726417599191,
          1.89726417599191,
          4.81322838330595,
          4.81322838330595,
          4.81322838330595,
          5.29054506348992,
          5.29054506348992,
          5.29054506348992,
          6.72125135918702,
          6.72125135918702,
          6.72125135918702,
          8.00038959034824,
          8.00038959034824,
          8.00038959034824,
          8.58063131836165,
          8.58063131836165,
          8.58063131836165,
          8.31761217342494,
          8.31761217342494,
          8.31761217342494,
          7.05465890320915,
          7.05465890320915,
          7.05465890320915
         ],
         "yaxis": "y"
        }
       ],
       "layout": {
        "legend": {
         "title": {
          "text": "variable"
         },
         "tracegroupgap": 0
        },
        "template": {
         "data": {
          "bar": [
           {
            "error_x": {
             "color": "#2a3f5f"
            },
            "error_y": {
             "color": "#2a3f5f"
            },
            "marker": {
             "line": {
              "color": "#E5ECF6",
              "width": 0.5
             },
             "pattern": {
              "fillmode": "overlay",
              "size": 10,
              "solidity": 0.2
             }
            },
            "type": "bar"
           }
          ],
          "barpolar": [
           {
            "marker": {
             "line": {
              "color": "#E5ECF6",
              "width": 0.5
             },
             "pattern": {
              "fillmode": "overlay",
              "size": 10,
              "solidity": 0.2
             }
            },
            "type": "barpolar"
           }
          ],
          "carpet": [
           {
            "aaxis": {
             "endlinecolor": "#2a3f5f",
             "gridcolor": "white",
             "linecolor": "white",
             "minorgridcolor": "white",
             "startlinecolor": "#2a3f5f"
            },
            "baxis": {
             "endlinecolor": "#2a3f5f",
             "gridcolor": "white",
             "linecolor": "white",
             "minorgridcolor": "white",
             "startlinecolor": "#2a3f5f"
            },
            "type": "carpet"
           }
          ],
          "choropleth": [
           {
            "colorbar": {
             "outlinewidth": 0,
             "ticks": ""
            },
            "type": "choropleth"
           }
          ],
          "contour": [
           {
            "colorbar": {
             "outlinewidth": 0,
             "ticks": ""
            },
            "colorscale": [
             [
              0,
              "#0d0887"
             ],
             [
              0.1111111111111111,
              "#46039f"
             ],
             [
              0.2222222222222222,
              "#7201a8"
             ],
             [
              0.3333333333333333,
              "#9c179e"
             ],
             [
              0.4444444444444444,
              "#bd3786"
             ],
             [
              0.5555555555555556,
              "#d8576b"
             ],
             [
              0.6666666666666666,
              "#ed7953"
             ],
             [
              0.7777777777777778,
              "#fb9f3a"
             ],
             [
              0.8888888888888888,
              "#fdca26"
             ],
             [
              1,
              "#f0f921"
             ]
            ],
            "type": "contour"
           }
          ],
          "contourcarpet": [
           {
            "colorbar": {
             "outlinewidth": 0,
             "ticks": ""
            },
            "type": "contourcarpet"
           }
          ],
          "heatmap": [
           {
            "colorbar": {
             "outlinewidth": 0,
             "ticks": ""
            },
            "colorscale": [
             [
              0,
              "#0d0887"
             ],
             [
              0.1111111111111111,
              "#46039f"
             ],
             [
              0.2222222222222222,
              "#7201a8"
             ],
             [
              0.3333333333333333,
              "#9c179e"
             ],
             [
              0.4444444444444444,
              "#bd3786"
             ],
             [
              0.5555555555555556,
              "#d8576b"
             ],
             [
              0.6666666666666666,
              "#ed7953"
             ],
             [
              0.7777777777777778,
              "#fb9f3a"
             ],
             [
              0.8888888888888888,
              "#fdca26"
             ],
             [
              1,
              "#f0f921"
             ]
            ],
            "type": "heatmap"
           }
          ],
          "heatmapgl": [
           {
            "colorbar": {
             "outlinewidth": 0,
             "ticks": ""
            },
            "colorscale": [
             [
              0,
              "#0d0887"
             ],
             [
              0.1111111111111111,
              "#46039f"
             ],
             [
              0.2222222222222222,
              "#7201a8"
             ],
             [
              0.3333333333333333,
              "#9c179e"
             ],
             [
              0.4444444444444444,
              "#bd3786"
             ],
             [
              0.5555555555555556,
              "#d8576b"
             ],
             [
              0.6666666666666666,
              "#ed7953"
             ],
             [
              0.7777777777777778,
              "#fb9f3a"
             ],
             [
              0.8888888888888888,
              "#fdca26"
             ],
             [
              1,
              "#f0f921"
             ]
            ],
            "type": "heatmapgl"
           }
          ],
          "histogram": [
           {
            "marker": {
             "pattern": {
              "fillmode": "overlay",
              "size": 10,
              "solidity": 0.2
             }
            },
            "type": "histogram"
           }
          ],
          "histogram2d": [
           {
            "colorbar": {
             "outlinewidth": 0,
             "ticks": ""
            },
            "colorscale": [
             [
              0,
              "#0d0887"
             ],
             [
              0.1111111111111111,
              "#46039f"
             ],
             [
              0.2222222222222222,
              "#7201a8"
             ],
             [
              0.3333333333333333,
              "#9c179e"
             ],
             [
              0.4444444444444444,
              "#bd3786"
             ],
             [
              0.5555555555555556,
              "#d8576b"
             ],
             [
              0.6666666666666666,
              "#ed7953"
             ],
             [
              0.7777777777777778,
              "#fb9f3a"
             ],
             [
              0.8888888888888888,
              "#fdca26"
             ],
             [
              1,
              "#f0f921"
             ]
            ],
            "type": "histogram2d"
           }
          ],
          "histogram2dcontour": [
           {
            "colorbar": {
             "outlinewidth": 0,
             "ticks": ""
            },
            "colorscale": [
             [
              0,
              "#0d0887"
             ],
             [
              0.1111111111111111,
              "#46039f"
             ],
             [
              0.2222222222222222,
              "#7201a8"
             ],
             [
              0.3333333333333333,
              "#9c179e"
             ],
             [
              0.4444444444444444,
              "#bd3786"
             ],
             [
              0.5555555555555556,
              "#d8576b"
             ],
             [
              0.6666666666666666,
              "#ed7953"
             ],
             [
              0.7777777777777778,
              "#fb9f3a"
             ],
             [
              0.8888888888888888,
              "#fdca26"
             ],
             [
              1,
              "#f0f921"
             ]
            ],
            "type": "histogram2dcontour"
           }
          ],
          "mesh3d": [
           {
            "colorbar": {
             "outlinewidth": 0,
             "ticks": ""
            },
            "type": "mesh3d"
           }
          ],
          "parcoords": [
           {
            "line": {
             "colorbar": {
              "outlinewidth": 0,
              "ticks": ""
             }
            },
            "type": "parcoords"
           }
          ],
          "pie": [
           {
            "automargin": true,
            "type": "pie"
           }
          ],
          "scatter": [
           {
            "marker": {
             "colorbar": {
              "outlinewidth": 0,
              "ticks": ""
             }
            },
            "type": "scatter"
           }
          ],
          "scatter3d": [
           {
            "line": {
             "colorbar": {
              "outlinewidth": 0,
              "ticks": ""
             }
            },
            "marker": {
             "colorbar": {
              "outlinewidth": 0,
              "ticks": ""
             }
            },
            "type": "scatter3d"
           }
          ],
          "scattercarpet": [
           {
            "marker": {
             "colorbar": {
              "outlinewidth": 0,
              "ticks": ""
             }
            },
            "type": "scattercarpet"
           }
          ],
          "scattergeo": [
           {
            "marker": {
             "colorbar": {
              "outlinewidth": 0,
              "ticks": ""
             }
            },
            "type": "scattergeo"
           }
          ],
          "scattergl": [
           {
            "marker": {
             "colorbar": {
              "outlinewidth": 0,
              "ticks": ""
             }
            },
            "type": "scattergl"
           }
          ],
          "scattermapbox": [
           {
            "marker": {
             "colorbar": {
              "outlinewidth": 0,
              "ticks": ""
             }
            },
            "type": "scattermapbox"
           }
          ],
          "scatterpolar": [
           {
            "marker": {
             "colorbar": {
              "outlinewidth": 0,
              "ticks": ""
             }
            },
            "type": "scatterpolar"
           }
          ],
          "scatterpolargl": [
           {
            "marker": {
             "colorbar": {
              "outlinewidth": 0,
              "ticks": ""
             }
            },
            "type": "scatterpolargl"
           }
          ],
          "scatterternary": [
           {
            "marker": {
             "colorbar": {
              "outlinewidth": 0,
              "ticks": ""
             }
            },
            "type": "scatterternary"
           }
          ],
          "surface": [
           {
            "colorbar": {
             "outlinewidth": 0,
             "ticks": ""
            },
            "colorscale": [
             [
              0,
              "#0d0887"
             ],
             [
              0.1111111111111111,
              "#46039f"
             ],
             [
              0.2222222222222222,
              "#7201a8"
             ],
             [
              0.3333333333333333,
              "#9c179e"
             ],
             [
              0.4444444444444444,
              "#bd3786"
             ],
             [
              0.5555555555555556,
              "#d8576b"
             ],
             [
              0.6666666666666666,
              "#ed7953"
             ],
             [
              0.7777777777777778,
              "#fb9f3a"
             ],
             [
              0.8888888888888888,
              "#fdca26"
             ],
             [
              1,
              "#f0f921"
             ]
            ],
            "type": "surface"
           }
          ],
          "table": [
           {
            "cells": {
             "fill": {
              "color": "#EBF0F8"
             },
             "line": {
              "color": "white"
             }
            },
            "header": {
             "fill": {
              "color": "#C8D4E3"
             },
             "line": {
              "color": "white"
             }
            },
            "type": "table"
           }
          ]
         },
         "layout": {
          "annotationdefaults": {
           "arrowcolor": "#2a3f5f",
           "arrowhead": 0,
           "arrowwidth": 1
          },
          "autotypenumbers": "strict",
          "coloraxis": {
           "colorbar": {
            "outlinewidth": 0,
            "ticks": ""
           }
          },
          "colorscale": {
           "diverging": [
            [
             0,
             "#8e0152"
            ],
            [
             0.1,
             "#c51b7d"
            ],
            [
             0.2,
             "#de77ae"
            ],
            [
             0.3,
             "#f1b6da"
            ],
            [
             0.4,
             "#fde0ef"
            ],
            [
             0.5,
             "#f7f7f7"
            ],
            [
             0.6,
             "#e6f5d0"
            ],
            [
             0.7,
             "#b8e186"
            ],
            [
             0.8,
             "#7fbc41"
            ],
            [
             0.9,
             "#4d9221"
            ],
            [
             1,
             "#276419"
            ]
           ],
           "sequential": [
            [
             0,
             "#0d0887"
            ],
            [
             0.1111111111111111,
             "#46039f"
            ],
            [
             0.2222222222222222,
             "#7201a8"
            ],
            [
             0.3333333333333333,
             "#9c179e"
            ],
            [
             0.4444444444444444,
             "#bd3786"
            ],
            [
             0.5555555555555556,
             "#d8576b"
            ],
            [
             0.6666666666666666,
             "#ed7953"
            ],
            [
             0.7777777777777778,
             "#fb9f3a"
            ],
            [
             0.8888888888888888,
             "#fdca26"
            ],
            [
             1,
             "#f0f921"
            ]
           ],
           "sequentialminus": [
            [
             0,
             "#0d0887"
            ],
            [
             0.1111111111111111,
             "#46039f"
            ],
            [
             0.2222222222222222,
             "#7201a8"
            ],
            [
             0.3333333333333333,
             "#9c179e"
            ],
            [
             0.4444444444444444,
             "#bd3786"
            ],
            [
             0.5555555555555556,
             "#d8576b"
            ],
            [
             0.6666666666666666,
             "#ed7953"
            ],
            [
             0.7777777777777778,
             "#fb9f3a"
            ],
            [
             0.8888888888888888,
             "#fdca26"
            ],
            [
             1,
             "#f0f921"
            ]
           ]
          },
          "colorway": [
           "#636efa",
           "#EF553B",
           "#00cc96",
           "#ab63fa",
           "#FFA15A",
           "#19d3f3",
           "#FF6692",
           "#B6E880",
           "#FF97FF",
           "#FECB52"
          ],
          "font": {
           "color": "#2a3f5f"
          },
          "geo": {
           "bgcolor": "white",
           "lakecolor": "white",
           "landcolor": "#E5ECF6",
           "showlakes": true,
           "showland": true,
           "subunitcolor": "white"
          },
          "hoverlabel": {
           "align": "left"
          },
          "hovermode": "closest",
          "mapbox": {
           "style": "light"
          },
          "paper_bgcolor": "white",
          "plot_bgcolor": "#E5ECF6",
          "polar": {
           "angularaxis": {
            "gridcolor": "white",
            "linecolor": "white",
            "ticks": ""
           },
           "bgcolor": "#E5ECF6",
           "radialaxis": {
            "gridcolor": "white",
            "linecolor": "white",
            "ticks": ""
           }
          },
          "scene": {
           "xaxis": {
            "backgroundcolor": "#E5ECF6",
            "gridcolor": "white",
            "gridwidth": 2,
            "linecolor": "white",
            "showbackground": true,
            "ticks": "",
            "zerolinecolor": "white"
           },
           "yaxis": {
            "backgroundcolor": "#E5ECF6",
            "gridcolor": "white",
            "gridwidth": 2,
            "linecolor": "white",
            "showbackground": true,
            "ticks": "",
            "zerolinecolor": "white"
           },
           "zaxis": {
            "backgroundcolor": "#E5ECF6",
            "gridcolor": "white",
            "gridwidth": 2,
            "linecolor": "white",
            "showbackground": true,
            "ticks": "",
            "zerolinecolor": "white"
           }
          },
          "shapedefaults": {
           "line": {
            "color": "#2a3f5f"
           }
          },
          "ternary": {
           "aaxis": {
            "gridcolor": "white",
            "linecolor": "white",
            "ticks": ""
           },
           "baxis": {
            "gridcolor": "white",
            "linecolor": "white",
            "ticks": ""
           },
           "bgcolor": "#E5ECF6",
           "caxis": {
            "gridcolor": "white",
            "linecolor": "white",
            "ticks": ""
           }
          },
          "title": {
           "x": 0.05
          },
          "xaxis": {
           "automargin": true,
           "gridcolor": "white",
           "linecolor": "white",
           "ticks": "",
           "title": {
            "standoff": 15
           },
           "zerolinecolor": "white",
           "zerolinewidth": 2
          },
          "yaxis": {
           "automargin": true,
           "gridcolor": "white",
           "linecolor": "white",
           "ticks": "",
           "title": {
            "standoff": 15
           },
           "zerolinecolor": "white",
           "zerolinewidth": 2
          }
         }
        },
        "title": {
         "text": "CPI"
        },
        "xaxis": {
         "anchor": "y",
         "domain": [
          0,
          1
         ],
         "title": {
          "text": "date"
         }
        },
        "yaxis": {
         "anchor": "x",
         "domain": [
          0,
          1
         ],
         "title": {
          "text": "value"
         }
        }
       }
      }
     },
     "metadata": {},
     "output_type": "display_data"
    }
   ],
   "source": [
    "fig = px.line(cpi, x=\"date\", y=[\"CPI\",\"Forecast\"], title='CPI')\n",
    "fig.show()"
   ]
  },
  {
   "cell_type": "code",
   "execution_count": null,
   "metadata": {},
   "outputs": [],
   "source": []
  },
  {
   "cell_type": "code",
   "execution_count": null,
   "metadata": {},
   "outputs": [],
   "source": []
  },
  {
   "cell_type": "code",
   "execution_count": 422,
   "metadata": {},
   "outputs": [],
   "source": [
    "# merge forecast with merged df\n",
    "\n",
    "stocks_cpi_forecast = pd.merge(merged, forecast[[\"Value\", \"date\"]], how=\"left\", left_on=\"datadate\", right_on=\"date\").drop(\"date_y\", axis=1)"
   ]
  },
  {
   "cell_type": "code",
   "execution_count": 423,
   "metadata": {},
   "outputs": [
    {
     "data": {
      "text/plain": [
       "4255567"
      ]
     },
     "execution_count": 423,
     "metadata": {},
     "output_type": "execute_result"
    }
   ],
   "source": [
    "stocks_cpi_forecast[\"Value\"].isna().sum()"
   ]
  },
  {
   "cell_type": "code",
   "execution_count": 424,
   "metadata": {},
   "outputs": [
    {
     "data": {
      "text/plain": [
       "1     537642\n",
       "11    536112\n",
       "10    533757\n",
       "8     532491\n",
       "7     530892\n",
       "5     530025\n",
       "4     527871\n",
       "2     526777\n",
       "Name: datadate, dtype: int64"
      ]
     },
     "execution_count": 424,
     "metadata": {},
     "output_type": "execute_result"
    }
   ],
   "source": [
    "# get rows that are na for forecast and get value counts of month in datadate\n",
    "\n",
    "stocks_cpi_forecast[stocks_cpi_forecast[\"Value\"].isna()][\"datadate\"].dt.month.value_counts()"
   ]
  },
  {
   "cell_type": "code",
   "execution_count": 425,
   "metadata": {},
   "outputs": [],
   "source": [
    "# sort values by datadate\n",
    "\n",
    "stocks_cpi_forecast = stocks_cpi_forecast.sort_values(\"datadate\")\n"
   ]
  },
  {
   "cell_type": "code",
   "execution_count": 426,
   "metadata": {},
   "outputs": [],
   "source": [
    "# forward fill missing forecast\n",
    "\n",
    "stocks_cpi_forecast[\"Forecast\"] = stocks_cpi_forecast[\"Value\"].fillna(method='ffill')"
   ]
  },
  {
   "cell_type": "code",
   "execution_count": 427,
   "metadata": {},
   "outputs": [
    {
     "data": {
      "text/html": [
       "<div>\n",
       "<style scoped>\n",
       "    .dataframe tbody tr th:only-of-type {\n",
       "        vertical-align: middle;\n",
       "    }\n",
       "\n",
       "    .dataframe tbody tr th {\n",
       "        vertical-align: top;\n",
       "    }\n",
       "\n",
       "    .dataframe thead th {\n",
       "        text-align: right;\n",
       "    }\n",
       "</style>\n",
       "<table border=\"1\" class=\"dataframe\">\n",
       "  <thead>\n",
       "    <tr style=\"text-align: right;\">\n",
       "      <th></th>\n",
       "      <th>gvkey</th>\n",
       "      <th>iid</th>\n",
       "      <th>datadate</th>\n",
       "      <th>tic</th>\n",
       "      <th>cusip</th>\n",
       "      <th>conm</th>\n",
       "      <th>dvrate</th>\n",
       "      <th>cshtrm</th>\n",
       "      <th>prccm</th>\n",
       "      <th>trfm</th>\n",
       "      <th>...</th>\n",
       "      <th>gsubind</th>\n",
       "      <th>sic</th>\n",
       "      <th>spcindcd</th>\n",
       "      <th>spcseccd</th>\n",
       "      <th>date_x</th>\n",
       "      <th>CPI</th>\n",
       "      <th>diff</th>\n",
       "      <th>Inflation</th>\n",
       "      <th>Value</th>\n",
       "      <th>Forecast</th>\n",
       "    </tr>\n",
       "  </thead>\n",
       "  <tbody>\n",
       "    <tr>\n",
       "      <th>343034</th>\n",
       "      <td>3015</td>\n",
       "      <td>01</td>\n",
       "      <td>1962-02-28</td>\n",
       "      <td>CCN.2</td>\n",
       "      <td>170520100</td>\n",
       "      <td>CHRIS-CRAFT INDS</td>\n",
       "      <td>NaN</td>\n",
       "      <td>40500.0</td>\n",
       "      <td>29.7500</td>\n",
       "      <td>1.0000</td>\n",
       "      <td>...</td>\n",
       "      <td>25401020.0</td>\n",
       "      <td>4833.0</td>\n",
       "      <td>150.0</td>\n",
       "      <td>978.0</td>\n",
       "      <td>1962-02-28</td>\n",
       "      <td>1.1059</td>\n",
       "      <td>0.20107</td>\n",
       "      <td>mid</td>\n",
       "      <td>NaN</td>\n",
       "      <td>NaN</td>\n",
       "    </tr>\n",
       "    <tr>\n",
       "      <th>1530951</th>\n",
       "      <td>9965</td>\n",
       "      <td>01</td>\n",
       "      <td>1962-02-28</td>\n",
       "      <td>SQD.1</td>\n",
       "      <td>852206101</td>\n",
       "      <td>SQUARE D CO</td>\n",
       "      <td>1.12</td>\n",
       "      <td>NaN</td>\n",
       "      <td>36.7500</td>\n",
       "      <td>1.0000</td>\n",
       "      <td>...</td>\n",
       "      <td>20104010.0</td>\n",
       "      <td>3613.0</td>\n",
       "      <td>220.0</td>\n",
       "      <td>925.0</td>\n",
       "      <td>1962-02-28</td>\n",
       "      <td>1.1059</td>\n",
       "      <td>0.20107</td>\n",
       "      <td>mid</td>\n",
       "      <td>NaN</td>\n",
       "      <td>NaN</td>\n",
       "    </tr>\n",
       "    <tr>\n",
       "      <th>610739</th>\n",
       "      <td>4596</td>\n",
       "      <td>01</td>\n",
       "      <td>1962-02-28</td>\n",
       "      <td>6724B</td>\n",
       "      <td>435767108</td>\n",
       "      <td>HOLLY FARMS CORP</td>\n",
       "      <td>1.20</td>\n",
       "      <td>NaN</td>\n",
       "      <td>31.2500</td>\n",
       "      <td>1.0000</td>\n",
       "      <td>...</td>\n",
       "      <td>30202030.0</td>\n",
       "      <td>2015.0</td>\n",
       "      <td>250.0</td>\n",
       "      <td>978.0</td>\n",
       "      <td>1962-02-28</td>\n",
       "      <td>1.1059</td>\n",
       "      <td>0.20107</td>\n",
       "      <td>mid</td>\n",
       "      <td>NaN</td>\n",
       "      <td>NaN</td>\n",
       "    </tr>\n",
       "    <tr>\n",
       "      <th>335240</th>\n",
       "      <td>2968</td>\n",
       "      <td>01</td>\n",
       "      <td>1962-02-28</td>\n",
       "      <td>JPM</td>\n",
       "      <td>46625H100</td>\n",
       "      <td>JPMORGAN CHASE &amp; CO</td>\n",
       "      <td>2.80</td>\n",
       "      <td>NaN</td>\n",
       "      <td>97.2500</td>\n",
       "      <td>1.0000</td>\n",
       "      <td>...</td>\n",
       "      <td>40101010.0</td>\n",
       "      <td>6020.0</td>\n",
       "      <td>850.0</td>\n",
       "      <td>800.0</td>\n",
       "      <td>1962-02-28</td>\n",
       "      <td>1.1059</td>\n",
       "      <td>0.20107</td>\n",
       "      <td>mid</td>\n",
       "      <td>NaN</td>\n",
       "      <td>NaN</td>\n",
       "    </tr>\n",
       "    <tr>\n",
       "      <th>373519</th>\n",
       "      <td>3176</td>\n",
       "      <td>01</td>\n",
       "      <td>1962-02-28</td>\n",
       "      <td>CR.1</td>\n",
       "      <td>194828109</td>\n",
       "      <td>COLLINS &amp; AIKMAN CORP  -OLD</td>\n",
       "      <td>0.80</td>\n",
       "      <td>NaN</td>\n",
       "      <td>28.5000</td>\n",
       "      <td>1.0070</td>\n",
       "      <td>...</td>\n",
       "      <td>25203030.0</td>\n",
       "      <td>2221.0</td>\n",
       "      <td>468.0</td>\n",
       "      <td>976.0</td>\n",
       "      <td>1962-02-28</td>\n",
       "      <td>1.1059</td>\n",
       "      <td>0.20107</td>\n",
       "      <td>mid</td>\n",
       "      <td>NaN</td>\n",
       "      <td>NaN</td>\n",
       "    </tr>\n",
       "    <tr>\n",
       "      <th>...</th>\n",
       "      <td>...</td>\n",
       "      <td>...</td>\n",
       "      <td>...</td>\n",
       "      <td>...</td>\n",
       "      <td>...</td>\n",
       "      <td>...</td>\n",
       "      <td>...</td>\n",
       "      <td>...</td>\n",
       "      <td>...</td>\n",
       "      <td>...</td>\n",
       "      <td>...</td>\n",
       "      <td>...</td>\n",
       "      <td>...</td>\n",
       "      <td>...</td>\n",
       "      <td>...</td>\n",
       "      <td>...</td>\n",
       "      <td>...</td>\n",
       "      <td>...</td>\n",
       "      <td>...</td>\n",
       "      <td>...</td>\n",
       "      <td>...</td>\n",
       "    </tr>\n",
       "    <tr>\n",
       "      <th>4942860</th>\n",
       "      <td>118181</td>\n",
       "      <td>01</td>\n",
       "      <td>2023-01-31</td>\n",
       "      <td>SRAFF</td>\n",
       "      <td>800028102</td>\n",
       "      <td>SANDFIRE RES AMERICA INC</td>\n",
       "      <td>NaN</td>\n",
       "      <td>762334.0</td>\n",
       "      <td>0.0902</td>\n",
       "      <td>2.0862</td>\n",
       "      <td>...</td>\n",
       "      <td>15104020.0</td>\n",
       "      <td>1000.0</td>\n",
       "      <td>NaN</td>\n",
       "      <td>NaN</td>\n",
       "      <td>NaT</td>\n",
       "      <td>NaN</td>\n",
       "      <td>NaN</td>\n",
       "      <td>NaN</td>\n",
       "      <td>NaN</td>\n",
       "      <td>5.608941</td>\n",
       "    </tr>\n",
       "    <tr>\n",
       "      <th>5847365</th>\n",
       "      <td>176343</td>\n",
       "      <td>01</td>\n",
       "      <td>2023-01-31</td>\n",
       "      <td>CLNE</td>\n",
       "      <td>184499101</td>\n",
       "      <td>CLEAN ENERGY FUELS CORP</td>\n",
       "      <td>NaN</td>\n",
       "      <td>36379133.0</td>\n",
       "      <td>5.6600</td>\n",
       "      <td>1.0000</td>\n",
       "      <td>...</td>\n",
       "      <td>10102030.0</td>\n",
       "      <td>5500.0</td>\n",
       "      <td>NaN</td>\n",
       "      <td>NaN</td>\n",
       "      <td>NaT</td>\n",
       "      <td>NaN</td>\n",
       "      <td>NaN</td>\n",
       "      <td>NaN</td>\n",
       "      <td>NaN</td>\n",
       "      <td>5.608941</td>\n",
       "    </tr>\n",
       "    <tr>\n",
       "      <th>3291276</th>\n",
       "      <td>27582</td>\n",
       "      <td>01</td>\n",
       "      <td>2023-01-31</td>\n",
       "      <td>GSTC</td>\n",
       "      <td>37960P104</td>\n",
       "      <td>GLOBESTAR THERAPEUTICS CORP</td>\n",
       "      <td>NaN</td>\n",
       "      <td>105076751.0</td>\n",
       "      <td>0.0075</td>\n",
       "      <td>1.0000</td>\n",
       "      <td>...</td>\n",
       "      <td>35201010.0</td>\n",
       "      <td>2836.0</td>\n",
       "      <td>NaN</td>\n",
       "      <td>NaN</td>\n",
       "      <td>NaT</td>\n",
       "      <td>NaN</td>\n",
       "      <td>NaN</td>\n",
       "      <td>NaN</td>\n",
       "      <td>NaN</td>\n",
       "      <td>5.608941</td>\n",
       "    </tr>\n",
       "    <tr>\n",
       "      <th>3290378</th>\n",
       "      <td>27555</td>\n",
       "      <td>01</td>\n",
       "      <td>2023-01-31</td>\n",
       "      <td>KIDS</td>\n",
       "      <td>68752L100</td>\n",
       "      <td>ORTHOPEDIATRICS CORP</td>\n",
       "      <td>NaN</td>\n",
       "      <td>2798049.0</td>\n",
       "      <td>47.1300</td>\n",
       "      <td>1.0000</td>\n",
       "      <td>...</td>\n",
       "      <td>35101020.0</td>\n",
       "      <td>3842.0</td>\n",
       "      <td>NaN</td>\n",
       "      <td>NaN</td>\n",
       "      <td>NaT</td>\n",
       "      <td>NaN</td>\n",
       "      <td>NaN</td>\n",
       "      <td>NaN</td>\n",
       "      <td>NaN</td>\n",
       "      <td>5.608941</td>\n",
       "    </tr>\n",
       "    <tr>\n",
       "      <th>6384143</th>\n",
       "      <td>353945</td>\n",
       "      <td>90</td>\n",
       "      <td>2023-01-31</td>\n",
       "      <td>ACLLY</td>\n",
       "      <td>00449R109</td>\n",
       "      <td>ACCELLERON INDUSTRIES AG</td>\n",
       "      <td>NaN</td>\n",
       "      <td>NaN</td>\n",
       "      <td>23.4780</td>\n",
       "      <td>1.0000</td>\n",
       "      <td>...</td>\n",
       "      <td>20104020.0</td>\n",
       "      <td>3621.0</td>\n",
       "      <td>NaN</td>\n",
       "      <td>NaN</td>\n",
       "      <td>NaT</td>\n",
       "      <td>NaN</td>\n",
       "      <td>NaN</td>\n",
       "      <td>NaN</td>\n",
       "      <td>NaN</td>\n",
       "      <td>5.608941</td>\n",
       "    </tr>\n",
       "  </tbody>\n",
       "</table>\n",
       "<p>6384144 rows × 28 columns</p>\n",
       "</div>"
      ],
      "text/plain": [
       "          gvkey iid   datadate    tic      cusip                         conm  \\\n",
       "343034     3015  01 1962-02-28  CCN.2  170520100             CHRIS-CRAFT INDS   \n",
       "1530951    9965  01 1962-02-28  SQD.1  852206101                  SQUARE D CO   \n",
       "610739     4596  01 1962-02-28  6724B  435767108             HOLLY FARMS CORP   \n",
       "335240     2968  01 1962-02-28    JPM  46625H100          JPMORGAN CHASE & CO   \n",
       "373519     3176  01 1962-02-28   CR.1  194828109  COLLINS & AIKMAN CORP  -OLD   \n",
       "...         ...  ..        ...    ...        ...                          ...   \n",
       "4942860  118181  01 2023-01-31  SRAFF  800028102     SANDFIRE RES AMERICA INC   \n",
       "5847365  176343  01 2023-01-31   CLNE  184499101      CLEAN ENERGY FUELS CORP   \n",
       "3291276   27582  01 2023-01-31   GSTC  37960P104  GLOBESTAR THERAPEUTICS CORP   \n",
       "3290378   27555  01 2023-01-31   KIDS  68752L100         ORTHOPEDIATRICS CORP   \n",
       "6384143  353945  90 2023-01-31  ACLLY  00449R109     ACCELLERON INDUSTRIES AG   \n",
       "\n",
       "         dvrate       cshtrm    prccm    trfm  ...     gsubind     sic  \\\n",
       "343034      NaN      40500.0  29.7500  1.0000  ...  25401020.0  4833.0   \n",
       "1530951    1.12          NaN  36.7500  1.0000  ...  20104010.0  3613.0   \n",
       "610739     1.20          NaN  31.2500  1.0000  ...  30202030.0  2015.0   \n",
       "335240     2.80          NaN  97.2500  1.0000  ...  40101010.0  6020.0   \n",
       "373519     0.80          NaN  28.5000  1.0070  ...  25203030.0  2221.0   \n",
       "...         ...          ...      ...     ...  ...         ...     ...   \n",
       "4942860     NaN     762334.0   0.0902  2.0862  ...  15104020.0  1000.0   \n",
       "5847365     NaN   36379133.0   5.6600  1.0000  ...  10102030.0  5500.0   \n",
       "3291276     NaN  105076751.0   0.0075  1.0000  ...  35201010.0  2836.0   \n",
       "3290378     NaN    2798049.0  47.1300  1.0000  ...  35101020.0  3842.0   \n",
       "6384143     NaN          NaN  23.4780  1.0000  ...  20104020.0  3621.0   \n",
       "\n",
       "         spcindcd  spcseccd     date_x     CPI     diff  Inflation  Value  \\\n",
       "343034      150.0     978.0 1962-02-28  1.1059  0.20107        mid    NaN   \n",
       "1530951     220.0     925.0 1962-02-28  1.1059  0.20107        mid    NaN   \n",
       "610739      250.0     978.0 1962-02-28  1.1059  0.20107        mid    NaN   \n",
       "335240      850.0     800.0 1962-02-28  1.1059  0.20107        mid    NaN   \n",
       "373519      468.0     976.0 1962-02-28  1.1059  0.20107        mid    NaN   \n",
       "...           ...       ...        ...     ...      ...        ...    ...   \n",
       "4942860       NaN       NaN        NaT     NaN      NaN        NaN    NaN   \n",
       "5847365       NaN       NaN        NaT     NaN      NaN        NaN    NaN   \n",
       "3291276       NaN       NaN        NaT     NaN      NaN        NaN    NaN   \n",
       "3290378       NaN       NaN        NaT     NaN      NaN        NaN    NaN   \n",
       "6384143       NaN       NaN        NaT     NaN      NaN        NaN    NaN   \n",
       "\n",
       "         Forecast  \n",
       "343034        NaN  \n",
       "1530951       NaN  \n",
       "610739        NaN  \n",
       "335240        NaN  \n",
       "373519        NaN  \n",
       "...           ...  \n",
       "4942860  5.608941  \n",
       "5847365  5.608941  \n",
       "3291276  5.608941  \n",
       "3290378  5.608941  \n",
       "6384143  5.608941  \n",
       "\n",
       "[6384144 rows x 28 columns]"
      ]
     },
     "execution_count": 427,
     "metadata": {},
     "output_type": "execute_result"
    }
   ],
   "source": [
    "stocks_cpi_forecast"
   ]
  },
  {
   "cell_type": "code",
   "execution_count": 428,
   "metadata": {},
   "outputs": [],
   "source": [
    "# keep only stocks past 1980\n",
    "stocks_cpi_forecast = stocks_cpi_forecast[stocks_cpi_forecast[\"datadate\"] > \"1980-01-01\"]"
   ]
  },
  {
   "cell_type": "code",
   "execution_count": 429,
   "metadata": {},
   "outputs": [],
   "source": [
    "# drop na of forecast\n",
    "\n",
    "stocks_cpi_forecast = stocks_cpi_forecast.dropna(subset=[\"Forecast\"])"
   ]
  },
  {
   "cell_type": "code",
   "execution_count": 436,
   "metadata": {},
   "outputs": [
    {
     "data": {
      "text/html": [
       "<div>\n",
       "<style scoped>\n",
       "    .dataframe tbody tr th:only-of-type {\n",
       "        vertical-align: middle;\n",
       "    }\n",
       "\n",
       "    .dataframe tbody tr th {\n",
       "        vertical-align: top;\n",
       "    }\n",
       "\n",
       "    .dataframe thead th {\n",
       "        text-align: right;\n",
       "    }\n",
       "</style>\n",
       "<table border=\"1\" class=\"dataframe\">\n",
       "  <thead>\n",
       "    <tr style=\"text-align: right;\">\n",
       "      <th></th>\n",
       "      <th>gvkey</th>\n",
       "      <th>iid</th>\n",
       "      <th>datadate</th>\n",
       "      <th>tic</th>\n",
       "      <th>cusip</th>\n",
       "      <th>conm</th>\n",
       "      <th>dvrate</th>\n",
       "      <th>cshtrm</th>\n",
       "      <th>prccm</th>\n",
       "      <th>trfm</th>\n",
       "      <th>...</th>\n",
       "      <th>gsubind</th>\n",
       "      <th>sic</th>\n",
       "      <th>spcindcd</th>\n",
       "      <th>spcseccd</th>\n",
       "      <th>date_x</th>\n",
       "      <th>CPI</th>\n",
       "      <th>diff</th>\n",
       "      <th>Inflation</th>\n",
       "      <th>Value</th>\n",
       "      <th>Forecast</th>\n",
       "    </tr>\n",
       "  </thead>\n",
       "  <tbody>\n",
       "    <tr>\n",
       "      <th>326454</th>\n",
       "      <td>2918</td>\n",
       "      <td>01</td>\n",
       "      <td>1980-01-31</td>\n",
       "      <td>CREB</td>\n",
       "      <td>158609107</td>\n",
       "      <td>CHAMPION PARTS INC</td>\n",
       "      <td>0.20</td>\n",
       "      <td>183700.0</td>\n",
       "      <td>6.500</td>\n",
       "      <td>1.3472</td>\n",
       "      <td>...</td>\n",
       "      <td>25101010.0</td>\n",
       "      <td>3714.0</td>\n",
       "      <td>130.0</td>\n",
       "      <td>976.0</td>\n",
       "      <td>1980-01-31</td>\n",
       "      <td>14.16185</td>\n",
       "      <td>0.29324</td>\n",
       "      <td>high</td>\n",
       "      <td>NaN</td>\n",
       "      <td>14.210019</td>\n",
       "    </tr>\n",
       "    <tr>\n",
       "      <th>984003</th>\n",
       "      <td>6776</td>\n",
       "      <td>01</td>\n",
       "      <td>1980-01-31</td>\n",
       "      <td>LOC</td>\n",
       "      <td>540137106</td>\n",
       "      <td>LOCTITE CORP</td>\n",
       "      <td>0.52</td>\n",
       "      <td>245300.0</td>\n",
       "      <td>32.000</td>\n",
       "      <td>1.0640</td>\n",
       "      <td>...</td>\n",
       "      <td>15101050.0</td>\n",
       "      <td>2891.0</td>\n",
       "      <td>167.0</td>\n",
       "      <td>970.0</td>\n",
       "      <td>1980-01-31</td>\n",
       "      <td>14.16185</td>\n",
       "      <td>0.29324</td>\n",
       "      <td>high</td>\n",
       "      <td>NaN</td>\n",
       "      <td>14.210019</td>\n",
       "    </tr>\n",
       "    <tr>\n",
       "      <th>1809572</th>\n",
       "      <td>11557</td>\n",
       "      <td>01</td>\n",
       "      <td>1980-01-31</td>\n",
       "      <td>WISC</td>\n",
       "      <td>977045103</td>\n",
       "      <td>WISCONSIN SOUTHERN GAS CO</td>\n",
       "      <td>1.16</td>\n",
       "      <td>2600.0</td>\n",
       "      <td>9.500</td>\n",
       "      <td>1.3205</td>\n",
       "      <td>...</td>\n",
       "      <td>55102010.0</td>\n",
       "      <td>4924.0</td>\n",
       "      <td>710.0</td>\n",
       "      <td>700.0</td>\n",
       "      <td>1980-01-31</td>\n",
       "      <td>14.16185</td>\n",
       "      <td>0.29324</td>\n",
       "      <td>high</td>\n",
       "      <td>NaN</td>\n",
       "      <td>14.210019</td>\n",
       "    </tr>\n",
       "    <tr>\n",
       "      <th>1247016</th>\n",
       "      <td>8275</td>\n",
       "      <td>01</td>\n",
       "      <td>1980-01-31</td>\n",
       "      <td>Q4</td>\n",
       "      <td>694665001</td>\n",
       "      <td>PACIFIC NOWEST BELL TELEPHON</td>\n",
       "      <td>1.64</td>\n",
       "      <td>156500.0</td>\n",
       "      <td>16.375</td>\n",
       "      <td>2.6515</td>\n",
       "      <td>...</td>\n",
       "      <td>50101020.0</td>\n",
       "      <td>4813.0</td>\n",
       "      <td>463.0</td>\n",
       "      <td>974.0</td>\n",
       "      <td>1980-01-31</td>\n",
       "      <td>14.16185</td>\n",
       "      <td>0.29324</td>\n",
       "      <td>high</td>\n",
       "      <td>NaN</td>\n",
       "      <td>14.210019</td>\n",
       "    </tr>\n",
       "    <tr>\n",
       "      <th>915438</th>\n",
       "      <td>6371</td>\n",
       "      <td>01</td>\n",
       "      <td>1980-01-31</td>\n",
       "      <td>2907B</td>\n",
       "      <td>48799X101</td>\n",
       "      <td>KELDON OIL CO-OLD</td>\n",
       "      <td>NaN</td>\n",
       "      <td>107500.0</td>\n",
       "      <td>16.000</td>\n",
       "      <td>1.0000</td>\n",
       "      <td>...</td>\n",
       "      <td>10102020.0</td>\n",
       "      <td>1311.0</td>\n",
       "      <td>380.0</td>\n",
       "      <td>935.0</td>\n",
       "      <td>1980-01-31</td>\n",
       "      <td>14.16185</td>\n",
       "      <td>0.29324</td>\n",
       "      <td>high</td>\n",
       "      <td>NaN</td>\n",
       "      <td>14.210019</td>\n",
       "    </tr>\n",
       "  </tbody>\n",
       "</table>\n",
       "<p>5 rows × 28 columns</p>\n",
       "</div>"
      ],
      "text/plain": [
       "         gvkey iid   datadate    tic      cusip                          conm  \\\n",
       "326454    2918  01 1980-01-31   CREB  158609107            CHAMPION PARTS INC   \n",
       "984003    6776  01 1980-01-31    LOC  540137106                  LOCTITE CORP   \n",
       "1809572  11557  01 1980-01-31   WISC  977045103     WISCONSIN SOUTHERN GAS CO   \n",
       "1247016   8275  01 1980-01-31     Q4  694665001  PACIFIC NOWEST BELL TELEPHON   \n",
       "915438    6371  01 1980-01-31  2907B  48799X101             KELDON OIL CO-OLD   \n",
       "\n",
       "         dvrate    cshtrm   prccm    trfm  ...     gsubind     sic  spcindcd  \\\n",
       "326454     0.20  183700.0   6.500  1.3472  ...  25101010.0  3714.0     130.0   \n",
       "984003     0.52  245300.0  32.000  1.0640  ...  15101050.0  2891.0     167.0   \n",
       "1809572    1.16    2600.0   9.500  1.3205  ...  55102010.0  4924.0     710.0   \n",
       "1247016    1.64  156500.0  16.375  2.6515  ...  50101020.0  4813.0     463.0   \n",
       "915438      NaN  107500.0  16.000  1.0000  ...  10102020.0  1311.0     380.0   \n",
       "\n",
       "         spcseccd     date_x       CPI     diff  Inflation  Value   Forecast  \n",
       "326454      976.0 1980-01-31  14.16185  0.29324       high    NaN  14.210019  \n",
       "984003      970.0 1980-01-31  14.16185  0.29324       high    NaN  14.210019  \n",
       "1809572     700.0 1980-01-31  14.16185  0.29324       high    NaN  14.210019  \n",
       "1247016     974.0 1980-01-31  14.16185  0.29324       high    NaN  14.210019  \n",
       "915438      935.0 1980-01-31  14.16185  0.29324       high    NaN  14.210019  \n",
       "\n",
       "[5 rows x 28 columns]"
      ]
     },
     "execution_count": 436,
     "metadata": {},
     "output_type": "execute_result"
    }
   ],
   "source": [
    "stocks_cpi_forecast.head()"
   ]
  },
  {
   "cell_type": "code",
   "execution_count": 444,
   "metadata": {},
   "outputs": [
    {
     "data": {
      "text/html": [
       "<div>\n",
       "<style scoped>\n",
       "    .dataframe tbody tr th:only-of-type {\n",
       "        vertical-align: middle;\n",
       "    }\n",
       "\n",
       "    .dataframe tbody tr th {\n",
       "        vertical-align: top;\n",
       "    }\n",
       "\n",
       "    .dataframe thead th {\n",
       "        text-align: right;\n",
       "    }\n",
       "</style>\n",
       "<table border=\"1\" class=\"dataframe\">\n",
       "  <thead>\n",
       "    <tr style=\"text-align: right;\">\n",
       "      <th></th>\n",
       "      <th>gvkey</th>\n",
       "      <th>iid</th>\n",
       "      <th>datadate</th>\n",
       "      <th>tic</th>\n",
       "      <th>cusip</th>\n",
       "      <th>conm</th>\n",
       "      <th>dvrate</th>\n",
       "      <th>cshtrm</th>\n",
       "      <th>prccm</th>\n",
       "      <th>trfm</th>\n",
       "      <th>...</th>\n",
       "      <th>gsubind</th>\n",
       "      <th>sic</th>\n",
       "      <th>spcindcd</th>\n",
       "      <th>spcseccd</th>\n",
       "      <th>date_x</th>\n",
       "      <th>CPI</th>\n",
       "      <th>diff</th>\n",
       "      <th>Inflation</th>\n",
       "      <th>Value</th>\n",
       "      <th>Forecast</th>\n",
       "    </tr>\n",
       "  </thead>\n",
       "  <tbody>\n",
       "    <tr>\n",
       "      <th>326454</th>\n",
       "      <td>2918</td>\n",
       "      <td>01</td>\n",
       "      <td>1980-01-31</td>\n",
       "      <td>CREB</td>\n",
       "      <td>158609107</td>\n",
       "      <td>CHAMPION PARTS INC</td>\n",
       "      <td>0.20</td>\n",
       "      <td>183700.0</td>\n",
       "      <td>6.5000</td>\n",
       "      <td>1.3472</td>\n",
       "      <td>...</td>\n",
       "      <td>25101010.0</td>\n",
       "      <td>3714.0</td>\n",
       "      <td>130.0</td>\n",
       "      <td>976.0</td>\n",
       "      <td>1980-01-31</td>\n",
       "      <td>14.16185</td>\n",
       "      <td>0.29324</td>\n",
       "      <td>high</td>\n",
       "      <td>NaN</td>\n",
       "      <td>14.210019</td>\n",
       "    </tr>\n",
       "    <tr>\n",
       "      <th>984003</th>\n",
       "      <td>6776</td>\n",
       "      <td>01</td>\n",
       "      <td>1980-01-31</td>\n",
       "      <td>LOC</td>\n",
       "      <td>540137106</td>\n",
       "      <td>LOCTITE CORP</td>\n",
       "      <td>0.52</td>\n",
       "      <td>245300.0</td>\n",
       "      <td>32.0000</td>\n",
       "      <td>1.0640</td>\n",
       "      <td>...</td>\n",
       "      <td>15101050.0</td>\n",
       "      <td>2891.0</td>\n",
       "      <td>167.0</td>\n",
       "      <td>970.0</td>\n",
       "      <td>1980-01-31</td>\n",
       "      <td>14.16185</td>\n",
       "      <td>0.29324</td>\n",
       "      <td>high</td>\n",
       "      <td>NaN</td>\n",
       "      <td>14.210019</td>\n",
       "    </tr>\n",
       "    <tr>\n",
       "      <th>1809572</th>\n",
       "      <td>11557</td>\n",
       "      <td>01</td>\n",
       "      <td>1980-01-31</td>\n",
       "      <td>WISC</td>\n",
       "      <td>977045103</td>\n",
       "      <td>WISCONSIN SOUTHERN GAS CO</td>\n",
       "      <td>1.16</td>\n",
       "      <td>2600.0</td>\n",
       "      <td>9.5000</td>\n",
       "      <td>1.3205</td>\n",
       "      <td>...</td>\n",
       "      <td>55102010.0</td>\n",
       "      <td>4924.0</td>\n",
       "      <td>710.0</td>\n",
       "      <td>700.0</td>\n",
       "      <td>1980-01-31</td>\n",
       "      <td>14.16185</td>\n",
       "      <td>0.29324</td>\n",
       "      <td>high</td>\n",
       "      <td>NaN</td>\n",
       "      <td>14.210019</td>\n",
       "    </tr>\n",
       "    <tr>\n",
       "      <th>1247016</th>\n",
       "      <td>8275</td>\n",
       "      <td>01</td>\n",
       "      <td>1980-01-31</td>\n",
       "      <td>Q4</td>\n",
       "      <td>694665001</td>\n",
       "      <td>PACIFIC NOWEST BELL TELEPHON</td>\n",
       "      <td>1.64</td>\n",
       "      <td>156500.0</td>\n",
       "      <td>16.3750</td>\n",
       "      <td>2.6515</td>\n",
       "      <td>...</td>\n",
       "      <td>50101020.0</td>\n",
       "      <td>4813.0</td>\n",
       "      <td>463.0</td>\n",
       "      <td>974.0</td>\n",
       "      <td>1980-01-31</td>\n",
       "      <td>14.16185</td>\n",
       "      <td>0.29324</td>\n",
       "      <td>high</td>\n",
       "      <td>NaN</td>\n",
       "      <td>14.210019</td>\n",
       "    </tr>\n",
       "    <tr>\n",
       "      <th>915438</th>\n",
       "      <td>6371</td>\n",
       "      <td>01</td>\n",
       "      <td>1980-01-31</td>\n",
       "      <td>2907B</td>\n",
       "      <td>48799X101</td>\n",
       "      <td>KELDON OIL CO-OLD</td>\n",
       "      <td>NaN</td>\n",
       "      <td>107500.0</td>\n",
       "      <td>16.0000</td>\n",
       "      <td>1.0000</td>\n",
       "      <td>...</td>\n",
       "      <td>10102020.0</td>\n",
       "      <td>1311.0</td>\n",
       "      <td>380.0</td>\n",
       "      <td>935.0</td>\n",
       "      <td>1980-01-31</td>\n",
       "      <td>14.16185</td>\n",
       "      <td>0.29324</td>\n",
       "      <td>high</td>\n",
       "      <td>NaN</td>\n",
       "      <td>14.210019</td>\n",
       "    </tr>\n",
       "    <tr>\n",
       "      <th>...</th>\n",
       "      <td>...</td>\n",
       "      <td>...</td>\n",
       "      <td>...</td>\n",
       "      <td>...</td>\n",
       "      <td>...</td>\n",
       "      <td>...</td>\n",
       "      <td>...</td>\n",
       "      <td>...</td>\n",
       "      <td>...</td>\n",
       "      <td>...</td>\n",
       "      <td>...</td>\n",
       "      <td>...</td>\n",
       "      <td>...</td>\n",
       "      <td>...</td>\n",
       "      <td>...</td>\n",
       "      <td>...</td>\n",
       "      <td>...</td>\n",
       "      <td>...</td>\n",
       "      <td>...</td>\n",
       "      <td>...</td>\n",
       "      <td>...</td>\n",
       "    </tr>\n",
       "    <tr>\n",
       "      <th>4942860</th>\n",
       "      <td>118181</td>\n",
       "      <td>01</td>\n",
       "      <td>2023-01-31</td>\n",
       "      <td>SRAFF</td>\n",
       "      <td>800028102</td>\n",
       "      <td>SANDFIRE RES AMERICA INC</td>\n",
       "      <td>NaN</td>\n",
       "      <td>762334.0</td>\n",
       "      <td>0.0902</td>\n",
       "      <td>2.0862</td>\n",
       "      <td>...</td>\n",
       "      <td>15104020.0</td>\n",
       "      <td>1000.0</td>\n",
       "      <td>NaN</td>\n",
       "      <td>NaN</td>\n",
       "      <td>NaT</td>\n",
       "      <td>NaN</td>\n",
       "      <td>NaN</td>\n",
       "      <td>NaN</td>\n",
       "      <td>NaN</td>\n",
       "      <td>5.608941</td>\n",
       "    </tr>\n",
       "    <tr>\n",
       "      <th>5847365</th>\n",
       "      <td>176343</td>\n",
       "      <td>01</td>\n",
       "      <td>2023-01-31</td>\n",
       "      <td>CLNE</td>\n",
       "      <td>184499101</td>\n",
       "      <td>CLEAN ENERGY FUELS CORP</td>\n",
       "      <td>NaN</td>\n",
       "      <td>36379133.0</td>\n",
       "      <td>5.6600</td>\n",
       "      <td>1.0000</td>\n",
       "      <td>...</td>\n",
       "      <td>10102030.0</td>\n",
       "      <td>5500.0</td>\n",
       "      <td>NaN</td>\n",
       "      <td>NaN</td>\n",
       "      <td>NaT</td>\n",
       "      <td>NaN</td>\n",
       "      <td>NaN</td>\n",
       "      <td>NaN</td>\n",
       "      <td>NaN</td>\n",
       "      <td>5.608941</td>\n",
       "    </tr>\n",
       "    <tr>\n",
       "      <th>3291276</th>\n",
       "      <td>27582</td>\n",
       "      <td>01</td>\n",
       "      <td>2023-01-31</td>\n",
       "      <td>GSTC</td>\n",
       "      <td>37960P104</td>\n",
       "      <td>GLOBESTAR THERAPEUTICS CORP</td>\n",
       "      <td>NaN</td>\n",
       "      <td>105076751.0</td>\n",
       "      <td>0.0075</td>\n",
       "      <td>1.0000</td>\n",
       "      <td>...</td>\n",
       "      <td>35201010.0</td>\n",
       "      <td>2836.0</td>\n",
       "      <td>NaN</td>\n",
       "      <td>NaN</td>\n",
       "      <td>NaT</td>\n",
       "      <td>NaN</td>\n",
       "      <td>NaN</td>\n",
       "      <td>NaN</td>\n",
       "      <td>NaN</td>\n",
       "      <td>5.608941</td>\n",
       "    </tr>\n",
       "    <tr>\n",
       "      <th>3290378</th>\n",
       "      <td>27555</td>\n",
       "      <td>01</td>\n",
       "      <td>2023-01-31</td>\n",
       "      <td>KIDS</td>\n",
       "      <td>68752L100</td>\n",
       "      <td>ORTHOPEDIATRICS CORP</td>\n",
       "      <td>NaN</td>\n",
       "      <td>2798049.0</td>\n",
       "      <td>47.1300</td>\n",
       "      <td>1.0000</td>\n",
       "      <td>...</td>\n",
       "      <td>35101020.0</td>\n",
       "      <td>3842.0</td>\n",
       "      <td>NaN</td>\n",
       "      <td>NaN</td>\n",
       "      <td>NaT</td>\n",
       "      <td>NaN</td>\n",
       "      <td>NaN</td>\n",
       "      <td>NaN</td>\n",
       "      <td>NaN</td>\n",
       "      <td>5.608941</td>\n",
       "    </tr>\n",
       "    <tr>\n",
       "      <th>6384143</th>\n",
       "      <td>353945</td>\n",
       "      <td>90</td>\n",
       "      <td>2023-01-31</td>\n",
       "      <td>ACLLY</td>\n",
       "      <td>00449R109</td>\n",
       "      <td>ACCELLERON INDUSTRIES AG</td>\n",
       "      <td>NaN</td>\n",
       "      <td>NaN</td>\n",
       "      <td>23.4780</td>\n",
       "      <td>1.0000</td>\n",
       "      <td>...</td>\n",
       "      <td>20104020.0</td>\n",
       "      <td>3621.0</td>\n",
       "      <td>NaN</td>\n",
       "      <td>NaN</td>\n",
       "      <td>NaT</td>\n",
       "      <td>NaN</td>\n",
       "      <td>NaN</td>\n",
       "      <td>NaN</td>\n",
       "      <td>NaN</td>\n",
       "      <td>5.608941</td>\n",
       "    </tr>\n",
       "  </tbody>\n",
       "</table>\n",
       "<p>5979694 rows × 28 columns</p>\n",
       "</div>"
      ],
      "text/plain": [
       "          gvkey iid   datadate    tic      cusip  \\\n",
       "326454     2918  01 1980-01-31   CREB  158609107   \n",
       "984003     6776  01 1980-01-31    LOC  540137106   \n",
       "1809572   11557  01 1980-01-31   WISC  977045103   \n",
       "1247016    8275  01 1980-01-31     Q4  694665001   \n",
       "915438     6371  01 1980-01-31  2907B  48799X101   \n",
       "...         ...  ..        ...    ...        ...   \n",
       "4942860  118181  01 2023-01-31  SRAFF  800028102   \n",
       "5847365  176343  01 2023-01-31   CLNE  184499101   \n",
       "3291276   27582  01 2023-01-31   GSTC  37960P104   \n",
       "3290378   27555  01 2023-01-31   KIDS  68752L100   \n",
       "6384143  353945  90 2023-01-31  ACLLY  00449R109   \n",
       "\n",
       "                                 conm  dvrate       cshtrm    prccm    trfm  \\\n",
       "326454             CHAMPION PARTS INC    0.20     183700.0   6.5000  1.3472   \n",
       "984003                   LOCTITE CORP    0.52     245300.0  32.0000  1.0640   \n",
       "1809572     WISCONSIN SOUTHERN GAS CO    1.16       2600.0   9.5000  1.3205   \n",
       "1247016  PACIFIC NOWEST BELL TELEPHON    1.64     156500.0  16.3750  2.6515   \n",
       "915438              KELDON OIL CO-OLD     NaN     107500.0  16.0000  1.0000   \n",
       "...                               ...     ...          ...      ...     ...   \n",
       "4942860      SANDFIRE RES AMERICA INC     NaN     762334.0   0.0902  2.0862   \n",
       "5847365       CLEAN ENERGY FUELS CORP     NaN   36379133.0   5.6600  1.0000   \n",
       "3291276   GLOBESTAR THERAPEUTICS CORP     NaN  105076751.0   0.0075  1.0000   \n",
       "3290378          ORTHOPEDIATRICS CORP     NaN    2798049.0  47.1300  1.0000   \n",
       "6384143      ACCELLERON INDUSTRIES AG     NaN          NaN  23.4780  1.0000   \n",
       "\n",
       "         ...     gsubind     sic  spcindcd  spcseccd     date_x       CPI  \\\n",
       "326454   ...  25101010.0  3714.0     130.0     976.0 1980-01-31  14.16185   \n",
       "984003   ...  15101050.0  2891.0     167.0     970.0 1980-01-31  14.16185   \n",
       "1809572  ...  55102010.0  4924.0     710.0     700.0 1980-01-31  14.16185   \n",
       "1247016  ...  50101020.0  4813.0     463.0     974.0 1980-01-31  14.16185   \n",
       "915438   ...  10102020.0  1311.0     380.0     935.0 1980-01-31  14.16185   \n",
       "...      ...         ...     ...       ...       ...        ...       ...   \n",
       "4942860  ...  15104020.0  1000.0       NaN       NaN        NaT       NaN   \n",
       "5847365  ...  10102030.0  5500.0       NaN       NaN        NaT       NaN   \n",
       "3291276  ...  35201010.0  2836.0       NaN       NaN        NaT       NaN   \n",
       "3290378  ...  35101020.0  3842.0       NaN       NaN        NaT       NaN   \n",
       "6384143  ...  20104020.0  3621.0       NaN       NaN        NaT       NaN   \n",
       "\n",
       "            diff  Inflation  Value   Forecast  \n",
       "326454   0.29324       high    NaN  14.210019  \n",
       "984003   0.29324       high    NaN  14.210019  \n",
       "1809572  0.29324       high    NaN  14.210019  \n",
       "1247016  0.29324       high    NaN  14.210019  \n",
       "915438   0.29324       high    NaN  14.210019  \n",
       "...          ...        ...    ...        ...  \n",
       "4942860      NaN        NaN    NaN   5.608941  \n",
       "5847365      NaN        NaN    NaN   5.608941  \n",
       "3291276      NaN        NaN    NaN   5.608941  \n",
       "3290378      NaN        NaN    NaN   5.608941  \n",
       "6384143      NaN        NaN    NaN   5.608941  \n",
       "\n",
       "[5979694 rows x 28 columns]"
      ]
     },
     "execution_count": 444,
     "metadata": {},
     "output_type": "execute_result"
    }
   ],
   "source": [
    "stocks_cpi_forecast"
   ]
  },
  {
   "cell_type": "code",
   "execution_count": null,
   "metadata": {},
   "outputs": [],
   "source": [
    "# move CPI and forecast back\n",
    "merged[\"CPI\"] = merged[\"CPI\"].shift(-1)\n",
    "merged[\"Value\"] = merged[\"Value\"].shift(-1)\n",
    "\n",
    "# drop na in CPI or Value\n",
    "merged = merged.dropna(subset=[\"CPI\", \"Value\"])\n"
   ]
  },
  {
   "cell_type": "code",
   "execution_count": 217,
   "metadata": {},
   "outputs": [
    {
     "data": {
      "text/plain": [
       "array([25., 20., 45., 15., 40., 35., 55., 50., 60., 10., 30.])"
      ]
     },
     "execution_count": 217,
     "metadata": {},
     "output_type": "execute_result"
    }
   ],
   "source": [
    "stocks[\"gsector\"].unique()"
   ]
  },
  {
   "cell_type": "code",
   "execution_count": 215,
   "metadata": {},
   "outputs": [
    {
     "data": {
      "text/plain": [
       "array([2530., 2550., 2010., 2540., 4520., 1510., 2030., 4040., 2520.,\n",
       "       2020., 3510., 3520., 4510., 4020., 5510., 5020., 6010., 4030.,\n",
       "       1010., 4530., 5010., 4010., 2510., 3030., 3010., 3020.])"
      ]
     },
     "execution_count": 215,
     "metadata": {},
     "output_type": "execute_result"
    }
   ],
   "source": [
    "# get unique groups \n",
    "stocks[\"ggroup\"].unique()"
   ]
  },
  {
   "cell_type": "code",
   "execution_count": 216,
   "metadata": {},
   "outputs": [
    {
     "data": {
      "text/plain": [
       "array([253010., 255040., 201010., 254010., 452020., 151040., 203040.,\n",
       "       452010., 404010., 452030., 201020., 252020., 202010., 351010.,\n",
       "       255010., 203010., 201060., 352020., 203020., 451030., 201030.,\n",
       "       402030., 551010., 402020., 151050., 502030., 351020., 601020.,\n",
       "       403010., 201040., 452050., 252030., 101020., 452040., 402010.,\n",
       "       101010., 453010., 501010., 203050., 151010., 401010., 201050.,\n",
       "       251010., 551040., 303020., 301010., 252010., 203030., 601010.,\n",
       "       352010., 302020., 551020., 255030., 501020., 451020., 151020.,\n",
       "       302010., 251020., 151030., 451010., 253020., 201070., 551030.,\n",
       "       302030., 551050., 404020., 303010., 352030., 202020., 255020.,\n",
       "       502010., 502020., 401020., 351030., 404030., 402040.])"
      ]
     },
     "execution_count": 216,
     "metadata": {},
     "output_type": "execute_result"
    }
   ],
   "source": [
    "stocks[\"gind\"].unique()"
   ]
  },
  {
   "cell_type": "code",
   "execution_count": 149,
   "metadata": {},
   "outputs": [],
   "source": [
    "sector = sector.unstack().reset_index().merge(gics[[\"Sector\", \"SectorId\"]], how=\"left\", left_on=\"gsector\", right_on=\"SectorId\")"
   ]
  },
  {
   "cell_type": "code",
   "execution_count": 155,
   "metadata": {},
   "outputs": [
    {
     "data": {
      "text/html": [
       "<div>\n",
       "<style scoped>\n",
       "    .dataframe tbody tr th:only-of-type {\n",
       "        vertical-align: middle;\n",
       "    }\n",
       "\n",
       "    .dataframe tbody tr th {\n",
       "        vertical-align: top;\n",
       "    }\n",
       "\n",
       "    .dataframe thead th {\n",
       "        text-align: right;\n",
       "    }\n",
       "</style>\n",
       "<table border=\"1\" class=\"dataframe\">\n",
       "  <thead>\n",
       "    <tr style=\"text-align: right;\">\n",
       "      <th></th>\n",
       "      <th>gsector</th>\n",
       "      <th>deflation</th>\n",
       "      <th>low</th>\n",
       "      <th>mid</th>\n",
       "      <th>high</th>\n",
       "      <th>Sector</th>\n",
       "      <th>SectorId</th>\n",
       "    </tr>\n",
       "  </thead>\n",
       "  <tbody>\n",
       "    <tr>\n",
       "      <th>0</th>\n",
       "      <td>10.0</td>\n",
       "      <td>1.577615</td>\n",
       "      <td>-0.392708</td>\n",
       "      <td>1.679970</td>\n",
       "      <td>2.027825</td>\n",
       "      <td>Energy</td>\n",
       "      <td>10</td>\n",
       "    </tr>\n",
       "    <tr>\n",
       "      <th>1</th>\n",
       "      <td>10.0</td>\n",
       "      <td>1.577615</td>\n",
       "      <td>-0.392708</td>\n",
       "      <td>1.679970</td>\n",
       "      <td>2.027825</td>\n",
       "      <td>Energy</td>\n",
       "      <td>10</td>\n",
       "    </tr>\n",
       "    <tr>\n",
       "      <th>2</th>\n",
       "      <td>10.0</td>\n",
       "      <td>1.577615</td>\n",
       "      <td>-0.392708</td>\n",
       "      <td>1.679970</td>\n",
       "      <td>2.027825</td>\n",
       "      <td>Energy</td>\n",
       "      <td>10</td>\n",
       "    </tr>\n",
       "    <tr>\n",
       "      <th>3</th>\n",
       "      <td>10.0</td>\n",
       "      <td>1.577615</td>\n",
       "      <td>-0.392708</td>\n",
       "      <td>1.679970</td>\n",
       "      <td>2.027825</td>\n",
       "      <td>Energy</td>\n",
       "      <td>10</td>\n",
       "    </tr>\n",
       "    <tr>\n",
       "      <th>4</th>\n",
       "      <td>10.0</td>\n",
       "      <td>1.577615</td>\n",
       "      <td>-0.392708</td>\n",
       "      <td>1.679970</td>\n",
       "      <td>2.027825</td>\n",
       "      <td>Energy</td>\n",
       "      <td>10</td>\n",
       "    </tr>\n",
       "    <tr>\n",
       "      <th>...</th>\n",
       "      <td>...</td>\n",
       "      <td>...</td>\n",
       "      <td>...</td>\n",
       "      <td>...</td>\n",
       "      <td>...</td>\n",
       "      <td>...</td>\n",
       "      <td>...</td>\n",
       "    </tr>\n",
       "    <tr>\n",
       "      <th>153</th>\n",
       "      <td>60.0</td>\n",
       "      <td>3.471733</td>\n",
       "      <td>-0.513265</td>\n",
       "      <td>1.779125</td>\n",
       "      <td>0.798481</td>\n",
       "      <td>Real Estate</td>\n",
       "      <td>60</td>\n",
       "    </tr>\n",
       "    <tr>\n",
       "      <th>154</th>\n",
       "      <td>60.0</td>\n",
       "      <td>3.471733</td>\n",
       "      <td>-0.513265</td>\n",
       "      <td>1.779125</td>\n",
       "      <td>0.798481</td>\n",
       "      <td>Real Estate</td>\n",
       "      <td>60</td>\n",
       "    </tr>\n",
       "    <tr>\n",
       "      <th>155</th>\n",
       "      <td>60.0</td>\n",
       "      <td>3.471733</td>\n",
       "      <td>-0.513265</td>\n",
       "      <td>1.779125</td>\n",
       "      <td>0.798481</td>\n",
       "      <td>Real Estate</td>\n",
       "      <td>60</td>\n",
       "    </tr>\n",
       "    <tr>\n",
       "      <th>156</th>\n",
       "      <td>60.0</td>\n",
       "      <td>3.471733</td>\n",
       "      <td>-0.513265</td>\n",
       "      <td>1.779125</td>\n",
       "      <td>0.798481</td>\n",
       "      <td>Real Estate</td>\n",
       "      <td>60</td>\n",
       "    </tr>\n",
       "    <tr>\n",
       "      <th>157</th>\n",
       "      <td>60.0</td>\n",
       "      <td>3.471733</td>\n",
       "      <td>-0.513265</td>\n",
       "      <td>1.779125</td>\n",
       "      <td>0.798481</td>\n",
       "      <td>Real Estate</td>\n",
       "      <td>60</td>\n",
       "    </tr>\n",
       "  </tbody>\n",
       "</table>\n",
       "<p>158 rows × 7 columns</p>\n",
       "</div>"
      ],
      "text/plain": [
       "     gsector  deflation       low       mid      high       Sector  SectorId\n",
       "0       10.0   1.577615 -0.392708  1.679970  2.027825       Energy        10\n",
       "1       10.0   1.577615 -0.392708  1.679970  2.027825       Energy        10\n",
       "2       10.0   1.577615 -0.392708  1.679970  2.027825       Energy        10\n",
       "3       10.0   1.577615 -0.392708  1.679970  2.027825       Energy        10\n",
       "4       10.0   1.577615 -0.392708  1.679970  2.027825       Energy        10\n",
       "..       ...        ...       ...       ...       ...          ...       ...\n",
       "153     60.0   3.471733 -0.513265  1.779125  0.798481  Real Estate        60\n",
       "154     60.0   3.471733 -0.513265  1.779125  0.798481  Real Estate        60\n",
       "155     60.0   3.471733 -0.513265  1.779125  0.798481  Real Estate        60\n",
       "156     60.0   3.471733 -0.513265  1.779125  0.798481  Real Estate        60\n",
       "157     60.0   3.471733 -0.513265  1.779125  0.798481  Real Estate        60\n",
       "\n",
       "[158 rows x 7 columns]"
      ]
     },
     "execution_count": 155,
     "metadata": {},
     "output_type": "execute_result"
    }
   ],
   "source": [
    "sector"
   ]
  },
  {
   "cell_type": "code",
   "execution_count": 156,
   "metadata": {},
   "outputs": [
    {
     "ename": "KeyError",
     "evalue": "'trt1m'",
     "output_type": "error",
     "traceback": [
      "\u001b[0;31m---------------------------------------------------------------------------\u001b[0m",
      "\u001b[0;31mKeyError\u001b[0m                                  Traceback (most recent call last)",
      "File \u001b[0;32m/opt/anaconda3/lib/python3.9/site-packages/pandas/core/indexes/base.py:3802\u001b[0m, in \u001b[0;36mIndex.get_loc\u001b[0;34m(self, key, method, tolerance)\u001b[0m\n\u001b[1;32m   3801\u001b[0m \u001b[39mtry\u001b[39;00m:\n\u001b[0;32m-> 3802\u001b[0m     \u001b[39mreturn\u001b[39;00m \u001b[39mself\u001b[39;49m\u001b[39m.\u001b[39;49m_engine\u001b[39m.\u001b[39;49mget_loc(casted_key)\n\u001b[1;32m   3803\u001b[0m \u001b[39mexcept\u001b[39;00m \u001b[39mKeyError\u001b[39;00m \u001b[39mas\u001b[39;00m err:\n",
      "File \u001b[0;32m/opt/anaconda3/lib/python3.9/site-packages/pandas/_libs/index.pyx:138\u001b[0m, in \u001b[0;36mpandas._libs.index.IndexEngine.get_loc\u001b[0;34m()\u001b[0m\n",
      "File \u001b[0;32m/opt/anaconda3/lib/python3.9/site-packages/pandas/_libs/index.pyx:165\u001b[0m, in \u001b[0;36mpandas._libs.index.IndexEngine.get_loc\u001b[0;34m()\u001b[0m\n",
      "File \u001b[0;32mpandas/_libs/hashtable_class_helper.pxi:5745\u001b[0m, in \u001b[0;36mpandas._libs.hashtable.PyObjectHashTable.get_item\u001b[0;34m()\u001b[0m\n",
      "File \u001b[0;32mpandas/_libs/hashtable_class_helper.pxi:5753\u001b[0m, in \u001b[0;36mpandas._libs.hashtable.PyObjectHashTable.get_item\u001b[0;34m()\u001b[0m\n",
      "\u001b[0;31mKeyError\u001b[0m: 'trt1m'",
      "\nThe above exception was the direct cause of the following exception:\n",
      "\u001b[0;31mKeyError\u001b[0m                                  Traceback (most recent call last)",
      "\u001b[1;32m/Users/rudra/Library/CloudStorage/OneDrive-Personal/Documents/Analytical_Finance_ML/inflation_trading/gics.ipynb Cell 42\u001b[0m in \u001b[0;36m<cell line: 6>\u001b[0;34m()\u001b[0m\n\u001b[1;32m      <a href='vscode-notebook-cell:/Users/rudra/Library/CloudStorage/OneDrive-Personal/Documents/Analytical_Finance_ML/inflation_trading/gics.ipynb#X65sZmlsZQ%3D%3D?line=3'>4</a>\u001b[0m fig \u001b[39m=\u001b[39m go\u001b[39m.\u001b[39mFigure()\n\u001b[1;32m      <a href='vscode-notebook-cell:/Users/rudra/Library/CloudStorage/OneDrive-Personal/Documents/Analytical_Finance_ML/inflation_trading/gics.ipynb#X65sZmlsZQ%3D%3D?line=5'>6</a>\u001b[0m \u001b[39mfor\u001b[39;00m i \u001b[39min\u001b[39;00m sector[\u001b[39m\"\u001b[39m\u001b[39mSector\u001b[39m\u001b[39m\"\u001b[39m]\u001b[39m.\u001b[39munique():\n\u001b[0;32m----> <a href='vscode-notebook-cell:/Users/rudra/Library/CloudStorage/OneDrive-Personal/Documents/Analytical_Finance_ML/inflation_trading/gics.ipynb#X65sZmlsZQ%3D%3D?line=6'>7</a>\u001b[0m     fig\u001b[39m.\u001b[39madd_trace(go\u001b[39m.\u001b[39mBar(x\u001b[39m=\u001b[39msector[sector[\u001b[39m\"\u001b[39m\u001b[39mSector\u001b[39m\u001b[39m\"\u001b[39m] \u001b[39m==\u001b[39m i], y\u001b[39m=\u001b[39msector[sector[\u001b[39m\"\u001b[39;49m\u001b[39mSector\u001b[39;49m\u001b[39m\"\u001b[39;49m] \u001b[39m==\u001b[39;49m i][\u001b[39m\"\u001b[39;49m\u001b[39mtrt1m\u001b[39;49m\u001b[39m\"\u001b[39;49m], name\u001b[39m=\u001b[39mi))\n\u001b[1;32m      <a href='vscode-notebook-cell:/Users/rudra/Library/CloudStorage/OneDrive-Personal/Documents/Analytical_Finance_ML/inflation_trading/gics.ipynb#X65sZmlsZQ%3D%3D?line=8'>9</a>\u001b[0m fig\u001b[39m.\u001b[39mshow()\n",
      "File \u001b[0;32m/opt/anaconda3/lib/python3.9/site-packages/pandas/core/frame.py:3807\u001b[0m, in \u001b[0;36mDataFrame.__getitem__\u001b[0;34m(self, key)\u001b[0m\n\u001b[1;32m   3805\u001b[0m \u001b[39mif\u001b[39;00m \u001b[39mself\u001b[39m\u001b[39m.\u001b[39mcolumns\u001b[39m.\u001b[39mnlevels \u001b[39m>\u001b[39m \u001b[39m1\u001b[39m:\n\u001b[1;32m   3806\u001b[0m     \u001b[39mreturn\u001b[39;00m \u001b[39mself\u001b[39m\u001b[39m.\u001b[39m_getitem_multilevel(key)\n\u001b[0;32m-> 3807\u001b[0m indexer \u001b[39m=\u001b[39m \u001b[39mself\u001b[39;49m\u001b[39m.\u001b[39;49mcolumns\u001b[39m.\u001b[39;49mget_loc(key)\n\u001b[1;32m   3808\u001b[0m \u001b[39mif\u001b[39;00m is_integer(indexer):\n\u001b[1;32m   3809\u001b[0m     indexer \u001b[39m=\u001b[39m [indexer]\n",
      "File \u001b[0;32m/opt/anaconda3/lib/python3.9/site-packages/pandas/core/indexes/base.py:3804\u001b[0m, in \u001b[0;36mIndex.get_loc\u001b[0;34m(self, key, method, tolerance)\u001b[0m\n\u001b[1;32m   3802\u001b[0m     \u001b[39mreturn\u001b[39;00m \u001b[39mself\u001b[39m\u001b[39m.\u001b[39m_engine\u001b[39m.\u001b[39mget_loc(casted_key)\n\u001b[1;32m   3803\u001b[0m \u001b[39mexcept\u001b[39;00m \u001b[39mKeyError\u001b[39;00m \u001b[39mas\u001b[39;00m err:\n\u001b[0;32m-> 3804\u001b[0m     \u001b[39mraise\u001b[39;00m \u001b[39mKeyError\u001b[39;00m(key) \u001b[39mfrom\u001b[39;00m \u001b[39merr\u001b[39;00m\n\u001b[1;32m   3805\u001b[0m \u001b[39mexcept\u001b[39;00m \u001b[39mTypeError\u001b[39;00m:\n\u001b[1;32m   3806\u001b[0m     \u001b[39m# If we have a listlike key, _check_indexing_error will raise\u001b[39;00m\n\u001b[1;32m   3807\u001b[0m     \u001b[39m#  InvalidIndexError. Otherwise we fall through and re-raise\u001b[39;00m\n\u001b[1;32m   3808\u001b[0m     \u001b[39m#  the TypeError.\u001b[39;00m\n\u001b[1;32m   3809\u001b[0m     \u001b[39mself\u001b[39m\u001b[39m.\u001b[39m_check_indexing_error(key)\n",
      "\u001b[0;31mKeyError\u001b[0m: 'trt1m'"
     ]
    }
   ],
   "source": [
    "# plot get each sector grouped bar chart with bars of each inflation regime by plotly\n",
    "import plotly.graph_objects as go\n",
    "\n",
    "fig = go.Figure()\n",
    "\n",
    "for i in sector[\"Sector\"].unique():\n",
    "    fig.add_trace(go.Bar(x=sector[sector[\"Sector\"] == i], y=sector[sector[\"Sector\"] == i][\"trt1m\"], name=i))\n",
    "\n",
    "fig.show()\n"
   ]
  },
  {
   "cell_type": "code",
   "execution_count": null,
   "metadata": {},
   "outputs": [],
   "source": []
  }
 ],
 "metadata": {
  "kernelspec": {
   "display_name": "Python 3.9.12 64-bit ('anaconda3')",
   "language": "python",
   "name": "python3"
  },
  "language_info": {
   "codemirror_mode": {
    "name": "ipython",
    "version": 3
   },
   "file_extension": ".py",
   "mimetype": "text/x-python",
   "name": "python",
   "nbconvert_exporter": "python",
   "pygments_lexer": "ipython3",
   "version": "3.9.12"
  },
  "orig_nbformat": 4,
  "vscode": {
   "interpreter": {
    "hash": "40d3a090f54c6569ab1632332b64b2c03c39dcf918b08424e98f38b5ae0af88f"
   }
  }
 },
 "nbformat": 4,
 "nbformat_minor": 2
}
