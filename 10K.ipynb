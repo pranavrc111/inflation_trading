{
 "cells": [
  {
   "cell_type": "code",
   "execution_count": 1,
   "metadata": {},
   "outputs": [],
   "source": [
    "import pandas as pd\n",
    "from selenium import webdriver \n",
    "from selenium.webdriver.common.keys import Keys \n",
    "from selenium.webdriver.chrome.options import Options\n",
    "from selenium.webdriver.support import expected_conditions as EC\n",
    "from selenium.webdriver.common.by import By\n",
    "from selenium.webdriver.support.ui import WebDriverWait\n",
    "from bs4 import BeautifulSoup\n",
    "from itertools import takewhile, chain\n",
    "from time import sleep\n",
    "import re\n",
    "from bs4.element import Tag\n",
    "from typing import List\n",
    "from tqdm import tqdm\n",
    "import requests\n",
    "import json\n"
   ]
  },
  {
   "cell_type": "code",
   "execution_count": 4,
   "metadata": {},
   "outputs": [
    {
     "ename": "FileNotFoundError",
     "evalue": "[Errno 2] No such file or directory: 'demo_links.parquet'",
     "output_type": "error",
     "traceback": [
      "\u001b[0;31m---------------------------------------------------------------------------\u001b[0m",
      "\u001b[0;31mFileNotFoundError\u001b[0m                         Traceback (most recent call last)",
      "\u001b[1;32m/Users/rudra/Library/CloudStorage/OneDrive-Personal/Documents/Analytical_Finance_ML/inflation_trading/10K.ipynb Cell 2\u001b[0m in \u001b[0;36m<cell line: 1>\u001b[0;34m()\u001b[0m\n\u001b[0;32m----> <a href='vscode-notebook-cell:/Users/rudra/Library/CloudStorage/OneDrive-Personal/Documents/Analytical_Finance_ML/inflation_trading/10K.ipynb#W1sZmlsZQ%3D%3D?line=0'>1</a>\u001b[0m data\u001b[39m=\u001b[39mpd\u001b[39m.\u001b[39;49mread_parquet(\u001b[39m'\u001b[39;49m\u001b[39mdemo_links.parquet\u001b[39;49m\u001b[39m'\u001b[39;49m)\n\u001b[1;32m      <a href='vscode-notebook-cell:/Users/rudra/Library/CloudStorage/OneDrive-Personal/Documents/Analytical_Finance_ML/inflation_trading/10K.ipynb#W1sZmlsZQ%3D%3D?line=1'>2</a>\u001b[0m data\u001b[39m=\u001b[39mdata\u001b[39m.\u001b[39msort_values(by\u001b[39m=\u001b[39m\u001b[39m'\u001b[39m\u001b[39mdate\u001b[39m\u001b[39m'\u001b[39m,ascending\u001b[39m=\u001b[39m\u001b[39mFalse\u001b[39;00m)\n\u001b[1;32m      <a href='vscode-notebook-cell:/Users/rudra/Library/CloudStorage/OneDrive-Personal/Documents/Analytical_Finance_ML/inflation_trading/10K.ipynb#W1sZmlsZQ%3D%3D?line=2'>3</a>\u001b[0m data\u001b[39m.\u001b[39mhead()\n",
      "File \u001b[0;32m/opt/anaconda3/lib/python3.9/site-packages/pandas/io/parquet.py:493\u001b[0m, in \u001b[0;36mread_parquet\u001b[0;34m(path, engine, columns, storage_options, use_nullable_dtypes, **kwargs)\u001b[0m\n\u001b[1;32m    446\u001b[0m \u001b[39m\"\"\"\u001b[39;00m\n\u001b[1;32m    447\u001b[0m \u001b[39mLoad a parquet object from the file path, returning a DataFrame.\u001b[39;00m\n\u001b[1;32m    448\u001b[0m \n\u001b[0;32m   (...)\u001b[0m\n\u001b[1;32m    489\u001b[0m \u001b[39mDataFrame\u001b[39;00m\n\u001b[1;32m    490\u001b[0m \u001b[39m\"\"\"\u001b[39;00m\n\u001b[1;32m    491\u001b[0m impl \u001b[39m=\u001b[39m get_engine(engine)\n\u001b[0;32m--> 493\u001b[0m \u001b[39mreturn\u001b[39;00m impl\u001b[39m.\u001b[39;49mread(\n\u001b[1;32m    494\u001b[0m     path,\n\u001b[1;32m    495\u001b[0m     columns\u001b[39m=\u001b[39;49mcolumns,\n\u001b[1;32m    496\u001b[0m     storage_options\u001b[39m=\u001b[39;49mstorage_options,\n\u001b[1;32m    497\u001b[0m     use_nullable_dtypes\u001b[39m=\u001b[39;49muse_nullable_dtypes,\n\u001b[1;32m    498\u001b[0m     \u001b[39m*\u001b[39;49m\u001b[39m*\u001b[39;49mkwargs,\n\u001b[1;32m    499\u001b[0m )\n",
      "File \u001b[0;32m/opt/anaconda3/lib/python3.9/site-packages/pandas/io/parquet.py:340\u001b[0m, in \u001b[0;36mFastParquetImpl.read\u001b[0;34m(self, path, columns, storage_options, **kwargs)\u001b[0m\n\u001b[1;32m    333\u001b[0m         parquet_kwargs[\u001b[39m\"\u001b[39m\u001b[39mopen_with\u001b[39m\u001b[39m\"\u001b[39m] \u001b[39m=\u001b[39m \u001b[39mlambda\u001b[39;00m path, _: fsspec\u001b[39m.\u001b[39mopen(\n\u001b[1;32m    334\u001b[0m             path, \u001b[39m\"\u001b[39m\u001b[39mrb\u001b[39m\u001b[39m\"\u001b[39m, \u001b[39m*\u001b[39m\u001b[39m*\u001b[39m(storage_options \u001b[39mor\u001b[39;00m {})\n\u001b[1;32m    335\u001b[0m         )\u001b[39m.\u001b[39mopen()\n\u001b[1;32m    336\u001b[0m \u001b[39melif\u001b[39;00m \u001b[39misinstance\u001b[39m(path, \u001b[39mstr\u001b[39m) \u001b[39mand\u001b[39;00m \u001b[39mnot\u001b[39;00m os\u001b[39m.\u001b[39mpath\u001b[39m.\u001b[39misdir(path):\n\u001b[1;32m    337\u001b[0m     \u001b[39m# use get_handle only when we are very certain that it is not a directory\u001b[39;00m\n\u001b[1;32m    338\u001b[0m     \u001b[39m# fsspec resources can also point to directories\u001b[39;00m\n\u001b[1;32m    339\u001b[0m     \u001b[39m# this branch is used for example when reading from non-fsspec URLs\u001b[39;00m\n\u001b[0;32m--> 340\u001b[0m     handles \u001b[39m=\u001b[39m get_handle(\n\u001b[1;32m    341\u001b[0m         path, \u001b[39m\"\u001b[39;49m\u001b[39mrb\u001b[39;49m\u001b[39m\"\u001b[39;49m, is_text\u001b[39m=\u001b[39;49m\u001b[39mFalse\u001b[39;49;00m, storage_options\u001b[39m=\u001b[39;49mstorage_options\n\u001b[1;32m    342\u001b[0m     )\n\u001b[1;32m    343\u001b[0m     path \u001b[39m=\u001b[39m handles\u001b[39m.\u001b[39mhandle\n\u001b[1;32m    345\u001b[0m parquet_file \u001b[39m=\u001b[39m \u001b[39mself\u001b[39m\u001b[39m.\u001b[39mapi\u001b[39m.\u001b[39mParquetFile(path, \u001b[39m*\u001b[39m\u001b[39m*\u001b[39mparquet_kwargs)\n",
      "File \u001b[0;32m/opt/anaconda3/lib/python3.9/site-packages/pandas/io/common.py:798\u001b[0m, in \u001b[0;36mget_handle\u001b[0;34m(path_or_buf, mode, encoding, compression, memory_map, is_text, errors, storage_options)\u001b[0m\n\u001b[1;32m    796\u001b[0m \u001b[39melif\u001b[39;00m compression \u001b[39m==\u001b[39m \u001b[39m\"\u001b[39m\u001b[39mtar\u001b[39m\u001b[39m\"\u001b[39m:\n\u001b[1;32m    797\u001b[0m     compression_args\u001b[39m.\u001b[39msetdefault(\u001b[39m\"\u001b[39m\u001b[39mmode\u001b[39m\u001b[39m\"\u001b[39m, ioargs\u001b[39m.\u001b[39mmode)\n\u001b[0;32m--> 798\u001b[0m     \u001b[39mif\u001b[39;00m \u001b[39misinstance\u001b[39m(handle, \u001b[39mstr\u001b[39m):\n\u001b[1;32m    799\u001b[0m         handle \u001b[39m=\u001b[39m _BytesTarFile(name\u001b[39m=\u001b[39mhandle, \u001b[39m*\u001b[39m\u001b[39m*\u001b[39mcompression_args)\n\u001b[1;32m    800\u001b[0m     \u001b[39melse\u001b[39;00m:\n\u001b[1;32m    801\u001b[0m         \u001b[39m# error: Argument \"fileobj\" to \"_BytesTarFile\" has incompatible\u001b[39;00m\n\u001b[1;32m    802\u001b[0m         \u001b[39m# type \"BaseBuffer\"; expected \"Union[ReadBuffer[bytes],\u001b[39;00m\n\u001b[1;32m    803\u001b[0m         \u001b[39m# WriteBuffer[bytes], None]\"\u001b[39;00m\n",
      "\u001b[0;31mFileNotFoundError\u001b[0m: [Errno 2] No such file or directory: 'demo_links.parquet'"
     ]
    }
   ],
   "source": [
    "data=pd.read_parquet('demo_links.parquet')\n",
    "data=data.sort_values(by='date',ascending=False)\n",
    "data.head()"
   ]
  },
  {
   "cell_type": "code",
   "execution_count": 5,
   "metadata": {},
   "outputs": [],
   "source": [
    "#Iterates from label to label and gets text in between(don't ignore case)\n",
    "#by taking the `html` variable from the question.\n",
    "def extract_item_text(link,driver):\n",
    "    dict={}\n",
    "    # html=requests.get(link)\n",
    "    driver.get(link)\n",
    "    soup = BeautifulSoup(driver.page_source,'lxml')\n",
    "    #This snipet accounts for change in case between 10ks\n",
    "    tags=[]\n",
    "    tags_og=soup.find_all(string=re.compile(\"ITEM\"))\n",
    "    tags_og+=soup.find_all(string=re.compile(\"Item\"))\n",
    "    for tag in tags_og:\n",
    "        #Convert navigable string to string for comparison\n",
    "        string = str(tag.string)\n",
    "        if  string[0:4]=='Item' or string[0:4]=='ITEM':\n",
    "            tags.append(tag)\n",
    "    #Loop through all Item tags picked up\n",
    "    # print(tags)\n",
    "    for i in range(len(tags)): \n",
    "        p='' \n",
    "        #Gets all remaining text\n",
    "        string=tags[i].find_all_next(string=True)\n",
    "        #We loop through all remaining text and then cut it off when we see the next tag\n",
    "        for w in range(len(string)):\n",
    "            p+=string[w]\n",
    "            if i+1>=len(tags):\n",
    "                while w<len(string):\n",
    "                    p+=string[w]\n",
    "                    w+=1\n",
    "                break\n",
    "            if tags[i+1] in string[w]:\n",
    "                break\n",
    "        #Add cut off text to dictionary\n",
    "        dict[tags[i]]=p\n",
    "        # data.append(dict)\n",
    "    return dict"
   ]
  },
  {
   "cell_type": "code",
   "execution_count": 5,
   "metadata": {},
   "outputs": [],
   "source": [
    "with open('10ks.json', encoding='utf-8') as F:\n",
    "    dict = json.loads(F.read())"
   ]
  },
  {
   "cell_type": "code",
   "execution_count": 6,
   "metadata": {},
   "outputs": [],
   "source": []
  },
  {
   "cell_type": "code",
   "execution_count": 23,
   "metadata": {},
   "outputs": [
    {
     "name": "stderr",
     "output_type": "stream",
     "text": [
      "/var/folders/m6/h9jtrhyn259fytxp6j9xh9v00000gn/T/ipykernel_17926/3436935186.py:6: DeprecationWarning: executable_path has been deprecated, please pass in a Service object\n",
      "  driver = webdriver.Chrome(f'/Users/rudra/Library/CloudStorage/OneDrive-Personal/Documents/Analytical_Finance_ML/inflation_trading/chromedriver',options=chrome_options)\n",
      "100%|██████████| 1/1 [00:04<00:00,  4.98s/it]\n"
     ]
    }
   ],
   "source": [
    "import json\n",
    "chrome_options=Options()\n",
    "# chrome_options.add_argument('--headless')\n",
    "dict={}\n",
    "#Add path of chromedriver and add options\n",
    "driver = webdriver.Chrome(f'/Users/rudra/Library/CloudStorage/OneDrive-Personal/Documents/Analytical_Finance_ML/inflation_trading/chromedriver',options=chrome_options) \n",
    "#links=data['link'].reset_index()\n",
    "#links=links['link']\n",
    "links = ['https://www.sec.gov/Archives/edgar/data/320193/000032019322000108/aapl-20220924.htm']\n",
    "i=0\n",
    "for item in tqdm(links):\n",
    "    if item not in dict.keys():\n",
    "        # if i%10==0:\n",
    "        #     json_file=json.dumps(dict)\n",
    "        #     with open(\"10ks.json\", \"w\") as outfile:\n",
    "        #         outfile.write(json_file)\n",
    "        result=extract_item_text(item,driver)\n",
    "        dict[item]=result.copy()\n",
    "        \n",
    "        json_file=json.dumps(dict)\n",
    "        with open(\"10ks.json\", \"w\") as outfile:\n",
    "            outfile.write(json_file)\n",
    "        i+=1\n",
    "#Change chromedriver to requests library to avoid error"
   ]
  },
  {
   "cell_type": "code",
   "execution_count": null,
   "metadata": {},
   "outputs": [],
   "source": [
    "dict"
   ]
  },
  {
   "cell_type": "code",
   "execution_count": 7,
   "metadata": {},
   "outputs": [],
   "source": [
    "import json\n",
    "json_file=json.dumps(dict)"
   ]
  },
  {
   "cell_type": "code",
   "execution_count": 8,
   "metadata": {},
   "outputs": [],
   "source": [
    "with open(\"10ks.json\", \"w\") as outfile:\n",
    "    outfile.write(json_file)"
   ]
  },
  {
   "cell_type": "code",
   "execution_count": null,
   "metadata": {},
   "outputs": [],
   "source": [
    "dict[links[956]]"
   ]
  },
  {
   "cell_type": "code",
   "execution_count": null,
   "metadata": {},
   "outputs": [],
   "source": []
  },
  {
   "cell_type": "code",
   "execution_count": null,
   "metadata": {},
   "outputs": [],
   "source": []
  },
  {
   "cell_type": "code",
   "execution_count": null,
   "metadata": {},
   "outputs": [],
   "source": []
  },
  {
   "cell_type": "code",
   "execution_count": 25,
   "metadata": {},
   "outputs": [],
   "source": [
    "from sec_api import ExtractorApi"
   ]
  },
  {
   "cell_type": "code",
   "execution_count": 26,
   "metadata": {},
   "outputs": [],
   "source": [
    "extractorApi = ExtractorApi(\"399f1f12e5b8f64d78f9ac9c5fca3c1797221994f6137dac3549ba502556abf9\")\n"
   ]
  },
  {
   "cell_type": "code",
   "execution_count": null,
   "metadata": {},
   "outputs": [],
   "source": []
  },
  {
   "cell_type": "code",
   "execution_count": null,
   "metadata": {},
   "outputs": [],
   "source": []
  },
  {
   "cell_type": "code",
   "execution_count": 4,
   "metadata": {},
   "outputs": [],
   "source": [
    "fillings = pd.read_csv(\"10k_links.csv\")"
   ]
  },
  {
   "cell_type": "code",
   "execution_count": 26,
   "metadata": {},
   "outputs": [],
   "source": [
    "url = fillings.iloc[1][1]"
   ]
  },
  {
   "cell_type": "code",
   "execution_count": null,
   "metadata": {},
   "outputs": [],
   "source": []
  },
  {
   "cell_type": "code",
   "execution_count": 27,
   "metadata": {},
   "outputs": [],
   "source": [
    "sections_10k = [\"1\", \"1A\", \"1B\", \"2\", \"3\", \"4\", \"5\", \"6\", \"7\", \"7A\", \"8\", \"9\", \"9A\", \"9B\", \"10\", \"11\", \"12\", \"13\", \"14\"]"
   ]
  },
  {
   "cell_type": "code",
   "execution_count": 28,
   "metadata": {},
   "outputs": [
    {
     "data": {
      "text/plain": [
       "'https://www.sec.gov/Archives/edgar/data/1551152/000155115222000007/abbv-20211231.htm'"
      ]
     },
     "execution_count": 28,
     "metadata": {},
     "output_type": "execute_result"
    }
   ],
   "source": [
    "url"
   ]
  },
  {
   "cell_type": "code",
   "execution_count": 29,
   "metadata": {},
   "outputs": [],
   "source": [
    "#soup = BeautifulSoup(requests.get(url).content, \"html.parser\")"
   ]
  },
  {
   "cell_type": "code",
   "execution_count": 30,
   "metadata": {},
   "outputs": [
    {
     "name": "stderr",
     "output_type": "stream",
     "text": [
      "/var/folders/m6/h9jtrhyn259fytxp6j9xh9v00000gn/T/ipykernel_23083/3920258546.py:1: DeprecationWarning: executable_path has been deprecated, please pass in a Service object\n",
      "  driver = webdriver.Chrome(f'/Users/rudra/Library/CloudStorage/OneDrive-Personal/Documents/Analytical_Finance_ML/inflation_trading/chromedriver')\n"
     ]
    }
   ],
   "source": [
    "\n",
    "driver = webdriver.Chrome(f'/Users/rudra/Library/CloudStorage/OneDrive-Personal/Documents/Analytical_Finance_ML/inflation_trading/chromedriver') "
   ]
  },
  {
   "cell_type": "code",
   "execution_count": 36,
   "metadata": {},
   "outputs": [],
   "source": [
    "driver.get(url)\n",
    "\n",
    "html_source = driver.page_source\n",
    "\n",
    "driver.close()"
   ]
  },
  {
   "cell_type": "code",
   "execution_count": 37,
   "metadata": {},
   "outputs": [],
   "source": [
    "soup = BeautifulSoup(html_source)"
   ]
  },
  {
   "cell_type": "code",
   "execution_count": null,
   "metadata": {},
   "outputs": [],
   "source": []
  },
  {
   "cell_type": "code",
   "execution_count": 13,
   "metadata": {},
   "outputs": [],
   "source": [
    "def item_span(tag):\n",
    "    print(tag.parent.contents[0])\n",
    "    return tag.name=='span' and 'Item' in tag.parent.contents[0]"
   ]
  },
  {
   "cell_type": "code",
   "execution_count": null,
   "metadata": {},
   "outputs": [],
   "source": [
    "tags = soup.findAll(\"span\")"
   ]
  },
  {
   "cell_type": "code",
   "execution_count": 88,
   "metadata": {},
   "outputs": [],
   "source": [
    "tags = soup.findAll(\"span\")"
   ]
  },
  {
   "cell_type": "code",
   "execution_count": 38,
   "metadata": {},
   "outputs": [],
   "source": [
    "temp = soup.find_all('span', text = re.compile('Item'))"
   ]
  },
  {
   "cell_type": "code",
   "execution_count": 39,
   "metadata": {},
   "outputs": [],
   "source": [
    "temp = [ x for x in temp if \"/a\" not in str(x)]"
   ]
  },
  {
   "cell_type": "code",
   "execution_count": 40,
   "metadata": {},
   "outputs": [
    {
     "data": {
      "text/plain": [
       "[<span style=\"color:#000000;font-family:'Calibri',sans-serif;font-size:10pt;font-weight:400;line-height:100%\">Item 1.</span>,\n",
       " <span style=\"color:#000000;font-family:'Calibri',sans-serif;font-size:10pt;font-weight:400;line-height:100%\">Item 1A.</span>,\n",
       " <span style=\"color:#000000;font-family:'Calibri',sans-serif;font-size:10pt;font-weight:400;line-height:100%\">Item 1B.</span>,\n",
       " <span style=\"color:#000000;font-family:'Calibri',sans-serif;font-size:10pt;font-weight:400;line-height:100%\">Item 2.</span>,\n",
       " <span style=\"color:#000000;font-family:'Calibri',sans-serif;font-size:10pt;font-weight:400;line-height:100%\">Item 3.</span>,\n",
       " <span style=\"color:#000000;font-family:'Calibri',sans-serif;font-size:10pt;font-weight:400;line-height:100%\">Item 4.</span>,\n",
       " <span style=\"color:#000000;font-family:'Calibri',sans-serif;font-size:10pt;font-weight:400;line-height:100%\">Item 5.</span>,\n",
       " <span style=\"color:#000000;font-family:'Calibri',sans-serif;font-size:10pt;font-weight:400;line-height:100%\">Item 6.</span>,\n",
       " <span style=\"color:#000000;font-family:'Calibri',sans-serif;font-size:10pt;font-weight:400;line-height:100%\">Item 7.</span>,\n",
       " <span style=\"color:#000000;font-family:'Calibri',sans-serif;font-size:10pt;font-weight:400;line-height:100%\">Item 7A.</span>,\n",
       " <span style=\"color:#000000;font-family:'Calibri',sans-serif;font-size:10pt;font-weight:400;line-height:100%\">Item 8.</span>,\n",
       " <span style=\"color:#000000;font-family:'Calibri',sans-serif;font-size:10pt;font-weight:400;line-height:100%\">Item 9.</span>,\n",
       " <span style=\"color:#000000;font-family:'Calibri',sans-serif;font-size:10pt;font-weight:400;line-height:100%\">Item 9A.</span>,\n",
       " <span style=\"color:#000000;font-family:'Calibri',sans-serif;font-size:10pt;font-weight:400;line-height:100%\">Item 9B.</span>,\n",
       " <span style=\"color:#000000;font-family:'Calibri',sans-serif;font-size:10pt;font-weight:400;line-height:100%\">Item 10.</span>,\n",
       " <span style=\"color:#000000;font-family:'Calibri',sans-serif;font-size:10pt;font-weight:400;line-height:100%\">Item 11.</span>,\n",
       " <span style=\"color:#000000;font-family:'Calibri',sans-serif;font-size:10pt;font-weight:400;line-height:100%\">Item 12.</span>,\n",
       " <span style=\"color:#000000;font-family:'Calibri',sans-serif;font-size:10pt;font-weight:400;line-height:100%\">Item 13.</span>,\n",
       " <span style=\"color:#000000;font-family:'Calibri',sans-serif;font-size:10pt;font-weight:400;line-height:100%\">Item 14.</span>,\n",
       " <span style=\"color:#000000;font-family:'Calibri',sans-serif;font-size:10pt;font-weight:400;line-height:100%\">Item 15.</span>,\n",
       " <span style=\"color:#000000;font-family:'Calibri',sans-serif;font-size:10pt;font-weight:400;line-height:100%\">Item 16.</span>,\n",
       " <span style=\"color:#000000;font-family:'Calibri',sans-serif;font-size:10pt;font-weight:400;line-height:120%\">The novel coronavirus (COVID-19) pandemic continues to spread throughout the United States and around the world. As COVID-19 continues to have an impact worldwide, AbbVie is focused on the health and safety of its employees, health care professionals and patients and communities. In the continued operation of its business, AbbVie has followed health and safety guidance from relevant health authorities, managed manufacturing and supply chain resources and monitored closely its clinical trial sites. See Item 7, \"Management's Discussion and Analysis of Financial Condition and Results of Operations—Impact of the Coronavirus Disease 2019 (COVID-19).\"</span>,\n",
       " <span style=\"color:#000000;font-family:'Calibri',sans-serif;font-size:10pt;font-weight:400;line-height:120%\">AbbVie operates as a single global business segment dedicated to the research and development, manufacturing, commercialization and sale of innovative medicines and therapies. This operating structure enables the Chief Executive Officer, as chief operating decision maker (CODM), to allocate resources and assess business performance on a global basis in order to achieve established long-term strategic goals. Consistent with this structure, a global research and development and supply chain organization is responsible for the discovery, development, manufacturing and supply of products. Commercial efforts that coordinate the marketing, sales and distribution of these products are organized by geographic region or therapeutic area. All of these activities are supported by a global corporate administrative staff. The determination of a single business segment is consistent with the consolidated financial information regularly reviewed by the CODM for purposes of assessing performance, allocating resources and planning and forecasting future periods. See Note 16, \"Segment and Geographic Area Information\" to the Consolidated Financial Statements included under Item 8, \"Financial Statements and Supplementary Data\" and the sales information related to AbbVie's key products and geographies included under Item 7, \"Management's Discussion and Analysis of Financial Condition and Results of Operations.\"</span>,\n",
       " <span style=\"color:#000000;font-family:'Calibri',sans-serif;font-size:10pt;font-weight:400;line-height:120%\">In addition to its independent efforts to develop and market products, AbbVie enters into arrangements such as acquisitions, option-to-acquire agreements, licensing arrangements, option-to-license arrangements, strategic alliances, co-promotion arrangements, co-development and co-marketing agreements and joint ventures. The acquisitions and option-to-acquire agreements typically include, among other terms and conditions, non-refundable purchase price payments or option fees, option exercise payments, milestones or earn-outs and other customary terms and obligations. The licensing and other arrangements typically include, among other terms and conditions, non-refundable upfront license fees, option fees and option exercise payments, milestone payments and royalty and/or profit sharing obligations. See Note 5, \"Licensing, Acquisitions and Other Arrangements—Other Licensing &amp; Acquisitions Activity,\" to the Consolidated Financial Statements included under Item 8, \"Financial Statements and Supplementary Data.\"</span>,\n",
       " <span style=\"color:#000000;font-family:'Calibri',sans-serif;font-size:10pt;font-weight:400;line-height:120%\">AbbVie is also party to certain collaborations and other arrangements, as discussed in Note 5, \"Licensing, Acquisitions and Other Arrangements—Other Licensing &amp; Acquisitions Activity,\" to the Consolidated Financial Statements included under Item 8, \"Financial Statements and Supplementary Data.\"</span>,\n",
       " <span style=\"color:#000000;font-family:'Calibri',sans-serif;font-size:10pt;font-weight:400;line-height:120%\">AbbVie's principal patents and trademarks are described in greater detail in Item 1, \"Business—Intellectual Property Protection and Regulatory Exclusivity\" and Item 7, \"Management's Discussion and Analysis of Financial Condition and Results of Operations—Results of Operations,\" and litigation regarding these patents is described in Item 3, \"Legal Proceedings.\" The United States composition of matter patent for Humira, which is AbbVie's largest product and had worldwide net revenues of approximately $20.7 billion in 2021, expired in December 2016, and the equivalent European Union patent expired in the majority of European Union countries in October 2018.</span>,\n",
       " <span style=\"color:#000000;font-family:'Calibri',sans-serif;font-size:10pt;font-weight:400;line-height:120%\">AbbVie is also the subject of other claims, legal proceedings and investigations in the ordinary course of business, which relate to the intellectual property, commercial, securities and other matters. Adverse outcomes in such claims, legal proceedings and investigations may also adversely affect AbbVie’s business and results of operations. Additionally, Allergan has been named as a defendant in approximately 3,130 matters relating to the promotion and sale of prescription opioid pain relievers and additional suits may be filed. See Note 15, \"Legal Proceedings and Contingencies\" to the Consolidated Financial Statements included under Item 8, \"Financial Statements and Supplementary Data.\" AbbVie cannot predict the outcome of these proceedings.</span>,\n",
       " <span style=\"color:#000000;font-family:'Calibri',sans-serif;font-size:10pt;font-weight:400;line-height:120%\">Cost-containment efforts by governments and private organizations are described in greater detail in Item 1, \"Business—Regulation—Commercialization, Distribution and Manufacturing.\" To the extent these cost containment efforts are not offset by greater demand, increased patient access to health care, or other factors, AbbVie's future revenues and operating earnings will be reduced. In the United States, the European Union and other countries, AbbVie's business has experienced downward pressure on product pricing, and this pressure could increase in the future.</span>,\n",
       " <span style=\"color:#000000;font-family:'Calibri',sans-serif;font-size:10pt;font-weight:400;line-height:115%\">AbbVie's products are subject to rigorous regulation by numerous international, supranational, federal and state authorities, as described in Item 1, \"Business—Regulation—Discovery and Clinical Development,” “Business—Regulation—Commercialization, Distribution and Manufacturing,” and “Business—Regulation—Medical Devices.” The process of obtaining regulatory approvals to market a pharmaceutical product can be costly and time consuming, and approvals might not be granted for future products, or additional indications or uses of existing products, on a timely basis, if at all. Delays in the receipt of, or failure to obtain approvals for, future products, or new indications and uses, could result in delayed realization of product revenues, reduction in revenues and substantial additional costs.</span>,\n",
       " <span style=\"color:#000000;font-family:'Calibri',sans-serif;font-size:10pt;font-weight:400;line-height:120%\">Although AbbVie expects to pay regular cash dividends, the timing, declaration, amount and payment of future dividends to stockholders will fall within the discretion of AbbVie's board of directors. The board's decisions regarding the payment of dividends will depend on many factors, such as AbbVie's financial condition, earnings, capital requirements, debt service obligations, industry practice, legal requirements, regulatory constraints and other factors that the board deems relevant. For more information, see Item 5, \"Market for Registrant's Common Equity, Related Stockholder Matters and Issuer Purchases of Equity Securities.\" AbbVie's ability to pay dividends will depend on its ongoing ability to generate cash from operations and access capital markets. AbbVie cannot guarantee that it will continue to pay a dividend in the future.</span>,\n",
       " <span style=\"color:#000000;font-family:'Calibri',sans-serif;font-size:10pt;font-weight:400;line-height:120%\">This Annual Report on Form 10-K contains certain forward looking statements regarding business strategies, market potential, future financial performance and other matters. The words \"believe,\" \"expect,\" \"anticipate,\" \"project\" and similar expressions, among others, generally identify \"forward looking statements,\" which speak only as of the date the statements were made. The matters discussed in these forward looking statements are subject to risks, uncertainties and other factors that could cause actual results to differ materially from those projected, anticipated or implied in the forward looking statements. In particular, information included under Item 1, \"Business,\" Item 1A, \"Risk Factors,\" and Item 7, \"Management's Discussion and Analysis of Financial Condition and Results of Operations\" contain forward looking statements. Where, in any forward looking statement, an expectation or belief as to future results or events is expressed, such expectation or belief is based on the current plans and expectations of AbbVie management and expressed in good faith and believed to have a reasonable basis, but there can be no assurance that the expectation or belief will result or be achieved or accomplished. Factors that could cause actual results or events to differ materially from those anticipated include the matters described under Item 1A, \"Risk Factors\" and Item 7, \"Management's Discussion and Analysis of Financial Condition and Results of Operations.\" AbbVie does not undertake any obligation to update the forward-looking statements included in this Annual Report on Form 10-K to reflect events or circumstances after the date hereof, unless AbbVie is required by applicable securities law to do so.</span>,\n",
       " <span style=\"color:#000000;font-family:'Calibri',sans-serif;font-size:10pt;font-weight:400;line-height:120%\">Information pertaining to legal proceedings is provided in Note 15, \"Legal Proceedings and Contingencies\" to the Consolidated Financial Statements included under Item 8, \"Financial Statements and Supplementary Data,\" and is incorporated by reference herein.</span>,\n",
       " <span style=\"color:#000000;font-family:'Calibri',sans-serif;font-size:10pt;font-weight:400;line-height:120%\">The following is a discussion and analysis of the financial condition of AbbVie Inc. (AbbVie or the company). This commentary should be read in conjunction with the Consolidated Financial Statements and accompanying notes appearing in Item 8, \"Financial Statements and Supplementary Data.\" This section of this Form 10-K generally discusses 2021 and 2020 items and year-to-year comparisons between 2021 and 2020. Discussions of 2019 items and year-to-year comparisons between 2020 and 2019 that are not included in this Form 10-K can be found in “Management's Discussion and Analysis of Financial Condition and Results of Operations” in Part II, Item 7 of the Company’s Annual Report on Form 10-K for the fiscal year ended December 31, 2020.</span>,\n",
       " <span style=\"color:#000000;font-family:'Calibri',sans-serif;font-size:10pt;font-weight:400;line-height:120%;padding-left:13.02pt\">The favorable impact of pipeline products and indications recently approved or currently under regulatory review where approval is expected in 2022. These products are described in greater detail in the section labeled \"Research and Development\" included as part of this Item 7.</span>,\n",
       " <span style=\"color:#000000;font-family:'Calibri',sans-serif;font-size:10pt;font-weight:400;line-height:120%\">    See Item 8, \"Financial Statements and Supplementary Data,\" on page 48 hereof, for a list of financial statements.</span>,\n",
       " <span style=\"color:#000000;font-family:'Calibri',sans-serif;font-size:10pt;font-style:italic;font-weight:400;line-height:120%;padding-left:6.88pt\">Exhibits Required by Item 601 of Regulation S-K:</span>,\n",
       " <span style=\"color:#000000;font-family:'Calibri',sans-serif;font-size:10pt;font-weight:400;line-height:120%\">    The information called for by this paragraph is set forth in Item 15(b) below.</span>]"
      ]
     },
     "execution_count": 40,
     "metadata": {},
     "output_type": "execute_result"
    }
   ],
   "source": [
    "temp"
   ]
  },
  {
   "cell_type": "code",
   "execution_count": 25,
   "metadata": {},
   "outputs": [
    {
     "data": {
      "text/plain": [
       "[<span style=\"color:#000000;font-family:'Helvetica',sans-serif;font-size:9pt;font-style:italic;font-weight:400;line-height:120%\">This Annual Report on Form 10-K (“Form 10-K”) contains forward-looking statements, within the meaning of the Private Securities Litigation Reform Act of 1995, that involve risks and uncertainties. Many of the forward-looking statements are located in Part I, Item 1 of this Form 10-K under the heading “Business” and Part II, Item 7 of this Form 10-K under the heading “Management’s Discussion and Analysis of Financial Condition and Results of Operations.” Forward-looking statements provide current expectations of future events based on certain assumptions and include any statement that does not directly relate to any historical or current fact. For example, statements in this Form 10-K regarding the potential future impact of the COVID-19 pandemic on the Company’s business and results of operations are forward-looking statements. Forward-looking statements can also be identified by words such as “future,” “anticipates,” “believes,” “estimates,” “expects,” “intends,” “plans,” “predicts,” “will,” “would,” “could,” “can,” “may,” and similar terms. Forward-looking statements are not guarantees of future performance and the Company’s actual results may differ significantly from the results discussed in the forward-looking statements. Factors that might cause such differences include, but are not limited to, those discussed in Part I, Item 1A of this Form 10-K under the heading “Risk Factors.” The Company assumes no obligation to revise or update any forward-looking statements for any reason, except as required by law.</span>,\n",
       " <span style=\"color:#000000;font-family:'Helvetica',sans-serif;font-size:9pt;font-weight:700;line-height:120%\">Item 1.    Business</span>,\n",
       " <span style=\"color:#000000;font-family:'Helvetica',sans-serif;font-size:9pt;font-weight:700;line-height:120%\">Item 1A.    Risk Factors</span>,\n",
       " <span style=\"color:#000000;font-family:'Helvetica',sans-serif;font-size:9pt;font-weight:400;line-height:120%\">This section should be read in conjunction with Part II, Item 7, “Management’s Discussion and Analysis of Financial Condition and Results of Operations” and the consolidated financial statements and accompanying notes in Part II, Item 8, “Financial Statements and Supplementary Data” of this Form 10-K.</span>,\n",
       " <span style=\"color:#000000;font-family:'Helvetica',sans-serif;font-size:9pt;font-weight:400;line-height:120%\">To the extent the COVID-19 pandemic adversely affects the Company’s business, results of operations, financial condition and stock price, it may also have the effect of heightening many of the other risks described in this Part I, Item 1A of this Form 10-K.</span>,\n",
       " <span style=\"color:#000000;font-family:'Helvetica',sans-serif;font-size:9pt;font-weight:400;line-height:120%\">Except as described in Part I, Item 3 of this Form 10-K under the heading “Legal Proceedings” and in Part II, Item 8 of this Form 10-K in the Notes to Consolidated Financial Statements in Note 10, “Commitments and Contingencies” under the heading “Contingencies,” in the opinion of management, there was not at least a reasonable possibility the Company may have incurred a material loss, or a material loss greater than a recorded accrual, concerning loss contingencies for asserted legal and other claims.</span>,\n",
       " <span style=\"color:#000000;font-family:'Helvetica',sans-serif;font-size:9pt;font-weight:700;line-height:120%\">Item 1B.    Unresolved Staff Comments</span>,\n",
       " <span style=\"color:#000000;font-family:'Helvetica',sans-serif;font-size:9pt;font-weight:700;line-height:120%\">Item 2.    Properties</span>,\n",
       " <span style=\"color:#000000;font-family:'Helvetica',sans-serif;font-size:9pt;font-weight:700;line-height:120%\">Item 3.    Legal Proceedings</span>,\n",
       " <span style=\"color:#000000;font-family:'Helvetica',sans-serif;font-size:9pt;font-weight:700;line-height:120%\">Item 4.    Mine Safety Disclosures</span>,\n",
       " <span style=\"color:#000000;font-family:'Helvetica',sans-serif;font-size:9pt;font-weight:700;line-height:120%\">Item 5.    Market for Registrant’s Common Equity, Related Stockholder Matters and Issuer Purchases of Equity Securities</span>,\n",
       " <span style=\"color:#000000;font-family:'Helvetica',sans-serif;font-size:9pt;font-weight:700;line-height:120%\">Item 6.    [Reserved]</span>,\n",
       " <span style=\"color:#000000;font-family:'Helvetica',sans-serif;font-size:9pt;font-weight:700;line-height:120%\">Item 7.    Management’s Discussion and Analysis of Financial Condition and Results of Operations</span>,\n",
       " <span style=\"color:#000000;font-family:'Helvetica',sans-serif;font-size:9pt;font-style:italic;font-weight:400;line-height:120%\">The following discussion should be read in conjunction with the consolidated financial statements and accompanying notes included in Part II, Item 8 of this Form 10-K. This section of this Form 10-K generally discusses 2022 and 2021 items and year-to-year comparisons between 2022 and 2021. Discussions of 2020 items and year-to-year comparisons between 2021 and 2020 are not included in this Form 10-K, and can be found in “Management’s Discussion and Analysis of Financial Condition and Results of Operations” in Part II, Item 7 of the Company’s Annual Report on Form 10-K for the fiscal year ended September 25, 2021.</span>,\n",
       " <span style=\"color:#000000;font-family:'Helvetica',sans-serif;font-size:9pt;font-weight:400;line-height:120%\">The Company manages its business primarily on a geographic basis. The Company’s reportable segments consist of the Americas, Europe, Greater China, Japan and Rest of Asia Pacific. Americas includes both North and South America. Europe includes European countries, as well as India, the Middle East and Africa. Greater China includes China mainland, Hong Kong and Taiwan. Rest of Asia Pacific includes Australia and those Asian countries not included in the Company’s other reportable segments. Although the reportable segments provide similar hardware and software products and similar services, each one is managed separately to better align with the location of the Company’s customers and distribution partners and the unique market dynamics of each geographic region. Further information regarding the Company’s reportable segments can be found in Part II, Item 8 of this Form 10-K in the Notes to Consolidated Financial Statements in Note 11, “Segment Information and Geographic Data.”</span>,\n",
       " <span style=\"color:#000000;font-family:'Helvetica',sans-serif;font-size:9pt;font-weight:400;line-height:120%\">The Company’s future gross margins can be impacted by a variety of factors, as discussed in Part I, Item 1A of this Form 10-K under the heading “Risk Factors.” As a result, the Company believes, in general, gross margins will be subject to volatility and downward pressure.</span>,\n",
       " <span style=\"color:#000000;font-family:'Helvetica',sans-serif;font-size:9pt;font-weight:400;line-height:120%\">The preparation of financial statements and related disclosures in conformity with U.S. generally accepted accounting principles (“GAAP”) and the Company’s discussion and analysis of its financial condition and operating results require the Company’s management to make judgments, assumptions and estimates that affect the amounts reported. Note 1, “Summary of Significant Accounting Policies” of the Notes to Consolidated Financial Statements in Part II, Item 8 of this Form 10-K describes the significant accounting policies and methods used in the preparation of the Company’s consolidated financial statements. Management bases its estimates on historical experience and on various other assumptions it believes to be reasonable under the circumstances, the results of which form the basis for making judgments about the carrying values of assets and liabilities.</span>,\n",
       " <span style=\"color:#000000;font-family:'Helvetica',sans-serif;font-size:9pt;font-weight:700;line-height:120%\">Item 7A.    Quantitative and Qualitative Disclosures About Market Risk</span>,\n",
       " <span style=\"color:#000000;font-family:'Helvetica',sans-serif;font-size:9pt;font-weight:700;line-height:120%\">Item 8.    Financial Statements and Supplementary Data</span>,\n",
       " <span style=\"color:#000000;font-family:'Helvetica',sans-serif;font-size:8pt;font-weight:700;line-height:100%\">Financial Statement Line Items</span>,\n",
       " <span style=\"color:#000000;font-family:'Helvetica',sans-serif;font-size:9pt;font-weight:700;line-height:120%\">Item 9.    Changes in and Disagreements with Accountants on Accounting and Financial Disclosure</span>,\n",
       " <span style=\"color:#000000;font-family:'Helvetica',sans-serif;font-size:9pt;font-weight:700;line-height:120%\">Item 9A.    Controls and Procedures</span>,\n",
       " <span style=\"color:#000000;font-family:'Helvetica',sans-serif;font-size:9pt;font-weight:400;line-height:120%\">The Company’s management is responsible for establishing and maintaining adequate internal control over financial reporting (as defined in Rule 13a-15(f) under the Exchange Act). Management conducted an assessment of the effectiveness of the Company’s internal control over financial reporting based on the criteria set forth in Internal Control – Integrated Framework issued by the Committee of Sponsoring Organizations of the Treadway Commission (2013 framework). Based on the Company’s assessment, management has concluded that its internal control over financial reporting was effective as of September 24, 2022 to provide reasonable assurance regarding the reliability of financial reporting and the preparation of financial statements in accordance with GAAP. The Company’s independent registered public accounting firm, Ernst &amp; Young LLP, has issued an audit report on the Company’s internal control over financial reporting, which appears in Part II, Item 8 of this Form 10-K.</span>,\n",
       " <span style=\"color:#000000;font-family:'Helvetica',sans-serif;font-size:9pt;font-weight:700;line-height:120%\">Item 9B.    Other Information</span>,\n",
       " <span style=\"color:#000000;font-family:'Helvetica',sans-serif;font-size:9pt;font-weight:700;line-height:120%\">Item 9C.    Disclosure Regarding Foreign Jurisdictions that Prevent Inspections</span>,\n",
       " <span style=\"color:#000000;font-family:'Helvetica',sans-serif;font-size:9pt;font-weight:700;line-height:120%\">Item 10.    Directors, Executive Officers and Corporate Governance</span>,\n",
       " <span style=\"color:#000000;font-family:'Helvetica',sans-serif;font-size:9pt;font-weight:400;line-height:120%\">The information required by this Item will be included in the Company’s definitive proxy statement to be filed with the SEC within 120 days after September 24, 2022, in connection with the solicitation of proxies for the Company’s 2023 annual meeting of shareholders (the “2023 Proxy Statement”), and is incorporated herein by reference.</span>,\n",
       " <span style=\"color:#000000;font-family:'Helvetica',sans-serif;font-size:9pt;font-weight:700;line-height:120%\">Item 11.    Executive Compensation</span>,\n",
       " <span style=\"color:#000000;font-family:'Helvetica',sans-serif;font-size:9pt;font-weight:400;line-height:120%\">The information required by this Item will be included in the 2023 Proxy Statement, and is incorporated herein by reference.</span>,\n",
       " <span style=\"color:#000000;font-family:'Helvetica',sans-serif;font-size:9pt;font-weight:700;line-height:120%\">Item 12.    Security Ownership of Certain Beneficial Owners and Management and Related Stockholder Matters</span>,\n",
       " <span style=\"color:#000000;font-family:'Helvetica',sans-serif;font-size:9pt;font-weight:400;line-height:120%\">The information required by this Item will be included in the 2023 Proxy Statement, and is incorporated herein by reference.</span>,\n",
       " <span style=\"color:#000000;font-family:'Helvetica',sans-serif;font-size:9pt;font-weight:700;line-height:120%\">Item 13.    Certain Relationships and Related Transactions, and Director Independence</span>,\n",
       " <span style=\"color:#000000;font-family:'Helvetica',sans-serif;font-size:9pt;font-weight:400;line-height:120%\">The information required by this Item will be included in the 2023 Proxy Statement, and is incorporated herein by reference.</span>,\n",
       " <span style=\"color:#000000;font-family:'Helvetica',sans-serif;font-size:9pt;font-weight:700;line-height:120%\">Item 14.    Principal Accountant Fees and Services</span>,\n",
       " <span style=\"color:#000000;font-family:'Helvetica',sans-serif;font-size:9pt;font-weight:400;line-height:120%\">The information required by this Item will be included in the 2023 Proxy Statement, and is incorporated herein by reference.</span>,\n",
       " <span style=\"color:#000000;font-family:'Helvetica',sans-serif;font-size:9pt;font-weight:700;line-height:120%\">Item 15.    Exhibit and Financial Statement Schedules</span>,\n",
       " <span style=\"color:#000000;font-family:'Helvetica',sans-serif;font-size:9pt;font-weight:700;line-height:120%;padding-left:7.02pt\">Exhibits required by Item 601 of Regulation S-K </span>,\n",
       " <span style=\"color:#000000;font-family:'Helvetica',sans-serif;font-size:9pt;font-weight:400;line-height:100%\">Inline XBRL Document Set for the consolidated financial statements and accompanying notes in Part II, Item 8, “Financial Statements and Supplementary Data” of this Annual Report on Form 10-K.</span>,\n",
       " <span style=\"color:#000000;font-family:'Helvetica',sans-serif;font-size:8pt;font-weight:400;line-height:120%;padding-left:8.24pt\">Certain instruments defining the rights of holders of long-term debt securities of the Registrant are omitted pursuant to Item 601(b)(4)(iii) of Regulation S-K. The Registrant hereby undertakes to furnish to the SEC, upon request, copies of any such instruments.</span>,\n",
       " <span style=\"color:#000000;font-family:'Helvetica',sans-serif;font-size:9pt;font-weight:700;line-height:120%\">Item 16.    Form 10-K Summary</span>]"
      ]
     },
     "execution_count": 25,
     "metadata": {},
     "output_type": "execute_result"
    }
   ],
   "source": [
    "temp"
   ]
  },
  {
   "cell_type": "code",
   "execution_count": 38,
   "metadata": {},
   "outputs": [
    {
     "name": "stdout",
     "output_type": "stream",
     "text": [
      "Item 1\n",
      "Item 1A\n",
      "Item 1B\n",
      "Item 2\n",
      "Item 3\n",
      "Item 4\n",
      "Item 5\n",
      "Item 6\n",
      "Item 7\n",
      "Item 7A\n",
      "Item 8\n",
      "Item 9\n",
      "Item 9A\n",
      "Item 9B\n",
      "Item 10\n",
      "Item 11\n",
      "Item 12\n",
      "Item 13\n",
      "Item 14\n"
     ]
    }
   ],
   "source": [
    "\n",
    "\n",
    "for section in sections_10k:\n",
    "    section_header = \"Item \" + section\n",
    "    "
   ]
  },
  {
   "cell_type": "code",
   "execution_count": null,
   "metadata": {},
   "outputs": [],
   "source": []
  },
  {
   "cell_type": "code",
   "execution_count": null,
   "metadata": {},
   "outputs": [],
   "source": []
  },
  {
   "cell_type": "code",
   "execution_count": 33,
   "metadata": {},
   "outputs": [],
   "source": [
    "section_text = extractorApi.get_section(test, \"1A\", \"text\")"
   ]
  },
  {
   "cell_type": "code",
   "execution_count": null,
   "metadata": {},
   "outputs": [],
   "source": [
    "section_text"
   ]
  },
  {
   "cell_type": "code",
   "execution_count": null,
   "metadata": {},
   "outputs": [],
   "source": []
  }
 ],
 "metadata": {
  "kernelspec": {
   "display_name": "Python 3.9.12 64-bit ('anaconda3')",
   "language": "python",
   "name": "python3"
  },
  "language_info": {
   "codemirror_mode": {
    "name": "ipython",
    "version": 3
   },
   "file_extension": ".py",
   "mimetype": "text/x-python",
   "name": "python",
   "nbconvert_exporter": "python",
   "pygments_lexer": "ipython3",
   "version": "3.9.12"
  },
  "orig_nbformat": 4,
  "vscode": {
   "interpreter": {
    "hash": "40d3a090f54c6569ab1632332b64b2c03c39dcf918b08424e98f38b5ae0af88f"
   }
  }
 },
 "nbformat": 4,
 "nbformat_minor": 2
}
